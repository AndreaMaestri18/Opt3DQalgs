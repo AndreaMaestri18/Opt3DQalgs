{
 "cells": [
  {
   "cell_type": "code",
   "execution_count": 1,
   "metadata": {},
   "outputs": [
    {
     "data": {
      "text/plain": [
       "U2 (generic function with 1 method)"
      ]
     },
     "metadata": {},
     "output_type": "display_data"
    }
   ],
   "source": [
    "include(\"../Algebra/Gradients.jl\")\n",
    "include(\"../Algebra/Hamiltonians.jl\")\n",
    "include(\"../Algebra/Matrices.jl\")\n",
    "include(\"../Algebra/Propagators.jl\")\n",
    "include(\"../Amplitudes/Chebyshev.jl\")\n",
    "include(\"../Costs/Costs.jl\")\n",
    "include(\"../Gates/Xgate.jl\")"
   ]
  },
  {
   "cell_type": "code",
   "execution_count": 2,
   "metadata": {},
   "outputs": [],
   "source": [
    "using LinearAlgebra, Optim, Measures, CSV, DataFrames,Plots"
   ]
  },
  {
   "cell_type": "code",
   "execution_count": 3,
   "metadata": {},
   "outputs": [
    {
     "data": {
      "text/plain": [
       "0.1"
      ]
     },
     "metadata": {},
     "output_type": "display_data"
    }
   ],
   "source": [
    "ω_c = 5000\n",
    "ω_q = 3000\n",
    "χ = 3e-1\n",
    "N = 4\n",
    "amp_c = 1\n",
    "amp_q = 1\n",
    "T = 0.1"
   ]
  },
  {
   "attachments": {},
   "cell_type": "markdown",
   "metadata": {},
   "source": [
    "### Target gate"
   ]
  },
  {
   "cell_type": "code",
   "execution_count": 4,
   "metadata": {},
   "outputs": [
    {
     "data": {
      "text/plain": [
       "8×8 Matrix{ComplexF64}:\n",
       " 0.699251+0.714876im       0.0+0.0im       …       0.0+0.0im\n",
       "      0.0+0.0im       0.699251-0.714876im          0.0+0.0im\n",
       "      0.0+0.0im            0.0+0.0im               0.0+0.0im\n",
       "      0.0+0.0im            0.0+0.0im               0.0+0.0im\n",
       "      0.0+0.0im            0.0+0.0im               0.0+0.0im\n",
       "      0.0+0.0im            0.0+0.0im       …       0.0+0.0im\n",
       "      0.0+0.0im            0.0+0.0im               0.0+0.0im\n",
       "      0.0+0.0im            0.0+0.0im          0.633413+0.773814im"
      ]
     },
     "metadata": {},
     "output_type": "display_data"
    }
   ],
   "source": [
    "I_qubit = Matrix(I,2,2)\n",
    "I_cavity = Matrix(I,N,N)\n",
    "#X_gate = kron(x_gate(N, Array[[3,4], [5,6], [7,8]]), I_qubit)\n",
    "#X_gate = kron(x_gate(N, Array[[1,2]]), I_qubit)\n",
    "X_gate = kron(x_gate(N, Array[[3,4]]), I_qubit)\n",
    "\n",
    "θ = π/2.5\n",
    "RZ = kron(Rz(N, Array[[1,3]], θ), I_qubit)\n",
    "RX = kron(Rx(N, Array[[3,4]], θ/4), I_qubit)\n",
    "Udue = kron(U2(N, Array[[3,4]], [θ/2 θ/3 θ/4] ), I_qubit)\n",
    "\n",
    "sx = kron(I_cavity, [0 1; 1 0])\n",
    "sy = kron(I_cavity, [0 -1im; 1im 0])\n",
    "# generating matrices\n",
    "a,adag,sp,sm,sz = generate_matrices(N)\n",
    "\n",
    "ψ_initial = zeros(N)\n",
    "ψ_initial[1] = 1\n",
    "ψ_initial = kron(ψ_initial/norm(ψ_initial), [0,1])\n",
    "\n",
    "ψ_initial_rand = rand(N)\n",
    "ψ_initial_rand = kron(ψ_initial_rand/norm(ψ_initial_rand), [0,1])\n",
    "ψ_final_u = Udue * ψ_initial_rand\n",
    "ψ_final_x = RX * ψ_initial_rand\n",
    "ψ_final_x_gate = X_gate * ψ_initial_rand\n",
    "ψ_final_superposition = kron(ones(N)/norm(ones(N)), [0,1])\n",
    "\n",
    "ψ_final_k = zeros(N)\n",
    "ψ_final_k[4] = 1\n",
    "ψ_final_k = kron(ψ_final_k/norm(ψ_final_k), [0,1])\n",
    "\n",
    "\n",
    "interaction_transformation(t) = cis(- (ω_c * a' * a + ω_q / 2 * sz) * t)\n",
    "int_transformation = interaction_transformation(T)"
   ]
  },
  {
   "cell_type": "code",
   "execution_count": 5,
   "metadata": {},
   "outputs": [
    {
     "data": {
      "text/plain": [
       "8×8 Matrix{Float64}:\n",
       " 0.0  0.0  0.0    0.0   0.0   0.0  0.0    0.0\n",
       " 0.0  0.0  0.0    0.0   0.0   0.0  0.0    0.0\n",
       " 0.0  0.0  0.15   0.0   0.0   0.0  0.0    0.0\n",
       " 0.0  0.0  0.0   -0.15  0.0   0.0  0.0    0.0\n",
       " 0.0  0.0  0.0    0.0   0.3   0.0  0.0    0.0\n",
       " 0.0  0.0  0.0    0.0   0.0  -0.3  0.0    0.0\n",
       " 0.0  0.0  0.0    0.0   0.0   0.0  0.45   0.0\n",
       " 0.0  0.0  0.0    0.0   0.0   0.0  0.0   -0.45"
      ]
     },
     "metadata": {},
     "output_type": "display_data"
    }
   ],
   "source": [
    "H_drift = χ * adag * a * sz / 2"
   ]
  },
  {
   "cell_type": "code",
   "execution_count": 6,
   "metadata": {},
   "outputs": [
    {
     "data": {
      "text/plain": [
       "gradient (generic function with 2 methods)"
      ]
     },
     "metadata": {},
     "output_type": "display_data"
    }
   ],
   "source": [
    "function cost_from_0_dispersive(H_drift, sp, sm, a, adag, T, δt, coefficients, unitary, ω_c, ω_q, initial_state, final_state, amp_q, amp_c, int_transformation)\n",
    "\n",
    "    # initialising the propagator\n",
    "    dim = size(H_drift,1)\n",
    "    propagator = Matrix{ComplexF64}(I,dim,dim)\n",
    "    amplitude_c(t) = chebyshev_amplitude(coefficients[1:Int(length(coefficients)/2)], T, t)\n",
    "    amplitude_q(t) = chebyshev_amplitude(coefficients[Int(length(coefficients)/2) + 1:end], T, t)\n",
    "\n",
    "    # time ordered product of the single exponential matrices\n",
    "    # is this true at all? or we need more time steps aniway?\n",
    "    for l in 0:δt:T\n",
    "        H = H_drift + amp_q * (amplitude_q(l) * sp + amplitude_q(l)' * sm) + amp_c * (amplitude_c(l) * a +  amplitude_c(l)' * adag)\n",
    "        infinitesimal_propagator  = cis(- H * δt)\n",
    "        propagator = infinitesimal_propagator * propagator\n",
    "    end\n",
    "\n",
    "    c = final_state' * int_transformation' * propagator * int_transformation * initial_state\n",
    "   \n",
    "    return 1 - norm(c)^2\n",
    "end\n",
    "\n",
    "function cost_from_0_dispersive_gate(H_drift, sp, sm, a, adag, T, δt, coefficients, unitary, ω_c, ω_q, amp_q, amp_c)\n",
    "\n",
    "    # initialising the propagator\n",
    "    dim = size(H_drift,1)\n",
    "    propagator = Matrix{ComplexF64}(I,dim,dim)\n",
    "    amplitude_c(t) = chebyshev_amplitude(coefficients[1:Int(length(coefficients)/2)], T, t)\n",
    "    amplitude_q(t) = chebyshev_amplitude(coefficients[Int(length(coefficients)/2) + 1:end], T, t)\n",
    "\n",
    "    # time ordered product of the single exponential matrices\n",
    "    # is this true at all? or we need more time steps aniway?\n",
    "    for l in 0:δt:T\n",
    "        H = H_drift + amp_q * (amplitude_q(l) * sp + amplitude_q(l)' * sm) + amp_c * (amplitude_c(l) * a +  amplitude_c(l)' * adag)\n",
    "        infinitesimal_propagator  = cis(- H * δt)\n",
    "        propagator = infinitesimal_propagator * propagator\n",
    "    end\n",
    "\n",
    "    c = tr(unitary' * int_transformation * propagator)/dim\n",
    "   \n",
    "    return 1 - norm(c)^2\n",
    "end\n",
    "\n",
    "function cost_from_0_dispersive_gate_non_interaction(H_drift, sp, sm, a, adag, T, δt, coefficients, unitary, ω_c, ω_q, amp_q, amp_c)\n",
    "\n",
    "    # initialising the propagator\n",
    "    dim = size(H_drift,1)\n",
    "    propagator = Matrix{ComplexF64}(I,dim,dim)\n",
    "    amplitude_c(t) = chebyshev_amplitude(coefficients[1:Int(length(coefficients)/2)], T, t)\n",
    "    amplitude_q(t) = chebyshev_amplitude(coefficients[Int(length(coefficients)/2) + 1:end], T, t)\n",
    "\n",
    "    # time ordered product of the single exponential matrices\n",
    "    # is this true at all? or we need more time steps aniway?\n",
    "    for l in 0:δt:T\n",
    "        H = H_drift + amp_q * (amplitude_q(l) * sp + amplitude_q(l)' * sm) + amp_c * (amplitude_c(l) * a +  amplitude_c(l)' * adag)\n",
    "        infinitesimal_propagator  = cis(- H * δt)\n",
    "        propagator = infinitesimal_propagator * propagator\n",
    "    end\n",
    "\n",
    "    c = tr(unitary' * propagator)/dim\n",
    "   \n",
    "    return 1 - norm(c)^2\n",
    "end\n",
    "\n",
    "function propagator(H_drift, sp, sm, a, adag, T, δt, coefficients)\n",
    "\n",
    "    # initialising the propagator\n",
    "    dim = size(H_drift,1)\n",
    "    propagator = Matrix{ComplexF64}(I,dim,dim)\n",
    "\n",
    "    amplitude_c = [ChebyshevT(coefficients[1:Int(length(coefficients)/2)])((2t - T)/T) for t in 0:δt:T]\n",
    "    amplitude_q = [ChebyshevT(coefficients[Int(length(coefficients)/2) + 1:end])((2t - T)/T) for t in 0:δt:T]\n",
    "\n",
    "\n",
    "    # time ordered product of the single exponential matrices\n",
    "    # is this true at all? or we need more time steps aniway?\n",
    "    for n in 1:1:Int(T/δt)+1\n",
    "        H = H_drift + (amplitude_q(n) * sp + amplitude_q(n)' * sm) + (amplitude_c(n) * a + amplitude_c(n)' * adag)\n",
    "        infinitesimal_propagator  = cis(- H * δt)\n",
    "        propagator = infinitesimal_propagator * propagator\n",
    "    end\n",
    "\n",
    "    return propagator * exp(-1im*angle(propagator[8, 8]))\n",
    "    \n",
    "end\n",
    "\n",
    "function gradient(coefficients, unitary, N, h, cost_before_increment,cost)\n",
    "\n",
    "    L = length(coefficients)\n",
    "    gradient = zeros(L)\n",
    "\n",
    "    for i in 1:L\n",
    "        coeffs_copy = copy(coefficients)\n",
    "        coeffs_copy[i] = coefficients[i] + h\n",
    "        gradient[i] = (cost(coeffs_copy) - cost_before_increment) / h\n",
    "    end\n",
    "\n",
    "    return gradient\n",
    "\n",
    "end"
   ]
  },
  {
   "cell_type": "code",
   "execution_count": 7,
   "metadata": {},
   "outputs": [
    {
     "data": {
      "text/plain": [
       "8×8 Matrix{ComplexF64}:\n",
       " 0.902208+0.431301im       0.0+0.0im       …         0.0+0.0im\n",
       "      0.0+0.0im       0.902208+0.431301im            0.0+0.0im\n",
       "      0.0+0.0im            0.0+0.0im                 0.0+0.0im\n",
       "      0.0+0.0im            0.0+0.0im                 0.0+0.0im\n",
       "      0.0+0.0im            0.0+0.0im                 0.0+0.0im\n",
       "      0.0+0.0im            0.0+0.0im       …         0.0+0.0im\n",
       "      0.0+0.0im            0.0+0.0im                -0.0-0.0im\n",
       "      0.0+0.0im            0.0+0.0im          -0.0353191-0.999376im"
      ]
     },
     "metadata": {},
     "output_type": "display_data"
    }
   ],
   "source": [
    "snap(x) = kron(Diagonal(exp.(-1im.*x)),I_qubit)\n",
    "snap_params = rand(N) * 2 * pi .- pi\n",
    "SNAP_GATE = snap(snap_params)"
   ]
  },
  {
   "cell_type": "code",
   "execution_count": null,
   "metadata": {},
   "outputs": [],
   "source": [
    "x(x) = cost_from_0_dispersive(H_drift, sp, sm, a, adag, T, T / (50) , x, X_gate, ω_c, ω_q, ψ_initial_rand, ψ_final_x_gate, 5, 5, int_transformation)\n",
    "rx(x) = cost_from_0_dispersive(H_drift, sp, sm, a, adag, T, T / (50) , x, X_gate, ω_c, ω_q, ψ_initial_rand, ψ_final_x, 5, 5, int_transformation)\n",
    "u(x) = cost_from_0_dispersive(H_drift, sp, sm, a, adag, T, T / (50) , x, X_gate, ω_c, ω_q, ψ_initial_rand, ψ_final_u, 5, 5, int_transformation)\n",
    "k(x) = cost_from_0_dispersive(H_drift, sp, sm, a, adag, T, T / (50) , x, X_gate, ω_c, ω_q, ψ_initial, ψ_final_k, 5, 5, int_transformation)\n",
    "superposition(x) = cost_from_0_dispersive(H_drift, sp, sm, a, adag, T, T / (50) , x, X_gate, ω_c, ω_q, ψ_initial, ψ_final_superposition, 5, 5, int_transformation)\n",
    "\n",
    "it_costs_x = []\n",
    "coefficients_x = []\n",
    "it_costs_rx = []\n",
    "coefficients_rx = []\n",
    "it_costs_u = []\n",
    "coefficients_u = []\n",
    "it_costs_superposition = []\n",
    "coefficients_superposition = []\n",
    "it_costs_k = []\n",
    "coefficients_k = []\n",
    "for iteration in 1:3\n",
    "    println(\" iterations :\", iteration)\n",
    "    coefficients = rand(16)*2 .-1 + (rand(16)*2im .-1im)\n",
    "    res_x = Optim.optimize(x, coefficients , LBFGS(), Optim.Options(show_trace=true, show_every=10))\n",
    "    res_rx = Optim.optimize(rx, coefficients , LBFGS(), Optim.Options(show_trace=true, show_every=10))\n",
    "    res_u = Optim.optimize(u, coefficients , LBFGS(), Optim.Options(show_trace=true, show_every=10))\n",
    "    res_superposition = Optim.optimize(superposition, coefficients , LBFGS(), Optim.Options(show_trace=true, show_every=10))\n",
    "    res_k = Optim.optimize(k, coefficients , LBFGS(), Optim.Options(show_trace=true, show_every=10))\n",
    "    push!(it_costs_x,Optim.minimum(res_x))\n",
    "    push!(it_costs_rx,Optim.minimum(res_rx))\n",
    "    push!(it_costs_u,Optim.minimum(res_u))\n",
    "    push!(it_costs_k,Optim.minimum(res_k))\n",
    "    push!(it_costs_superposition,Optim.minimum(res_superposition))\n",
    "    push!(coefficients_x,Optim.minimizer(res_x))\n",
    "    push!(coefficients_rx,Optim.minimizer(res_rx))\n",
    "    push!(coefficients_u,Optim.minimizer(res_u))\n",
    "    push!(coefficients_k,Optim.minimizer(res_k))\n",
    "    push!(coefficients_superposition,Optim.minimizer(res_superposition))\n",
    "    println(Optim.minimum(res_k), Optim.minimum(res_x), Optim.minimum(res_rx), Optim.minimum(res_u), Optim.minimum(res_superposition))\n",
    "end"
   ]
  },
  {
   "cell_type": "code",
   "execution_count": 47,
   "metadata": {},
   "outputs": [
    {
     "data": {
      "text/plain": [
       "\"../../data/state_prep/3_photons/PO/superposition_gate_50steps_100ns.txt\""
      ]
     },
     "metadata": {},
     "output_type": "display_data"
    }
   ],
   "source": [
    "df_x = DataFrame(fidelity=it_costs_x, coefficients=coefficients_x)\n",
    "df_rx = DataFrame(fidelity=it_costs_rx, coefficients=coefficients_rx)\n",
    "df_u = DataFrame(fidelity=it_costs_u, coefficients=coefficients_u)\n",
    "df_k = DataFrame(fidelity=it_costs_k, coefficients=coefficients_k)\n",
    "df_superposition = DataFrame(fidelity=it_costs_superposition, coefficients=coefficients_superposition)\n",
    "# CSV.write(\"../../data/state_prep/3_photons/PO/x_gate_50steps_100ns.txt\", df_x)\n",
    "# CSV.write(\"../../data/state_prep/3_photons/PO/rx_gate_50steps_100ns.txt\", df_rx)\n",
    "# CSV.write(\"../../data/state_prep/3_photons/PO/u_gate_50steps_100ns.txt\", df_u)\n",
    "# CSV.write(\"../../data/state_prep/3_photons/PO/k_gate_50steps_100ns.txt\", df_k)\n",
    "# CSV.write(\"../../data/state_prep/3_photons/PO/superposition_gate_50steps_100ns.txt\", df_superposition)"
   ]
  },
  {
   "cell_type": "code",
   "execution_count": 67,
   "metadata": {},
   "outputs": [
    {
     "data": {
      "text/plain": [
       "\"/Users/andreamaestri/Desktop/Thesis_julia/Opt3DQalgs/BTgates/src/optimisations/stateprep_superposition_quoctit.pdf\""
      ]
     },
     "metadata": {},
     "output_type": "display_data"
    }
   ],
   "source": [
    "T = 0.5\n",
    "\n",
    "optimised_coeffs_3_bis = [-0.3114215038166745 - 1.1659948287366748im, 1.1834643283023667 - 0.5273769511816963im, -0.9949553994343967 - 1.4537650545829206im, -0.7261898023505017 - 0.7253501978882274im, -0.22630887713750886 - 1.5390366606034829im, -0.19784203156608757 + 1.1007736735692206im, 1.9937693493458357 + 0.23688140801898971im, -0.24466261863497618 + 0.6041682164198117im, -0.15843398143298296 + 0.18329864579913088im, -0.9062868044369208 + 0.007545708071502404im, 0.9059433678775601 - 0.8783697646964848im, 1.0490538118076378 - 0.6748890978112827im, -0.13547851547301382 - 0.0021784974419416323im, 1.22237540496814 - 1.0781787085349406im, 1.2763930373206958 - 0.9769569905103643im, -0.031920371546628565 + 0.09387152872301247im]\n",
    "coeffs_cavity = optimised_coeffs_3_bis[1:Int(length(optimised_coeffs_3_bis)/2)]\n",
    "coeffs_qubit = optimised_coeffs_3_bis[Int(length(optimised_coeffs_3_bis)/2)+1:end]\n",
    "amplitude_c(t) = chebyshev_amplitude(coeffs_cavity, T, t)\n",
    "amplitude_q(t) = chebyshev_amplitude(coeffs_qubit, T, t)\n",
    "\n",
    "amps_c = [amplitude_c(l)*10 for l in 0:T/(50):T]\n",
    "amps_q = [amplitude_q(l)*10  for l in 0:T/(50):T]\n",
    "\n",
    "imaginary_part = plot([l for l in 0:T/50:T], imag(amps_c), label = \"Im[ϵ(t)]\", linestyle=:dash, marker = :circle, markersize=3, xlabel=\"Time[μs]\", ylabel=\"Pulse [MHz]\", fmt = :PDF, layout=2, subplot=1, size=(1280,300), left_margin=10mm, xtickfontsize=14,ytickfontsize=14,xguidefontsize=15,yguidefontsize=15,legendfontsize=15)\n",
    "real_part = plot!([l for l in 0:T/50:T], real(amps_c), label= \"Re[ϵ(t)]\", linestyle=:dash, marker = :circle, markersize=3, xlabel=\"Time[μs]\", ylabel=\"Pulse [MHz]\", fmt = :PDF, subplot=1)\n",
    "imaginary_part = plot!([l for l in 0:T/50:T], imag(amps_q), label = \"Im[Ω(t)]\", linestyle=:dash, marker = :circle, markersize=3, xlabel=\"Time[μs]\", fmt = :PDF, subplot=2, xtickfontsize=14,  bottom_margin=10mm, right_margin=5mm, ytickfontsize=14,xguidefontsize=15,yguidefontsize=15,legendfontsize=15)\n",
    "real_part = plot!([l for l in 0:T/50:T], real(amps_q), label= \"Re[Ω(t)]\", linestyle=:dash, marker = :circle, markersize=3, xlabel=\"Time[μs]\", fmt = :PDF, subplot=2)\n",
    "savefig(\"stateprep_superposition_quoctit.pdf\")"
   ]
  },
  {
   "cell_type": "code",
   "execution_count": null,
   "metadata": {},
   "outputs": [],
   "source": []
  }
 ],
 "metadata": {
  "kernelspec": {
   "display_name": "Julia 1.8.4",
   "language": "julia",
   "name": "julia-1.8"
  },
  "language_info": {
   "file_extension": ".jl",
   "mimetype": "application/julia",
   "name": "julia",
   "version": "1.8.4"
  },
  "orig_nbformat": 4
 },
 "nbformat": 4,
 "nbformat_minor": 2
}
