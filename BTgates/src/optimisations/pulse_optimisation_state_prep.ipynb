{
 "cells": [
  {
   "cell_type": "code",
   "execution_count": 22,
   "metadata": {},
   "outputs": [
    {
     "data": {
      "text/plain": [
       "U2 (generic function with 1 method)"
      ]
     },
     "metadata": {},
     "output_type": "display_data"
    }
   ],
   "source": [
    "include(\"../Algebra/Gradients.jl\")\n",
    "include(\"../Algebra/Hamiltonians.jl\")\n",
    "include(\"../Algebra/Matrices.jl\")\n",
    "include(\"../Algebra/Propagators.jl\")\n",
    "include(\"../Amplitudes/Chebyshev.jl\")\n",
    "include(\"../Costs/Costs.jl\")\n",
    "include(\"../Gates/Xgate.jl\")"
   ]
  },
  {
   "cell_type": "code",
   "execution_count": 23,
   "metadata": {},
   "outputs": [],
   "source": [
    "using LinearAlgebra, Optim, Measures, CSV, DataFrames,Plots"
   ]
  },
  {
   "cell_type": "code",
   "execution_count": 24,
   "metadata": {},
   "outputs": [
    {
     "data": {
      "text/plain": [
       "0.1"
      ]
     },
     "metadata": {},
     "output_type": "display_data"
    }
   ],
   "source": [
    "ω_c = 5000\n",
    "ω_q = 3000\n",
    "χ = 3e-1\n",
    "N = 6\n",
    "amp_c = 1\n",
    "amp_q = 1\n",
    "T = 0.1"
   ]
  },
  {
   "attachments": {},
   "cell_type": "markdown",
   "metadata": {},
   "source": [
    "### Target gate"
   ]
  },
  {
   "cell_type": "code",
   "execution_count": 25,
   "metadata": {},
   "outputs": [
    {
     "data": {
      "text/plain": [
       "12-element Vector{Float64}:\n",
       " 0.0\n",
       " 0.0\n",
       " 0.0\n",
       " 0.0\n",
       " 0.0\n",
       " 0.0\n",
       " 0.0\n",
       " 1.0\n",
       " 0.0\n",
       " 0.0\n",
       " 0.0\n",
       " 0.0"
      ]
     },
     "metadata": {},
     "output_type": "display_data"
    }
   ],
   "source": [
    "I_qubit = Matrix(I,2,2)\n",
    "I_cavity = Matrix(I,N,N)\n",
    "#X_gate = kron(x_gate(N, Array[[3,4], [5,6], [7,8]]), I_qubit)\n",
    "#X_gate = kron(x_gate(N, Array[[1,2]]), I_qubit)\n",
    "X_gate = kron(x_gate(N, Array[[3,4]]), I_qubit)\n",
    "\n",
    "θ = π/2.5\n",
    "RZ = kron(Rz(N, Array[[1,3]], θ), I_qubit)\n",
    "RX = kron(Rx(N, Array[[3,4]], θ/4), I_qubit)\n",
    "Udue = kron(U2(N, Array[[3,4]], [θ/2 θ/3 θ/4] ), I_qubit)\n",
    "\n",
    "sx = kron(I_cavity, [0 1; 1 0])\n",
    "sy = kron(I_cavity, [0 -1im; 1im 0])\n",
    "# generating matrices\n",
    "a,adag,sp,sm,sz = generate_matrices(N)\n",
    "\n",
    "ψ_initial = zeros(N)\n",
    "ψ_initial[1] = 1\n",
    "ψ_initial = kron(ψ_initial/norm(ψ_initial), [0,1])\n",
    "\n",
    "ψ_initial_rand = rand(N)\n",
    "ψ_initial_rand = kron(ψ_initial_rand/norm(ψ_initial_rand), [0,1])\n",
    "ψ_final_u = Udue * ψ_initial_rand\n",
    "ψ_final_x = RX * ψ_initial_rand\n",
    "ψ_final_x_gate = X_gate * ψ_initial_rand\n",
    "ψ_final_superposition = kron(ones(N)/norm(ones(N)), [0,1])\n",
    "\n",
    "ψ_final_k = zeros(N)\n",
    "ψ_final_k[4] = 1\n",
    "ψ_final_k = kron(ψ_final_k/norm(ψ_final_k), [0,1])"
   ]
  },
  {
   "cell_type": "code",
   "execution_count": 26,
   "metadata": {},
   "outputs": [
    {
     "data": {
      "text/plain": [
       "12×12 Matrix{Float64}:\n",
       " 1500.0      0.0     0.0      0.0   …      0.0      0.0      0.0      0.0\n",
       "    0.0  -1500.0     0.0      0.0          0.0      0.0      0.0      0.0\n",
       "    0.0      0.0  6500.15     0.0          0.0      0.0      0.0      0.0\n",
       "    0.0      0.0     0.0   3499.85         0.0      0.0      0.0      0.0\n",
       "    0.0      0.0     0.0      0.0          0.0      0.0      0.0      0.0\n",
       "    0.0      0.0     0.0      0.0   …      0.0      0.0      0.0      0.0\n",
       "    0.0      0.0     0.0      0.0          0.0      0.0      0.0      0.0\n",
       "    0.0      0.0     0.0      0.0          0.0      0.0      0.0      0.0\n",
       "    0.0      0.0     0.0      0.0      21500.6      0.0      0.0      0.0\n",
       "    0.0      0.0     0.0      0.0          0.0  18499.4      0.0      0.0\n",
       "    0.0      0.0     0.0      0.0   …      0.0      0.0  26500.8      0.0\n",
       "    0.0      0.0     0.0      0.0          0.0      0.0      0.0  23499.3"
      ]
     },
     "metadata": {},
     "output_type": "display_data"
    }
   ],
   "source": [
    "H_drift = χ * adag * a * sz / 2 + ω_c * adag * a + ω_q * sz / 2"
   ]
  },
  {
   "cell_type": "code",
   "execution_count": 27,
   "metadata": {},
   "outputs": [
    {
     "data": {
      "text/plain": [
       "gradient (generic function with 2 methods)"
      ]
     },
     "metadata": {},
     "output_type": "display_data"
    }
   ],
   "source": [
    "function cost_from_0_dispersive(H_drift, sp, sm, a, adag, T, δt, coefficients, unitary, ω_c, ω_q, initial_state, final_state, amp_q=1e-1, amp_c=1e-1)\n",
    "\n",
    "    # initialising the propagator\n",
    "    dim = size(H_drift,1)\n",
    "    propagator = Matrix{ComplexF64}(I,dim,dim)\n",
    "    amplitude_c(t) = chebyshev_amplitude(coefficients[1:Int(length(coefficients)/2)], T, t)\n",
    "    amplitude_q(t) = chebyshev_amplitude(coefficients[Int(length(coefficients)/2) + 1:end], T, t)\n",
    "\n",
    "    # time ordered product of the single exponential matrices\n",
    "    # is this true at all? or we need more time steps aniway?\n",
    "    for l in 0:δt:T\n",
    "        H = H_drift + amp_q * (amplitude_q(l) * sp + amplitude_q(l)' * sm) + amp_c * (amplitude_c(l) * a +  amplitude_c(l)' * adag)\n",
    "        infinitesimal_propagator  = cis(- H * δt)\n",
    "        propagator = infinitesimal_propagator * propagator\n",
    "    end\n",
    "\n",
    "    c = final_state' * propagator * initial_state\n",
    "   \n",
    "    return 1 - norm(c)^2\n",
    "end\n",
    "\n",
    "function cost_from_0_dispersive_gate(H_drift, sp, sm, a, adag, T, δt, coefficients, unitary, ω_c, ω_q, amp_q, amp_c)\n",
    "\n",
    "    # initialising the propagator\n",
    "    dim = size(H_drift,1)\n",
    "    propagator = Matrix{ComplexF64}(I,dim,dim)\n",
    "    amplitude_c(t) = chebyshev_amplitude(coefficients[1:Int(length(coefficients)/2)], T, t)\n",
    "    amplitude_q(t) = chebyshev_amplitude(coefficients[Int(length(coefficients)/2) + 1:end], T, t)\n",
    "\n",
    "    # time ordered product of the single exponential matrices\n",
    "    # is this true at all? or we need more time steps aniway?\n",
    "    for l in 0:δt:T\n",
    "        H = H_drift + amp_q * (amplitude_q(l) * sp + amplitude_q(l)' * sm) + amp_c * (amplitude_c(l) * a +  amplitude_c(l)' * adag)\n",
    "        infinitesimal_propagator  = cis(- H * δt)\n",
    "        propagator = infinitesimal_propagator * propagator\n",
    "    end\n",
    "\n",
    "    c = tr(unitary' * int_transformation * propagator)/dim\n",
    "   \n",
    "    return 1 - norm(c)^2\n",
    "end\n",
    "\n",
    "function cost_from_0_dispersive_gate_non_interaction(H_drift, sp, sm, a, adag, T, δt, coefficients, unitary, ω_c, ω_q, amp_q, amp_c)\n",
    "\n",
    "    # initialising the propagator\n",
    "    dim = size(H_drift,1)\n",
    "    propagator = Matrix{ComplexF64}(I,dim,dim)\n",
    "    amplitude_c(t) = chebyshev_amplitude(coefficients[1:Int(length(coefficients)/2)], T, t)\n",
    "    amplitude_q(t) = chebyshev_amplitude(coefficients[Int(length(coefficients)/2) + 1:end], T, t)\n",
    "\n",
    "    # time ordered product of the single exponential matrices\n",
    "    # is this true at all? or we need more time steps aniway?\n",
    "    for l in 0:δt:T\n",
    "        H = H_drift + amp_q * (amplitude_q(l) * sp + amplitude_q(l)' * sm) + amp_c * (amplitude_c(l) * a +  amplitude_c(l)' * adag)\n",
    "        infinitesimal_propagator  = cis(- H * δt)\n",
    "        propagator = infinitesimal_propagator * propagator\n",
    "    end\n",
    "\n",
    "    c = tr(unitary' * propagator)/dim\n",
    "   \n",
    "    return 1 - norm(c)^2\n",
    "end\n",
    "\n",
    "function propagator(H_drift, sp, sm, a, adag, T, δt, coefficients)\n",
    "\n",
    "    # initialising the propagator\n",
    "    dim = size(H_drift,1)\n",
    "    propagator = Matrix{ComplexF64}(I,dim,dim)\n",
    "\n",
    "    amplitude_c = [ChebyshevT(coefficients[1:Int(length(coefficients)/2)])((2t - T)/T) for t in 0:δt:T]\n",
    "    amplitude_q = [ChebyshevT(coefficients[Int(length(coefficients)/2) + 1:end])((2t - T)/T) for t in 0:δt:T]\n",
    "\n",
    "\n",
    "    # time ordered product of the single exponential matrices\n",
    "    # is this true at all? or we need more time steps aniway?\n",
    "    for n in 1:1:Int(T/δt)+1\n",
    "        H = H_drift + (amplitude_q(n) * sp + amplitude_q(n)' * sm) + (amplitude_c(n) * a + amplitude_c(n)' * adag)\n",
    "        infinitesimal_propagator  = cis(- H * δt)\n",
    "        propagator = infinitesimal_propagator * propagator\n",
    "    end\n",
    "\n",
    "    return propagator * exp(-1im*angle(propagator[8, 8]))\n",
    "    \n",
    "end\n",
    "\n",
    "function gradient(coefficients, unitary, N, h, cost_before_increment,cost)\n",
    "\n",
    "    L = length(coefficients)\n",
    "    gradient = zeros(L)\n",
    "\n",
    "    for i in 1:L\n",
    "        coeffs_copy = copy(coefficients)\n",
    "        coeffs_copy[i] = coefficients[i] + h\n",
    "        gradient[i] = (cost(coeffs_copy) - cost_before_increment) / h\n",
    "    end\n",
    "\n",
    "    return gradient\n",
    "\n",
    "end"
   ]
  },
  {
   "cell_type": "code",
   "execution_count": 28,
   "metadata": {},
   "outputs": [
    {
     "data": {
      "text/plain": [
       "12×12 Matrix{ComplexF64}:\n",
       " 0.90329-0.42903im      0.0-0.0im      …       0.0+0.0im\n",
       "     0.0-0.0im      0.90329-0.42903im          0.0+0.0im\n",
       "     0.0+0.0im          0.0+0.0im              0.0+0.0im\n",
       "     0.0+0.0im          0.0+0.0im              0.0+0.0im\n",
       "     0.0+0.0im          0.0+0.0im              0.0+0.0im\n",
       "     0.0+0.0im          0.0+0.0im      …       0.0+0.0im\n",
       "     0.0+0.0im          0.0+0.0im              0.0+0.0im\n",
       "     0.0+0.0im          0.0+0.0im              0.0+0.0im\n",
       "     0.0+0.0im          0.0+0.0im              0.0+0.0im\n",
       "     0.0+0.0im          0.0+0.0im              0.0+0.0im\n",
       "     0.0+0.0im          0.0+0.0im      …       0.0-0.0im\n",
       "     0.0+0.0im          0.0+0.0im         0.907568-0.419905im"
      ]
     },
     "metadata": {},
     "output_type": "display_data"
    }
   ],
   "source": [
    "snap(x) = kron(Diagonal(exp.(-1im.*x)),I_qubit)\n",
    "snap_params = rand(N) * 2 * pi .- pi\n",
    "SNAP_GATE = snap(snap_params)"
   ]
  },
  {
   "cell_type": "code",
   "execution_count": null,
   "metadata": {},
   "outputs": [],
   "source": [
    "x(x) = cost_from_0_dispersive(H_drift, sp, sm, a, adag, T, T / (30) , x, X_gate, ω_c, ω_q, ψ_initial_rand, ψ_final_x_gate)\n",
    "rx(x) = cost_from_0_dispersive(H_drift, sp, sm, a, adag, T, T / (30) , x, X_gate, ω_c, ω_q, ψ_initial_rand, ψ_final_x)\n",
    "u(x) = cost_from_0_dispersive(H_drift, sp, sm, a, adag, T, T / (30) , x, X_gate, ω_c, ω_q, ψ_initial_rand, ψ_final_u)\n",
    "k(x) = cost_from_0_dispersive(H_drift, sp, sm, a, adag, T, T / (30) , x, X_gate, ω_c, ω_q, ψ_initial, ψ_final_k)\n",
    "superposition(x) = cost_from_0_dispersive(H_drift, sp, sm, a, adag, T, T / (30) , x, X_gate, ω_c, ω_q, ψ_initial, ψ_final_superposition)\n",
    "\n",
    "it_costs_x = []\n",
    "coefficients_x = []\n",
    "it_costs_rx = []\n",
    "coefficients_rx = []\n",
    "it_costs_u = []\n",
    "coefficients_u = []\n",
    "it_costs_superposition = []\n",
    "coefficients_superposition = []\n",
    "it_costs_k = []\n",
    "coefficients_k = []\n",
    "for iteration in 1:5\n",
    "    println(\" iterations :\", iteration)\n",
    "    coefficients = rand(16)*2 .-1 + (rand(16)*2im .-1im)\n",
    "    res_x = Optim.optimize(x, coefficients , LBFGS(), Optim.Options())\n",
    "    res_rx = Optim.optimize(rx, coefficients , LBFGS(), Optim.Options())\n",
    "    res_u = Optim.optimize(u, coefficients , LBFGS(), Optim.Options())\n",
    "    res_superposition = Optim.optimize(superposition, coefficients , LBFGS(), Optim.Options())\n",
    "    res_k = Optim.optimize(k, coefficients , LBFGS(), Optim.Options())\n",
    "    push!(it_costs_x,Optim.minimum(res_x))\n",
    "    push!(it_costs_rx,Optim.minimum(res_rx))\n",
    "    push!(it_costs_u,Optim.minimum(res_u))\n",
    "    push!(it_costs_k,Optim.minimum(res_k))\n",
    "    push!(it_costs_superposition,Optim.minimum(res_superposition))\n",
    "    push!(coefficients_x,Optim.minimizer(res_x))\n",
    "    push!(coefficients_rx,Optim.minimizer(res_rx))\n",
    "    push!(coefficients_u,Optim.minimizer(res_u))\n",
    "    push!(coefficients_k,Optim.minimizer(res_k))\n",
    "    push!(coefficients_superposition,Optim.minimizer(res_superposition))\n",
    "end"
   ]
  },
  {
   "cell_type": "code",
   "execution_count": null,
   "metadata": {},
   "outputs": [],
   "source": [
    "df_x = DataFrame(fidelity=it_costs_x, coefficients=coefficients_x)\n",
    "df_rx = DataFrame(fidelity=it_costs_rx, coefficients=coefficients_rx)\n",
    "df_u = DataFrame(fidelity=it_costs_u, coefficients=coefficients_u)\n",
    "df_k = DataFrame(fidelity=it_costs_k, coefficients=coefficients_k)\n",
    "df_superposition = DataFrame(fidelity=it_costs_superposition, coefficients=coefficients_superposition)\n",
    "CSV.write(\"../../data/state_prep/5_photons/PO/x_gate.txt\", df_x)\n",
    "CSV.write(\"../../data/state_prep/5_photons/PO/rx_gate.txt\", df_rx)\n",
    "CSV.write(\"../../data/state_prep/5_photons/PO/u_gate.txt\", df_u)\n",
    "CSV.write(\"../../data/state_prep/5_photons/PO/k_gate.txt\", df_k)\n",
    "CSV.write(\"../../data/state_prep/5_photons/PO/superposition_gate.txt\", df_superposition)"
   ]
  }
 ],
 "metadata": {
  "kernelspec": {
   "display_name": "Julia 1.8.4",
   "language": "julia",
   "name": "julia-1.8"
  },
  "language_info": {
   "file_extension": ".jl",
   "mimetype": "application/julia",
   "name": "julia",
   "version": "1.8.4"
  },
  "orig_nbformat": 4
 },
 "nbformat": 4,
 "nbformat_minor": 2
}
