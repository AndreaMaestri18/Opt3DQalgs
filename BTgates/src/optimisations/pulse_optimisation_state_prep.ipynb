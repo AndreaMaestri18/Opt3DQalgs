{
 "cells": [
  {
   "cell_type": "code",
   "execution_count": 38,
   "metadata": {},
   "outputs": [
    {
     "data": {
      "text/plain": [
       "U2 (generic function with 1 method)"
      ]
     },
     "metadata": {},
     "output_type": "display_data"
    }
   ],
   "source": [
    "include(\"../Algebra/Gradients.jl\")\n",
    "include(\"../Algebra/Hamiltonians.jl\")\n",
    "include(\"../Algebra/Matrices.jl\")\n",
    "include(\"../Algebra/Propagators.jl\")\n",
    "include(\"../Amplitudes/Chebyshev.jl\")\n",
    "include(\"../Costs/Costs.jl\")\n",
    "include(\"../Gates/Xgate.jl\")"
   ]
  },
  {
   "cell_type": "code",
   "execution_count": 39,
   "metadata": {},
   "outputs": [],
   "source": [
    "using LinearAlgebra, Optim, Measures, CSV, DataFrames,Plots"
   ]
  },
  {
   "cell_type": "code",
   "execution_count": 40,
   "metadata": {},
   "outputs": [
    {
     "data": {
      "text/plain": [
       "0.5"
      ]
     },
     "metadata": {},
     "output_type": "display_data"
    }
   ],
   "source": [
    "ω_c = 5000\n",
    "ω_q = 3000\n",
    "χ = 3e-1\n",
    "N = 6\n",
    "amp_c = 1\n",
    "amp_q = 1\n",
    "T = 0.5"
   ]
  },
  {
   "attachments": {},
   "cell_type": "markdown",
   "metadata": {},
   "source": [
    "### Target gate"
   ]
  },
  {
   "cell_type": "code",
   "execution_count": 41,
   "metadata": {},
   "outputs": [
    {
     "data": {
      "text/plain": [
       "12-element Vector{Float64}:\n",
       " 0.0\n",
       " 0.0\n",
       " 0.0\n",
       " 0.0\n",
       " 0.0\n",
       " 0.0\n",
       " 0.0\n",
       " 1.0\n",
       " 0.0\n",
       " 0.0\n",
       " 0.0\n",
       " 0.0"
      ]
     },
     "metadata": {},
     "output_type": "display_data"
    }
   ],
   "source": [
    "I_qubit = Matrix(I,2,2)\n",
    "I_cavity = Matrix(I,N,N)\n",
    "#X_gate = kron(x_gate(N, Array[[3,4], [5,6], [7,8]]), I_qubit)\n",
    "#X_gate = kron(x_gate(N, Array[[1,2]]), I_qubit)\n",
    "X_gate = kron(x_gate(N, Array[[3,4]]), I_qubit)\n",
    "\n",
    "θ = π/2.5\n",
    "RZ = kron(Rz(N, Array[[1,3]], θ), I_qubit)\n",
    "RX = kron(Rx(N, Array[[3,4]], θ/4), I_qubit)\n",
    "Udue = kron(U2(N, Array[[3,4]], [θ/2 θ/3 θ/4] ), I_qubit)\n",
    "\n",
    "sx = kron(I_cavity, [0 1; 1 0])\n",
    "sy = kron(I_cavity, [0 -1im; 1im 0])\n",
    "# generating matrices\n",
    "a,adag,sp,sm,sz = generate_matrices(N)\n",
    "\n",
    "ψ_initial = zeros(N)\n",
    "ψ_initial[1] = 1\n",
    "ψ_initial = kron(ψ_initial/norm(ψ_initial), [0,1])\n",
    "\n",
    "ψ_initial_rand = rand(N)\n",
    "ψ_initial_rand = kron(ψ_initial_rand/norm(ψ_initial_rand), [0,1])\n",
    "ψ_final_u = Udue * ψ_initial_rand\n",
    "ψ_final_x = RX * ψ_initial_rand\n",
    "ψ_final_x_gate = X_gate * ψ_initial_rand\n",
    "ψ_final_superposition = kron(ones(N)/norm(ones(N)), [0,1])\n",
    "\n",
    "ψ_final_k = zeros(N)\n",
    "ψ_final_k[4] = 1\n",
    "ψ_final_k = kron(ψ_final_k/norm(ψ_final_k), [0,1])"
   ]
  },
  {
   "cell_type": "code",
   "execution_count": 42,
   "metadata": {},
   "outputs": [
    {
     "data": {
      "text/plain": [
       "12×12 Matrix{Float64}:\n",
       " 1500.0      0.0     0.0      0.0   …      0.0      0.0      0.0      0.0\n",
       "    0.0  -1500.0     0.0      0.0          0.0      0.0      0.0      0.0\n",
       "    0.0      0.0  6500.15     0.0          0.0      0.0      0.0      0.0\n",
       "    0.0      0.0     0.0   3499.85         0.0      0.0      0.0      0.0\n",
       "    0.0      0.0     0.0      0.0          0.0      0.0      0.0      0.0\n",
       "    0.0      0.0     0.0      0.0   …      0.0      0.0      0.0      0.0\n",
       "    0.0      0.0     0.0      0.0          0.0      0.0      0.0      0.0\n",
       "    0.0      0.0     0.0      0.0          0.0      0.0      0.0      0.0\n",
       "    0.0      0.0     0.0      0.0      21500.6      0.0      0.0      0.0\n",
       "    0.0      0.0     0.0      0.0          0.0  18499.4      0.0      0.0\n",
       "    0.0      0.0     0.0      0.0   …      0.0      0.0  26500.8      0.0\n",
       "    0.0      0.0     0.0      0.0          0.0      0.0      0.0  23499.3"
      ]
     },
     "metadata": {},
     "output_type": "display_data"
    }
   ],
   "source": [
    "H_drift = χ * adag * a * sz / 2 + ω_c * adag * a + ω_q * sz / 2"
   ]
  },
  {
   "cell_type": "code",
   "execution_count": 43,
   "metadata": {},
   "outputs": [
    {
     "data": {
      "text/plain": [
       "gradient (generic function with 2 methods)"
      ]
     },
     "metadata": {},
     "output_type": "display_data"
    }
   ],
   "source": [
    "function cost_from_0_dispersive(H_drift, sp, sm, a, adag, T, δt, coefficients, unitary, ω_c, ω_q, initial_state, final_state, amp_q=1e-1, amp_c=1e-1)\n",
    "\n",
    "    # initialising the propagator\n",
    "    dim = size(H_drift,1)\n",
    "    propagator = Matrix{ComplexF64}(I,dim,dim)\n",
    "    amplitude_c(t) = chebyshev_amplitude(coefficients[1:Int(length(coefficients)/2)], T, t)\n",
    "    amplitude_q(t) = chebyshev_amplitude(coefficients[Int(length(coefficients)/2) + 1:end], T, t)\n",
    "\n",
    "    # time ordered product of the single exponential matrices\n",
    "    # is this true at all? or we need more time steps aniway?\n",
    "    for l in 0:δt:T\n",
    "        H = H_drift + amp_q * (amplitude_q(l) * sp + amplitude_q(l)' * sm) + amp_c * (amplitude_c(l) * a +  amplitude_c(l)' * adag)\n",
    "        infinitesimal_propagator  = cis(- H * δt)\n",
    "        propagator = infinitesimal_propagator * propagator\n",
    "    end\n",
    "\n",
    "    c = final_state' * propagator * initial_state\n",
    "   \n",
    "    return 1 - norm(c)^2\n",
    "end\n",
    "\n",
    "function cost_from_0_dispersive_gate(H_drift, sp, sm, a, adag, T, δt, coefficients, unitary, ω_c, ω_q, amp_q, amp_c)\n",
    "\n",
    "    # initialising the propagator\n",
    "    dim = size(H_drift,1)\n",
    "    propagator = Matrix{ComplexF64}(I,dim,dim)\n",
    "    amplitude_c(t) = chebyshev_amplitude(coefficients[1:Int(length(coefficients)/2)], T, t)\n",
    "    amplitude_q(t) = chebyshev_amplitude(coefficients[Int(length(coefficients)/2) + 1:end], T, t)\n",
    "\n",
    "    # time ordered product of the single exponential matrices\n",
    "    # is this true at all? or we need more time steps aniway?\n",
    "    for l in 0:δt:T\n",
    "        H = H_drift + amp_q * (amplitude_q(l) * sp + amplitude_q(l)' * sm) + amp_c * (amplitude_c(l) * a +  amplitude_c(l)' * adag)\n",
    "        infinitesimal_propagator  = cis(- H * δt)\n",
    "        propagator = infinitesimal_propagator * propagator\n",
    "    end\n",
    "\n",
    "    c = tr(unitary' * int_transformation * propagator)/dim\n",
    "   \n",
    "    return 1 - norm(c)^2\n",
    "end\n",
    "\n",
    "function cost_from_0_dispersive_gate_non_interaction(H_drift, sp, sm, a, adag, T, δt, coefficients, unitary, ω_c, ω_q, amp_q, amp_c)\n",
    "\n",
    "    # initialising the propagator\n",
    "    dim = size(H_drift,1)\n",
    "    propagator = Matrix{ComplexF64}(I,dim,dim)\n",
    "    amplitude_c(t) = chebyshev_amplitude(coefficients[1:Int(length(coefficients)/2)], T, t)\n",
    "    amplitude_q(t) = chebyshev_amplitude(coefficients[Int(length(coefficients)/2) + 1:end], T, t)\n",
    "\n",
    "    # time ordered product of the single exponential matrices\n",
    "    # is this true at all? or we need more time steps aniway?\n",
    "    for l in 0:δt:T\n",
    "        H = H_drift + amp_q * (amplitude_q(l) * sp + amplitude_q(l)' * sm) + amp_c * (amplitude_c(l) * a +  amplitude_c(l)' * adag)\n",
    "        infinitesimal_propagator  = cis(- H * δt)\n",
    "        propagator = infinitesimal_propagator * propagator\n",
    "    end\n",
    "\n",
    "    c = tr(unitary' * propagator)/dim\n",
    "   \n",
    "    return 1 - norm(c)^2\n",
    "end\n",
    "\n",
    "function propagator(H_drift, sp, sm, a, adag, T, δt, coefficients)\n",
    "\n",
    "    # initialising the propagator\n",
    "    dim = size(H_drift,1)\n",
    "    propagator = Matrix{ComplexF64}(I,dim,dim)\n",
    "\n",
    "    amplitude_c = [ChebyshevT(coefficients[1:Int(length(coefficients)/2)])((2t - T)/T) for t in 0:δt:T]\n",
    "    amplitude_q = [ChebyshevT(coefficients[Int(length(coefficients)/2) + 1:end])((2t - T)/T) for t in 0:δt:T]\n",
    "\n",
    "\n",
    "    # time ordered product of the single exponential matrices\n",
    "    # is this true at all? or we need more time steps aniway?\n",
    "    for n in 1:1:Int(T/δt)+1\n",
    "        H = H_drift + (amplitude_q(n) * sp + amplitude_q(n)' * sm) + (amplitude_c(n) * a + amplitude_c(n)' * adag)\n",
    "        infinitesimal_propagator  = cis(- H * δt)\n",
    "        propagator = infinitesimal_propagator * propagator\n",
    "    end\n",
    "\n",
    "    return propagator * exp(-1im*angle(propagator[8, 8]))\n",
    "    \n",
    "end\n",
    "\n",
    "function gradient(coefficients, unitary, N, h, cost_before_increment,cost)\n",
    "\n",
    "    L = length(coefficients)\n",
    "    gradient = zeros(L)\n",
    "\n",
    "    for i in 1:L\n",
    "        coeffs_copy = copy(coefficients)\n",
    "        coeffs_copy[i] = coefficients[i] + h\n",
    "        gradient[i] = (cost(coeffs_copy) - cost_before_increment) / h\n",
    "    end\n",
    "\n",
    "    return gradient\n",
    "\n",
    "end"
   ]
  },
  {
   "cell_type": "code",
   "execution_count": 44,
   "metadata": {},
   "outputs": [
    {
     "data": {
      "text/plain": [
       "12×12 Matrix{ComplexF64}:\n",
       " 0.203367+0.979103im       0.0+0.0im       …        0.0+0.0im\n",
       "      0.0+0.0im       0.203367+0.979103im           0.0+0.0im\n",
       "      0.0+0.0im            0.0+0.0im                0.0+0.0im\n",
       "      0.0+0.0im            0.0+0.0im                0.0+0.0im\n",
       "      0.0+0.0im            0.0+0.0im                0.0+0.0im\n",
       "      0.0+0.0im            0.0+0.0im       …        0.0+0.0im\n",
       "      0.0+0.0im            0.0+0.0im                0.0+0.0im\n",
       "      0.0+0.0im            0.0+0.0im                0.0+0.0im\n",
       "      0.0+0.0im            0.0+0.0im                0.0+0.0im\n",
       "      0.0+0.0im            0.0+0.0im                0.0+0.0im\n",
       "      0.0+0.0im            0.0+0.0im       …       -0.0-0.0im\n",
       "      0.0+0.0im            0.0+0.0im          -0.904824-0.425786im"
      ]
     },
     "metadata": {},
     "output_type": "display_data"
    }
   ],
   "source": [
    "snap(x) = kron(Diagonal(exp.(-1im.*x)),I_qubit)\n",
    "snap_params = rand(N) * 2 * pi .- pi\n",
    "SNAP_GATE = snap(snap_params)"
   ]
  },
  {
   "cell_type": "code",
   "execution_count": 47,
   "metadata": {},
   "outputs": [
    {
     "name": "stdout",
     "output_type": "stream",
     "text": [
      " iterations :1\n",
      "Iter     Function value   Gradient norm \n"
     ]
    },
    {
     "name": "stdout",
     "output_type": "stream",
     "text": [
      "     0     9.592466e-01     6.285484e-03\n",
      " * time: 0.00017905235290527344\n"
     ]
    },
    {
     "name": "stdout",
     "output_type": "stream",
     "text": [
      "   100     6.549122e-01     3.906670e-04\n",
      " * time: 54.941219091415405\n"
     ]
    },
    {
     "name": "stdout",
     "output_type": "stream",
     "text": [
      "   200     6.492235e-01     1.827482e-04\n",
      " * time: 113.62883996963501\n"
     ]
    },
    {
     "name": "stdout",
     "output_type": "stream",
     "text": [
      "   300     6.460527e-01     2.778424e-04\n",
      " * time: 170.32558298110962\n"
     ]
    },
    {
     "name": "stdout",
     "output_type": "stream",
     "text": [
      "   400     6.415797e-01     1.114587e-03\n",
      " * time: 228.48091411590576\n"
     ]
    },
    {
     "ename": "InterruptException",
     "evalue": "InterruptException:",
     "output_type": "error",
     "traceback": [
      "InterruptException:\n",
      "\n",
      "Stacktrace:\n",
      "  [1] Array\n",
      "    @ ./boot.jl:461 [inlined]\n",
      "  [2] Array\n",
      "    @ ./boot.jl:469 [inlined]\n",
      "  [3] similar\n",
      "    @ ./array.jl:378 [inlined]\n",
      "  [4] *\n",
      "    @ /Applications/Julia-1.8.app/Contents/Resources/julia/share/julia/stdlib/v1.8/LinearAlgebra/src/matmul.jl:154 [inlined]\n",
      "  [5] cost_from_0_dispersive(H_drift::Matrix{Float64}, sp::Matrix{Int64}, sm::Matrix{Int64}, a::Matrix{Float64}, adag::Matrix{Float64}, T::Float64, δt::Float64, coefficients::Vector{ComplexF64}, unitary::Matrix{Float64}, ω_c::Int64, ω_q::Int64, initial_state::Vector{Float64}, final_state::Vector{Float64}, amp_q::Int64, amp_c::Int64)\n",
      "    @ Main ~/Desktop/Thesis_julia/Opt3DQalgs/BTgates/src/optimisations/pulse_optimisation_state_prep.ipynb:14\n",
      "  [6] x(x::Vector{ComplexF64})\n",
      "    @ Main ~/Desktop/Thesis_julia/Opt3DQalgs/BTgates/src/optimisations/pulse_optimisation_state_prep.ipynb:1\n",
      "  [7] finite_difference_gradient!(df::Vector{ComplexF64}, f::typeof(x), x::Vector{ComplexF64}, cache::FiniteDiff.GradientCache{Nothing, Nothing, Nothing, Vector{ComplexF64}, Val{:central}(), Float64, Val{true}()}; relstep::Float64, absstep::Float64, dir::Bool)\n",
      "    @ FiniteDiff ~/.julia/packages/FiniteDiff/grio1/src/gradients.jl:318\n",
      "  [8] finite_difference_gradient!\n",
      "    @ ~/.julia/packages/FiniteDiff/grio1/src/gradients.jl:258 [inlined]\n",
      "  [9] (::NLSolversBase.var\"#g!#15\"{typeof(x), FiniteDiff.GradientCache{Nothing, Nothing, Nothing, Vector{ComplexF64}, Val{:central}(), Float64, Val{true}()}})(storage::Vector{ComplexF64}, x::Vector{ComplexF64})\n",
      "    @ NLSolversBase ~/.julia/packages/NLSolversBase/kavn7/src/objective_types/oncedifferentiable.jl:57\n",
      " [10] (::NLSolversBase.var\"#fg!#16\"{typeof(x)})(storage::Vector{ComplexF64}, x::Vector{ComplexF64})\n",
      "    @ NLSolversBase ~/.julia/packages/NLSolversBase/kavn7/src/objective_types/oncedifferentiable.jl:61\n",
      " [11] value_gradient!!(obj::OnceDifferentiable{Float64, Vector{ComplexF64}, Vector{ComplexF64}}, x::Vector{ComplexF64})\n",
      "    @ NLSolversBase ~/.julia/packages/NLSolversBase/kavn7/src/interface.jl:82\n",
      " [12] value_gradient!(obj::OnceDifferentiable{Float64, Vector{ComplexF64}, Vector{ComplexF64}}, x::Vector{ComplexF64})\n",
      "    @ NLSolversBase ~/.julia/packages/NLSolversBase/kavn7/src/interface.jl:69\n",
      " [13] value_gradient!(obj::Optim.ManifoldObjective{OnceDifferentiable{Float64, Vector{ComplexF64}, Vector{ComplexF64}}}, x::Vector{ComplexF64})\n",
      "    @ Optim ~/.julia/packages/Optim/dBGGV/src/Manifolds.jl:50\n",
      " [14] (::LineSearches.var\"#ϕdϕ#6\"{Optim.ManifoldObjective{OnceDifferentiable{Float64, Vector{ComplexF64}, Vector{ComplexF64}}}, Vector{ComplexF64}, Vector{ComplexF64}, Vector{ComplexF64}})(α::Float64)\n",
      "    @ LineSearches ~/.julia/packages/LineSearches/G1LRk/src/LineSearches.jl:84\n",
      " [15] (::LineSearches.HagerZhang{Float64, Base.RefValue{Bool}})(ϕ::Function, ϕdϕ::LineSearches.var\"#ϕdϕ#6\"{Optim.ManifoldObjective{OnceDifferentiable{Float64, Vector{ComplexF64}, Vector{ComplexF64}}}, Vector{ComplexF64}, Vector{ComplexF64}, Vector{ComplexF64}}, c::Float64, phi_0::Float64, dphi_0::Float64)\n",
      "    @ LineSearches ~/.julia/packages/LineSearches/G1LRk/src/hagerzhang.jl:139\n",
      " [16] HagerZhang\n",
      "    @ ~/.julia/packages/LineSearches/G1LRk/src/hagerzhang.jl:101 [inlined]\n",
      " [17] perform_linesearch!(state::Optim.LBFGSState{Vector{ComplexF64}, Vector{Vector{ComplexF64}}, Vector{Vector{ComplexF64}}, Float64, Vector{ComplexF64}}, method::LBFGS{Nothing, LineSearches.InitialStatic{Float64}, LineSearches.HagerZhang{Float64, Base.RefValue{Bool}}, Optim.var\"#19#21\"}, d::Optim.ManifoldObjective{OnceDifferentiable{Float64, Vector{ComplexF64}, Vector{ComplexF64}}})\n",
      "    @ Optim ~/.julia/packages/Optim/dBGGV/src/utilities/perform_linesearch.jl:59\n",
      " [18] update_state!(d::OnceDifferentiable{Float64, Vector{ComplexF64}, Vector{ComplexF64}}, state::Optim.LBFGSState{Vector{ComplexF64}, Vector{Vector{ComplexF64}}, Vector{Vector{ComplexF64}}, Float64, Vector{ComplexF64}}, method::LBFGS{Nothing, LineSearches.InitialStatic{Float64}, LineSearches.HagerZhang{Float64, Base.RefValue{Bool}}, Optim.var\"#19#21\"})\n",
      "    @ Optim ~/.julia/packages/Optim/dBGGV/src/multivariate/solvers/first_order/l_bfgs.jl:204\n",
      " [19] optimize(d::OnceDifferentiable{Float64, Vector{ComplexF64}, Vector{ComplexF64}}, initial_x::Vector{ComplexF64}, method::LBFGS{Nothing, LineSearches.InitialStatic{Float64}, LineSearches.HagerZhang{Float64, Base.RefValue{Bool}}, Optim.var\"#19#21\"}, options::Optim.Options{Float64, Nothing}, state::Optim.LBFGSState{Vector{ComplexF64}, Vector{Vector{ComplexF64}}, Vector{Vector{ComplexF64}}, Float64, Vector{ComplexF64}})\n",
      "    @ Optim ~/.julia/packages/Optim/dBGGV/src/multivariate/optimize/optimize.jl:54\n",
      " [20] optimize\n",
      "    @ ~/.julia/packages/Optim/dBGGV/src/multivariate/optimize/optimize.jl:36 [inlined]\n",
      " [21] #optimize#89\n",
      "    @ ~/.julia/packages/Optim/dBGGV/src/multivariate/optimize/interface.jl:143 [inlined]\n",
      " [22] optimize\n",
      "    @ ~/.julia/packages/Optim/dBGGV/src/multivariate/optimize/interface.jl:139 [inlined]\n",
      " [23] top-level scope\n",
      "    @ ~/Desktop/Thesis_julia/Opt3DQalgs/BTgates/src/optimisations/pulse_optimisation_state_prep.ipynb:20"
     ]
    }
   ],
   "source": [
    "x(x) = cost_from_0_dispersive(H_drift, sp, sm, a, adag, T, T / (50) , x, X_gate, ω_c, ω_q, ψ_initial_rand, ψ_final_x_gate, 10, 10)\n",
    "rx(x) = cost_from_0_dispersive(H_drift, sp, sm, a, adag, T, T / (50) , x, X_gate, ω_c, ω_q, ψ_initial_rand, ψ_final_x, 10, 10)\n",
    "u(x) = cost_from_0_dispersive(H_drift, sp, sm, a, adag, T, T / (50) , x, X_gate, ω_c, ω_q, ψ_initial_rand, ψ_final_u, 10, 10)\n",
    "k(x) = cost_from_0_dispersive(H_drift, sp, sm, a, adag, T, T / (50) , x, X_gate, ω_c, ω_q, ψ_initial, ψ_final_k, 10, 10)\n",
    "superposition(x) = cost_from_0_dispersive(H_drift, sp, sm, a, adag, T, T / (50) , x, X_gate, ω_c, ω_q, ψ_initial, ψ_final_superposition, 10, 10)\n",
    "\n",
    "it_costs_x = []\n",
    "coefficients_x = []\n",
    "it_costs_rx = []\n",
    "coefficients_rx = []\n",
    "it_costs_u = []\n",
    "coefficients_u = []\n",
    "it_costs_superposition = []\n",
    "coefficients_superposition = []\n",
    "it_costs_k = []\n",
    "coefficients_k = []\n",
    "for iteration in 1:3\n",
    "    println(\" iterations :\", iteration)\n",
    "    coefficients = rand(36)*2 .-1 + (rand(36)*2im .-1im)\n",
    "    res_x = Optim.optimize(x, coefficients , LBFGS(), Optim.Options(show_trace=true, show_every=100))\n",
    "    res_rx = Optim.optimize(rx, coefficients , LBFGS(), Optim.Options(show_trace=true, show_every=100))\n",
    "    res_u = Optim.optimize(u, coefficients , LBFGS(), Optim.Options(show_trace=true, show_every=100))\n",
    "    res_superposition = Optim.optimize(superposition, coefficients , LBFGS(), Optim.Options(show_trace=true, show_every=100))\n",
    "    res_k = Optim.optimize(k, coefficients , LBFGS(), Optim.Options(show_trace=true, show_every=100))\n",
    "    push!(it_costs_x,Optim.minimum(res_x))\n",
    "    push!(it_costs_rx,Optim.minimum(res_rx))\n",
    "    push!(it_costs_u,Optim.minimum(res_u))\n",
    "    push!(it_costs_k,Optim.minimum(res_k))\n",
    "    push!(it_costs_superposition,Optim.minimum(res_superposition))\n",
    "    push!(coefficients_x,Optim.minimizer(res_x))\n",
    "    push!(coefficients_rx,Optim.minimizer(res_rx))\n",
    "    push!(coefficients_u,Optim.minimizer(res_u))\n",
    "    push!(coefficients_k,Optim.minimizer(res_k))\n",
    "    push!(coefficients_superposition,Optim.minimizer(res_superposition))\n",
    "    println(Optim.minimum(res_k), Optim.minimum(res_x), Optim.minimum(res_rx), Optim.minimum(res_u), Optim.minimum(res_superposition))\n",
    "end"
   ]
  },
  {
   "cell_type": "code",
   "execution_count": 32,
   "metadata": {},
   "outputs": [
    {
     "data": {
      "text/plain": [
       "\"../../data/state_prep/5_photons/PO/superposition_gate.txt\""
      ]
     },
     "metadata": {},
     "output_type": "display_data"
    }
   ],
   "source": [
    "df_x = DataFrame(fidelity=it_costs_x, coefficients=coefficients_x)\n",
    "df_rx = DataFrame(fidelity=it_costs_rx, coefficients=coefficients_rx)\n",
    "df_u = DataFrame(fidelity=it_costs_u, coefficients=coefficients_u)\n",
    "df_k = DataFrame(fidelity=it_costs_k, coefficients=coefficients_k)\n",
    "df_superposition = DataFrame(fidelity=it_costs_superposition, coefficients=coefficients_superposition)\n",
    "CSV.write(\"../../data/state_prep/5_photons/PO/x_gate.txt\", df_x)\n",
    "CSV.write(\"../../data/state_prep/5_photons/PO/rx_gate.txt\", df_rx)\n",
    "CSV.write(\"../../data/state_prep/5_photons/PO/u_gate.txt\", df_u)\n",
    "CSV.write(\"../../data/state_prep/5_photons/PO/k_gate.txt\", df_k)\n",
    "CSV.write(\"../../data/state_prep/5_photons/PO/superposition_gate.txt\", df_superposition)"
   ]
  },
  {
   "cell_type": "code",
   "execution_count": null,
   "metadata": {},
   "outputs": [],
   "source": []
  }
 ],
 "metadata": {
  "kernelspec": {
   "display_name": "Julia 1.8.4",
   "language": "julia",
   "name": "julia-1.8"
  },
  "language_info": {
   "file_extension": ".jl",
   "mimetype": "application/julia",
   "name": "julia",
   "version": "1.8.4"
  },
  "orig_nbformat": 4
 },
 "nbformat": 4,
 "nbformat_minor": 2
}
