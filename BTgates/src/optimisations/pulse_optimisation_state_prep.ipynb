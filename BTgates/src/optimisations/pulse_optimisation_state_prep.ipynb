{
 "cells": [
  {
   "cell_type": "code",
   "execution_count": 32,
   "metadata": {},
   "outputs": [
    {
     "data": {
      "text/plain": [
       "U2 (generic function with 1 method)"
      ]
     },
     "metadata": {},
     "output_type": "display_data"
    }
   ],
   "source": [
    "include(\"../Algebra/Gradients.jl\")\n",
    "include(\"../Algebra/Hamiltonians.jl\")\n",
    "include(\"../Algebra/Matrices.jl\")\n",
    "include(\"../Algebra/Propagators.jl\")\n",
    "include(\"../Amplitudes/Chebyshev.jl\")\n",
    "include(\"../Costs/Costs.jl\")\n",
    "include(\"../Gates/Xgate.jl\")"
   ]
  },
  {
   "cell_type": "code",
   "execution_count": 33,
   "metadata": {},
   "outputs": [],
   "source": [
    "using LinearAlgebra, Optim, Measures, CSV, DataFrames,Plots"
   ]
  },
  {
   "cell_type": "code",
   "execution_count": 41,
   "metadata": {},
   "outputs": [
    {
     "data": {
      "text/plain": [
       "0.1"
      ]
     },
     "metadata": {},
     "output_type": "display_data"
    }
   ],
   "source": [
    "ω_c = 5000\n",
    "ω_q = 3000\n",
    "χ = 3e-1\n",
    "N = 4\n",
    "amp_c = 1\n",
    "amp_q = 1\n",
    "T = 0.1"
   ]
  },
  {
   "attachments": {},
   "cell_type": "markdown",
   "metadata": {},
   "source": [
    "### Target gate"
   ]
  },
  {
   "cell_type": "code",
   "execution_count": 42,
   "metadata": {},
   "outputs": [
    {
     "data": {
      "text/plain": [
       "8×8 Matrix{ComplexF64}:\n",
       " 0.699251+0.714876im       0.0+0.0im       …       0.0+0.0im\n",
       "      0.0+0.0im       0.699251-0.714876im          0.0+0.0im\n",
       "      0.0+0.0im            0.0+0.0im               0.0+0.0im\n",
       "      0.0+0.0im            0.0+0.0im               0.0+0.0im\n",
       "      0.0+0.0im            0.0+0.0im               0.0+0.0im\n",
       "      0.0+0.0im            0.0+0.0im       …       0.0+0.0im\n",
       "      0.0+0.0im            0.0+0.0im               0.0+0.0im\n",
       "      0.0+0.0im            0.0+0.0im          0.633413+0.773814im"
      ]
     },
     "metadata": {},
     "output_type": "display_data"
    }
   ],
   "source": [
    "I_qubit = Matrix(I,2,2)\n",
    "I_cavity = Matrix(I,N,N)\n",
    "#X_gate = kron(x_gate(N, Array[[3,4], [5,6], [7,8]]), I_qubit)\n",
    "#X_gate = kron(x_gate(N, Array[[1,2]]), I_qubit)\n",
    "X_gate = kron(x_gate(N, Array[[3,4]]), I_qubit)\n",
    "\n",
    "θ = π/2.5\n",
    "RZ = kron(Rz(N, Array[[1,3]], θ), I_qubit)\n",
    "RX = kron(Rx(N, Array[[3,4]], θ/4), I_qubit)\n",
    "Udue = kron(U2(N, Array[[3,4]], [θ/2 θ/3 θ/4] ), I_qubit)\n",
    "\n",
    "sx = kron(I_cavity, [0 1; 1 0])\n",
    "sy = kron(I_cavity, [0 -1im; 1im 0])\n",
    "# generating matrices\n",
    "a,adag,sp,sm,sz = generate_matrices(N)\n",
    "\n",
    "ψ_initial = zeros(N)\n",
    "ψ_initial[1] = 1\n",
    "ψ_initial = kron(ψ_initial/norm(ψ_initial), [0,1])\n",
    "\n",
    "ψ_initial_rand = rand(N)\n",
    "ψ_initial_rand = kron(ψ_initial_rand/norm(ψ_initial_rand), [0,1])\n",
    "ψ_final_u = Udue * ψ_initial_rand\n",
    "ψ_final_x = RX * ψ_initial_rand\n",
    "ψ_final_x_gate = X_gate * ψ_initial_rand\n",
    "ψ_final_superposition = kron(ones(N)/norm(ones(N)), [0,1])\n",
    "\n",
    "ψ_final_k = zeros(N)\n",
    "ψ_final_k[4] = 1\n",
    "ψ_final_k = kron(ψ_final_k/norm(ψ_final_k), [0,1])\n",
    "\n",
    "\n",
    "interaction_transformation(t) = cis(- (ω_c * a' * a + ω_q / 2 * sz) * t)\n",
    "int_transformation = interaction_transformation(T)"
   ]
  },
  {
   "cell_type": "code",
   "execution_count": 43,
   "metadata": {},
   "outputs": [
    {
     "data": {
      "text/plain": [
       "8×8 Matrix{Float64}:\n",
       " 0.0  0.0  0.0    0.0   0.0   0.0  0.0    0.0\n",
       " 0.0  0.0  0.0    0.0   0.0   0.0  0.0    0.0\n",
       " 0.0  0.0  0.15   0.0   0.0   0.0  0.0    0.0\n",
       " 0.0  0.0  0.0   -0.15  0.0   0.0  0.0    0.0\n",
       " 0.0  0.0  0.0    0.0   0.3   0.0  0.0    0.0\n",
       " 0.0  0.0  0.0    0.0   0.0  -0.3  0.0    0.0\n",
       " 0.0  0.0  0.0    0.0   0.0   0.0  0.45   0.0\n",
       " 0.0  0.0  0.0    0.0   0.0   0.0  0.0   -0.45"
      ]
     },
     "metadata": {},
     "output_type": "display_data"
    }
   ],
   "source": [
    "H_drift = χ * adag * a * sz / 2"
   ]
  },
  {
   "cell_type": "code",
   "execution_count": 44,
   "metadata": {},
   "outputs": [
    {
     "data": {
      "text/plain": [
       "gradient (generic function with 2 methods)"
      ]
     },
     "metadata": {},
     "output_type": "display_data"
    }
   ],
   "source": [
    "function cost_from_0_dispersive(H_drift, sp, sm, a, adag, T, δt, coefficients, unitary, ω_c, ω_q, initial_state, final_state, amp_q, amp_c, int_transformation)\n",
    "\n",
    "    # initialising the propagator\n",
    "    dim = size(H_drift,1)\n",
    "    propagator = Matrix{ComplexF64}(I,dim,dim)\n",
    "    amplitude_c(t) = chebyshev_amplitude(coefficients[1:Int(length(coefficients)/2)], T, t)\n",
    "    amplitude_q(t) = chebyshev_amplitude(coefficients[Int(length(coefficients)/2) + 1:end], T, t)\n",
    "\n",
    "    # time ordered product of the single exponential matrices\n",
    "    # is this true at all? or we need more time steps aniway?\n",
    "    for l in 0:δt:T\n",
    "        H = H_drift + amp_q * (amplitude_q(l) * sp + amplitude_q(l)' * sm) + amp_c * (amplitude_c(l) * a +  amplitude_c(l)' * adag)\n",
    "        infinitesimal_propagator  = cis(- H * δt)\n",
    "        propagator = infinitesimal_propagator * propagator\n",
    "    end\n",
    "\n",
    "    c = final_state' * int_transformation' * propagator * int_transformation * initial_state\n",
    "   \n",
    "    return 1 - norm(c)^2\n",
    "end\n",
    "\n",
    "function cost_from_0_dispersive_gate(H_drift, sp, sm, a, adag, T, δt, coefficients, unitary, ω_c, ω_q, amp_q, amp_c)\n",
    "\n",
    "    # initialising the propagator\n",
    "    dim = size(H_drift,1)\n",
    "    propagator = Matrix{ComplexF64}(I,dim,dim)\n",
    "    amplitude_c(t) = chebyshev_amplitude(coefficients[1:Int(length(coefficients)/2)], T, t)\n",
    "    amplitude_q(t) = chebyshev_amplitude(coefficients[Int(length(coefficients)/2) + 1:end], T, t)\n",
    "\n",
    "    # time ordered product of the single exponential matrices\n",
    "    # is this true at all? or we need more time steps aniway?\n",
    "    for l in 0:δt:T\n",
    "        H = H_drift + amp_q * (amplitude_q(l) * sp + amplitude_q(l)' * sm) + amp_c * (amplitude_c(l) * a +  amplitude_c(l)' * adag)\n",
    "        infinitesimal_propagator  = cis(- H * δt)\n",
    "        propagator = infinitesimal_propagator * propagator\n",
    "    end\n",
    "\n",
    "    c = tr(unitary' * int_transformation * propagator)/dim\n",
    "   \n",
    "    return 1 - norm(c)^2\n",
    "end\n",
    "\n",
    "function cost_from_0_dispersive_gate_non_interaction(H_drift, sp, sm, a, adag, T, δt, coefficients, unitary, ω_c, ω_q, amp_q, amp_c)\n",
    "\n",
    "    # initialising the propagator\n",
    "    dim = size(H_drift,1)\n",
    "    propagator = Matrix{ComplexF64}(I,dim,dim)\n",
    "    amplitude_c(t) = chebyshev_amplitude(coefficients[1:Int(length(coefficients)/2)], T, t)\n",
    "    amplitude_q(t) = chebyshev_amplitude(coefficients[Int(length(coefficients)/2) + 1:end], T, t)\n",
    "\n",
    "    # time ordered product of the single exponential matrices\n",
    "    # is this true at all? or we need more time steps aniway?\n",
    "    for l in 0:δt:T\n",
    "        H = H_drift + amp_q * (amplitude_q(l) * sp + amplitude_q(l)' * sm) + amp_c * (amplitude_c(l) * a +  amplitude_c(l)' * adag)\n",
    "        infinitesimal_propagator  = cis(- H * δt)\n",
    "        propagator = infinitesimal_propagator * propagator\n",
    "    end\n",
    "\n",
    "    c = tr(unitary' * propagator)/dim\n",
    "   \n",
    "    return 1 - norm(c)^2\n",
    "end\n",
    "\n",
    "function propagator(H_drift, sp, sm, a, adag, T, δt, coefficients)\n",
    "\n",
    "    # initialising the propagator\n",
    "    dim = size(H_drift,1)\n",
    "    propagator = Matrix{ComplexF64}(I,dim,dim)\n",
    "\n",
    "    amplitude_c = [ChebyshevT(coefficients[1:Int(length(coefficients)/2)])((2t - T)/T) for t in 0:δt:T]\n",
    "    amplitude_q = [ChebyshevT(coefficients[Int(length(coefficients)/2) + 1:end])((2t - T)/T) for t in 0:δt:T]\n",
    "\n",
    "\n",
    "    # time ordered product of the single exponential matrices\n",
    "    # is this true at all? or we need more time steps aniway?\n",
    "    for n in 1:1:Int(T/δt)+1\n",
    "        H = H_drift + (amplitude_q(n) * sp + amplitude_q(n)' * sm) + (amplitude_c(n) * a + amplitude_c(n)' * adag)\n",
    "        infinitesimal_propagator  = cis(- H * δt)\n",
    "        propagator = infinitesimal_propagator * propagator\n",
    "    end\n",
    "\n",
    "    return propagator * exp(-1im*angle(propagator[8, 8]))\n",
    "    \n",
    "end\n",
    "\n",
    "function gradient(coefficients, unitary, N, h, cost_before_increment,cost)\n",
    "\n",
    "    L = length(coefficients)\n",
    "    gradient = zeros(L)\n",
    "\n",
    "    for i in 1:L\n",
    "        coeffs_copy = copy(coefficients)\n",
    "        coeffs_copy[i] = coefficients[i] + h\n",
    "        gradient[i] = (cost(coeffs_copy) - cost_before_increment) / h\n",
    "    end\n",
    "\n",
    "    return gradient\n",
    "\n",
    "end"
   ]
  },
  {
   "cell_type": "code",
   "execution_count": 45,
   "metadata": {},
   "outputs": [
    {
     "data": {
      "text/plain": [
       "8×8 Matrix{ComplexF64}:\n",
       " -0.955251-0.295796im       -0.0-0.0im       …      0.0+0.0im\n",
       "      -0.0-0.0im       -0.955251-0.295796im         0.0+0.0im\n",
       "       0.0+0.0im             0.0+0.0im              0.0+0.0im\n",
       "       0.0+0.0im             0.0+0.0im              0.0+0.0im\n",
       "       0.0+0.0im             0.0+0.0im              0.0+0.0im\n",
       "       0.0+0.0im             0.0+0.0im       …      0.0+0.0im\n",
       "       0.0+0.0im             0.0+0.0im              0.0+0.0im\n",
       "       0.0+0.0im             0.0+0.0im          0.94517+0.326578im"
      ]
     },
     "metadata": {},
     "output_type": "display_data"
    }
   ],
   "source": [
    "snap(x) = kron(Diagonal(exp.(-1im.*x)),I_qubit)\n",
    "snap_params = rand(N) * 2 * pi .- pi\n",
    "SNAP_GATE = snap(snap_params)"
   ]
  },
  {
   "cell_type": "code",
   "execution_count": 46,
   "metadata": {},
   "outputs": [
    {
     "name": "stdout",
     "output_type": "stream",
     "text": [
      " iterations :1\n",
      "Iter     Function value   Gradient norm \n"
     ]
    },
    {
     "name": "stdout",
     "output_type": "stream",
     "text": [
      "     0     3.908466e-01     4.210550e-01\n",
      " * time: 0.0002338886260986328\n"
     ]
    },
    {
     "name": "stdout",
     "output_type": "stream",
     "text": [
      "    10     1.086618e-02     2.076775e-04\n",
      " * time: 0.7955880165100098\n"
     ]
    },
    {
     "name": "stdout",
     "output_type": "stream",
     "text": [
      "    20     1.029453e-02     7.106292e-03\n",
      " * time: 1.678067922592163\n"
     ]
    },
    {
     "name": "stdout",
     "output_type": "stream",
     "text": [
      "    30     6.115786e-03     5.581970e-03\n",
      " * time: 2.2525668144226074\n"
     ]
    },
    {
     "name": "stdout",
     "output_type": "stream",
     "text": [
      "    40     3.238515e-03     2.614040e-03\n",
      " * time: 2.936246871948242\n"
     ]
    },
    {
     "name": "stdout",
     "output_type": "stream",
     "text": [
      "    50     1.526015e-03     2.579284e-03\n",
      " * time: 3.699631929397583\n"
     ]
    },
    {
     "name": "stdout",
     "output_type": "stream",
     "text": [
      "    60     6.667496e-04     3.808447e-03\n",
      " * time: 4.352689981460571\n"
     ]
    },
    {
     "name": "stdout",
     "output_type": "stream",
     "text": [
      "    70     7.688813e-05     1.166234e-03\n",
      " * time: 4.940948963165283\n"
     ]
    },
    {
     "name": "stdout",
     "output_type": "stream",
     "text": [
      "    80     3.281368e-07     2.260396e-05\n",
      " * time: 5.642475843429565\n"
     ]
    },
    {
     "name": "stdout",
     "output_type": "stream",
     "text": [
      "    90     1.152993e-07     2.729188e-07\n",
      " * time: 6.562099933624268\n"
     ]
    },
    {
     "name": "stdout",
     "output_type": "stream",
     "text": [
      "   100     9.754083e-09     1.503562e-05\n",
      " * time: 7.530591011047363\n"
     ]
    },
    {
     "name": "stdout",
     "output_type": "stream",
     "text": [
      "   110     7.766334e-09     1.493110e-07\n",
      " * time: 8.270489931106567\n"
     ]
    },
    {
     "name": "stdout",
     "output_type": "stream",
     "text": [
      "   120     7.763050e-09     3.113952e-07\n",
      " * time: 9.021719932556152\n"
     ]
    },
    {
     "name": "stdout",
     "output_type": "stream",
     "text": [
      "   130     7.330706e-09     7.201387e-07\n",
      " * time: 9.953029870986938\n"
     ]
    },
    {
     "name": "stdout",
     "output_type": "stream",
     "text": [
      "   140     7.325831e-09     3.267871e-07\n",
      " * time: 10.684110879898071\n"
     ]
    },
    {
     "name": "stdout",
     "output_type": "stream",
     "text": [
      "   150     6.182219e-09     8.671158e-06\n",
      " * time: 11.548911809921265\n"
     ]
    },
    {
     "name": "stdout",
     "output_type": "stream",
     "text": [
      "   160     1.813357e-09     3.092043e-06\n",
      " * time: 12.329388856887817\n"
     ]
    },
    {
     "name": "stdout",
     "output_type": "stream",
     "text": [
      "   170     1.721009e-09     8.340008e-08\n",
      " * time: 13.17699384689331\n"
     ]
    },
    {
     "name": "stdout",
     "output_type": "stream",
     "text": [
      "   180     1.719387e-09     8.073180e-08\n",
      " * time: 13.868788957595825\n"
     ]
    },
    {
     "name": "stdout",
     "output_type": "stream",
     "text": [
      "   190     1.716889e-09     2.267769e-07\n",
      " * time: 14.594805002212524\n"
     ]
    },
    {
     "name": "stdout",
     "output_type": "stream",
     "text": [
      "   200     1.714757e-09     2.807326e-07\n",
      " * time: 15.886343002319336\n"
     ]
    },
    {
     "name": "stdout",
     "output_type": "stream",
     "text": [
      "   210     1.710893e-09     4.468085e-07\n",
      " * time: 16.756475925445557\n"
     ]
    },
    {
     "name": "stdout",
     "output_type": "stream",
     "text": [
      "   220     1.608179e-09     1.171397e-07\n",
      " * time: 17.605018854141235\n"
     ]
    },
    {
     "name": "stdout",
     "output_type": "stream",
     "text": [
      "   230     1.417434e-09     3.344053e-06\n",
      " * time: 18.71039080619812\n"
     ]
    },
    {
     "name": "stdout",
     "output_type": "stream",
     "text": [
      "   240     8.553862e-10     7.983682e-07\n",
      " * time: 19.51546597480774\n"
     ]
    },
    {
     "name": "stdout",
     "output_type": "stream",
     "text": [
      "   250     8.493686e-10     2.571052e-08\n",
      " * time: 20.1912579536438\n"
     ]
    },
    {
     "name": "stdout",
     "output_type": "stream",
     "text": [
      "   260     8.490770e-10     1.355849e-07\n",
      " * time: 20.960346937179565\n"
     ]
    },
    {
     "name": "stdout",
     "output_type": "stream",
     "text": [
      "   270     8.471837e-10     3.215848e-07\n",
      " * time: 21.709934949874878\n"
     ]
    },
    {
     "name": "stdout",
     "output_type": "stream",
     "text": [
      "   280     8.425223e-10     1.100500e-07\n",
      " * time: 22.438541889190674\n"
     ]
    },
    {
     "name": "stdout",
     "output_type": "stream",
     "text": [
      "   290     8.358214e-10     6.040433e-08\n",
      " * time: 23.220170974731445\n"
     ]
    },
    {
     "name": "stdout",
     "output_type": "stream",
     "text": [
      "   300     8.344947e-10     9.237538e-08\n",
      " * time: 23.971126794815063\n"
     ]
    },
    {
     "name": "stdout",
     "output_type": "stream",
     "text": [
      "   310     8.337273e-10     1.673905e-07\n",
      " * time: 24.753551959991455\n"
     ]
    },
    {
     "name": "stdout",
     "output_type": "stream",
     "text": [
      "   320     7.993035e-10     1.419532e-06\n",
      " * time: 25.553772926330566\n"
     ]
    },
    {
     "name": "stdout",
     "output_type": "stream",
     "text": [
      "   330     6.493004e-10     3.039497e-06\n",
      " * time: 26.360747814178467\n"
     ]
    },
    {
     "name": "stdout",
     "output_type": "stream",
     "text": [
      "   340     1.232339e-10     5.374667e-08\n",
      " * time: 27.47039484977722\n"
     ]
    },
    {
     "name": "stdout",
     "output_type": "stream",
     "text": [
      "   350     1.219045e-10     2.130985e-07\n",
      " * time: 28.151724815368652\n"
     ]
    },
    {
     "name": "stdout",
     "output_type": "stream",
     "text": [
      "   360     1.214284e-10     8.792879e-08\n",
      " * time: 28.820100784301758\n"
     ]
    },
    {
     "name": "stdout",
     "output_type": "stream",
     "text": [
      "   370     1.211602e-10     3.438575e-08\n",
      " * time: 29.493974924087524\n"
     ]
    },
    {
     "name": "stdout",
     "output_type": "stream",
     "text": [
      "   380     1.204599e-10     6.958702e-08\n",
      " * time: 30.300964832305908\n"
     ]
    },
    {
     "name": "stdout",
     "output_type": "stream",
     "text": [
      "   390     1.185734e-10     2.647243e-07\n",
      " * time: 31.079434871673584\n"
     ]
    },
    {
     "name": "stdout",
     "output_type": "stream",
     "text": [
      "   400     5.404588e-11     2.080812e-06\n",
      " * time: 31.867650985717773\n"
     ]
    },
    {
     "name": "stdout",
     "output_type": "stream",
     "text": [
      "   410     2.454370e-11     4.742923e-08\n",
      " * time: 32.622745990753174\n"
     ]
    },
    {
     "name": "stdout",
     "output_type": "stream",
     "text": [
      "   420     2.345080e-11     6.105241e-08\n",
      " * time: 33.53726387023926\n"
     ]
    },
    {
     "name": "stdout",
     "output_type": "stream",
     "text": [
      "   430     2.296030e-11     1.333229e-07\n",
      " * time: 34.234747886657715\n"
     ]
    },
    {
     "name": "stdout",
     "output_type": "stream",
     "text": [
      "   440     2.280909e-11     1.004492e-08\n",
      " * time: 35.01069378852844\n"
     ]
    },
    {
     "name": "stdout",
     "output_type": "stream",
     "text": [
      "Iter     Function value   Gradient norm \n",
      "     0     4.653528e-01     3.704495e-01\n",
      " * time: 0.0001499652862548828\n"
     ]
    },
    {
     "name": "stdout",
     "output_type": "stream",
     "text": [
      "    10     1.506128e-03     6.198731e-03\n",
      " * time: 0.8626739978790283\n"
     ]
    },
    {
     "name": "stdout",
     "output_type": "stream",
     "text": [
      "    20     9.386398e-05     1.675900e-03\n",
      " * time: 1.5517370700836182\n"
     ]
    },
    {
     "name": "stdout",
     "output_type": "stream",
     "text": [
      "    30     1.265276e-05     1.594618e-03\n",
      " * time: 2.1626429557800293\n"
     ]
    },
    {
     "name": "stdout",
     "output_type": "stream",
     "text": [
      "    40     3.499705e-06     5.659455e-04\n",
      " * time: 2.904412031173706\n"
     ]
    },
    {
     "name": "stdout",
     "output_type": "stream",
     "text": [
      "    50     1.526931e-06     1.148251e-04\n",
      " * time: 3.643537998199463\n"
     ]
    },
    {
     "name": "stdout",
     "output_type": "stream",
     "text": [
      "    60     9.446927e-07     3.368989e-05\n",
      " * time: 4.3002610206604\n"
     ]
    },
    {
     "name": "stdout",
     "output_type": "stream",
     "text": [
      "    70     2.771032e-08     9.209864e-05\n",
      " * time: 5.044249057769775\n"
     ]
    },
    {
     "name": "stdout",
     "output_type": "stream",
     "text": [
      "    80     1.824556e-08     5.155493e-07\n",
      " * time: 5.7691590785980225\n"
     ]
    },
    {
     "name": "stdout",
     "output_type": "stream",
     "text": [
      "    90     1.413201e-08     1.294199e-06\n",
      " * time: 6.565356969833374\n"
     ]
    },
    {
     "name": "stdout",
     "output_type": "stream",
     "text": [
      "   100     8.214072e-09     2.141264e-05\n",
      " * time: 7.385168075561523\n"
     ]
    },
    {
     "name": "stdout",
     "output_type": "stream",
     "text": [
      "   110     9.753764e-10     9.211010e-06\n",
      " * time: 8.075886011123657\n"
     ]
    },
    {
     "name": "stdout",
     "output_type": "stream",
     "text": [
      "   120     6.401095e-10     9.294829e-07\n",
      " * time: 8.764121055603027\n"
     ]
    },
    {
     "name": "stdout",
     "output_type": "stream",
     "text": [
      "   130     6.302998e-10     3.671216e-08\n",
      " * time: 9.436661958694458\n"
     ]
    },
    {
     "name": "stdout",
     "output_type": "stream",
     "text": [
      "   140     6.302940e-10     2.095565e-08\n",
      " * time: 11.689398050308228\n"
     ]
    },
    {
     "name": "stdout",
     "output_type": "stream",
     "text": [
      "   150     6.302920e-10     6.110621e-08\n",
      " * time: 18.905279874801636\n"
     ]
    },
    {
     "name": "stdout",
     "output_type": "stream",
     "text": [
      "   160     6.302618e-10     1.639057e-08\n",
      " * time: 23.53432297706604\n"
     ]
    },
    {
     "name": "stdout",
     "output_type": "stream",
     "text": [
      "Iter     Function value   Gradient norm \n",
      "     0     5.737877e-01     3.450627e-01\n",
      " * time: 0.00014400482177734375\n"
     ]
    },
    {
     "name": "stdout",
     "output_type": "stream",
     "text": [
      "    10     1.023319e-02     6.007316e-03\n",
      " * time: 0.8419311046600342\n"
     ]
    },
    {
     "name": "stdout",
     "output_type": "stream",
     "text": [
      "    20     9.513406e-04     1.105273e-02\n",
      " * time: 1.608896017074585\n"
     ]
    },
    {
     "name": "stdout",
     "output_type": "stream",
     "text": [
      "    30     2.609987e-04     1.513314e-03\n",
      " * time: 2.326904058456421\n"
     ]
    },
    {
     "name": "stdout",
     "output_type": "stream",
     "text": [
      "    40     1.335265e-04     6.111543e-04\n",
      " * time: 2.9630911350250244\n"
     ]
    },
    {
     "name": "stdout",
     "output_type": "stream",
     "text": [
      "    50     1.278926e-04     3.697407e-04\n",
      " * time: 3.7473361492156982\n"
     ]
    },
    {
     "name": "stdout",
     "output_type": "stream",
     "text": [
      "    60     4.447974e-05     2.459541e-03\n",
      " * time: 4.525222063064575\n"
     ]
    },
    {
     "name": "stdout",
     "output_type": "stream",
     "text": [
      "    70     9.648967e-07     4.846455e-05\n",
      " * time: 5.231019020080566\n"
     ]
    },
    {
     "name": "stdout",
     "output_type": "stream",
     "text": [
      "    80     3.028873e-08     1.319307e-05\n",
      " * time: 6.1870410442352295\n"
     ]
    },
    {
     "name": "stdout",
     "output_type": "stream",
     "text": [
      "    90     2.973750e-08     1.782974e-06\n",
      " * time: 7.002577066421509\n"
     ]
    },
    {
     "name": "stdout",
     "output_type": "stream",
     "text": [
      "   100     2.830152e-08     2.009710e-07\n",
      " * time: 7.815287113189697\n"
     ]
    },
    {
     "name": "stdout",
     "output_type": "stream",
     "text": [
      "   110     2.578535e-08     1.462728e-05\n",
      " * time: 8.659467935562134\n"
     ]
    },
    {
     "name": "stdout",
     "output_type": "stream",
     "text": [
      "   120     1.637032e-08     1.039215e-05\n",
      " * time: 9.251272916793823\n"
     ]
    },
    {
     "name": "stdout",
     "output_type": "stream",
     "text": [
      "   130     1.404370e-08     1.720337e-06\n",
      " * time: 9.857027053833008\n"
     ]
    },
    {
     "name": "stdout",
     "output_type": "stream",
     "text": [
      "   140     1.362102e-08     5.156842e-07\n",
      " * time: 10.65350604057312\n"
     ]
    },
    {
     "name": "stdout",
     "output_type": "stream",
     "text": [
      "   150     1.356566e-08     3.654628e-07\n",
      " * time: 11.412605047225952\n"
     ]
    },
    {
     "name": "stdout",
     "output_type": "stream",
     "text": [
      "   160     1.350816e-08     8.022546e-07\n",
      " * time: 12.14376711845398\n"
     ]
    },
    {
     "name": "stdout",
     "output_type": "stream",
     "text": [
      "   170     1.349611e-08     1.850629e-07\n",
      " * time: 12.805926084518433\n"
     ]
    },
    {
     "name": "stdout",
     "output_type": "stream",
     "text": [
      "   180     1.349484e-08     2.804304e-07\n",
      " * time: 13.513185024261475\n"
     ]
    },
    {
     "name": "stdout",
     "output_type": "stream",
     "text": [
      "   190     1.348488e-08     1.682586e-07\n",
      " * time: 14.25546407699585\n"
     ]
    },
    {
     "name": "stdout",
     "output_type": "stream",
     "text": [
      "   200     1.348277e-08     3.581898e-07\n",
      " * time: 14.962604999542236\n"
     ]
    },
    {
     "name": "stdout",
     "output_type": "stream",
     "text": [
      "   210     1.342153e-08     2.127991e-06\n",
      " * time: 15.785972118377686\n"
     ]
    },
    {
     "name": "stdout",
     "output_type": "stream",
     "text": [
      "   220     1.339513e-08     4.040026e-07\n",
      " * time: 16.5437331199646\n"
     ]
    },
    {
     "name": "stdout",
     "output_type": "stream",
     "text": [
      "   230     1.332789e-08     1.591393e-07\n",
      " * time: 17.31078004837036\n"
     ]
    },
    {
     "name": "stdout",
     "output_type": "stream",
     "text": [
      "   240     1.332088e-08     4.072077e-07\n",
      " * time: 18.153708934783936\n"
     ]
    },
    {
     "name": "stdout",
     "output_type": "stream",
     "text": [
      "   250     1.324825e-08     1.118509e-06\n",
      " * time: 19.000903129577637\n"
     ]
    },
    {
     "name": "stdout",
     "output_type": "stream",
     "text": [
      "   260     1.229717e-08     7.804281e-06\n",
      " * time: 19.80966806411743\n"
     ]
    },
    {
     "name": "stdout",
     "output_type": "stream",
     "text": [
      "   270     7.164534e-09     1.205012e-05\n",
      " * time: 20.568629026412964\n"
     ]
    },
    {
     "name": "stdout",
     "output_type": "stream",
     "text": [
      "   280     2.513659e-09     1.387076e-06\n",
      " * time: 21.19207000732422\n"
     ]
    },
    {
     "name": "stdout",
     "output_type": "stream",
     "text": [
      "   290     1.833597e-09     3.006785e-06\n",
      " * time: 21.926528930664062\n"
     ]
    },
    {
     "name": "stdout",
     "output_type": "stream",
     "text": [
      "   300     1.349281e-09     3.782345e-06\n",
      " * time: 22.633867979049683\n"
     ]
    },
    {
     "name": "stdout",
     "output_type": "stream",
     "text": [
      "   310     1.202025e-09     1.125995e-06\n",
      " * time: 23.31593608856201\n"
     ]
    },
    {
     "name": "stdout",
     "output_type": "stream",
     "text": [
      "   320     1.167339e-09     6.345342e-07\n",
      " * time: 24.084002017974854\n"
     ]
    },
    {
     "name": "stdout",
     "output_type": "stream",
     "text": [
      "   330     1.156132e-09     7.167079e-07\n",
      " * time: 24.792825937271118\n"
     ]
    },
    {
     "name": "stdout",
     "output_type": "stream",
     "text": [
      "   340     1.141500e-09     7.307758e-07\n",
      " * time: 25.620962142944336\n"
     ]
    },
    {
     "name": "stdout",
     "output_type": "stream",
     "text": [
      "   350     1.133019e-09     5.089777e-07\n",
      " * time: 26.309314966201782\n"
     ]
    },
    {
     "name": "stdout",
     "output_type": "stream",
     "text": [
      "   360     1.056803e-09     3.744687e-06\n",
      " * time: 27.021979093551636\n"
     ]
    },
    {
     "name": "stdout",
     "output_type": "stream",
     "text": [
      "   370     7.303478e-10     1.744306e-06\n",
      " * time: 27.652148008346558\n"
     ]
    },
    {
     "name": "stdout",
     "output_type": "stream",
     "text": [
      "   380     7.104055e-10     1.178674e-07\n",
      " * time: 28.446805953979492\n"
     ]
    },
    {
     "name": "stdout",
     "output_type": "stream",
     "text": [
      "   390     7.096310e-10     1.166353e-07\n",
      " * time: 29.22991108894348\n"
     ]
    },
    {
     "name": "stdout",
     "output_type": "stream",
     "text": [
      "   400     7.072771e-10     1.734722e-07\n",
      " * time: 29.970030069351196\n"
     ]
    },
    {
     "name": "stdout",
     "output_type": "stream",
     "text": [
      "   410     7.062031e-10     2.529656e-07\n",
      " * time: 30.711358070373535\n"
     ]
    },
    {
     "name": "stdout",
     "output_type": "stream",
     "text": [
      "   420     7.057648e-10     2.183781e-07\n",
      " * time: 31.47354793548584\n"
     ]
    },
    {
     "name": "stdout",
     "output_type": "stream",
     "text": [
      "   430     7.045300e-10     3.410470e-07\n",
      " * time: 32.1549551486969\n"
     ]
    },
    {
     "name": "stdout",
     "output_type": "stream",
     "text": [
      "   440     7.011465e-10     6.494395e-07\n",
      " * time: 32.96890902519226\n"
     ]
    },
    {
     "name": "stdout",
     "output_type": "stream",
     "text": [
      "   450     6.943748e-10     6.070179e-08\n",
      " * time: 33.65756011009216\n"
     ]
    },
    {
     "name": "stdout",
     "output_type": "stream",
     "text": [
      "   460     6.932170e-10     1.038900e-07\n",
      " * time: 34.419158935546875\n"
     ]
    },
    {
     "name": "stdout",
     "output_type": "stream",
     "text": [
      "   470     6.931782e-10     5.482761e-08\n",
      " * time: 35.42715501785278\n"
     ]
    },
    {
     "name": "stdout",
     "output_type": "stream",
     "text": [
      "   480     6.928937e-10     4.289065e-07\n",
      " * time: 36.2195999622345\n"
     ]
    },
    {
     "name": "stdout",
     "output_type": "stream",
     "text": [
      "   490     6.891880e-10     3.253050e-07\n",
      " * time: 37.007997035980225\n"
     ]
    },
    {
     "name": "stdout",
     "output_type": "stream",
     "text": [
      "   500     6.668941e-10     9.255678e-07\n",
      " * time: 37.84517192840576\n"
     ]
    },
    {
     "name": "stdout",
     "output_type": "stream",
     "text": [
      "   510     6.614467e-10     1.312887e-07\n",
      " * time: 38.611156940460205\n"
     ]
    },
    {
     "name": "stdout",
     "output_type": "stream",
     "text": [
      "   520     6.597725e-10     2.216814e-07\n",
      " * time: 39.36852192878723\n"
     ]
    },
    {
     "name": "stdout",
     "output_type": "stream",
     "text": [
      "   530     6.418635e-10     2.454360e-07\n",
      " * time: 40.20721411705017\n"
     ]
    },
    {
     "name": "stdout",
     "output_type": "stream",
     "text": [
      "   540     6.323049e-10     7.924583e-08\n",
      " * time: 40.88444995880127\n"
     ]
    },
    {
     "name": "stdout",
     "output_type": "stream",
     "text": [
      "   550     6.230527e-10     1.049275e-06\n",
      " * time: 41.673799991607666\n"
     ]
    },
    {
     "name": "stdout",
     "output_type": "stream",
     "text": [
      "   560     5.481022e-10     1.013400e-06\n",
      " * time: 42.431833028793335\n"
     ]
    },
    {
     "name": "stdout",
     "output_type": "stream",
     "text": [
      "   570     5.437633e-10     7.283587e-08\n",
      " * time: 43.164355993270874\n"
     ]
    },
    {
     "name": "stdout",
     "output_type": "stream",
     "text": [
      "Iter     Function value   Gradient norm \n",
      "     0     7.316054e-01     2.461036e-01\n",
      " * time: 0.00025081634521484375\n"
     ]
    },
    {
     "name": "stdout",
     "output_type": "stream",
     "text": [
      "    10     5.980884e-03     2.817057e-03\n",
      " * time: 0.8740928173065186\n"
     ]
    },
    {
     "name": "stdout",
     "output_type": "stream",
     "text": [
      "    20     5.624759e-03     8.928911e-04\n",
      " * time: 1.692884922027588\n"
     ]
    },
    {
     "name": "stdout",
     "output_type": "stream",
     "text": [
      "    30     5.509372e-03     3.490827e-04\n",
      " * time: 2.3589069843292236\n"
     ]
    },
    {
     "name": "stdout",
     "output_type": "stream",
     "text": [
      "    40     5.383354e-03     3.994101e-05\n",
      " * time: 3.135819911956787\n"
     ]
    },
    {
     "name": "stdout",
     "output_type": "stream",
     "text": [
      "    50     5.365601e-03     2.869655e-05\n",
      " * time: 4.055755853652954\n"
     ]
    },
    {
     "name": "stdout",
     "output_type": "stream",
     "text": [
      "    60     5.358755e-03     3.823567e-05\n",
      " * time: 4.859863042831421\n"
     ]
    },
    {
     "name": "stdout",
     "output_type": "stream",
     "text": [
      "    70     5.354573e-03     3.522623e-04\n",
      " * time: 5.693527936935425\n"
     ]
    },
    {
     "name": "stdout",
     "output_type": "stream",
     "text": [
      "    80     5.338457e-03     4.450644e-04\n",
      " * time: 6.44240403175354\n"
     ]
    },
    {
     "name": "stdout",
     "output_type": "stream",
     "text": [
      "    90     5.332414e-03     1.835183e-04\n",
      " * time: 7.165448904037476\n"
     ]
    },
    {
     "name": "stdout",
     "output_type": "stream",
     "text": [
      "   100     5.314445e-03     3.877775e-04\n",
      " * time: 7.907991886138916\n"
     ]
    },
    {
     "name": "stdout",
     "output_type": "stream",
     "text": [
      "   110     5.304589e-03     5.158976e-04\n",
      " * time: 8.630295038223267\n"
     ]
    },
    {
     "name": "stdout",
     "output_type": "stream",
     "text": [
      "   120     5.260931e-03     7.287617e-04\n",
      " * time: 9.419143915176392\n"
     ]
    },
    {
     "name": "stdout",
     "output_type": "stream",
     "text": [
      "   130     5.212487e-03     6.096189e-04\n",
      " * time: 10.142122030258179\n"
     ]
    },
    {
     "name": "stdout",
     "output_type": "stream",
     "text": [
      "   140     5.208371e-03     1.357334e-04\n",
      " * time: 10.941913843154907\n"
     ]
    },
    {
     "name": "stdout",
     "output_type": "stream",
     "text": [
      "   150     5.207956e-03     4.346364e-05\n",
      " * time: 11.718273878097534\n"
     ]
    },
    {
     "name": "stdout",
     "output_type": "stream",
     "text": [
      "   160     5.207715e-03     6.729086e-05\n",
      " * time: 12.568404912948608\n"
     ]
    },
    {
     "name": "stdout",
     "output_type": "stream",
     "text": [
      "   170     5.207621e-03     9.411002e-06\n",
      " * time: 13.366063833236694\n"
     ]
    },
    {
     "name": "stdout",
     "output_type": "stream",
     "text": [
      "   180     5.207426e-03     4.179845e-05\n",
      " * time: 14.133864879608154\n"
     ]
    },
    {
     "name": "stdout",
     "output_type": "stream",
     "text": [
      "   190     5.206839e-03     1.791884e-04\n",
      " * time: 14.938307046890259\n"
     ]
    },
    {
     "name": "stdout",
     "output_type": "stream",
     "text": [
      "   200     5.206719e-03     1.449360e-05\n",
      " * time: 15.762272834777832\n"
     ]
    },
    {
     "name": "stdout",
     "output_type": "stream",
     "text": [
      "   210     5.206710e-03     7.634661e-06\n",
      " * time: 16.533856868743896\n"
     ]
    },
    {
     "name": "stdout",
     "output_type": "stream",
     "text": [
      "   220     5.206703e-03     2.279045e-05\n",
      " * time: 17.383054971694946\n"
     ]
    },
    {
     "name": "stdout",
     "output_type": "stream",
     "text": [
      "   230     5.206687e-03     1.610502e-05\n",
      " * time: 18.154197931289673\n"
     ]
    },
    {
     "name": "stdout",
     "output_type": "stream",
     "text": [
      "   240     5.206276e-03     2.454427e-04\n",
      " * time: 18.999969959259033\n"
     ]
    },
    {
     "name": "stdout",
     "output_type": "stream",
     "text": [
      "   250     5.089158e-03     3.271678e-03\n",
      " * time: 19.844702005386353\n"
     ]
    },
    {
     "name": "stdout",
     "output_type": "stream",
     "text": [
      "   260     4.901692e-03     5.842325e-03\n",
      " * time: 20.582295894622803\n"
     ]
    },
    {
     "name": "stdout",
     "output_type": "stream",
     "text": [
      "   270     4.578246e-03     2.006828e-03\n",
      " * time: 21.291929006576538\n"
     ]
    },
    {
     "name": "stdout",
     "output_type": "stream",
     "text": [
      "   280     1.083545e-03     4.835081e-03\n",
      " * time: 22.191913843154907\n"
     ]
    },
    {
     "name": "stdout",
     "output_type": "stream",
     "text": [
      "   290     4.726351e-04     3.222774e-03\n",
      " * time: 22.953044891357422\n"
     ]
    },
    {
     "name": "stdout",
     "output_type": "stream",
     "text": [
      "   300     6.163777e-05     1.424038e-03\n",
      " * time: 23.57360601425171\n"
     ]
    },
    {
     "name": "stdout",
     "output_type": "stream",
     "text": [
      "   310     2.614598e-05     2.323296e-04\n",
      " * time: 24.49297285079956\n"
     ]
    },
    {
     "name": "stdout",
     "output_type": "stream",
     "text": [
      "   320     1.978735e-05     1.892805e-04\n",
      " * time: 25.20095992088318\n"
     ]
    },
    {
     "name": "stdout",
     "output_type": "stream",
     "text": [
      "   330     1.603608e-05     2.742258e-04\n",
      " * time: 25.956995964050293\n"
     ]
    },
    {
     "name": "stdout",
     "output_type": "stream",
     "text": [
      "   340     1.469272e-05     7.548620e-05\n",
      " * time: 26.730000972747803\n"
     ]
    },
    {
     "name": "stdout",
     "output_type": "stream",
     "text": [
      "   350     1.022906e-05     3.323464e-04\n",
      " * time: 27.53093194961548\n"
     ]
    },
    {
     "name": "stdout",
     "output_type": "stream",
     "text": [
      "   360     4.646664e-06     1.822434e-04\n",
      " * time: 28.266047954559326\n"
     ]
    },
    {
     "name": "stdout",
     "output_type": "stream",
     "text": [
      "   370     2.770685e-06     7.509530e-05\n",
      " * time: 28.97957682609558\n"
     ]
    },
    {
     "name": "stdout",
     "output_type": "stream",
     "text": [
      "   380     2.060993e-06     9.078058e-06\n",
      " * time: 29.692458868026733\n"
     ]
    },
    {
     "name": "stdout",
     "output_type": "stream",
     "text": [
      "   390     2.052023e-06     6.518844e-06\n",
      " * time: 30.552278995513916\n"
     ]
    },
    {
     "name": "stdout",
     "output_type": "stream",
     "text": [
      "   400     1.578646e-06     6.645127e-05\n",
      " * time: 31.29050588607788\n"
     ]
    },
    {
     "name": "stdout",
     "output_type": "stream",
     "text": [
      "   410     1.434413e-06     3.933381e-05\n",
      " * time: 31.9750919342041\n"
     ]
    },
    {
     "name": "stdout",
     "output_type": "stream",
     "text": [
      "   420     1.297157e-06     2.484851e-05\n",
      " * time: 32.71824789047241\n"
     ]
    },
    {
     "name": "stdout",
     "output_type": "stream",
     "text": [
      "   430     1.268255e-06     8.984829e-06\n",
      " * time: 33.52033996582031\n"
     ]
    },
    {
     "name": "stdout",
     "output_type": "stream",
     "text": [
      "   440     1.263401e-06     2.617219e-07\n",
      " * time: 34.287497997283936\n"
     ]
    },
    {
     "name": "stdout",
     "output_type": "stream",
     "text": [
      "   450     1.176979e-06     4.143011e-05\n",
      " * time: 35.09151601791382\n"
     ]
    },
    {
     "name": "stdout",
     "output_type": "stream",
     "text": [
      "   460     1.086537e-06     3.585607e-05\n",
      " * time: 35.75019884109497\n"
     ]
    },
    {
     "name": "stdout",
     "output_type": "stream",
     "text": [
      "   470     9.778033e-07     4.303862e-05\n",
      " * time: 36.37971496582031\n"
     ]
    },
    {
     "name": "stdout",
     "output_type": "stream",
     "text": [
      "   480     8.723576e-07     5.675749e-05\n",
      " * time: 37.011919021606445\n"
     ]
    },
    {
     "name": "stdout",
     "output_type": "stream",
     "text": [
      "   490     7.711841e-07     6.018310e-05\n",
      " * time: 37.75429892539978\n"
     ]
    },
    {
     "name": "stdout",
     "output_type": "stream",
     "text": [
      "   500     7.022951e-07     3.036814e-05\n",
      " * time: 38.53338003158569\n"
     ]
    },
    {
     "name": "stdout",
     "output_type": "stream",
     "text": [
      "   510     6.339220e-07     2.156076e-05\n",
      " * time: 39.199662923812866\n"
     ]
    },
    {
     "name": "stdout",
     "output_type": "stream",
     "text": [
      "   520     6.157134e-07     1.091936e-05\n",
      " * time: 40.0384259223938\n"
     ]
    },
    {
     "name": "stdout",
     "output_type": "stream",
     "text": [
      "   530     6.041035e-07     3.796710e-06\n",
      " * time: 40.7407009601593\n"
     ]
    },
    {
     "name": "stdout",
     "output_type": "stream",
     "text": [
      "   540     5.964562e-07     1.033087e-05\n",
      " * time: 41.526381969451904\n"
     ]
    },
    {
     "name": "stdout",
     "output_type": "stream",
     "text": [
      "   550     5.855523e-07     7.961361e-06\n",
      " * time: 42.25754189491272\n"
     ]
    },
    {
     "name": "stdout",
     "output_type": "stream",
     "text": [
      "   560     5.763908e-07     3.224440e-06\n",
      " * time: 43.06912302970886\n"
     ]
    },
    {
     "name": "stdout",
     "output_type": "stream",
     "text": [
      "   570     5.719541e-07     3.437964e-06\n",
      " * time: 43.84880185127258\n"
     ]
    },
    {
     "name": "stdout",
     "output_type": "stream",
     "text": [
      "   580     5.710744e-07     1.658700e-06\n",
      " * time: 44.632237911224365\n"
     ]
    },
    {
     "name": "stdout",
     "output_type": "stream",
     "text": [
      "   590     5.688766e-07     2.503612e-06\n",
      " * time: 45.47369694709778\n"
     ]
    },
    {
     "name": "stdout",
     "output_type": "stream",
     "text": [
      "   600     5.272006e-07     3.659355e-05\n",
      " * time: 46.25042104721069\n"
     ]
    },
    {
     "name": "stdout",
     "output_type": "stream",
     "text": [
      "   610     3.932569e-07     4.374991e-05\n",
      " * time: 46.88248682022095\n"
     ]
    },
    {
     "name": "stdout",
     "output_type": "stream",
     "text": [
      "   620     3.284354e-07     9.805780e-06\n",
      " * time: 47.656611919403076\n"
     ]
    },
    {
     "name": "stdout",
     "output_type": "stream",
     "text": [
      "   630     3.038598e-07     2.057262e-05\n",
      " * time: 48.38349199295044\n"
     ]
    },
    {
     "name": "stdout",
     "output_type": "stream",
     "text": [
      "   640     2.974057e-07     2.674489e-06\n",
      " * time: 49.220340967178345\n"
     ]
    },
    {
     "name": "stdout",
     "output_type": "stream",
     "text": [
      "   650     2.945899e-07     1.500395e-06\n",
      " * time: 50.0110878944397\n"
     ]
    },
    {
     "name": "stdout",
     "output_type": "stream",
     "text": [
      "   660     2.753032e-07     2.108831e-05\n",
      " * time: 50.760164976119995\n"
     ]
    },
    {
     "name": "stdout",
     "output_type": "stream",
     "text": [
      "   670     2.440167e-07     1.821626e-05\n",
      " * time: 51.56140184402466\n"
     ]
    },
    {
     "name": "stdout",
     "output_type": "stream",
     "text": [
      "   680     2.298537e-07     9.880884e-06\n",
      " * time: 52.30957889556885\n"
     ]
    },
    {
     "name": "stdout",
     "output_type": "stream",
     "text": [
      "   690     2.258207e-07     5.632182e-06\n",
      " * time: 53.08883190155029\n"
     ]
    },
    {
     "name": "stdout",
     "output_type": "stream",
     "text": [
      "   700     2.185940e-07     2.199508e-06\n",
      " * time: 53.86030292510986\n"
     ]
    },
    {
     "name": "stdout",
     "output_type": "stream",
     "text": [
      "   710     2.145803e-07     3.568418e-06\n",
      " * time: 54.58138704299927\n"
     ]
    },
    {
     "name": "stdout",
     "output_type": "stream",
     "text": [
      "   720     2.122980e-07     6.971243e-06\n",
      " * time: 55.34043502807617\n"
     ]
    },
    {
     "name": "stdout",
     "output_type": "stream",
     "text": [
      "   730     2.115417e-07     1.298848e-06\n",
      " * time: 56.17422389984131\n"
     ]
    },
    {
     "name": "stdout",
     "output_type": "stream",
     "text": [
      "   740     2.113317e-07     3.093208e-07\n",
      " * time: 56.89706087112427\n"
     ]
    },
    {
     "name": "stdout",
     "output_type": "stream",
     "text": [
      "   750     2.110459e-07     3.818800e-07\n",
      " * time: 57.76566982269287\n"
     ]
    },
    {
     "name": "stdout",
     "output_type": "stream",
     "text": [
      "   760     2.060939e-07     2.622481e-05\n",
      " * time: 58.59235501289368\n"
     ]
    },
    {
     "name": "stdout",
     "output_type": "stream",
     "text": [
      "   770     1.442439e-07     2.098852e-05\n",
      " * time: 59.30950903892517\n"
     ]
    },
    {
     "name": "stdout",
     "output_type": "stream",
     "text": [
      "   780     1.112526e-07     6.173332e-06\n",
      " * time: 60.03003001213074\n"
     ]
    },
    {
     "name": "stdout",
     "output_type": "stream",
     "text": [
      "   790     9.623278e-08     4.522012e-06\n",
      " * time: 60.73417592048645\n"
     ]
    },
    {
     "name": "stdout",
     "output_type": "stream",
     "text": [
      "   800     7.797147e-08     9.870760e-06\n",
      " * time: 61.48874497413635\n"
     ]
    },
    {
     "name": "stdout",
     "output_type": "stream",
     "text": [
      "   810     7.228905e-08     5.581073e-06\n",
      " * time: 62.32761788368225\n"
     ]
    },
    {
     "name": "stdout",
     "output_type": "stream",
     "text": [
      "   820     6.581312e-08     1.147913e-05\n",
      " * time: 63.06614303588867\n"
     ]
    },
    {
     "name": "stdout",
     "output_type": "stream",
     "text": [
      "   830     6.341559e-08     6.409188e-07\n",
      " * time: 63.767534017562866\n"
     ]
    },
    {
     "name": "stdout",
     "output_type": "stream",
     "text": [
      "   840     6.326230e-08     1.427556e-06\n",
      " * time: 64.63678002357483\n"
     ]
    },
    {
     "name": "stdout",
     "output_type": "stream",
     "text": [
      "   850     6.240783e-08     9.445227e-07\n",
      " * time: 65.47149801254272\n"
     ]
    },
    {
     "name": "stdout",
     "output_type": "stream",
     "text": [
      "   860     6.154083e-08     3.359033e-06\n",
      " * time: 66.37133693695068\n"
     ]
    },
    {
     "name": "stdout",
     "output_type": "stream",
     "text": [
      "   870     5.879520e-08     5.024391e-06\n",
      " * time: 67.18093991279602\n"
     ]
    },
    {
     "name": "stdout",
     "output_type": "stream",
     "text": [
      "   880     5.832750e-08     9.600906e-07\n",
      " * time: 67.95807194709778\n"
     ]
    },
    {
     "name": "stdout",
     "output_type": "stream",
     "text": [
      "   890     5.823411e-08     1.250844e-06\n",
      " * time: 68.76545095443726\n"
     ]
    },
    {
     "name": "stdout",
     "output_type": "stream",
     "text": [
      "   900     5.807879e-08     4.179345e-07\n",
      " * time: 69.57193803787231\n"
     ]
    },
    {
     "name": "stdout",
     "output_type": "stream",
     "text": [
      "   910     5.734764e-08     4.185146e-06\n",
      " * time: 70.4421899318695\n"
     ]
    },
    {
     "name": "stdout",
     "output_type": "stream",
     "text": [
      "   920     5.619816e-08     1.342730e-06\n",
      " * time: 71.22368383407593\n"
     ]
    },
    {
     "name": "stdout",
     "output_type": "stream",
     "text": [
      "   930     5.561270e-08     2.549822e-06\n",
      " * time: 72.05412697792053\n"
     ]
    },
    {
     "name": "stdout",
     "output_type": "stream",
     "text": [
      "   940     5.548431e-08     4.304461e-07\n",
      " * time: 72.83305501937866\n"
     ]
    },
    {
     "name": "stdout",
     "output_type": "stream",
     "text": [
      "   950     5.547500e-08     1.523649e-07\n",
      " * time: 73.54983186721802\n"
     ]
    },
    {
     "name": "stdout",
     "output_type": "stream",
     "text": [
      "   960     5.547148e-08     1.594333e-07\n",
      " * time: 74.2954490184784\n"
     ]
    },
    {
     "name": "stdout",
     "output_type": "stream",
     "text": [
      "   970     5.545697e-08     5.337264e-07\n",
      " * time: 75.10978102684021\n"
     ]
    },
    {
     "name": "stdout",
     "output_type": "stream",
     "text": [
      "   980     5.544798e-08     3.286235e-07\n",
      " * time: 75.89500498771667\n"
     ]
    },
    {
     "name": "stdout",
     "output_type": "stream",
     "text": [
      "   990     5.538358e-08     2.397368e-07\n",
      " * time: 76.68251585960388\n"
     ]
    },
    {
     "name": "stdout",
     "output_type": "stream",
     "text": [
      "  1000     5.524038e-08     2.671419e-06\n",
      " * time: 77.51605582237244\n"
     ]
    },
    {
     "name": "stdout",
     "output_type": "stream",
     "text": [
      "Iter     Function value   Gradient norm \n",
      "     0     9.996945e-01     2.384788e-03\n",
      " * time: 7.891654968261719e-5\n"
     ]
    },
    {
     "name": "stdout",
     "output_type": "stream",
     "text": [
      "    10     5.742747e-01     4.038106e-01\n",
      " * time: 1.0962510108947754\n"
     ]
    },
    {
     "name": "stdout",
     "output_type": "stream",
     "text": [
      "    20     5.844715e-04     1.184259e-02\n",
      " * time: 1.8459489345550537\n"
     ]
    },
    {
     "name": "stdout",
     "output_type": "stream",
     "text": [
      "    30     1.308522e-06     9.795239e-06\n",
      " * time: 2.5751290321350098\n"
     ]
    },
    {
     "name": "stdout",
     "output_type": "stream",
     "text": [
      "    40     7.186378e-08     2.478796e-05\n",
      " * time: 3.484776020050049\n"
     ]
    },
    {
     "name": "stdout",
     "output_type": "stream",
     "text": [
      "    50     6.907681e-08     1.687946e-06\n",
      " * time: 4.264184951782227\n"
     ]
    },
    {
     "name": "stdout",
     "output_type": "stream",
     "text": [
      "    60     7.833281e-09     2.017886e-07\n",
      " * time: 5.071922063827515\n"
     ]
    },
    {
     "name": "stdout",
     "output_type": "stream",
     "text": [
      "    70     7.833030e-09     2.325376e-07\n",
      " * time: 5.877535104751587\n"
     ]
    },
    {
     "name": "stdout",
     "output_type": "stream",
     "text": [
      "    80     7.807934e-09     1.839751e-06\n",
      " * time: 6.746174097061157\n"
     ]
    },
    {
     "name": "stdout",
     "output_type": "stream",
     "text": [
      "    90     6.884731e-09     5.479555e-07\n",
      " * time: 7.607779026031494\n"
     ]
    },
    {
     "name": "stdout",
     "output_type": "stream",
     "text": [
      "   100     6.797459e-09     2.711138e-07\n",
      " * time: 8.33532190322876\n"
     ]
    },
    {
     "name": "stdout",
     "output_type": "stream",
     "text": [
      "   110     6.794365e-09     2.435174e-07\n",
      " * time: 9.00433897972107\n"
     ]
    },
    {
     "name": "stdout",
     "output_type": "stream",
     "text": [
      "   120     6.781736e-09     1.014804e-07\n",
      " * time: 9.783973932266235\n"
     ]
    },
    {
     "name": "stdout",
     "output_type": "stream",
     "text": [
      "   130     6.772217e-09     4.489702e-07\n",
      " * time: 10.571980953216553\n"
     ]
    },
    {
     "name": "stdout",
     "output_type": "stream",
     "text": [
      "   140     6.748392e-09     7.195203e-07\n",
      " * time: 11.326915979385376\n"
     ]
    },
    {
     "name": "stdout",
     "output_type": "stream",
     "text": [
      "   150     2.603196e-09     1.316732e-05\n",
      " * time: 12.22706389427185\n"
     ]
    },
    {
     "name": "stdout",
     "output_type": "stream",
     "text": [
      "   160     3.377960e-10     3.182537e-06\n",
      " * time: 13.23002290725708\n"
     ]
    },
    {
     "name": "stdout",
     "output_type": "stream",
     "text": [
      "   170     1.836393e-10     1.045661e-07\n",
      " * time: 14.196325063705444\n"
     ]
    },
    {
     "name": "stdout",
     "output_type": "stream",
     "text": [
      "   180     1.765044e-10     1.951208e-07\n",
      " * time: 15.187159061431885\n"
     ]
    },
    {
     "name": "stdout",
     "output_type": "stream",
     "text": [
      "   190     1.756051e-10     7.570130e-08\n",
      " * time: 16.024636030197144\n"
     ]
    },
    {
     "name": "stdout",
     "output_type": "stream",
     "text": [
      "1.7557266751566658e-102.279265665094954e-116.3026273089406e-105.437550409936875e-105.524038260151798e-8\n",
      " iterations :2\n",
      "Iter     Function value   Gradient norm \n",
      "     0     5.462387e-01     3.899578e-01\n",
      " * time: 6.29425048828125e-5\n"
     ]
    },
    {
     "name": "stdout",
     "output_type": "stream",
     "text": [
      "    10     4.092628e-03     2.660906e-02\n",
      " * time: 0.9041640758514404\n"
     ]
    },
    {
     "name": "stdout",
     "output_type": "stream",
     "text": [
      "    20     9.069594e-04     2.215928e-03\n",
      " * time: 1.6324779987335205\n"
     ]
    },
    {
     "name": "stdout",
     "output_type": "stream",
     "text": [
      "    30     7.914701e-05     1.611530e-03\n",
      " * time: 2.309875965118408\n"
     ]
    },
    {
     "name": "stdout",
     "output_type": "stream",
     "text": [
      "    40     3.689130e-05     2.548228e-04\n",
      " * time: 3.025883913040161\n"
     ]
    },
    {
     "name": "stdout",
     "output_type": "stream",
     "text": [
      "    50     6.635277e-07     9.639284e-06\n",
      " * time: 3.7681820392608643\n"
     ]
    },
    {
     "name": "stdout",
     "output_type": "stream",
     "text": [
      "    60     6.139688e-07     4.516322e-05\n",
      " * time: 4.483038902282715\n"
     ]
    },
    {
     "name": "stdout",
     "output_type": "stream",
     "text": [
      "    70     5.432116e-07     4.059542e-05\n",
      " * time: 5.169636011123657\n"
     ]
    },
    {
     "name": "stdout",
     "output_type": "stream",
     "text": [
      "    80     4.661912e-07     7.116706e-05\n",
      " * time: 5.888958930969238\n"
     ]
    },
    {
     "name": "stdout",
     "output_type": "stream",
     "text": [
      "    90     3.902872e-07     3.332903e-05\n",
      " * time: 6.600203037261963\n"
     ]
    },
    {
     "name": "stdout",
     "output_type": "stream",
     "text": [
      "   100     3.584972e-07     2.278415e-05\n",
      " * time: 7.281824111938477\n"
     ]
    },
    {
     "name": "stdout",
     "output_type": "stream",
     "text": [
      "   110     3.496848e-07     2.292727e-06\n",
      " * time: 7.975243091583252\n"
     ]
    },
    {
     "name": "stdout",
     "output_type": "stream",
     "text": [
      "   120     2.827476e-07     3.761282e-05\n",
      " * time: 8.834820985794067\n"
     ]
    },
    {
     "name": "stdout",
     "output_type": "stream",
     "text": [
      "   130     1.068033e-07     4.302083e-05\n",
      " * time: 9.5767240524292\n"
     ]
    },
    {
     "name": "stdout",
     "output_type": "stream",
     "text": [
      "   140     8.955434e-08     6.546493e-06\n",
      " * time: 10.234033107757568\n"
     ]
    },
    {
     "name": "stdout",
     "output_type": "stream",
     "text": [
      "   150     8.898431e-08     1.369614e-06\n",
      " * time: 11.006289958953857\n"
     ]
    },
    {
     "name": "stdout",
     "output_type": "stream",
     "text": [
      "   160     7.908944e-08     2.722754e-06\n",
      " * time: 11.887063026428223\n"
     ]
    },
    {
     "name": "stdout",
     "output_type": "stream",
     "text": [
      "   170     7.904757e-08     5.010230e-07\n",
      " * time: 12.627612113952637\n"
     ]
    },
    {
     "name": "stdout",
     "output_type": "stream",
     "text": [
      "   180     7.852540e-08     4.175483e-06\n",
      " * time: 13.449310064315796\n"
     ]
    },
    {
     "name": "stdout",
     "output_type": "stream",
     "text": [
      "   190     5.190191e-08     1.554335e-05\n",
      " * time: 14.194108963012695\n"
     ]
    },
    {
     "name": "stdout",
     "output_type": "stream",
     "text": [
      "   200     4.766237e-08     1.154034e-05\n",
      " * time: 14.971190929412842\n"
     ]
    },
    {
     "name": "stdout",
     "output_type": "stream",
     "text": [
      "   210     4.652997e-08     3.091378e-06\n",
      " * time: 15.746227025985718\n"
     ]
    },
    {
     "name": "stdout",
     "output_type": "stream",
     "text": [
      "   220     4.638276e-08     1.197991e-06\n",
      " * time: 16.51946997642517\n"
     ]
    },
    {
     "name": "stdout",
     "output_type": "stream",
     "text": [
      "   230     4.608944e-08     9.738650e-07\n",
      " * time: 17.31316304206848\n"
     ]
    },
    {
     "name": "stdout",
     "output_type": "stream",
     "text": [
      "   240     4.596516e-08     1.230993e-06\n",
      " * time: 18.1253879070282\n"
     ]
    },
    {
     "name": "stdout",
     "output_type": "stream",
     "text": [
      "   250     4.530150e-08     2.049186e-06\n",
      " * time: 18.946305990219116\n"
     ]
    },
    {
     "name": "stdout",
     "output_type": "stream",
     "text": [
      "   260     3.200779e-08     3.995228e-05\n",
      " * time: 19.66934108734131\n"
     ]
    },
    {
     "name": "stdout",
     "output_type": "stream",
     "text": [
      "   270     9.128862e-09     1.023978e-05\n",
      " * time: 20.332739114761353\n"
     ]
    },
    {
     "name": "stdout",
     "output_type": "stream",
     "text": [
      "   280     5.597766e-09     4.797067e-06\n",
      " * time: 21.13472294807434\n"
     ]
    },
    {
     "name": "stdout",
     "output_type": "stream",
     "text": [
      "   290     4.534072e-09     2.221218e-06\n",
      " * time: 21.907800912857056\n"
     ]
    },
    {
     "name": "stdout",
     "output_type": "stream",
     "text": [
      "   300     2.075289e-09     2.295865e-06\n",
      " * time: 22.740339040756226\n"
     ]
    },
    {
     "name": "stdout",
     "output_type": "stream",
     "text": [
      "   310     1.780558e-09     2.272135e-07\n",
      " * time: 23.511400938034058\n"
     ]
    },
    {
     "name": "stdout",
     "output_type": "stream",
     "text": [
      "   320     1.779626e-09     2.373509e-07\n",
      " * time: 24.1913480758667\n"
     ]
    },
    {
     "name": "stdout",
     "output_type": "stream",
     "text": [
      "   330     1.773717e-09     2.034900e-07\n",
      " * time: 25.01869797706604\n"
     ]
    },
    {
     "name": "stdout",
     "output_type": "stream",
     "text": [
      "   340     1.763065e-09     6.823658e-07\n",
      " * time: 25.847767114639282\n"
     ]
    },
    {
     "name": "stdout",
     "output_type": "stream",
     "text": [
      "   350     1.250211e-09     9.935265e-07\n",
      " * time: 26.673084020614624\n"
     ]
    },
    {
     "name": "stdout",
     "output_type": "stream",
     "text": [
      "   360     1.048155e-09     1.483954e-06\n",
      " * time: 27.51804208755493\n"
     ]
    },
    {
     "name": "stdout",
     "output_type": "stream",
     "text": [
      "   370     7.713830e-11     9.411922e-07\n",
      " * time: 28.359338998794556\n"
     ]
    },
    {
     "name": "stdout",
     "output_type": "stream",
     "text": [
      "   380     9.602985e-12     1.760408e-07\n",
      " * time: 29.02642011642456\n"
     ]
    },
    {
     "name": "stdout",
     "output_type": "stream",
     "text": [
      "   390     3.053113e-12     3.353719e-07\n",
      " * time: 29.71376895904541\n"
     ]
    },
    {
     "name": "stdout",
     "output_type": "stream",
     "text": [
      "   400     1.561196e-12     1.861897e-07\n",
      " * time: 30.407078981399536\n"
     ]
    },
    {
     "name": "stdout",
     "output_type": "stream",
     "text": [
      "   410     1.328937e-12     8.055132e-08\n",
      " * time: 31.206774950027466\n"
     ]
    },
    {
     "name": "stdout",
     "output_type": "stream",
     "text": [
      "Iter     Function value   Gradient norm \n",
      "     0     3.905936e-01     4.537811e-01\n",
      " * time: 0.00015091896057128906\n"
     ]
    },
    {
     "name": "stdout",
     "output_type": "stream",
     "text": [
      "    10     2.328977e-03     1.186852e-02\n",
      " * time: 0.779778003692627\n"
     ]
    },
    {
     "name": "stdout",
     "output_type": "stream",
     "text": [
      "    20     3.124818e-04     3.203537e-04\n",
      " * time: 1.4419310092926025\n"
     ]
    },
    {
     "name": "stdout",
     "output_type": "stream",
     "text": [
      "    30     1.884580e-04     3.259644e-03\n",
      " * time: 2.162792921066284\n"
     ]
    },
    {
     "name": "stdout",
     "output_type": "stream",
     "text": [
      "    40     1.080394e-05     1.554479e-03\n",
      " * time: 2.864886999130249\n"
     ]
    },
    {
     "name": "stdout",
     "output_type": "stream",
     "text": [
      "    50     3.527580e-07     3.509599e-04\n",
      " * time: 3.7189218997955322\n"
     ]
    },
    {
     "name": "stdout",
     "output_type": "stream",
     "text": [
      "    60     3.118551e-08     4.616857e-05\n",
      " * time: 4.581048011779785\n"
     ]
    },
    {
     "name": "stdout",
     "output_type": "stream",
     "text": [
      "    70     2.458452e-08     1.129777e-07\n",
      " * time: 5.224263906478882\n"
     ]
    },
    {
     "name": "stdout",
     "output_type": "stream",
     "text": [
      "    80     2.457261e-08     1.472060e-06\n",
      " * time: 6.05816388130188\n"
     ]
    },
    {
     "name": "stdout",
     "output_type": "stream",
     "text": [
      "    90     2.127505e-08     4.255408e-07\n",
      " * time: 6.865363836288452\n"
     ]
    },
    {
     "name": "stdout",
     "output_type": "stream",
     "text": [
      "   100     2.125649e-08     1.608973e-06\n",
      " * time: 7.639997959136963\n"
     ]
    },
    {
     "name": "stdout",
     "output_type": "stream",
     "text": [
      "   110     8.832211e-09     1.076446e-05\n",
      " * time: 8.389981031417847\n"
     ]
    },
    {
     "name": "stdout",
     "output_type": "stream",
     "text": [
      "   120     6.271179e-09     4.775480e-06\n",
      " * time: 9.113107919692993\n"
     ]
    },
    {
     "name": "stdout",
     "output_type": "stream",
     "text": [
      "   130     6.217061e-09     1.584737e-07\n",
      " * time: 9.811496019363403\n"
     ]
    },
    {
     "name": "stdout",
     "output_type": "stream",
     "text": [
      "   140     6.195326e-09     9.407586e-07\n",
      " * time: 10.563853979110718\n"
     ]
    },
    {
     "name": "stdout",
     "output_type": "stream",
     "text": [
      "   150     6.161543e-09     1.025048e-06\n",
      " * time: 11.340941905975342\n"
     ]
    },
    {
     "name": "stdout",
     "output_type": "stream",
     "text": [
      "   160     6.077370e-09     1.553118e-06\n",
      " * time: 12.041456937789917\n"
     ]
    },
    {
     "name": "stdout",
     "output_type": "stream",
     "text": [
      "   170     5.945399e-09     4.487802e-07\n",
      " * time: 12.843938827514648\n"
     ]
    },
    {
     "name": "stdout",
     "output_type": "stream",
     "text": [
      "   180     5.765986e-09     1.100492e-06\n",
      " * time: 13.601873874664307\n"
     ]
    },
    {
     "name": "stdout",
     "output_type": "stream",
     "text": [
      "   190     5.459178e-09     1.252532e-06\n",
      " * time: 14.433089971542358\n"
     ]
    },
    {
     "name": "stdout",
     "output_type": "stream",
     "text": [
      "   200     4.647811e-09     3.631896e-06\n",
      " * time: 15.155022859573364\n"
     ]
    },
    {
     "name": "stdout",
     "output_type": "stream",
     "text": [
      "   210     2.591896e-09     4.201082e-06\n",
      " * time: 15.906100988388062\n"
     ]
    },
    {
     "name": "stdout",
     "output_type": "stream",
     "text": [
      "   220     1.060484e-09     3.334474e-06\n",
      " * time: 16.71212387084961\n"
     ]
    },
    {
     "name": "stdout",
     "output_type": "stream",
     "text": [
      "   230     8.253285e-10     7.422813e-07\n",
      " * time: 17.436872959136963\n"
     ]
    },
    {
     "name": "stdout",
     "output_type": "stream",
     "text": [
      "   240     7.434222e-10     6.032014e-06\n",
      " * time: 18.213603019714355\n"
     ]
    },
    {
     "name": "stdout",
     "output_type": "stream",
     "text": [
      "   250     9.487544e-11     1.266804e-07\n",
      " * time: 18.968066930770874\n"
     ]
    },
    {
     "name": "stdout",
     "output_type": "stream",
     "text": [
      "   260     9.064571e-11     3.489175e-07\n",
      " * time: 19.695485830307007\n"
     ]
    },
    {
     "name": "stdout",
     "output_type": "stream",
     "text": [
      "   270     8.665602e-11     2.885628e-07\n",
      " * time: 20.41928482055664\n"
     ]
    },
    {
     "name": "stdout",
     "output_type": "stream",
     "text": [
      "   280     8.371481e-11     3.925078e-07\n",
      " * time: 21.209625959396362\n"
     ]
    },
    {
     "name": "stdout",
     "output_type": "stream",
     "text": [
      "   290     8.181145e-11     1.467192e-07\n",
      " * time: 21.960943937301636\n"
     ]
    },
    {
     "name": "stdout",
     "output_type": "stream",
     "text": [
      "   300     8.108647e-11     2.461546e-07\n",
      " * time: 22.689695835113525\n"
     ]
    },
    {
     "name": "stdout",
     "output_type": "stream",
     "text": [
      "   310     6.780021e-11     2.601232e-07\n",
      " * time: 23.49227786064148\n"
     ]
    },
    {
     "name": "stdout",
     "output_type": "stream",
     "text": [
      "   320     6.193801e-11     1.554486e-07\n",
      " * time: 24.29113483428955\n"
     ]
    },
    {
     "name": "stdout",
     "output_type": "stream",
     "text": [
      "   330     6.170020e-11     1.523286e-07\n",
      " * time: 25.012159824371338\n"
     ]
    },
    {
     "name": "stdout",
     "output_type": "stream",
     "text": [
      "   340     6.136891e-11     1.482061e-07\n",
      " * time: 25.76558494567871\n"
     ]
    },
    {
     "name": "stdout",
     "output_type": "stream",
     "text": [
      "   350     6.064260e-11     9.969220e-08\n",
      " * time: 26.551645040512085\n"
     ]
    },
    {
     "name": "stdout",
     "output_type": "stream",
     "text": [
      "   360     6.014456e-11     9.982512e-08\n",
      " * time: 27.29207491874695\n"
     ]
    },
    {
     "name": "stdout",
     "output_type": "stream",
     "text": [
      "   370     5.970335e-11     1.659187e-07\n",
      " * time: 28.319310903549194\n"
     ]
    },
    {
     "name": "stdout",
     "output_type": "stream",
     "text": [
      "   380     5.388023e-11     5.744739e-08\n",
      " * time: 29.14950394630432\n"
     ]
    },
    {
     "name": "stdout",
     "output_type": "stream",
     "text": [
      "   390     5.378187e-11     5.864964e-08\n",
      " * time: 30.13211488723755\n"
     ]
    },
    {
     "name": "stdout",
     "output_type": "stream",
     "text": [
      "   400     5.367307e-11     1.343023e-07\n",
      " * time: 30.89083480834961\n"
     ]
    },
    {
     "name": "stdout",
     "output_type": "stream",
     "text": [
      "Iter     Function value   Gradient norm \n",
      "     0     3.909741e-01     3.566492e-01\n",
      " * time: 0.00012803077697753906\n"
     ]
    },
    {
     "name": "stdout",
     "output_type": "stream",
     "text": [
      "    10     1.076539e-02     4.244686e-03\n",
      " * time: 0.7641370296478271\n"
     ]
    },
    {
     "name": "stdout",
     "output_type": "stream",
     "text": [
      "    20     9.231000e-03     2.742926e-03\n",
      " * time: 1.6317858695983887\n"
     ]
    },
    {
     "name": "stdout",
     "output_type": "stream",
     "text": [
      "    30     4.673475e-03     2.667692e-03\n",
      " * time: 2.619328022003174\n"
     ]
    },
    {
     "name": "stdout",
     "output_type": "stream",
     "text": [
      "    40     2.011375e-03     7.506401e-03\n",
      " * time: 3.4739558696746826\n"
     ]
    },
    {
     "name": "stdout",
     "output_type": "stream",
     "text": [
      "    50     7.366958e-06     1.308802e-03\n",
      " * time: 4.370715856552124\n"
     ]
    },
    {
     "name": "stdout",
     "output_type": "stream",
     "text": [
      "    60     7.967819e-08     1.724961e-05\n",
      " * time: 5.313495874404907\n"
     ]
    },
    {
     "name": "stdout",
     "output_type": "stream",
     "text": [
      "    70     7.725907e-08     2.219357e-05\n",
      " * time: 6.3599748611450195\n"
     ]
    },
    {
     "name": "stdout",
     "output_type": "stream",
     "text": [
      "    80     3.618027e-08     5.708193e-05\n",
      " * time: 7.468087911605835\n"
     ]
    },
    {
     "name": "stdout",
     "output_type": "stream",
     "text": [
      "    90     1.703843e-08     3.181885e-06\n",
      " * time: 8.368844985961914\n"
     ]
    },
    {
     "name": "stdout",
     "output_type": "stream",
     "text": [
      "   100     1.698448e-08     5.315240e-08\n",
      " * time: 9.247941017150879\n"
     ]
    },
    {
     "name": "stdout",
     "output_type": "stream",
     "text": [
      "   110     1.698396e-08     1.327031e-07\n",
      " * time: 10.039912939071655\n"
     ]
    },
    {
     "name": "stdout",
     "output_type": "stream",
     "text": [
      "   120     1.696913e-08     1.061056e-07\n",
      " * time: 10.875373840332031\n"
     ]
    },
    {
     "name": "stdout",
     "output_type": "stream",
     "text": [
      "   130     1.681147e-08     2.568169e-06\n",
      " * time: 11.804538011550903\n"
     ]
    },
    {
     "name": "stdout",
     "output_type": "stream",
     "text": [
      "   140     5.190680e-09     1.085627e-05\n",
      " * time: 12.610214948654175\n"
     ]
    },
    {
     "name": "stdout",
     "output_type": "stream",
     "text": [
      "   150     4.227783e-10     1.116132e-06\n",
      " * time: 13.250419855117798\n"
     ]
    },
    {
     "name": "stdout",
     "output_type": "stream",
     "text": [
      "   160     1.988789e-10     1.731990e-06\n",
      " * time: 14.034283876419067\n"
     ]
    },
    {
     "name": "stdout",
     "output_type": "stream",
     "text": [
      "   170     1.420299e-10     8.545269e-08\n",
      " * time: 14.745124816894531\n"
     ]
    },
    {
     "name": "stdout",
     "output_type": "stream",
     "text": [
      "   180     1.404101e-10     2.934495e-07\n",
      " * time: 15.664743900299072\n"
     ]
    },
    {
     "name": "stdout",
     "output_type": "stream",
     "text": [
      "   190     1.396518e-10     1.452411e-07\n",
      " * time: 17.810892820358276\n"
     ]
    },
    {
     "name": "stdout",
     "output_type": "stream",
     "text": [
      "   200     1.394398e-10     2.563141e-08\n",
      " * time: 18.576040029525757\n"
     ]
    },
    {
     "name": "stdout",
     "output_type": "stream",
     "text": [
      "   210     1.392209e-10     1.413284e-08\n",
      " * time: 19.38027596473694\n"
     ]
    },
    {
     "name": "stdout",
     "output_type": "stream",
     "text": [
      "   220     1.391487e-10     5.330637e-08\n",
      " * time: 20.071656942367554\n"
     ]
    },
    {
     "name": "stdout",
     "output_type": "stream",
     "text": [
      "   230     1.390914e-10     1.809700e-08\n",
      " * time: 20.851534843444824\n"
     ]
    },
    {
     "name": "stdout",
     "output_type": "stream",
     "text": [
      "   240     1.389600e-10     4.873645e-08\n",
      " * time: 22.78400492668152\n"
     ]
    },
    {
     "name": "stdout",
     "output_type": "stream",
     "text": [
      "   250     1.380061e-10     3.230427e-07\n",
      " * time: 24.834767818450928\n"
     ]
    },
    {
     "name": "stdout",
     "output_type": "stream",
     "text": [
      "   260     1.343212e-10     2.080818e-07\n",
      " * time: 25.597096920013428\n"
     ]
    },
    {
     "name": "stdout",
     "output_type": "stream",
     "text": [
      "   270     1.339757e-10     2.024596e-08\n",
      " * time: 26.81491494178772\n"
     ]
    },
    {
     "name": "stdout",
     "output_type": "stream",
     "text": [
      "   280     1.305009e-10     2.055602e-07\n",
      " * time: 27.645678997039795\n"
     ]
    },
    {
     "name": "stdout",
     "output_type": "stream",
     "text": [
      "   290     1.235116e-10     2.844571e-07\n",
      " * time: 28.376900911331177\n"
     ]
    },
    {
     "name": "stdout",
     "output_type": "stream",
     "text": [
      "   300     1.232705e-10     2.082167e-08\n",
      " * time: 29.314940929412842\n"
     ]
    },
    {
     "name": "stdout",
     "output_type": "stream",
     "text": [
      "   310     1.226654e-10     1.342559e-07\n",
      " * time: 30.155164003372192\n"
     ]
    },
    {
     "name": "stdout",
     "output_type": "stream",
     "text": [
      "   320     1.219176e-10     9.241130e-08\n",
      " * time: 31.014863967895508\n"
     ]
    },
    {
     "name": "stdout",
     "output_type": "stream",
     "text": [
      "   330     1.154570e-10     3.387907e-08\n",
      " * time: 33.218289852142334\n"
     ]
    },
    {
     "name": "stdout",
     "output_type": "stream",
     "text": [
      "Iter     Function value   Gradient norm \n",
      "     0     9.468679e-01     9.180182e-02\n",
      " * time: 0.0001361370086669922\n"
     ]
    },
    {
     "name": "stdout",
     "output_type": "stream",
     "text": [
      "    10     6.390876e-03     2.415149e-03\n",
      " * time: 1.0101830959320068\n"
     ]
    },
    {
     "name": "stdout",
     "output_type": "stream",
     "text": [
      "    20     5.666353e-03     5.257121e-04\n",
      " * time: 1.8699851036071777\n"
     ]
    },
    {
     "name": "stdout",
     "output_type": "stream",
     "text": [
      "    30     5.508859e-03     1.190179e-03\n",
      " * time: 2.6023781299591064\n"
     ]
    },
    {
     "name": "stdout",
     "output_type": "stream",
     "text": [
      "    40     5.419819e-03     3.186063e-04\n",
      " * time: 3.3132522106170654\n"
     ]
    },
    {
     "name": "stdout",
     "output_type": "stream",
     "text": [
      "    50     5.353585e-03     4.174332e-04\n",
      " * time: 4.0739030838012695\n"
     ]
    },
    {
     "name": "stdout",
     "output_type": "stream",
     "text": [
      "    60     5.351679e-03     1.634423e-04\n",
      " * time: 4.789591073989868\n"
     ]
    },
    {
     "name": "stdout",
     "output_type": "stream",
     "text": [
      "    70     5.334108e-03     2.833928e-04\n",
      " * time: 5.559612035751343\n"
     ]
    },
    {
     "name": "stdout",
     "output_type": "stream",
     "text": [
      "    80     5.289398e-03     2.856321e-04\n",
      " * time: 6.304885149002075\n"
     ]
    },
    {
     "name": "stdout",
     "output_type": "stream",
     "text": [
      "    90     5.252226e-03     2.334228e-04\n",
      " * time: 7.04429817199707\n"
     ]
    },
    {
     "name": "stdout",
     "output_type": "stream",
     "text": [
      "   100     5.247031e-03     2.224448e-04\n",
      " * time: 7.806822061538696\n"
     ]
    },
    {
     "name": "stdout",
     "output_type": "stream",
     "text": [
      "   110     5.237462e-03     2.225998e-04\n",
      " * time: 8.561115026473999\n"
     ]
    },
    {
     "name": "stdout",
     "output_type": "stream",
     "text": [
      "   120     5.232583e-03     1.187291e-04\n",
      " * time: 9.351949214935303\n"
     ]
    },
    {
     "name": "stdout",
     "output_type": "stream",
     "text": [
      "   130     5.219761e-03     3.979182e-04\n",
      " * time: 10.122234106063843\n"
     ]
    },
    {
     "name": "stdout",
     "output_type": "stream",
     "text": [
      "   140     5.218150e-03     5.419592e-05\n",
      " * time: 10.865707159042358\n"
     ]
    },
    {
     "name": "stdout",
     "output_type": "stream",
     "text": [
      "   150     5.217508e-03     5.322132e-05\n",
      " * time: 11.696397066116333\n"
     ]
    },
    {
     "name": "stdout",
     "output_type": "stream",
     "text": [
      "   160     5.212693e-03     2.011711e-04\n",
      " * time: 12.459348201751709\n"
     ]
    },
    {
     "name": "stdout",
     "output_type": "stream",
     "text": [
      "   170     5.209478e-03     1.250583e-04\n",
      " * time: 13.262027025222778\n"
     ]
    },
    {
     "name": "stdout",
     "output_type": "stream",
     "text": [
      "   180     5.207926e-03     1.723564e-04\n",
      " * time: 14.029452085494995\n"
     ]
    },
    {
     "name": "stdout",
     "output_type": "stream",
     "text": [
      "   190     5.207285e-03     1.267985e-04\n",
      " * time: 14.802095174789429\n"
     ]
    },
    {
     "name": "stdout",
     "output_type": "stream",
     "text": [
      "   200     5.207011e-03     2.850849e-05\n",
      " * time: 15.612184047698975\n"
     ]
    },
    {
     "name": "stdout",
     "output_type": "stream",
     "text": [
      "   210     5.206987e-03     7.887163e-06\n",
      " * time: 16.38430404663086\n"
     ]
    },
    {
     "name": "stdout",
     "output_type": "stream",
     "text": [
      "   220     5.206956e-03     9.561527e-06\n",
      " * time: 17.15301203727722\n"
     ]
    },
    {
     "name": "stdout",
     "output_type": "stream",
     "text": [
      "   230     5.206929e-03     3.916040e-05\n",
      " * time: 17.986891984939575\n"
     ]
    },
    {
     "name": "stdout",
     "output_type": "stream",
     "text": [
      "   240     5.206578e-03     6.094094e-05\n",
      " * time: 18.82736611366272\n"
     ]
    },
    {
     "name": "stdout",
     "output_type": "stream",
     "text": [
      "   250     5.206263e-03     6.527844e-05\n",
      " * time: 19.62515616416931\n"
     ]
    },
    {
     "name": "stdout",
     "output_type": "stream",
     "text": [
      "   260     5.206131e-03     3.701722e-05\n",
      " * time: 20.39668607711792\n"
     ]
    },
    {
     "name": "stdout",
     "output_type": "stream",
     "text": [
      "   270     5.206055e-03     2.880453e-05\n",
      " * time: 21.145485162734985\n"
     ]
    },
    {
     "name": "stdout",
     "output_type": "stream",
     "text": [
      "   280     5.205832e-03     1.499755e-05\n",
      " * time: 21.88463807106018\n"
     ]
    },
    {
     "name": "stdout",
     "output_type": "stream",
     "text": [
      "   290     5.205790e-03     9.194993e-06\n",
      " * time: 22.69917607307434\n"
     ]
    },
    {
     "name": "stdout",
     "output_type": "stream",
     "text": [
      "   300     5.205779e-03     1.520843e-05\n",
      " * time: 23.537464141845703\n"
     ]
    },
    {
     "name": "stdout",
     "output_type": "stream",
     "text": [
      "   310     5.205630e-03     1.141748e-05\n",
      " * time: 24.329541206359863\n"
     ]
    },
    {
     "name": "stdout",
     "output_type": "stream",
     "text": [
      "   320     5.205591e-03     1.060481e-05\n",
      " * time: 25.14857816696167\n"
     ]
    },
    {
     "name": "stdout",
     "output_type": "stream",
     "text": [
      "   330     5.205548e-03     1.209430e-05\n",
      " * time: 25.98128318786621\n"
     ]
    },
    {
     "name": "stdout",
     "output_type": "stream",
     "text": [
      "   340     5.205465e-03     1.105304e-05\n",
      " * time: 26.8122341632843\n"
     ]
    },
    {
     "name": "stdout",
     "output_type": "stream",
     "text": [
      "   350     5.205414e-03     3.912067e-05\n",
      " * time: 27.550888061523438\n"
     ]
    },
    {
     "name": "stdout",
     "output_type": "stream",
     "text": [
      "   360     5.205262e-03     4.664505e-05\n",
      " * time: 28.345863103866577\n"
     ]
    },
    {
     "name": "stdout",
     "output_type": "stream",
     "text": [
      "   370     5.205029e-03     2.040052e-05\n",
      " * time: 29.151448011398315\n"
     ]
    },
    {
     "name": "stdout",
     "output_type": "stream",
     "text": [
      "   380     5.204973e-03     4.750606e-05\n",
      " * time: 29.884392023086548\n"
     ]
    },
    {
     "name": "stdout",
     "output_type": "stream",
     "text": [
      "   390     5.204853e-03     3.475486e-05\n",
      " * time: 30.633360147476196\n"
     ]
    },
    {
     "name": "stdout",
     "output_type": "stream",
     "text": [
      "   400     5.204307e-03     4.917871e-05\n",
      " * time: 31.344693183898926\n"
     ]
    },
    {
     "name": "stdout",
     "output_type": "stream",
     "text": [
      "   410     5.203939e-03     4.628749e-05\n",
      " * time: 32.061729192733765\n"
     ]
    },
    {
     "name": "stdout",
     "output_type": "stream",
     "text": [
      "   420     5.203780e-03     1.946894e-05\n",
      " * time: 32.83811902999878\n"
     ]
    },
    {
     "name": "stdout",
     "output_type": "stream",
     "text": [
      "   430     5.203550e-03     4.079692e-05\n",
      " * time: 33.59771418571472\n"
     ]
    },
    {
     "name": "stdout",
     "output_type": "stream",
     "text": [
      "   440     5.203227e-03     3.451845e-05\n",
      " * time: 34.339614152908325\n"
     ]
    },
    {
     "name": "stdout",
     "output_type": "stream",
     "text": [
      "   450     5.203167e-03     1.794735e-05\n",
      " * time: 35.087072134017944\n"
     ]
    },
    {
     "name": "stdout",
     "output_type": "stream",
     "text": [
      "   460     5.201700e-03     7.759825e-05\n",
      " * time: 35.851683139801025\n"
     ]
    },
    {
     "name": "stdout",
     "output_type": "stream",
     "text": [
      "   470     5.200782e-03     7.536898e-05\n",
      " * time: 36.51969003677368\n"
     ]
    },
    {
     "name": "stdout",
     "output_type": "stream",
     "text": [
      "   480     5.199057e-03     1.238533e-04\n",
      " * time: 37.26639914512634\n"
     ]
    },
    {
     "name": "stdout",
     "output_type": "stream",
     "text": [
      "   490     5.198756e-03     3.730022e-05\n",
      " * time: 37.970919132232666\n"
     ]
    },
    {
     "name": "stdout",
     "output_type": "stream",
     "text": [
      "   500     5.197345e-03     7.883643e-05\n",
      " * time: 38.69183111190796\n"
     ]
    },
    {
     "name": "stdout",
     "output_type": "stream",
     "text": [
      "   510     5.197092e-03     7.631425e-05\n",
      " * time: 39.503732204437256\n"
     ]
    },
    {
     "name": "stdout",
     "output_type": "stream",
     "text": [
      "   520     5.195690e-03     5.918445e-05\n",
      " * time: 40.30520009994507\n"
     ]
    },
    {
     "name": "stdout",
     "output_type": "stream",
     "text": [
      "   530     5.195305e-03     6.444211e-05\n",
      " * time: 41.09352707862854\n"
     ]
    },
    {
     "name": "stdout",
     "output_type": "stream",
     "text": [
      "   540     5.194102e-03     3.856828e-05\n",
      " * time: 41.875227212905884\n"
     ]
    },
    {
     "name": "stdout",
     "output_type": "stream",
     "text": [
      "   550     5.193425e-03     5.810184e-05\n",
      " * time: 42.710883140563965\n"
     ]
    },
    {
     "name": "stdout",
     "output_type": "stream",
     "text": [
      "   560     5.193160e-03     9.055205e-06\n",
      " * time: 43.4360990524292\n"
     ]
    },
    {
     "name": "stdout",
     "output_type": "stream",
     "text": [
      "   570     5.192026e-03     3.340611e-05\n",
      " * time: 44.35006618499756\n"
     ]
    },
    {
     "name": "stdout",
     "output_type": "stream",
     "text": [
      "   580     5.191676e-03     1.078554e-04\n",
      " * time: 45.123231172561646\n"
     ]
    },
    {
     "name": "stdout",
     "output_type": "stream",
     "text": [
      "   590     5.191540e-03     1.963120e-05\n",
      " * time: 45.92944312095642\n"
     ]
    },
    {
     "name": "stdout",
     "output_type": "stream",
     "text": [
      "   600     5.191357e-03     5.861972e-05\n",
      " * time: 46.78375720977783\n"
     ]
    },
    {
     "name": "stdout",
     "output_type": "stream",
     "text": [
      "   610     5.191151e-03     2.734335e-05\n",
      " * time: 47.60103917121887\n"
     ]
    },
    {
     "name": "stdout",
     "output_type": "stream",
     "text": [
      "   620     5.190899e-03     3.226239e-05\n",
      " * time: 48.376152992248535\n"
     ]
    },
    {
     "name": "stdout",
     "output_type": "stream",
     "text": [
      "   630     5.190145e-03     1.848203e-04\n",
      " * time: 49.261882066726685\n"
     ]
    },
    {
     "name": "stdout",
     "output_type": "stream",
     "text": [
      "   640     5.188749e-03     1.734957e-04\n",
      " * time: 50.08907413482666\n"
     ]
    },
    {
     "name": "stdout",
     "output_type": "stream",
     "text": [
      "   650     5.187335e-03     7.569536e-05\n",
      " * time: 50.889238119125366\n"
     ]
    },
    {
     "name": "stdout",
     "output_type": "stream",
     "text": [
      "   660     5.186958e-03     1.525758e-05\n",
      " * time: 51.729085206985474\n"
     ]
    },
    {
     "name": "stdout",
     "output_type": "stream",
     "text": [
      "   670     5.186539e-03     1.428450e-04\n",
      " * time: 52.701619148254395\n"
     ]
    },
    {
     "name": "stdout",
     "output_type": "stream",
     "text": [
      "   680     5.186168e-03     3.905824e-05\n",
      " * time: 53.44975805282593\n"
     ]
    },
    {
     "name": "stdout",
     "output_type": "stream",
     "text": [
      "   690     5.186047e-03     9.763704e-06\n",
      " * time: 54.25257921218872\n"
     ]
    },
    {
     "name": "stdout",
     "output_type": "stream",
     "text": [
      "   700     5.185917e-03     4.149134e-05\n",
      " * time: 54.968888998031616\n"
     ]
    },
    {
     "name": "stdout",
     "output_type": "stream",
     "text": [
      "   710     5.185530e-03     1.763774e-05\n",
      " * time: 55.796717166900635\n"
     ]
    },
    {
     "name": "stdout",
     "output_type": "stream",
     "text": [
      "   720     5.185421e-03     1.848806e-05\n",
      " * time: 56.59708213806152\n"
     ]
    },
    {
     "name": "stdout",
     "output_type": "stream",
     "text": [
      "   730     5.185307e-03     7.744219e-06\n",
      " * time: 57.382201194763184\n"
     ]
    },
    {
     "name": "stdout",
     "output_type": "stream",
     "text": [
      "   740     5.184582e-03     5.591842e-05\n",
      " * time: 58.13183903694153\n"
     ]
    },
    {
     "name": "stdout",
     "output_type": "stream",
     "text": [
      "   750     5.184224e-03     2.749092e-05\n",
      " * time: 58.92896318435669\n"
     ]
    },
    {
     "name": "stdout",
     "output_type": "stream",
     "text": [
      "   760     5.182747e-03     1.428486e-04\n",
      " * time: 59.71359300613403\n"
     ]
    },
    {
     "name": "stdout",
     "output_type": "stream",
     "text": [
      "   770     5.182507e-03     3.849195e-05\n",
      " * time: 60.43715500831604\n"
     ]
    },
    {
     "name": "stdout",
     "output_type": "stream",
     "text": [
      "   780     5.182333e-03     1.805226e-05\n",
      " * time: 61.2088680267334\n"
     ]
    },
    {
     "name": "stdout",
     "output_type": "stream",
     "text": [
      "   790     5.182247e-03     1.146000e-05\n",
      " * time: 61.9590790271759\n"
     ]
    },
    {
     "name": "stdout",
     "output_type": "stream",
     "text": [
      "   800     5.182148e-03     1.590746e-05\n",
      " * time: 62.81106209754944\n"
     ]
    },
    {
     "name": "stdout",
     "output_type": "stream",
     "text": [
      "   810     5.182110e-03     3.851069e-06\n",
      " * time: 63.62846803665161\n"
     ]
    },
    {
     "name": "stdout",
     "output_type": "stream",
     "text": [
      "   820     5.182092e-03     9.138611e-06\n",
      " * time: 64.48267602920532\n"
     ]
    },
    {
     "name": "stdout",
     "output_type": "stream",
     "text": [
      "   830     5.182056e-03     9.058305e-06\n",
      " * time: 65.23475313186646\n"
     ]
    },
    {
     "name": "stdout",
     "output_type": "stream",
     "text": [
      "   840     5.181988e-03     3.154481e-06\n",
      " * time: 66.00912404060364\n"
     ]
    },
    {
     "name": "stdout",
     "output_type": "stream",
     "text": [
      "   850     5.181955e-03     1.320020e-05\n",
      " * time: 66.781898021698\n"
     ]
    },
    {
     "name": "stdout",
     "output_type": "stream",
     "text": [
      "   860     5.181796e-03     7.537579e-05\n",
      " * time: 67.58661007881165\n"
     ]
    },
    {
     "name": "stdout",
     "output_type": "stream",
     "text": [
      "   870     5.181716e-03     2.930075e-05\n",
      " * time: 68.35962414741516\n"
     ]
    },
    {
     "name": "stdout",
     "output_type": "stream",
     "text": [
      "   880     5.181625e-03     1.652652e-05\n",
      " * time: 69.18743920326233\n"
     ]
    },
    {
     "name": "stdout",
     "output_type": "stream",
     "text": [
      "   890     5.181587e-03     2.413117e-05\n",
      " * time: 69.99598217010498\n"
     ]
    },
    {
     "name": "stdout",
     "output_type": "stream",
     "text": [
      "   900     5.181541e-03     1.724052e-05\n",
      " * time: 70.74581217765808\n"
     ]
    },
    {
     "name": "stdout",
     "output_type": "stream",
     "text": [
      "   910     5.181537e-03     1.320151e-06\n",
      " * time: 71.5312991142273\n"
     ]
    },
    {
     "name": "stdout",
     "output_type": "stream",
     "text": [
      "   920     5.181527e-03     2.034621e-05\n",
      " * time: 72.35538601875305\n"
     ]
    },
    {
     "name": "stdout",
     "output_type": "stream",
     "text": [
      "   930     5.181495e-03     8.575587e-06\n",
      " * time: 73.1457450389862\n"
     ]
    },
    {
     "name": "stdout",
     "output_type": "stream",
     "text": [
      "   940     5.181436e-03     4.334654e-05\n",
      " * time: 73.99698901176453\n"
     ]
    },
    {
     "name": "stdout",
     "output_type": "stream",
     "text": [
      "   950     5.181373e-03     1.516711e-05\n",
      " * time: 74.78702807426453\n"
     ]
    },
    {
     "name": "stdout",
     "output_type": "stream",
     "text": [
      "   960     5.181347e-03     9.539775e-06\n",
      " * time: 75.52682614326477\n"
     ]
    },
    {
     "name": "stdout",
     "output_type": "stream",
     "text": [
      "   970     5.181327e-03     1.316074e-05\n",
      " * time: 76.40173602104187\n"
     ]
    },
    {
     "name": "stdout",
     "output_type": "stream",
     "text": [
      "   980     5.181314e-03     3.878954e-06\n",
      " * time: 77.22831916809082\n"
     ]
    },
    {
     "name": "stdout",
     "output_type": "stream",
     "text": [
      "   990     5.181305e-03     2.758838e-06\n",
      " * time: 78.00942420959473\n"
     ]
    },
    {
     "name": "stdout",
     "output_type": "stream",
     "text": [
      "  1000     5.181297e-03     6.243401e-06\n",
      " * time: 78.7848551273346\n"
     ]
    },
    {
     "name": "stdout",
     "output_type": "stream",
     "text": [
      "Iter     Function value   Gradient norm \n",
      "     0     9.942819e-01     2.713903e-02\n",
      " * time: 7.605552673339844e-5\n"
     ]
    },
    {
     "name": "stdout",
     "output_type": "stream",
     "text": [
      "    10     3.221823e-02     1.462828e-02\n",
      " * time: 0.9603080749511719\n"
     ]
    },
    {
     "name": "stdout",
     "output_type": "stream",
     "text": [
      "    20     3.581447e-03     9.378605e-03\n",
      " * time: 1.6734778881072998\n"
     ]
    },
    {
     "name": "stdout",
     "output_type": "stream",
     "text": [
      "    30     3.917953e-07     1.160292e-05\n",
      " * time: 2.430919885635376\n"
     ]
    },
    {
     "name": "stdout",
     "output_type": "stream",
     "text": [
      "    40     1.108565e-07     2.045215e-07\n",
      " * time: 3.226684093475342\n"
     ]
    },
    {
     "name": "stdout",
     "output_type": "stream",
     "text": [
      "    50     5.057223e-08     4.957958e-05\n",
      " * time: 4.109299898147583\n"
     ]
    },
    {
     "name": "stdout",
     "output_type": "stream",
     "text": [
      "    60     6.183562e-09     7.841104e-06\n",
      " * time: 4.755840063095093\n"
     ]
    },
    {
     "name": "stdout",
     "output_type": "stream",
     "text": [
      "    70     3.558403e-09     5.575466e-07\n",
      " * time: 5.50295090675354\n"
     ]
    },
    {
     "name": "stdout",
     "output_type": "stream",
     "text": [
      "    80     3.551383e-09     2.941218e-07\n",
      " * time: 6.235405921936035\n"
     ]
    },
    {
     "name": "stdout",
     "output_type": "stream",
     "text": [
      "    90     3.515547e-09     1.123692e-06\n",
      " * time: 7.044435024261475\n"
     ]
    },
    {
     "name": "stdout",
     "output_type": "stream",
     "text": [
      "   100     2.645539e-09     4.451606e-07\n",
      " * time: 7.865164041519165\n"
     ]
    },
    {
     "name": "stdout",
     "output_type": "stream",
     "text": [
      "   110     2.642810e-09     3.458857e-08\n",
      " * time: 8.637392044067383\n"
     ]
    },
    {
     "name": "stdout",
     "output_type": "stream",
     "text": [
      "2.6428041977055727e-91.2863043963307064e-125.35611555108062e-111.1545497891063405e-100.005181296624043763\n",
      " iterations :3\n",
      "Iter     Function value   Gradient norm \n",
      "     0     2.358189e-01     3.469607e-01\n",
      " * time: 8.58306884765625e-5\n"
     ]
    },
    {
     "name": "stdout",
     "output_type": "stream",
     "text": [
      "    10     1.075520e-02     6.224783e-04\n",
      " * time: 0.7775578498840332\n"
     ]
    },
    {
     "name": "stdout",
     "output_type": "stream",
     "text": [
      "    20     9.417937e-03     4.116788e-03\n",
      " * time: 1.4871718883514404\n"
     ]
    },
    {
     "name": "stdout",
     "output_type": "stream",
     "text": [
      "    30     5.165964e-03     1.568443e-03\n",
      " * time: 2.1381618976593018\n"
     ]
    },
    {
     "name": "stdout",
     "output_type": "stream",
     "text": [
      "    40     1.269970e-03     7.442921e-03\n",
      " * time: 2.924100875854492\n"
     ]
    },
    {
     "name": "stdout",
     "output_type": "stream",
     "text": [
      "    50     1.031775e-04     2.451863e-03\n",
      " * time: 3.587364912033081\n"
     ]
    },
    {
     "name": "stdout",
     "output_type": "stream",
     "text": [
      "    60     3.227083e-06     2.892014e-05\n",
      " * time: 4.2337119579315186\n"
     ]
    },
    {
     "name": "stdout",
     "output_type": "stream",
     "text": [
      "    70     1.698191e-07     3.801676e-07\n",
      " * time: 5.045977830886841\n"
     ]
    },
    {
     "name": "stdout",
     "output_type": "stream",
     "text": [
      "    80     1.456399e-07     1.000726e-06\n",
      " * time: 5.944284915924072\n"
     ]
    },
    {
     "name": "stdout",
     "output_type": "stream",
     "text": [
      "    90     3.566792e-08     4.393007e-05\n",
      " * time: 6.811855792999268\n"
     ]
    },
    {
     "name": "stdout",
     "output_type": "stream",
     "text": [
      "   100     2.053872e-08     1.135971e-06\n",
      " * time: 7.70045280456543\n"
     ]
    },
    {
     "name": "stdout",
     "output_type": "stream",
     "text": [
      "   110     2.052972e-08     3.634503e-08\n",
      " * time: 8.499790906906128\n"
     ]
    },
    {
     "name": "stdout",
     "output_type": "stream",
     "text": [
      "   120     2.051749e-08     1.402595e-06\n",
      " * time: 9.313406944274902\n"
     ]
    },
    {
     "name": "stdout",
     "output_type": "stream",
     "text": [
      "   130     1.811546e-08     7.636777e-06\n",
      " * time: 10.427071809768677\n"
     ]
    },
    {
     "name": "stdout",
     "output_type": "stream",
     "text": [
      "   140     4.771467e-09     2.012640e-05\n",
      " * time: 11.19540786743164\n"
     ]
    },
    {
     "name": "stdout",
     "output_type": "stream",
     "text": [
      "   150     1.709029e-09     1.320813e-06\n",
      " * time: 12.075771808624268\n"
     ]
    },
    {
     "name": "stdout",
     "output_type": "stream",
     "text": [
      "   160     1.680639e-09     1.301108e-07\n",
      " * time: 12.792240858078003\n"
     ]
    },
    {
     "name": "stdout",
     "output_type": "stream",
     "text": [
      "   170     1.679358e-09     4.850716e-08\n",
      " * time: 13.758104801177979\n"
     ]
    },
    {
     "name": "stdout",
     "output_type": "stream",
     "text": [
      "   180     1.675295e-09     9.512766e-07\n",
      " * time: 14.812712907791138\n"
     ]
    },
    {
     "name": "stdout",
     "output_type": "stream",
     "text": [
      "   190     1.669181e-09     7.033258e-08\n",
      " * time: 15.631471872329712\n"
     ]
    },
    {
     "name": "stdout",
     "output_type": "stream",
     "text": [
      "   200     1.667929e-09     8.526651e-08\n",
      " * time: 16.463509798049927\n"
     ]
    },
    {
     "name": "stdout",
     "output_type": "stream",
     "text": [
      "   210     1.666250e-09     3.000509e-07\n",
      " * time: 17.225677967071533\n"
     ]
    },
    {
     "name": "stdout",
     "output_type": "stream",
     "text": [
      "   220     1.660008e-09     2.646145e-07\n",
      " * time: 18.00675392150879\n"
     ]
    },
    {
     "name": "stdout",
     "output_type": "stream",
     "text": [
      "   230     1.658641e-09     1.674236e-07\n",
      " * time: 18.77984380722046\n"
     ]
    },
    {
     "name": "stdout",
     "output_type": "stream",
     "text": [
      "   240     1.655822e-09     5.283135e-07\n",
      " * time: 19.580668926239014\n"
     ]
    },
    {
     "name": "stdout",
     "output_type": "stream",
     "text": [
      "   250     1.652823e-09     3.988354e-07\n",
      " * time: 20.54924988746643\n"
     ]
    },
    {
     "name": "stdout",
     "output_type": "stream",
     "text": [
      "   260     1.542957e-09     5.262317e-08\n",
      " * time: 21.320311784744263\n"
     ]
    },
    {
     "name": "stdout",
     "output_type": "stream",
     "text": [
      "   270     1.404006e-09     3.278717e-06\n",
      " * time: 22.24227285385132\n"
     ]
    },
    {
     "name": "stdout",
     "output_type": "stream",
     "text": [
      "   280     9.941137e-10     7.508505e-07\n",
      " * time: 23.053719997406006\n"
     ]
    },
    {
     "name": "stdout",
     "output_type": "stream",
     "text": [
      "   290     7.715089e-10     2.044271e-06\n",
      " * time: 23.88974380493164\n"
     ]
    },
    {
     "name": "stdout",
     "output_type": "stream",
     "text": [
      "   300     7.611707e-10     1.236340e-07\n",
      " * time: 26.533063888549805\n"
     ]
    },
    {
     "name": "stdout",
     "output_type": "stream",
     "text": [
      "   310     7.595742e-10     1.878267e-07\n",
      " * time: 27.378511905670166\n"
     ]
    },
    {
     "name": "stdout",
     "output_type": "stream",
     "text": [
      "   320     6.555010e-10     4.785882e-06\n",
      " * time: 28.438652992248535\n"
     ]
    },
    {
     "name": "stdout",
     "output_type": "stream",
     "text": [
      "   330     4.757437e-10     1.714128e-07\n",
      " * time: 29.414605855941772\n"
     ]
    },
    {
     "name": "stdout",
     "output_type": "stream",
     "text": [
      "   340     4.748428e-10     1.784061e-07\n",
      " * time: 30.20518684387207\n"
     ]
    },
    {
     "name": "stdout",
     "output_type": "stream",
     "text": [
      "   350     4.632852e-10     6.321826e-07\n",
      " * time: 31.000459909439087\n"
     ]
    },
    {
     "name": "stdout",
     "output_type": "stream",
     "text": [
      "   360     5.809664e-11     1.459475e-06\n",
      " * time: 31.860530853271484\n"
     ]
    },
    {
     "name": "stdout",
     "output_type": "stream",
     "text": [
      "   370     5.076961e-11     5.158414e-08\n",
      " * time: 33.06300497055054\n"
     ]
    },
    {
     "name": "stdout",
     "output_type": "stream",
     "text": [
      "   380     5.072542e-11     1.665611e-08\n",
      " * time: 34.24770784378052\n"
     ]
    },
    {
     "name": "stdout",
     "output_type": "stream",
     "text": [
      "   390     5.067347e-11     4.869113e-08\n",
      " * time: 37.783705949783325\n"
     ]
    },
    {
     "name": "stdout",
     "output_type": "stream",
     "text": [
      "   400     4.971956e-11     1.253397e-07\n",
      " * time: 38.60422492027283\n"
     ]
    },
    {
     "name": "stdout",
     "output_type": "stream",
     "text": [
      "   410     4.789924e-11     3.177615e-07\n",
      " * time: 39.34053587913513\n"
     ]
    },
    {
     "name": "stdout",
     "output_type": "stream",
     "text": [
      "   420     4.104606e-11     7.373018e-08\n",
      " * time: 40.136475801467896\n"
     ]
    },
    {
     "name": "stdout",
     "output_type": "stream",
     "text": [
      "   430     4.098766e-11     1.346654e-08\n",
      " * time: 43.885655879974365\n"
     ]
    },
    {
     "name": "stdout",
     "output_type": "stream",
     "text": [
      "Iter     Function value   Gradient norm \n",
      "     0     1.908460e-01     3.678307e-01\n",
      " * time: 0.0001480579376220703\n"
     ]
    },
    {
     "name": "stdout",
     "output_type": "stream",
     "text": [
      "    10     1.804992e-03     1.829260e-02\n",
      " * time: 0.8383848667144775\n"
     ]
    },
    {
     "name": "stdout",
     "output_type": "stream",
     "text": [
      "    20     6.942082e-05     5.919015e-04\n",
      " * time: 1.4897129535675049\n"
     ]
    },
    {
     "name": "stdout",
     "output_type": "stream",
     "text": [
      "    30     4.293882e-05     6.539159e-04\n",
      " * time: 2.2492129802703857\n"
     ]
    },
    {
     "name": "stdout",
     "output_type": "stream",
     "text": [
      "    40     2.680898e-05     3.179397e-04\n",
      " * time: 2.9547178745269775\n"
     ]
    },
    {
     "name": "stdout",
     "output_type": "stream",
     "text": [
      "    50     1.429222e-05     4.287310e-04\n",
      " * time: 3.5813698768615723\n"
     ]
    },
    {
     "name": "stdout",
     "output_type": "stream",
     "text": [
      "    60     3.384737e-06     2.518322e-04\n",
      " * time: 4.2377049922943115\n"
     ]
    },
    {
     "name": "stdout",
     "output_type": "stream",
     "text": [
      "    70     2.959761e-06     4.745693e-05\n",
      " * time: 4.943224906921387\n"
     ]
    },
    {
     "name": "stdout",
     "output_type": "stream",
     "text": [
      "    80     3.651094e-07     8.695229e-06\n",
      " * time: 5.623152017593384\n"
     ]
    },
    {
     "name": "stdout",
     "output_type": "stream",
     "text": [
      "    90     5.346124e-08     2.643158e-05\n",
      " * time: 6.304609060287476\n"
     ]
    },
    {
     "name": "stdout",
     "output_type": "stream",
     "text": [
      "   100     3.878258e-08     1.090243e-07\n",
      " * time: 6.959101915359497\n"
     ]
    },
    {
     "name": "stdout",
     "output_type": "stream",
     "text": [
      "   110     3.762906e-08     1.138582e-07\n",
      " * time: 7.741783857345581\n"
     ]
    },
    {
     "name": "stdout",
     "output_type": "stream",
     "text": [
      "   120     2.217840e-08     1.241915e-05\n",
      " * time: 8.49639105796814\n"
     ]
    },
    {
     "name": "stdout",
     "output_type": "stream",
     "text": [
      "   130     1.077899e-08     9.199566e-06\n",
      " * time: 9.177727937698364\n"
     ]
    },
    {
     "name": "stdout",
     "output_type": "stream",
     "text": [
      "   140     6.158906e-09     3.942583e-06\n",
      " * time: 9.907999038696289\n"
     ]
    },
    {
     "name": "stdout",
     "output_type": "stream",
     "text": [
      "   150     5.893305e-09     9.223539e-07\n",
      " * time: 10.618653059005737\n"
     ]
    },
    {
     "name": "stdout",
     "output_type": "stream",
     "text": [
      "   160     5.820229e-09     1.484608e-06\n",
      " * time: 11.400063037872314\n"
     ]
    },
    {
     "name": "stdout",
     "output_type": "stream",
     "text": [
      "   170     5.715907e-09     4.109054e-07\n",
      " * time: 12.103084087371826\n"
     ]
    },
    {
     "name": "stdout",
     "output_type": "stream",
     "text": [
      "   180     5.429099e-09     3.316136e-06\n",
      " * time: 12.935190916061401\n"
     ]
    },
    {
     "name": "stdout",
     "output_type": "stream",
     "text": [
      "   190     5.372819e-09     4.511136e-08\n",
      " * time: 13.61107087135315\n"
     ]
    },
    {
     "name": "stdout",
     "output_type": "stream",
     "text": [
      "   200     5.372781e-09     2.028093e-08\n",
      " * time: 14.336679935455322\n"
     ]
    },
    {
     "name": "stdout",
     "output_type": "stream",
     "text": [
      "   210     5.372206e-09     2.039077e-07\n",
      " * time: 15.042264938354492\n"
     ]
    },
    {
     "name": "stdout",
     "output_type": "stream",
     "text": [
      "   220     5.369720e-09     1.114522e-07\n",
      " * time: 15.776319026947021\n"
     ]
    },
    {
     "name": "stdout",
     "output_type": "stream",
     "text": [
      "   230     5.366313e-09     5.133164e-07\n",
      " * time: 16.482282876968384\n"
     ]
    },
    {
     "name": "stdout",
     "output_type": "stream",
     "text": [
      "   240     5.363771e-09     4.117484e-08\n",
      " * time: 17.163476943969727\n"
     ]
    },
    {
     "name": "stdout",
     "output_type": "stream",
     "text": [
      "   250     5.363629e-09     6.604028e-08\n",
      " * time: 17.970191955566406\n"
     ]
    },
    {
     "name": "stdout",
     "output_type": "stream",
     "text": [
      "   260     5.363306e-09     1.051493e-07\n",
      " * time: 18.697507858276367\n"
     ]
    },
    {
     "name": "stdout",
     "output_type": "stream",
     "text": [
      "   270     5.362103e-09     1.339673e-07\n",
      " * time: 19.4268639087677\n"
     ]
    },
    {
     "name": "stdout",
     "output_type": "stream",
     "text": [
      "   280     5.358972e-09     1.727001e-07\n",
      " * time: 20.1143639087677\n"
     ]
    },
    {
     "name": "stdout",
     "output_type": "stream",
     "text": [
      "   290     5.348077e-09     6.131104e-08\n",
      " * time: 20.847940921783447\n"
     ]
    },
    {
     "name": "stdout",
     "output_type": "stream",
     "text": [
      "   300     5.348000e-09     4.609237e-08\n",
      " * time: 21.546046018600464\n"
     ]
    },
    {
     "name": "stdout",
     "output_type": "stream",
     "text": [
      "   310     5.347436e-09     4.393664e-08\n",
      " * time: 22.29861807823181\n"
     ]
    },
    {
     "name": "stdout",
     "output_type": "stream",
     "text": [
      "   320     5.341474e-09     7.602956e-08\n",
      " * time: 23.028747081756592\n"
     ]
    },
    {
     "name": "stdout",
     "output_type": "stream",
     "text": [
      "   330     5.325733e-09     1.121889e-06\n",
      " * time: 23.8353910446167\n"
     ]
    },
    {
     "name": "stdout",
     "output_type": "stream",
     "text": [
      "   340     5.314992e-09     8.922792e-08\n",
      " * time: 24.51625895500183\n"
     ]
    },
    {
     "name": "stdout",
     "output_type": "stream",
     "text": [
      "   350     5.305340e-09     5.323493e-07\n",
      " * time: 25.29928207397461\n"
     ]
    },
    {
     "name": "stdout",
     "output_type": "stream",
     "text": [
      "   360     5.290259e-09     3.952463e-07\n",
      " * time: 26.057982921600342\n"
     ]
    },
    {
     "name": "stdout",
     "output_type": "stream",
     "text": [
      "   370     5.265139e-09     9.296350e-07\n",
      " * time: 26.836838006973267\n"
     ]
    },
    {
     "name": "stdout",
     "output_type": "stream",
     "text": [
      "   380     5.140677e-09     1.099090e-07\n",
      " * time: 27.545292854309082\n"
     ]
    },
    {
     "name": "stdout",
     "output_type": "stream",
     "text": [
      "   390     5.134884e-09     4.132145e-07\n",
      " * time: 28.19922685623169\n"
     ]
    },
    {
     "name": "stdout",
     "output_type": "stream",
     "text": [
      "   400     5.125282e-09     3.804409e-07\n",
      " * time: 28.875634908676147\n"
     ]
    },
    {
     "name": "stdout",
     "output_type": "stream",
     "text": [
      "   410     5.075868e-09     1.588488e-06\n",
      " * time: 29.660794973373413\n"
     ]
    },
    {
     "name": "stdout",
     "output_type": "stream",
     "text": [
      "   420     4.373510e-09     4.118443e-06\n",
      " * time: 30.33912706375122\n"
     ]
    },
    {
     "name": "stdout",
     "output_type": "stream",
     "text": [
      "   430     4.242326e-09     8.346644e-07\n",
      " * time: 30.991801977157593\n"
     ]
    },
    {
     "name": "stdout",
     "output_type": "stream",
     "text": [
      "   440     4.228390e-09     6.299951e-07\n",
      " * time: 31.697988033294678\n"
     ]
    },
    {
     "name": "stdout",
     "output_type": "stream",
     "text": [
      "   450     4.220238e-09     4.805689e-07\n",
      " * time: 32.35070586204529\n"
     ]
    },
    {
     "name": "stdout",
     "output_type": "stream",
     "text": [
      "   460     4.206042e-09     5.235150e-07\n",
      " * time: 33.13584494590759\n"
     ]
    },
    {
     "name": "stdout",
     "output_type": "stream",
     "text": [
      "   470     4.155830e-09     2.736260e-07\n",
      " * time: 33.86628699302673\n"
     ]
    },
    {
     "name": "stdout",
     "output_type": "stream",
     "text": [
      "   480     4.151073e-09     1.963050e-07\n",
      " * time: 34.59450888633728\n"
     ]
    },
    {
     "name": "stdout",
     "output_type": "stream",
     "text": [
      "   490     4.147926e-09     1.784173e-07\n",
      " * time: 35.35637807846069\n"
     ]
    },
    {
     "name": "stdout",
     "output_type": "stream",
     "text": [
      "   500     4.145830e-09     7.567061e-07\n",
      " * time: 36.13586902618408\n"
     ]
    },
    {
     "name": "stdout",
     "output_type": "stream",
     "text": [
      "   510     4.137113e-09     1.758739e-07\n",
      " * time: 36.84238386154175\n"
     ]
    },
    {
     "name": "stdout",
     "output_type": "stream",
     "text": [
      "   520     4.133698e-09     1.466122e-07\n",
      " * time: 37.4974410533905\n"
     ]
    },
    {
     "name": "stdout",
     "output_type": "stream",
     "text": [
      "   530     4.133468e-09     7.699493e-08\n",
      " * time: 38.310088872909546\n"
     ]
    },
    {
     "name": "stdout",
     "output_type": "stream",
     "text": [
      "   540     4.133078e-09     5.598311e-08\n",
      " * time: 39.1707239151001\n"
     ]
    },
    {
     "name": "stdout",
     "output_type": "stream",
     "text": [
      "   550     4.132571e-09     1.565515e-07\n",
      " * time: 39.82509803771973\n"
     ]
    },
    {
     "name": "stdout",
     "output_type": "stream",
     "text": [
      "   560     4.131107e-09     1.005376e-07\n",
      " * time: 40.53128695487976\n"
     ]
    },
    {
     "name": "stdout",
     "output_type": "stream",
     "text": [
      "   570     4.130851e-09     4.692240e-08\n",
      " * time: 41.34621500968933\n"
     ]
    },
    {
     "name": "stdout",
     "output_type": "stream",
     "text": [
      "   580     4.128947e-09     2.377660e-07\n",
      " * time: 42.15448594093323\n"
     ]
    },
    {
     "name": "stdout",
     "output_type": "stream",
     "text": [
      "   590     4.127692e-09     2.484168e-07\n",
      " * time: 42.87133502960205\n"
     ]
    },
    {
     "name": "stdout",
     "output_type": "stream",
     "text": [
      "   600     4.125881e-09     8.193425e-08\n",
      " * time: 43.556724071502686\n"
     ]
    },
    {
     "name": "stdout",
     "output_type": "stream",
     "text": [
      "   610     4.124132e-09     7.928186e-08\n",
      " * time: 44.466837882995605\n"
     ]
    },
    {
     "name": "stdout",
     "output_type": "stream",
     "text": [
      "   620     4.112395e-09     1.006075e-06\n",
      " * time: 45.254029989242554\n"
     ]
    },
    {
     "name": "stdout",
     "output_type": "stream",
     "text": [
      "   630     3.640545e-09     1.495135e-07\n",
      " * time: 45.961993932724\n"
     ]
    },
    {
     "name": "stdout",
     "output_type": "stream",
     "text": [
      "   640     3.637957e-09     5.792192e-07\n",
      " * time: 46.67362093925476\n"
     ]
    },
    {
     "name": "stdout",
     "output_type": "stream",
     "text": [
      "   650     3.622237e-09     3.856885e-07\n",
      " * time: 47.43199586868286\n"
     ]
    },
    {
     "name": "stdout",
     "output_type": "stream",
     "text": [
      "   660     3.402721e-09     8.018502e-07\n",
      " * time: 48.164632081985474\n"
     ]
    },
    {
     "name": "stdout",
     "output_type": "stream",
     "text": [
      "   670     3.396712e-09     1.124621e-07\n",
      " * time: 48.9200599193573\n"
     ]
    },
    {
     "name": "stdout",
     "output_type": "stream",
     "text": [
      "   680     3.396026e-09     1.459621e-07\n",
      " * time: 49.67357897758484\n"
     ]
    },
    {
     "name": "stdout",
     "output_type": "stream",
     "text": [
      "   690     3.395588e-09     1.369923e-07\n",
      " * time: 50.353272914886475\n"
     ]
    },
    {
     "name": "stdout",
     "output_type": "stream",
     "text": [
      "   700     3.391205e-09     1.820298e-07\n",
      " * time: 51.08328700065613\n"
     ]
    },
    {
     "name": "stdout",
     "output_type": "stream",
     "text": [
      "   710     3.389431e-09     2.295451e-08\n",
      " * time: 51.72156286239624\n"
     ]
    },
    {
     "name": "stdout",
     "output_type": "stream",
     "text": [
      "   720     3.385340e-09     4.191034e-07\n",
      " * time: 52.53212904930115\n"
     ]
    },
    {
     "name": "stdout",
     "output_type": "stream",
     "text": [
      "   730     3.380738e-09     1.012500e-07\n",
      " * time: 53.236231088638306\n"
     ]
    },
    {
     "name": "stdout",
     "output_type": "stream",
     "text": [
      "   740     3.378642e-09     1.185489e-07\n",
      " * time: 54.01932692527771\n"
     ]
    },
    {
     "name": "stdout",
     "output_type": "stream",
     "text": [
      "   750     3.376675e-09     2.498926e-07\n",
      " * time: 54.72482895851135\n"
     ]
    },
    {
     "name": "stdout",
     "output_type": "stream",
     "text": [
      "   760     3.376397e-09     4.033279e-08\n",
      " * time: 55.38032102584839\n"
     ]
    },
    {
     "name": "stdout",
     "output_type": "stream",
     "text": [
      "Iter     Function value   Gradient norm \n",
      "     0     2.661739e-01     3.346873e-01\n",
      " * time: 0.00014090538024902344\n"
     ]
    },
    {
     "name": "stdout",
     "output_type": "stream",
     "text": [
      "    10     1.776587e-02     5.926265e-02\n",
      " * time: 0.7876839637756348\n"
     ]
    },
    {
     "name": "stdout",
     "output_type": "stream",
     "text": [
      "    20     5.436849e-03     1.386392e-02\n",
      " * time: 1.4186930656433105\n"
     ]
    },
    {
     "name": "stdout",
     "output_type": "stream",
     "text": [
      "    30     5.311048e-05     3.289431e-03\n",
      " * time: 2.094973087310791\n"
     ]
    },
    {
     "name": "stdout",
     "output_type": "stream",
     "text": [
      "    40     4.873380e-06     1.612022e-04\n",
      " * time: 2.776731014251709\n"
     ]
    },
    {
     "name": "stdout",
     "output_type": "stream",
     "text": [
      "    50     5.795216e-08     1.625035e-05\n",
      " * time: 3.5910000801086426\n"
     ]
    },
    {
     "name": "stdout",
     "output_type": "stream",
     "text": [
      "    60     5.420956e-08     2.026632e-06\n",
      " * time: 4.4008049964904785\n"
     ]
    },
    {
     "name": "stdout",
     "output_type": "stream",
     "text": [
      "    70     1.047739e-08     1.947406e-05\n",
      " * time: 5.237153053283691\n"
     ]
    },
    {
     "name": "stdout",
     "output_type": "stream",
     "text": [
      "    80     9.414792e-09     1.307814e-07\n",
      " * time: 5.921402931213379\n"
     ]
    },
    {
     "name": "stdout",
     "output_type": "stream",
     "text": [
      "    90     9.414225e-09     6.150838e-08\n",
      " * time: 6.523797988891602\n"
     ]
    },
    {
     "name": "stdout",
     "output_type": "stream",
     "text": [
      "   100     9.413755e-09     1.749928e-07\n",
      " * time: 7.249331951141357\n"
     ]
    },
    {
     "name": "stdout",
     "output_type": "stream",
     "text": [
      "   110     9.412378e-09     3.034755e-07\n",
      " * time: 7.929173946380615\n"
     ]
    },
    {
     "name": "stdout",
     "output_type": "stream",
     "text": [
      "   120     9.405751e-09     3.503040e-07\n",
      " * time: 8.688162088394165\n"
     ]
    },
    {
     "name": "stdout",
     "output_type": "stream",
     "text": [
      "   130     9.403986e-09     2.502641e-08\n",
      " * time: 9.345124959945679\n"
     ]
    },
    {
     "name": "stdout",
     "output_type": "stream",
     "text": [
      "   140     9.380430e-09     1.575545e-06\n",
      " * time: 10.2046480178833\n"
     ]
    },
    {
     "name": "stdout",
     "output_type": "stream",
     "text": [
      "   150     8.992313e-09     4.252406e-07\n",
      " * time: 10.993963956832886\n"
     ]
    },
    {
     "name": "stdout",
     "output_type": "stream",
     "text": [
      "   160     8.415101e-09     6.756658e-07\n",
      " * time: 11.808412075042725\n"
     ]
    },
    {
     "name": "stdout",
     "output_type": "stream",
     "text": [
      "   170     8.396792e-09     1.449659e-08\n",
      " * time: 12.465056896209717\n"
     ]
    },
    {
     "name": "stdout",
     "output_type": "stream",
     "text": [
      "   180     8.396694e-09     1.071702e-07\n",
      " * time: 13.149488925933838\n"
     ]
    },
    {
     "name": "stdout",
     "output_type": "stream",
     "text": [
      "   190     8.395596e-09     9.640394e-08\n",
      " * time: 13.90622091293335\n"
     ]
    },
    {
     "name": "stdout",
     "output_type": "stream",
     "text": [
      "   200     8.394740e-09     2.252081e-07\n",
      " * time: 14.663336992263794\n"
     ]
    },
    {
     "name": "stdout",
     "output_type": "stream",
     "text": [
      "   210     8.394055e-09     1.369247e-07\n",
      " * time: 15.367515087127686\n"
     ]
    },
    {
     "name": "stdout",
     "output_type": "stream",
     "text": [
      "   220     8.393548e-09     4.960515e-08\n",
      " * time: 16.07145404815674\n"
     ]
    },
    {
     "name": "stdout",
     "output_type": "stream",
     "text": [
      "   230     8.393363e-09     1.023962e-07\n",
      " * time: 16.752963066101074\n"
     ]
    },
    {
     "name": "stdout",
     "output_type": "stream",
     "text": [
      "   240     8.392482e-09     7.358039e-08\n",
      " * time: 17.480767965316772\n"
     ]
    },
    {
     "name": "stdout",
     "output_type": "stream",
     "text": [
      "   250     8.391205e-09     1.306840e-07\n",
      " * time: 18.110389947891235\n"
     ]
    },
    {
     "name": "stdout",
     "output_type": "stream",
     "text": [
      "   260     8.390412e-09     4.022497e-08\n",
      " * time: 18.77173900604248\n"
     ]
    },
    {
     "name": "stdout",
     "output_type": "stream",
     "text": [
      "   270     8.389925e-09     7.791170e-08\n",
      " * time: 19.477601051330566\n"
     ]
    },
    {
     "name": "stdout",
     "output_type": "stream",
     "text": [
      "   280     8.386762e-09     3.008115e-07\n",
      " * time: 20.210540056228638\n"
     ]
    },
    {
     "name": "stdout",
     "output_type": "stream",
     "text": [
      "   290     8.379699e-09     1.040212e-07\n",
      " * time: 20.912394046783447\n"
     ]
    },
    {
     "name": "stdout",
     "output_type": "stream",
     "text": [
      "   300     8.363537e-09     1.772467e-07\n",
      " * time: 21.639343976974487\n"
     ]
    },
    {
     "name": "stdout",
     "output_type": "stream",
     "text": [
      "   310     8.338322e-09     6.400916e-07\n",
      " * time: 22.347455978393555\n"
     ]
    },
    {
     "name": "stdout",
     "output_type": "stream",
     "text": [
      "   320     8.312007e-09     3.899319e-07\n",
      " * time: 23.107120037078857\n"
     ]
    },
    {
     "name": "stdout",
     "output_type": "stream",
     "text": [
      "   330     8.308528e-09     1.720048e-07\n",
      " * time: 23.83766198158264\n"
     ]
    },
    {
     "name": "stdout",
     "output_type": "stream",
     "text": [
      "   340     7.961514e-09     1.150735e-06\n",
      " * time: 24.701653957366943\n"
     ]
    },
    {
     "name": "stdout",
     "output_type": "stream",
     "text": [
      "   350     6.105184e-09     6.827668e-06\n",
      " * time: 25.431220054626465\n"
     ]
    },
    {
     "name": "stdout",
     "output_type": "stream",
     "text": [
      "   360     5.454159e-09     7.227500e-07\n",
      " * time: 26.085016012191772\n"
     ]
    },
    {
     "name": "stdout",
     "output_type": "stream",
     "text": [
      "   370     5.421021e-09     2.143597e-07\n",
      " * time: 26.813679933547974\n"
     ]
    },
    {
     "name": "stdout",
     "output_type": "stream",
     "text": [
      "   380     5.409804e-09     9.244914e-07\n",
      " * time: 27.571338891983032\n"
     ]
    },
    {
     "name": "stdout",
     "output_type": "stream",
     "text": [
      "   390     5.300343e-09     8.679973e-07\n",
      " * time: 28.3009090423584\n"
     ]
    },
    {
     "name": "stdout",
     "output_type": "stream",
     "text": [
      "   400     5.238420e-09     1.161782e-06\n",
      " * time: 29.046935081481934\n"
     ]
    },
    {
     "name": "stdout",
     "output_type": "stream",
     "text": [
      "   410     5.218524e-09     1.202094e-06\n",
      " * time: 29.779015064239502\n"
     ]
    },
    {
     "name": "stdout",
     "output_type": "stream",
     "text": [
      "   420     5.192902e-09     4.364182e-07\n",
      " * time: 30.482817888259888\n"
     ]
    },
    {
     "name": "stdout",
     "output_type": "stream",
     "text": [
      "   430     5.177077e-09     5.759171e-07\n",
      " * time: 31.21173596382141\n"
     ]
    },
    {
     "name": "stdout",
     "output_type": "stream",
     "text": [
      "   440     4.936261e-09     4.455682e-06\n",
      " * time: 32.0219841003418\n"
     ]
    },
    {
     "name": "stdout",
     "output_type": "stream",
     "text": [
      "   450     4.204237e-09     3.362481e-07\n",
      " * time: 32.780277967453\n"
     ]
    },
    {
     "name": "stdout",
     "output_type": "stream",
     "text": [
      "   460     3.974840e-09     2.529931e-06\n",
      " * time: 33.51553392410278\n"
     ]
    },
    {
     "name": "stdout",
     "output_type": "stream",
     "text": [
      "   470     3.221918e-09     8.590140e-07\n",
      " * time: 34.27443194389343\n"
     ]
    },
    {
     "name": "stdout",
     "output_type": "stream",
     "text": [
      "   480     2.290119e-09     1.674233e-06\n",
      " * time: 35.03450298309326\n"
     ]
    },
    {
     "name": "stdout",
     "output_type": "stream",
     "text": [
      "   490     2.187915e-09     1.457632e-06\n",
      " * time: 35.74364709854126\n"
     ]
    },
    {
     "name": "stdout",
     "output_type": "stream",
     "text": [
      "   500     2.174506e-09     2.974642e-07\n",
      " * time: 36.447930097579956\n"
     ]
    },
    {
     "name": "stdout",
     "output_type": "stream",
     "text": [
      "   510     2.162683e-09     5.834428e-07\n",
      " * time: 37.41209888458252\n"
     ]
    },
    {
     "name": "stdout",
     "output_type": "stream",
     "text": [
      "   520     2.139733e-09     3.804705e-07\n",
      " * time: 38.16737604141235\n"
     ]
    },
    {
     "name": "stdout",
     "output_type": "stream",
     "text": [
      "   530     2.123539e-09     4.662226e-07\n",
      " * time: 38.819169998168945\n"
     ]
    },
    {
     "name": "stdout",
     "output_type": "stream",
     "text": [
      "   540     2.111154e-09     7.114403e-07\n",
      " * time: 39.496670961380005\n"
     ]
    },
    {
     "name": "stdout",
     "output_type": "stream",
     "text": [
      "   550     2.041442e-09     1.595911e-06\n",
      " * time: 40.20671796798706\n"
     ]
    },
    {
     "name": "stdout",
     "output_type": "stream",
     "text": [
      "   560     1.982492e-09     1.366052e-06\n",
      " * time: 40.96441292762756\n"
     ]
    },
    {
     "name": "stdout",
     "output_type": "stream",
     "text": [
      "   570     1.959664e-09     3.594206e-07\n",
      " * time: 41.59162092208862\n"
     ]
    },
    {
     "name": "stdout",
     "output_type": "stream",
     "text": [
      "   580     1.781132e-09     4.185913e-07\n",
      " * time: 42.40751910209656\n"
     ]
    },
    {
     "name": "stdout",
     "output_type": "stream",
     "text": [
      "   590     1.678503e-09     1.589515e-06\n",
      " * time: 43.10962390899658\n"
     ]
    },
    {
     "name": "stdout",
     "output_type": "stream",
     "text": [
      "   600     1.490420e-09     7.441346e-07\n",
      " * time: 43.818196058273315\n"
     ]
    },
    {
     "name": "stdout",
     "output_type": "stream",
     "text": [
      "   610     1.485354e-09     2.986878e-07\n",
      " * time: 44.62538695335388\n"
     ]
    },
    {
     "name": "stdout",
     "output_type": "stream",
     "text": [
      "   620     1.482571e-09     2.247161e-07\n",
      " * time: 45.379441022872925\n"
     ]
    },
    {
     "name": "stdout",
     "output_type": "stream",
     "text": [
      "   630     1.477539e-09     3.099481e-07\n",
      " * time: 46.299201011657715\n"
     ]
    },
    {
     "name": "stdout",
     "output_type": "stream",
     "text": [
      "   640     1.471232e-09     4.637198e-07\n",
      " * time: 47.00009799003601\n"
     ]
    },
    {
     "name": "stdout",
     "output_type": "stream",
     "text": [
      "   650     1.462439e-09     2.479025e-07\n",
      " * time: 47.71116304397583\n"
     ]
    },
    {
     "name": "stdout",
     "output_type": "stream",
     "text": [
      "   660     1.460489e-09     1.380293e-07\n",
      " * time: 48.446897983551025\n"
     ]
    },
    {
     "name": "stdout",
     "output_type": "stream",
     "text": [
      "   670     1.457616e-09     2.737262e-07\n",
      " * time: 49.18130707740784\n"
     ]
    },
    {
     "name": "stdout",
     "output_type": "stream",
     "text": [
      "   680     1.455877e-09     4.483913e-08\n",
      " * time: 49.85836696624756\n"
     ]
    },
    {
     "name": "stdout",
     "output_type": "stream",
     "text": [
      "   690     1.409861e-09     1.557852e-06\n",
      " * time: 50.852829933166504\n"
     ]
    },
    {
     "name": "stdout",
     "output_type": "stream",
     "text": [
      "   700     1.359863e-09     1.059136e-06\n",
      " * time: 51.589608907699585\n"
     ]
    },
    {
     "name": "stdout",
     "output_type": "stream",
     "text": [
      "   710     1.674461e-10     2.642997e-08\n",
      " * time: 52.32311511039734\n"
     ]
    },
    {
     "name": "stdout",
     "output_type": "stream",
     "text": [
      "Iter     Function value   Gradient norm \n",
      "     0     7.895150e-01     2.154434e-01\n",
      " * time: 0.00014400482177734375\n"
     ]
    },
    {
     "name": "stdout",
     "output_type": "stream",
     "text": [
      "    10     6.561255e-03     1.954359e-02\n",
      " * time: 0.8371379375457764\n"
     ]
    },
    {
     "name": "stdout",
     "output_type": "stream",
     "text": [
      "    20     5.621208e-03     1.303728e-03\n",
      " * time: 1.6606218814849854\n"
     ]
    },
    {
     "name": "stdout",
     "output_type": "stream",
     "text": [
      "    30     5.542872e-03     2.036951e-03\n",
      " * time: 2.3921759128570557\n"
     ]
    },
    {
     "name": "stdout",
     "output_type": "stream",
     "text": [
      "    40     5.408974e-03     7.438463e-05\n",
      " * time: 3.071398973464966\n"
     ]
    },
    {
     "name": "stdout",
     "output_type": "stream",
     "text": [
      "    50     5.335290e-03     2.781946e-04\n",
      " * time: 3.777613878250122\n"
     ]
    },
    {
     "name": "stdout",
     "output_type": "stream",
     "text": [
      "    60     5.324293e-03     3.067025e-04\n",
      " * time: 4.591783046722412\n"
     ]
    },
    {
     "name": "stdout",
     "output_type": "stream",
     "text": [
      "    70     5.314882e-03     3.660437e-04\n",
      " * time: 5.329277992248535\n"
     ]
    },
    {
     "name": "stdout",
     "output_type": "stream",
     "text": [
      "    80     5.303043e-03     2.160654e-04\n",
      " * time: 6.0631279945373535\n"
     ]
    },
    {
     "name": "stdout",
     "output_type": "stream",
     "text": [
      "    90     5.299763e-03     1.928150e-04\n",
      " * time: 6.850488901138306\n"
     ]
    },
    {
     "name": "stdout",
     "output_type": "stream",
     "text": [
      "   100     5.285509e-03     1.028893e-03\n",
      " * time: 7.581631898880005\n"
     ]
    },
    {
     "name": "stdout",
     "output_type": "stream",
     "text": [
      "   110     5.245678e-03     6.269578e-04\n",
      " * time: 8.291663885116577\n"
     ]
    },
    {
     "name": "stdout",
     "output_type": "stream",
     "text": [
      "   120     5.232315e-03     6.977872e-05\n",
      " * time: 9.001092910766602\n"
     ]
    },
    {
     "name": "stdout",
     "output_type": "stream",
     "text": [
      "   130     5.215554e-03     7.991931e-05\n",
      " * time: 9.784420013427734\n"
     ]
    },
    {
     "name": "stdout",
     "output_type": "stream",
     "text": [
      "   140     5.215356e-03     6.518110e-05\n",
      " * time: 10.57016110420227\n"
     ]
    },
    {
     "name": "stdout",
     "output_type": "stream",
     "text": [
      "   150     5.215116e-03     5.854348e-05\n",
      " * time: 11.328311920166016\n"
     ]
    },
    {
     "name": "stdout",
     "output_type": "stream",
     "text": [
      "   160     5.214112e-03     1.408916e-04\n",
      " * time: 12.17016887664795\n"
     ]
    },
    {
     "name": "stdout",
     "output_type": "stream",
     "text": [
      "   170     5.210729e-03     1.177055e-04\n",
      " * time: 12.929008960723877\n"
     ]
    },
    {
     "name": "stdout",
     "output_type": "stream",
     "text": [
      "   180     5.209118e-03     1.328278e-04\n",
      " * time: 13.694854021072388\n"
     ]
    },
    {
     "name": "stdout",
     "output_type": "stream",
     "text": [
      "   190     5.208068e-03     6.905469e-05\n",
      " * time: 14.479392051696777\n"
     ]
    },
    {
     "name": "stdout",
     "output_type": "stream",
     "text": [
      "   200     5.207678e-03     1.335212e-05\n",
      " * time: 15.292829036712646\n"
     ]
    },
    {
     "name": "stdout",
     "output_type": "stream",
     "text": [
      "   210     5.207606e-03     9.188398e-06\n",
      " * time: 16.053786039352417\n"
     ]
    },
    {
     "name": "stdout",
     "output_type": "stream",
     "text": [
      "   220     5.207463e-03     1.702401e-05\n",
      " * time: 16.920639991760254\n"
     ]
    },
    {
     "name": "stdout",
     "output_type": "stream",
     "text": [
      "   230     5.207411e-03     3.448749e-05\n",
      " * time: 17.727993965148926\n"
     ]
    },
    {
     "name": "stdout",
     "output_type": "stream",
     "text": [
      "   240     5.205772e-03     1.314381e-04\n",
      " * time: 18.486066102981567\n"
     ]
    },
    {
     "name": "stdout",
     "output_type": "stream",
     "text": [
      "   250     5.201248e-03     9.599077e-05\n",
      " * time: 19.09089493751526\n"
     ]
    },
    {
     "name": "stdout",
     "output_type": "stream",
     "text": [
      "   260     5.199582e-03     1.637063e-04\n",
      " * time: 19.853512048721313\n"
     ]
    },
    {
     "name": "stdout",
     "output_type": "stream",
     "text": [
      "   270     5.197755e-03     1.065575e-04\n",
      " * time: 20.618349075317383\n"
     ]
    },
    {
     "name": "stdout",
     "output_type": "stream",
     "text": [
      "   280     5.194851e-03     9.181004e-05\n",
      " * time: 21.432610988616943\n"
     ]
    },
    {
     "name": "stdout",
     "output_type": "stream",
     "text": [
      "   290     5.193506e-03     9.551665e-05\n",
      " * time: 22.176915884017944\n"
     ]
    },
    {
     "name": "stdout",
     "output_type": "stream",
     "text": [
      "   300     5.191675e-03     8.827565e-05\n",
      " * time: 22.864861965179443\n"
     ]
    },
    {
     "name": "stdout",
     "output_type": "stream",
     "text": [
      "   310     5.187937e-03     1.094485e-04\n",
      " * time: 23.606029987335205\n"
     ]
    },
    {
     "name": "stdout",
     "output_type": "stream",
     "text": [
      "   320     5.185456e-03     9.810479e-05\n",
      " * time: 24.3693950176239\n"
     ]
    },
    {
     "name": "stdout",
     "output_type": "stream",
     "text": [
      "   330     5.185196e-03     5.492736e-05\n",
      " * time: 25.110657930374146\n"
     ]
    },
    {
     "name": "stdout",
     "output_type": "stream",
     "text": [
      "   340     5.184237e-03     4.343397e-05\n",
      " * time: 25.80065393447876\n"
     ]
    },
    {
     "name": "stdout",
     "output_type": "stream",
     "text": [
      "   350     5.184089e-03     7.227039e-05\n",
      " * time: 26.60184907913208\n"
     ]
    },
    {
     "name": "stdout",
     "output_type": "stream",
     "text": [
      "   360     5.183935e-03     1.103035e-05\n",
      " * time: 27.367141008377075\n"
     ]
    },
    {
     "name": "stdout",
     "output_type": "stream",
     "text": [
      "   370     5.183887e-03     1.903197e-05\n",
      " * time: 28.08585000038147\n"
     ]
    },
    {
     "name": "stdout",
     "output_type": "stream",
     "text": [
      "   380     5.183847e-03     7.032733e-06\n",
      " * time: 28.829885959625244\n"
     ]
    },
    {
     "name": "stdout",
     "output_type": "stream",
     "text": [
      "   390     5.183769e-03     6.390354e-05\n",
      " * time: 29.651422023773193\n"
     ]
    },
    {
     "name": "stdout",
     "output_type": "stream",
     "text": [
      "   400     5.183713e-03     8.372545e-06\n",
      " * time: 30.440197944641113\n"
     ]
    },
    {
     "name": "stdout",
     "output_type": "stream",
     "text": [
      "   410     5.183707e-03     5.646923e-06\n",
      " * time: 31.21101188659668\n"
     ]
    },
    {
     "name": "stdout",
     "output_type": "stream",
     "text": [
      "   420     5.183695e-03     2.251746e-05\n",
      " * time: 32.02970600128174\n"
     ]
    },
    {
     "name": "stdout",
     "output_type": "stream",
     "text": [
      "   430     5.183580e-03     2.563467e-05\n",
      " * time: 32.84424710273743\n"
     ]
    },
    {
     "name": "stdout",
     "output_type": "stream",
     "text": [
      "   440     5.183497e-03     6.747381e-06\n",
      " * time: 33.665719985961914\n"
     ]
    },
    {
     "name": "stdout",
     "output_type": "stream",
     "text": [
      "   450     5.183439e-03     2.589647e-05\n",
      " * time: 34.4560809135437\n"
     ]
    },
    {
     "name": "stdout",
     "output_type": "stream",
     "text": [
      "   460     5.183373e-03     4.123835e-05\n",
      " * time: 35.2494170665741\n"
     ]
    },
    {
     "name": "stdout",
     "output_type": "stream",
     "text": [
      "   470     5.183156e-03     6.301023e-05\n",
      " * time: 36.04160809516907\n"
     ]
    },
    {
     "name": "stdout",
     "output_type": "stream",
     "text": [
      "   480     5.182891e-03     5.766738e-05\n",
      " * time: 36.78022789955139\n"
     ]
    },
    {
     "name": "stdout",
     "output_type": "stream",
     "text": [
      "   490     5.182682e-03     4.215212e-05\n",
      " * time: 37.494882106781006\n"
     ]
    },
    {
     "name": "stdout",
     "output_type": "stream",
     "text": [
      "   500     5.182576e-03     4.966640e-05\n",
      " * time: 38.206788063049316\n"
     ]
    },
    {
     "name": "stdout",
     "output_type": "stream",
     "text": [
      "   510     5.182458e-03     1.699067e-05\n",
      " * time: 38.94737100601196\n"
     ]
    },
    {
     "name": "stdout",
     "output_type": "stream",
     "text": [
      "   520     5.182373e-03     8.082817e-06\n",
      " * time: 39.737143993377686\n"
     ]
    },
    {
     "name": "stdout",
     "output_type": "stream",
     "text": [
      "   530     5.182296e-03     3.369948e-05\n",
      " * time: 40.50311088562012\n"
     ]
    },
    {
     "name": "stdout",
     "output_type": "stream",
     "text": [
      "   540     5.182238e-03     1.715328e-05\n",
      " * time: 41.30361795425415\n"
     ]
    },
    {
     "name": "stdout",
     "output_type": "stream",
     "text": [
      "   550     5.182192e-03     1.149700e-05\n",
      " * time: 42.07531499862671\n"
     ]
    },
    {
     "name": "stdout",
     "output_type": "stream",
     "text": [
      "   560     5.182160e-03     1.204824e-05\n",
      " * time: 42.93017601966858\n"
     ]
    },
    {
     "name": "stdout",
     "output_type": "stream",
     "text": [
      "   570     5.182083e-03     8.565414e-06\n",
      " * time: 43.753002882003784\n"
     ]
    },
    {
     "name": "stdout",
     "output_type": "stream",
     "text": [
      "   580     5.182067e-03     2.811459e-05\n",
      " * time: 44.51880097389221\n"
     ]
    },
    {
     "name": "stdout",
     "output_type": "stream",
     "text": [
      "   590     5.181979e-03     2.677268e-05\n",
      " * time: 45.39257001876831\n"
     ]
    },
    {
     "name": "stdout",
     "output_type": "stream",
     "text": [
      "   600     5.181911e-03     8.330143e-06\n",
      " * time: 46.13688087463379\n"
     ]
    },
    {
     "name": "stdout",
     "output_type": "stream",
     "text": [
      "   610     5.181856e-03     2.536209e-05\n",
      " * time: 46.98796010017395\n"
     ]
    },
    {
     "name": "stdout",
     "output_type": "stream",
     "text": [
      "   620     5.181806e-03     2.430796e-05\n",
      " * time: 47.75860810279846\n"
     ]
    },
    {
     "name": "stdout",
     "output_type": "stream",
     "text": [
      "   630     5.181705e-03     1.623942e-05\n",
      " * time: 48.529123067855835\n"
     ]
    },
    {
     "name": "stdout",
     "output_type": "stream",
     "text": [
      "   640     5.181606e-03     1.668871e-05\n",
      " * time: 49.32637596130371\n"
     ]
    },
    {
     "name": "stdout",
     "output_type": "stream",
     "text": [
      "   650     5.181543e-03     2.578294e-05\n",
      " * time: 50.155004024505615\n"
     ]
    },
    {
     "name": "stdout",
     "output_type": "stream",
     "text": [
      "   660     5.181455e-03     1.636845e-05\n",
      " * time: 50.92713499069214\n"
     ]
    },
    {
     "name": "stdout",
     "output_type": "stream",
     "text": [
      "   670     5.181406e-03     2.030365e-05\n",
      " * time: 51.69693088531494\n"
     ]
    },
    {
     "name": "stdout",
     "output_type": "stream",
     "text": [
      "   680     5.181378e-03     3.917954e-05\n",
      " * time: 52.50386190414429\n"
     ]
    },
    {
     "name": "stdout",
     "output_type": "stream",
     "text": [
      "   690     5.181344e-03     8.698410e-06\n",
      " * time: 53.42946195602417\n"
     ]
    },
    {
     "name": "stdout",
     "output_type": "stream",
     "text": [
      "   700     5.181336e-03     2.309999e-06\n",
      " * time: 54.30630588531494\n"
     ]
    },
    {
     "name": "stdout",
     "output_type": "stream",
     "text": [
      "   710     5.181315e-03     1.732364e-05\n",
      " * time: 55.17018103599548\n"
     ]
    },
    {
     "name": "stdout",
     "output_type": "stream",
     "text": [
      "   720     5.181279e-03     8.016279e-06\n",
      " * time: 56.15686893463135\n"
     ]
    },
    {
     "name": "stdout",
     "output_type": "stream",
     "text": [
      "   730     5.181265e-03     2.991672e-06\n",
      " * time: 57.3319149017334\n"
     ]
    },
    {
     "name": "stdout",
     "output_type": "stream",
     "text": [
      "   740     5.181262e-03     2.504694e-06\n",
      " * time: 58.20224404335022\n"
     ]
    },
    {
     "name": "stdout",
     "output_type": "stream",
     "text": [
      "   750     5.181261e-03     1.131108e-06\n",
      " * time: 59.19455003738403\n"
     ]
    },
    {
     "name": "stdout",
     "output_type": "stream",
     "text": [
      "   760     5.181259e-03     5.829876e-06\n",
      " * time: 60.01003098487854\n"
     ]
    },
    {
     "name": "stdout",
     "output_type": "stream",
     "text": [
      "   770     5.181258e-03     2.212397e-06\n",
      " * time: 61.1202290058136\n"
     ]
    },
    {
     "name": "stdout",
     "output_type": "stream",
     "text": [
      "   780     5.181253e-03     2.469337e-06\n",
      " * time: 62.037079095840454\n"
     ]
    },
    {
     "name": "stdout",
     "output_type": "stream",
     "text": [
      "   790     5.181250e-03     4.105049e-06\n",
      " * time: 63.098602056503296\n"
     ]
    },
    {
     "name": "stdout",
     "output_type": "stream",
     "text": [
      "   800     5.181250e-03     4.163265e-06\n",
      " * time: 64.24589896202087\n"
     ]
    },
    {
     "name": "stdout",
     "output_type": "stream",
     "text": [
      "   810     5.181247e-03     2.167441e-06\n",
      " * time: 65.17157888412476\n"
     ]
    },
    {
     "name": "stdout",
     "output_type": "stream",
     "text": [
      "   820     5.181247e-03     2.312235e-06\n",
      " * time: 66.30591487884521\n"
     ]
    },
    {
     "name": "stdout",
     "output_type": "stream",
     "text": [
      "   830     5.181246e-03     4.803203e-06\n",
      " * time: 67.77702498435974\n"
     ]
    },
    {
     "name": "stdout",
     "output_type": "stream",
     "text": [
      "   840     5.181246e-03     9.359579e-07\n",
      " * time: 68.68732690811157\n"
     ]
    },
    {
     "name": "stdout",
     "output_type": "stream",
     "text": [
      "   850     5.181245e-03     2.565618e-06\n",
      " * time: 69.58305501937866\n"
     ]
    },
    {
     "name": "stdout",
     "output_type": "stream",
     "text": [
      "   860     5.181245e-03     6.547699e-07\n",
      " * time: 70.36798000335693\n"
     ]
    },
    {
     "name": "stdout",
     "output_type": "stream",
     "text": [
      "   870     5.181245e-03     2.250010e-06\n",
      " * time: 71.16370010375977\n"
     ]
    },
    {
     "name": "stdout",
     "output_type": "stream",
     "text": [
      "   880     5.181243e-03     2.931608e-06\n",
      " * time: 71.96010303497314\n"
     ]
    },
    {
     "name": "stdout",
     "output_type": "stream",
     "text": [
      "   890     5.181242e-03     7.637390e-07\n",
      " * time: 72.70218396186829\n"
     ]
    },
    {
     "name": "stdout",
     "output_type": "stream",
     "text": [
      "   900     5.181242e-03     1.599954e-06\n",
      " * time: 73.50458097457886\n"
     ]
    },
    {
     "name": "stdout",
     "output_type": "stream",
     "text": [
      "   910     5.181242e-03     8.280973e-07\n",
      " * time: 74.27558207511902\n"
     ]
    },
    {
     "name": "stdout",
     "output_type": "stream",
     "text": [
      "   920     5.181241e-03     2.438718e-06\n",
      " * time: 75.0782299041748\n"
     ]
    },
    {
     "name": "stdout",
     "output_type": "stream",
     "text": [
      "   930     5.181235e-03     9.915623e-07\n",
      " * time: 75.98443508148193\n"
     ]
    },
    {
     "name": "stdout",
     "output_type": "stream",
     "text": [
      "   940     5.181233e-03     7.910673e-07\n",
      " * time: 76.79428100585938\n"
     ]
    },
    {
     "name": "stdout",
     "output_type": "stream",
     "text": [
      "   950     5.181229e-03     6.785804e-06\n",
      " * time: 77.59779787063599\n"
     ]
    },
    {
     "name": "stdout",
     "output_type": "stream",
     "text": [
      "   960     5.181223e-03     2.817242e-06\n",
      " * time: 78.39786005020142\n"
     ]
    },
    {
     "name": "stdout",
     "output_type": "stream",
     "text": [
      "   970     5.181216e-03     1.603650e-06\n",
      " * time: 79.19519400596619\n"
     ]
    },
    {
     "name": "stdout",
     "output_type": "stream",
     "text": [
      "   980     5.181207e-03     2.504334e-05\n",
      " * time: 80.02563190460205\n"
     ]
    },
    {
     "name": "stdout",
     "output_type": "stream",
     "text": [
      "   990     5.181193e-03     4.801280e-06\n",
      " * time: 80.79278707504272\n"
     ]
    },
    {
     "name": "stdout",
     "output_type": "stream",
     "text": [
      "  1000     5.181191e-03     2.260242e-06\n",
      " * time: 81.61373710632324\n"
     ]
    },
    {
     "name": "stdout",
     "output_type": "stream",
     "text": [
      "Iter     Function value   Gradient norm \n",
      "     0     9.999996e-01     1.072164e-05\n",
      " * time: 7.891654968261719e-5\n"
     ]
    },
    {
     "name": "stdout",
     "output_type": "stream",
     "text": [
      "    10     2.501218e-02     1.220180e-02\n",
      " * time: 1.2058689594268799\n"
     ]
    },
    {
     "name": "stdout",
     "output_type": "stream",
     "text": [
      "    20     2.609787e-04     7.356789e-03\n",
      " * time: 1.9952139854431152\n"
     ]
    },
    {
     "name": "stdout",
     "output_type": "stream",
     "text": [
      "    30     1.271179e-06     6.169555e-06\n",
      " * time: 2.6492929458618164\n"
     ]
    },
    {
     "name": "stdout",
     "output_type": "stream",
     "text": [
      "    40     8.698957e-08     1.923888e-07\n",
      " * time: 3.4978818893432617\n"
     ]
    },
    {
     "name": "stdout",
     "output_type": "stream",
     "text": [
      "    50     5.455444e-08     1.788428e-05\n",
      " * time: 4.676313877105713\n"
     ]
    },
    {
     "name": "stdout",
     "output_type": "stream",
     "text": [
      "    60     1.607567e-08     3.254003e-05\n",
      " * time: 5.58470606803894\n"
     ]
    },
    {
     "name": "stdout",
     "output_type": "stream",
     "text": [
      "    70     5.634294e-09     2.517153e-07\n",
      " * time: 6.299962043762207\n"
     ]
    },
    {
     "name": "stdout",
     "output_type": "stream",
     "text": [
      "    80     5.634049e-09     2.452346e-08\n",
      " * time: 7.0598530769348145\n"
     ]
    },
    {
     "name": "stdout",
     "output_type": "stream",
     "text": [
      "    90     5.633923e-09     3.114383e-08\n",
      " * time: 8.070781946182251\n"
     ]
    },
    {
     "name": "stdout",
     "output_type": "stream",
     "text": [
      "   100     5.633103e-09     1.887674e-07\n",
      " * time: 8.835222005844116\n"
     ]
    },
    {
     "name": "stdout",
     "output_type": "stream",
     "text": [
      "   110     5.631000e-09     9.152342e-08\n",
      " * time: 9.478379011154175\n"
     ]
    },
    {
     "name": "stdout",
     "output_type": "stream",
     "text": [
      "   120     5.630560e-09     1.196092e-07\n",
      " * time: 10.4792320728302\n"
     ]
    },
    {
     "name": "stdout",
     "output_type": "stream",
     "text": [
      "   130     5.623767e-09     5.307686e-07\n",
      " * time: 11.424575090408325\n"
     ]
    },
    {
     "name": "stdout",
     "output_type": "stream",
     "text": [
      "   140     5.504957e-09     1.833560e-06\n",
      " * time: 12.325309038162231\n"
     ]
    },
    {
     "name": "stdout",
     "output_type": "stream",
     "text": [
      "   150     3.503462e-09     1.268222e-06\n",
      " * time: 13.489729881286621\n"
     ]
    },
    {
     "name": "stdout",
     "output_type": "stream",
     "text": [
      "   160     3.480422e-09     4.458113e-07\n",
      " * time: 14.456465005874634\n"
     ]
    },
    {
     "name": "stdout",
     "output_type": "stream",
     "text": [
      "   170     3.123880e-09     5.235798e-06\n",
      " * time: 15.441974878311157\n"
     ]
    },
    {
     "name": "stdout",
     "output_type": "stream",
     "text": [
      "   180     1.585654e-09     6.884726e-07\n",
      " * time: 16.23423409461975\n"
     ]
    },
    {
     "name": "stdout",
     "output_type": "stream",
     "text": [
      "   190     1.500348e-09     3.579650e-07\n",
      " * time: 17.059496879577637\n"
     ]
    },
    {
     "name": "stdout",
     "output_type": "stream",
     "text": [
      "   200     1.492125e-09     6.820022e-08\n",
      " * time: 17.826693058013916\n"
     ]
    },
    {
     "name": "stdout",
     "output_type": "stream",
     "text": [
      "   210     1.490783e-09     1.630367e-07\n",
      " * time: 18.5931179523468\n"
     ]
    },
    {
     "name": "stdout",
     "output_type": "stream",
     "text": [
      "   220     1.490165e-09     4.734937e-08\n",
      " * time: 19.710164070129395\n"
     ]
    },
    {
     "name": "stdout",
     "output_type": "stream",
     "text": [
      "   230     1.489075e-09     1.169890e-07\n",
      " * time: 20.72313404083252\n"
     ]
    },
    {
     "name": "stdout",
     "output_type": "stream",
     "text": [
      "   240     1.482876e-09     7.802115e-07\n",
      " * time: 21.533956050872803\n"
     ]
    },
    {
     "name": "stdout",
     "output_type": "stream",
     "text": [
      "   250     1.427306e-09     1.646315e-06\n",
      " * time: 22.375792980194092\n"
     ]
    },
    {
     "name": "stdout",
     "output_type": "stream",
     "text": [
      "   260     1.041725e-09     2.955063e-07\n",
      " * time: 23.09618306159973\n"
     ]
    },
    {
     "name": "stdout",
     "output_type": "stream",
     "text": [
      "   270     1.041109e-09     4.142043e-08\n",
      " * time: 23.892677068710327\n"
     ]
    },
    {
     "name": "stdout",
     "output_type": "stream",
     "text": [
      "   280     1.038517e-09     9.119272e-07\n",
      " * time: 24.71287703514099\n"
     ]
    },
    {
     "name": "stdout",
     "output_type": "stream",
     "text": [
      "   290     1.033008e-09     1.672169e-07\n",
      " * time: 25.4566490650177\n"
     ]
    },
    {
     "name": "stdout",
     "output_type": "stream",
     "text": [
      "   300     1.028650e-09     4.802024e-07\n",
      " * time: 26.155987977981567\n"
     ]
    },
    {
     "name": "stdout",
     "output_type": "stream",
     "text": [
      "   310     1.023310e-09     1.188415e-07\n",
      " * time: 26.84177303314209\n"
     ]
    },
    {
     "name": "stdout",
     "output_type": "stream",
     "text": [
      "   320     1.021321e-09     6.298587e-08\n",
      " * time: 27.525147914886475\n"
     ]
    },
    {
     "name": "stdout",
     "output_type": "stream",
     "text": [
      "   330     1.020489e-09     3.319945e-07\n",
      " * time: 28.29660201072693\n"
     ]
    },
    {
     "name": "stdout",
     "output_type": "stream",
     "text": [
      "   340     1.018421e-09     3.169626e-08\n",
      " * time: 29.068363904953003\n"
     ]
    },
    {
     "name": "stdout",
     "output_type": "stream",
     "text": [
      "   350     8.591519e-10     1.772020e-06\n",
      " * time: 29.86220097541809\n"
     ]
    },
    {
     "name": "stdout",
     "output_type": "stream",
     "text": [
      "   360     4.163514e-11     8.622019e-08\n",
      " * time: 30.676843881607056\n"
     ]
    },
    {
     "name": "stdout",
     "output_type": "stream",
     "text": [
      "   370     3.717737e-11     1.244009e-07\n",
      " * time: 31.467566967010498\n"
     ]
    },
    {
     "name": "stdout",
     "output_type": "stream",
     "text": [
      "   380     1.629274e-11     7.608868e-08\n",
      " * time: 32.36912703514099\n"
     ]
    },
    {
     "name": "stdout",
     "output_type": "stream",
     "text": [
      "1.6211920694786386e-114.098765771232138e-113.3763556395172145e-91.6744361452936118e-100.005181191072029301\n"
     ]
    }
   ],
   "source": [
    "x(x) = cost_from_0_dispersive(H_drift, sp, sm, a, adag, T, T / (50) , x, X_gate, ω_c, ω_q, ψ_initial_rand, ψ_final_x_gate, 5, 5, int_transformation)\n",
    "rx(x) = cost_from_0_dispersive(H_drift, sp, sm, a, adag, T, T / (50) , x, X_gate, ω_c, ω_q, ψ_initial_rand, ψ_final_x, 5, 5, int_transformation)\n",
    "u(x) = cost_from_0_dispersive(H_drift, sp, sm, a, adag, T, T / (50) , x, X_gate, ω_c, ω_q, ψ_initial_rand, ψ_final_u, 5, 5, int_transformation)\n",
    "k(x) = cost_from_0_dispersive(H_drift, sp, sm, a, adag, T, T / (50) , x, X_gate, ω_c, ω_q, ψ_initial, ψ_final_k, 5, 5, int_transformation)\n",
    "superposition(x) = cost_from_0_dispersive(H_drift, sp, sm, a, adag, T, T / (50) , x, X_gate, ω_c, ω_q, ψ_initial, ψ_final_superposition, 5, 5, int_transformation)\n",
    "\n",
    "it_costs_x = []\n",
    "coefficients_x = []\n",
    "it_costs_rx = []\n",
    "coefficients_rx = []\n",
    "it_costs_u = []\n",
    "coefficients_u = []\n",
    "it_costs_superposition = []\n",
    "coefficients_superposition = []\n",
    "it_costs_k = []\n",
    "coefficients_k = []\n",
    "for iteration in 1:3\n",
    "    println(\" iterations :\", iteration)\n",
    "    coefficients = rand(16)*2 .-1 + (rand(16)*2im .-1im)\n",
    "    res_x = Optim.optimize(x, coefficients , LBFGS(), Optim.Options(show_trace=true, show_every=10))\n",
    "    res_rx = Optim.optimize(rx, coefficients , LBFGS(), Optim.Options(show_trace=true, show_every=10))\n",
    "    res_u = Optim.optimize(u, coefficients , LBFGS(), Optim.Options(show_trace=true, show_every=10))\n",
    "    res_superposition = Optim.optimize(superposition, coefficients , LBFGS(), Optim.Options(show_trace=true, show_every=10))\n",
    "    res_k = Optim.optimize(k, coefficients , LBFGS(), Optim.Options(show_trace=true, show_every=10))\n",
    "    push!(it_costs_x,Optim.minimum(res_x))\n",
    "    push!(it_costs_rx,Optim.minimum(res_rx))\n",
    "    push!(it_costs_u,Optim.minimum(res_u))\n",
    "    push!(it_costs_k,Optim.minimum(res_k))\n",
    "    push!(it_costs_superposition,Optim.minimum(res_superposition))\n",
    "    push!(coefficients_x,Optim.minimizer(res_x))\n",
    "    push!(coefficients_rx,Optim.minimizer(res_rx))\n",
    "    push!(coefficients_u,Optim.minimizer(res_u))\n",
    "    push!(coefficients_k,Optim.minimizer(res_k))\n",
    "    push!(coefficients_superposition,Optim.minimizer(res_superposition))\n",
    "    println(Optim.minimum(res_k), Optim.minimum(res_x), Optim.minimum(res_rx), Optim.minimum(res_u), Optim.minimum(res_superposition))\n",
    "end"
   ]
  },
  {
   "cell_type": "code",
   "execution_count": 47,
   "metadata": {},
   "outputs": [
    {
     "data": {
      "text/plain": [
       "\"../../data/state_prep/3_photons/PO/superposition_gate_50steps_100ns.txt\""
      ]
     },
     "metadata": {},
     "output_type": "display_data"
    }
   ],
   "source": [
    "df_x = DataFrame(fidelity=it_costs_x, coefficients=coefficients_x)\n",
    "df_rx = DataFrame(fidelity=it_costs_rx, coefficients=coefficients_rx)\n",
    "df_u = DataFrame(fidelity=it_costs_u, coefficients=coefficients_u)\n",
    "df_k = DataFrame(fidelity=it_costs_k, coefficients=coefficients_k)\n",
    "df_superposition = DataFrame(fidelity=it_costs_superposition, coefficients=coefficients_superposition)\n",
    "CSV.write(\"../../data/state_prep/3_photons/PO/x_gate_50steps_100ns.txt\", df_x)\n",
    "CSV.write(\"../../data/state_prep/3_photons/PO/rx_gate_50steps_100ns.txt\", df_rx)\n",
    "CSV.write(\"../../data/state_prep/3_photons/PO/u_gate_50steps_100ns.txt\", df_u)\n",
    "CSV.write(\"../../data/state_prep/3_photons/PO/k_gate_50steps_100ns.txt\", df_k)\n",
    "CSV.write(\"../../data/state_prep/3_photons/PO/superposition_gate_50steps_100ns.txt\", df_superposition)"
   ]
  },
  {
   "cell_type": "code",
   "execution_count": null,
   "metadata": {},
   "outputs": [],
   "source": []
  }
 ],
 "metadata": {
  "kernelspec": {
   "display_name": "Julia 1.9.1",
   "language": "julia",
   "name": "julia-1.9"
  },
  "language_info": {
   "file_extension": ".jl",
   "mimetype": "application/julia",
   "name": "julia",
   "version": "1.9.1"
  },
  "orig_nbformat": 4
 },
 "nbformat": 4,
 "nbformat_minor": 2
}
