{
 "cells": [
  {
   "cell_type": "code",
   "execution_count": 89,
   "metadata": {},
   "outputs": [
    {
     "data": {
      "text/plain": [
       "U2 (generic function with 1 method)"
      ]
     },
     "metadata": {},
     "output_type": "display_data"
    }
   ],
   "source": [
    "include(\"../Algebra/Gradients.jl\")\n",
    "include(\"../Algebra/Hamiltonians.jl\")\n",
    "include(\"../Algebra/Matrices.jl\")\n",
    "include(\"../Algebra/Propagators.jl\")\n",
    "include(\"../Amplitudes/Chebyshev.jl\")\n",
    "include(\"../Costs/Costs.jl\")\n",
    "include(\"../Gates/Xgate.jl\")"
   ]
  },
  {
   "cell_type": "code",
   "execution_count": 90,
   "metadata": {},
   "outputs": [],
   "source": [
    "using LinearAlgebra, Optim, Plots\n",
    "using BenchmarkTools, Distributions"
   ]
  },
  {
   "cell_type": "code",
   "execution_count": 91,
   "metadata": {},
   "outputs": [
    {
     "data": {
      "text/plain": [
       "1"
      ]
     },
     "metadata": {},
     "output_type": "display_data"
    }
   ],
   "source": [
    "ω_c = 5\n",
    "ω_q = 2\n",
    "χ = 3e-3\n",
    "N = 6\n",
    "amp_c = 1\n",
    "amp_q = 1"
   ]
  },
  {
   "cell_type": "code",
   "execution_count": 92,
   "metadata": {},
   "outputs": [
    {
     "data": {
      "text/plain": [
       "12-element Vector{Float64}:\n",
       " 0.0\n",
       " 0.15714193695644985\n",
       " 0.0\n",
       " 0.5218568024193412\n",
       " 0.0\n",
       " 0.36886796764867485\n",
       " 0.0\n",
       " 0.6761114807102022\n",
       " 0.0\n",
       " 0.13986602658713793\n",
       " 0.0\n",
       " 0.30036489828133367"
      ]
     },
     "metadata": {},
     "output_type": "display_data"
    }
   ],
   "source": [
    "I_qubit = Matrix(I,2,2)\n",
    "I_cavity = Matrix(I,N,N)\n",
    "X_gate = kron(x_gate(N, Array[[2,5]]), I_qubit)\n",
    "\n",
    "#X_gate = kron(x_gate(N, Array[[2,3], [4,5]]), I_qubit)\n",
    "\n",
    "θ = π/2.5\n",
    "RZ = kron(Rz(N, Array[[3,4]], θ/2), I_qubit)\n",
    "RX = kron(Rx(N, Array[[3,4]], θ/4), I_qubit)\n",
    "Udue = kron(U2(N, Array[[3,4]], [θ/2 θ/3 θ/4] ), I_qubit)\n",
    "\n",
    "sx = kron(I_cavity, [0 1; 1 0])\n",
    "sy = kron(I_cavity, [0 -1im; 1im 0])\n",
    "\n",
    "ψ_initial = rand(N)\n",
    "ψ_initial = kron(ψ_initial/norm(ψ_initial), [0,1])"
   ]
  },
  {
   "cell_type": "code",
   "execution_count": 93,
   "metadata": {},
   "outputs": [
    {
     "data": {
      "text/plain": [
       "12-element Vector{Float64}:\n",
       " 0.0\n",
       " 0.15714193695644985\n",
       " 0.0\n",
       " 0.13986602658713793\n",
       " 0.0\n",
       " 0.36886796764867485\n",
       " 0.0\n",
       " 0.6761114807102022\n",
       " 0.0\n",
       " 0.5218568024193412\n",
       " 0.0\n",
       " 0.30036489828133367"
      ]
     },
     "metadata": {},
     "output_type": "display_data"
    }
   ],
   "source": [
    "ψ_final_u = Udue * ψ_initial\n",
    "ψ_final_x = RX * ψ_initial\n",
    "ψ_final_x_gate = X_gate * ψ_initial"
   ]
  },
  {
   "cell_type": "code",
   "execution_count": 94,
   "metadata": {},
   "outputs": [
    {
     "data": {
      "text/plain": [
       "([0.0 0.0 … 0.0 0.0; 0.0 0.0 … 0.0 0.0; … ; 0.0 0.0 … 0.0 0.0; 0.0 0.0 … 0.0 0.0], [0.0 0.0 … 0.0 0.0; 0.0 0.0 … 0.0 0.0; … ; 0.0 0.0 … 0.0 0.0; 0.0 0.0 … 0.0 0.0], [0 1 … 0 0; 0 0 … 0 0; … ; 0 0 … 0 1; 0 0 … 0 0], [0 0 … 0 0; 1 0 … 0 0; … ; 0 0 … 0 0; 0 0 … 1 0], [1 0 … 0 0; 0 -1 … 0 0; … ; 0 0 … 1 0; 0 0 … 0 -1])"
      ]
     },
     "metadata": {},
     "output_type": "display_data"
    }
   ],
   "source": [
    "# generating matrices\n",
    "a,adag,sp,sm,sz = generate_matrices(N)"
   ]
  },
  {
   "cell_type": "code",
   "execution_count": 81,
   "metadata": {},
   "outputs": [
    {
     "data": {
      "text/plain": [
       "snap (generic function with 1 method)"
      ]
     },
     "metadata": {},
     "output_type": "display_data"
    }
   ],
   "source": [
    "disp(α) = exp((α * adag - α' * a))\n",
    "ECD(β) = disp(β / 2) * sp + disp(- β / 2) * sm\n",
    "ROT(ϕ, θ) = exp(-1im * θ / 2 * ( sx * cos(ϕ) + sy * sin(ϕ) )) \n",
    "snap(x) = kron(Diagonal(exp.(-1im.*x)),I_qubit)"
   ]
  },
  {
   "cell_type": "code",
   "execution_count": 82,
   "metadata": {},
   "outputs": [
    {
     "data": {
      "text/plain": [
       "gradient_state_prep (generic function with 1 method)"
      ]
     },
     "metadata": {},
     "output_type": "display_data"
    }
   ],
   "source": [
    "function cost(coefficients, unitary, N)\n",
    "\n",
    "    L = length(coefficients)\n",
    "    β_i = coefficients[1: Int(L/4)]\n",
    "    β_r = coefficients[Int(L/4) + 1 : Int(L/2)]\n",
    "\n",
    "    θs = coefficients[Int(L/2) + 1 : Int(3 * L/4)]\n",
    "    ϕs = coefficients[Int(3 * L/4) + 1 : end]\n",
    "\n",
    "    propagator = Matrix{ComplexF64}(I,N,N)\n",
    "\n",
    "    for i in 1:length(β_i)\n",
    "        propagator = propagator * ROT(ϕs[i], θs[i]) * ECD(β_i[i] + β_r[i] * 1im)\n",
    "    end\n",
    "\n",
    "    return 1 - norm(tr(propagator*unitary') / N)^2\n",
    "    \n",
    "end\n",
    "\n",
    "function cost_ecd_rot_ecd(coefficients, unitary, N)\n",
    "\n",
    "    L = length(coefficients)\n",
    "    β_i = coefficients[1: Int(L/4)]\n",
    "    β_r = coefficients[Int(L/4) + 1 : Int(L/2)]\n",
    "\n",
    "    θs = coefficients[Int(L/2) + 1 : Int(3 * L/4)]\n",
    "    ϕs = coefficients[Int(3 * L/4) + 1 : end]\n",
    "\n",
    "    propagator = Matrix{ComplexF64}(I,N,N)\n",
    "\n",
    "    for i in 1:length(β_i)\n",
    "        propagator = propagator * ECD(β_i[i] + β_r[i] * 1im) * ROT(ϕs[i], θs[i]) * ECD(β_i[i] + β_r[i] * 1im)'\n",
    "    end\n",
    "\n",
    "    return 1 - norm(tr(propagator*unitary') / N)^2\n",
    "    \n",
    "end\n",
    "\n",
    "function gradient(coefficients, unitary, N, h, cost_before_increment)\n",
    "\n",
    "    L = length(coefficients)\n",
    "    gradient = zeros(L)\n",
    "\n",
    "    for i in 1:L\n",
    "        coeffs_copy = copy(coefficients)\n",
    "        coeffs_copy[i] = coefficients[i] + h\n",
    "        gradient[i] = (cost(coeffs_copy, unitary, N) - cost_before_increment) / h\n",
    "    end\n",
    "\n",
    "    return gradient\n",
    "\n",
    "end\n",
    "\n",
    "function gate_composition(coefficients, N, l_coeff)\n",
    "\n",
    "    L = length(coefficients)\n",
    "    β_i = coefficients[1: Int(L/4)]\n",
    "    β_r = coefficients[Int(L/4) + 1 : Int(L/2)]\n",
    "\n",
    "    θs = coefficients[Int(L/2) + 1 : Int(3 * L/4)]\n",
    "    ϕs = coefficients[Int(3 * L/4) + 1 : end]\n",
    "\n",
    "    propagator = Matrix{ComplexF64}(I,N,N)\n",
    "\n",
    "    for i in 1:length(β_i)\n",
    "        propagator = propagator * ROT(ϕs[i], θs[i]) * ECD(β_i[i] + β_r[i] * 1im)\n",
    "    end\n",
    "\n",
    "    return propagator\n",
    "    \n",
    "end\n",
    "\n",
    "function cost_state_prep(coefficients, N, ψ_n, ψ_m)\n",
    "\n",
    "    L = length(coefficients)\n",
    "    β_i = coefficients[1: Int(L/4)]\n",
    "    β_r = coefficients[Int(L/4) + 1 : Int(L/2)]\n",
    "\n",
    "    θs = coefficients[Int(L/2) + 1 : Int(3 * L/4)]\n",
    "    ϕs = coefficients[Int(3 * L/4) + 1 : end]\n",
    "\n",
    "    propagator = Matrix{ComplexF64}(I,N,N)\n",
    "\n",
    "    for i in 1:length(β_i)\n",
    "        propagator = propagator * ROT(ϕs[i], θs[i]) * ECD(β_i[i] + β_r[i] * 1im)\n",
    "    end\n",
    "\n",
    "    return 1 - norm(ψ_m' * propagator * ψ_n)^2\n",
    "    \n",
    "end\n",
    "\n",
    "\n",
    "function gradient_state_prep(coefficients, N, h, cost_before_increment, ψ_n, ψ_m)\n",
    "\n",
    "    L = length(coefficients)\n",
    "    gradient = zeros(L)\n",
    "\n",
    "    for i in 1:L\n",
    "        coeffs_copy = copy(coefficients)\n",
    "        coeffs_copy[i] = coefficients[i] + h\n",
    "        gradient[i] = (cost_state_prep(coeffs_copy, N, ψ_n, ψ_m) - cost_before_increment) / h\n",
    "    end\n",
    "\n",
    "    return gradient\n",
    "\n",
    "end"
   ]
  },
  {
   "cell_type": "code",
   "execution_count": 83,
   "metadata": {},
   "outputs": [
    {
     "data": {
      "text/plain": [
       "12×12 Matrix{ComplexF64}:\n",
       " 0.849522-0.527553im       0.0-0.0im       …       0.0+0.0im\n",
       "      0.0-0.0im       0.849522-0.527553im          0.0+0.0im\n",
       "      0.0+0.0im            0.0+0.0im               0.0+0.0im\n",
       "      0.0+0.0im            0.0+0.0im               0.0+0.0im\n",
       "      0.0+0.0im            0.0+0.0im               0.0+0.0im\n",
       "      0.0+0.0im            0.0+0.0im       …       0.0+0.0im\n",
       "      0.0+0.0im            0.0+0.0im               0.0+0.0im\n",
       "      0.0+0.0im            0.0+0.0im               0.0+0.0im\n",
       "      0.0+0.0im            0.0+0.0im               0.0+0.0im\n",
       "      0.0+0.0im            0.0+0.0im               0.0+0.0im\n",
       "      0.0+0.0im            0.0+0.0im       …       0.0-0.0im\n",
       "      0.0+0.0im            0.0+0.0im          0.884872-0.465834im"
      ]
     },
     "metadata": {},
     "output_type": "display_data"
    }
   ],
   "source": [
    "snapgate = snap(rand(N))"
   ]
  },
  {
   "cell_type": "code",
   "execution_count": 84,
   "metadata": {},
   "outputs": [
    {
     "data": {
      "text/plain": [
       "g (generic function with 1 method)"
      ]
     },
     "metadata": {},
     "output_type": "display_data"
    }
   ],
   "source": [
    "f(x) = cost(x, RX, N * 2)\n",
    "g(x) = cost_state_prep(x, N * 2, ψ_initial, ψ_final_x_gate)"
   ]
  },
  {
   "cell_type": "code",
   "execution_count": 85,
   "metadata": {},
   "outputs": [
    {
     "name": "stdout",
     "output_type": "stream",
     "text": [
      "blocks: 18 iterations :1\n",
      "Iter     Function value   Gradient norm \n"
     ]
    },
    {
     "name": "stdout",
     "output_type": "stream",
     "text": [
      "     0     9.932570e-01     2.600554e-02\n",
      " * time: 0.00012111663818359375\n"
     ]
    },
    {
     "name": "stdout",
     "output_type": "stream",
     "text": [
      "   100     1.174773e-01     1.032065e-02\n",
      " * time: 44.95827889442444\n"
     ]
    },
    {
     "name": "stdout",
     "output_type": "stream",
     "text": [
      "   200     7.666136e-02     5.862265e-03\n",
      " * time: 90.7849760055542\n"
     ]
    },
    {
     "name": "stdout",
     "output_type": "stream",
     "text": [
      "   300     6.319234e-02     1.856986e-03\n",
      " * time: 137.39284992218018\n"
     ]
    },
    {
     "name": "stdout",
     "output_type": "stream",
     "text": [
      "   400     6.242849e-02     1.772678e-03\n",
      " * time: 184.7740819454193\n"
     ]
    },
    {
     "name": "stdout",
     "output_type": "stream",
     "text": [
      "   500     5.675965e-02     1.684432e-03\n",
      " * time: 230.78462409973145\n"
     ]
    },
    {
     "name": "stdout",
     "output_type": "stream",
     "text": [
      "   600     5.668401e-02     1.559659e-04\n",
      " * time: 278.31292605400085\n"
     ]
    },
    {
     "name": "stdout",
     "output_type": "stream",
     "text": [
      "   700     5.663963e-02     2.654671e-04\n",
      " * time: 323.31617498397827\n"
     ]
    },
    {
     "name": "stdout",
     "output_type": "stream",
     "text": [
      "   800     5.663764e-02     1.159832e-05\n",
      " * time: 369.17221999168396\n"
     ]
    },
    {
     "name": "stdout",
     "output_type": "stream",
     "text": [
      "   900     5.663763e-02     3.824051e-06\n",
      " * time: 416.6567499637604\n"
     ]
    },
    {
     "name": "stdout",
     "output_type": "stream",
     "text": [
      "  1000     5.663763e-02     4.578570e-06\n",
      " * time: 464.2393560409546\n"
     ]
    },
    {
     "name": "stdout",
     "output_type": "stream",
     "text": [
      "0.05663763133430677\n",
      "[-0.9282730656279983, 0.7670776977539211, -1.1031701488911296, 1.7416273450528617, 0.13042090933126688, -0.5756449180051357, -1.0940387003865881, 0.00027431625064078084, 0.2487473423795811, -1.5551966220968052, -0.41306855690349215, 0.32934851062124104, -0.37705675231495134, 1.3315361623914133, 0.715959395750249, 1.2613178674885221, -0.44554548839314245, 0.031595950813955456, 1.3849306608395477, 0.4754576408963436, 1.5898944396155947, 1.5000664557903385, 1.2025505908178697, -0.1721194567710883, 0.24884002636595426, 2.204010281066163, -0.9321277912736409, -1.1808854231386803, -0.41513519476784577, 1.5757628922616311, 1.183655540268475, -0.6647371003403306, 0.8625682078209215, -0.0502400097874536, 1.7192601235740204, -0.5829435074650862, 1.7914661619363923, 1.7742673844461048, -2.87686113847812, -1.990798116173762, -0.31357271932564534, 4.633835652748263, 1.378478934733461, -2.330501758015911, 3.5353572960810418, -0.37896029233396206, -2.4815274446761935, 0.5505247648751981, -1.079452992854872, -0.39413327062187004, -1.7939123996285182, -2.0049754348741247, -1.2360351623090022, 2.046651029768641, 2.1913352928264485, -2.1751813561881574, -0.8330522260117831, -5.570585963163833, -0.6206292714512215, -2.405636148754761, 2.3928727484515666, 0.7974518354615294, -0.7979676362169296, 3.9647616625168483, -0.8078688755052496, 0.8544127112140429, -4.039359787889537, 4.022312253435135, 2.264009186988469, 4.054021554109867, -0.9201476252175186, -2.1956465478555725]\n",
      "0.05663763133430677\n",
      "blocks: 24 iterations :1\n"
     ]
    },
    {
     "name": "stdout",
     "output_type": "stream",
     "text": [
      "Iter     Function value   Gradient norm \n",
      "     0     9.778077e-01     5.139385e-02\n",
      " * time: 0.0001239776611328125\n"
     ]
    },
    {
     "name": "stdout",
     "output_type": "stream",
     "text": [
      "   100     6.880674e-03     3.427916e-03\n",
      " * time: 77.7782039642334\n"
     ]
    },
    {
     "name": "stdout",
     "output_type": "stream",
     "text": [
      "   200     5.269213e-03     2.190652e-03\n",
      " * time: 157.40897703170776\n"
     ]
    },
    {
     "name": "stdout",
     "output_type": "stream",
     "text": [
      "   300     4.732270e-03     1.006097e-03\n",
      " * time: 238.77349996566772\n"
     ]
    },
    {
     "name": "stdout",
     "output_type": "stream",
     "text": [
      "   400     4.466288e-03     8.463695e-04\n",
      " * time: 319.45534086227417\n"
     ]
    },
    {
     "name": "stdout",
     "output_type": "stream",
     "text": [
      "   500     4.080817e-03     9.606137e-04\n",
      " * time: 399.7544479370117\n"
     ]
    },
    {
     "name": "stdout",
     "output_type": "stream",
     "text": [
      "   600     3.691151e-03     1.052183e-03\n",
      " * time: 479.04797887802124\n"
     ]
    },
    {
     "name": "stdout",
     "output_type": "stream",
     "text": [
      "   700     3.367082e-03     1.090436e-03\n",
      " * time: 559.4744129180908\n"
     ]
    },
    {
     "name": "stdout",
     "output_type": "stream",
     "text": [
      "   800     3.214737e-03     6.406994e-04\n",
      " * time: 639.138445854187\n"
     ]
    },
    {
     "name": "stdout",
     "output_type": "stream",
     "text": [
      "   900     3.091648e-03     6.143901e-04\n",
      " * time: 719.6225829124451\n"
     ]
    },
    {
     "name": "stdout",
     "output_type": "stream",
     "text": [
      "  1000     2.900368e-03     5.109339e-04\n",
      " * time: 796.9827198982239\n"
     ]
    },
    {
     "name": "stdout",
     "output_type": "stream",
     "text": [
      "0.0029003682047079593\n",
      "[-0.01504226893664577, -0.0534400621058, -0.05074043118571417, 0.06907295446079391, 0.02952565193631522, -0.011454734979055749, 0.0011462917563664103, -0.12879741389993676, 0.04927058618243356, -0.1244006905879277, -0.10969510531824193, -0.03801173509851828, 0.09407134976218111, 0.08706790104246258, 0.060868254487574026, 0.10248209831945002, 0.10275820713445466, 0.0561032629732805, -0.635592399345384, 0.4499633799249884, 0.03160131426609591, -0.021140524842502697, 0.01813080289329065, -0.01357308577840309, -0.0375300113253327, 1.8553367301038177, -1.1589985133851546, 0.49678077471106513, 0.6047333218053126, 0.5556420455483925, 0.5377545395369179, 0.09548747369611399, 1.2072476490847281, 0.7128664668577286, 1.0793329659036803, -0.20971577387732276, 0.8528615452558566, 0.3729059295993855, 1.8402990390892668, -0.31179543314905517, -0.0027084160660871496, 1.5539606066016352, 0.5223246780855001, -0.3828283695599819, 1.4242577474475167, 0.0026737022336023463, -0.10720631228860739, 0.40139157631931544, -1.0331856032533826, 0.5885471766445666, 1.6880230189300824, 2.5880619923253487, 2.167430673059573, -1.4434269569623905, 1.4629115147894964, 1.826297848686107, 2.6692225430233085, -1.8696963604670334, 0.3172857900532534, -1.3823196423881114, 2.8730051483636307, -2.795623823060858, 0.08417123524055137, 1.6887257140371685, 0.3467280596583199, 1.7167387189226773, -3.0277245719984767, 3.1583413333549157, -1.7391037908993954, 3.725448665558795, -1.832606646920516, 2.5040761333704515, 0.22205427900584765, -2.4446873733364543, -1.3843647776161119, 0.78118064598012, 3.015214685256799, -1.8576207885032339, -1.8552719628708902, 0.20398910076831028, 0.4544319336744567, 0.8120980656212491, -0.7316161158839477, -2.0649797763525193, 2.448419791873608, 0.9874701737226856, 0.48853446974078246, 2.3213050875199905, 0.858937418502934, -0.9958939994512254, -1.9454499664507958, -1.5741908580353297, 3.536388242381912, -1.0554590695403867, 0.4283796403800419, 1.8547930539147224]\n",
      "0.0029003682047079593\n",
      "blocks: 30 iterations :1\n"
     ]
    },
    {
     "name": "stdout",
     "output_type": "stream",
     "text": [
      "Iter     Function value   Gradient norm \n",
      "     0     9.896083e-01     4.745362e-02\n",
      " * time: 0.0002110004425048828\n"
     ]
    },
    {
     "name": "stdout",
     "output_type": "stream",
     "text": [
      "   100     2.083181e-02     1.115778e-02\n",
      " * time: 124.29541516304016\n"
     ]
    },
    {
     "name": "stdout",
     "output_type": "stream",
     "text": [
      "   200     9.224461e-03     3.062433e-03\n",
      " * time: 250.73337697982788\n"
     ]
    },
    {
     "name": "stdout",
     "output_type": "stream",
     "text": [
      "   300     7.092261e-03     3.544077e-03\n",
      " * time: 376.30434012413025\n"
     ]
    },
    {
     "name": "stdout",
     "output_type": "stream",
     "text": [
      "   400     5.835918e-03     3.074196e-03\n",
      " * time: 503.9211959838867\n"
     ]
    },
    {
     "name": "stdout",
     "output_type": "stream",
     "text": [
      "   500     5.034057e-03     1.503025e-03\n",
      " * time: 631.2393140792847\n"
     ]
    },
    {
     "name": "stdout",
     "output_type": "stream",
     "text": [
      "   600     4.728827e-03     1.848827e-03\n",
      " * time: 766.8815271854401\n"
     ]
    },
    {
     "name": "stdout",
     "output_type": "stream",
     "text": [
      "   700     4.458187e-03     1.252869e-03\n",
      " * time: 903.6875891685486\n"
     ]
    },
    {
     "name": "stdout",
     "output_type": "stream",
     "text": [
      "   800     4.130489e-03     1.487481e-03\n",
      " * time: 1037.1928660869598\n"
     ]
    },
    {
     "name": "stdout",
     "output_type": "stream",
     "text": [
      "   900     3.807860e-03     1.529107e-03\n",
      " * time: 1165.7656180858612\n"
     ]
    },
    {
     "name": "stdout",
     "output_type": "stream",
     "text": [
      "  1000     3.505178e-03     1.555439e-03\n",
      " * time: 1292.391347169876\n"
     ]
    },
    {
     "name": "stdout",
     "output_type": "stream",
     "text": [
      "0.0035051783341304432\n",
      "[-1.0518688076327998, -0.1460783191155432, -0.7543686246640113, 2.8029578047626247, 1.8958718569413135, -0.6197523552287705, 0.13556664646986832, 0.8229533901815008, -0.8039836258044708, 0.24149347713344854, -0.6296851040954266, -0.9835922758859338, 0.4971615179273996, 0.5247127535179286, 0.49667595382222773, 0.36128253007622174, -0.6402390989731267, 0.2150844880913754, 0.6120588464552729, 0.16837538626219828, -0.7148573797587545, -0.22321914074402133, 0.29351906417840484, 1.5919306251389849, 0.10284642885937424, -0.44877681083426674, 1.0484341506828263, 1.1640011248507671, 0.7350844905765151, 2.121432451343145, 1.2232266767462625, -0.7322517427586578, 1.0049529941018447, -0.008964763752227793, 0.6186633358149567, 1.3108514221059753, 0.8207690869288334, 0.2013754433527983, -0.0963038568422146, 0.101235578282585, 0.7517339040360522, 0.31208980981494283, -1.549622276550702, 1.1282468227943054, -0.5331009780728758, 1.1720599277036925, 0.10583547866283147, 0.38881357676997286, -0.011893073645322154, -0.6739154934597401, 0.395488827559217, -0.06953343661741619, 0.8127371317470804, -0.9344125167355554, -1.4263773203499934, 0.04440029327862667, 1.598831464801649, 0.3702059424727496, 0.6852380088180915, -0.06972454434529755, 3.0820484381575453, 3.299809420427885, 0.8912375417829392, -3.104473265069597, 0.11796649196750301, -2.879147736412613, -0.1496487438976055, 0.9994430874350702, -2.276301883958191, 2.049305671512853, -4.2095084059008485, 2.7366822075211457, -2.9922094575651768, 2.8640681341473377, -0.4540401128514193, 3.2911947346493693, -2.7260883803882394, -0.2111851147349871, -3.69006944051025, 0.16706056163857289, -0.17224826049735534, 3.093782653725639, 0.11876025731888455, 0.32627110822914845, -0.36720048608626393, -0.1196491359127073, -0.13115262380032688, 0.28385891791498524, 1.694322782944756, 0.31150501313465206, -1.3126564075999825, -0.3037884015873827, 2.79151942776941, -1.009405718374795, 2.3733458132578926, -2.638989135934055, 2.299598027408794, -2.839560354193826, 2.966154043328494, 3.15029669526485, -2.930558136785044, -1.2512349574804016, -2.7632697498987238, 1.8910658344484685, -1.4182592588977048, -2.6803878415620495, 1.4505964439492285, -0.8476457730087558, -1.5739860177989815, -0.934994574075047, -2.156238469557762, -0.7936487757156252, 0.32941328475536685, 2.9902988935522794, -3.2624088092778405, -1.659112720806349, -0.6403075731908388, -0.007504207530616874, 2.940883104028147, 0.4069876995117012]\n",
      "0.0035051783341304432\n",
      "blocks: 36 iterations :1\n"
     ]
    },
    {
     "name": "stdout",
     "output_type": "stream",
     "text": [
      "Iter     Function value   Gradient norm \n",
      "     0     9.906320e-01     3.970399e-02\n",
      " * time: 0.00017690658569335938\n"
     ]
    },
    {
     "ename": "InterruptException",
     "evalue": "InterruptException:",
     "output_type": "error",
     "traceback": [
      "InterruptException:\n",
      "\n",
      "Stacktrace:\n",
      "  [1] Array\n",
      "    @ ./boot.jl:461 [inlined]\n",
      "  [2] Array\n",
      "    @ ./boot.jl:469 [inlined]\n",
      "  [3] Array\n",
      "    @ ./boot.jl:476 [inlined]\n",
      "  [4] similar\n",
      "    @ ./abstractarray.jl:841 [inlined]\n",
      "  [5] similar\n",
      "    @ ./abstractarray.jl:840 [inlined]\n",
      "  [6] similar\n",
      "    @ ./broadcast.jl:212 [inlined]\n",
      "  [7] similar\n",
      "    @ ./broadcast.jl:211 [inlined]\n",
      "  [8] copy\n",
      "    @ ./broadcast.jl:885 [inlined]\n",
      "  [9] materialize\n",
      "    @ ./broadcast.jl:860 [inlined]\n",
      " [10] broadcast_preserving_zero_d\n",
      "    @ ./broadcast.jl:849 [inlined]\n",
      " [11] *(A::ComplexF64, B::Matrix{ComplexF64})\n",
      "    @ Base ./arraymath.jl:21\n",
      " [12] ROT(ϕ::Float64, θ::Float64)\n",
      "    @ Main ~/Desktop/Thesis_julia/Opt3DQalgs/BTgates/src/optimisations/decomposition_ecd_protocol.ipynb:3\n",
      " [13] cost(coefficients::Vector{Float64}, unitary::Matrix{ComplexF64}, N::Int64)\n",
      "    @ Main ~/Desktop/Thesis_julia/Opt3DQalgs/BTgates/src/optimisations/decomposition_ecd_protocol.ipynb:13\n",
      " [14] f(x::Vector{Float64})\n",
      "    @ Main ~/Desktop/Thesis_julia/Opt3DQalgs/BTgates/src/optimisations/decomposition_ecd_protocol.ipynb:1\n",
      " [15] finite_difference_gradient!(df::Vector{Float64}, f::typeof(f), x::Vector{Float64}, cache::FiniteDiff.GradientCache{Nothing, Nothing, Nothing, Vector{Float64}, Val{:central}(), Float64, Val{true}()}; relstep::Float64, absstep::Float64, dir::Bool)\n",
      "    @ FiniteDiff ~/.julia/packages/FiniteDiff/grio1/src/gradients.jl:320\n",
      " [16] finite_difference_gradient!\n",
      "    @ ~/.julia/packages/FiniteDiff/grio1/src/gradients.jl:258 [inlined]\n",
      " [17] (::NLSolversBase.var\"#g!#15\"{typeof(f), FiniteDiff.GradientCache{Nothing, Nothing, Nothing, Vector{Float64}, Val{:central}(), Float64, Val{true}()}})(storage::Vector{Float64}, x::Vector{Float64})\n",
      "    @ NLSolversBase ~/.julia/packages/NLSolversBase/kavn7/src/objective_types/oncedifferentiable.jl:57\n",
      " [18] (::NLSolversBase.var\"#fg!#16\"{typeof(f)})(storage::Vector{Float64}, x::Vector{Float64})\n",
      "    @ NLSolversBase ~/.julia/packages/NLSolversBase/kavn7/src/objective_types/oncedifferentiable.jl:61\n",
      " [19] value_gradient!!(obj::OnceDifferentiable{Float64, Vector{Float64}, Vector{Float64}}, x::Vector{Float64})\n",
      "    @ NLSolversBase ~/.julia/packages/NLSolversBase/kavn7/src/interface.jl:82\n",
      " [20] value_gradient!(obj::OnceDifferentiable{Float64, Vector{Float64}, Vector{Float64}}, x::Vector{Float64})\n",
      "    @ NLSolversBase ~/.julia/packages/NLSolversBase/kavn7/src/interface.jl:69\n",
      " [21] value_gradient!(obj::Optim.ManifoldObjective{OnceDifferentiable{Float64, Vector{Float64}, Vector{Float64}}}, x::Vector{Float64})\n",
      "    @ Optim ~/.julia/packages/Optim/dBGGV/src/Manifolds.jl:50\n",
      " [22] (::LineSearches.var\"#ϕdϕ#6\"{Optim.ManifoldObjective{OnceDifferentiable{Float64, Vector{Float64}, Vector{Float64}}}, Vector{Float64}, Vector{Float64}, Vector{Float64}})(α::Float64)\n",
      "    @ LineSearches ~/.julia/packages/LineSearches/G1LRk/src/LineSearches.jl:84\n",
      " [23] secant2!(ϕdϕ::LineSearches.var\"#ϕdϕ#6\"{Optim.ManifoldObjective{OnceDifferentiable{Float64, Vector{Float64}, Vector{Float64}}}, Vector{Float64}, Vector{Float64}, Vector{Float64}}, alphas::Vector{Float64}, values::Vector{Float64}, slopes::Vector{Float64}, ia::Int64, ib::Int64, phi_lim::Float64, delta::Float64, sigma::Float64, display::Int64)\n",
      "    @ LineSearches ~/.julia/packages/LineSearches/G1LRk/src/hagerzhang.jl:368\n",
      " [24] (::LineSearches.HagerZhang{Float64, Base.RefValue{Bool}})(ϕ::Function, ϕdϕ::LineSearches.var\"#ϕdϕ#6\"{Optim.ManifoldObjective{OnceDifferentiable{Float64, Vector{Float64}, Vector{Float64}}}, Vector{Float64}, Vector{Float64}, Vector{Float64}}, c::Float64, phi_0::Float64, dphi_0::Float64)\n",
      "    @ LineSearches ~/.julia/packages/LineSearches/G1LRk/src/hagerzhang.jl:269\n",
      " [25] HagerZhang\n",
      "    @ ~/.julia/packages/LineSearches/G1LRk/src/hagerzhang.jl:101 [inlined]\n",
      " [26] perform_linesearch!(state::Optim.LBFGSState{Vector{Float64}, Vector{Vector{Float64}}, Vector{Vector{Float64}}, Float64, Vector{Float64}}, method::LBFGS{Nothing, LineSearches.InitialStatic{Float64}, LineSearches.HagerZhang{Float64, Base.RefValue{Bool}}, Optim.var\"#19#21\"}, d::Optim.ManifoldObjective{OnceDifferentiable{Float64, Vector{Float64}, Vector{Float64}}})\n",
      "    @ Optim ~/.julia/packages/Optim/dBGGV/src/utilities/perform_linesearch.jl:59\n",
      " [27] update_state!(d::OnceDifferentiable{Float64, Vector{Float64}, Vector{Float64}}, state::Optim.LBFGSState{Vector{Float64}, Vector{Vector{Float64}}, Vector{Vector{Float64}}, Float64, Vector{Float64}}, method::LBFGS{Nothing, LineSearches.InitialStatic{Float64}, LineSearches.HagerZhang{Float64, Base.RefValue{Bool}}, Optim.var\"#19#21\"})\n",
      "    @ Optim ~/.julia/packages/Optim/dBGGV/src/multivariate/solvers/first_order/l_bfgs.jl:204\n",
      " [28] optimize(d::OnceDifferentiable{Float64, Vector{Float64}, Vector{Float64}}, initial_x::Vector{Float64}, method::LBFGS{Nothing, LineSearches.InitialStatic{Float64}, LineSearches.HagerZhang{Float64, Base.RefValue{Bool}}, Optim.var\"#19#21\"}, options::Optim.Options{Float64, Nothing}, state::Optim.LBFGSState{Vector{Float64}, Vector{Vector{Float64}}, Vector{Vector{Float64}}, Float64, Vector{Float64}})\n",
      "    @ Optim ~/.julia/packages/Optim/dBGGV/src/multivariate/optimize/optimize.jl:54\n",
      " [29] optimize\n",
      "    @ ~/.julia/packages/Optim/dBGGV/src/multivariate/optimize/optimize.jl:36 [inlined]\n",
      " [30] #optimize#89\n",
      "    @ ~/.julia/packages/Optim/dBGGV/src/multivariate/optimize/interface.jl:143 [inlined]\n",
      " [31] optimize\n",
      "    @ ~/.julia/packages/Optim/dBGGV/src/multivariate/optimize/interface.jl:139 [inlined]\n",
      " [32] top-level scope\n",
      "    @ ~/Desktop/Thesis_julia/Opt3DQalgs/BTgates/src/optimisations/decomposition_ecd_protocol.ipynb:12"
     ]
    }
   ],
   "source": [
    "costs = []\n",
    "for depth in 18:6:36\n",
    "    it_costs = []\n",
    "    for iteration in 1:1\n",
    "        println(\"blocks: \", depth,\" iterations :\", iteration)\n",
    "        l_coeff = depth * 4\n",
    "        coefficients = zeros(l_coeff)\n",
    "        # coefficients[1:Int(l_coeff / 2)] = [opt_coefficients[1:Int(length(opt_coefficients)/2)]..., (rand(Int(l_coeff / 2 - length(opt_coefficients)/2))*2 .-1)...]\n",
    "        # coefficients[Int(l_coeff / 2) + 1:end] = [opt_coefficients[Int(length(opt_coefficients)/2)+1:end]..., zeros(Int(l_coeff / 2 - length(opt_coefficients)/2))...]\n",
    "        coefficients[1:Int(l_coeff / 2)] = rand(Int(l_coeff / 2))*2 .-1\n",
    "        coefficients[Int(l_coeff / 2) + 1:end] = rand(Int(l_coeff / 2)) * 2 * pi .- pi\n",
    "        res = Optim.optimize(f, coefficients , LBFGS(), Optim.Options(show_trace=true, show_every=100, iterations = 1000))\n",
    "        push!(it_costs,Optim.minimum(res))\n",
    "        println(Optim.minimum(res))\n",
    "        println(Optim.minimizer(res))\n",
    "    end\n",
    "    println(minimum(it_costs))\n",
    "    push!(costs,minimum(it_costs))\n",
    "end"
   ]
  },
  {
   "cell_type": "code",
   "execution_count": 86,
   "metadata": {},
   "outputs": [
    {
     "data": {
      "text/plain": [
       "12×12 Matrix{ComplexF64}:\n",
       " 1.0+0.0im  0.0+0.0im  0.0+0.0im  …  0.0+0.0im  0.0+0.0im  0.0+0.0im\n",
       " 0.0+0.0im  1.0+0.0im  0.0+0.0im     0.0+0.0im  0.0+0.0im  0.0+0.0im\n",
       " 0.0+0.0im  0.0+0.0im  1.0+0.0im     0.0+0.0im  0.0+0.0im  0.0+0.0im\n",
       " 0.0+0.0im  0.0+0.0im  0.0+0.0im     0.0+0.0im  0.0+0.0im  0.0+0.0im\n",
       " 0.0+0.0im  0.0+0.0im  0.0+0.0im     0.0+0.0im  0.0+0.0im  0.0+0.0im\n",
       " 0.0+0.0im  0.0+0.0im  0.0+0.0im  …  0.0+0.0im  0.0+0.0im  0.0+0.0im\n",
       " 0.0+0.0im  0.0+0.0im  0.0+0.0im     0.0+0.0im  0.0+0.0im  0.0+0.0im\n",
       " 0.0+0.0im  0.0+0.0im  0.0+0.0im     0.0+0.0im  0.0+0.0im  0.0+0.0im\n",
       " 0.0+0.0im  0.0+0.0im  0.0+0.0im     0.0+0.0im  0.0+0.0im  0.0+0.0im\n",
       " 0.0+0.0im  0.0+0.0im  0.0+0.0im     1.0+0.0im  0.0+0.0im  0.0+0.0im\n",
       " 0.0+0.0im  0.0+0.0im  0.0+0.0im  …  0.0+0.0im  1.0+0.0im  0.0+0.0im\n",
       " 0.0+0.0im  0.0+0.0im  0.0+0.0im     0.0+0.0im  0.0+0.0im  1.0+0.0im"
      ]
     },
     "metadata": {},
     "output_type": "display_data"
    }
   ],
   "source": [
    "RX = kron(Rx(N, Array[[3,4]], θ*2.5), I_qubit)"
   ]
  },
  {
   "cell_type": "code",
   "execution_count": 87,
   "metadata": {},
   "outputs": [
    {
     "data": {
      "text/plain": [
       "f (generic function with 1 method)"
      ]
     },
     "metadata": {},
     "output_type": "display_data"
    }
   ],
   "source": [
    "f(x) = cost(x, RX, N * 2)"
   ]
  },
  {
   "cell_type": "code",
   "execution_count": 88,
   "metadata": {},
   "outputs": [
    {
     "name": "stdout",
     "output_type": "stream",
     "text": [
      "blocks: 18 iterations :1\n",
      "Iter     Function value   Gradient norm \n"
     ]
    },
    {
     "name": "stdout",
     "output_type": "stream",
     "text": [
      "     0     9.956750e-01     2.093773e-02\n",
      " * time: 0.00014090538024902344\n"
     ]
    },
    {
     "ename": "InterruptException",
     "evalue": "InterruptException:",
     "output_type": "error",
     "traceback": [
      "InterruptException:\n",
      "\n",
      "Stacktrace:\n",
      "  [1] Array\n",
      "    @ ./boot.jl:459 [inlined]\n",
      "  [2] getindex\n",
      "    @ ./array.jl:404 [inlined]\n",
      "  [3] exp!(A::Matrix{ComplexF64})\n",
      "    @ LinearAlgebra /Applications/Julia-1.8.app/Contents/Resources/julia/share/julia/stdlib/v1.8/LinearAlgebra/src/dense.jl:635\n",
      "  [4] exp(A::Matrix{ComplexF64})\n",
      "    @ LinearAlgebra /Applications/Julia-1.8.app/Contents/Resources/julia/share/julia/stdlib/v1.8/LinearAlgebra/src/dense.jl:569\n",
      "  [5] ROT(ϕ::Float64, θ::Float64)\n",
      "    @ Main ~/Desktop/Thesis_julia/Opt3DQalgs/BTgates/src/optimisations/decomposition_ecd_protocol.ipynb:3\n",
      "  [6] cost(coefficients::Vector{Float64}, unitary::Matrix{ComplexF64}, N::Int64)\n",
      "    @ Main ~/Desktop/Thesis_julia/Opt3DQalgs/BTgates/src/optimisations/decomposition_ecd_protocol.ipynb:13\n",
      "  [7] f(x::Vector{Float64})\n",
      "    @ Main ~/Desktop/Thesis_julia/Opt3DQalgs/BTgates/src/optimisations/decomposition_ecd_protocol.ipynb:1\n",
      "  [8] finite_difference_gradient!(df::Vector{Float64}, f::typeof(f), x::Vector{Float64}, cache::FiniteDiff.GradientCache{Nothing, Nothing, Nothing, Vector{Float64}, Val{:central}(), Float64, Val{true}()}; relstep::Float64, absstep::Float64, dir::Bool)\n",
      "    @ FiniteDiff ~/.julia/packages/FiniteDiff/grio1/src/gradients.jl:318\n",
      "  [9] finite_difference_gradient!\n",
      "    @ ~/.julia/packages/FiniteDiff/grio1/src/gradients.jl:258 [inlined]\n",
      " [10] (::NLSolversBase.var\"#g!#15\"{typeof(f), FiniteDiff.GradientCache{Nothing, Nothing, Nothing, Vector{Float64}, Val{:central}(), Float64, Val{true}()}})(storage::Vector{Float64}, x::Vector{Float64})\n",
      "    @ NLSolversBase ~/.julia/packages/NLSolversBase/kavn7/src/objective_types/oncedifferentiable.jl:57\n",
      " [11] (::NLSolversBase.var\"#fg!#16\"{typeof(f)})(storage::Vector{Float64}, x::Vector{Float64})\n",
      "    @ NLSolversBase ~/.julia/packages/NLSolversBase/kavn7/src/objective_types/oncedifferentiable.jl:61\n",
      " [12] value_gradient!!(obj::OnceDifferentiable{Float64, Vector{Float64}, Vector{Float64}}, x::Vector{Float64})\n",
      "    @ NLSolversBase ~/.julia/packages/NLSolversBase/kavn7/src/interface.jl:82\n",
      " [13] value_gradient!(obj::OnceDifferentiable{Float64, Vector{Float64}, Vector{Float64}}, x::Vector{Float64})\n",
      "    @ NLSolversBase ~/.julia/packages/NLSolversBase/kavn7/src/interface.jl:69\n",
      " [14] value_gradient!(obj::Optim.ManifoldObjective{OnceDifferentiable{Float64, Vector{Float64}, Vector{Float64}}}, x::Vector{Float64})\n",
      "    @ Optim ~/.julia/packages/Optim/dBGGV/src/Manifolds.jl:50\n",
      " [15] (::LineSearches.var\"#ϕdϕ#6\"{Optim.ManifoldObjective{OnceDifferentiable{Float64, Vector{Float64}, Vector{Float64}}}, Vector{Float64}, Vector{Float64}, Vector{Float64}})(α::Float64)\n",
      "    @ LineSearches ~/.julia/packages/LineSearches/G1LRk/src/LineSearches.jl:84\n",
      " [16] (::LineSearches.HagerZhang{Float64, Base.RefValue{Bool}})(ϕ::Function, ϕdϕ::LineSearches.var\"#ϕdϕ#6\"{Optim.ManifoldObjective{OnceDifferentiable{Float64, Vector{Float64}, Vector{Float64}}}, Vector{Float64}, Vector{Float64}, Vector{Float64}}, c::Float64, phi_0::Float64, dphi_0::Float64)\n",
      "    @ LineSearches ~/.julia/packages/LineSearches/G1LRk/src/hagerzhang.jl:139\n",
      " [17] HagerZhang\n",
      "    @ ~/.julia/packages/LineSearches/G1LRk/src/hagerzhang.jl:101 [inlined]\n",
      " [18] perform_linesearch!(state::Optim.LBFGSState{Vector{Float64}, Vector{Vector{Float64}}, Vector{Vector{Float64}}, Float64, Vector{Float64}}, method::LBFGS{Nothing, LineSearches.InitialStatic{Float64}, LineSearches.HagerZhang{Float64, Base.RefValue{Bool}}, Optim.var\"#19#21\"}, d::Optim.ManifoldObjective{OnceDifferentiable{Float64, Vector{Float64}, Vector{Float64}}})\n",
      "    @ Optim ~/.julia/packages/Optim/dBGGV/src/utilities/perform_linesearch.jl:59\n",
      " [19] update_state!(d::OnceDifferentiable{Float64, Vector{Float64}, Vector{Float64}}, state::Optim.LBFGSState{Vector{Float64}, Vector{Vector{Float64}}, Vector{Vector{Float64}}, Float64, Vector{Float64}}, method::LBFGS{Nothing, LineSearches.InitialStatic{Float64}, LineSearches.HagerZhang{Float64, Base.RefValue{Bool}}, Optim.var\"#19#21\"})\n",
      "    @ Optim ~/.julia/packages/Optim/dBGGV/src/multivariate/solvers/first_order/l_bfgs.jl:204\n",
      " [20] optimize(d::OnceDifferentiable{Float64, Vector{Float64}, Vector{Float64}}, initial_x::Vector{Float64}, method::LBFGS{Nothing, LineSearches.InitialStatic{Float64}, LineSearches.HagerZhang{Float64, Base.RefValue{Bool}}, Optim.var\"#19#21\"}, options::Optim.Options{Float64, Nothing}, state::Optim.LBFGSState{Vector{Float64}, Vector{Vector{Float64}}, Vector{Vector{Float64}}, Float64, Vector{Float64}})\n",
      "    @ Optim ~/.julia/packages/Optim/dBGGV/src/multivariate/optimize/optimize.jl:54\n",
      " [21] optimize\n",
      "    @ ~/.julia/packages/Optim/dBGGV/src/multivariate/optimize/optimize.jl:36 [inlined]\n",
      " [22] #optimize#89\n",
      "    @ ~/.julia/packages/Optim/dBGGV/src/multivariate/optimize/interface.jl:143 [inlined]\n",
      " [23] optimize\n",
      "    @ ~/.julia/packages/Optim/dBGGV/src/multivariate/optimize/interface.jl:139 [inlined]\n",
      " [24] top-level scope\n",
      "    @ ~/Desktop/Thesis_julia/Opt3DQalgs/BTgates/src/optimisations/decomposition_ecd_protocol.ipynb:12"
     ]
    }
   ],
   "source": [
    "costs = []\n",
    "for depth in 18:6:36\n",
    "    it_costs = []\n",
    "    for iteration in 1:1\n",
    "        println(\"blocks: \", depth,\" iterations :\", iteration)\n",
    "        l_coeff = depth * 4\n",
    "        coefficients = zeros(l_coeff)\n",
    "        # coefficients[1:Int(l_coeff / 2)] = [opt_coefficients[1:Int(length(opt_coefficients)/2)]..., (rand(Int(l_coeff / 2 - length(opt_coefficients)/2))*2 .-1)...]\n",
    "        # coefficients[Int(l_coeff / 2) + 1:end] = [opt_coefficients[Int(length(opt_coefficients)/2)+1:end]..., zeros(Int(l_coeff / 2 - length(opt_coefficients)/2))...]\n",
    "        coefficients[1:Int(l_coeff / 2)] = rand(Int(l_coeff / 2))*2 .-1\n",
    "        coefficients[Int(l_coeff / 2) + 1:end] = rand(Int(l_coeff / 2)) * 2 * pi .- pi\n",
    "        res = Optim.optimize(f, coefficients , LBFGS(), Optim.Options(show_trace=true, show_every=100, iterations = 1000))\n",
    "        push!(it_costs,Optim.minimum(res))\n",
    "        println(Optim.minimum(res))\n",
    "        println(Optim.minimizer(res))\n",
    "    end\n",
    "    println(minimum(it_costs))\n",
    "    push!(costs,minimum(it_costs))\n",
    "end"
   ]
  },
  {
   "attachments": {},
   "cell_type": "markdown",
   "metadata": {},
   "source": [
    "# stoc gradient descent"
   ]
  },
  {
   "cell_type": "code",
   "execution_count": 11,
   "metadata": {},
   "outputs": [
    {
     "name": "stdout",
     "output_type": "stream",
     "text": [
      "50\n",
      "0.1141917226386221\n"
     ]
    },
    {
     "name": "stdout",
     "output_type": "stream",
     "text": [
      "100\n",
      "0.03329383329160829\n"
     ]
    },
    {
     "name": "stdout",
     "output_type": "stream",
     "text": [
      "150\n",
      "0.010720497771225856\n"
     ]
    },
    {
     "name": "stdout",
     "output_type": "stream",
     "text": [
      "200\n",
      "0.006440674105218869\n"
     ]
    },
    {
     "name": "stdout",
     "output_type": "stream",
     "text": [
      "250\n",
      "0.0049437727392727115\n"
     ]
    },
    {
     "name": "stdout",
     "output_type": "stream",
     "text": [
      "300\n",
      "0.004018253113263648\n"
     ]
    },
    {
     "name": "stdout",
     "output_type": "stream",
     "text": [
      "350\n",
      "0.003377486893570536\n"
     ]
    },
    {
     "name": "stdout",
     "output_type": "stream",
     "text": [
      "400\n",
      "0.003788999278334093\n"
     ]
    },
    {
     "name": "stdout",
     "output_type": "stream",
     "text": [
      "450\n",
      "0.0029374745598531593\n"
     ]
    },
    {
     "name": "stdout",
     "output_type": "stream",
     "text": [
      "500\n",
      "0.0022260376960414607\n"
     ]
    },
    {
     "name": "stdout",
     "output_type": "stream",
     "text": [
      "550\n",
      "0.0022535450982400507\n"
     ]
    },
    {
     "name": "stdout",
     "output_type": "stream",
     "text": [
      "600\n",
      "0.0018809842693893186\n"
     ]
    },
    {
     "name": "stdout",
     "output_type": "stream",
     "text": [
      "650\n",
      "0.001781276365012796\n"
     ]
    },
    {
     "name": "stdout",
     "output_type": "stream",
     "text": [
      "700\n",
      "0.001880421877216376\n"
     ]
    },
    {
     "name": "stdout",
     "output_type": "stream",
     "text": [
      "750\n",
      "0.0027545055008524333\n"
     ]
    },
    {
     "name": "stdout",
     "output_type": "stream",
     "text": [
      "800\n",
      "0.0018842718032245909\n"
     ]
    },
    {
     "name": "stdout",
     "output_type": "stream",
     "text": [
      "850\n",
      "0.0018411079118387796\n"
     ]
    },
    {
     "name": "stdout",
     "output_type": "stream",
     "text": [
      "900\n",
      "0.0014801301144540258\n"
     ]
    },
    {
     "name": "stdout",
     "output_type": "stream",
     "text": [
      "950\n",
      "0.00143687628948308\n"
     ]
    },
    {
     "name": "stdout",
     "output_type": "stream",
     "text": [
      "1000\n",
      "0.0015569004887809879\n",
      "finished: d = 64\n",
      "0.0015569004887809879\n"
     ]
    },
    {
     "name": "stdout",
     "output_type": "stream",
     "text": [
      "[0.9220184640273602, -1.1641243240602506, 0.4048778825453255, 0.5998563414243495, 1.4193162995319635, -0.36088118906179323, 0.5508300066366707, 0.8015956210944428, 1.2028585710600197, 0.19084010106064914, -0.9731975661841441, 0.9135433057820816, -0.6611637699571956, -1.0345370398278404, 0.6079808853769756, -0.40239888684631464, -0.4653759041220447, -0.3808347148641949, 0.3952921377997406, -0.7740552059868105, 0.6766266849802979, 1.473063226256188, 0.7477866153987138, -0.21906139467202848, 0.5576913806183862, -1.6133074675332602, 0.26737767946687885, -0.009585865705758756, 0.3239665921698326, 0.48598927161649697, -1.5903539532429976, 0.3381501089619145, -0.4401862180726339, 1.7927968558157037, 0.009592449491889012, -0.041002778759054635, 0.660201634188688, 1.2271826571201523, -0.5064648700153209, 0.8759669682544846, -1.0739055822743246, -0.28176944825520434, 0.65209978561725, -0.6355715139562277, 0.2774989440777268, 1.3498437658761906, -1.075524925597542, -1.2150442766863863, -0.15538632812050815, -0.3437468164808312, 0.6636677134165784, 0.4840443659889081, 1.5242119058605539, 1.2215537184835084, 0.8294502336780335, 1.5643492349664716, -0.7472862614150722, 0.5855715373629681, -0.9385341808415453, 1.2265628504383188, 0.9408160203266472, -0.9536401036523368, 0.6309596142499615, 1.033720980597924, -1.6805432517037164, 0.9986409747201773, -0.8473566069187586, -0.3832789650957973, -1.0282178918393754, 0.35631951291632996, -0.8855671978231439, 0.9309510945581561, 2.8896405057196755, 1.2315585014523838, 2.8262433574937926, -2.548532388838374, -2.2163246944069397, 1.1142052560422786, 3.493444038928249, 1.1972433367879618, -1.2528947041185265, 1.0004941031716135, 2.6520793571396553, -2.4931639282070344, 1.662695140665288, -1.9491520803061468, 2.3220536316264817, -1.6051367726491883, 1.5280813243001774, 1.5826924448333648, 1.0662594993015717, -1.8244339694513318, -1.5440135304525073, -0.26851076325424866, -1.3063686388618407, -1.3865326636514328, -1.2375214046943153, -2.0677074919320866, 2.261157257919984, -2.5750084648224862, 1.8829683064755778, -2.6754806416573254, 1.160253212482409, -0.944632114668462, -1.3447528091913443, -2.9310058723315864, -4.6549178687129595, 4.398167926152302, 0.6607934586559974, 1.4475225256776014, 0.6852000570706671, 0.7432616209034991, 0.2488753816922255, -2.5008042487707622, -0.28495480048680943, -2.773051691299613, -0.4786378028059714, 0.22042355238031983, -0.7626075098423098, 0.15895762778379863, 0.5767030399494628, -1.4626398113594183, 2.06591406120723, 1.2841798871128298, -0.9031943576633609, -2.622687941058452, -1.2141620029676075, 1.3750553287199605, 0.6496468831208235, 1.671982784510421, 2.630421997283731, 1.7862902846957667, 3.724502235649799, -3.5905278251509523, -0.9640765829594846, 2.4126008841573827, -0.6332048098971934, 2.8782008699518493, 2.3098690873964105, -0.7214413167183592, 1.2538082017709136, 2.3051888278822616, 1.1601265639992027, -2.9143890271549173]\n",
      "50"
     ]
    },
    {
     "name": "stdout",
     "output_type": "stream",
     "text": [
      "\n",
      "0.1141917226386221\n",
      "100"
     ]
    },
    {
     "name": "stdout",
     "output_type": "stream",
     "text": [
      "\n",
      "0.03329383329160829\n",
      "150"
     ]
    },
    {
     "name": "stdout",
     "output_type": "stream",
     "text": [
      "\n",
      "0.010720497771225856\n",
      "200"
     ]
    },
    {
     "name": "stdout",
     "output_type": "stream",
     "text": [
      "\n",
      "0.006440674105218869\n",
      "250"
     ]
    },
    {
     "name": "stdout",
     "output_type": "stream",
     "text": [
      "\n",
      "0.0049437727392727115\n",
      "300"
     ]
    },
    {
     "name": "stdout",
     "output_type": "stream",
     "text": [
      "\n",
      "0.004018253113263648\n",
      "350"
     ]
    },
    {
     "name": "stdout",
     "output_type": "stream",
     "text": [
      "\n",
      "0.003377486893570536\n",
      "400"
     ]
    },
    {
     "name": "stdout",
     "output_type": "stream",
     "text": [
      "\n",
      "0.003788999278334093\n",
      "450"
     ]
    },
    {
     "name": "stdout",
     "output_type": "stream",
     "text": [
      "\n",
      "0.0029374745598531593\n",
      "500"
     ]
    },
    {
     "name": "stdout",
     "output_type": "stream",
     "text": [
      "\n",
      "0.0022260376960414607\n",
      "550"
     ]
    },
    {
     "name": "stdout",
     "output_type": "stream",
     "text": [
      "\n",
      "0.0022535450982400507\n",
      "600"
     ]
    },
    {
     "name": "stdout",
     "output_type": "stream",
     "text": [
      "\n",
      "0.0018809842693893186\n",
      "650"
     ]
    },
    {
     "name": "stdout",
     "output_type": "stream",
     "text": [
      "\n",
      "0.001781276365012796\n",
      "700"
     ]
    },
    {
     "name": "stdout",
     "output_type": "stream",
     "text": [
      "\n",
      "0.001880421877216376\n",
      "750"
     ]
    },
    {
     "name": "stdout",
     "output_type": "stream",
     "text": [
      "\n",
      "0.0027545055008524333\n",
      "800"
     ]
    },
    {
     "name": "stdout",
     "output_type": "stream",
     "text": [
      "\n",
      "0.0018842718032245909\n",
      "850"
     ]
    },
    {
     "name": "stdout",
     "output_type": "stream",
     "text": [
      "\n",
      "0.0018411079118387796\n",
      "900"
     ]
    },
    {
     "name": "stdout",
     "output_type": "stream",
     "text": [
      "\n",
      "0.0014801301144540258\n",
      "950"
     ]
    },
    {
     "name": "stdout",
     "output_type": "stream",
     "text": [
      "\n",
      "0.00143687628948308\n",
      "1000"
     ]
    },
    {
     "name": "stdout",
     "output_type": "stream",
     "text": [
      "\n",
      "0.0015569004887809879\n",
      "finished: d = 64\n",
      "0.0015569004887809879\n",
      "[0.9220184640273602, -1.1641243240602506, 0.4048778825453255, 0.5998563414243495, 1.4193162995319635, -0.36088118906179323, 0.5508300066366707, 0.8015956210944428, 1.2028585710600197, 0.19084010106064914, -0.9731975661841441, 0.9135433057820816, -0.6611637699571956, -1.0345370398278404, 0.6079808853769756, -0.40239888684631464, -0.4653759041220447, -0.3808347148641949, 0.3952921377997406, -0.7740552059868105, 0.6766266849802979, 1.473063226256188, 0.7477866153987138, -0.21906139467202848, 0.5576913806183862, -1.6133074675332602, 0.26737767946687885, -0.009585865705758756, 0.3239665921698326, 0.48598927161649697, -1.5903539532429976, 0.3381501089619145, -0.4401862180726339, 1.7927968558157037, 0.009592449491889012, -0.041002778759054635, 0.660201634188688, 1.2271826571201523, -0.5064648700153209, 0.8759669682544846, -1.0739055822743246, -0.28176944825520434, 0.65209978561725, -0.6355715139562277, 0.2774989440777268, 1.3498437658761906, -1.075524925597542, -1.2150442766863863, -0.15538632812050815, -0.3437468164808312, 0.6636677134165784, 0.4840443659889081, 1.5242119058605539, 1.2215537184835084, 0.8294502336780335, 1.5643492349664716, -0.7472862614150722, 0.5855715373629681, -0.9385341808415453, 1.2265628504383188, 0.9408160203266472, -0.9536401036523368, 0.6309596142499615, 1.033720980597924, -1.6805432517037164, 0.9986409747201773, -0.8473566069187586, -0.3832789650957973, -1.0282178918393754, 0.35631951291632996, -0.8855671978231439, 0.9309510945581561, 2.8896405057196755, 1.2315585014523838, 2.8262433574937926, -2.548532388838374, -2.2163246944069397, 1.1142052560422786, 3.493444038928249, 1.1972433367879618, -1.2528947041185265, 1.0004941031716135, 2.6520793571396553, -2.4931639282070344, 1.662695140665288, -1.9491520803061468, 2.3220536316264817, -1.6051367726491883, 1.5280813243001774, 1.5826924448333648, 1.0662594993015717, -1.8244339694513318, -1.5440135304525073, -0.26851076325424866, -1.3063686388618407, -1.3865326636514328, -1.2375214046943153, -2.0677074919320866, 2.261157257919984, -2.5750084648224862, 1.8829683064755778, -2.6754806416573254, 1.160253212482409, -0.944632114668462, -1.3447528091913443, -2.9310058723315864, -4.6549178687129595, 4.398167926152302, 0.6607934586559974, 1.4475225256776014, 0.6852000570706671, 0.7432616209034991, 0.2488753816922255, -2.5008042487707622, -0.28495480048680943, -2.773051691299613, -0.4786378028059714, 0.22042355238031983, -0.7626075098423098, 0.15895762778379863, 0.5767030399494628, -1.4626398113594183, 2.06591406120723, 1.2841798871128298, -0.9031943576633609, -2.622687941058452, -1.2141620029676075, 1.3750553287199605, 0.6496468831208235, 1.671982784510421, 2.630421997283731, 1.7862902846957667, 3.724502235649799, -3.5905278251509523, -0.9640765829594846, 2.4126008841573827, -0.6332048098971934, 2.8782008699518493, 2.3098690873964105, -0.7214413167183592, 1.2538082017709136, 2.3051888278822616, 1.1601265639992027, -2.9143890271549173]\n",
      "50"
     ]
    },
    {
     "name": "stdout",
     "output_type": "stream",
     "text": [
      "\n",
      "0.1141917226386221\n",
      "100"
     ]
    },
    {
     "name": "stdout",
     "output_type": "stream",
     "text": [
      "\n",
      "0.03329383329160829\n",
      "150"
     ]
    },
    {
     "name": "stdout",
     "output_type": "stream",
     "text": [
      "\n",
      "0.010720497771225856\n",
      "200"
     ]
    },
    {
     "name": "stdout",
     "output_type": "stream",
     "text": [
      "\n",
      "0.006440674105218869\n",
      "250"
     ]
    },
    {
     "name": "stdout",
     "output_type": "stream",
     "text": [
      "\n",
      "0.0049437727392727115\n",
      "300"
     ]
    },
    {
     "name": "stdout",
     "output_type": "stream",
     "text": [
      "\n",
      "0.004018253113263648\n",
      "350"
     ]
    },
    {
     "name": "stdout",
     "output_type": "stream",
     "text": [
      "\n",
      "0.003377486893570536\n",
      "400"
     ]
    },
    {
     "name": "stdout",
     "output_type": "stream",
     "text": [
      "\n",
      "0.003788999278334093\n",
      "450"
     ]
    },
    {
     "name": "stdout",
     "output_type": "stream",
     "text": [
      "\n",
      "0.0029374745598531593\n",
      "500"
     ]
    },
    {
     "name": "stdout",
     "output_type": "stream",
     "text": [
      "\n",
      "0.0022260376960414607\n",
      "550"
     ]
    },
    {
     "name": "stdout",
     "output_type": "stream",
     "text": [
      "\n",
      "0.0022535450982400507\n",
      "600"
     ]
    },
    {
     "name": "stdout",
     "output_type": "stream",
     "text": [
      "\n",
      "0.0018809842693893186\n",
      "650"
     ]
    },
    {
     "name": "stdout",
     "output_type": "stream",
     "text": [
      "\n",
      "0.001781276365012796\n",
      "700"
     ]
    },
    {
     "name": "stdout",
     "output_type": "stream",
     "text": [
      "\n",
      "0.001880421877216376\n",
      "750"
     ]
    },
    {
     "name": "stdout",
     "output_type": "stream",
     "text": [
      "\n",
      "0.0027545055008524333\n",
      "800"
     ]
    },
    {
     "name": "stdout",
     "output_type": "stream",
     "text": [
      "\n",
      "0.0018842718032245909\n",
      "850"
     ]
    },
    {
     "name": "stdout",
     "output_type": "stream",
     "text": [
      "\n",
      "0.0018411079118387796\n",
      "900"
     ]
    },
    {
     "name": "stdout",
     "output_type": "stream",
     "text": [
      "\n",
      "0.0014801301144540258\n",
      "950"
     ]
    },
    {
     "name": "stdout",
     "output_type": "stream",
     "text": [
      "\n",
      "0.00143687628948308\n",
      "1000"
     ]
    },
    {
     "name": "stdout",
     "output_type": "stream",
     "text": [
      "\n",
      "0.0015569004887809879\n",
      "finished: d = 64\n",
      "0.0015569004887809879\n",
      "[0.9220184640273602, -1.1641243240602506, 0.4048778825453255, 0.5998563414243495, 1.4193162995319635, -0.36088118906179323, 0.5508300066366707, 0.8015956210944428, 1.2028585710600197, 0.19084010106064914, -0.9731975661841441, 0.9135433057820816, -0.6611637699571956, -1.0345370398278404, 0.6079808853769756, -0.40239888684631464, -0.4653759041220447, -0.3808347148641949, 0.3952921377997406, -0.7740552059868105, 0.6766266849802979, 1.473063226256188, 0.7477866153987138, -0.21906139467202848, 0.5576913806183862, -1.6133074675332602, 0.26737767946687885, -0.009585865705758756, 0.3239665921698326, 0.48598927161649697, -1.5903539532429976, 0.3381501089619145, -0.4401862180726339, 1.7927968558157037, 0.009592449491889012, -0.041002778759054635, 0.660201634188688, 1.2271826571201523, -0.5064648700153209, 0.8759669682544846, -1.0739055822743246, -0.28176944825520434, 0.65209978561725, -0.6355715139562277, 0.2774989440777268, 1.3498437658761906, -1.075524925597542, -1.2150442766863863, -0.15538632812050815, -0.3437468164808312, 0.6636677134165784, 0.4840443659889081, 1.5242119058605539, 1.2215537184835084, 0.8294502336780335, 1.5643492349664716, -0.7472862614150722, 0.5855715373629681, -0.9385341808415453, 1.2265628504383188, 0.9408160203266472, -0.9536401036523368, 0.6309596142499615, 1.033720980597924, -1.6805432517037164, 0.9986409747201773, -0.8473566069187586, -0.3832789650957973, -1.0282178918393754, 0.35631951291632996, -0.8855671978231439, 0.9309510945581561, 2.8896405057196755, 1.2315585014523838, 2.8262433574937926, -2.548532388838374, -2.2163246944069397, 1.1142052560422786, 3.493444038928249, 1.1972433367879618, -1.2528947041185265, 1.0004941031716135, 2.6520793571396553, -2.4931639282070344, 1.662695140665288, -1.9491520803061468, 2.3220536316264817, -1.6051367726491883, 1.5280813243001774, 1.5826924448333648, 1.0662594993015717, -1.8244339694513318, -1.5440135304525073, -0.26851076325424866, -1.3063686388618407, -1.3865326636514328, -1.2375214046943153, -2.0677074919320866, 2.261157257919984, -2.5750084648224862, 1.8829683064755778, -2.6754806416573254, 1.160253212482409, -0.944632114668462, -1.3447528091913443, -2.9310058723315864, -4.6549178687129595, 4.398167926152302, 0.6607934586559974, 1.4475225256776014, 0.6852000570706671, 0.7432616209034991, 0.2488753816922255, -2.5008042487707622, -0.28495480048680943, -2.773051691299613, -0.4786378028059714, 0.22042355238031983, -0.7626075098423098, 0.15895762778379863, 0.5767030399494628, -1.4626398113594183, 2.06591406120723, 1.2841798871128298, -0.9031943576633609, -2.622687941058452, -1.2141620029676075, 1.3750553287199605, 0.6496468831208235, 1.671982784510421, 2.630421997283731, 1.7862902846957667, 3.724502235649799, -3.5905278251509523, -0.9640765829594846, 2.4126008841573827, -0.6332048098971934, 2.8782008699518493, 2.3098690873964105, -0.7214413167183592, 1.2538082017709136, 2.3051888278822616, 1.1601265639992027, -2.9143890271549173]\n",
      "Any"
     ]
    },
    {
     "name": "stdout",
     "output_type": "stream",
     "text": [
      "[0.0015569004887809879, 0.0015569004887809879, 0.0015569004887809879]\n",
      "0.0015569004887809879\n"
     ]
    },
    {
     "data": {
      "text/plain": [
       "1-element Vector{Any}:\n",
       " 0.0015569004887809879"
      ]
     },
     "metadata": {},
     "output_type": "display_data"
    }
   ],
   "source": [
    "costs_final = []\n",
    "for depth in 64:8:64\n",
    "    it_costs = []\n",
    "    for iteration in 1:3\n",
    "        l_coeff = depth * 4\n",
    "        coefficients = zeros(l_coeff)\n",
    "        coefficients[1:Int(l_coeff / 2)] = rand(Int(l_coeff / 2))*2 .-1\n",
    "        coefficients[Int(l_coeff / 2) + 1:end] = rand(Int(l_coeff / 2)) * 2 * pi .- pi\n",
    "        coefficients = [0.8690408632149678, -0.7236416401971805, -0.0908719850588177, 0.8258628776740167, 0.9056445769487957, -0.8220939210081029, 0.29601861853616424, 0.7813552229187792, 0.9837594907380149, -0.10686709645389225, -0.6656407250459772, 0.992278727387623, -0.4893461915705191, -1.093993962903741, 0.4845407107960842, -0.33857113975897773, -0.438797994554033, -0.5977365084149797, 0.20827466739249778, -0.8959109454265681, 0.5383716212207733, 1.3219169845803183, 0.8578064725920909, -0.7256810259845291, 0.37256259960242327, -1.2114316020995235, -0.282902962907945, -0.26590734759323503, 0.5548879566071089, 0.6803304120122661, -1.0549066677248888, 0.4013045273205048, 0.039560949181603355, 1.0529793828938236, -0.044290684794351255, -0.21790564460826214, 0.7641852601374161, 0.9310403877890154, -0.24519813978115026, 0.6528372052655407, -1.2521949229101696, -0.21682088705693697, 0.10911919627652335, -0.31451889968452584, 0.07428438971871276, 0.8168118972903352, -0.4306959382326172, -1.31201487771103, -0.5551956081923786, -0.24938592347753555, 0.7261072879386111, 0.3449918944429117, 1.0218022420859423, 0.9586632779953215, 0.9830015979456759, 1.1800344827793208, -0.6015729201693757, 0.703237921035128, -0.8659071933834304, 0.7405471254766851, 0.5502125342538493, -0.1279261558044507, 0.5436405284887846, 0.7561715320031175, -1.8294742583884145, 0.8274849373492085, -0.5023928927013781, -0.2106775708083146, -0.25623844263590434, -0.13700323024471564, -0.5427032401830472, 0.8481733035397572, 2.857123893083541, 0.6722772567617452, 3.3393904892971857, -2.7921664352181588, -1.4927954172559996, 0.3500341652427946, 2.178592973947075, 2.0048971146113073, -1.3350642362244973, 0.9711032282505817, 2.3816703973089663, -2.6138104747765247, 2.5134841942159674, -1.9047337097507626, 2.2260526473073146, -1.8796539188004344, 1.6517968966982153, 1.4620145034237324, 1.8366376463164558, -1.3614199467978896, -1.3067881525922014, -0.8271088962045482, -1.3523594955345797, -0.8216607978872826, -1.015386302411769, -1.4951025575413324, 2.199130944918348, -2.098541424724332, 1.8106459325712736, -2.7528680557326783, 1.434522172097638, 0.23235089810469334, -1.3427653914596476, -2.1865004319117882, -4.499311913607152, 3.5233665940145906, 0.11147763894762594, 1.7253123134995119, 0.3069539608771961, 0.7456729443236856, 0.9675539799184902, -2.0807423878078692, -0.21274877285924562, -2.4625967782327733, -0.8958201449217154, -0.16506248177386307, -0.7781344488152088, 0.5657089824636788, 0.49103015856219095, -1.893089322888448, 1.8586226474868552, 1.3367905090651682, -0.845322993521433, -2.414547922619251, -2.0653040809018646, 2.13700608386267, 0.6560460356595541, 1.2398223292845443, 2.962599533837159, 1.1325322497723143, 3.463842619105753, -3.938053691752728, -0.9569023982656585, 1.605238908260515, 0.6974820952130029, 2.5406564651431, 2.285077612710168, 0.027961409188739638, 1.0736422395589698, 2.4870006619787572, 0.692378916991639, -2.718696870022777]\n",
    "        beta1 = 0.8\n",
    "        beta2 = 0.999\n",
    "        alpha = 0.01\n",
    "        m = zeros(length(coefficients))\n",
    "        v = zeros(length(coefficients))\n",
    "        coeffs_stored = []\n",
    "        costs = []\n",
    "        cost_prev_it = cost(coefficients, RX, N*2)  #cost_state_prep(coefficients, N * 2, ψ_initial, ψ_final_x_gate) #\n",
    "\n",
    "        for i in 1:1000\n",
    "            grad = gradient(coefficients, RX, N * 2, 1e-8, cost_prev_it) #gradient_state_prep(coefficients, N*2, 1e-8, cost_prev_it, ψ_initial, ψ_final_x_gate) #\n",
    "            for n in 1:length(coefficients)\n",
    "                m[n] = beta1 * m[n] + ( 1 - beta1 ) * grad[n]\n",
    "                v[n] = beta2 * v[n] + ( 1 - beta2 ) * grad[n]^2\n",
    "                m_norm = m[n] / ( 1 - beta1^i )\n",
    "                v_norm = v[n] / ( 1 - beta2^i )\n",
    "                coefficients[n] = coefficients[n] - alpha * m_norm / (sqrt(v_norm) + 1e-8)\n",
    "            end\n",
    "            cost_prev_it = cost(coefficients, RX, N*2)# cost_state_prep(coefficients, N * 2, ψ_initial, ψ_final_x_gate) #\n",
    "            push!(costs, cost_prev_it)\n",
    "\n",
    "            if i % 50 == 0\n",
    "                if norm(grad) < 1e-6\n",
    "                    break\n",
    "                end\n",
    "                println(i)\n",
    "                println(cost_prev_it)\n",
    "            end\n",
    "        end\n",
    "        println(\"finished: d = \", depth)\n",
    "        println(costs[end])\n",
    "        push!(it_costs,costs[end])\n",
    "        println(coefficients)\n",
    "    end\n",
    "    println(it_costs)\n",
    "    println(minimum(it_costs))\n",
    "    push!(costs_final, minimum(it_costs))\n",
    "end\n",
    "costs_final"
   ]
  },
  {
   "cell_type": "code",
   "execution_count": 21,
   "metadata": {},
   "outputs": [
    {
     "name": "stdout",
     "output_type": "stream",
     "text": [
      "0.0003768396576976363\n"
     ]
    },
    {
     "data": {
      "text/plain": [
       "0.0004272672126374166"
      ]
     },
     "metadata": {},
     "output_type": "display_data"
    }
   ],
   "source": [
    "coeffs = [0.8328194938452032, -0.8105522750655366, -0.03947596969773574, 0.8150417127415052, 0.9355586497841004, -0.819672727969885, 0.15908257377596594, 0.8969730569787527, 1.0867987077197083, -0.12382796442095499, -0.6769159418813943, 1.0246426230169303, -0.5084405635279222, -1.0268972961310772, 0.42484396266977487, -0.30984213118061454, -0.44195548463552226, -0.6327731382009563, 0.2470520241498077, -0.9046312383937988, 0.5670153531055953, 1.3215582797100167, 0.8729333306332443, -0.78886152481934, 0.3445569548035575, -1.2206696780026396, -0.25471100801485647, -0.3585072716256307, 0.6870581315744397, 0.6545040107617951, -1.0221685943730465, 0.3343131234446875, -0.08486885305074147, 1.16534326489163, -0.08178072747870009, -0.17367128231750495, 0.7301925883287174, 0.7960381150713036, -0.2445176384048139, 0.7450024213033812, -1.2896520166163863, -0.2511261526654848, 0.18899633152030276, -0.3134353271761458, 0.040134442582384806, 0.7718476862874823, -0.4457105371804348, -1.2658170397923836, -0.578778138744985, -0.27405676265384593, 0.6995176637177795, 0.35946077517978764, 1.0020099923271824, 0.9306624492297949, 0.9741238940562686, 1.1608927613144042, -0.5310290099006071, 0.8115833948525197, -0.7784531065547783, 0.7352221959115539, 0.5417078187690723, -0.21113457049160275, 0.5103730707595793, 0.7551026732286986, -1.7846390041521236, 0.8631165439769484, -0.5498701334703305, -0.26861474853829703, -0.27455529220647396, -0.07688130726216859, -0.5631568455670428, 0.8533900226411945, 2.8067345186309858, 0.6785936932829509, 3.3943749838043784, -2.805214370969844, -1.4757375492498623, 0.29692768551759546, 2.281415636662691, 2.160137328769026, -1.307321749251418, 1.033561682283, 2.3601394944015057, -2.696457234103049, 2.4969210954848147, -1.906381025598878, 2.2434123597180444, -1.9770399537034882, 1.690842335222719, 1.535746792078091, 1.8604714721583955, -1.3743895036802214, -1.291663669776218, -0.762668513556034, -1.3646714887473783, -0.7879082846775004, -0.9459496839509586, -1.5081193660443275, 2.163188081396188, -2.0477877934412, 1.8200709265036517, -2.7617245086967235, 1.4249304092894297, 0.24880088065636674, -1.2535266524595052, -2.0585026020721804, -4.576841695056939, 3.5387398533822982, -0.07531806514326735, 1.8453317273419196, 0.42767796713041867, 0.7150419102279323, 0.7474552662694737, -1.6860907528015776, -0.2962280834604321, -2.386788332449464, -1.1771757193252919, 0.09208258390797398, -0.8624876874455844, 0.5131833036461091, 0.6136063613800034, -2.0172431784872105, 1.9575955203123583, 1.3468300140519078, -0.7787319428945259, -2.5374797856832374, -1.9401420236852418, 2.0676338346841168, 0.7064923766586017, 1.1338034698609585, 2.9969098154086633, 1.0459448874008392, 3.4682585115304194, -3.9796395422002675, -0.8624504151631956, 1.4625786737059918, 0.8235301000679373, 2.5250726036878977, 2.085654990962269, -0.17147063484675754, 0.7961241933337927, 2.6289885365160464, 0.6582125941103614, -2.531971259434754]\n",
    "f(x) = cost(x, X_gate, N*2)\n",
    "println(f(coeffs))\n",
    "\n",
    "opt_perturbed = ComplexF64[]\n",
    "\n",
    "for coeff in coeffs\n",
    "    perturbed = coeff + (rand()*0.002-0.001)\n",
    "    push!(opt_perturbed,perturbed)\n",
    "end\n",
    "\n",
    "f(opt_perturbed)"
   ]
  },
  {
   "cell_type": "code",
   "execution_count": null,
   "metadata": {},
   "outputs": [],
   "source": []
  }
 ],
 "metadata": {
  "kernelspec": {
   "display_name": "Julia 1.8.4",
   "language": "julia",
   "name": "julia-1.8"
  },
  "language_info": {
   "file_extension": ".jl",
   "mimetype": "application/julia",
   "name": "julia",
   "version": "1.8.4"
  },
  "orig_nbformat": 4
 },
 "nbformat": 4,
 "nbformat_minor": 2
}
