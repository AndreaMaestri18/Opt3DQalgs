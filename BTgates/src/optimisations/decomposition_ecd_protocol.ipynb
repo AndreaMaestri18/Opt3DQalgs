{
 "cells": [
  {
   "cell_type": "code",
   "execution_count": 1,
   "metadata": {},
   "outputs": [
    {
     "data": {
      "text/plain": [
       "U2 (generic function with 1 method)"
      ]
     },
     "metadata": {},
     "output_type": "display_data"
    }
   ],
   "source": [
    "include(\"../Algebra/Gradients.jl\")\n",
    "include(\"../Algebra/Hamiltonians.jl\")\n",
    "include(\"../Algebra/Matrices.jl\")\n",
    "include(\"../Algebra/Propagators.jl\")\n",
    "include(\"../Amplitudes/Chebyshev.jl\")\n",
    "include(\"../Costs/Costs.jl\")\n",
    "include(\"../Gates/Xgate.jl\")"
   ]
  },
  {
   "cell_type": "code",
   "execution_count": 53,
   "metadata": {},
   "outputs": [],
   "source": [
    "using LinearAlgebra, Optim\n",
    "using BenchmarkTools, Distributions, CSV, DataFrames"
   ]
  },
  {
   "cell_type": "code",
   "execution_count": 24,
   "metadata": {},
   "outputs": [
    {
     "data": {
      "text/plain": [
       "1"
      ]
     },
     "metadata": {},
     "output_type": "display_data"
    }
   ],
   "source": [
    "ω_c = 5\n",
    "ω_q = 2\n",
    "χ = 3e-3\n",
    "N = 6\n",
    "amp_c = 1\n",
    "amp_q = 1"
   ]
  },
  {
   "cell_type": "code",
   "execution_count": 55,
   "metadata": {},
   "outputs": [
    {
     "data": {
      "text/plain": [
       "12-element Vector{Float64}:\n",
       " 0.0\n",
       " 0.4483091615207422\n",
       " 0.0\n",
       " 0.37099664979967406\n",
       " 0.0\n",
       " 0.2681862924780868\n",
       " 0.0\n",
       " 0.45680119421674187\n",
       " 0.0\n",
       " 0.5219082198214506\n",
       " 0.0\n",
       " 0.3292430304589726"
      ]
     },
     "metadata": {},
     "output_type": "display_data"
    }
   ],
   "source": [
    "I_qubit = Matrix(I,2,2)\n",
    "I_cavity = Matrix(I,N,N)\n",
    "X_gate = kron(x_gate(N, Array[[3,4]]), I_qubit)\n",
    "\n",
    "#X_gate = kron(x_gate(N, Array[[2,3], [4,5]]), I_qubit)\n",
    "\n",
    "θ = π/2.5\n",
    "RZ = kron(Rz(N, Array[[3,4]], θ/2), I_qubit)\n",
    "RX = kron(Rx(N, Array[[3,4]], θ/2), I_qubit)\n",
    "Udue = kron(U2(N, Array[[3,4]], [θ/2 θ/3 θ/4] ), I_qubit)\n",
    "\n",
    "sx = kron(I_cavity, [0 1; 1 0])\n",
    "sy = kron(I_cavity, [0 -1im; 1im 0])\n",
    "\n",
    "ψ_initial = rand(N)\n",
    "ψ_initial = kron(ψ_initial/norm(ψ_initial), [0,1])"
   ]
  },
  {
   "cell_type": "code",
   "execution_count": 56,
   "metadata": {},
   "outputs": [
    {
     "data": {
      "text/plain": [
       "12-element Vector{Float64}:\n",
       " 0.0\n",
       " 0.4483091615207422\n",
       " 0.0\n",
       " 0.37099664979967406\n",
       " 0.0\n",
       " 0.45680119421674187\n",
       " 0.0\n",
       " 0.2681862924780868\n",
       " 0.0\n",
       " 0.5219082198214506\n",
       " 0.0\n",
       " 0.3292430304589726"
      ]
     },
     "metadata": {},
     "output_type": "display_data"
    }
   ],
   "source": [
    "ψ_final_u = Udue * ψ_initial\n",
    "ψ_final_x = RX * ψ_initial\n",
    "ψ_final_x_gate = X_gate * ψ_initial"
   ]
  },
  {
   "cell_type": "code",
   "execution_count": 57,
   "metadata": {},
   "outputs": [
    {
     "data": {
      "text/plain": [
       "([0.0 0.0 … 0.0 0.0; 0.0 0.0 … 0.0 0.0; … ; 0.0 0.0 … 0.0 0.0; 0.0 0.0 … 0.0 0.0], [0.0 0.0 … 0.0 0.0; 0.0 0.0 … 0.0 0.0; … ; 0.0 0.0 … 0.0 0.0; 0.0 0.0 … 0.0 0.0], [0 1 … 0 0; 0 0 … 0 0; … ; 0 0 … 0 1; 0 0 … 0 0], [0 0 … 0 0; 1 0 … 0 0; … ; 0 0 … 0 0; 0 0 … 1 0], [1 0 … 0 0; 0 -1 … 0 0; … ; 0 0 … 1 0; 0 0 … 0 -1])"
      ]
     },
     "metadata": {},
     "output_type": "display_data"
    }
   ],
   "source": [
    "# generating matrices\n",
    "a,adag,sp,sm,sz = generate_matrices(N)"
   ]
  },
  {
   "cell_type": "code",
   "execution_count": 58,
   "metadata": {},
   "outputs": [
    {
     "data": {
      "text/plain": [
       "snap (generic function with 1 method)"
      ]
     },
     "metadata": {},
     "output_type": "display_data"
    }
   ],
   "source": [
    "disp(α) = exp((α * adag - α' * a))\n",
    "ECD(β) = disp(β / 2) * sp + disp(- β / 2) * sm\n",
    "ROT(ϕ, θ) = exp(-1im * θ / 2 * ( sx * cos(ϕ) + sy * sin(ϕ) )) \n",
    "snap(x) = kron(Diagonal(exp.(-1im.*x)),I_qubit)"
   ]
  },
  {
   "cell_type": "code",
   "execution_count": 59,
   "metadata": {},
   "outputs": [
    {
     "data": {
      "text/plain": [
       "gradient_state_prep (generic function with 1 method)"
      ]
     },
     "metadata": {},
     "output_type": "display_data"
    }
   ],
   "source": [
    "function cost(coefficients, unitary, N)\n",
    "\n",
    "    L = length(coefficients)\n",
    "    β_i = coefficients[1: Int(L/4)]\n",
    "    β_r = coefficients[Int(L/4) + 1 : Int(L/2)]\n",
    "\n",
    "    θs = coefficients[Int(L/2) + 1 : Int(3 * L/4)]\n",
    "    ϕs = coefficients[Int(3 * L/4) + 1 : end]\n",
    "\n",
    "    propagator = Matrix{ComplexF64}(I,N,N)\n",
    "\n",
    "    for i in 1:length(β_i)\n",
    "        propagator = propagator * ROT(ϕs[i], θs[i]) * ECD(β_i[i] + β_r[i] * 1im)\n",
    "    end\n",
    "\n",
    "    return 1 - norm(tr(propagator*unitary') / N)^2\n",
    "    \n",
    "end\n",
    "\n",
    "function cost_ecd_rot_ecd(coefficients, unitary, N)\n",
    "\n",
    "    L = length(coefficients)\n",
    "    β_i = coefficients[1: Int(L/4)]\n",
    "    β_r = coefficients[Int(L/4) + 1 : Int(L/2)]\n",
    "\n",
    "    θs = coefficients[Int(L/2) + 1 : Int(3 * L/4)]\n",
    "    ϕs = coefficients[Int(3 * L/4) + 1 : end]\n",
    "\n",
    "    propagator = Matrix{ComplexF64}(I,N,N)\n",
    "\n",
    "    for i in 1:length(β_i)\n",
    "        propagator = propagator * ECD(β_i[i] + β_r[i] * 1im) * ROT(ϕs[i], θs[i]) * ECD(β_i[i] + β_r[i] * 1im)'\n",
    "    end\n",
    "\n",
    "    return 1 - norm(tr(propagator*unitary') / N)^2\n",
    "    \n",
    "end\n",
    "\n",
    "function gradient(coefficients, unitary, N, h, cost_before_increment)\n",
    "\n",
    "    L = length(coefficients)\n",
    "    gradient = zeros(L)\n",
    "\n",
    "    for i in 1:L\n",
    "        coeffs_copy = copy(coefficients)\n",
    "        coeffs_copy[i] = coefficients[i] + h\n",
    "        gradient[i] = (cost(coeffs_copy, unitary, N) - cost_before_increment) / h\n",
    "    end\n",
    "\n",
    "    return gradient\n",
    "\n",
    "end\n",
    "\n",
    "function gate_composition(coefficients, N, l_coeff)\n",
    "\n",
    "    L = length(coefficients)\n",
    "    β_i = coefficients[1: Int(L/4)]\n",
    "    β_r = coefficients[Int(L/4) + 1 : Int(L/2)]\n",
    "\n",
    "    θs = coefficients[Int(L/2) + 1 : Int(3 * L/4)]\n",
    "    ϕs = coefficients[Int(3 * L/4) + 1 : end]\n",
    "\n",
    "    propagator = Matrix{ComplexF64}(I,N,N)\n",
    "\n",
    "    for i in 1:length(β_i)\n",
    "        propagator = propagator * ROT(ϕs[i], θs[i]) * ECD(β_i[i] + β_r[i] * 1im)\n",
    "    end\n",
    "\n",
    "    return propagator\n",
    "    \n",
    "end\n",
    "\n",
    "function cost_state_prep(coefficients, N, ψ_n, ψ_m)\n",
    "\n",
    "    L = length(coefficients)\n",
    "    β_i = coefficients[1: Int(L/4)]\n",
    "    β_r = coefficients[Int(L/4) + 1 : Int(L/2)]\n",
    "\n",
    "    θs = coefficients[Int(L/2) + 1 : Int(3 * L/4)]\n",
    "    ϕs = coefficients[Int(3 * L/4) + 1 : end]\n",
    "\n",
    "    propagator = Matrix{ComplexF64}(I,N,N)\n",
    "\n",
    "    for i in 1:length(β_i)\n",
    "        propagator = propagator * ROT(ϕs[i], θs[i]) * ECD(β_i[i] + β_r[i] * 1im)\n",
    "    end\n",
    "\n",
    "    return 1 - norm(ψ_m' * propagator * ψ_n)^2\n",
    "    \n",
    "end\n",
    "\n",
    "\n",
    "function gradient_state_prep(coefficients, N, h, cost_before_increment, ψ_n, ψ_m)\n",
    "\n",
    "    L = length(coefficients)\n",
    "    gradient = zeros(L)\n",
    "\n",
    "    for i in 1:L\n",
    "        coeffs_copy = copy(coefficients)\n",
    "        coeffs_copy[i] = coefficients[i] + h\n",
    "        gradient[i] = (cost_state_prep(coeffs_copy, N, ψ_n, ψ_m) - cost_before_increment) / h\n",
    "    end\n",
    "\n",
    "    return gradient\n",
    "\n",
    "end"
   ]
  },
  {
   "cell_type": "code",
   "execution_count": 60,
   "metadata": {},
   "outputs": [
    {
     "data": {
      "text/plain": [
       "12×12 Matrix{ComplexF64}:\n",
       " 0.948135-0.317868im       0.0-0.0im       …       0.0+0.0im\n",
       "      0.0-0.0im       0.948135-0.317868im          0.0+0.0im\n",
       "      0.0+0.0im            0.0+0.0im               0.0+0.0im\n",
       "      0.0+0.0im            0.0+0.0im               0.0+0.0im\n",
       "      0.0+0.0im            0.0+0.0im               0.0+0.0im\n",
       "      0.0+0.0im            0.0+0.0im       …       0.0+0.0im\n",
       "      0.0+0.0im            0.0+0.0im               0.0+0.0im\n",
       "      0.0+0.0im            0.0+0.0im               0.0+0.0im\n",
       "      0.0+0.0im            0.0+0.0im               0.0+0.0im\n",
       "      0.0+0.0im            0.0+0.0im               0.0+0.0im\n",
       "      0.0+0.0im            0.0+0.0im       …       0.0-0.0im\n",
       "      0.0+0.0im            0.0+0.0im          0.759127-0.650942im"
      ]
     },
     "metadata": {},
     "output_type": "display_data"
    }
   ],
   "source": [
    "snapgate = snap(rand(N))"
   ]
  },
  {
   "cell_type": "code",
   "execution_count": 61,
   "metadata": {},
   "outputs": [
    {
     "data": {
      "text/plain": [
       "g (generic function with 1 method)"
      ]
     },
     "metadata": {},
     "output_type": "display_data"
    }
   ],
   "source": [
    "f(x) = cost(x, RX, N * 2)\n",
    "h(x) = cost(x, X_gate, N*2)\n",
    "g(x) = cost_state_prep(x, N * 2, ψ_initial, ψ_final_x_gate)"
   ]
  },
  {
   "cell_type": "code",
   "execution_count": 48,
   "metadata": {},
   "outputs": [
    {
     "name": "stdout",
     "output_type": "stream",
     "text": [
      "blocks: 36 iterations :1\n",
      "Iter     Function value   Gradient norm \n"
     ]
    },
    {
     "name": "stdout",
     "output_type": "stream",
     "text": [
      "     0     4.057263e-04     7.219383e-04\n",
      " * time: 9.703636169433594e-5\n"
     ]
    },
    {
     "name": "stdout",
     "output_type": "stream",
     "text": [
      "    10     4.035427e-04     3.846075e-04\n",
      " * time: 15.808733940124512\n"
     ]
    },
    {
     "name": "stdout",
     "output_type": "stream",
     "text": [
      "    20     4.019632e-04     3.812383e-04\n",
      " * time: 32.44236993789673\n"
     ]
    },
    {
     "name": "stdout",
     "output_type": "stream",
     "text": [
      "    30     4.005604e-04     3.317797e-04\n",
      " * time: 49.31391191482544\n"
     ]
    },
    {
     "name": "stdout",
     "output_type": "stream",
     "text": [
      "    40     3.992308e-04     2.701826e-04\n",
      " * time: 64.87766790390015\n"
     ]
    },
    {
     "name": "stdout",
     "output_type": "stream",
     "text": [
      "    50     3.974594e-04     3.144741e-04\n",
      " * time: 80.58670091629028\n"
     ]
    },
    {
     "name": "stdout",
     "output_type": "stream",
     "text": [
      "    60     3.953189e-04     3.024873e-04\n",
      " * time: 96.22586798667908\n"
     ]
    },
    {
     "name": "stdout",
     "output_type": "stream",
     "text": [
      "    70     3.922855e-04     3.375198e-04\n",
      " * time: 111.65915012359619\n"
     ]
    },
    {
     "name": "stdout",
     "output_type": "stream",
     "text": [
      "    80     3.903523e-04     4.240745e-04\n",
      " * time: 126.53016400337219\n"
     ]
    },
    {
     "name": "stdout",
     "output_type": "stream",
     "text": [
      "    90     3.883447e-04     2.478614e-04\n",
      " * time: 141.79260110855103\n"
     ]
    },
    {
     "name": "stdout",
     "output_type": "stream",
     "text": [
      "   100     3.859876e-04     3.731543e-04\n",
      " * time: 157.45675206184387\n"
     ]
    },
    {
     "name": "stdout",
     "output_type": "stream",
     "text": [
      "   110     3.847566e-04     3.483358e-04\n",
      " * time: 173.3045449256897\n"
     ]
    },
    {
     "name": "stdout",
     "output_type": "stream",
     "text": [
      "   120     3.829486e-04     3.809389e-04\n",
      " * time: 188.93611097335815\n"
     ]
    },
    {
     "name": "stdout",
     "output_type": "stream",
     "text": [
      "   130     3.813436e-04     4.056172e-04\n",
      " * time: 203.71105694770813\n"
     ]
    },
    {
     "name": "stdout",
     "output_type": "stream",
     "text": [
      "   140     3.788856e-04     4.427361e-04\n",
      " * time: 219.15888500213623\n"
     ]
    },
    {
     "name": "stdout",
     "output_type": "stream",
     "text": [
      "   150     3.766189e-04     5.050777e-04\n",
      " * time: 235.1038749217987\n"
     ]
    },
    {
     "name": "stdout",
     "output_type": "stream",
     "text": [
      "   160     3.744962e-04     4.959333e-04\n",
      " * time: 250.98649311065674\n"
     ]
    },
    {
     "name": "stdout",
     "output_type": "stream",
     "text": [
      "   170     3.725223e-04     4.034343e-04\n",
      " * time: 266.9720051288605\n"
     ]
    },
    {
     "name": "stdout",
     "output_type": "stream",
     "text": [
      "   180     3.710431e-04     3.586462e-04\n",
      " * time: 282.3617670536041\n"
     ]
    },
    {
     "name": "stdout",
     "output_type": "stream",
     "text": [
      "   190     3.688722e-04     4.765189e-04\n",
      " * time: 299.1161539554596\n"
     ]
    },
    {
     "name": "stdout",
     "output_type": "stream",
     "text": [
      "   200     3.670528e-04     3.311910e-04\n",
      " * time: 314.92681193351746\n"
     ]
    },
    {
     "name": "stdout",
     "output_type": "stream",
     "text": [
      "   210     3.650066e-04     3.266715e-04\n",
      " * time: 331.2217950820923\n"
     ]
    },
    {
     "name": "stdout",
     "output_type": "stream",
     "text": [
      "   220     3.634266e-04     4.707249e-04\n",
      " * time: 349.7912669181824\n"
     ]
    },
    {
     "name": "stdout",
     "output_type": "stream",
     "text": [
      "   230     3.621464e-04     2.579403e-04\n",
      " * time: 366.89450001716614\n"
     ]
    },
    {
     "name": "stdout",
     "output_type": "stream",
     "text": [
      "   240     3.597347e-04     3.300019e-04\n",
      " * time: 384.4576859474182\n"
     ]
    },
    {
     "name": "stdout",
     "output_type": "stream",
     "text": [
      "   250     3.581660e-04     3.321553e-04\n",
      " * time: 403.0145859718323\n"
     ]
    },
    {
     "name": "stdout",
     "output_type": "stream",
     "text": [
      "   260     3.568086e-04     2.190746e-04\n",
      " * time: 419.1017699241638\n"
     ]
    },
    {
     "name": "stdout",
     "output_type": "stream",
     "text": [
      "   270     3.556287e-04     3.462340e-04\n",
      " * time: 437.0507900714874\n"
     ]
    },
    {
     "name": "stdout",
     "output_type": "stream",
     "text": [
      "   280     3.541455e-04     2.578774e-04\n",
      " * time: 454.07728910446167\n"
     ]
    },
    {
     "name": "stdout",
     "output_type": "stream",
     "text": [
      "   290     3.524672e-04     2.872040e-04\n",
      " * time: 469.2935199737549\n"
     ]
    },
    {
     "name": "stdout",
     "output_type": "stream",
     "text": [
      "   300     3.507910e-04     2.034251e-04\n",
      " * time: 486.1558220386505\n"
     ]
    },
    {
     "name": "stdout",
     "output_type": "stream",
     "text": [
      "   310     3.495051e-04     2.493423e-04\n",
      " * time: 503.4048309326172\n"
     ]
    },
    {
     "name": "stdout",
     "output_type": "stream",
     "text": [
      "   320     3.482518e-04     1.792464e-04\n",
      " * time: 519.0978019237518\n"
     ]
    },
    {
     "name": "stdout",
     "output_type": "stream",
     "text": [
      "   330     3.472972e-04     2.878852e-04\n",
      " * time: 536.1497490406036\n"
     ]
    },
    {
     "name": "stdout",
     "output_type": "stream",
     "text": [
      "   340     3.462173e-04     3.007196e-04\n",
      " * time: 552.7380471229553\n"
     ]
    },
    {
     "name": "stdout",
     "output_type": "stream",
     "text": [
      "   350     3.451052e-04     2.567804e-04\n",
      " * time: 570.1796340942383\n"
     ]
    },
    {
     "name": "stdout",
     "output_type": "stream",
     "text": [
      "   360     3.445694e-04     1.616813e-04\n",
      " * time: 587.9494099617004\n"
     ]
    },
    {
     "name": "stdout",
     "output_type": "stream",
     "text": [
      "   370     3.441572e-04     1.902350e-04\n",
      " * time: 605.7688219547272\n"
     ]
    },
    {
     "name": "stdout",
     "output_type": "stream",
     "text": [
      "   380     3.435536e-04     2.109592e-04\n",
      " * time: 621.6985840797424\n"
     ]
    },
    {
     "name": "stdout",
     "output_type": "stream",
     "text": [
      "   390     3.427466e-04     1.871171e-04\n",
      " * time: 639.1682140827179\n"
     ]
    },
    {
     "name": "stdout",
     "output_type": "stream",
     "text": [
      "   400     3.423422e-04     2.267267e-04\n",
      " * time: 655.4751970767975\n"
     ]
    },
    {
     "name": "stdout",
     "output_type": "stream",
     "text": [
      "   410     3.419076e-04     2.035293e-04\n",
      " * time: 671.9521460533142\n"
     ]
    },
    {
     "name": "stdout",
     "output_type": "stream",
     "text": [
      "   420     3.416165e-04     1.335417e-04\n",
      " * time: 689.0019600391388\n"
     ]
    },
    {
     "name": "stdout",
     "output_type": "stream",
     "text": [
      "   430     3.413547e-04     1.406114e-04\n",
      " * time: 706.4405629634857\n"
     ]
    },
    {
     "name": "stdout",
     "output_type": "stream",
     "text": [
      "   440     3.410329e-04     1.208289e-04\n",
      " * time: 723.7393929958344\n"
     ]
    },
    {
     "name": "stdout",
     "output_type": "stream",
     "text": [
      "   450     3.406744e-04     2.086383e-04\n",
      " * time: 740.9856390953064\n"
     ]
    },
    {
     "name": "stdout",
     "output_type": "stream",
     "text": [
      "   460     3.402459e-04     2.247478e-04\n",
      " * time: 756.997978925705\n"
     ]
    },
    {
     "name": "stdout",
     "output_type": "stream",
     "text": [
      "   470     3.398600e-04     1.808176e-04\n",
      " * time: 773.903223991394\n"
     ]
    },
    {
     "name": "stdout",
     "output_type": "stream",
     "text": [
      "   480     3.393197e-04     1.859939e-04\n",
      " * time: 789.8435509204865\n"
     ]
    },
    {
     "name": "stdout",
     "output_type": "stream",
     "text": [
      "   490     3.389594e-04     1.260835e-04\n",
      " * time: 805.9746530056\n"
     ]
    },
    {
     "name": "stdout",
     "output_type": "stream",
     "text": [
      "   500     3.386306e-04     1.477028e-04\n",
      " * time: 822.9405319690704\n"
     ]
    },
    {
     "name": "stdout",
     "output_type": "stream",
     "text": [
      "   510     3.384415e-04     1.280117e-04\n",
      " * time: 839.3399479389191\n"
     ]
    },
    {
     "name": "stdout",
     "output_type": "stream",
     "text": [
      "   520     3.380772e-04     1.264904e-04\n",
      " * time: 865.8439791202545\n"
     ]
    },
    {
     "name": "stdout",
     "output_type": "stream",
     "text": [
      "   530     3.377057e-04     1.123930e-04\n",
      " * time: 887.7136960029602\n"
     ]
    },
    {
     "name": "stdout",
     "output_type": "stream",
     "text": [
      "   540     3.373697e-04     1.492543e-04\n",
      " * time: 905.508621931076\n"
     ]
    },
    {
     "name": "stdout",
     "output_type": "stream",
     "text": [
      "   550     3.368973e-04     2.075291e-04\n",
      " * time: 922.0489320755005\n"
     ]
    },
    {
     "name": "stdout",
     "output_type": "stream",
     "text": [
      "   560     3.362652e-04     2.022237e-04\n",
      " * time: 938.6161301136017\n"
     ]
    },
    {
     "name": "stdout",
     "output_type": "stream",
     "text": [
      "   570     3.357488e-04     2.287073e-04\n",
      " * time: 955.9797909259796\n"
     ]
    },
    {
     "name": "stdout",
     "output_type": "stream",
     "text": [
      "   580     3.353716e-04     2.150979e-04\n",
      " * time: 973.3669791221619\n"
     ]
    },
    {
     "name": "stdout",
     "output_type": "stream",
     "text": [
      "   590     3.345452e-04     2.103472e-04\n",
      " * time: 991.1203761100769\n"
     ]
    },
    {
     "name": "stdout",
     "output_type": "stream",
     "text": [
      "   600     3.336943e-04     2.461805e-04\n",
      " * time: 1007.292060136795\n"
     ]
    },
    {
     "name": "stdout",
     "output_type": "stream",
     "text": [
      "   610     3.322195e-04     2.910237e-04\n",
      " * time: 1024.6660850048065\n"
     ]
    },
    {
     "name": "stdout",
     "output_type": "stream",
     "text": [
      "   620     3.313414e-04     1.766171e-04\n",
      " * time: 1040.9499869346619\n"
     ]
    },
    {
     "name": "stdout",
     "output_type": "stream",
     "text": [
      "   630     3.301761e-04     3.436324e-04\n",
      " * time: 1058.0688650608063\n"
     ]
    },
    {
     "name": "stdout",
     "output_type": "stream",
     "text": [
      "   640     3.292680e-04     2.788996e-04\n",
      " * time: 1074.812117099762\n"
     ]
    },
    {
     "name": "stdout",
     "output_type": "stream",
     "text": [
      "   650     3.281097e-04     2.534902e-04\n",
      " * time: 1090.7296271324158\n"
     ]
    },
    {
     "name": "stdout",
     "output_type": "stream",
     "text": [
      "   660     3.269370e-04     2.932145e-04\n",
      " * time: 1105.3440299034119\n"
     ]
    },
    {
     "name": "stdout",
     "output_type": "stream",
     "text": [
      "   670     3.259734e-04     1.572273e-04\n",
      " * time: 1121.879672050476\n"
     ]
    },
    {
     "name": "stdout",
     "output_type": "stream",
     "text": [
      "   680     3.254308e-04     2.295416e-04\n",
      " * time: 1138.4895911216736\n"
     ]
    },
    {
     "name": "stdout",
     "output_type": "stream",
     "text": [
      "   690     3.249225e-04     1.497219e-04\n",
      " * time: 1155.770663022995\n"
     ]
    },
    {
     "name": "stdout",
     "output_type": "stream",
     "text": [
      "   700     3.243540e-04     1.755258e-04\n",
      " * time: 1172.8926980495453\n"
     ]
    },
    {
     "name": "stdout",
     "output_type": "stream",
     "text": [
      "   710     3.239913e-04     1.388729e-04\n",
      " * time: 1190.6736090183258\n"
     ]
    },
    {
     "name": "stdout",
     "output_type": "stream",
     "text": [
      "   720     3.236605e-04     1.357633e-04\n",
      " * time: 1207.4607260227203\n"
     ]
    },
    {
     "name": "stdout",
     "output_type": "stream",
     "text": [
      "   730     3.232471e-04     1.464419e-04\n",
      " * time: 1223.2312989234924\n"
     ]
    },
    {
     "name": "stdout",
     "output_type": "stream",
     "text": [
      "   740     3.227521e-04     1.987630e-04\n",
      " * time: 1240.7639620304108\n"
     ]
    },
    {
     "name": "stdout",
     "output_type": "stream",
     "text": [
      "   750     3.222270e-04     1.595261e-04\n",
      " * time: 1258.3819799423218\n"
     ]
    },
    {
     "name": "stdout",
     "output_type": "stream",
     "text": [
      "   760     3.217528e-04     1.453885e-04\n",
      " * time: 1274.8832030296326\n"
     ]
    },
    {
     "name": "stdout",
     "output_type": "stream",
     "text": [
      "   770     3.213051e-04     1.714812e-04\n",
      " * time: 1291.0626380443573\n"
     ]
    },
    {
     "name": "stdout",
     "output_type": "stream",
     "text": [
      "   780     3.205527e-04     2.098857e-04\n",
      " * time: 1308.352164030075\n"
     ]
    },
    {
     "name": "stdout",
     "output_type": "stream",
     "text": [
      "   790     3.199020e-04     2.004982e-04\n",
      " * time: 1324.6669609546661\n"
     ]
    },
    {
     "name": "stdout",
     "output_type": "stream",
     "text": [
      "   800     3.193700e-04     2.361148e-04\n",
      " * time: 1340.8121409416199\n"
     ]
    },
    {
     "name": "stdout",
     "output_type": "stream",
     "text": [
      "   810     3.185560e-04     2.561364e-04\n",
      " * time: 1356.9600369930267\n"
     ]
    },
    {
     "name": "stdout",
     "output_type": "stream",
     "text": [
      "   820     3.179450e-04     2.326277e-04\n",
      " * time: 1372.6346580982208\n"
     ]
    },
    {
     "name": "stdout",
     "output_type": "stream",
     "text": [
      "   830     3.167532e-04     2.455675e-04\n",
      " * time: 1389.469190120697\n"
     ]
    },
    {
     "name": "stdout",
     "output_type": "stream",
     "text": [
      "   840     3.152919e-04     3.108129e-04\n",
      " * time: 1405.1340730190277\n"
     ]
    },
    {
     "name": "stdout",
     "output_type": "stream",
     "text": [
      "   850     3.141685e-04     2.652147e-04\n",
      " * time: 1422.412218093872\n"
     ]
    },
    {
     "name": "stdout",
     "output_type": "stream",
     "text": [
      "   860     3.131800e-04     3.998666e-04\n",
      " * time: 1438.3455069065094\n"
     ]
    },
    {
     "name": "stdout",
     "output_type": "stream",
     "text": [
      "   870     3.123228e-04     3.058510e-04\n",
      " * time: 1455.7379229068756\n"
     ]
    },
    {
     "name": "stdout",
     "output_type": "stream",
     "text": [
      "   880     3.113607e-04     1.857639e-04\n",
      " * time: 1472.3155810832977\n"
     ]
    },
    {
     "name": "stdout",
     "output_type": "stream",
     "text": [
      "   890     3.107745e-04     1.475007e-04\n",
      " * time: 1490.105381011963\n"
     ]
    },
    {
     "name": "stdout",
     "output_type": "stream",
     "text": [
      "   900     3.102295e-04     1.583512e-04\n",
      " * time: 1505.6146020889282\n"
     ]
    },
    {
     "name": "stdout",
     "output_type": "stream",
     "text": [
      "   910     3.098083e-04     1.337425e-04\n",
      " * time: 1521.7727091312408\n"
     ]
    },
    {
     "name": "stdout",
     "output_type": "stream",
     "text": [
      "   920     3.095238e-04     1.271266e-04\n",
      " * time: 1539.5458569526672\n"
     ]
    },
    {
     "name": "stdout",
     "output_type": "stream",
     "text": [
      "   930     3.093291e-04     1.233940e-04\n",
      " * time: 1555.6969480514526\n"
     ]
    },
    {
     "name": "stdout",
     "output_type": "stream",
     "text": [
      "   940     3.089969e-04     1.192597e-04\n",
      " * time: 1572.5705480575562\n"
     ]
    },
    {
     "name": "stdout",
     "output_type": "stream",
     "text": [
      "   950     3.086672e-04     1.365830e-04\n",
      " * time: 1588.826045036316\n"
     ]
    },
    {
     "name": "stdout",
     "output_type": "stream",
     "text": [
      "   960     3.082097e-04     1.263028e-04\n",
      " * time: 1606.1866450309753\n"
     ]
    },
    {
     "name": "stdout",
     "output_type": "stream",
     "text": [
      "   970     3.078648e-04     1.667851e-04\n",
      " * time: 1622.4809029102325\n"
     ]
    },
    {
     "name": "stdout",
     "output_type": "stream",
     "text": [
      "   980     3.071090e-04     1.617443e-04\n",
      " * time: 1639.1585080623627\n"
     ]
    },
    {
     "name": "stdout",
     "output_type": "stream",
     "text": [
      "   990     3.064485e-04     2.206717e-04\n",
      " * time: 1654.9572310447693\n"
     ]
    },
    {
     "name": "stdout",
     "output_type": "stream",
     "text": [
      "  1000     3.058912e-04     1.278551e-04\n",
      " * time: 1673.8117139339447\n"
     ]
    },
    {
     "name": "stdout",
     "output_type": "stream",
     "text": [
      "0.00030589123970237164\n",
      "[0.11806749797623005, -0.009834456094211087, 0.1143718488139706, 0.18891699742480259, 2.395514725594725, -0.12300410530208952, 0.13115770445519068, 0.16117905413089262, -0.27947753763074246, 2.2385263851057093, 0.22564329387119889, 0.053822115238292195, -0.05057287621338229, 0.13044871568686128, -0.04307088493357632, 0.06901966036289131, -1.2395770671271833, 1.1483452389199205, -0.5924679156038877, 0.5427273358843981, -0.13381700440853436, -0.09123807623023535, 0.11152139588830585, -0.2024006278301785, -0.21583890702781347, -0.11199705104101622, 0.11675590260703085, 0.09282545723692397, -0.18241106626901815, -0.019449553369910007, 0.033041138906180635, -0.04953172330745251, 0.01825009789391058, 0.017971101101264812, -0.03742839551749418, 0.026753155935047686, 1.0482633299547146, 0.871871391531116, 1.492051550041508, 0.618463540693127, -0.3468376179740499, 0.3613468482190137, 0.49709425509262417, 0.36154775967905817, 0.301291861562871, -0.29335612368187164, 0.9756825443896784, 1.727734781318958, 0.6663660322455466, 1.2837542566077433, -0.051551917115691674, 1.4211354230169522, 0.7326580656687782, -0.6823206578885199, 0.584911008295343, -0.7047066881095154, 0.6459774167238965, 1.1372852234950321, 0.8979643715862541, -1.4977787686832276, 0.11142657683196026, 0.2059559243839365, -0.08227068012737072, 0.16269816928104108, -0.09962174745699995, 0.2598472568100709, -0.02219302594391791, -0.03014539673772294, 0.0479522442531874, -0.04711527099795213, 0.05014944806160013, -0.0743061768241738, 0.06424883452541576, -1.705270937001682, 3.4869622058389838, 1.9877063362490979, -1.3304521215637113, 0.8001704755115823, 0.7918241413953568, 0.304617639032065, -1.0483277321229398, -0.3812199488861775, 0.8636397226464178, 2.4284400582041674, -1.783205724396992, -2.522931230734681, 2.137643970252177, 1.5785491933516875, 0.9350233732402425, 3.1034407549942427, 0.02132690095234663, 3.1745712830864363, 2.4705323261431476, 0.6687167188853429, -2.376053130244662, -2.1697765711579318, 0.019603007206309697, 0.4170796667017485, 0.14953796761629987, 0.25749940555635437, 0.12201123734970917, -0.28445386289821034, 0.13887419068973952, 0.05717547431592528, -0.009122641273772105, -0.033235667720863615, -0.036238722422740254, -0.038796671203969714, -1.0359338904918505, 2.468646599295489, -3.7935980831739085, 0.5560646759026832, 2.427166589019805, 0.15911580152469226, 1.029084477173021, -2.2839784594012666, 0.7483847202438401, 0.7703026115527061, 2.0867308224070142, -2.087566235919951, -2.615405743156349, -2.084242997069794, -0.7520581265427992, 1.7978932633666596, -2.2369735719343216, 0.8266497242291513, 0.016398496547273773, -0.042913689782363096, -2.006031608987172, 0.40231850332235397, -0.517568513033165, 1.953286476922862, -0.5085238017389306, 0.40308154078695085, -0.11542508702159172, -0.3198130134058673, 0.24274145710818415, -0.0710250183090596, 0.03252397494430476, -0.020444863122141693, 0.011864745762661189, -0.00959915725803359, 0.006792457292534729, -0.0038716064791749624]\n",
      "0.00030589123970237164\n"
     ]
    }
   ],
   "source": [
    "costs = []\n",
    "for depth in 36:6:36\n",
    "    it_costs = []\n",
    "    for iteration in 1:1\n",
    "        println(\"blocks: \", depth,\" iterations :\", iteration)\n",
    "        l_coeff = depth * 4\n",
    "        coefficients = zeros(l_coeff)\n",
    "        opt_coefficients = [0.13127246520334743, -0.019497584668193676, 0.08441258787959842, 0.18853144018033427, 2.4773268321055526, -0.14068538254906235, 0.1067057733639206, 0.1349017917477391, -0.28172200750776616, 2.3343572457141644, 0.23803460000361065, 0.02224019699673719, -0.02819220072444795, 0.14025366097313285, -0.039304691135796384, 0.034017130408503904, -1.270709512762515, 1.1222318350735496, -0.5050327642586442, 0.44136685654889646, -0.11819305256693396, -0.0171689224126802, 0.09552182521389328, -0.2328982824584922, -0.18887578187905554, -0.15747221392930363, 0.048819896470870795, 0.06658477533856631, -0.22675451226200594, -0.0731322584470268, 1.0320426049171438, 0.6225620315319085, 1.568514654834306, 0.7262178776748648, -0.22834995134017863, 0.3779892846129676, 0.4262227353912679, 0.3196753483381889, 0.2953992663817206, -0.19218722459895415, 1.0202317022438367, 1.705913290128121, 0.6088975228114619, 1.3686579107788293, -0.08953083032928448, 1.3785033310248134, 0.6210712278453568, -0.546707314086662, 0.5554710674453178, -0.738159834335507, 0.8480966018787588, 1.3078085508366757, 0.8089514554005326, -1.469472380398311, 0.18028304122964178, 0.17800584503049802, -0.16671991762565194, 0.15198499049007122, -0.04092766820003216, 0.11711271102437686, 0.5188232840958972, -1.7867718434727076, 3.5223065386348553, 2.2224437866146936, -0.7912271654827151, 0.8138625856913634, 0.8251321109743369, 0.3908880448666587, -1.0196639363402769, -0.47085490582037853, 0.4599953976090268, 2.482555446317384, -1.8990959008772232, -2.347458571630002, 1.8940454195441299, 1.6098827996499168, 0.6858333434815906, 3.099926769099066, 0.26105209891049624, 3.116263068234298, 2.5252126200803366, 0.6579487830800986, -2.0398634955596138, -2.063231611559297, 0.17200838633826052, 0.21746703903761155, -0.08632133913870561, 0.10226589649918397, 0.11017725158881246, -0.14735488542926817, -1.1227719271090217, 2.528691011685489, -3.6943677736137874, 0.4459977262437821, 2.4117078989762133, 0.26322261352850806, 1.2256689177520266, -2.2308581588753373, 0.9892257825254104, 0.8281524197559402, 1.9598978630167818, -2.1148746299260353, -2.803899573953217, -2.245508040936566, -0.6193170598374295, 1.7795990385359928, -1.8558619160741494, 1.1841888451815246, 0.16682143048943704, 0.2751262646174936, -1.8060262029518621, 0.1641950718415823, -0.5043898627135203, 2.2137233254732416, -0.3804855296494221, 0.29075602987498295, -0.013080790874542322, -0.052115930912448594, 0.0071533840307411774, 0.023714329530033218]\n",
    "        coefficients[1:Int(l_coeff / 2)] = [opt_coefficients[1:Int(length(opt_coefficients)/4)]..., (zeros(Int(l_coeff / 4 - length(opt_coefficients)/4)))..., opt_coefficients[Int(length(opt_coefficients)/4)+1:Int(length(opt_coefficients)/2)]..., (zeros(Int(l_coeff / 4 - length(opt_coefficients)/4)))...]\n",
    "        coefficients[Int(l_coeff / 2) + 1:end] = [opt_coefficients[Int(length(opt_coefficients)/2)+1:Int(3*length(opt_coefficients)/4)]..., zeros(Int(l_coeff / 4 - length(opt_coefficients)/4))..., opt_coefficients[Int(3*length(opt_coefficients)/4)+1:end]..., zeros(Int(l_coeff / 4 - length(opt_coefficients)/4))...]\n",
    "        # coefficients[1:Int(l_coeff / 2)] = rand(Int(l_coeff / 2))*2 .-1\n",
    "        # coefficients[Int(l_coeff / 2) + 1:end] = rand(Int(l_coeff / 2)) * 2 * pi .- pi\n",
    "        res = Optim.optimize(f, coefficients , LBFGS(), Optim.Options(show_trace=true, show_every=10, iterations = 1000))\n",
    "        push!(it_costs,Optim.minimum(res))\n",
    "        println(Optim.minimum(res))\n",
    "        println(Optim.minimizer(res))\n",
    "    end\n",
    "    println(minimum(it_costs))\n",
    "    push!(costs,minimum(it_costs))\n",
    "end"
   ]
  },
  {
   "cell_type": "code",
   "execution_count": 62,
   "metadata": {},
   "outputs": [
    {
     "name": "stdout",
     "output_type": "stream",
     "text": [
      "blocks: 36 iterations :1\n",
      "blocks: "
     ]
    },
    {
     "name": "stdout",
     "output_type": "stream",
     "text": [
      "36 iterations :2\n"
     ]
    },
    {
     "name": "stdout",
     "output_type": "stream",
     "text": [
      "blocks: 36 iterations :3\n",
      "blocks: "
     ]
    },
    {
     "name": "stdout",
     "output_type": "stream",
     "text": [
      "36 iterations :4\n"
     ]
    },
    {
     "name": "stdout",
     "output_type": "stream",
     "text": [
      "blocks: 36 iterations :5\n",
      "blocks: "
     ]
    },
    {
     "name": "stdout",
     "output_type": "stream",
     "text": [
      "36 iterations :6\n"
     ]
    },
    {
     "name": "stdout",
     "output_type": "stream",
     "text": [
      "blocks: 36 iterations :7\n",
      "blocks: "
     ]
    },
    {
     "name": "stdout",
     "output_type": "stream",
     "text": [
      "36 iterations :8\n"
     ]
    },
    {
     "name": "stdout",
     "output_type": "stream",
     "text": [
      "blocks: 36 iterations :9\n",
      "blocks: "
     ]
    },
    {
     "name": "stdout",
     "output_type": "stream",
     "text": [
      "36 iterations :10\n"
     ]
    }
   ],
   "source": [
    "it_costs_x = []\n",
    "coefficients_x = []\n",
    "it_costs_rx = []\n",
    "coefficients_rx = []\n",
    "blocks = []\n",
    "for depth in 36:6:36\n",
    "    for iteration in 1:10\n",
    "        println(\"blocks: \", depth,\" iterations :\", iteration)\n",
    "        l_coeff = depth * 4\n",
    "        coefficients = zeros(l_coeff)\n",
    "        # opt_coefficients = [0.0976423458354245, 0.0450708234683308, 0.10976747963502345, 0.08416609504894443, 2.551326070782372, -0.08964024119320309, 0.10485248324424644, 0.13969513913978635, -0.22349455300798343, 2.3735987675524037, 0.19185222571130106, 0.09817439361481875, 0.10464682496970999, 0.03769605958097719, 0.059524186293775296, 0.008378579058631288, -1.2534771254122576, 1.1903829602499862, 0.016016288408910853, -0.05483313987446702, -0.046034209736723807, -0.027533341989763437, 0.006811587319806202, -0.07449680205270068, 0.9909477420650091, 0.7105671478179529, 1.4506719329759887, 0.6584572437091945, -0.1462197067998505, 0.3890746504254293, 0.4550190349625619, 0.27485980171484087, 0.24866482812659083, -0.13476539605421262, 1.1225574211169433, 1.9743342171260378, 1.0562819850952958, 0.7320395937688988, 0.4678336590764824, 0.7663663217427629, 0.7493470855455572, -0.6802045420602124, 0.5414009020842547, -0.5236457353726556, 0.7006096048990366, 1.288999517730632, 0.33766541989560206, -1.3141536095001372, 1.2548422513237936, -1.4739003495829288, 3.612006758803497, 2.177902858706418, -0.52269040375497, 0.9564247538849191, 0.49002185275320925, 0.47233587796819054, -0.7410940755657739, -0.41486097094262636, 0.42027037104216425, 2.178242513687377, -1.526022531001938, -2.559186549835382, 2.114662728368936, 2.087936066989978, 0.7610469841037554, 3.1090098597892273, 0.4006039324836421, 3.1069649976511053, 1.8012672154816713, 0.5695265489909448, -2.77394600557009, -1.5567065154837294, -0.9443614233970088, 2.2647812845224053, -3.57309947272525, 0.5409027672256352, 2.425316199161032, 0.16790448062740732, 1.1584460466449906, -2.4993058076042263, 0.8206079200349031, 0.7528221404227818, 1.353149399622874, -2.1365245400174433, -2.372828756091764, -2.5847407449073145, -0.6423548068234998, 1.8509304528464354, -1.6388536401478402, 1.462231976003448, 0.605305856716617, 1.0233566302172725, -1.7465358497919055, 0.32976779077893226, -0.7074764414799524, 2.9589238120929138]\n",
    "        # coefficients[1:Int(l_coeff / 2)] = [opt_coefficients[1:Int(length(opt_coefficients)/4)]..., (zeros(Int(l_coeff / 4 - length(opt_coefficients)/4)))..., opt_coefficients[Int(length(opt_coefficients)/4)+1:Int(length(opt_coefficients)/2)]..., (zeros(Int(l_coeff / 4 - length(opt_coefficients)/4)))...]\n",
    "        # coefficients[Int(l_coeff / 2) + 1:end] = [opt_coefficients[Int(length(opt_coefficients)/2)+1:Int(3*length(opt_coefficients)/4)]..., zeros(Int(l_coeff / 4 - length(opt_coefficients)/4))..., opt_coefficients[Int(3*length(opt_coefficients)/4)+1:end]..., zeros(Int(l_coeff / 4 - length(opt_coefficients)/4))...]\n",
    "        coefficients[1:Int(l_coeff / 2)] = rand(Int(l_coeff / 2))*2 .-1\n",
    "        coefficients[Int(l_coeff / 2) + 1:end] = rand(Int(l_coeff / 2)) * 2 * pi .- pi\n",
    "        res_x = Optim.optimize(h, coefficients , LBFGS(), Optim.Options())\n",
    "        res_rx = Optim.optimize(f, coefficients , LBFGS(), Optim.Options())\n",
    "        push!(blocks, depth)\n",
    "        push!(it_costs_x,Optim.minimum(res_x))\n",
    "        push!(it_costs_rx,Optim.minimum(res_rx))\n",
    "        push!(coefficients_x,Optim.minimizer(res_x))\n",
    "        push!(coefficients_rx,Optim.minimizer(res_rx))\n",
    "    end\n",
    "end"
   ]
  },
  {
   "cell_type": "code",
   "execution_count": 63,
   "metadata": {},
   "outputs": [
    {
     "data": {
      "text/plain": [
       "\"../../data/rx_gate.txt\""
      ]
     },
     "metadata": {},
     "output_type": "display_data"
    }
   ],
   "source": [
    "df_x = DataFrame(fidelity=it_costs_x, blocks=blocks, coefficients=coefficients_x)\n",
    "df_rx = DataFrame(fidelity=it_costs_rx, blocks=blocks, coefficients=coefficients_rx)\n",
    "CSV.write(\"../../data/x_gate.txt\", df_x)\n",
    "CSV.write(\"../../data/rx_gate.txt\", df_rx)"
   ]
  },
  {
   "attachments": {},
   "cell_type": "markdown",
   "metadata": {},
   "source": [
    "# stoc gradient descent"
   ]
  },
  {
   "cell_type": "code",
   "execution_count": null,
   "metadata": {},
   "outputs": [],
   "source": [
    "costs_final = []\n",
    "for depth in 64:8:64\n",
    "    it_costs = []\n",
    "    for iteration in 1:3\n",
    "        l_coeff = depth * 4\n",
    "        coefficients = zeros(l_coeff)\n",
    "        coefficients[1:Int(l_coeff / 2)] = rand(Int(l_coeff / 2))*2 .-1\n",
    "        coefficients[Int(l_coeff / 2) + 1:end] = rand(Int(l_coeff / 2)) * 2 * pi .- pi\n",
    "        coefficients = [0.8690408632149678, -0.7236416401971805, -0.0908719850588177, 0.8258628776740167, 0.9056445769487957, -0.8220939210081029, 0.29601861853616424, 0.7813552229187792, 0.9837594907380149, -0.10686709645389225, -0.6656407250459772, 0.992278727387623, -0.4893461915705191, -1.093993962903741, 0.4845407107960842, -0.33857113975897773, -0.438797994554033, -0.5977365084149797, 0.20827466739249778, -0.8959109454265681, 0.5383716212207733, 1.3219169845803183, 0.8578064725920909, -0.7256810259845291, 0.37256259960242327, -1.2114316020995235, -0.282902962907945, -0.26590734759323503, 0.5548879566071089, 0.6803304120122661, -1.0549066677248888, 0.4013045273205048, 0.039560949181603355, 1.0529793828938236, -0.044290684794351255, -0.21790564460826214, 0.7641852601374161, 0.9310403877890154, -0.24519813978115026, 0.6528372052655407, -1.2521949229101696, -0.21682088705693697, 0.10911919627652335, -0.31451889968452584, 0.07428438971871276, 0.8168118972903352, -0.4306959382326172, -1.31201487771103, -0.5551956081923786, -0.24938592347753555, 0.7261072879386111, 0.3449918944429117, 1.0218022420859423, 0.9586632779953215, 0.9830015979456759, 1.1800344827793208, -0.6015729201693757, 0.703237921035128, -0.8659071933834304, 0.7405471254766851, 0.5502125342538493, -0.1279261558044507, 0.5436405284887846, 0.7561715320031175, -1.8294742583884145, 0.8274849373492085, -0.5023928927013781, -0.2106775708083146, -0.25623844263590434, -0.13700323024471564, -0.5427032401830472, 0.8481733035397572, 2.857123893083541, 0.6722772567617452, 3.3393904892971857, -2.7921664352181588, -1.4927954172559996, 0.3500341652427946, 2.178592973947075, 2.0048971146113073, -1.3350642362244973, 0.9711032282505817, 2.3816703973089663, -2.6138104747765247, 2.5134841942159674, -1.9047337097507626, 2.2260526473073146, -1.8796539188004344, 1.6517968966982153, 1.4620145034237324, 1.8366376463164558, -1.3614199467978896, -1.3067881525922014, -0.8271088962045482, -1.3523594955345797, -0.8216607978872826, -1.015386302411769, -1.4951025575413324, 2.199130944918348, -2.098541424724332, 1.8106459325712736, -2.7528680557326783, 1.434522172097638, 0.23235089810469334, -1.3427653914596476, -2.1865004319117882, -4.499311913607152, 3.5233665940145906, 0.11147763894762594, 1.7253123134995119, 0.3069539608771961, 0.7456729443236856, 0.9675539799184902, -2.0807423878078692, -0.21274877285924562, -2.4625967782327733, -0.8958201449217154, -0.16506248177386307, -0.7781344488152088, 0.5657089824636788, 0.49103015856219095, -1.893089322888448, 1.8586226474868552, 1.3367905090651682, -0.845322993521433, -2.414547922619251, -2.0653040809018646, 2.13700608386267, 0.6560460356595541, 1.2398223292845443, 2.962599533837159, 1.1325322497723143, 3.463842619105753, -3.938053691752728, -0.9569023982656585, 1.605238908260515, 0.6974820952130029, 2.5406564651431, 2.285077612710168, 0.027961409188739638, 1.0736422395589698, 2.4870006619787572, 0.692378916991639, -2.718696870022777]\n",
    "        beta1 = 0.8\n",
    "        beta2 = 0.999\n",
    "        alpha = 0.01\n",
    "        m = zeros(length(coefficients))\n",
    "        v = zeros(length(coefficients))\n",
    "        coeffs_stored = []\n",
    "        costs = []\n",
    "        cost_prev_it = cost(coefficients, RX, N*2)  #cost_state_prep(coefficients, N * 2, ψ_initial, ψ_final_x_gate) #\n",
    "\n",
    "        for i in 1:1000\n",
    "            grad = gradient(coefficients, RX, N * 2, 1e-8, cost_prev_it) #gradient_state_prep(coefficients, N*2, 1e-8, cost_prev_it, ψ_initial, ψ_final_x_gate) #\n",
    "            for n in 1:length(coefficients)\n",
    "                m[n] = beta1 * m[n] + ( 1 - beta1 ) * grad[n]\n",
    "                v[n] = beta2 * v[n] + ( 1 - beta2 ) * grad[n]^2\n",
    "                m_norm = m[n] / ( 1 - beta1^i )\n",
    "                v_norm = v[n] / ( 1 - beta2^i )\n",
    "                coefficients[n] = coefficients[n] - alpha * m_norm / (sqrt(v_norm) + 1e-8)\n",
    "            end\n",
    "            cost_prev_it = cost(coefficients, RX, N*2)# cost_state_prep(coefficients, N * 2, ψ_initial, ψ_final_x_gate) #\n",
    "            push!(costs, cost_prev_it)\n",
    "\n",
    "            if i % 50 == 0\n",
    "                if norm(grad) < 1e-6\n",
    "                    break\n",
    "                end\n",
    "                println(i)\n",
    "                println(cost_prev_it)\n",
    "            end\n",
    "        end\n",
    "        println(\"finished: d = \", depth)\n",
    "        println(costs[end])\n",
    "        push!(it_costs,costs[end])\n",
    "        println(coefficients)\n",
    "    end\n",
    "    println(it_costs)\n",
    "    println(minimum(it_costs))\n",
    "    push!(costs_final, minimum(it_costs))\n",
    "end\n",
    "costs_final"
   ]
  },
  {
   "cell_type": "code",
   "execution_count": 151,
   "metadata": {},
   "outputs": [],
   "source": []
  }
 ],
 "metadata": {
  "kernelspec": {
   "display_name": "Julia 1.9.1",
   "language": "julia",
   "name": "julia-1.9"
  },
  "language_info": {
   "file_extension": ".jl",
   "mimetype": "application/julia",
   "name": "julia",
   "version": "1.9.1"
  },
  "orig_nbformat": 4
 },
 "nbformat": 4,
 "nbformat_minor": 2
}
