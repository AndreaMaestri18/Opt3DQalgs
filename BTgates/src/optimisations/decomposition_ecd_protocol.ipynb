{
 "cells": [
  {
   "cell_type": "code",
   "execution_count": 2,
   "metadata": {},
   "outputs": [
    {
     "data": {
      "text/plain": [
       "U2 (generic function with 1 method)"
      ]
     },
     "metadata": {},
     "output_type": "display_data"
    }
   ],
   "source": [
    "include(\"../Algebra/Gradients.jl\")\n",
    "include(\"../Algebra/Hamiltonians.jl\")\n",
    "include(\"../Algebra/Matrices.jl\")\n",
    "include(\"../Algebra/Propagators.jl\")\n",
    "include(\"../Amplitudes/Chebyshev.jl\")\n",
    "include(\"../Costs/Costs.jl\")\n",
    "include(\"../Gates/Xgate.jl\")"
   ]
  },
  {
   "cell_type": "code",
   "execution_count": 3,
   "metadata": {},
   "outputs": [],
   "source": [
    "using LinearAlgebra, Optim, Plots\n",
    "using BenchmarkTools, Distributions"
   ]
  },
  {
   "cell_type": "code",
   "execution_count": 4,
   "metadata": {},
   "outputs": [
    {
     "data": {
      "text/plain": [
       "1"
      ]
     },
     "metadata": {},
     "output_type": "display_data"
    }
   ],
   "source": [
    "ω_c = 5\n",
    "ω_q = 2\n",
    "χ = 3e-3\n",
    "N = 8\n",
    "amp_c = 1\n",
    "amp_q = 1"
   ]
  },
  {
   "cell_type": "code",
   "execution_count": 5,
   "metadata": {},
   "outputs": [
    {
     "data": {
      "text/plain": [
       "16-element Vector{Float64}:\n",
       " 0.0\n",
       " 0.007453026772634228\n",
       " 0.0\n",
       " 0.5671885537897892\n",
       " 0.0\n",
       " 0.44023017967556405\n",
       " 0.0\n",
       " 0.10499409720737328\n",
       " 0.0\n",
       " 0.3690159510632338\n",
       " 0.0\n",
       " 0.48579255984472147\n",
       " 0.0\n",
       " 0.06146682731998171\n",
       " 0.0\n",
       " 0.3122016513342436"
      ]
     },
     "metadata": {},
     "output_type": "display_data"
    }
   ],
   "source": [
    "I_qubit = Matrix(I,2,2)\n",
    "I_cavity = Matrix(I,N,N)\n",
    "X_gate = kron(x_gate(N, Array[[3,4]]), I_qubit)\n",
    "\n",
    "X_gate = kron(x_gate(N, Array[[3,4], [5,6], [7,8]]), I_qubit)\n",
    "\n",
    "θ = π/2.5\n",
    "RZ = kron(Rz(N, Array[[3,4]], θ/2), I_qubit)\n",
    "RX = kron(Rx(N, Array[[3,4]], θ/2), I_qubit)\n",
    "Udue = kron(U2(N, Array[[3,4]], [θ/2 θ/3 θ/4] ), I_qubit)\n",
    "\n",
    "sx = kron(I_cavity, [0 1; 1 0])\n",
    "sy = kron(I_cavity, [0 -1im; 1im 0])\n",
    "\n",
    "ψ_initial = rand(N)\n",
    "ψ_initial = kron(ψ_initial/norm(ψ_initial), [0,1])"
   ]
  },
  {
   "cell_type": "code",
   "execution_count": 6,
   "metadata": {},
   "outputs": [
    {
     "data": {
      "text/plain": [
       "16-element Vector{Float64}:\n",
       " 0.0\n",
       " 0.007453026772634228\n",
       " 0.0\n",
       " 0.5671885537897892\n",
       " 0.0\n",
       " 0.10499409720737328\n",
       " 0.0\n",
       " 0.44023017967556405\n",
       " 0.0\n",
       " 0.48579255984472147\n",
       " 0.0\n",
       " 0.3690159510632338\n",
       " 0.0\n",
       " 0.3122016513342436\n",
       " 0.0\n",
       " 0.06146682731998171"
      ]
     },
     "metadata": {},
     "output_type": "display_data"
    }
   ],
   "source": [
    "ψ_final_u = Udue * ψ_initial\n",
    "ψ_final_x = RX * ψ_initial\n",
    "ψ_final_x_gate = X_gate * ψ_initial"
   ]
  },
  {
   "cell_type": "code",
   "execution_count": 7,
   "metadata": {},
   "outputs": [
    {
     "data": {
      "text/plain": [
       "([0.0 0.0 … 0.0 0.0; 0.0 0.0 … 0.0 0.0; … ; 0.0 0.0 … 0.0 0.0; 0.0 0.0 … 0.0 0.0], [0.0 0.0 … 0.0 0.0; 0.0 0.0 … 0.0 0.0; … ; 0.0 0.0 … 0.0 0.0; 0.0 0.0 … 0.0 0.0], [0 1 … 0 0; 0 0 … 0 0; … ; 0 0 … 0 1; 0 0 … 0 0], [0 0 … 0 0; 1 0 … 0 0; … ; 0 0 … 0 0; 0 0 … 1 0], [1 0 … 0 0; 0 -1 … 0 0; … ; 0 0 … 1 0; 0 0 … 0 -1])"
      ]
     },
     "metadata": {},
     "output_type": "display_data"
    }
   ],
   "source": [
    "# generating matrices\n",
    "a,adag,sp,sm,sz = generate_matrices(N)"
   ]
  },
  {
   "cell_type": "code",
   "execution_count": 40,
   "metadata": {},
   "outputs": [
    {
     "data": {
      "text/plain": [
       "16×16 Matrix{Float64}:\n",
       " 0.0  0.0  0.0  0.0  0.0  0.0  0.0  0.0  …  0.0  0.0  0.0  0.0  0.0  0.0  0.0\n",
       " 0.0  0.0  0.0  0.0  0.0  0.0  0.0  0.0     0.0  0.0  0.0  0.0  0.0  0.0  0.0\n",
       " 0.0  0.0  0.0  0.0  0.0  0.0  0.0  0.0     0.0  0.0  0.0  0.0  0.0  0.0  0.0\n",
       " 0.0  0.0  0.0  0.0  0.0  0.0  0.0  0.0     0.0  0.0  0.0  0.0  0.0  0.0  0.0\n",
       " 0.0  0.0  0.0  0.0  0.0  0.0  0.0  0.0     0.0  0.0  0.0  0.0  0.0  0.0  0.0\n",
       " 0.0  0.0  0.0  0.0  0.0  0.0  0.0  0.0  …  0.0  0.0  0.0  0.0  0.0  0.0  0.0\n",
       " 0.0  0.0  0.0  0.0  0.0  0.0  0.0  0.0     0.0  0.0  0.0  0.0  0.0  0.0  0.0\n",
       " 0.0  0.0  0.0  0.0  0.0  0.0  0.0  0.0     0.0  0.0  0.0  0.0  0.0  0.0  0.0\n",
       " 0.0  0.0  0.0  0.0  0.0  0.0  0.0  0.0     0.0  0.0  0.0  0.0  0.0  0.0  0.0\n",
       " 0.0  0.0  0.0  0.0  0.0  0.0  0.0  0.0     0.0  0.0  0.0  0.0  0.0  0.0  0.0\n",
       " 0.0  0.0  0.0  0.0  0.0  0.0  0.0  0.0  …  0.0  0.0  0.0  0.0  0.0  0.0  0.0\n",
       " 0.0  0.0  0.0  0.0  0.0  0.0  0.0  0.0     0.0  0.0  0.0  0.0  0.0  0.0  0.0\n",
       " 0.0  0.0  0.0  0.0  0.0  0.0  0.0  0.0     0.0  0.0  0.0  0.0  0.0  0.0  0.0\n",
       " 0.0  0.0  0.0  0.0  0.0  0.0  0.0  0.0     0.0  0.0  0.0  0.0  0.0  0.0  0.0\n",
       " 0.0  0.0  0.0  0.0  0.0  0.0  0.0  0.0     0.0  0.0  0.0  0.0  0.0  0.0  0.0\n",
       " 0.0  0.0  0.0  0.0  0.0  0.0  0.0  0.0  …  0.0  0.0  0.0  0.0  0.0  0.0  0.0"
      ]
     },
     "metadata": {},
     "output_type": "display_data"
    }
   ],
   "source": [
    "disp(α) = exp((α * adag - α' * a))\n",
    "ECD(β) = disp(β / 2) * sp + disp(- β / 2) * sm\n",
    "ROT(ϕ, θ) = exp(-1im * θ / 2 * ( sx * cos(ϕ) + sy * sin(ϕ) )) "
   ]
  },
  {
   "cell_type": "code",
   "execution_count": 9,
   "metadata": {},
   "outputs": [
    {
     "data": {
      "text/plain": [
       "gradient_state_prep (generic function with 1 method)"
      ]
     },
     "metadata": {},
     "output_type": "display_data"
    }
   ],
   "source": [
    "function cost(coefficients, unitary, N)\n",
    "\n",
    "    L = length(coefficients)\n",
    "    β_i = coefficients[1: Int(L/4)]\n",
    "    β_r = coefficients[Int(L/4) + 1 : Int(L/2)]\n",
    "\n",
    "    θs = coefficients[Int(L/2) + 1 : Int(3 * L/4)]\n",
    "    ϕs = coefficients[Int(3 * L/4) + 1 : end]\n",
    "\n",
    "    propagator = Matrix{ComplexF64}(I,N,N)\n",
    "\n",
    "    for i in 1:length(β_i)\n",
    "        propagator = propagator * ROT(ϕs[i], θs[i]) * ECD(β_i[i] + β_r[i] * 1im)\n",
    "    end\n",
    "\n",
    "    return 1 - norm(tr(propagator*unitary') / N)^2\n",
    "    \n",
    "end\n",
    "\n",
    "function cost_ecd_rot_ecd(coefficients, unitary, N)\n",
    "\n",
    "    L = length(coefficients)\n",
    "    β_i = coefficients[1: Int(L/4)]\n",
    "    β_r = coefficients[Int(L/4) + 1 : Int(L/2)]\n",
    "\n",
    "    θs = coefficients[Int(L/2) + 1 : Int(3 * L/4)]\n",
    "    ϕs = coefficients[Int(3 * L/4) + 1 : end]\n",
    "\n",
    "    propagator = Matrix{ComplexF64}(I,N,N)\n",
    "\n",
    "    for i in 1:length(β_i)\n",
    "        propagator = propagator * ECD(β_i[i] + β_r[i] * 1im) * ROT(ϕs[i], θs[i]) * ECD(β_i[i] + β_r[i] * 1im)'\n",
    "    end\n",
    "\n",
    "    return 1 - norm(tr(propagator*unitary') / N)^2\n",
    "    \n",
    "end\n",
    "\n",
    "function gradient(coefficients, unitary, N, h, cost_before_increment)\n",
    "\n",
    "    L = length(coefficients)\n",
    "    gradient = zeros(L)\n",
    "\n",
    "    for i in 1:L\n",
    "        coeffs_copy = copy(coefficients)\n",
    "        coeffs_copy[i] = coefficients[i] + h\n",
    "        gradient[i] = (cost(coeffs_copy, unitary, N) - cost_before_increment) / h\n",
    "    end\n",
    "\n",
    "    return gradient\n",
    "\n",
    "end\n",
    "\n",
    "function gate_composition(coefficients, N, l_coeff)\n",
    "\n",
    "    L = length(coefficients)\n",
    "    β_i = coefficients[1: Int(L/4)]\n",
    "    β_r = coefficients[Int(L/4) + 1 : Int(L/2)]\n",
    "\n",
    "    θs = coefficients[Int(L/2) + 1 : Int(3 * L/4)]\n",
    "    ϕs = coefficients[Int(3 * L/4) + 1 : end]\n",
    "\n",
    "    propagator = Matrix{ComplexF64}(I,N,N)\n",
    "\n",
    "    for i in 1:length(β_i)\n",
    "        propagator = propagator * ROT(ϕs[i], θs[i]) * ECD(β_i[i] + β_r[i] * 1im)\n",
    "    end\n",
    "\n",
    "    return propagator\n",
    "    \n",
    "end\n",
    "\n",
    "function cost_state_prep(coefficients, N, ψ_n, ψ_m)\n",
    "\n",
    "    L = length(coefficients)\n",
    "    β_i = coefficients[1: Int(L/4)]\n",
    "    β_r = coefficients[Int(L/4) + 1 : Int(L/2)]\n",
    "\n",
    "    θs = coefficients[Int(L/2) + 1 : Int(3 * L/4)]\n",
    "    ϕs = coefficients[Int(3 * L/4) + 1 : end]\n",
    "\n",
    "    propagator = Matrix{ComplexF64}(I,N,N)\n",
    "\n",
    "    for i in 1:length(β_i)\n",
    "        propagator = propagator * ROT(ϕs[i], θs[i]) * ECD(β_i[i] + β_r[i] * 1im)\n",
    "    end\n",
    "\n",
    "    return 1 - norm(ψ_m' * propagator * ψ_n)^2\n",
    "    \n",
    "end\n",
    "\n",
    "\n",
    "function gradient_state_prep(coefficients, N, h, cost_before_increment, ψ_n, ψ_m)\n",
    "\n",
    "    L = length(coefficients)\n",
    "    gradient = zeros(L)\n",
    "\n",
    "    for i in 1:L\n",
    "        coeffs_copy = copy(coefficients)\n",
    "        coeffs_copy[i] = coefficients[i] + h\n",
    "        gradient[i] = (cost_state_prep(coeffs_copy, N, ψ_n, ψ_m) - cost_before_increment) / h\n",
    "    end\n",
    "\n",
    "    return gradient\n",
    "\n",
    "end"
   ]
  },
  {
   "cell_type": "code",
   "execution_count": 10,
   "metadata": {},
   "outputs": [
    {
     "data": {
      "text/plain": [
       "g (generic function with 1 method)"
      ]
     },
     "metadata": {},
     "output_type": "display_data"
    }
   ],
   "source": [
    "f(x) = cost(x, RX, N * 2)\n",
    "g(x) = cost_state_prep(x, N * 2, ψ_initial, ψ_final_x_gate)"
   ]
  },
  {
   "cell_type": "code",
   "execution_count": 42,
   "metadata": {},
   "outputs": [
    {
     "name": "stdout",
     "output_type": "stream",
     "text": [
      "blocks: 40 iterations :1\n",
      "Iter     Function value   Gradient norm \n"
     ]
    },
    {
     "name": "stdout",
     "output_type": "stream",
     "text": [
      "     0     9.942017e-01     3.195584e-02\n",
      " * time: 0.0003159046173095703\n"
     ]
    },
    {
     "name": "stdout",
     "output_type": "stream",
     "text": [
      "    10     6.210337e-01     2.655898e-01\n",
      " * time: 63.365991830825806\n"
     ]
    },
    {
     "name": "stdout",
     "output_type": "stream",
     "text": [
      "    20     1.148051e-01     1.554372e-01\n",
      " * time: 113.85313200950623\n"
     ]
    },
    {
     "name": "stdout",
     "output_type": "stream",
     "text": [
      "    30     3.682181e-02     6.208728e-02\n",
      " * time: 174.35538697242737\n"
     ]
    },
    {
     "name": "stdout",
     "output_type": "stream",
     "text": [
      "    40     2.282968e-02     2.148632e-02\n",
      " * time: 242.27400398254395\n"
     ]
    },
    {
     "name": "stdout",
     "output_type": "stream",
     "text": [
      "    50     2.020492e-02     1.437741e-02\n",
      " * time: 310.7334167957306\n"
     ]
    },
    {
     "name": "stdout",
     "output_type": "stream",
     "text": [
      "    60     1.867892e-02     9.092319e-03\n",
      " * time: 378.1967649459839\n"
     ]
    },
    {
     "name": "stdout",
     "output_type": "stream",
     "text": [
      "    70     1.802026e-02     7.167379e-03\n",
      " * time: 445.9120988845825\n"
     ]
    },
    {
     "name": "stdout",
     "output_type": "stream",
     "text": [
      "    80     1.776854e-02     3.984332e-03\n",
      " * time: 513.5821368694305\n"
     ]
    },
    {
     "name": "stdout",
     "output_type": "stream",
     "text": [
      "    90     1.744758e-02     5.670889e-03\n",
      " * time: 583.899829864502\n"
     ]
    },
    {
     "name": "stdout",
     "output_type": "stream",
     "text": [
      "   100     1.725994e-02     3.925583e-03\n",
      " * time: 654.2286698818207\n"
     ]
    },
    {
     "name": "stdout",
     "output_type": "stream",
     "text": [
      "   110     1.707745e-02     4.747729e-03\n",
      " * time: 724.7593739032745\n"
     ]
    },
    {
     "name": "stdout",
     "output_type": "stream",
     "text": [
      "   120     1.674440e-02     7.761616e-03\n",
      " * time: 796.0312578678131\n"
     ]
    },
    {
     "name": "stdout",
     "output_type": "stream",
     "text": [
      "   130     1.652971e-02     4.489334e-03\n",
      " * time: 867.0279109477997\n"
     ]
    },
    {
     "name": "stdout",
     "output_type": "stream",
     "text": [
      "   140     1.632442e-02     4.436244e-03\n",
      " * time: 938.4965188503265\n"
     ]
    },
    {
     "name": "stdout",
     "output_type": "stream",
     "text": [
      "   150     1.615076e-02     4.818667e-03\n",
      " * time: 1011.2166697978973\n"
     ]
    },
    {
     "name": "stdout",
     "output_type": "stream",
     "text": [
      "   160     1.595260e-02     3.841422e-03\n",
      " * time: 1081.9592897891998\n"
     ]
    },
    {
     "name": "stdout",
     "output_type": "stream",
     "text": [
      "   170     1.584285e-02     2.567603e-03\n",
      " * time: 1152.7366127967834\n"
     ]
    },
    {
     "name": "stdout",
     "output_type": "stream",
     "text": [
      "   180     1.571186e-02     5.096326e-03\n",
      " * time: 1221.320702791214\n"
     ]
    },
    {
     "name": "stdout",
     "output_type": "stream",
     "text": [
      "   190     1.559498e-02     3.535631e-03\n",
      " * time: 1293.0019869804382\n"
     ]
    },
    {
     "name": "stdout",
     "output_type": "stream",
     "text": [
      "   200     1.542999e-02     3.746581e-03\n",
      " * time: 1361.888398885727\n"
     ]
    },
    {
     "name": "stdout",
     "output_type": "stream",
     "text": [
      "0.015429985890194509\n",
      "[0.7039137998650173, -0.2116574631457655, -2.4772064190972856, -0.2513316289421471, 0.836261533910422, -0.31856952288438894, -0.13907524620657155, 0.30497518756875897, 0.6020592529950957, -0.9377737095738727, 0.0009127737345543903, 0.17524652537632154, 0.0495157888451895, -0.10609114331162385, 0.30648158473565607, 0.5370497007074168, -0.03958991389947197, -0.04876761792279877, 0.14498910048828278, -0.18249754480343897, 0.14223149702626323, -0.21006844902785785, -0.26612617056015864, 0.19760891027829727, 0.29038297305650806, -0.23345263917084022, 0.1888178559856714, 0.38912693853239627, 0.29516552616124253, 0.359690708649233, -1.5676559955524139, -1.8115485410717505, 0.2597405066722436, 0.19930343201999673, -0.25001248947377713, 0.04187372951382802, -0.008939151958867518, 0.18385586451282124, 0.3136690264642119, 0.563488229485811, 0.11897375133268893, -0.06311793317420807, -0.4410425615172428, -0.08699877702619846, -0.03500208371811297, -0.01968202176079141, 0.003697520277981008, 0.19403657043180017, -0.09822579643905183, 0.11382887305050833, 0.8422582846416633, -0.18243974216012587, 0.0487205317221328, -0.21297286596427173, -0.34764987622760696, -0.7134197492476867, 0.44419991231947176, 0.13294581838648045, 0.3799577474503365, -0.5344488336939615, -0.41008145834105303, -0.3087050125784431, -0.4439551775293311, -0.1323894279067542, 0.648041271802173, 0.33929278787114425, -0.3371797388691104, 0.5851241872379653, -0.04434185839784107, -0.00038557066248456407, -0.28128466795003365, -0.35658484470112806, 0.06256413751892681, 0.2732045057631769, -0.13776244484240377, 0.2576901504176357, 0.1285524064617973, -0.21302705410322573, 0.35869053053276984, 0.5955650413950595, 1.8598892115713463, 0.006312272645170955, 3.1339840833407986, -3.041992772815212, 0.12489143555403352, -2.913046611794062, -2.5548591259642133, -1.3243371859686273, 2.9635145111213292, -3.218796813802237, -0.32538894078097297, 2.326331560496968, -1.9242172566066937, -1.8723665640892262, 0.6817872624379826, -0.193119664052024, -1.8122359675245363, -1.0487497040845852, -3.447519366172233, -2.178047635365296, 1.0746319487188012, 3.478375047817798, -0.34976032895555353, -3.0077261987246384, 1.6593746089077028, -1.4680783075752786, 3.0995891713218744, -2.161621602325297, -0.8593705968771801, 1.1404949971865992, 0.37429575738448234, -3.146551348211142, -0.3416985615772941, 1.3450868119752495, 2.5448948861784286, -2.4039336616738276, 0.9845374370236941, -1.6440386423462436, -1.7363426670459081, 0.006030249511255137, 3.3446102509153253, -1.8538759668001483, -2.1969079012672648, 0.8860011254605513, 2.348818814513138, -3.4039568638457385, -0.5600566088106631, 3.396642946748819, 2.9693417270032536, -1.348437287086069, 2.8290064334552674, 1.9658331402952207, -3.576986374048206, -0.6877250474357485, -0.06715342139042892, -2.640772603134693, -0.6031564571285707, 0.2168424192018434, 1.0783608134959584, 2.290021452288481, -1.1453819254139066, 1.2156540751884415, -1.1656186607803751, -2.328896981471411, -0.30888787735519485, -0.27868626239102434, -0.12593743419301764, 0.2019097486492535, -0.06788154694626246, 0.014632453170975, -0.005293782984385922, -0.5539843490012768, 0.3085878200546561, 0.17831537662212357, -0.06088337837133812, 0.14144562087439524, -0.3939212941728831, 0.21306673905715223, -0.06338653328477527, -0.1720821469308449]\n",
      "0.015429985890194509\n"
     ]
    }
   ],
   "source": [
    "costs = []\n",
    "for depth in 40:8:40\n",
    "    it_costs = []\n",
    "    for iteration in 1:1\n",
    "        println(\"blocks: \", depth,\" iterations :\", iteration)\n",
    "        l_coeff = depth * 4\n",
    "        coefficients = zeros(l_coeff)\n",
    "        opt_coefficients = [0.2500893876465987, 0.24772213175458602, -2.216980236737755, -0.22605456138931265, 0.5713324191103684, -0.47223890754460046, 0.17106471446861152, 0.08811951397913012, 0.4501927004803899, -0.9257430236964918, -0.25558551879559765, 0.09997017969959682, -0.12396628223204423, -0.3377828045444183, 0.31760702886740777, 0.659301590192822, 0.22982193941111242, 0.21233158284210046, -0.5612305910198453, 0.2051008925925025, 0.052418632295470426, -0.11755837533449529, -0.6579161837824333, 0.6714469369630117, 0.006471462738552314, -0.5741520396112727, 0.21313662344139656, 0.7567605165977416, 0.40883443305096, 0.3923030188502918, -1.1993635865955081, -1.1017601138910076, 0.3489144273862663, 0.3539602169294391, -1.0994208335153213, 0.1034958585167782, -0.6234139795132616, 0.5196380518067016, -0.47275758775751064, 0.33886874642306014, -0.00756374466839802, -0.4714567631718482, -0.04905826975450651, -0.381526493298742, 0.535810564331, 0.3907378055664532, -0.21271971479969243, -0.495203205121086, 0.060177433993175315, -0.5512415423096849, 0.9130916817890923, 0.1510457610918632, 0.12112216926344488, -0.24461234696448772, -0.7577170731136275, -1.009924910282126, 0.04192637434384756, 0.9285545430383368, 0.6353833215083303, -0.7289038131381561, -0.6585973799551663, -0.46455727003191144, -0.6398958836026388, -0.5247853072794502, 2.164384373961394, 0.03197216703848542, 2.1768882487832943, -2.9057307795490157, 0.2667687223070538, -2.5788631622347045, -1.845250779993158, -1.8590704850360174, 2.5576211174700534, -3.1074087103861414, -0.42188898754349125, 2.9162851312384865, -2.0031939267912726, -1.2948408748585236, 0.8909472411389935, -0.2244664340315024, -1.466209766964299, -1.3808511607296632, -3.5197110925840276, -1.423795343347976, 1.1175826270654081, 3.117077721044757, -0.9120695866740083, -3.197796455948583, 1.449943256608, -1.4802008321138975, 3.121825356795982, -2.009223807936916, -1.0793848195915419, 1.2903779901578778, 0.5537776991553981, -3.1278737881685617, -0.9255387659462153, 1.4844934034116912, 2.2194108330204356, -2.2080308454758617, 1.0433925715029868, -1.3953033927337726, -1.9048522203354048, 0.30086985454213705, 2.921716559333701, -1.8128839369721241, -2.031929887764076, 0.882125443935499, 2.4459842856866003, -3.5634218989841826, -1.4732555584354343, 3.018988494020728, 3.327132381723104, -1.1633286694952374, 2.8876347740783315, 2.0707687942277966, -3.9096728996327283, -1.2512963379726292, -0.03140288641279104, -2.6959450626715378, -0.423139186092174, 0.38251775209709266, 0.8038731335339105, 2.2692896433561405, -1.1819995585789678, 1.0190884576979866, -1.2056156203721584, -2.111902214107587]   \n",
    "        coefficients[1:Int(l_coeff / 2)] = [opt_coefficients[1:Int(length(opt_coefficients)/2)]..., (rand(Int(l_coeff / 2 - length(opt_coefficients)/2))*2 .-1)...]\n",
    "        coefficients[Int(l_coeff / 2) + 1:end] = [opt_coefficients[Int(length(opt_coefficients)/2)+1:end]..., zeros(Int(l_coeff / 2 - length(opt_coefficients)/2))...]\n",
    "        res = Optim.optimize(f, coefficients , LBFGS(), Optim.Options(show_trace=true, show_every=10, iterations = 200))\n",
    "        push!(it_costs,Optim.minimum(res))\n",
    "        println(Optim.minimum(res))\n",
    "        println(Optim.minimizer(res))\n",
    "    end\n",
    "    println(minimum(it_costs))\n",
    "    push!(costs,minimum(it_costs))\n",
    "end"
   ]
  },
  {
   "attachments": {},
   "cell_type": "markdown",
   "metadata": {},
   "source": [
    "# stoc gradient descent"
   ]
  },
  {
   "cell_type": "code",
   "execution_count": 16,
   "metadata": {},
   "outputs": [
    {
     "ename": "InterruptException",
     "evalue": "InterruptException:",
     "output_type": "error",
     "traceback": [
      "InterruptException:\n",
      "\n",
      "Stacktrace:\n",
      " [1] Array\n",
      "   @ ./boot.jl:461 [inlined]\n",
      " [2] Array\n",
      "   @ ./boot.jl:469 [inlined]\n",
      " [3] similar\n",
      "   @ ./array.jl:378 [inlined]\n",
      " [4] *(A::Matrix{ComplexF64}, B::Matrix{Int64})\n",
      "   @ LinearAlgebra /Applications/Julia-1.8.app/Contents/Resources/julia/share/julia/stdlib/v1.8/LinearAlgebra/src/matmul.jl:141\n",
      " [5] ECD(β::ComplexF64)\n",
      "   @ Main ~/Desktop/Thesis_julia/BTgates/src/optimisations/decomposition_ecd_protocol.ipynb:2\n",
      " [6] cost(coefficients::Vector{Float64}, unitary::Matrix{ComplexF64}, N::Int64)\n",
      "   @ Main ~/Desktop/Thesis_julia/BTgates/src/optimisations/decomposition_ecd_protocol.ipynb:13\n",
      " [7] gradient(coefficients::Vector{Float64}, unitary::Matrix{ComplexF64}, N::Int64, h::Float64, cost_before_increment::Float64)\n",
      "   @ Main ~/Desktop/Thesis_julia/BTgates/src/optimisations/decomposition_ecd_protocol.ipynb:47\n",
      " [8] top-level scope\n",
      "   @ ~/Desktop/Thesis_julia/BTgates/src/optimisations/decomposition_ecd_protocol.ipynb:19"
     ]
    }
   ],
   "source": [
    "costs_final = []\n",
    "for depth in 32:8:64\n",
    "    it_costs = []\n",
    "    for iteration in 1:1\n",
    "        l_coeff = depth * 4\n",
    "        coefficients = zeros(l_coeff)\n",
    "        coefficients[1:Int(l_coeff / 2)] = rand(Int(l_coeff / 2))*2 .-1\n",
    "        coefficients[Int(l_coeff / 2) + 1:end] = rand(Int(l_coeff / 2)) * 2 * pi .- pi\n",
    "        beta1 = 0.8\n",
    "        beta2 = 0.999\n",
    "        alpha = 0.01\n",
    "        m = zeros(length(coefficients))\n",
    "        v = zeros(length(coefficients))\n",
    "        coeffs_stored = []\n",
    "        costs = []\n",
    "        cost_prev_it = cost(coefficients, RX, N*2)  #cost_state_prep(coefficients, N * 2, ψ_initial, ψ_final_x_gate) #\n",
    "\n",
    "        for i in 1:1000\n",
    "            grad = gradient(coefficients, RX, N * 2, 1e-8, cost_prev_it) #gradient_state_prep(coefficients, N*2, 1e-8, cost_prev_it, ψ_initial, ψ_final_x_gate) #\n",
    "            for n in 1:length(coefficients)\n",
    "                m[n] = beta1 * m[n] + ( 1 - beta1 ) * grad[n]\n",
    "                v[n] = beta2 * v[n] + ( 1 - beta2 ) * grad[n]^2\n",
    "                m_norm = m[n] / ( 1 - beta1^i )\n",
    "                v_norm = v[n] / ( 1 - beta2^i )\n",
    "                coefficients[n] = coefficients[n] - alpha * m_norm / (sqrt(v_norm) + 1e-8)\n",
    "            end\n",
    "            cost_prev_it = cost(coefficients, RX, N*2)# cost_state_prep(coefficients, N * 2, ψ_initial, ψ_final_x_gate) #\n",
    "            push!(costs, cost_prev_it)\n",
    "\n",
    "            if i % 50 == 0\n",
    "                if norm(grad) < 1e-6\n",
    "                    break\n",
    "                end\n",
    "                println(i)\n",
    "                println(cost_prev_it)\n",
    "            end\n",
    "        end\n",
    "        println(\"finished: d = \", depth)\n",
    "        println(costs[end])\n",
    "        push!(it_costs,costs[end])\n",
    "        println(coefficients)\n",
    "    end\n",
    "    println(it_costs)\n",
    "    println(minimum(it_costs))\n",
    "    push!(costs_final, minimum(it_costs))\n",
    "end\n",
    "costs_final"
   ]
  },
  {
   "cell_type": "code",
   "execution_count": null,
   "metadata": {},
   "outputs": [],
   "source": []
  }
 ],
 "metadata": {
  "kernelspec": {
   "display_name": "Julia 1.8.4",
   "language": "julia",
   "name": "julia-1.8"
  },
  "language_info": {
   "file_extension": ".jl",
   "mimetype": "application/julia",
   "name": "julia",
   "version": "1.8.4"
  },
  "orig_nbformat": 4
 },
 "nbformat": 4,
 "nbformat_minor": 2
}
