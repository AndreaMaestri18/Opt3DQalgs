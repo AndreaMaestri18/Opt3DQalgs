{
 "cells": [
  {
   "cell_type": "code",
   "execution_count": 31,
   "metadata": {},
   "outputs": [
    {
     "data": {
      "text/plain": [
       "U2 (generic function with 1 method)"
      ]
     },
     "metadata": {},
     "output_type": "display_data"
    }
   ],
   "source": [
    "include(\"../Algebra/Gradients.jl\")\n",
    "include(\"../Algebra/Hamiltonians.jl\")\n",
    "include(\"../Algebra/Matrices.jl\")\n",
    "include(\"../Algebra/Propagators.jl\")\n",
    "include(\"../Amplitudes/Chebyshev.jl\")\n",
    "include(\"../Costs/Costs.jl\")\n",
    "include(\"../Gates/Xgate.jl\")"
   ]
  },
  {
   "cell_type": "code",
   "execution_count": 32,
   "metadata": {},
   "outputs": [],
   "source": [
    "using LinearAlgebra, Optim\n",
    "using BenchmarkTools, Distributions, CSV, DataFrames"
   ]
  },
  {
   "cell_type": "code",
   "execution_count": 42,
   "metadata": {},
   "outputs": [
    {
     "data": {
      "text/plain": [
       "1"
      ]
     },
     "metadata": {},
     "output_type": "display_data"
    }
   ],
   "source": [
    "ω_c = 5\n",
    "ω_q = 2\n",
    "χ = 3e-3\n",
    "N = 8\n",
    "amp_c = 1\n",
    "amp_q = 1"
   ]
  },
  {
   "cell_type": "code",
   "execution_count": 43,
   "metadata": {},
   "outputs": [
    {
     "data": {
      "text/plain": [
       "16-element Vector{Float64}:\n",
       " 0.0\n",
       " 0.4532718747813395\n",
       " 0.0\n",
       " 0.2754868443968433\n",
       " 0.0\n",
       " 0.2162821383713512\n",
       " 0.0\n",
       " 0.32359073305380204\n",
       " 0.0\n",
       " 0.02427659260659347\n",
       " 0.0\n",
       " 0.4864281619445819\n",
       " 0.0\n",
       " 0.35896796806917347\n",
       " 0.0\n",
       " 0.4484450561870605"
      ]
     },
     "metadata": {},
     "output_type": "display_data"
    }
   ],
   "source": [
    "I_qubit = Matrix(I,2,2)\n",
    "I_cavity = Matrix(I,N,N)\n",
    "X_gate = kron(x_gate(N, Array[[3,4]]), I_qubit)\n",
    "\n",
    "#X_gate = kron(x_gate(N, Array[[2,3], [4,5]]), I_qubit)\n",
    "\n",
    "θ = π/2.5\n",
    "RZ = kron(Rz(N, Array[[3,4]], θ/2), I_qubit)\n",
    "RX = kron(Rx(N, Array[[3,4]], θ/4), I_qubit)\n",
    "Udue = kron(U2(N, Array[[3,4]], [θ/2 θ/3 θ/4] ), I_qubit)\n",
    "\n",
    "sx = kron(I_cavity, [0 1; 1 0])\n",
    "sy = kron(I_cavity, [0 -1im; 1im 0])\n",
    "\n",
    "ψ_initial = zeros(N)\n",
    "ψ_initial[1] = 1\n",
    "ψ_initial = kron(ψ_initial/norm(ψ_initial), [0,1])\n",
    "\n",
    "ψ_initial_rand = rand(N)\n",
    "ψ_initial_rand = kron(ψ_initial_rand/norm(ψ_initial_rand), [0,1])"
   ]
  },
  {
   "cell_type": "code",
   "execution_count": 44,
   "metadata": {},
   "outputs": [
    {
     "data": {
      "text/plain": [
       "16-element Vector{Float64}:\n",
       " 0.0\n",
       " 0.0\n",
       " 0.0\n",
       " 0.0\n",
       " 0.0\n",
       " 0.0\n",
       " 0.0\n",
       " 1.0\n",
       " 0.0\n",
       " 0.0\n",
       " 0.0\n",
       " 0.0\n",
       " 0.0\n",
       " 0.0\n",
       " 0.0\n",
       " 0.0"
      ]
     },
     "metadata": {},
     "output_type": "display_data"
    }
   ],
   "source": [
    "ψ_final_u = Udue * ψ_initial_rand\n",
    "ψ_final_x = RX * ψ_initial_rand\n",
    "ψ_final_x_gate = X_gate * ψ_initial_rand\n",
    "ψ_final_superposition = kron(ones(N)/norm(ones(N)), [0,1])\n",
    "\n",
    "ψ_final_k = zeros(N)\n",
    "ψ_final_k[4] = 1\n",
    "ψ_final_k = kron(ψ_final_k/norm(ψ_final_k), [0,1])"
   ]
  },
  {
   "cell_type": "code",
   "execution_count": 45,
   "metadata": {},
   "outputs": [
    {
     "data": {
      "text/plain": [
       "([0.0 0.0 … 0.0 0.0; 0.0 0.0 … 0.0 0.0; … ; 0.0 0.0 … 0.0 0.0; 0.0 0.0 … 0.0 0.0], [0.0 0.0 … 0.0 0.0; 0.0 0.0 … 0.0 0.0; … ; 0.0 0.0 … 0.0 0.0; 0.0 0.0 … 0.0 0.0], [0 1 … 0 0; 0 0 … 0 0; … ; 0 0 … 0 1; 0 0 … 0 0], [0 0 … 0 0; 1 0 … 0 0; … ; 0 0 … 0 0; 0 0 … 1 0], [1 0 … 0 0; 0 -1 … 0 0; … ; 0 0 … 1 0; 0 0 … 0 -1])"
      ]
     },
     "metadata": {},
     "output_type": "display_data"
    }
   ],
   "source": [
    "# generating matrices\n",
    "a,adag,sp,sm,sz = generate_matrices(N)"
   ]
  },
  {
   "cell_type": "code",
   "execution_count": 46,
   "metadata": {},
   "outputs": [
    {
     "data": {
      "text/plain": [
       "snap (generic function with 1 method)"
      ]
     },
     "metadata": {},
     "output_type": "display_data"
    }
   ],
   "source": [
    "disp(α) = exp((α * adag - α' * a))\n",
    "ECD(β) = disp(β / 2) * sp + disp(- β / 2) * sm\n",
    "ROT(ϕ, θ) = exp(-1im * θ / 2 * ( sx * cos(ϕ) + sy * sin(ϕ) )) \n",
    "snap(x) = kron(Diagonal(exp.(-1im.*x)),I_qubit)"
   ]
  },
  {
   "cell_type": "code",
   "execution_count": 47,
   "metadata": {},
   "outputs": [
    {
     "data": {
      "text/plain": [
       "gradient_state_prep (generic function with 1 method)"
      ]
     },
     "metadata": {},
     "output_type": "display_data"
    }
   ],
   "source": [
    "function cost(coefficients, unitary, N)\n",
    "\n",
    "    L = length(coefficients)\n",
    "    β_i = coefficients[1: Int(L/4)]\n",
    "    β_r = coefficients[Int(L/4) + 1 : Int(L/2)]\n",
    "\n",
    "    θs = coefficients[Int(L/2) + 1 : Int(3 * L/4)]\n",
    "    ϕs = coefficients[Int(3 * L/4) + 1 : end]\n",
    "\n",
    "    propagator = Matrix{ComplexF64}(I,N,N)\n",
    "\n",
    "    for i in 1:length(β_i)\n",
    "        propagator = propagator * ROT(ϕs[i], θs[i]) * ECD(β_i[i] + β_r[i] * 1im)\n",
    "    end\n",
    "\n",
    "    return 1 - norm(tr(propagator*unitary') / N)^2\n",
    "    \n",
    "end\n",
    "\n",
    "function cost_ecd_rot_ecd(coefficients, unitary, N)\n",
    "\n",
    "    L = length(coefficients)\n",
    "    β_i = coefficients[1: Int(L/4)]\n",
    "    β_r = coefficients[Int(L/4) + 1 : Int(L/2)]\n",
    "\n",
    "    θs = coefficients[Int(L/2) + 1 : Int(3 * L/4)]\n",
    "    ϕs = coefficients[Int(3 * L/4) + 1 : end]\n",
    "\n",
    "    propagator = Matrix{ComplexF64}(I,N,N)\n",
    "\n",
    "    for i in 1:length(β_i)\n",
    "        propagator = propagator * ECD(β_i[i] + β_r[i] * 1im) * ROT(ϕs[i], θs[i]) * ECD(β_i[i] + β_r[i] * 1im)'\n",
    "    end\n",
    "\n",
    "    return 1 - norm(tr(propagator*unitary') / N)^2\n",
    "    \n",
    "end\n",
    "\n",
    "function gradient(coefficients, unitary, N, h, cost_before_increment)\n",
    "\n",
    "    L = length(coefficients)\n",
    "    gradient = zeros(L)\n",
    "\n",
    "    for i in 1:L\n",
    "        coeffs_copy = copy(coefficients)\n",
    "        coeffs_copy[i] = coefficients[i] + h\n",
    "        gradient[i] = (cost(coeffs_copy, unitary, N) - cost_before_increment) / h\n",
    "    end\n",
    "\n",
    "    return gradient\n",
    "\n",
    "end\n",
    "\n",
    "function gate_composition(coefficients, N, l_coeff)\n",
    "\n",
    "    L = length(coefficients)\n",
    "    β_i = coefficients[1: Int(L/4)]\n",
    "    β_r = coefficients[Int(L/4) + 1 : Int(L/2)]\n",
    "\n",
    "    θs = coefficients[Int(L/2) + 1 : Int(3 * L/4)]\n",
    "    ϕs = coefficients[Int(3 * L/4) + 1 : end]\n",
    "\n",
    "    propagator = Matrix{ComplexF64}(I,N,N)\n",
    "\n",
    "    for i in 1:length(β_i)\n",
    "        propagator = propagator * ROT(ϕs[i], θs[i]) * ECD(β_i[i] + β_r[i] * 1im)\n",
    "    end\n",
    "\n",
    "    return propagator\n",
    "    \n",
    "end\n",
    "\n",
    "function cost_state_prep(coefficients, N, ψ_n, ψ_m)\n",
    "\n",
    "    L = length(coefficients)\n",
    "    β_i = coefficients[1: Int(L/4)]\n",
    "    β_r = coefficients[Int(L/4) + 1 : Int(L/2)]\n",
    "\n",
    "    θs = coefficients[Int(L/2) + 1 : Int(3 * L/4)]\n",
    "    ϕs = coefficients[Int(3 * L/4) + 1 : end]\n",
    "\n",
    "    propagator = Matrix{ComplexF64}(I,N,N)\n",
    "\n",
    "    for i in 1:length(β_i)\n",
    "        propagator = propagator * ROT(ϕs[i], θs[i]) * ECD(β_i[i] + β_r[i] * 1im)\n",
    "    end\n",
    "\n",
    "    return 1 - norm(ψ_m' * propagator * ψ_n)^2\n",
    "    \n",
    "end\n",
    "\n",
    "\n",
    "function gradient_state_prep(coefficients, N, h, cost_before_increment, ψ_n, ψ_m)\n",
    "\n",
    "    L = length(coefficients)\n",
    "    gradient = zeros(L)\n",
    "\n",
    "    for i in 1:L\n",
    "        coeffs_copy = copy(coefficients)\n",
    "        coeffs_copy[i] = coefficients[i] + h\n",
    "        gradient[i] = (cost_state_prep(coeffs_copy, N, ψ_n, ψ_m) - cost_before_increment) / h\n",
    "    end\n",
    "\n",
    "    return gradient\n",
    "\n",
    "end"
   ]
  },
  {
   "cell_type": "code",
   "execution_count": 48,
   "metadata": {},
   "outputs": [
    {
     "data": {
      "text/plain": [
       "16×16 Matrix{ComplexF64}:\n",
       " 0.999786-0.0206763im       0.0-0.0im        …       0.0+0.0im\n",
       "      0.0-0.0im        0.999786-0.0206763im          0.0+0.0im\n",
       "      0.0+0.0im             0.0+0.0im                0.0+0.0im\n",
       "      0.0+0.0im             0.0+0.0im                0.0+0.0im\n",
       "      0.0+0.0im             0.0+0.0im                0.0+0.0im\n",
       "      0.0+0.0im             0.0+0.0im        …       0.0+0.0im\n",
       "      0.0+0.0im             0.0+0.0im                0.0+0.0im\n",
       "      0.0+0.0im             0.0+0.0im                0.0+0.0im\n",
       "      0.0+0.0im             0.0+0.0im                0.0+0.0im\n",
       "      0.0+0.0im             0.0+0.0im                0.0+0.0im\n",
       "      0.0+0.0im             0.0+0.0im        …       0.0+0.0im\n",
       "      0.0+0.0im             0.0+0.0im                0.0+0.0im\n",
       "      0.0+0.0im             0.0+0.0im                0.0+0.0im\n",
       "      0.0+0.0im             0.0+0.0im                0.0+0.0im\n",
       "      0.0+0.0im             0.0+0.0im                0.0-0.0im\n",
       "      0.0+0.0im             0.0+0.0im        …  0.794564-0.607181im"
      ]
     },
     "metadata": {},
     "output_type": "display_data"
    }
   ],
   "source": [
    "snapgate = snap(rand(N))"
   ]
  },
  {
   "attachments": {},
   "cell_type": "markdown",
   "metadata": {},
   "source": [
    "## STATE PREP"
   ]
  },
  {
   "cell_type": "code",
   "execution_count": 49,
   "metadata": {},
   "outputs": [
    {
     "name": "stdout",
     "output_type": "stream",
     "text": [
      "blocks: 1 iterations :1\n",
      "blocks: "
     ]
    },
    {
     "name": "stdout",
     "output_type": "stream",
     "text": [
      "1 iterations :2\n"
     ]
    },
    {
     "name": "stdout",
     "output_type": "stream",
     "text": [
      "blocks: 1 iterations :3\n",
      "blocks: "
     ]
    },
    {
     "name": "stdout",
     "output_type": "stream",
     "text": [
      "1 iterations :4\n"
     ]
    },
    {
     "name": "stdout",
     "output_type": "stream",
     "text": [
      "blocks: 1 iterations :5\n",
      "blocks: "
     ]
    },
    {
     "name": "stdout",
     "output_type": "stream",
     "text": [
      "2 iterations :1\n"
     ]
    },
    {
     "name": "stdout",
     "output_type": "stream",
     "text": [
      "blocks: 2 iterations :2\n",
      "blocks: "
     ]
    },
    {
     "name": "stdout",
     "output_type": "stream",
     "text": [
      "2 iterations :3\n"
     ]
    },
    {
     "name": "stdout",
     "output_type": "stream",
     "text": [
      "blocks: 2 iterations :4\n",
      "blocks: "
     ]
    },
    {
     "name": "stdout",
     "output_type": "stream",
     "text": [
      "2 iterations :5\n"
     ]
    },
    {
     "name": "stdout",
     "output_type": "stream",
     "text": [
      "blocks: 3 iterations :1\n",
      "blocks: "
     ]
    },
    {
     "name": "stdout",
     "output_type": "stream",
     "text": [
      "3 iterations :2\n"
     ]
    },
    {
     "name": "stdout",
     "output_type": "stream",
     "text": [
      "blocks: 3 iterations :3\n",
      "blocks: "
     ]
    },
    {
     "name": "stdout",
     "output_type": "stream",
     "text": [
      "3 iterations :4\n"
     ]
    },
    {
     "name": "stdout",
     "output_type": "stream",
     "text": [
      "blocks: 3 iterations :5\n",
      "blocks: "
     ]
    }
   ],
   "source": [
    "x(x) = cost_state_prep(x, N * 2, ψ_initial_rand, ψ_final_u)\n",
    "rx(x) = cost_state_prep(x, N * 2, ψ_initial_rand, ψ_final_x)\n",
    "u(x) = cost_state_prep(x, N * 2, ψ_initial_rand, ψ_final_x_gate)\n",
    "k(x) = cost_state_prep(x, N * 2, ψ_initial, ψ_final_k)\n",
    "superposition(x) = cost_state_prep(x, N * 2, ψ_initial, ψ_final_superposition)\n",
    "it_costs_x = []\n",
    "coefficients_x = []\n",
    "it_costs_rx = []\n",
    "coefficients_rx = []\n",
    "it_costs_u = []\n",
    "coefficients_u = []\n",
    "it_costs_superposition = []\n",
    "coefficients_superposition = []\n",
    "it_costs_k = []\n",
    "coefficients_k = []\n",
    "blocks = []\n",
    "for depth in 1:1:10\n",
    "    for iteration in 1:5\n",
    "        println(\"blocks: \", depth,\" iterations :\", iteration)\n",
    "        l_coeff = depth * 4\n",
    "        coefficients = zeros(l_coeff)\n",
    "        coefficients[1:Int(l_coeff / 2)] = rand(Int(l_coeff / 2))*2 .-1\n",
    "        coefficients[Int(l_coeff / 2) + 1:end] = rand(Int(l_coeff / 2)) * 2 * pi .- pi\n",
    "        res_x = Optim.optimize(x, coefficients , LBFGS(), Optim.Options())\n",
    "        res_rx = Optim.optimize(rx, coefficients , LBFGS(), Optim.Options())\n",
    "        res_u = Optim.optimize(u, coefficients , LBFGS(), Optim.Options())\n",
    "        res_superposition = Optim.optimize(superposition, coefficients , LBFGS(), Optim.Options())\n",
    "        res_k = Optim.optimize(k, coefficients , LBFGS(), Optim.Options())\n",
    "        push!(blocks, depth)\n",
    "        push!(it_costs_x,Optim.minimum(res_x))\n",
    "        push!(it_costs_rx,Optim.minimum(res_rx))\n",
    "        push!(it_costs_u,Optim.minimum(res_u))\n",
    "        push!(it_costs_k,Optim.minimum(res_k))\n",
    "        push!(it_costs_superposition,Optim.minimum(res_superposition))\n",
    "        push!(coefficients_x,Optim.minimizer(res_x))\n",
    "        push!(coefficients_rx,Optim.minimizer(res_rx))\n",
    "        push!(coefficients_u,Optim.minimizer(res_u))\n",
    "        push!(coefficients_k,Optim.minimizer(res_k))\n",
    "        push!(coefficients_superposition,Optim.minimizer(res_superposition))\n",
    "    end\n",
    "end"
   ]
  },
  {
   "cell_type": "code",
   "execution_count": null,
   "metadata": {},
   "outputs": [],
   "source": [
    "df_x = DataFrame(fidelity=it_costs_x, blocks=blocks, coefficients=coefficients_x)\n",
    "df_rx = DataFrame(fidelity=it_costs_rx, blocks=blocks, coefficients=coefficients_rx)\n",
    "df_u = DataFrame(fidelity=it_costs_u, blocks=blocks, coefficients=coefficients_u)\n",
    "df_k = DataFrame(fidelity=it_costs_k, blocks=blocks, coefficients=coefficients_k)\n",
    "df_superposition = DataFrame(fidelity=it_costs_superposition, blocks=blocks, coefficients=coefficients_superposition)\n",
    "CSV.write(\"../../data/state_prep/7_photons/ECD/x_gate.txt\", df_x)\n",
    "CSV.write(\"../../data/state_prep/7_photons/ECD/rx_gate.txt\", df_rx)\n",
    "CSV.write(\"../../data/state_prep/7_photons/ECD/u_gate.txt\", df_u)\n",
    "CSV.write(\"../../data/state_prep/7_photons/ECD/k_gate.txt\", df_k)\n",
    "CSV.write(\"../../data/state_prep/7_photons/ECD/superposition_gate.txt\", df_superposition)"
   ]
  },
  {
   "attachments": {},
   "cell_type": "markdown",
   "metadata": {},
   "source": [
    "## GATE PREP"
   ]
  },
  {
   "cell_type": "code",
   "execution_count": 9,
   "metadata": {},
   "outputs": [
    {
     "data": {
      "text/plain": [
       "g (generic function with 1 method)"
      ]
     },
     "metadata": {},
     "output_type": "display_data"
    }
   ],
   "source": [
    "f(x) = cost(x, RX, N * 2)\n",
    "h(x) = cost(x, X_gate, N*2)\n",
    "g(x) = cost_state_prep(x, N * 2, ψ_initial, ψ_final_x_gate)"
   ]
  },
  {
   "cell_type": "code",
   "execution_count": 13,
   "metadata": {},
   "outputs": [
    {
     "name": "stdout",
     "output_type": "stream",
     "text": [
      "blocks: 36 iterations :1\n",
      "Iter     Function value   Gradient norm \n"
     ]
    },
    {
     "name": "stdout",
     "output_type": "stream",
     "text": [
      "     0     9.980577e-01     1.675169e-02\n",
      " * time: 0.00014209747314453125\n"
     ]
    },
    {
     "name": "stdout",
     "output_type": "stream",
     "text": [
      "    50     4.057285e-02     3.122966e-02\n",
      " * time: 90.55464506149292\n"
     ]
    },
    {
     "name": "stdout",
     "output_type": "stream",
     "text": [
      "   100     1.507052e-02     9.932765e-03\n",
      " * time: 186.75614213943481\n"
     ]
    },
    {
     "name": "stdout",
     "output_type": "stream",
     "text": [
      "   150     8.460625e-03     8.530731e-03\n",
      " * time: 286.65741896629333\n"
     ]
    },
    {
     "name": "stdout",
     "output_type": "stream",
     "text": [
      "   200     5.148972e-03     5.251519e-03\n",
      " * time: 392.3429720401764\n"
     ]
    },
    {
     "name": "stdout",
     "output_type": "stream",
     "text": [
      "   250     2.355214e-03     4.771744e-03\n",
      " * time: 491.4505121707916\n"
     ]
    },
    {
     "name": "stdout",
     "output_type": "stream",
     "text": [
      "   300     1.455067e-03     1.626644e-03\n",
      " * time: 589.7545139789581\n"
     ]
    },
    {
     "name": "stdout",
     "output_type": "stream",
     "text": [
      "   350     1.120479e-03     1.474388e-03\n",
      " * time: 686.6790030002594\n"
     ]
    },
    {
     "name": "stdout",
     "output_type": "stream",
     "text": [
      "   400     9.146117e-04     9.775744e-04\n",
      " * time: 784.2344601154327\n"
     ]
    },
    {
     "name": "stdout",
     "output_type": "stream",
     "text": [
      "   450     8.029549e-04     6.954453e-04\n",
      " * time: 882.9366641044617\n"
     ]
    },
    {
     "name": "stdout",
     "output_type": "stream",
     "text": [
      "   500     7.505277e-04     7.492858e-04\n",
      " * time: 981.0608661174774\n"
     ]
    },
    {
     "name": "stdout",
     "output_type": "stream",
     "text": [
      "   550     6.832927e-04     9.430372e-04\n",
      " * time: 1078.5808999538422\n"
     ]
    },
    {
     "name": "stdout",
     "output_type": "stream",
     "text": [
      "   600     6.296910e-04     8.010724e-04\n",
      " * time: 1177.6523780822754\n"
     ]
    },
    {
     "name": "stdout",
     "output_type": "stream",
     "text": [
      "   650     5.837584e-04     6.492414e-04\n",
      " * time: 1273.7754499912262\n"
     ]
    },
    {
     "name": "stdout",
     "output_type": "stream",
     "text": [
      "   700     5.315405e-04     1.057774e-03\n",
      " * time: 1369.8423521518707\n"
     ]
    },
    {
     "name": "stdout",
     "output_type": "stream",
     "text": [
      "   750     4.762412e-04     6.270319e-04\n",
      " * time: 1466.427356004715\n"
     ]
    },
    {
     "name": "stdout",
     "output_type": "stream",
     "text": [
      "   800     4.372560e-04     7.829787e-04\n",
      " * time: 1561.6781511306763\n"
     ]
    },
    {
     "name": "stdout",
     "output_type": "stream",
     "text": [
      "   850     3.773737e-04     9.211608e-04\n",
      " * time: 1657.9731230735779\n"
     ]
    },
    {
     "name": "stdout",
     "output_type": "stream",
     "text": [
      "   900     2.898503e-04     6.119867e-04\n",
      " * time: 1753.3482739925385\n"
     ]
    },
    {
     "name": "stdout",
     "output_type": "stream",
     "text": [
      "   950     2.502250e-04     5.403262e-04\n",
      " * time: 1851.1517140865326\n"
     ]
    },
    {
     "name": "stdout",
     "output_type": "stream",
     "text": [
      "  1000     2.236223e-04     6.770000e-04\n",
      " * time: 1966.5383231639862\n"
     ]
    },
    {
     "name": "stdout",
     "output_type": "stream",
     "text": [
      "0.000223622313832883\n",
      "[-0.9414187451423282, -0.8726035675081443, 0.10654515050787697, 1.300313381663015, -1.0948551017730253, 1.3269662250418441, 0.08400488085257192, 0.6191276695830997, -1.0013522952055942, -0.43840103864576513, -1.0622182062737837, 0.057395747155242434, -1.242962585693208, 0.5335789300638607, -0.4581338345928439, 0.27273384674098633, 1.6938162524187907, 1.255382313606981, 0.8411165462211518, -0.15555067976766887, -0.5879271542471259, 0.4073989279700866, 0.3621852028830985, -0.3744259078515908, -0.3594537558408852, -0.6220211929260778, -0.9950689119463505, 0.20070147023196436, -0.7742755759234002, -0.040305458761785914, 0.8627607431253882, -0.4574508127737378, -0.8298950752501071, -0.45484679208311524, 0.6583015648767099, -0.6581482509328485, 0.9051978420666685, 0.9846740570671515, -0.2399814549054373, -1.747245618246767, 0.35639234075333287, 1.121495282706931, 0.6123536771177344, -0.8175112766024146, -0.06499040160475546, 0.8177729919957092, 0.2761718512252938, -0.09751027034874339, -0.6128270131052154, 0.6903825230798205, 0.26448540917521934, -0.5615059847312762, 0.963906204534189, -0.7379029163603926, 0.6334494940872113, 1.2291782474802704, -0.7018922003344142, -0.18489415853760316, -1.0942947839344905, 0.45351631325721364, -1.0393086770371665, -0.00865207347069926, 0.7451897571428244, -0.9502351674853882, -0.8077639471070146, 0.5793393425710934, -0.8950844114781696, -0.5291976220727337, 1.0667988508423094, -0.2417894254175206, -0.2294916398406767, -0.12307629555830127, 0.6014839292261217, 2.570238358095734, -1.5178960995685609, -1.483574330504825, -0.922315667472977, -3.0498313132989665, -0.8249153590210625, 1.2590886297428463, 2.8298583417602354, -1.6773466504581882, 1.0022717708943156, -1.8904291545436753, 0.837885196468281, 1.9710747293444222, -2.833618042855559, -0.5051882206781024, -2.1103046123493856, 0.16648087389767266, -2.5156667853076624, -0.7842022338723761, -0.281203273570725, -2.4701207181046136, 0.13659332608639455, 1.3245028576193851, -2.3339190117551256, -1.1080586792635552, 0.8889323143612937, 0.798817670577996, -2.02933463376016, -2.1296456175386154, -1.528519124751099, 2.952491981312748, 2.895345261325877, -0.4320269149979691, -2.11994247784726, 0.8691468231590153, -0.5975887600466512, 0.09969982734030326, 1.5346615000419583, 1.6470715781739687, -0.9211763061336817, -0.1349570056550853, 0.5534447431486288, 0.02282515529839438, -1.7659664479228199, -0.21393588733828167, 2.143310962576661, -0.7424645878447999, -1.8105912128775488, 2.487667413489787, 1.4593227058736742, 2.081045494103798, -1.8157182351270538, -2.1357710345213032, 1.0100689236430436, 1.0717226161274818, 3.2332347525510343, -2.2463088918450667, 1.0118557177985523, -3.961548614274288, 1.7890846327459915, -0.8591384504433437, -2.666318992645529, 1.5612083860402612, 1.1048812139857616, 2.8528097739552924, 2.6443087772311067, 0.49913656572482257, -2.7501056149434207, -4.361589746271732, -1.2690348075225695, -3.379393339426904]\n",
      "blocks: 36 iterations :2\n"
     ]
    },
    {
     "name": "stdout",
     "output_type": "stream",
     "text": [
      "Iter     Function value   Gradient norm \n",
      "     0     9.989809e-01     1.181133e-02\n",
      " * time: 0.00017905235290527344\n"
     ]
    },
    {
     "name": "stdout",
     "output_type": "stream",
     "text": [
      "    50     7.589397e-03     5.112853e-03\n",
      " * time: 104.06326508522034\n"
     ]
    },
    {
     "name": "stdout",
     "output_type": "stream",
     "text": [
      "   100     5.549054e-03     4.802066e-03\n",
      " * time: 201.52201390266418\n"
     ]
    },
    {
     "name": "stdout",
     "output_type": "stream",
     "text": [
      "   150     4.737845e-03     3.004700e-03\n",
      " * time: 308.4783809185028\n"
     ]
    },
    {
     "name": "stdout",
     "output_type": "stream",
     "text": [
      "   200     4.335306e-03     1.955603e-03\n",
      " * time: 412.3083109855652\n"
     ]
    },
    {
     "name": "stdout",
     "output_type": "stream",
     "text": [
      "   250     3.975860e-03     2.618710e-03\n",
      " * time: 514.4857409000397\n"
     ]
    },
    {
     "name": "stdout",
     "output_type": "stream",
     "text": [
      "   300     3.523565e-03     3.252250e-03\n",
      " * time: 609.4696860313416\n"
     ]
    },
    {
     "name": "stdout",
     "output_type": "stream",
     "text": [
      "   350     3.076328e-03     2.627852e-03\n",
      " * time: 713.9817368984222\n"
     ]
    },
    {
     "name": "stdout",
     "output_type": "stream",
     "text": [
      "   400     2.785259e-03     1.440803e-03\n",
      " * time: 819.3820950984955\n"
     ]
    },
    {
     "name": "stdout",
     "output_type": "stream",
     "text": [
      "   450     2.621307e-03     1.801376e-03\n",
      " * time: 913.9386019706726\n"
     ]
    },
    {
     "name": "stdout",
     "output_type": "stream",
     "text": [
      "   500     2.376342e-03     1.825578e-03\n",
      " * time: 1006.8290030956268\n"
     ]
    },
    {
     "name": "stdout",
     "output_type": "stream",
     "text": [
      "   550     2.158216e-03     1.152386e-03\n",
      " * time: 1106.1895880699158\n"
     ]
    },
    {
     "name": "stdout",
     "output_type": "stream",
     "text": [
      "   600     2.013027e-03     1.125180e-03\n",
      " * time: 1203.8792309761047\n"
     ]
    },
    {
     "name": "stdout",
     "output_type": "stream",
     "text": [
      "   650     1.876024e-03     1.199778e-03\n",
      " * time: 1301.1843008995056\n"
     ]
    },
    {
     "name": "stdout",
     "output_type": "stream",
     "text": [
      "   700     1.793427e-03     9.095694e-04\n",
      " * time: 1405.1900300979614\n"
     ]
    },
    {
     "name": "stdout",
     "output_type": "stream",
     "text": [
      "   750     1.709295e-03     1.454960e-03\n",
      " * time: 1500.9748430252075\n"
     ]
    },
    {
     "name": "stdout",
     "output_type": "stream",
     "text": [
      "   800     1.631482e-03     1.190622e-03\n",
      " * time: 1590.8971729278564\n"
     ]
    },
    {
     "name": "stdout",
     "output_type": "stream",
     "text": [
      "   850     1.500724e-03     1.815256e-03\n",
      " * time: 1680.8185930252075\n"
     ]
    },
    {
     "name": "stdout",
     "output_type": "stream",
     "text": [
      "   900     1.339427e-03     1.362230e-03\n",
      " * time: 1771.9506149291992\n"
     ]
    },
    {
     "name": "stdout",
     "output_type": "stream",
     "text": [
      "   950     1.229644e-03     1.531736e-03\n",
      " * time: 1868.2696890830994\n"
     ]
    },
    {
     "name": "stdout",
     "output_type": "stream",
     "text": [
      "  1000     1.117049e-03     1.125902e-03\n",
      " * time: 1960.6488959789276\n"
     ]
    },
    {
     "name": "stdout",
     "output_type": "stream",
     "text": [
      "0.0011170486428196957\n",
      "[-0.3468777700619958, -0.7699647527316612, 0.6473773193326876, -0.2934545962387072, -0.31810880046504864, -0.24442553732186925, 0.40161375593369597, -0.0032774012335322856, 0.6989539904052264, 0.3809674510605812, -0.07137066735315352, 0.49459721049127525, 1.0289483356313665, 0.4579822802121513, 0.8385931242439493, 0.695344315107266, 0.479539912178774, -0.09749677021672462, 0.08760815290179684, 0.5116415202201492, 0.4246451004312408, 0.7373356127947566, -0.195952731243626, 0.8695720337304097, 0.5634645150297807, 0.23547468572873342, -0.1565438756836579, 0.538844497065587, 0.6801777993985537, 0.38669834233028266, -0.2096010946514799, -0.16839380116252434, 0.31417723634852196, 0.5199494155631987, -0.32787611202881933, -0.7984797329265602, 0.006886071887533028, -0.1583326677756819, 0.05237820448728614, 0.11627481124718098, -0.19166018254348202, -0.6160732152247294, 0.7630285332778948, -0.29560670923917975, 0.6532061266656407, -0.6820526160892685, 0.632888746262899, -0.13046483417010835, -0.4993074039953427, 0.33761884647222734, 0.5296563443538294, -0.2890646409973297, -0.468375410235343, -1.0543014928474397, -1.0642508026585276, 0.3144935054547, 0.16901292885985608, 0.36482946876210015, 0.25549250309830407, -0.5869818628647903, 0.05900858659239233, -0.6866952884773878, 0.8030806812239961, 0.25645043195575484, 0.7291054792397851, 0.9192302012344451, -0.1796263282552952, 0.21145245180099165, 0.9178967595190135, 0.6702574595849374, 0.3787942114612528, -0.19522356252093964, 1.9031811955732483, -0.5940581548918019, -1.914356185097293, -2.1393758684923267, 0.6801250503378002, -1.2181761974630654, 4.140205668619777, 3.1409306722665518, -0.6849167865108037, 0.7722646408649279, 2.591540445762804, 1.0475971131995314, -0.21292650412755781, 2.226460828938759, -1.453213675646157, -0.516669212035389, 0.12288914676546751, 1.647939169670231, -0.11135220072907803, -0.8986103391230976, 1.9036454773335563, 2.288458402006101, 1.2914613463844125, 3.0132773982896675, -1.2201370432804248, 0.9842962831064402, -2.838136013140958, -3.425183335899711, 0.7816416325067065, -0.6079609080210618, -2.726932527256517, -2.3422014839996677, -0.9953037228762082, 0.5689669770468587, 1.189979034440368, 0.27929447858499307, 1.7791324754858828, 1.181059097523713, -1.1537405948362565, 2.6125001008621536, -1.5831769783275362, -0.7241259023790957, 0.52344909081916, -2.3226643370622195, 1.263285605789175, 2.4709677548860993, 0.5769457909639424, 2.3627918835703694, -2.3250684670753814, -0.5694627505512101, -1.1020785560508282, 0.008922092705219462, -0.9997408725233332, -0.7436779000958172, -0.605756386797138, -1.5837008268723296, 0.06778118756415853, -0.6354933411261551, 2.185411835483475, 1.8143648517984026, -0.5598560742808996, 1.9029533272999308, -0.914061180519353, -1.5299134795239047, -2.6651758057442856, -1.5342719273163075, 1.0036041688467332, -1.8689968395968612, 1.8938876350668414, -2.1767208928371233, 1.4070450983861738, -2.151716141725936]\n",
      "blocks: "
     ]
    },
    {
     "name": "stdout",
     "output_type": "stream",
     "text": [
      "36 iterations :3\n"
     ]
    },
    {
     "name": "stdout",
     "output_type": "stream",
     "text": [
      "Iter     Function value   Gradient norm \n",
      "     0     9.584731e-01     8.279215e-02\n",
      " * time: 0.0004010200500488281\n"
     ]
    },
    {
     "name": "stdout",
     "output_type": "stream",
     "text": [
      "    50     6.858805e-03     7.909596e-03\n",
      " * time: 91.72209596633911\n"
     ]
    },
    {
     "name": "stdout",
     "output_type": "stream",
     "text": [
      "   100     5.033309e-03     2.533758e-03\n",
      " * time: 190.81072998046875\n"
     ]
    },
    {
     "name": "stdout",
     "output_type": "stream",
     "text": [
      "   150     4.004194e-03     3.076794e-03\n",
      " * time: 282.5743350982666\n"
     ]
    },
    {
     "name": "stdout",
     "output_type": "stream",
     "text": [
      "   200     3.479593e-03     3.164987e-03\n",
      " * time: 379.1318709850311\n"
     ]
    },
    {
     "name": "stdout",
     "output_type": "stream",
     "text": [
      "   250     2.919503e-03     2.575583e-03\n",
      " * time: 476.65682101249695\n"
     ]
    },
    {
     "name": "stdout",
     "output_type": "stream",
     "text": [
      "   300     2.427402e-03     2.759992e-03\n",
      " * time: 568.6120150089264\n"
     ]
    },
    {
     "name": "stdout",
     "output_type": "stream",
     "text": [
      "   350     2.193830e-03     1.386584e-03\n",
      " * time: 666.7261970043182\n"
     ]
    },
    {
     "name": "stdout",
     "output_type": "stream",
     "text": [
      "   400     2.040622e-03     1.947829e-03\n",
      " * time: 768.1352109909058\n"
     ]
    },
    {
     "name": "stdout",
     "output_type": "stream",
     "text": [
      "   450     1.732400e-03     1.972260e-03\n",
      " * time: 864.1305019855499\n"
     ]
    },
    {
     "name": "stdout",
     "output_type": "stream",
     "text": [
      "   500     1.458865e-03     1.519331e-03\n",
      " * time: 959.4086420536041\n"
     ]
    },
    {
     "name": "stdout",
     "output_type": "stream",
     "text": [
      "   550     1.311239e-03     1.398968e-03\n",
      " * time: 1055.7436609268188\n"
     ]
    },
    {
     "ename": "InterruptException",
     "evalue": "InterruptException:",
     "output_type": "error",
     "traceback": [
      "InterruptException:\n",
      "\n",
      "Stacktrace:\n",
      "  [1] Array\n",
      "    @ ./boot.jl:461 [inlined]\n",
      "  [2] Array\n",
      "    @ ./boot.jl:469 [inlined]\n",
      "  [3] Array\n",
      "    @ ./boot.jl:476 [inlined]\n",
      "  [4] _generic_matmatmul!(C::Matrix{ComplexF64}, tA::Char, tB::Char, A::Matrix{ComplexF64}, B::Matrix{Int64}, _add::LinearAlgebra.MulAddMul{true, true, Bool, Bool})\n",
      "    @ LinearAlgebra /Applications/Julia-1.8.app/Contents/Resources/julia/share/julia/stdlib/v1.8/LinearAlgebra/src/matmul.jl:874\n",
      "  [5] generic_matmatmul!(C::Matrix{ComplexF64}, tA::Char, tB::Char, A::Matrix{ComplexF64}, B::Matrix{Int64}, _add::LinearAlgebra.MulAddMul{true, true, Bool, Bool})\n",
      "    @ LinearAlgebra /Applications/Julia-1.8.app/Contents/Resources/julia/share/julia/stdlib/v1.8/LinearAlgebra/src/matmul.jl:844\n",
      "  [6] mul!\n",
      "    @ /Applications/Julia-1.8.app/Contents/Resources/julia/share/julia/stdlib/v1.8/LinearAlgebra/src/matmul.jl:303 [inlined]\n",
      "  [7] mul!\n",
      "    @ /Applications/Julia-1.8.app/Contents/Resources/julia/share/julia/stdlib/v1.8/LinearAlgebra/src/matmul.jl:276 [inlined]\n",
      "  [8] *(A::Matrix{ComplexF64}, B::Matrix{Int64})\n",
      "    @ LinearAlgebra /Applications/Julia-1.8.app/Contents/Resources/julia/share/julia/stdlib/v1.8/LinearAlgebra/src/matmul.jl:141\n",
      "  [9] ECD(β::ComplexF64)\n",
      "    @ Main ~/Desktop/Thesis_julia/Opt3DQalgs/BTgates/src/optimisations/decomposition_ecd_protocol.ipynb:2\n",
      " [10] cost(coefficients::Vector{Float64}, unitary::Matrix{ComplexF64}, N::Int64)\n",
      "    @ Main ~/Desktop/Thesis_julia/Opt3DQalgs/BTgates/src/optimisations/decomposition_ecd_protocol.ipynb:13\n",
      " [11] f(x::Vector{Float64})\n",
      "    @ Main ~/Desktop/Thesis_julia/Opt3DQalgs/BTgates/src/optimisations/decomposition_ecd_protocol.ipynb:1\n",
      " [12] finite_difference_gradient!(df::Vector{Float64}, f::typeof(f), x::Vector{Float64}, cache::FiniteDiff.GradientCache{Nothing, Nothing, Nothing, Vector{Float64}, Val{:central}(), Float64, Val{true}()}; relstep::Float64, absstep::Float64, dir::Bool)\n",
      "    @ FiniteDiff ~/.julia/packages/FiniteDiff/grio1/src/gradients.jl:320\n",
      " [13] finite_difference_gradient!\n",
      "    @ ~/.julia/packages/FiniteDiff/grio1/src/gradients.jl:258 [inlined]\n",
      " [14] (::NLSolversBase.var\"#g!#15\"{typeof(f), FiniteDiff.GradientCache{Nothing, Nothing, Nothing, Vector{Float64}, Val{:central}(), Float64, Val{true}()}})(storage::Vector{Float64}, x::Vector{Float64})\n",
      "    @ NLSolversBase ~/.julia/packages/NLSolversBase/kavn7/src/objective_types/oncedifferentiable.jl:57\n",
      " [15] (::NLSolversBase.var\"#fg!#16\"{typeof(f)})(storage::Vector{Float64}, x::Vector{Float64})\n",
      "    @ NLSolversBase ~/.julia/packages/NLSolversBase/kavn7/src/objective_types/oncedifferentiable.jl:61\n",
      " [16] value_gradient!!(obj::OnceDifferentiable{Float64, Vector{Float64}, Vector{Float64}}, x::Vector{Float64})\n",
      "    @ NLSolversBase ~/.julia/packages/NLSolversBase/kavn7/src/interface.jl:82\n",
      " [17] value_gradient!(obj::OnceDifferentiable{Float64, Vector{Float64}, Vector{Float64}}, x::Vector{Float64})\n",
      "    @ NLSolversBase ~/.julia/packages/NLSolversBase/kavn7/src/interface.jl:69\n",
      " [18] value_gradient!(obj::Optim.ManifoldObjective{OnceDifferentiable{Float64, Vector{Float64}, Vector{Float64}}}, x::Vector{Float64})\n",
      "    @ Optim ~/.julia/packages/Optim/dBGGV/src/Manifolds.jl:50\n",
      " [19] (::LineSearches.var\"#ϕdϕ#6\"{Optim.ManifoldObjective{OnceDifferentiable{Float64, Vector{Float64}, Vector{Float64}}}, Vector{Float64}, Vector{Float64}, Vector{Float64}})(α::Float64)\n",
      "    @ LineSearches ~/.julia/packages/LineSearches/G1LRk/src/LineSearches.jl:84\n",
      " [20] (::LineSearches.HagerZhang{Float64, Base.RefValue{Bool}})(ϕ::Function, ϕdϕ::LineSearches.var\"#ϕdϕ#6\"{Optim.ManifoldObjective{OnceDifferentiable{Float64, Vector{Float64}, Vector{Float64}}}, Vector{Float64}, Vector{Float64}, Vector{Float64}}, c::Float64, phi_0::Float64, dphi_0::Float64)\n",
      "    @ LineSearches ~/.julia/packages/LineSearches/G1LRk/src/hagerzhang.jl:226\n",
      " [21] HagerZhang\n",
      "    @ ~/.julia/packages/LineSearches/G1LRk/src/hagerzhang.jl:101 [inlined]\n",
      " [22] perform_linesearch!(state::Optim.LBFGSState{Vector{Float64}, Vector{Vector{Float64}}, Vector{Vector{Float64}}, Float64, Vector{Float64}}, method::LBFGS{Nothing, LineSearches.InitialStatic{Float64}, LineSearches.HagerZhang{Float64, Base.RefValue{Bool}}, Optim.var\"#19#21\"}, d::Optim.ManifoldObjective{OnceDifferentiable{Float64, Vector{Float64}, Vector{Float64}}})\n",
      "    @ Optim ~/.julia/packages/Optim/dBGGV/src/utilities/perform_linesearch.jl:59\n",
      " [23] update_state!(d::OnceDifferentiable{Float64, Vector{Float64}, Vector{Float64}}, state::Optim.LBFGSState{Vector{Float64}, Vector{Vector{Float64}}, Vector{Vector{Float64}}, Float64, Vector{Float64}}, method::LBFGS{Nothing, LineSearches.InitialStatic{Float64}, LineSearches.HagerZhang{Float64, Base.RefValue{Bool}}, Optim.var\"#19#21\"})\n",
      "    @ Optim ~/.julia/packages/Optim/dBGGV/src/multivariate/solvers/first_order/l_bfgs.jl:204\n",
      " [24] optimize(d::OnceDifferentiable{Float64, Vector{Float64}, Vector{Float64}}, initial_x::Vector{Float64}, method::LBFGS{Nothing, LineSearches.InitialStatic{Float64}, LineSearches.HagerZhang{Float64, Base.RefValue{Bool}}, Optim.var\"#19#21\"}, options::Optim.Options{Float64, Nothing}, state::Optim.LBFGSState{Vector{Float64}, Vector{Vector{Float64}}, Vector{Vector{Float64}}, Float64, Vector{Float64}})\n",
      "    @ Optim ~/.julia/packages/Optim/dBGGV/src/multivariate/optimize/optimize.jl:54\n",
      " [25] optimize\n",
      "    @ ~/.julia/packages/Optim/dBGGV/src/multivariate/optimize/optimize.jl:36 [inlined]\n",
      " [26] #optimize#89\n",
      "    @ ~/.julia/packages/Optim/dBGGV/src/multivariate/optimize/interface.jl:143 [inlined]\n",
      " [27] optimize\n",
      "    @ ~/.julia/packages/Optim/dBGGV/src/multivariate/optimize/interface.jl:139 [inlined]\n",
      " [28] top-level scope\n",
      "    @ ~/Desktop/Thesis_julia/Opt3DQalgs/BTgates/src/optimisations/decomposition_ecd_protocol.ipynb:14"
     ]
    }
   ],
   "source": [
    "costs = []\n",
    "for depth in 36:6:36\n",
    "    it_costs = []\n",
    "    for iteration in 1:3\n",
    "        println(\"blocks: \", depth,\" iterations :\", iteration)\n",
    "        l_coeff = depth * 4\n",
    "        coefficients = zeros(l_coeff)\n",
    "        # coefficients = [0.6607403361268763, 0.08590035700013822, -0.15387625899517954, -0.0960644983553175, 0.9153959795248622, 0.007724187879161347, -0.5090330979766927, 0.9848953390956963, -1.0253742246379498, -0.9079754831003415, 0.4169409747817356, 0.610818000523414, 0.07128328615123676, 0.403077332452158, -0.6109122881484295, -1.0360971047664385, 1.1262766239260216, -0.6304249625105642, -0.2351275138303528, -0.11113963107255552, -0.30727857275776893, -0.9560156436783254, -0.9588641618503907, -0.5615110400608102, 0.6979359775990401, -1.3479319230828708, 1.144999968863136, -0.02452555473365016, 0.28932229947357263, -0.9045127785127591, 1.8765908283107466, -0.736873707459418, -0.28850586435606757, 0.5884733738934329, 1.4508285269783043, 0.8693956490351282, 0.5201973812599108, -0.685378250131944, -1.0886541906982647, 1.8693999741905731, 0.6165048375249106, -0.09818611839899977, 0.46873629214852514, 0.4880095274245698, 0.38106149957747726, -0.5827889973241523, -0.6905369571222512, 1.1658065887145483, 1.062568599032343, -0.18504291660841607, 0.686436753332916, -0.20247952401223734, 1.3550185214359076, -1.049420992328533, -0.5632420836010926, 1.7038757751688596, 0.3226558816959283, 0.3754328410298876, 0.3422996942070637, -1.9216904514476205, 0.765467809470165, -0.625328933952218, 0.460858987914061, 0.002075990022226634, 1.2798518186476275, 0.5792481155683049, 1.8089242646408938, -0.14210963784547428, 0.273376746253454, 0.3953776936981302, 0.059444566807252006, -1.6473522057488557, 0.40546454625375183, 1.334454823223599, -2.0521180040535296, -1.446196714956497, -1.665926876000584, 2.254955340148629, -2.297956375328917, -2.270122132232124, -1.3449304232202812, 2.393658727122352, -1.3937699546537496, -1.9455685308128177, 2.3894922301485493, -4.335282724063245, -2.3542075066493013, 1.9143264382319582, -0.13517376829314726, 4.204753311113465, -1.0469871024147461, 1.9056865365157536, -1.7955397638510877, -1.73177972680147, -0.7509673239374065, -2.6024383137053255, 0.7419271419107999, -2.71856582176325, -1.2887694928453797, 1.8542458400886204, 2.0589773046176676, -0.9401399462050072, -2.0699461300741917, -2.4635963338325437, 1.6648474997540064, 4.656256791144964, -1.1964398954057653, 1.9259286028827043, 1.0670338513652182, 0.5350802165298844, -1.6779453492197023, 2.7659679865098314, 1.6602430426705388, -1.1023298777925417, 3.090975382255604, -0.5884862701312702, 0.1546958792130905, -1.6422006553717334, 1.4036732165290342, 1.4587548127932946, 3.1580771355302293, 2.8704969724586715, 2.7211532765011355, -4.363089774515921, 2.6576492378347636, -2.1030741116467735, -1.8108492640237228, 3.5286268023184473, -2.186231056261032, -1.5713913681549978, 1.2833389769352732, -3.2762543436035005, -1.7029746023165908, -1.8674116557548488, 2.978774508450448, -1.413300623904884, -0.18526406254899538, 1.6496378078056355, 2.4658709280349713, 4.353724774171218, -2.740403928025058, -3.0881739912095836, 1.6714155279189957, -1.4221040973530892]\n",
    "        # opt_coefficients = [0.13127246520334743, -0.019497584668193676, 0.08441258787959842, 0.18853144018033427, 2.4773268321055526, -0.14068538254906235, 0.1067057733639206, 0.1349017917477391, -0.28172200750776616, 2.3343572457141644, 0.23803460000361065, 0.02224019699673719, -0.02819220072444795, 0.14025366097313285, -0.039304691135796384, 0.034017130408503904, -1.270709512762515, 1.1222318350735496, -0.5050327642586442, 0.44136685654889646, -0.11819305256693396, -0.0171689224126802, 0.09552182521389328, -0.2328982824584922, -0.18887578187905554, -0.15747221392930363, 0.048819896470870795, 0.06658477533856631, -0.22675451226200594, -0.0731322584470268, 1.0320426049171438, 0.6225620315319085, 1.568514654834306, 0.7262178776748648, -0.22834995134017863, 0.3779892846129676, 0.4262227353912679, 0.3196753483381889, 0.2953992663817206, -0.19218722459895415, 1.0202317022438367, 1.705913290128121, 0.6088975228114619, 1.3686579107788293, -0.08953083032928448, 1.3785033310248134, 0.6210712278453568, -0.546707314086662, 0.5554710674453178, -0.738159834335507, 0.8480966018787588, 1.3078085508366757, 0.8089514554005326, -1.469472380398311, 0.18028304122964178, 0.17800584503049802, -0.16671991762565194, 0.15198499049007122, -0.04092766820003216, 0.11711271102437686, 0.5188232840958972, -1.7867718434727076, 3.5223065386348553, 2.2224437866146936, -0.7912271654827151, 0.8138625856913634, 0.8251321109743369, 0.3908880448666587, -1.0196639363402769, -0.47085490582037853, 0.4599953976090268, 2.482555446317384, -1.8990959008772232, -2.347458571630002, 1.8940454195441299, 1.6098827996499168, 0.6858333434815906, 3.099926769099066, 0.26105209891049624, 3.116263068234298, 2.5252126200803366, 0.6579487830800986, -2.0398634955596138, -2.063231611559297, 0.17200838633826052, 0.21746703903761155, -0.08632133913870561, 0.10226589649918397, 0.11017725158881246, -0.14735488542926817, -1.1227719271090217, 2.528691011685489, -3.6943677736137874, 0.4459977262437821, 2.4117078989762133, 0.26322261352850806, 1.2256689177520266, -2.2308581588753373, 0.9892257825254104, 0.8281524197559402, 1.9598978630167818, -2.1148746299260353, -2.803899573953217, -2.245508040936566, -0.6193170598374295, 1.7795990385359928, -1.8558619160741494, 1.1841888451815246, 0.16682143048943704, 0.2751262646174936, -1.8060262029518621, 0.1641950718415823, -0.5043898627135203, 2.2137233254732416, -0.3804855296494221, 0.29075602987498295, -0.013080790874542322, -0.052115930912448594, 0.0071533840307411774, 0.023714329530033218]\n",
    "        # coefficients[1:Int(l_coeff / 2)] = [opt_coefficients[1:Int(length(opt_coefficients)/4)]..., (zeros(Int(l_coeff / 4 - length(opt_coefficients)/4)))..., opt_coefficients[Int(length(opt_coefficients)/4)+1:Int(length(opt_coefficients)/2)]..., (zeros(Int(l_coeff / 4 - length(opt_coefficients)/4)))...]\n",
    "        # coefficients[Int(l_coeff / 2) + 1:end] = [opt_coefficients[Int(length(opt_coefficients)/2)+1:Int(3*length(opt_coefficients)/4)]..., zeros(Int(l_coeff / 4 - length(opt_coefficients)/4))..., opt_coefficients[Int(3*length(opt_coefficients)/4)+1:end]..., zeros(Int(l_coeff / 4 - length(opt_coefficients)/4))...]\n",
    "        coefficients[1:Int(l_coeff / 2)] = rand(Int(l_coeff / 2))*2 .-1\n",
    "        coefficients[Int(l_coeff / 2) + 1:end] = rand(Int(l_coeff / 2)) * 2 * pi .- pi\n",
    "        res = Optim.optimize(f, coefficients , LBFGS(), Optim.Options(show_trace=true, show_every=50, iterations = 1000))\n",
    "        push!(it_costs,Optim.minimum(res))\n",
    "        println(Optim.minimum(res))\n",
    "        println(Optim.minimizer(res))\n",
    "    end\n",
    "    println(minimum(it_costs))\n",
    "    push!(costs,minimum(it_costs))\n",
    "end"
   ]
  },
  {
   "cell_type": "code",
   "execution_count": 62,
   "metadata": {},
   "outputs": [
    {
     "name": "stdout",
     "output_type": "stream",
     "text": [
      "blocks: 36 iterations :1\n",
      "blocks: "
     ]
    },
    {
     "name": "stdout",
     "output_type": "stream",
     "text": [
      "36 iterations :2\n"
     ]
    },
    {
     "name": "stdout",
     "output_type": "stream",
     "text": [
      "blocks: 36 iterations :3\n",
      "blocks: "
     ]
    },
    {
     "name": "stdout",
     "output_type": "stream",
     "text": [
      "36 iterations :4\n"
     ]
    },
    {
     "name": "stdout",
     "output_type": "stream",
     "text": [
      "blocks: 36 iterations :5\n",
      "blocks: "
     ]
    },
    {
     "name": "stdout",
     "output_type": "stream",
     "text": [
      "36 iterations :6\n"
     ]
    },
    {
     "name": "stdout",
     "output_type": "stream",
     "text": [
      "blocks: 36 iterations :7\n",
      "blocks: "
     ]
    },
    {
     "name": "stdout",
     "output_type": "stream",
     "text": [
      "36 iterations :8\n"
     ]
    },
    {
     "name": "stdout",
     "output_type": "stream",
     "text": [
      "blocks: 36 iterations :9\n",
      "blocks: "
     ]
    },
    {
     "name": "stdout",
     "output_type": "stream",
     "text": [
      "36 iterations :10\n"
     ]
    }
   ],
   "source": [
    "it_costs_x = []\n",
    "coefficients_x = []\n",
    "it_costs_rx = []\n",
    "coefficients_rx = []\n",
    "blocks = []\n",
    "for depth in 36:6:36\n",
    "    for iteration in 1:10\n",
    "        println(\"blocks: \", depth,\" iterations :\", iteration)\n",
    "        l_coeff = depth * 4\n",
    "        coefficients = zeros(l_coeff)\n",
    "        # opt_coefficients = [0.0976423458354245, 0.0450708234683308, 0.10976747963502345, 0.08416609504894443, 2.551326070782372, -0.08964024119320309, 0.10485248324424644, 0.13969513913978635, -0.22349455300798343, 2.3735987675524037, 0.19185222571130106, 0.09817439361481875, 0.10464682496970999, 0.03769605958097719, 0.059524186293775296, 0.008378579058631288, -1.2534771254122576, 1.1903829602499862, 0.016016288408910853, -0.05483313987446702, -0.046034209736723807, -0.027533341989763437, 0.006811587319806202, -0.07449680205270068, 0.9909477420650091, 0.7105671478179529, 1.4506719329759887, 0.6584572437091945, -0.1462197067998505, 0.3890746504254293, 0.4550190349625619, 0.27485980171484087, 0.24866482812659083, -0.13476539605421262, 1.1225574211169433, 1.9743342171260378, 1.0562819850952958, 0.7320395937688988, 0.4678336590764824, 0.7663663217427629, 0.7493470855455572, -0.6802045420602124, 0.5414009020842547, -0.5236457353726556, 0.7006096048990366, 1.288999517730632, 0.33766541989560206, -1.3141536095001372, 1.2548422513237936, -1.4739003495829288, 3.612006758803497, 2.177902858706418, -0.52269040375497, 0.9564247538849191, 0.49002185275320925, 0.47233587796819054, -0.7410940755657739, -0.41486097094262636, 0.42027037104216425, 2.178242513687377, -1.526022531001938, -2.559186549835382, 2.114662728368936, 2.087936066989978, 0.7610469841037554, 3.1090098597892273, 0.4006039324836421, 3.1069649976511053, 1.8012672154816713, 0.5695265489909448, -2.77394600557009, -1.5567065154837294, -0.9443614233970088, 2.2647812845224053, -3.57309947272525, 0.5409027672256352, 2.425316199161032, 0.16790448062740732, 1.1584460466449906, -2.4993058076042263, 0.8206079200349031, 0.7528221404227818, 1.353149399622874, -2.1365245400174433, -2.372828756091764, -2.5847407449073145, -0.6423548068234998, 1.8509304528464354, -1.6388536401478402, 1.462231976003448, 0.605305856716617, 1.0233566302172725, -1.7465358497919055, 0.32976779077893226, -0.7074764414799524, 2.9589238120929138]\n",
    "        # coefficients[1:Int(l_coeff / 2)] = [opt_coefficients[1:Int(length(opt_coefficients)/4)]..., (zeros(Int(l_coeff / 4 - length(opt_coefficients)/4)))..., opt_coefficients[Int(length(opt_coefficients)/4)+1:Int(length(opt_coefficients)/2)]..., (zeros(Int(l_coeff / 4 - length(opt_coefficients)/4)))...]\n",
    "        # coefficients[Int(l_coeff / 2) + 1:end] = [opt_coefficients[Int(length(opt_coefficients)/2)+1:Int(3*length(opt_coefficients)/4)]..., zeros(Int(l_coeff / 4 - length(opt_coefficients)/4))..., opt_coefficients[Int(3*length(opt_coefficients)/4)+1:end]..., zeros(Int(l_coeff / 4 - length(opt_coefficients)/4))...]\n",
    "        coefficients[1:Int(l_coeff / 2)] = rand(Int(l_coeff / 2))*2 .-1\n",
    "        coefficients[Int(l_coeff / 2) + 1:end] = rand(Int(l_coeff / 2)) * 2 * pi .- pi\n",
    "        res_x = Optim.optimize(h, coefficients , LBFGS(), Optim.Options())\n",
    "        res_rx = Optim.optimize(f, coefficients , LBFGS(), Optim.Options())\n",
    "        push!(blocks, depth)\n",
    "        push!(it_costs_x,Optim.minimum(res_x))\n",
    "        push!(it_costs_rx,Optim.minimum(res_rx))\n",
    "        push!(coefficients_x,Optim.minimizer(res_x))\n",
    "        push!(coefficients_rx,Optim.minimizer(res_rx))\n",
    "    end\n",
    "end"
   ]
  },
  {
   "cell_type": "code",
   "execution_count": 63,
   "metadata": {},
   "outputs": [
    {
     "data": {
      "text/plain": [
       "\"../../data/rx_gate.txt\""
      ]
     },
     "metadata": {},
     "output_type": "display_data"
    }
   ],
   "source": [
    "df_x = DataFrame(fidelity=it_costs_x, blocks=blocks, coefficients=coefficients_x)\n",
    "df_rx = DataFrame(fidelity=it_costs_rx, blocks=blocks, coefficients=coefficients_rx)\n",
    "CSV.write(\"../../data/x_gate.txt\", df_x)\n",
    "CSV.write(\"../../data/rx_gate.txt\", df_rx)"
   ]
  },
  {
   "attachments": {},
   "cell_type": "markdown",
   "metadata": {},
   "source": [
    "# stoc gradient descent"
   ]
  },
  {
   "cell_type": "code",
   "execution_count": null,
   "metadata": {},
   "outputs": [],
   "source": [
    "costs_final = []\n",
    "for depth in 64:8:64\n",
    "    it_costs = []\n",
    "    for iteration in 1:3\n",
    "        l_coeff = depth * 4\n",
    "        coefficients = zeros(l_coeff)\n",
    "        coefficients[1:Int(l_coeff / 2)] = rand(Int(l_coeff / 2))*2 .-1\n",
    "        coefficients[Int(l_coeff / 2) + 1:end] = rand(Int(l_coeff / 2)) * 2 * pi .- pi\n",
    "        coefficients = [0.8690408632149678, -0.7236416401971805, -0.0908719850588177, 0.8258628776740167, 0.9056445769487957, -0.8220939210081029, 0.29601861853616424, 0.7813552229187792, 0.9837594907380149, -0.10686709645389225, -0.6656407250459772, 0.992278727387623, -0.4893461915705191, -1.093993962903741, 0.4845407107960842, -0.33857113975897773, -0.438797994554033, -0.5977365084149797, 0.20827466739249778, -0.8959109454265681, 0.5383716212207733, 1.3219169845803183, 0.8578064725920909, -0.7256810259845291, 0.37256259960242327, -1.2114316020995235, -0.282902962907945, -0.26590734759323503, 0.5548879566071089, 0.6803304120122661, -1.0549066677248888, 0.4013045273205048, 0.039560949181603355, 1.0529793828938236, -0.044290684794351255, -0.21790564460826214, 0.7641852601374161, 0.9310403877890154, -0.24519813978115026, 0.6528372052655407, -1.2521949229101696, -0.21682088705693697, 0.10911919627652335, -0.31451889968452584, 0.07428438971871276, 0.8168118972903352, -0.4306959382326172, -1.31201487771103, -0.5551956081923786, -0.24938592347753555, 0.7261072879386111, 0.3449918944429117, 1.0218022420859423, 0.9586632779953215, 0.9830015979456759, 1.1800344827793208, -0.6015729201693757, 0.703237921035128, -0.8659071933834304, 0.7405471254766851, 0.5502125342538493, -0.1279261558044507, 0.5436405284887846, 0.7561715320031175, -1.8294742583884145, 0.8274849373492085, -0.5023928927013781, -0.2106775708083146, -0.25623844263590434, -0.13700323024471564, -0.5427032401830472, 0.8481733035397572, 2.857123893083541, 0.6722772567617452, 3.3393904892971857, -2.7921664352181588, -1.4927954172559996, 0.3500341652427946, 2.178592973947075, 2.0048971146113073, -1.3350642362244973, 0.9711032282505817, 2.3816703973089663, -2.6138104747765247, 2.5134841942159674, -1.9047337097507626, 2.2260526473073146, -1.8796539188004344, 1.6517968966982153, 1.4620145034237324, 1.8366376463164558, -1.3614199467978896, -1.3067881525922014, -0.8271088962045482, -1.3523594955345797, -0.8216607978872826, -1.015386302411769, -1.4951025575413324, 2.199130944918348, -2.098541424724332, 1.8106459325712736, -2.7528680557326783, 1.434522172097638, 0.23235089810469334, -1.3427653914596476, -2.1865004319117882, -4.499311913607152, 3.5233665940145906, 0.11147763894762594, 1.7253123134995119, 0.3069539608771961, 0.7456729443236856, 0.9675539799184902, -2.0807423878078692, -0.21274877285924562, -2.4625967782327733, -0.8958201449217154, -0.16506248177386307, -0.7781344488152088, 0.5657089824636788, 0.49103015856219095, -1.893089322888448, 1.8586226474868552, 1.3367905090651682, -0.845322993521433, -2.414547922619251, -2.0653040809018646, 2.13700608386267, 0.6560460356595541, 1.2398223292845443, 2.962599533837159, 1.1325322497723143, 3.463842619105753, -3.938053691752728, -0.9569023982656585, 1.605238908260515, 0.6974820952130029, 2.5406564651431, 2.285077612710168, 0.027961409188739638, 1.0736422395589698, 2.4870006619787572, 0.692378916991639, -2.718696870022777]\n",
    "        beta1 = 0.8\n",
    "        beta2 = 0.999\n",
    "        alpha = 0.01\n",
    "        m = zeros(length(coefficients))\n",
    "        v = zeros(length(coefficients))\n",
    "        coeffs_stored = []\n",
    "        costs = []\n",
    "        cost_prev_it = cost(coefficients, RX, N*2)  #cost_state_prep(coefficients, N * 2, ψ_initial, ψ_final_x_gate) #\n",
    "\n",
    "        for i in 1:1000\n",
    "            grad = gradient(coefficients, RX, N * 2, 1e-8, cost_prev_it) #gradient_state_prep(coefficients, N*2, 1e-8, cost_prev_it, ψ_initial, ψ_final_x_gate) #\n",
    "            for n in 1:length(coefficients)\n",
    "                m[n] = beta1 * m[n] + ( 1 - beta1 ) * grad[n]\n",
    "                v[n] = beta2 * v[n] + ( 1 - beta2 ) * grad[n]^2\n",
    "                m_norm = m[n] / ( 1 - beta1^i )\n",
    "                v_norm = v[n] / ( 1 - beta2^i )\n",
    "                coefficients[n] = coefficients[n] - alpha * m_norm / (sqrt(v_norm) + 1e-8)\n",
    "            end\n",
    "            cost_prev_it = cost(coefficients, RX, N*2)# cost_state_prep(coefficients, N * 2, ψ_initial, ψ_final_x_gate) #\n",
    "            push!(costs, cost_prev_it)\n",
    "\n",
    "            if i % 50 == 0\n",
    "                if norm(grad) < 1e-6\n",
    "                    break\n",
    "                end\n",
    "                println(i)\n",
    "                println(cost_prev_it)\n",
    "            end\n",
    "        end\n",
    "        println(\"finished: d = \", depth)\n",
    "        println(costs[end])\n",
    "        push!(it_costs,costs[end])\n",
    "        println(coefficients)\n",
    "    end\n",
    "    println(it_costs)\n",
    "    println(minimum(it_costs))\n",
    "    push!(costs_final, minimum(it_costs))\n",
    "end\n",
    "costs_final"
   ]
  },
  {
   "cell_type": "code",
   "execution_count": 151,
   "metadata": {},
   "outputs": [],
   "source": []
  }
 ],
 "metadata": {
  "kernelspec": {
   "display_name": "Julia 1.8.4",
   "language": "julia",
   "name": "julia-1.8"
  },
  "language_info": {
   "file_extension": ".jl",
   "mimetype": "application/julia",
   "name": "julia",
   "version": "1.8.4"
  },
  "orig_nbformat": 4
 },
 "nbformat": 4,
 "nbformat_minor": 2
}
