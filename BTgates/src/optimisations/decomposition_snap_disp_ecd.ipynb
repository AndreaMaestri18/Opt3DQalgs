{
 "cells": [
  {
   "cell_type": "code",
   "execution_count": 27,
   "metadata": {},
   "outputs": [],
   "source": [
    "include(\"../Algebra/Gradients.jl\")\n",
    "include(\"../Algebra/Hamiltonians.jl\")\n",
    "include(\"../Algebra/Matrices.jl\")\n",
    "include(\"../Algebra/Propagators.jl\")\n",
    "include(\"../Amplitudes/Chebyshev.jl\")\n",
    "include(\"../Costs/Costs.jl\")\n",
    "include(\"../Gates/Xgate.jl\")\n",
    "using LinearAlgebra, Optim, Plots\n",
    "using BenchmarkTools, Distributions, DataFrames, CSV"
   ]
  },
  {
   "cell_type": "code",
   "execution_count": 34,
   "metadata": {},
   "outputs": [
    {
     "data": {
      "text/plain": [
       "1"
      ]
     },
     "metadata": {},
     "output_type": "display_data"
    }
   ],
   "source": [
    "ω_c = 5\n",
    "ω_q = 2\n",
    "χ = 3e-3\n",
    "N = 8\n",
    "amp_c = 1\n",
    "amp_q = 1"
   ]
  },
  {
   "cell_type": "code",
   "execution_count": 35,
   "metadata": {},
   "outputs": [
    {
     "data": {
      "text/plain": [
       "16-element Vector{Float64}:\n",
       " 0.0\n",
       " 0.0\n",
       " 0.0\n",
       " 0.0\n",
       " 0.0\n",
       " 0.0\n",
       " 0.0\n",
       " 1.0\n",
       " 0.0\n",
       " 0.0\n",
       " 0.0\n",
       " 0.0\n",
       " 0.0\n",
       " 0.0\n",
       " 0.0\n",
       " 0.0"
      ]
     },
     "metadata": {},
     "output_type": "display_data"
    }
   ],
   "source": [
    "I_qubit = Matrix(I,2,2)\n",
    "I_cavity = Matrix(I,N,N)\n",
    "#X_gate = kron(x_gate(N, Array[[3,4], [5,6], [7,8]]), I_qubit)\n",
    "X_gate = kron(x_gate(N, Array[[3,4]]), I_qubit)\n",
    "#X_gate = kron(x_gate(N, Array[[2,3],[4,5]]), I_qubit)\n",
    "\n",
    "θ = π/2.5\n",
    "RZ = kron(Rz(N, Array[[3,4]], θ/2), I_qubit)\n",
    "RX = kron(Rx(N, Array[[3,4]], θ/4), I_qubit)\n",
    "Udue = kron(U2(N, Array[[3,4]], [θ/2 θ/3 θ/4] ), I_qubit)\n",
    "sx = kron(I_cavity, [0 1; 1 0])\n",
    "sy = kron(I_cavity, [0 -1im; 1im 0])\n",
    "# generating matrices\n",
    "a,adag,sp,sm,sz = generate_matrices(N)\n",
    "\n",
    "ψ_initial = zeros(N)\n",
    "ψ_initial[1] = 1\n",
    "ψ_initial = kron(ψ_initial/norm(ψ_initial), [0,1])\n",
    "\n",
    "ψ_initial_rand = rand(N)\n",
    "ψ_initial_rand = kron(ψ_initial_rand/norm(ψ_initial_rand), [0,1])\n",
    "ψ_final_u = Udue * ψ_initial_rand\n",
    "ψ_final_x = RX * ψ_initial_rand\n",
    "ψ_final_x_gate = X_gate * ψ_initial_rand\n",
    "ψ_final_superposition = kron(ones(N)/norm(ones(N)), [0,1])\n",
    "\n",
    "ψ_final_k = zeros(N)\n",
    "ψ_final_k[4] = 1\n",
    "ψ_final_k = kron(ψ_final_k/norm(ψ_final_k), [0,1])"
   ]
  },
  {
   "cell_type": "code",
   "execution_count": 36,
   "metadata": {},
   "outputs": [
    {
     "data": {
      "text/plain": [
       "ROT (generic function with 1 method)"
      ]
     },
     "metadata": {},
     "output_type": "display_data"
    }
   ],
   "source": [
    "disp(b) = exp(b * adag - b * a)\n",
    "snap(x) = kron(Diagonal(exp.(-1im.*x)),I_qubit)\n",
    "\n",
    "ECD(β) = exp(β/2 * adag - β'/2 * a) * sp + exp(-β/2 * adag + β'/2 * a) * sm\n",
    "ROT(ϕ, θ) = exp(-1im * θ / 2 * ( sx * cos(ϕ) + sy * sin(ϕ) )) "
   ]
  },
  {
   "cell_type": "code",
   "execution_count": 37,
   "metadata": {},
   "outputs": [
    {
     "data": {
      "text/plain": [
       "snap_disp_cost_state_prep (generic function with 1 method)"
      ]
     },
     "metadata": {},
     "output_type": "display_data"
    }
   ],
   "source": [
    "function snap_disp_classic(coefficients, unitary, N, blocks,disp,snap)\n",
    "\n",
    "    αsi = coefficients[1: blocks]\n",
    "    θs = coefficients[blocks + 1 : end]\n",
    "    propagator = Matrix{ComplexF64}(I,N,N)\n",
    "    q_d = Int(N/2)\n",
    "\n",
    "    for i in 1:blocks\n",
    "        propagator = propagator * disp(αsi[i]) * snap(θs[(i - 1) * q_d + 1 : i * q_d])\n",
    "    end\n",
    "\n",
    "    return 1 - norm(tr(propagator*unitary') / N)^2\n",
    "    \n",
    "end\n",
    "\n",
    "function snap_disp_classic_gate(coefficients, unitary, N, blocks,disp,snap)\n",
    "\n",
    "    αsi = coefficients[1: blocks]\n",
    "    θs = coefficients[blocks + 1 : end]\n",
    "    propagator = Matrix{ComplexF64}(I,N,N)\n",
    "    q_d = Int(N/2)\n",
    "\n",
    "    for i in 1:blocks\n",
    "        propagator = propagator * disp(αsi[i]) * snap(θs[(i - 1) * q_d + 1 : i * q_d])\n",
    "    end\n",
    "\n",
    "    return propagator\n",
    "    \n",
    "end\n",
    "\n",
    "function snap_disp_cost_gate(coefficients, unitary, N, blocks,disp,snap)\n",
    "\n",
    "    L = length(coefficients)\n",
    "    αs = coefficients[1: blocks]\n",
    "    q_d = Int(N/2)\n",
    "\n",
    "    θs = coefficients[blocks + 1 : end]\n",
    "\n",
    "    propagator = Matrix{ComplexF64}(I,N,N)\n",
    "\n",
    "    for i in 1:blocks\n",
    "        propagator = propagator * disp(αs[i]) * snap(θs[(i - 1) * q_d + 1 : i * q_d]) * disp(αs[i])'\n",
    "    end\n",
    "\n",
    "    return 1 - norm(tr(propagator*unitary) / N)^2\n",
    "    \n",
    "end\n",
    "\n",
    "function snap_disp_cost_gate_norm(coefficients, unitary, N, blocks,disp,snap)\n",
    "\n",
    "    L = length(coefficients)\n",
    "    αs = coefficients[1: blocks]\n",
    "    q_d = Int(N/2)\n",
    "\n",
    "    θs = coefficients[blocks + 1 : end]\n",
    "\n",
    "    propagator = Matrix{ComplexF64}(I,N,N)\n",
    "\n",
    "    for i in 1:blocks\n",
    "        propagator = propagator * disp(αs[i]) * snap(θs[(i - 1) * q_d + 1 : i * q_d]) * disp(αs[i])'\n",
    "    end\n",
    "\n",
    "    return norm(propagator - unitary)\n",
    "    \n",
    "end\n",
    "\n",
    "function snap_disp_cost_gate_opnorm(coefficients, unitary, N, blocks,disp,snap)\n",
    "\n",
    "    L = length(coefficients)\n",
    "    αs = coefficients[1: blocks]\n",
    "    q_d = Int(N/2)\n",
    "\n",
    "    θs = coefficients[blocks + 1 : end]\n",
    "\n",
    "    propagator = Matrix{ComplexF64}(I,N,N)\n",
    "\n",
    "    for i in 1:blocks\n",
    "        propagator = propagator * disp(αs[i]) * snap(θs[(i - 1) * q_d + 1 : i * q_d]) * disp(αs[i])'\n",
    "    end\n",
    "\n",
    "    return opnorm(propagator - unitary)\n",
    "    \n",
    "end\n",
    "\n",
    "function snap_disp_cost_state_prep(coefficients, N, ψ_n, ψ_m, blocks)\n",
    "\n",
    "\n",
    "    αs = coefficients[1: blocks]\n",
    "\n",
    "    θs = coefficients[blocks + 1 : end]\n",
    "\n",
    "    q_d = Int(N/2)\n",
    "\n",
    "    propagator = Matrix{ComplexF64}(I,N,N)\n",
    "\n",
    "    for i in 1:blocks\n",
    "        propagator = propagator * disp(αs[i]) * snap(θs[(i - 1) * q_d + 1 : i * q_d]) * disp(αs[i])'\n",
    "    end\n",
    "\n",
    "    return 1 - norm(ψ_m' * propagator * ψ_n)^2\n",
    "    \n",
    "end\n"
   ]
  },
  {
   "attachments": {},
   "cell_type": "markdown",
   "metadata": {},
   "source": [
    "## STATE PREP"
   ]
  },
  {
   "cell_type": "code",
   "execution_count": 38,
   "metadata": {},
   "outputs": [
    {
     "name": "stdout",
     "output_type": "stream",
     "text": [
      "blocks: 1 iterations :1\n",
      "blocks: "
     ]
    },
    {
     "name": "stdout",
     "output_type": "stream",
     "text": [
      "1 iterations :2\n"
     ]
    },
    {
     "name": "stdout",
     "output_type": "stream",
     "text": [
      "blocks: 1 iterations :3\n",
      "blocks: "
     ]
    },
    {
     "name": "stdout",
     "output_type": "stream",
     "text": [
      "1 iterations :4\n"
     ]
    },
    {
     "name": "stdout",
     "output_type": "stream",
     "text": [
      "blocks: 1 iterations :5\n",
      "blocks: "
     ]
    },
    {
     "name": "stdout",
     "output_type": "stream",
     "text": [
      "2 iterations :1\n"
     ]
    },
    {
     "name": "stdout",
     "output_type": "stream",
     "text": [
      "blocks: 2 iterations :2\n",
      "blocks: "
     ]
    },
    {
     "name": "stdout",
     "output_type": "stream",
     "text": [
      "2 iterations :3\n"
     ]
    },
    {
     "name": "stdout",
     "output_type": "stream",
     "text": [
      "blocks: 2 iterations :4\n",
      "blocks: "
     ]
    },
    {
     "name": "stdout",
     "output_type": "stream",
     "text": [
      "2 iterations :5\n"
     ]
    },
    {
     "name": "stdout",
     "output_type": "stream",
     "text": [
      "blocks: 3 iterations :1\n",
      "blocks: "
     ]
    },
    {
     "name": "stdout",
     "output_type": "stream",
     "text": [
      "3 iterations :2\n"
     ]
    },
    {
     "name": "stdout",
     "output_type": "stream",
     "text": [
      "blocks: 3 iterations :3\n",
      "blocks: "
     ]
    },
    {
     "name": "stdout",
     "output_type": "stream",
     "text": [
      "3 iterations :4\n"
     ]
    },
    {
     "name": "stdout",
     "output_type": "stream",
     "text": [
      "blocks: 3 iterations :5\n",
      "blocks: "
     ]
    },
    {
     "name": "stdout",
     "output_type": "stream",
     "text": [
      "4 iterations :1\n"
     ]
    },
    {
     "name": "stdout",
     "output_type": "stream",
     "text": [
      "blocks: 4 iterations :2\n",
      "blocks: "
     ]
    },
    {
     "name": "stdout",
     "output_type": "stream",
     "text": [
      "4 iterations :3\n"
     ]
    },
    {
     "name": "stdout",
     "output_type": "stream",
     "text": [
      "blocks: 4 iterations :4\n",
      "blocks: "
     ]
    },
    {
     "name": "stdout",
     "output_type": "stream",
     "text": [
      "4 iterations :5\n"
     ]
    },
    {
     "name": "stdout",
     "output_type": "stream",
     "text": [
      "blocks: 5 iterations :1\n",
      "blocks: "
     ]
    },
    {
     "name": "stdout",
     "output_type": "stream",
     "text": [
      "5 iterations :2\n"
     ]
    },
    {
     "name": "stdout",
     "output_type": "stream",
     "text": [
      "blocks: 5 iterations :3\n",
      "blocks: "
     ]
    },
    {
     "name": "stdout",
     "output_type": "stream",
     "text": [
      "5 iterations :4\n"
     ]
    },
    {
     "name": "stdout",
     "output_type": "stream",
     "text": [
      "blocks: 5 iterations :5\n"
     ]
    }
   ],
   "source": [
    "it_costs_x = []\n",
    "coefficients_x = []\n",
    "it_costs_rx = []\n",
    "coefficients_rx = []\n",
    "it_costs_u = []\n",
    "coefficients_u = []\n",
    "it_costs_superposition = []\n",
    "coefficients_superposition = []\n",
    "it_costs_k = []\n",
    "coefficients_k = []\n",
    "blocks = []\n",
    "for depth in 1:1:5\n",
    "    x(x) = snap_disp_cost_state_prep(x, N * 2, ψ_initial_rand, ψ_final_u,depth)\n",
    "    rx(x) = snap_disp_cost_state_prep(x, N * 2, ψ_initial_rand, ψ_final_x,depth)\n",
    "    u(x) = snap_disp_cost_state_prep(x, N * 2, ψ_initial_rand, ψ_final_x_gate, depth)\n",
    "    k(x) = snap_disp_cost_state_prep(x, N * 2, ψ_initial, ψ_final_k,depth)\n",
    "    superposition(x) = snap_disp_cost_state_prep(x, N * 2, ψ_initial, ψ_final_superposition,depth)\n",
    "    for iteration in 1:5\n",
    "        println(\"blocks: \", depth,\" iterations :\", iteration)\n",
    "        coefficients = zeros((N + 1 ) * depth)\n",
    "        coefficients[1: depth] = rand(depth)*2 .-1\n",
    "        coefficients[depth + 1:end] = rand(N*depth) * 2 * pi .- pi\n",
    "        res_x = Optim.optimize(x, coefficients , LBFGS(), Optim.Options())\n",
    "        res_rx = Optim.optimize(rx, coefficients , LBFGS(), Optim.Options())\n",
    "        res_u = Optim.optimize(u, coefficients , LBFGS(), Optim.Options())\n",
    "        res_superposition = Optim.optimize(superposition, coefficients , LBFGS(), Optim.Options())\n",
    "        res_k = Optim.optimize(k, coefficients , LBFGS(), Optim.Options())\n",
    "        push!(blocks, depth)\n",
    "        push!(it_costs_x,Optim.minimum(res_x))\n",
    "        push!(it_costs_rx,Optim.minimum(res_rx))\n",
    "        push!(it_costs_u,Optim.minimum(res_u))\n",
    "        push!(it_costs_k,Optim.minimum(res_k))\n",
    "        push!(it_costs_superposition,Optim.minimum(res_superposition))\n",
    "        push!(coefficients_x,Optim.minimizer(res_x))\n",
    "        push!(coefficients_rx,Optim.minimizer(res_rx))\n",
    "        push!(coefficients_u,Optim.minimizer(res_u))\n",
    "        push!(coefficients_k,Optim.minimizer(res_k))\n",
    "        push!(coefficients_superposition,Optim.minimizer(res_superposition))\n",
    "    end\n",
    "end"
   ]
  },
  {
   "cell_type": "code",
   "execution_count": 39,
   "metadata": {},
   "outputs": [
    {
     "data": {
      "text/plain": [
       "\"../../data/state_prep/7_photons/snap_disp/superposition_gate.txt\""
      ]
     },
     "metadata": {},
     "output_type": "display_data"
    }
   ],
   "source": [
    "df_x = DataFrame(fidelity=it_costs_x, blocks=blocks, coefficients=coefficients_x)\n",
    "df_rx = DataFrame(fidelity=it_costs_rx, blocks=blocks, coefficients=coefficients_rx)\n",
    "df_u = DataFrame(fidelity=it_costs_u, blocks=blocks, coefficients=coefficients_u)\n",
    "df_k = DataFrame(fidelity=it_costs_k, blocks=blocks, coefficients=coefficients_k)\n",
    "df_superposition = DataFrame(fidelity=it_costs_superposition, blocks=blocks, coefficients=coefficients_superposition)\n",
    "CSV.write(\"../../data/state_prep/7_photons/snap_disp/x_gate.txt\", df_x)\n",
    "CSV.write(\"../../data/state_prep/7_photons/snap_disp/rx_gate.txt\", df_rx)\n",
    "CSV.write(\"../../data/state_prep/7_photons/snap_disp/u_gate.txt\", df_u)\n",
    "CSV.write(\"../../data/state_prep/7_photons/snap_disp/k_gate.txt\", df_k)\n",
    "CSV.write(\"../../data/state_prep/7_photons/snap_disp/superposition_gate.txt\", df_superposition)"
   ]
  },
  {
   "attachments": {},
   "cell_type": "markdown",
   "metadata": {},
   "source": [
    "## trace"
   ]
  },
  {
   "cell_type": "code",
   "execution_count": 46,
   "metadata": {},
   "outputs": [
    {
     "name": "stdout",
     "output_type": "stream",
     "text": [
      "blocks: 1 iterations :1\n",
      "blocks: "
     ]
    },
    {
     "name": "stdout",
     "output_type": "stream",
     "text": [
      "1 iterations :2\n",
      "blocks: 1 iterations :3\n",
      "blocks: 1 iterations :4\n"
     ]
    },
    {
     "name": "stdout",
     "output_type": "stream",
     "text": [
      "blocks: 1 iterations :5\n",
      "blocks: 1 iterations :6\n",
      "blocks: 1 iterations :7\n",
      "blocks: "
     ]
    },
    {
     "name": "stdout",
     "output_type": "stream",
     "text": [
      "1 iterations :8\n",
      "blocks: 1 iterations :9\n",
      "blocks: 1 iterations :10\n"
     ]
    },
    {
     "name": "stdout",
     "output_type": "stream",
     "text": [
      "blocks: 2 iterations :1\n",
      "blocks: "
     ]
    },
    {
     "name": "stdout",
     "output_type": "stream",
     "text": [
      "2 iterations :2\n"
     ]
    },
    {
     "name": "stdout",
     "output_type": "stream",
     "text": [
      "blocks: 2 iterations :3\n",
      "blocks: "
     ]
    },
    {
     "name": "stdout",
     "output_type": "stream",
     "text": [
      "2 iterations :4\n"
     ]
    },
    {
     "name": "stdout",
     "output_type": "stream",
     "text": [
      "blocks: 2 iterations :5\n",
      "blocks: "
     ]
    },
    {
     "name": "stdout",
     "output_type": "stream",
     "text": [
      "2 iterations :6\n"
     ]
    },
    {
     "name": "stdout",
     "output_type": "stream",
     "text": [
      "blocks: 2 iterations :7\n",
      "blocks: "
     ]
    },
    {
     "name": "stdout",
     "output_type": "stream",
     "text": [
      "2 iterations :8\n"
     ]
    },
    {
     "name": "stdout",
     "output_type": "stream",
     "text": [
      "blocks: 2 iterations :9\n",
      "blocks: "
     ]
    },
    {
     "name": "stdout",
     "output_type": "stream",
     "text": [
      "2 iterations :10\n"
     ]
    },
    {
     "name": "stdout",
     "output_type": "stream",
     "text": [
      "blocks: 3 iterations :1\n",
      "blocks: "
     ]
    },
    {
     "name": "stdout",
     "output_type": "stream",
     "text": [
      "3 iterations :2\n"
     ]
    },
    {
     "name": "stdout",
     "output_type": "stream",
     "text": [
      "blocks: 3 iterations :3\n",
      "blocks: "
     ]
    },
    {
     "name": "stdout",
     "output_type": "stream",
     "text": [
      "3 iterations :4\n"
     ]
    },
    {
     "name": "stdout",
     "output_type": "stream",
     "text": [
      "blocks: 3 iterations :5\n",
      "blocks: "
     ]
    },
    {
     "name": "stdout",
     "output_type": "stream",
     "text": [
      "3 iterations :6\n"
     ]
    },
    {
     "name": "stdout",
     "output_type": "stream",
     "text": [
      "blocks: 3 iterations :7\n",
      "blocks: "
     ]
    },
    {
     "name": "stdout",
     "output_type": "stream",
     "text": [
      "3 iterations :8\n"
     ]
    },
    {
     "name": "stdout",
     "output_type": "stream",
     "text": [
      "blocks: 3 iterations :9\n",
      "blocks: "
     ]
    },
    {
     "name": "stdout",
     "output_type": "stream",
     "text": [
      "3 iterations :10\n"
     ]
    },
    {
     "name": "stdout",
     "output_type": "stream",
     "text": [
      "blocks: 4 iterations :1\n",
      "blocks: "
     ]
    },
    {
     "name": "stdout",
     "output_type": "stream",
     "text": [
      "4 iterations :2\n"
     ]
    },
    {
     "name": "stdout",
     "output_type": "stream",
     "text": [
      "blocks: 4 iterations :3\n",
      "blocks: "
     ]
    },
    {
     "name": "stdout",
     "output_type": "stream",
     "text": [
      "4 iterations :4\n"
     ]
    },
    {
     "name": "stdout",
     "output_type": "stream",
     "text": [
      "blocks: 4 iterations :5\n",
      "blocks: "
     ]
    },
    {
     "name": "stdout",
     "output_type": "stream",
     "text": [
      "4 iterations :6\n"
     ]
    },
    {
     "name": "stdout",
     "output_type": "stream",
     "text": [
      "blocks: 4 iterations :7\n",
      "blocks: "
     ]
    },
    {
     "name": "stdout",
     "output_type": "stream",
     "text": [
      "4 iterations :8\n"
     ]
    },
    {
     "name": "stdout",
     "output_type": "stream",
     "text": [
      "blocks: 4 iterations :9\n",
      "blocks: "
     ]
    },
    {
     "name": "stdout",
     "output_type": "stream",
     "text": [
      "4 iterations :10\n"
     ]
    },
    {
     "name": "stdout",
     "output_type": "stream",
     "text": [
      "blocks: 5 iterations :1\n",
      "blocks: "
     ]
    },
    {
     "name": "stdout",
     "output_type": "stream",
     "text": [
      "5 iterations :2\n"
     ]
    },
    {
     "name": "stdout",
     "output_type": "stream",
     "text": [
      "blocks: 5 iterations :3\n",
      "blocks: "
     ]
    },
    {
     "name": "stdout",
     "output_type": "stream",
     "text": [
      "5 iterations :4\n"
     ]
    },
    {
     "name": "stdout",
     "output_type": "stream",
     "text": [
      "blocks: 5 iterations :5\n",
      "blocks: "
     ]
    },
    {
     "name": "stdout",
     "output_type": "stream",
     "text": [
      "5 iterations :6\n"
     ]
    },
    {
     "name": "stdout",
     "output_type": "stream",
     "text": [
      "blocks: 5 iterations :7\n",
      "blocks: "
     ]
    },
    {
     "name": "stdout",
     "output_type": "stream",
     "text": [
      "5 iterations :8\n"
     ]
    },
    {
     "name": "stdout",
     "output_type": "stream",
     "text": [
      "blocks: 5 iterations :9\n",
      "blocks: "
     ]
    },
    {
     "name": "stdout",
     "output_type": "stream",
     "text": [
      "5 iterations :10\n"
     ]
    }
   ],
   "source": [
    "it_costs_x = []\n",
    "coefficients_x = []\n",
    "blocks_array = []\n",
    "it_costs_rx = []\n",
    "coefficients_rx = []\n",
    "for blocks in 1:1:5\n",
    "    for iteration in 1:10\n",
    "        println(\"blocks: \", blocks,\" iterations :\", iteration)\n",
    "        coefficients_initial = zeros((N + 1 ) * blocks)\n",
    "        coefficients_initial[1: blocks] = rand(blocks)*2 .-1\n",
    "        coefficients_initial[blocks + 1:end] = rand(N*blocks) * 2 * pi .- pi\n",
    "        f(x) = snap_disp_cost_gate(x, RX, N * 2, blocks, disp,snap)\n",
    "        g(x) = snap_disp_cost_gate(x, X_gate, N * 2, blocks, disp,snap)\n",
    "        res_x = Optim.optimize(g, coefficients_initial , LBFGS(), Optim.Options())\n",
    "        res_rx = Optim.optimize(f, coefficients_initial , LBFGS(), Optim.Options())\n",
    "        push!(it_costs_x,Optim.minimum(res_x))\n",
    "        push!(it_costs_rx,Optim.minimum(res_rx))\n",
    "        push!(coefficients_x,Optim.minimizer(res_x))\n",
    "        push!(blocks_array, blocks)\n",
    "        push!(coefficients_rx,Optim.minimizer(res_rx))\n",
    "    end\n",
    "end"
   ]
  },
  {
   "cell_type": "code",
   "execution_count": 47,
   "metadata": {},
   "outputs": [
    {
     "data": {
      "text/plain": [
       "\"../../data/pi_over_10.txt\""
      ]
     },
     "metadata": {},
     "output_type": "display_data"
    }
   ],
   "source": [
    "save = true\n",
    "if save\n",
    "    df_x = DataFrame(fidelity=it_costs_x, blocks=blocks_array, coefficients=coefficients_x)\n",
    "    df_rx = DataFrame(fidelity=it_costs_rx, blocks=blocks_array, coefficients=coefficients_rx)\n",
    "    CSV.write(\"../../data/(3,4).txt\", df_x)\n",
    "    CSV.write(\"../../data/pi_over_10.txt\", df_rx)\n",
    "end"
   ]
  },
  {
   "cell_type": "code",
   "execution_count": null,
   "metadata": {},
   "outputs": [],
   "source": []
  }
 ],
 "metadata": {
  "kernelspec": {
   "display_name": "Julia 1.8.4",
   "language": "julia",
   "name": "julia-1.8"
  },
  "language_info": {
   "file_extension": ".jl",
   "mimetype": "application/julia",
   "name": "julia",
   "version": "1.8.4"
  },
  "orig_nbformat": 4
 },
 "nbformat": 4,
 "nbformat_minor": 2
}
