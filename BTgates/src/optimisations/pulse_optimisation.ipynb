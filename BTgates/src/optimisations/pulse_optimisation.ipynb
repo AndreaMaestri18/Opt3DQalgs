{
 "cells": [
  {
   "cell_type": "code",
   "execution_count": 14,
   "metadata": {},
   "outputs": [
    {
     "data": {
      "text/plain": [
       "U2 (generic function with 1 method)"
      ]
     },
     "metadata": {},
     "output_type": "display_data"
    }
   ],
   "source": [
    "include(\"../Algebra/Gradients.jl\")\n",
    "include(\"../Algebra/Hamiltonians.jl\")\n",
    "include(\"../Algebra/Matrices.jl\")\n",
    "include(\"../Algebra/Propagators.jl\")\n",
    "include(\"../Amplitudes/Chebyshev.jl\")\n",
    "include(\"../Costs/Costs.jl\")\n",
    "include(\"../Gates/Xgate.jl\")"
   ]
  },
  {
   "cell_type": "code",
   "execution_count": 15,
   "metadata": {},
   "outputs": [],
   "source": [
    "using LinearAlgebra, Optim, Measures, CSV, DataFrames,Plots"
   ]
  },
  {
   "cell_type": "code",
   "execution_count": 64,
   "metadata": {},
   "outputs": [
    {
     "data": {
      "text/plain": [
       "2"
      ]
     },
     "metadata": {},
     "output_type": "display_data"
    }
   ],
   "source": [
    "ω_c = 5000\n",
    "ω_q = 3000\n",
    "χ = 3e-1\n",
    "N = 8\n",
    "amp_c = 1\n",
    "amp_q = 1\n",
    "T = 2"
   ]
  },
  {
   "attachments": {},
   "cell_type": "markdown",
   "metadata": {},
   "source": [
    "### Target gate"
   ]
  },
  {
   "cell_type": "code",
   "execution_count": 65,
   "metadata": {},
   "outputs": [
    {
     "data": {
      "text/plain": [
       "16×16 Matrix{ComplexF64}:\n",
       " -0.975682-0.21919im        0.0+0.0im      …        0.0+0.0im\n",
       "       0.0+0.0im      -0.975682+0.21919im           0.0+0.0im\n",
       "       0.0+0.0im            0.0+0.0im               0.0+0.0im\n",
       "       0.0+0.0im            0.0+0.0im               0.0+0.0im\n",
       "       0.0+0.0im            0.0+0.0im               0.0+0.0im\n",
       "       0.0+0.0im            0.0+0.0im      …        0.0+0.0im\n",
       "       0.0+0.0im            0.0+0.0im               0.0+0.0im\n",
       "       0.0+0.0im            0.0+0.0im               0.0+0.0im\n",
       "       0.0+0.0im            0.0+0.0im               0.0+0.0im\n",
       "       0.0+0.0im            0.0+0.0im               0.0+0.0im\n",
       "       0.0+0.0im            0.0+0.0im      …        0.0+0.0im\n",
       "       0.0+0.0im            0.0+0.0im               0.0+0.0im\n",
       "       0.0+0.0im            0.0+0.0im               0.0+0.0im\n",
       "       0.0+0.0im            0.0+0.0im               0.0+0.0im\n",
       "       0.0+0.0im            0.0+0.0im               0.0+0.0im\n",
       "       0.0+0.0im            0.0+0.0im      …  -0.734054-0.679091im"
      ]
     },
     "metadata": {},
     "output_type": "display_data"
    }
   ],
   "source": [
    "I_qubit = Matrix(I,2,2)\n",
    "I_cavity = Matrix(I,N,N)\n",
    "#X_gate = kron(x_gate(N, Array[[3,4], [5,6], [7,8]]), I_qubit)\n",
    "#X_gate = kron(x_gate(N, Array[[1,2]]), I_qubit)\n",
    "X_gate = kron(x_gate(N, Array[[3,4]]), I_qubit)\n",
    "\n",
    "θ = π/2.5\n",
    "RZ = kron(Rz(N, Array[[1,3]], θ), I_qubit)\n",
    "RX = kron(Rx(N, Array[[3,4]], θ/4), I_qubit)\n",
    "Udue = kron(U2(N, Array[[3,4]], [θ/2 θ/3 θ/4] ), I_qubit)\n",
    "\n",
    "sx = kron(I_cavity, [0 1; 1 0])\n",
    "sy = kron(I_cavity, [0 -1im; 1im 0])\n",
    "# generating matrices\n",
    "a,adag,sp,sm,sz = generate_matrices(N)\n",
    "\n",
    "ψ_initial = zeros(N)\n",
    "ψ_initial[1] = 1\n",
    "ψ_initial = kron(ψ_initial/norm(ψ_initial), [0,1])\n",
    "\n",
    "interaction_transformation(t) = cis(- (ω_c * a' * a + ω_q / 2 * sz) * t)\n",
    "int_transformation = interaction_transformation(T)"
   ]
  },
  {
   "cell_type": "code",
   "execution_count": 66,
   "metadata": {},
   "outputs": [
    {
     "data": {
      "text/plain": [
       "16×16 Matrix{Float64}:\n",
       " 0.0  0.0  0.0    0.0   0.0   0.0  …  0.0    0.0   0.0   0.0  0.0    0.0\n",
       " 0.0  0.0  0.0    0.0   0.0   0.0     0.0    0.0   0.0   0.0  0.0    0.0\n",
       " 0.0  0.0  0.15   0.0   0.0   0.0     0.0    0.0   0.0   0.0  0.0    0.0\n",
       " 0.0  0.0  0.0   -0.15  0.0   0.0     0.0    0.0   0.0   0.0  0.0    0.0\n",
       " 0.0  0.0  0.0    0.0   0.3   0.0     0.0    0.0   0.0   0.0  0.0    0.0\n",
       " 0.0  0.0  0.0    0.0   0.0  -0.3  …  0.0    0.0   0.0   0.0  0.0    0.0\n",
       " 0.0  0.0  0.0    0.0   0.0   0.0     0.0    0.0   0.0   0.0  0.0    0.0\n",
       " 0.0  0.0  0.0    0.0   0.0   0.0     0.0    0.0   0.0   0.0  0.0    0.0\n",
       " 0.0  0.0  0.0    0.0   0.0   0.0     0.0    0.0   0.0   0.0  0.0    0.0\n",
       " 0.0  0.0  0.0    0.0   0.0   0.0     0.0    0.0   0.0   0.0  0.0    0.0\n",
       " 0.0  0.0  0.0    0.0   0.0   0.0  …  0.75   0.0   0.0   0.0  0.0    0.0\n",
       " 0.0  0.0  0.0    0.0   0.0   0.0     0.0   -0.75  0.0   0.0  0.0    0.0\n",
       " 0.0  0.0  0.0    0.0   0.0   0.0     0.0    0.0   0.9   0.0  0.0    0.0\n",
       " 0.0  0.0  0.0    0.0   0.0   0.0     0.0    0.0   0.0  -0.9  0.0    0.0\n",
       " 0.0  0.0  0.0    0.0   0.0   0.0     0.0    0.0   0.0   0.0  1.05   0.0\n",
       " 0.0  0.0  0.0    0.0   0.0   0.0  …  0.0    0.0   0.0   0.0  0.0   -1.05"
      ]
     },
     "metadata": {},
     "output_type": "display_data"
    }
   ],
   "source": [
    "H_drift = χ * adag * a * sz / 2 #+ ω_c * adag * a + ω_q * sz / 2"
   ]
  },
  {
   "cell_type": "code",
   "execution_count": 67,
   "metadata": {},
   "outputs": [
    {
     "data": {
      "text/plain": [
       "gradient (generic function with 2 methods)"
      ]
     },
     "metadata": {},
     "output_type": "display_data"
    }
   ],
   "source": [
    "function cost_from_0_dispersive(H_drift, sp, sm, a, adag, T, δt, coefficients, unitary, ω_c, ω_q, initial_state, final_state, amp_q=1e-1, amp_c=1e-1)\n",
    "\n",
    "    # initialising the propagator\n",
    "    dim = size(H_drift,1)\n",
    "    propagator = Matrix{ComplexF64}(I,dim,dim)\n",
    "    amplitude_c(t) = chebyshev_amplitude(coefficients[1:Int(length(coefficients)/2)], T, t)\n",
    "    amplitude_q(t) = chebyshev_amplitude(coefficients[Int(length(coefficients)/2) + 1:end], T, t)\n",
    "\n",
    "    # time ordered product of the single exponential matrices\n",
    "    # is this true at all? or we need more time steps aniway?\n",
    "    for l in 0:δt:T\n",
    "        H = H_drift + amp_q * (amplitude_q(l) * sp + amplitude_q(l)' * sm) + amp_c * (amplitude_c(l) * a +  amplitude_c(l)' * adag)\n",
    "        infinitesimal_propagator  = cis(- H * δt)\n",
    "        propagator = infinitesimal_propagator * propagator\n",
    "    end\n",
    "\n",
    "    c = final_state' * propagator * initial_state\n",
    "   \n",
    "    return 1 - norm(c)^2\n",
    "end\n",
    "\n",
    "function cost_from_0_dispersive_gate(H_drift, sp, sm, a, adag, T, δt, coefficients, unitary, ω_c, ω_q, amp_q, amp_c)\n",
    "\n",
    "    # initialising the propagator\n",
    "    dim = size(H_drift,1)\n",
    "    propagator = Matrix{ComplexF64}(I,dim,dim)\n",
    "    amplitude_c(t) = chebyshev_amplitude(coefficients[1:Int(length(coefficients)/2)], T, t)\n",
    "    amplitude_q(t) = chebyshev_amplitude(coefficients[Int(length(coefficients)/2) + 1:end], T, t)\n",
    "\n",
    "    # time ordered product of the single exponential matrices\n",
    "    # is this true at all? or we need more time steps aniway?\n",
    "    for l in 0:δt:T\n",
    "        H = H_drift + amp_q * (amplitude_q(l) * sp + amplitude_q(l)' * sm) + amp_c * (amplitude_c(l) * a +  amplitude_c(l)' * adag)\n",
    "        infinitesimal_propagator  = cis(- H * δt)\n",
    "        propagator = infinitesimal_propagator * propagator\n",
    "    end\n",
    "\n",
    "    c = tr(unitary' * int_transformation * propagator)/dim\n",
    "   \n",
    "    return 1 - norm(c)^2\n",
    "end\n",
    "\n",
    "function cost_from_0_dispersive_gate_non_interaction(H_drift, sp, sm, a, adag, T, δt, coefficients, unitary, ω_c, ω_q, amp_q, amp_c)\n",
    "\n",
    "    # initialising the propagator\n",
    "    dim = size(H_drift,1)\n",
    "    propagator = Matrix{ComplexF64}(I,dim,dim)\n",
    "    amplitude_c(t) = chebyshev_amplitude(coefficients[1:Int(length(coefficients)/2)], T, t)\n",
    "    amplitude_q(t) = chebyshev_amplitude(coefficients[Int(length(coefficients)/2) + 1:end], T, t)\n",
    "\n",
    "    # time ordered product of the single exponential matrices\n",
    "    # is this true at all? or we need more time steps aniway?\n",
    "    for l in 0:δt:T\n",
    "        H = H_drift + amp_q * (amplitude_q(l) * sp + amplitude_q(l)' * sm) + amp_c * (amplitude_c(l) * a +  amplitude_c(l)' * adag)\n",
    "        infinitesimal_propagator  = cis(- H * δt)\n",
    "        propagator = infinitesimal_propagator * propagator\n",
    "    end\n",
    "\n",
    "    c = tr(unitary' * propagator)/dim\n",
    "   \n",
    "    return 1 - norm(c)^2\n",
    "end\n",
    "\n",
    "function propagator(H_drift, sp, sm, a, adag, T, δt, coefficients)\n",
    "\n",
    "    # initialising the propagator\n",
    "    dim = size(H_drift,1)\n",
    "    propagator = Matrix{ComplexF64}(I,dim,dim)\n",
    "\n",
    "    amplitude_c = [ChebyshevT(coefficients[1:Int(length(coefficients)/2)])((2t - T)/T) for t in 0:δt:T]\n",
    "    amplitude_q = [ChebyshevT(coefficients[Int(length(coefficients)/2) + 1:end])((2t - T)/T) for t in 0:δt:T]\n",
    "\n",
    "\n",
    "    # time ordered product of the single exponential matrices\n",
    "    # is this true at all? or we need more time steps aniway?\n",
    "    for n in 1:1:Int(T/δt)+1\n",
    "        H = H_drift + (amplitude_q(n) * sp + amplitude_q(n)' * sm) + (amplitude_c(n) * a + amplitude_c(n)' * adag)\n",
    "        infinitesimal_propagator  = cis(- H * δt)\n",
    "        propagator = infinitesimal_propagator * propagator\n",
    "    end\n",
    "\n",
    "    return propagator * exp(-1im*angle(propagator[8, 8]))\n",
    "    \n",
    "end\n",
    "\n",
    "function gradient(coefficients, unitary, N, h, cost_before_increment,cost)\n",
    "\n",
    "    L = length(coefficients)\n",
    "    gradient = zeros(L)\n",
    "\n",
    "    for i in 1:L\n",
    "        coeffs_copy = copy(coefficients)\n",
    "        coeffs_copy[i] = coefficients[i] + h\n",
    "        gradient[i] = (cost(coeffs_copy) - cost_before_increment) / h\n",
    "    end\n",
    "\n",
    "    return gradient\n",
    "\n",
    "end"
   ]
  },
  {
   "cell_type": "code",
   "execution_count": 68,
   "metadata": {},
   "outputs": [
    {
     "data": {
      "text/plain": [
       "16×16 Matrix{ComplexF64}:\n",
       " -0.0954692-0.995432im        -0.0-0.0im       …       0.0+0.0im\n",
       "       -0.0-0.0im       -0.0954692-0.995432im          0.0+0.0im\n",
       "        0.0+0.0im              0.0+0.0im               0.0+0.0im\n",
       "        0.0+0.0im              0.0+0.0im               0.0+0.0im\n",
       "        0.0+0.0im              0.0+0.0im               0.0+0.0im\n",
       "        0.0+0.0im              0.0+0.0im       …       0.0+0.0im\n",
       "        0.0+0.0im              0.0+0.0im               0.0+0.0im\n",
       "        0.0+0.0im              0.0+0.0im               0.0+0.0im\n",
       "        0.0+0.0im              0.0+0.0im               0.0+0.0im\n",
       "        0.0+0.0im              0.0+0.0im               0.0+0.0im\n",
       "        0.0+0.0im              0.0+0.0im       …       0.0+0.0im\n",
       "        0.0+0.0im              0.0+0.0im               0.0+0.0im\n",
       "        0.0+0.0im              0.0+0.0im               0.0+0.0im\n",
       "        0.0+0.0im              0.0+0.0im               0.0+0.0im\n",
       "        0.0+0.0im              0.0+0.0im               0.0-0.0im\n",
       "        0.0+0.0im              0.0+0.0im       …  0.157376-0.987539im"
      ]
     },
     "metadata": {},
     "output_type": "display_data"
    }
   ],
   "source": [
    "snap(x) = kron(Diagonal(exp.(-1im.*x)),I_qubit)\n",
    "snap_params = rand(N) * 2 * pi .- pi\n",
    "SNAP_GATE = snap(snap_params)"
   ]
  },
  {
   "cell_type": "code",
   "execution_count": 34,
   "metadata": {},
   "outputs": [
    {
     "data": {
      "text/plain": [
       "s (generic function with 1 method)"
      ]
     },
     "metadata": {},
     "output_type": "display_data"
    }
   ],
   "source": [
    "f(x) = cost_from_0_dispersive(H_drift, sp, sm, a, adag, T, T / (10 * 3) , x, X_gate, ω_c, ω_q, ψ_initial, ψ_final_x)\n",
    "g(x) = cost_from_0_dispersive_gate_non_interaction(H_drift, sp, sm, a, adag, T, T/50, x, X_gate, ω_c, ω_q, 1, 1)\n",
    "r(x) = cost_from_0_dispersive_gate(H_drift, sp, sm, a, adag, T, T/50, x, RX, ω_c, ω_q, 1, 1)\n",
    "s(x) = cost_from_0_dispersive_gate(H_drift, sp, sm, a, adag, T, T/50, x, SNAP_GATE, ω_c, ω_q, 1, 1)"
   ]
  },
  {
   "cell_type": "code",
   "execution_count": null,
   "metadata": {},
   "outputs": [],
   "source": [
    "for i in 1:1\n",
    "    println(\"iteration number: \", i )\n",
    "    rand_coeffs_20 = rand(16)*2 .-1 + (rand(16)*2im .-1im)\n",
    "    res_LBFGS = Optim.optimize(g, rand_coeffs_20 , LBFGS(), Optim.Options(show_trace=true, show_every=5, iterations=100))\n",
    "    println(Optim.minimizer(res_LBFGS))\n",
    "    println(Optim.minimum(res_LBFGS))\n",
    "    rand_coeffs_20 = zeros(4) + (zeros(4)*im)\n",
    "    res_LBFGS = Optim.optimize(g, [Optim.minimizer(res_LBFGS)[1:8]...,rand_coeffs_20...,Optim.minimizer(res_LBFGS)[9:end]...,rand_coeffs_20...] , LBFGS(), Optim.Options(show_trace=true, show_every=5,iterations=200))\n",
    "    println(Optim.minimizer(res_LBFGS))\n",
    "    println(Optim.minimum(res_LBFGS))\n",
    "    res_LBFGS = Optim.optimize(g, [Optim.minimizer(res_LBFGS)[1:12]...,rand_coeffs_20...,Optim.minimizer(res_LBFGS)[13:end]...,rand_coeffs_20...] , LBFGS(), Optim.Options(show_trace=true, show_every=5,iterations=200))\n",
    "    println(Optim.minimizer(res_LBFGS))\n",
    "    println(Optim.minimum(res_LBFGS))\n",
    "    res_LBFGS = Optim.optimize(g, [Optim.minimizer(res_LBFGS)[1:16]...,rand_coeffs_20...,Optim.minimizer(res_LBFGS)[17:end]...,rand_coeffs_20...] , LBFGS(), Optim.Options(show_trace=true, show_every=5,iterations=200))\n",
    "    println(Optim.minimizer(res_LBFGS))\n",
    "    println(Optim.minimum(res_LBFGS))\n",
    "    res_LBFGS = Optim.optimize(g, [Optim.minimizer(res_LBFGS)[1:20]...,rand_coeffs_20...,Optim.minimizer(res_LBFGS)[21:end]...,rand_coeffs_20...] , LBFGS(), Optim.Options(show_trace=true, show_every=5,iterations=300))\n",
    "    println(Optim.minimizer(res_LBFGS))\n",
    "    println(Optim.minimum(res_LBFGS))\n",
    "end"
   ]
  },
  {
   "cell_type": "code",
   "execution_count": 69,
   "metadata": {},
   "outputs": [
    {
     "name": "stdout",
     "output_type": "stream",
     "text": [
      " iterations :1\n",
      "Iter     Function value   Gradient norm \n"
     ]
    },
    {
     "name": "stdout",
     "output_type": "stream",
     "text": [
      "     0     9.996353e-01     3.642001e-02\n",
      " * time: 0.00012922286987304688\n"
     ]
    },
    {
     "name": "stdout",
     "output_type": "stream",
     "text": [
      "     5     7.912525e-01     1.045018e+00\n",
      " * time: 29.483644008636475\n"
     ]
    },
    {
     "name": "stdout",
     "output_type": "stream",
     "text": [
      "    10     6.327667e-01     8.419301e-01\n",
      " * time: 45.563523054122925\n"
     ]
    },
    {
     "name": "stdout",
     "output_type": "stream",
     "text": [
      "    15     4.815669e-01     1.200037e+00\n",
      " * time: 61.86174416542053\n"
     ]
    },
    {
     "name": "stdout",
     "output_type": "stream",
     "text": [
      "    20     3.246666e-01     5.398710e-01\n",
      " * time: 78.77959299087524\n"
     ]
    },
    {
     "name": "stdout",
     "output_type": "stream",
     "text": [
      "    25     2.358811e-01     9.245405e-01\n",
      " * time: 94.58346819877625\n"
     ]
    },
    {
     "name": "stdout",
     "output_type": "stream",
     "text": [
      "    30     1.751508e-01     7.952067e-01\n",
      " * time: 111.07732701301575\n"
     ]
    },
    {
     "name": "stdout",
     "output_type": "stream",
     "text": [
      "    35     1.270276e-01     3.725981e-01\n",
      " * time: 128.1419072151184\n"
     ]
    },
    {
     "name": "stdout",
     "output_type": "stream",
     "text": [
      "    40     1.045990e-01     5.370762e-01\n",
      " * time: 143.97481417655945\n"
     ]
    },
    {
     "name": "stdout",
     "output_type": "stream",
     "text": [
      "    45     8.551525e-02     3.073393e-01\n",
      " * time: 160.71158504486084\n"
     ]
    },
    {
     "name": "stdout",
     "output_type": "stream",
     "text": [
      "    50     6.290945e-02     3.035591e-01\n",
      " * time: 177.2907600402832\n"
     ]
    },
    {
     "name": "stdout",
     "output_type": "stream",
     "text": [
      "    55     4.685998e-02     2.351418e-01\n",
      " * time: 194.17695808410645\n"
     ]
    },
    {
     "name": "stdout",
     "output_type": "stream",
     "text": [
      "    60     3.529486e-02     2.320819e-01\n",
      " * time: 213.4889531135559\n"
     ]
    },
    {
     "name": "stdout",
     "output_type": "stream",
     "text": [
      "    65     3.034030e-02     1.115077e-01\n",
      " * time: 231.82780814170837\n"
     ]
    },
    {
     "name": "stdout",
     "output_type": "stream",
     "text": [
      "    70     2.604482e-02     1.688840e-01\n",
      " * time: 249.10456609725952\n"
     ]
    },
    {
     "name": "stdout",
     "output_type": "stream",
     "text": [
      "    75     2.301613e-02     1.461577e-01\n",
      " * time: 278.3303201198578\n"
     ]
    },
    {
     "name": "stdout",
     "output_type": "stream",
     "text": [
      "    80     1.989549e-02     9.242989e-02\n",
      " * time: 296.9852521419525\n"
     ]
    },
    {
     "name": "stdout",
     "output_type": "stream",
     "text": [
      "    85     1.723089e-02     1.589069e-01\n",
      " * time: 317.6803970336914\n"
     ]
    },
    {
     "name": "stdout",
     "output_type": "stream",
     "text": [
      "    90     1.513585e-02     2.053736e-01\n",
      " * time: 339.92502903938293\n"
     ]
    },
    {
     "name": "stdout",
     "output_type": "stream",
     "text": [
      "    95     1.380368e-02     1.054794e-01\n",
      " * time: 360.3208990097046\n"
     ]
    },
    {
     "name": "stdout",
     "output_type": "stream",
     "text": [
      "   100     1.260647e-02     7.310343e-02\n",
      " * time: 387.4644720554352\n"
     ]
    },
    {
     "name": "stdout",
     "output_type": "stream",
     "text": [
      "   105     1.131861e-02     6.608463e-02\n",
      " * time: 407.0721549987793\n"
     ]
    },
    {
     "name": "stdout",
     "output_type": "stream",
     "text": [
      "   110     1.018735e-02     6.935103e-02\n",
      " * time: 424.0825140476227\n"
     ]
    },
    {
     "name": "stdout",
     "output_type": "stream",
     "text": [
      "   115     9.207716e-03     1.002047e-01\n",
      " * time: 441.1597681045532\n"
     ]
    },
    {
     "name": "stdout",
     "output_type": "stream",
     "text": [
      "   120     8.146373e-03     1.584386e-01\n",
      " * time: 457.0343282222748\n"
     ]
    },
    {
     "name": "stdout",
     "output_type": "stream",
     "text": [
      "   125     7.368929e-03     5.728509e-02\n",
      " * time: 474.11239409446716\n"
     ]
    },
    {
     "name": "stdout",
     "output_type": "stream",
     "text": [
      "   130     6.699585e-03     7.538715e-02\n",
      " * time: 491.08517718315125\n"
     ]
    },
    {
     "name": "stdout",
     "output_type": "stream",
     "text": [
      "   135     6.328540e-03     3.619901e-02\n",
      " * time: 506.9849920272827\n"
     ]
    },
    {
     "name": "stdout",
     "output_type": "stream",
     "text": [
      "   140     5.909525e-03     3.883457e-02\n",
      " * time: 523.9732341766357\n"
     ]
    },
    {
     "name": "stdout",
     "output_type": "stream",
     "text": [
      "   145     5.462582e-03     4.048868e-02\n",
      " * time: 542.1280930042267\n"
     ]
    },
    {
     "name": "stdout",
     "output_type": "stream",
     "text": [
      "   150     5.181924e-03     8.623796e-02\n",
      " * time: 558.0854380130768\n"
     ]
    },
    {
     "name": "stdout",
     "output_type": "stream",
     "text": [
      "   155     4.845376e-03     3.565588e-02\n",
      " * time: 574.0614771842957\n"
     ]
    },
    {
     "name": "stdout",
     "output_type": "stream",
     "text": [
      "   160     4.558177e-03     5.323705e-02\n",
      " * time: 592.2297620773315\n"
     ]
    },
    {
     "name": "stdout",
     "output_type": "stream",
     "text": [
      "   165     4.346334e-03     2.947309e-02\n",
      " * time: 609.3462841510773\n"
     ]
    },
    {
     "name": "stdout",
     "output_type": "stream",
     "text": [
      "   170     4.137429e-03     2.395096e-02\n",
      " * time: 626.4221110343933\n"
     ]
    },
    {
     "name": "stdout",
     "output_type": "stream",
     "text": [
      "   175     3.902203e-03     4.031311e-02\n",
      " * time: 643.5036611557007\n"
     ]
    },
    {
     "name": "stdout",
     "output_type": "stream",
     "text": [
      "   180     3.704277e-03     3.417905e-02\n",
      " * time: 663.8594851493835\n"
     ]
    },
    {
     "name": "stdout",
     "output_type": "stream",
     "text": [
      "   185     3.523938e-03     5.887444e-02\n",
      " * time: 686.0354850292206\n"
     ]
    },
    {
     "name": "stdout",
     "output_type": "stream",
     "text": [
      "   190     3.334157e-03     4.115051e-02\n",
      " * time: 705.7078120708466\n"
     ]
    },
    {
     "name": "stdout",
     "output_type": "stream",
     "text": [
      "   195     3.143629e-03     3.103906e-02\n",
      " * time: 725.4415140151978\n"
     ]
    },
    {
     "name": "stdout",
     "output_type": "stream",
     "text": [
      "   200     3.021483e-03     6.117883e-02\n",
      " * time: 743.9500110149384\n"
     ]
    },
    {
     "name": "stdout",
     "output_type": "stream",
     "text": [
      "   205     2.892881e-03     3.016089e-02\n",
      " * time: 761.1270790100098\n"
     ]
    },
    {
     "name": "stdout",
     "output_type": "stream",
     "text": [
      "   210     2.757694e-03     2.249269e-02\n",
      " * time: 779.47572016716\n"
     ]
    },
    {
     "name": "stdout",
     "output_type": "stream",
     "text": [
      "   215     2.664555e-03     1.255432e-02\n",
      " * time: 797.9986770153046\n"
     ]
    },
    {
     "name": "stdout",
     "output_type": "stream",
     "text": [
      "   220     2.612811e-03     1.695552e-02\n",
      " * time: 816.3379080295563\n"
     ]
    },
    {
     "name": "stdout",
     "output_type": "stream",
     "text": [
      "   225     2.569772e-03     1.658958e-02\n",
      " * time: 833.611533164978\n"
     ]
    },
    {
     "name": "stdout",
     "output_type": "stream",
     "text": [
      "   230     2.516650e-03     1.994797e-02\n",
      " * time: 853.3317241668701\n"
     ]
    },
    {
     "name": "stdout",
     "output_type": "stream",
     "text": [
      "   235     2.484448e-03     1.083681e-02\n",
      " * time: 871.9333431720734\n"
     ]
    },
    {
     "name": "stdout",
     "output_type": "stream",
     "text": [
      "   240     2.444106e-03     1.644665e-02\n",
      " * time: 890.9464139938354\n"
     ]
    },
    {
     "name": "stdout",
     "output_type": "stream",
     "text": [
      "   245     2.397732e-03     1.559209e-02\n",
      " * time: 908.4052851200104\n"
     ]
    },
    {
     "name": "stdout",
     "output_type": "stream",
     "text": [
      "   250     2.358509e-03     1.103385e-02\n",
      " * time: 925.9236240386963\n"
     ]
    },
    {
     "name": "stdout",
     "output_type": "stream",
     "text": [
      "   255     2.328306e-03     1.560611e-02\n",
      " * time: 945.531327009201\n"
     ]
    },
    {
     "name": "stdout",
     "output_type": "stream",
     "text": [
      "   260     2.290290e-03     4.060482e-02\n",
      " * time: 966.1947450637817\n"
     ]
    },
    {
     "name": "stdout",
     "output_type": "stream",
     "text": [
      "   265     2.243699e-03     1.516615e-02\n",
      " * time: 986.2301061153412\n"
     ]
    },
    {
     "name": "stdout",
     "output_type": "stream",
     "text": [
      "   270     2.208965e-03     1.077578e-02\n",
      " * time: 1005.801351070404\n"
     ]
    },
    {
     "name": "stdout",
     "output_type": "stream",
     "text": [
      "   275     2.183129e-03     8.535145e-03\n",
      " * time: 1025.0124130249023\n"
     ]
    },
    {
     "name": "stdout",
     "output_type": "stream",
     "text": [
      "   280     2.155473e-03     1.210397e-02\n",
      " * time: 1045.5488481521606\n"
     ]
    },
    {
     "name": "stdout",
     "output_type": "stream",
     "text": [
      "   285     2.131111e-03     1.120820e-02\n",
      " * time: 1064.727280139923\n"
     ]
    },
    {
     "name": "stdout",
     "output_type": "stream",
     "text": [
      "   290     2.101889e-03     1.933355e-02\n",
      " * time: 1083.9882051944733\n"
     ]
    },
    {
     "name": "stdout",
     "output_type": "stream",
     "text": [
      "   295     2.078308e-03     1.823049e-02\n",
      " * time: 1101.1309320926666\n"
     ]
    },
    {
     "name": "stdout",
     "output_type": "stream",
     "text": [
      "   300     2.043296e-03     9.426932e-03\n",
      " * time: 1121.580782175064\n"
     ]
    },
    {
     "name": "stdout",
     "output_type": "stream",
     "text": [
      "   305     2.011649e-03     2.164888e-02\n",
      " * time: 1141.493535041809\n"
     ]
    },
    {
     "name": "stdout",
     "output_type": "stream",
     "text": [
      "   310     2.000847e-03     1.141688e-02\n",
      " * time: 1159.0931811332703\n"
     ]
    },
    {
     "name": "stdout",
     "output_type": "stream",
     "text": [
      "   315     1.987325e-03     1.091289e-02\n",
      " * time: 1178.1590650081635\n"
     ]
    },
    {
     "name": "stdout",
     "output_type": "stream",
     "text": [
      "   320     1.977010e-03     7.690508e-03\n",
      " * time: 1194.7572350502014\n"
     ]
    },
    {
     "name": "stdout",
     "output_type": "stream",
     "text": [
      "   325     1.959350e-03     1.255659e-02\n",
      " * time: 1214.2975850105286\n"
     ]
    },
    {
     "name": "stdout",
     "output_type": "stream",
     "text": [
      "   330     1.946767e-03     1.413013e-02\n",
      " * time: 1231.3544631004333\n"
     ]
    },
    {
     "name": "stdout",
     "output_type": "stream",
     "text": [
      "   335     1.934889e-03     1.053577e-02\n",
      " * time: 1248.497180223465\n"
     ]
    },
    {
     "name": "stdout",
     "output_type": "stream",
     "text": [
      "   340     1.922747e-03     1.811322e-02\n",
      " * time: 1271.1617591381073\n"
     ]
    },
    {
     "name": "stdout",
     "output_type": "stream",
     "text": [
      "   345     1.914332e-03     5.399266e-03\n",
      " * time: 1290.7085790634155\n"
     ]
    },
    {
     "name": "stdout",
     "output_type": "stream",
     "text": [
      "   350     1.903161e-03     8.113403e-03\n",
      " * time: 1306.8141951560974\n"
     ]
    },
    {
     "name": "stdout",
     "output_type": "stream",
     "text": [
      "   355     1.892724e-03     6.935740e-03\n",
      " * time: 1324.0873720645905\n"
     ]
    },
    {
     "name": "stdout",
     "output_type": "stream",
     "text": [
      "   360     1.865967e-03     1.404344e-02\n",
      " * time: 1341.185497045517\n"
     ]
    },
    {
     "name": "stdout",
     "output_type": "stream",
     "text": [
      "   365     1.850768e-03     1.086440e-02\n",
      " * time: 1358.3482511043549\n"
     ]
    },
    {
     "name": "stdout",
     "output_type": "stream",
     "text": [
      "   370     1.832471e-03     8.940951e-03\n",
      " * time: 1375.3936131000519\n"
     ]
    },
    {
     "name": "stdout",
     "output_type": "stream",
     "text": [
      "   375     1.813571e-03     2.330914e-02\n",
      " * time: 1391.6463170051575\n"
     ]
    },
    {
     "name": "stdout",
     "output_type": "stream",
     "text": [
      "   380     1.781098e-03     1.720732e-02\n",
      " * time: 1408.9312591552734\n"
     ]
    },
    {
     "name": "stdout",
     "output_type": "stream",
     "text": [
      "   385     1.745427e-03     2.989930e-02\n",
      " * time: 1426.022649049759\n"
     ]
    },
    {
     "name": "stdout",
     "output_type": "stream",
     "text": [
      "   390     1.727003e-03     1.001951e-02\n",
      " * time: 1443.076812028885\n"
     ]
    },
    {
     "name": "stdout",
     "output_type": "stream",
     "text": [
      "   395     1.698828e-03     9.486218e-03\n",
      " * time: 1461.2342660427094\n"
     ]
    },
    {
     "name": "stdout",
     "output_type": "stream",
     "text": [
      "   400     1.687445e-03     7.401961e-03\n",
      " * time: 1478.5017001628876\n"
     ]
    },
    {
     "name": "stdout",
     "output_type": "stream",
     "text": [
      "   405     1.673842e-03     5.909097e-03\n",
      " * time: 1495.9728491306305\n"
     ]
    },
    {
     "name": "stdout",
     "output_type": "stream",
     "text": [
      "   410     1.667537e-03     1.224502e-02\n",
      " * time: 1515.7615661621094\n"
     ]
    },
    {
     "name": "stdout",
     "output_type": "stream",
     "text": [
      "   415     1.650256e-03     1.116844e-02\n",
      " * time: 1537.2491681575775\n"
     ]
    },
    {
     "name": "stdout",
     "output_type": "stream",
     "text": [
      "   420     1.633590e-03     2.346468e-02\n",
      " * time: 1556.4426980018616\n"
     ]
    },
    {
     "name": "stdout",
     "output_type": "stream",
     "text": [
      "   425     1.617157e-03     8.904798e-03\n",
      " * time: 1574.7033112049103\n"
     ]
    },
    {
     "name": "stdout",
     "output_type": "stream",
     "text": [
      "   430     1.597468e-03     9.440572e-03\n",
      " * time: 1595.016175031662\n"
     ]
    },
    {
     "name": "stdout",
     "output_type": "stream",
     "text": [
      "   435     1.584049e-03     1.324269e-02\n",
      " * time: 1615.4935100078583\n"
     ]
    },
    {
     "name": "stdout",
     "output_type": "stream",
     "text": [
      "   440     1.570974e-03     5.545902e-03\n",
      " * time: 1638.832197189331\n"
     ]
    },
    {
     "name": "stdout",
     "output_type": "stream",
     "text": [
      "   445     1.562593e-03     1.026276e-02\n",
      " * time: 1657.1016800403595\n"
     ]
    },
    {
     "name": "stdout",
     "output_type": "stream",
     "text": [
      "   450     1.553497e-03     5.620896e-03\n",
      " * time: 1672.7553861141205\n"
     ]
    },
    {
     "name": "stdout",
     "output_type": "stream",
     "text": [
      "   455     1.544500e-03     1.794592e-02\n",
      " * time: 1689.55970621109\n"
     ]
    },
    {
     "name": "stdout",
     "output_type": "stream",
     "text": [
      "   460     1.538005e-03     6.495364e-03\n",
      " * time: 1705.2452161312103\n"
     ]
    },
    {
     "name": "stdout",
     "output_type": "stream",
     "text": [
      "   465     1.530786e-03     9.864114e-03\n",
      " * time: 1722.3717250823975\n"
     ]
    },
    {
     "name": "stdout",
     "output_type": "stream",
     "text": [
      "   470     1.521120e-03     9.889368e-03\n",
      " * time: 1736.8869321346283\n"
     ]
    },
    {
     "name": "stdout",
     "output_type": "stream",
     "text": [
      "   475     1.509082e-03     7.063628e-03\n",
      " * time: 1753.7166941165924\n"
     ]
    },
    {
     "name": "stdout",
     "output_type": "stream",
     "text": [
      "   480     1.495562e-03     1.155583e-02\n",
      " * time: 1771.6054661273956\n"
     ]
    },
    {
     "name": "stdout",
     "output_type": "stream",
     "text": [
      "   485     1.478659e-03     1.366649e-02\n",
      " * time: 1789.3990252017975\n"
     ]
    },
    {
     "name": "stdout",
     "output_type": "stream",
     "text": [
      "   490     1.463487e-03     7.209668e-03\n",
      " * time: 1806.1721169948578\n"
     ]
    },
    {
     "name": "stdout",
     "output_type": "stream",
     "text": [
      "   495     1.454971e-03     1.003243e-02\n",
      " * time: 1821.7580749988556\n"
     ]
    },
    {
     "name": "stdout",
     "output_type": "stream",
     "text": [
      "   500     1.440143e-03     6.677821e-03\n",
      " * time: 1838.4534320831299\n"
     ]
    }
   ],
   "source": [
    "x(x) = cost_from_0_dispersive_gate(H_drift, sp, sm, a, adag, T, T/50, x, X_gate, ω_c, ω_q, 10, 10)\n",
    "r(x) = cost_from_0_dispersive_gate(H_drift, sp, sm, a, adag, T, T/50, x, RX, ω_c, ω_q, 10, 10)\n",
    "\n",
    "it_costs_x = []\n",
    "coefficients_x = []\n",
    "it_costs_rx = []\n",
    "coefficients_rx = []\n",
    "for iteration in 1:1\n",
    "    coefficients = rand(100)*2 .-1 + (rand(100)*2im .-1im)\n",
    "    println(\" iterations :\", iteration)\n",
    "    res_x = Optim.optimize(x, coefficients , LBFGS(), Optim.Options(show_trace=true, show_every=5, iterations=500))\n",
    "    #res_rx = Optim.optimize(r, coefficients , LBFGS(), Optim.Options(iterations=2000))\n",
    "    push!(it_costs_x,Optim.minimum(res_x))\n",
    "    #push!(it_costs_rx,Optim.minimum(res_rx))\n",
    "    push!(coefficients_x,Optim.minimizer(res_x))\n",
    "    #push!(coefficients_rx,Optim.minimizer(res_rx))\n",
    "end"
   ]
  },
  {
   "cell_type": "code",
   "execution_count": 42,
   "metadata": {},
   "outputs": [
    {
     "data": {
      "text/plain": [
       "\"../../data/R_X/5_photons/rx_gate_50steps_500ns.txt\""
      ]
     },
     "metadata": {},
     "output_type": "display_data"
    }
   ],
   "source": [
    "df_x = DataFrame(fidelity=it_costs_x, coefficients=coefficients_x)\n",
    "df_rx = DataFrame(fidelity=it_costs_rx, coefficients=coefficients_rx)\n",
    "# df_snap = DataFrame(fidelity=it_costs_snap, coefficients=coefficients_snap)\n",
    "# CSV.write(\"../../data/X_gate/5_photons/x_gate_50steps_500ns.txt\", df_x)\n",
    "# CSV.write(\"../../data/R_X/5_photons/rx_gate_50steps_500ns.txt\", df_rx)\n",
    "# CSV.write(\"../../data/snap_gate_100ns_50steps.txt\", df_snap)"
   ]
  },
  {
   "cell_type": "code",
   "execution_count": 70,
   "metadata": {},
   "outputs": [
    {
     "data": {
      "text/plain": [
       "100-element Vector{ComplexF64}:\n",
       " -0.07333815720620127 + 0.3494002373030774im\n",
       " -0.03096836933987781 + 0.4555209945405566im\n",
       "  -0.4509914108670102 + 0.379971106400078im\n",
       " -0.36382799481708916 - 0.5061792342722378im\n",
       "    0.793252681420759 + 0.3199077952659035im\n",
       " -0.20109067474607362 - 0.41650397765343233im\n",
       "   0.3813086355327906 - 0.36183607331418594im\n",
       "  -1.0814412486201503 - 0.4421438181000881im\n",
       "  -0.6071227886912645 + 0.34228381672885605im\n",
       " -0.11711048056634801 - 0.16459488133465225im\n",
       "                      ⋮\n",
       " -0.49053793852807537 - 0.668320729631763im\n",
       "  -0.5816994417042951 - 1.0047027730590676im\n",
       " 0.055446584903836485 + 0.7333079314984338im\n",
       "  -0.5028808438642975 + 0.20379044980039915im\n",
       " -0.06358835811622568 + 0.46035989971700464im\n",
       "   0.8190668690640783 + 0.6474222171852702im\n",
       "   0.7213488941897027 - 0.8915207612272893im\n",
       " -0.46842677790088433 - 1.0285791955956247im\n",
       " -0.10867050961178526 - 0.555972402742705im"
      ]
     },
     "metadata": {},
     "output_type": "display_data"
    }
   ],
   "source": [
    "optimised_coeffs = coefficients_x[1]"
   ]
  },
  {
   "cell_type": "code",
   "execution_count": 58,
   "metadata": {},
   "outputs": [
    {
     "name": "stdout",
     "output_type": "stream",
     "text": [
      "Iter     Function value   Gradient norm \n",
      "     0     2.612648e-03     2.146233e-02\n",
      " * time: 8.511543273925781e-5\n"
     ]
    },
    {
     "name": "stdout",
     "output_type": "stream",
     "text": [
      "     5     2.591457e-03     2.155503e-02\n",
      " * time: 22.80048108100891\n"
     ]
    },
    {
     "name": "stdout",
     "output_type": "stream",
     "text": [
      "    10     2.550939e-03     1.506447e-02\n",
      " * time: 40.97749209403992\n"
     ]
    },
    {
     "name": "stdout",
     "output_type": "stream",
     "text": [
      "    15     2.519203e-03     3.220351e-02\n",
      " * time: 51.18095111846924\n"
     ]
    },
    {
     "name": "stdout",
     "output_type": "stream",
     "text": [
      "    20     2.472569e-03     1.005467e-02\n",
      " * time: 63.167450189590454\n"
     ]
    },
    {
     "name": "stdout",
     "output_type": "stream",
     "text": [
      "    25     2.451881e-03     1.024958e-02\n",
      " * time: 74.02557110786438\n"
     ]
    },
    {
     "name": "stdout",
     "output_type": "stream",
     "text": [
      "    30     2.434809e-03     2.070043e-02\n",
      " * time: 84.85280704498291\n"
     ]
    },
    {
     "name": "stdout",
     "output_type": "stream",
     "text": [
      "    35     2.400219e-03     9.697574e-03\n",
      " * time: 95.59419703483582\n"
     ]
    },
    {
     "name": "stdout",
     "output_type": "stream",
     "text": [
      "    40     2.377471e-03     1.643944e-02\n",
      " * time: 105.5741491317749\n"
     ]
    },
    {
     "name": "stdout",
     "output_type": "stream",
     "text": [
      "    45     2.348501e-03     1.504829e-02\n",
      " * time: 116.9117980003357\n"
     ]
    },
    {
     "name": "stdout",
     "output_type": "stream",
     "text": [
      "    50     2.324831e-03     1.061095e-02\n",
      " * time: 127.59755110740662\n"
     ]
    },
    {
     "name": "stdout",
     "output_type": "stream",
     "text": [
      "    55     2.305948e-03     5.430198e-03\n",
      " * time: 138.2884931564331\n"
     ]
    },
    {
     "name": "stdout",
     "output_type": "stream",
     "text": [
      "    60     2.286862e-03     1.082079e-02\n",
      " * time: 149.04348015785217\n"
     ]
    },
    {
     "name": "stdout",
     "output_type": "stream",
     "text": [
      "    65     2.270401e-03     8.221515e-03\n",
      " * time: 159.78618717193604\n"
     ]
    },
    {
     "name": "stdout",
     "output_type": "stream",
     "text": [
      "    70     2.256457e-03     7.126795e-03\n",
      " * time: 170.78063416481018\n"
     ]
    },
    {
     "name": "stdout",
     "output_type": "stream",
     "text": [
      "    75     2.244972e-03     2.194421e-02\n",
      " * time: 181.431547164917\n"
     ]
    },
    {
     "name": "stdout",
     "output_type": "stream",
     "text": [
      "    80     2.225606e-03     1.007673e-02\n",
      " * time: 192.19283819198608\n"
     ]
    },
    {
     "name": "stdout",
     "output_type": "stream",
     "text": [
      "    85     2.191310e-03     1.943477e-02\n",
      " * time: 203.90242314338684\n"
     ]
    },
    {
     "name": "stdout",
     "output_type": "stream",
     "text": [
      "    90     2.165273e-03     2.197080e-02\n",
      " * time: 214.7422330379486\n"
     ]
    },
    {
     "name": "stdout",
     "output_type": "stream",
     "text": [
      "    95     2.136575e-03     1.144804e-02\n",
      " * time: 225.7942841053009\n"
     ]
    },
    {
     "name": "stdout",
     "output_type": "stream",
     "text": [
      "   100     2.119164e-03     1.700232e-02\n",
      " * time: 235.82432413101196\n"
     ]
    },
    {
     "name": "stdout",
     "output_type": "stream",
     "text": [
      "   105     2.099733e-03     1.490425e-02\n",
      " * time: 246.49695205688477\n"
     ]
    },
    {
     "name": "stdout",
     "output_type": "stream",
     "text": [
      "   110     2.081206e-03     9.044275e-03\n",
      " * time: 256.54450011253357\n"
     ]
    },
    {
     "name": "stdout",
     "output_type": "stream",
     "text": [
      "   115     2.068077e-03     9.063861e-03\n",
      " * time: 266.57449102401733\n"
     ]
    },
    {
     "name": "stdout",
     "output_type": "stream",
     "text": [
      "   120     2.059751e-03     1.245396e-02\n",
      " * time: 278.1854782104492\n"
     ]
    },
    {
     "name": "stdout",
     "output_type": "stream",
     "text": [
      "   125     2.046129e-03     1.154064e-02\n",
      " * time: 288.74010014533997\n"
     ]
    },
    {
     "name": "stdout",
     "output_type": "stream",
     "text": [
      "   130     2.032359e-03     8.173985e-03\n",
      " * time: 299.3500270843506\n"
     ]
    },
    {
     "name": "stdout",
     "output_type": "stream",
     "text": [
      "   135     2.020450e-03     1.861062e-02\n",
      " * time: 309.8725571632385\n"
     ]
    },
    {
     "name": "stdout",
     "output_type": "stream",
     "text": [
      "   140     2.011099e-03     8.053786e-03\n",
      " * time: 319.05460119247437\n"
     ]
    },
    {
     "name": "stdout",
     "output_type": "stream",
     "text": [
      "   145     2.002783e-03     8.308744e-03\n",
      " * time: 328.9051911830902\n"
     ]
    },
    {
     "name": "stdout",
     "output_type": "stream",
     "text": [
      "   150     1.995087e-03     1.120572e-02\n",
      " * time: 339.5186040401459\n"
     ]
    },
    {
     "name": "stdout",
     "output_type": "stream",
     "text": [
      "   155     1.980274e-03     9.354091e-03\n",
      " * time: 350.09382820129395\n"
     ]
    },
    {
     "name": "stdout",
     "output_type": "stream",
     "text": [
      "   160     1.966720e-03     7.951852e-03\n",
      " * time: 359.9842929840088\n"
     ]
    },
    {
     "name": "stdout",
     "output_type": "stream",
     "text": [
      "   165     1.951784e-03     1.250975e-02\n",
      " * time: 370.6774191856384\n"
     ]
    },
    {
     "name": "stdout",
     "output_type": "stream",
     "text": [
      "   170     1.936579e-03     1.112713e-02\n",
      " * time: 381.30107021331787\n"
     ]
    },
    {
     "name": "stdout",
     "output_type": "stream",
     "text": [
      "   175     1.927449e-03     9.629465e-03\n",
      " * time: 391.8971781730652\n"
     ]
    },
    {
     "name": "stdout",
     "output_type": "stream",
     "text": [
      "   180     1.916821e-03     1.406526e-02\n",
      " * time: 402.43575406074524\n"
     ]
    },
    {
     "name": "stdout",
     "output_type": "stream",
     "text": [
      "   185     1.904113e-03     8.749325e-03\n",
      " * time: 412.9741051197052\n"
     ]
    },
    {
     "name": "stdout",
     "output_type": "stream",
     "text": [
      "   190     1.892604e-03     1.031607e-02\n",
      " * time: 423.53937816619873\n"
     ]
    },
    {
     "name": "stdout",
     "output_type": "stream",
     "text": [
      "   195     1.879253e-03     9.132728e-03\n",
      " * time: 434.1199359893799\n"
     ]
    },
    {
     "name": "stdout",
     "output_type": "stream",
     "text": [
      "   200     1.866830e-03     1.033026e-02\n",
      " * time: 444.7878110408783\n"
     ]
    },
    {
     "data": {
      "text/plain": [
       " * Status: failure (reached maximum number of iterations)\n",
       "\n",
       " * Candidate solution\n",
       "    Final objective value:     1.866830e-03\n",
       "\n",
       " * Found with\n",
       "    Algorithm:     L-BFGS\n",
       "\n",
       " * Convergence measures\n",
       "    |x - x'|               = 2.55e-04 ≰ 0.0e+00\n",
       "    |x - x'|/|x'|          = 1.78e-04 ≰ 0.0e+00\n",
       "    |f(x) - f(x')|         = 2.05e-06 ≰ 0.0e+00\n",
       "    |f(x) - f(x')|/|f(x')| = 1.10e-03 ≰ 0.0e+00\n",
       "    |g(x)|                 = 1.03e-02 ≰ 1.0e-08\n",
       "\n",
       " * Work counters\n",
       "    Seconds run:   445  (vs limit Inf)\n",
       "    Iterations:    200\n",
       "    f(x) calls:    592\n",
       "    ∇f(x) calls:   592\n"
      ]
     },
     "metadata": {},
     "output_type": "display_data"
    }
   ],
   "source": [
    "rand_coeffs_20 = zeros(4) + (zeros(4)*im)\n",
    "res_LBFGS = Optim.optimize(x, [optimised_coeffs[1:42]...,rand_coeffs_20...,optimised_coeffs[43:end]...,rand_coeffs_20...] , LBFGS(), Optim.Options(show_trace=true, show_every=5,iterations=200))"
   ]
  },
  {
   "cell_type": "code",
   "execution_count": 71,
   "metadata": {},
   "outputs": [
    {
     "name": "stdout",
     "output_type": "stream",
     "text": [
      "ComplexF64[-0.07333815720620127 + 0.3494002373030774im, -0.03096836933987781 + 0.4555209945405566im, -0.4509914108670102 + 0.379971106400078im, -0.36382799481708916 - 0.5061792342722378im, 0.793252681420759 + 0.3199077952659035im, -0.20109067474607362 - 0.41650397765343233im, 0.3813086355327906 - 0.36183607331418594im, -1.0814412486201503 - 0.4421438181000881im, -0.6071227886912645 + 0.34228381672885605im, -0.11711048056634801 - 0.16459488133465225im, -1.1153822671265765 + 0.20043062305020942im, 0.5941934897008131 - 0.7667589652128534im, 1.0579627503636158 - 0.6469579178280789im, -0.0584058866795922 + 0.49586548419659426im, 0.6597313644422118 - 0.8693421239661399im, -0.3050430281519936 + 0.881976151650072im, 0.17742942281963775 + 1.0870564192342906im, -0.7279872375379495 - 0.41403987390286134im, 0.47032135673486936 + 0.28718916299713637im, -0.114577746077315 - 0.7457208245555276im, -0.7872766508014993 + 1.0072443329602625im, -0.060603143447033554 + 0.0409311792463455im, 0.4519299167584841 - 0.16593334056433226im, -0.8168183762717995 + 0.49193478049059447im, -0.18951710719001902 + 0.7940673891864388im, 1.0776666619859205 - 0.746292644237425im, 0.8815881972576107 + 0.14832060141095998im, -0.8042466586714648 + 0.6277937382803773im, 0.563715959983258 + 0.3384956193122225im, 0.7222277425198473 - 0.1804105880325303im, 0.034562303938230336 - 0.9019280413125674im, -1.0757783248012696 - 0.6332304516723367im, -0.7170446288238306 - 0.4450332853788178im, -0.47692850705710965 - 0.24913258625252196im, 0.43091752517893944 - 0.28863258082433185im, 0.907640566546103 + 0.198870424795635im, 0.11999950656354462 - 0.566049102748283im, 0.3355228872202586 - 0.8226690857258738im, -0.28011604558011866 - 0.2579166912250348im, 0.34417229569364943 + 0.6593368449221568im, -0.16217219981554207 + 0.2684014565377354im, 0.5087877818956861 + 0.5052671567744642im, 0.8923939905945392 - 0.8953496995346237im, 0.0007975897165024043 - 0.5781222096089206im, 0.3434727969979431 + 0.6091376932473181im, -0.816162619332629 + 0.6252282636198657im, 0.05555544755436586 - 0.34093836319786625im, 1.0072170266055793 - 0.5854848452753082im, 0.2781085832362997 - 0.34337827074361227im, -0.39955958476693487 + 0.3579699280792108im, -0.9727484403040122 - 0.2618471677694622im, 1.0182197744038384 - 0.5181670446301737im, 0.06232153317686767 + 0.3927650579295813im, -0.35348847667818356 + 0.48140617955365345im, 0.5959371642853193 - 0.032008473874004434im, 0.35779710447599683 - 0.6074170076809293im, -0.33266613282263097 + 0.8127166034993414im, -0.9070047944874563 - 0.7227961471691506im, 0.5626678185385614 + 0.108363467294848im, 0.7663383226315359 - 0.6774474241522233im, 0.5967726364820191 - 0.6766698461319854im, -0.25653744659636385 + 0.45822348583492256im, -0.20594258227106985 + 0.15586422071984954im, 0.3591936790201822 - 0.027093736965479034im, -0.4370874353708539 - 0.14212817048571857im, -0.9221960420304923 - 0.8384162357557673im, -0.6238376652263977 + 0.4142572218411714im, -0.7019921434500029 + 0.19534878853430226im, -0.6890685009272881 + 0.09668726972346134im, -0.6938872633755007 - 0.5667157742040209im, -0.21629617157962755 - 0.5695089526027572im, 0.34687435439359054 - 0.7527172324152291im, -0.3875121169876161 - 0.7702391909550469im, 0.27104945966773897 + 0.5026359028853291im, -0.5071741494893989 + 0.6316694623148442im, -0.4003636261335239 - 0.7930312791376641im, 0.6528723543917702 - 0.23701881812675415im, 0.33295226337406497 + 0.4136006115586917im, 0.46893758899112115 + 0.4453239674488836im, -0.260724045024442 + 0.012856403286772325im, -0.517422802253008 - 0.07662504983903383im, -0.04097485739723338 + 0.4845178351214364im, 0.3623614992923521 - 0.7517913989744239im, -0.47721719462278545 - 0.035614215750478725im, -0.7929336303826846 - 0.2627828218090905im, 0.28160004284748386 - 0.42828011291288887im, 0.18267086593950432 + 0.7027009650101393im, -0.12340236114858183 - 0.16220941370146377im, 0.2883000082989724 + 0.8918696135725341im, 0.5940318112556487 - 0.18224915472483624im, -0.160559059005398 - 0.8738731441840435im, -0.49053793852807537 - 0.668320729631763im, -0.5816994417042951 - 1.0047027730590676im, 0.055446584903836485 + 0.7333079314984338im, -0.5028808438642975 + 0.20379044980039915im, -0.06358835811622568 + 0.46035989971700464im, 0.8190668690640783 + 0.6474222171852702im, 0.7213488941897027 - 0.8915207612272893im, -0.46842677790088433 - 1.0285791955956247im, -0.10867050961178526 - 0.555972402742705im]\n"
     ]
    }
   ],
   "source": [
    "#optimised_coeffs = Optim.minimizer(res_LBFGS)\n",
    "println(optimised_coeffs)"
   ]
  },
  {
   "cell_type": "code",
   "execution_count": 72,
   "metadata": {},
   "outputs": [
    {
     "data": {
      "text/plain": [
       "50-element Vector{ComplexF64}:\n",
       "  -0.9727484403040122 - 0.2618471677694622im\n",
       "   1.0182197744038384 - 0.5181670446301737im\n",
       "  0.06232153317686767 + 0.3927650579295813im\n",
       " -0.35348847667818356 + 0.48140617955365345im\n",
       "   0.5959371642853193 - 0.032008473874004434im\n",
       "  0.35779710447599683 - 0.6074170076809293im\n",
       " -0.33266613282263097 + 0.8127166034993414im\n",
       "  -0.9070047944874563 - 0.7227961471691506im\n",
       "   0.5626678185385614 + 0.108363467294848im\n",
       "   0.7663383226315359 - 0.6774474241522233im\n",
       "                      ⋮\n",
       " -0.49053793852807537 - 0.668320729631763im\n",
       "  -0.5816994417042951 - 1.0047027730590676im\n",
       " 0.055446584903836485 + 0.7333079314984338im\n",
       "  -0.5028808438642975 + 0.20379044980039915im\n",
       " -0.06358835811622568 + 0.46035989971700464im\n",
       "   0.8190668690640783 + 0.6474222171852702im\n",
       "   0.7213488941897027 - 0.8915207612272893im\n",
       " -0.46842677790088433 - 1.0285791955956247im\n",
       " -0.10867050961178526 - 0.555972402742705im"
      ]
     },
     "metadata": {},
     "output_type": "display_data"
    }
   ],
   "source": [
    "coeffs_cavity = optimised_coeffs[1:50]\n",
    "coeffs_qubit = optimised_coeffs[51:end]"
   ]
  },
  {
   "cell_type": "code",
   "execution_count": 73,
   "metadata": {},
   "outputs": [
    {
     "data": {
      "text/plain": [
       "51-element Vector{ComplexF64}:\n",
       " -21.086146455918637 + 35.0136714774483im\n",
       "  -33.35630673173779 - 4.499295142995572im\n",
       " -18.050676077498586 - 17.11305302578829im\n",
       " -22.207887573957308 + 14.623700616048932im\n",
       "  -41.48811124756854 - 63.2609502701207im\n",
       " -15.803580642719366 - 15.824258776225797im\n",
       "   8.643204035303194 + 26.34092489977865im\n",
       " -13.171749146515374 - 8.131039139658021im\n",
       "  -16.73372761624744 + 38.57744760843585im\n",
       "  -35.96851504661547 + 19.946077192429946im\n",
       "                     ⋮\n",
       "   5.923968766266981 + 22.406451312616813im\n",
       " -44.687921281836694 - 63.76415666505329im\n",
       "    8.16053104595011 + 40.113739168448966im\n",
       "  28.749063385681136 - 44.97418054246089im\n",
       "  3.3774004681946357 - 7.449465022763526im\n",
       "   26.92277678678824 + 4.97763517724926im\n",
       "  -34.79031345715012 + 6.604270341038951im\n",
       "   -5.41352714215968 - 13.746601700524517im\n",
       "  -35.00080177665936 - 58.70056121878207im"
      ]
     },
     "metadata": {},
     "output_type": "display_data"
    }
   ],
   "source": [
    "d=1\n",
    "amplitude_c(t) = chebyshev_amplitude(coeffs_cavity, T*d, t)\n",
    "amplitude_q(t) = chebyshev_amplitude(coeffs_qubit, T*d, t)\n",
    "\n",
    "amps_c = [amplitude_c(l)*10/d for l in 0:T*d/(50):T*d]\n",
    "amps_q = [amplitude_q(l)*10/d for l in 0:T*d/(50):T*d]"
   ]
  },
  {
   "cell_type": "code",
   "execution_count": null,
   "metadata": {},
   "outputs": [],
   "source": [
    "# plt2to6 = plot(1:1:8, costs_2to6, label=\"2 -> 6\", linestyle=:dash, marker = :circle, yaxis=:log, legend=:bottomleft, xlim=(0.5,8.5), xlabel=\"Circuit depth\", ylabel=\"Pulse [GHz]\", yticks=exp10.(range(-16, stop=0, length=17)))\n",
    "# plt0to4 = plot!(1:1:8, costs_0to4, label=\"0 -> 4\", linestyle=:dash, marker = :circle, )\n",
    "# pltSuperposition = plot!(1:1:8, costs_superposition, label=\"0 -> superposition\", linestyle=:dash, marker = :circle )\n",
    "# plt0to7 = plot!(1:1:8, costs, label=\"0 -> 7\", linestyle=:dash, marker = :circle, fmt = :jpeg)\n"
   ]
  },
  {
   "cell_type": "code",
   "execution_count": 74,
   "metadata": {},
   "outputs": [
    {
     "data": {
      "image/png": "[encoded data removed]",
      "image/svg+xml": "<?xml version=\"1.0\" encoding=\"utf-8\"?>\n<svg xmlns=\"http://www.w3.org/2000/svg\" xmlns:xlink=\"http://www.w3.org/1999/xlink\" width=\"1500\" height=\"300\" viewBox=\"0 0 6000 1200\">\n<defs>\n  <clipPath id=\"clip380\">\n    <rect x=\"0\" y=\"0\" width=\"6000\" height=\"1200\"/>\n  </clipPath>\n</defs>\n<path clip-path=\"url(#clip380)\" d=\"M0 1200 L6000 1200 L6000 0 L0 0  Z\" fill=\"#ffffff\" fill-rule=\"evenodd\" fill-opacity=\"1\"/>\n<defs>\n  <clipPath id=\"clip381\">\n    <rect x=\"1200\" y=\"0\" width=\"4201\" height=\"1200\"/>\n  </clipPath>\n</defs>\n<path clip-path=\"url(#clip380)\" d=\"M459.397 931.24 L2952.76 931.24 L2952.76 188.976 L459.397 188.976  Z\" fill=\"#ffffff\" fill-rule=\"evenodd\" fill-opacity=\"1\"/>\n<defs>\n  <clipPath id=\"clip382\">\n    <rect x=\"459\" y=\"188\" width=\"2494\" height=\"743\"/>\n  </clipPath>\n</defs>\n<polyline clip-path=\"url(#clip382)\" style=\"stroke:#000000; stroke-linecap:round; stroke-linejoin:round; stroke-width:2; stroke-opacity:0.1; fill:none\" points=\"529.964,931.24 529.964,188.976 \"/>\n<polyline clip-path=\"url(#clip382)\" style=\"stroke:#000000; stroke-linecap:round; stroke-linejoin:round; stroke-width:2; stroke-opacity:0.1; fill:none\" points=\"1118.02,931.24 1118.02,188.976 \"/>\n<polyline clip-path=\"url(#clip382)\" style=\"stroke:#000000; stroke-linecap:round; stroke-linejoin:round; stroke-width:2; stroke-opacity:0.1; fill:none\" points=\"1706.08,931.24 1706.08,188.976 \"/>\n<polyline clip-path=\"url(#clip382)\" style=\"stroke:#000000; stroke-linecap:round; stroke-linejoin:round; stroke-width:2; stroke-opacity:0.1; fill:none\" points=\"2294.13,931.24 2294.13,188.976 \"/>\n<polyline clip-path=\"url(#clip382)\" style=\"stroke:#000000; stroke-linecap:round; stroke-linejoin:round; stroke-width:2; stroke-opacity:0.1; fill:none\" points=\"2882.19,931.24 2882.19,188.976 \"/>\n<polyline clip-path=\"url(#clip380)\" style=\"stroke:#000000; stroke-linecap:round; stroke-linejoin:round; stroke-width:4; stroke-opacity:1; fill:none\" points=\"459.397,931.24 2952.76,931.24 \"/>\n<polyline clip-path=\"url(#clip380)\" style=\"stroke:#000000; stroke-linecap:round; stroke-linejoin:round; stroke-width:4; stroke-opacity:1; fill:none\" points=\"529.964,931.24 529.964,912.342 \"/>\n<polyline clip-path=\"url(#clip380)\" style=\"stroke:#000000; stroke-linecap:round; stroke-linejoin:round; stroke-width:4; stroke-opacity:1; fill:none\" points=\"1118.02,931.24 1118.02,912.342 \"/>\n<polyline clip-path=\"url(#clip380)\" style=\"stroke:#000000; stroke-linecap:round; stroke-linejoin:round; stroke-width:4; stroke-opacity:1; fill:none\" points=\"1706.08,931.24 1706.08,912.342 \"/>\n<polyline clip-path=\"url(#clip380)\" style=\"stroke:#000000; stroke-linecap:round; stroke-linejoin:round; stroke-width:4; stroke-opacity:1; fill:none\" points=\"2294.13,931.24 2294.13,912.342 \"/>\n<polyline clip-path=\"url(#clip380)\" style=\"stroke:#000000; stroke-linecap:round; stroke-linejoin:round; stroke-width:4; stroke-opacity:1; fill:none\" points=\"2882.19,931.24 2882.19,912.342 \"/>\n<path clip-path=\"url(#clip380)\" d=\"M490.386 999.747 Q484.067 999.747 480.867 1005.99 Q477.707 1012.18 477.707 1024.66 Q477.707 1037.1 480.867 1043.33 Q484.067 1049.53 490.386 1049.53 Q496.746 1049.53 499.906 1043.33 Q503.106 1037.1 503.106 1024.66 Q503.106 1012.18 499.906 1005.99 Q496.746 999.747 490.386 999.747 M490.386 993.266 Q500.554 993.266 505.901 1001.33 Q511.289 1009.35 511.289 1024.66 Q511.289 1039.93 505.901 1047.99 Q500.554 1056.01 490.386 1056.01 Q480.218 1056.01 474.831 1047.99 Q469.484 1039.93 469.484 1024.66 Q469.484 1009.35 474.831 1001.33 Q480.218 993.266 490.386 993.266 Z\" fill=\"#000000\" fill-rule=\"nonzero\" fill-opacity=\"1\" /><path clip-path=\"url(#clip380)\" d=\"M525.67 1044.55 L534.217 1044.55 L534.217 1054.84 L525.67 1054.84 L525.67 1044.55 Z\" fill=\"#000000\" fill-rule=\"nonzero\" fill-opacity=\"1\" /><path clip-path=\"url(#clip380)\" d=\"M569.541 999.747 Q563.222 999.747 560.021 1005.99 Q556.862 1012.18 556.862 1024.66 Q556.862 1037.1 560.021 1043.33 Q563.222 1049.53 569.541 1049.53 Q575.901 1049.53 579.061 1043.33 Q582.261 1037.1 582.261 1024.66 Q582.261 1012.18 579.061 1005.99 Q575.901 999.747 569.541 999.747 M569.541 993.266 Q579.709 993.266 585.056 1001.33 Q590.444 1009.35 590.444 1024.66 Q590.444 1039.93 585.056 1047.99 Q579.709 1056.01 569.541 1056.01 Q559.373 1056.01 553.985 1047.99 Q548.638 1039.93 548.638 1024.66 Q548.638 1009.35 553.985 1001.33 Q559.373 993.266 569.541 993.266 Z\" fill=\"#000000\" fill-rule=\"nonzero\" fill-opacity=\"1\" /><path clip-path=\"url(#clip380)\" d=\"M1079.31 999.747 Q1072.99 999.747 1069.79 1005.99 Q1066.63 1012.18 1066.63 1024.66 Q1066.63 1037.1 1069.79 1043.33 Q1072.99 1049.53 1079.31 1049.53 Q1085.67 1049.53 1088.83 1043.33 Q1092.03 1037.1 1092.03 1024.66 Q1092.03 1012.18 1088.83 1005.99 Q1085.67 999.747 1079.31 999.747 M1079.31 993.266 Q1089.48 993.266 1094.83 1001.33 Q1100.22 1009.35 1100.22 1024.66 Q1100.22 1039.93 1094.83 1047.99 Q1089.48 1056.01 1079.31 1056.01 Q1069.15 1056.01 1063.76 1047.99 Q1058.41 1039.93 1058.41 1024.66 Q1058.41 1009.35 1063.76 1001.33 Q1069.15 993.266 1079.31 993.266 Z\" fill=\"#000000\" fill-rule=\"nonzero\" fill-opacity=\"1\" /><path clip-path=\"url(#clip380)\" d=\"M1114.6 1044.55 L1123.14 1044.55 L1123.14 1054.84 L1114.6 1054.84 L1114.6 1044.55 Z\" fill=\"#000000\" fill-rule=\"nonzero\" fill-opacity=\"1\" /><path clip-path=\"url(#clip380)\" d=\"M1141.05 994.36 L1173.17 994.36 L1173.17 1001.25 L1148.54 1001.25 L1148.54 1016.07 Q1150.33 1015.46 1152.11 1015.18 Q1153.89 1014.86 1155.67 1014.86 Q1165.8 1014.86 1171.71 1020.41 Q1177.63 1025.96 1177.63 1035.44 Q1177.63 1045.2 1171.55 1050.63 Q1165.48 1056.01 1154.42 1056.01 Q1150.61 1056.01 1146.64 1055.37 Q1142.71 1054.72 1138.5 1053.42 L1138.5 1045.2 Q1142.14 1047.18 1146.03 1048.16 Q1149.92 1049.13 1154.26 1049.13 Q1161.26 1049.13 1165.35 1045.44 Q1169.45 1041.76 1169.45 1035.44 Q1169.45 1029.12 1165.35 1025.43 Q1161.26 1021.74 1154.26 1021.74 Q1150.97 1021.74 1147.69 1022.47 Q1144.45 1023.2 1141.05 1024.74 L1141.05 994.36 Z\" fill=\"#000000\" fill-rule=\"nonzero\" fill-opacity=\"1\" /><path clip-path=\"url(#clip380)\" d=\"M1648.59 1047.95 L1661.96 1047.95 L1661.96 1001.81 L1647.42 1004.73 L1647.42 997.276 L1661.88 994.36 L1670.06 994.36 L1670.06 1047.95 L1683.43 1047.95 L1683.43 1054.84 L1648.59 1054.84 L1648.59 1047.95 Z\" fill=\"#000000\" fill-rule=\"nonzero\" fill-opacity=\"1\" /><path clip-path=\"url(#clip380)\" d=\"M1699.96 1044.55 L1708.51 1044.55 L1708.51 1054.84 L1699.96 1054.84 L1699.96 1044.55 Z\" fill=\"#000000\" fill-rule=\"nonzero\" fill-opacity=\"1\" /><path clip-path=\"url(#clip380)\" d=\"M1743.83 999.747 Q1737.51 999.747 1734.31 1005.99 Q1731.15 1012.18 1731.15 1024.66 Q1731.15 1037.1 1734.31 1043.33 Q1737.51 1049.53 1743.83 1049.53 Q1750.19 1049.53 1753.35 1043.33 Q1756.55 1037.1 1756.55 1024.66 Q1756.55 1012.18 1753.35 1005.99 Q1750.19 999.747 1743.83 999.747 M1743.83 993.266 Q1754 993.266 1759.35 1001.33 Q1764.73 1009.35 1764.73 1024.66 Q1764.73 1039.93 1759.35 1047.99 Q1754 1056.01 1743.83 1056.01 Q1733.66 1056.01 1728.28 1047.99 Q1722.93 1039.93 1722.93 1024.66 Q1722.93 1009.35 1728.28 1001.33 Q1733.66 993.266 1743.83 993.266 Z\" fill=\"#000000\" fill-rule=\"nonzero\" fill-opacity=\"1\" /><path clip-path=\"url(#clip380)\" d=\"M2237.52 1047.95 L2250.89 1047.95 L2250.89 1001.81 L2236.35 1004.73 L2236.35 997.276 L2250.81 994.36 L2258.99 994.36 L2258.99 1047.95 L2272.36 1047.95 L2272.36 1054.84 L2237.52 1054.84 L2237.52 1047.95 Z\" fill=\"#000000\" fill-rule=\"nonzero\" fill-opacity=\"1\" /><path clip-path=\"url(#clip380)\" d=\"M2288.89 1044.55 L2297.43 1044.55 L2297.43 1054.84 L2288.89 1054.84 L2288.89 1044.55 Z\" fill=\"#000000\" fill-rule=\"nonzero\" fill-opacity=\"1\" /><path clip-path=\"url(#clip380)\" d=\"M2315.34 994.36 L2347.46 994.36 L2347.46 1001.25 L2322.83 1001.25 L2322.83 1016.07 Q2324.62 1015.46 2326.4 1015.18 Q2328.18 1014.86 2329.96 1014.86 Q2340.09 1014.86 2346 1020.41 Q2351.92 1025.96 2351.92 1035.44 Q2351.92 1045.2 2345.84 1050.63 Q2339.77 1056.01 2328.71 1056.01 Q2324.9 1056.01 2320.93 1055.37 Q2317 1054.72 2312.79 1053.42 L2312.79 1045.2 Q2316.43 1047.18 2320.32 1048.16 Q2324.21 1049.13 2328.55 1049.13 Q2335.55 1049.13 2339.64 1045.44 Q2343.74 1041.76 2343.74 1035.44 Q2343.74 1029.12 2339.64 1025.43 Q2335.55 1021.74 2328.55 1021.74 Q2325.26 1021.74 2321.98 1022.47 Q2318.74 1023.2 2315.34 1024.74 L2315.34 994.36 Z\" fill=\"#000000\" fill-rule=\"nonzero\" fill-opacity=\"1\" /><path clip-path=\"url(#clip380)\" d=\"M2831.86 1047.95 L2860.42 1047.95 L2860.42 1054.84 L2822.01 1054.84 L2822.01 1047.95 Q2826.67 1043.13 2834.69 1035.03 Q2842.75 1026.89 2844.82 1024.54 Q2848.75 1020.12 2850.29 1017.09 Q2851.87 1014.01 2851.87 1011.05 Q2851.87 1006.23 2848.47 1003.19 Q2845.1 1000.15 2839.67 1000.15 Q2835.83 1000.15 2831.53 1001.49 Q2827.28 1002.83 2822.42 1005.54 L2822.42 997.276 Q2827.36 995.291 2831.65 994.279 Q2835.95 993.266 2839.51 993.266 Q2848.91 993.266 2854.5 997.965 Q2860.09 1002.66 2860.09 1010.52 Q2860.09 1014.25 2858.67 1017.61 Q2857.3 1020.93 2853.61 1025.47 Q2852.6 1026.65 2847.17 1032.28 Q2841.74 1037.87 2831.86 1047.95 Z\" fill=\"#000000\" fill-rule=\"nonzero\" fill-opacity=\"1\" /><path clip-path=\"url(#clip380)\" d=\"M2877.59 1044.55 L2886.14 1044.55 L2886.14 1054.84 L2877.59 1054.84 L2877.59 1044.55 Z\" fill=\"#000000\" fill-rule=\"nonzero\" fill-opacity=\"1\" /><path clip-path=\"url(#clip380)\" d=\"M2921.46 999.747 Q2915.14 999.747 2911.94 1005.99 Q2908.78 1012.18 2908.78 1024.66 Q2908.78 1037.1 2911.94 1043.33 Q2915.14 1049.53 2921.46 1049.53 Q2927.82 1049.53 2930.98 1043.33 Q2934.18 1037.1 2934.18 1024.66 Q2934.18 1012.18 2930.98 1005.99 Q2927.82 999.747 2921.46 999.747 M2921.46 993.266 Q2931.63 993.266 2936.98 1001.33 Q2942.37 1009.35 2942.37 1024.66 Q2942.37 1039.93 2936.98 1047.99 Q2931.63 1056.01 2921.46 1056.01 Q2911.29 1056.01 2905.91 1047.99 Q2900.56 1039.93 2900.56 1024.66 Q2900.56 1009.35 2905.91 1001.33 Q2911.29 993.266 2921.46 993.266 Z\" fill=\"#000000\" fill-rule=\"nonzero\" fill-opacity=\"1\" /><path clip-path=\"url(#clip380)\" d=\"M1527.63 1124.06 L1578.8 1124.06 L1578.8 1130.94 L1557.33 1130.94 L1557.33 1184.54 L1549.1 1184.54 L1549.1 1130.94 L1527.63 1130.94 L1527.63 1124.06 Z\" fill=\"#000000\" fill-rule=\"nonzero\" fill-opacity=\"1\" /><path clip-path=\"url(#clip380)\" d=\"M1583.82 1139.17 L1591.27 1139.17 L1591.27 1184.54 L1583.82 1184.54 L1583.82 1139.17 M1583.82 1121.5 L1591.27 1121.5 L1591.27 1130.94 L1583.82 1130.94 L1583.82 1121.5 Z\" fill=\"#000000\" fill-rule=\"nonzero\" fill-opacity=\"1\" /><path clip-path=\"url(#clip380)\" d=\"M1642.19 1147.87 Q1644.99 1142.85 1648.88 1140.46 Q1652.77 1138.07 1658.03 1138.07 Q1665.12 1138.07 1668.97 1143.05 Q1672.82 1148 1672.82 1157.15 L1672.82 1184.54 L1665.32 1184.54 L1665.32 1157.39 Q1665.32 1150.87 1663.02 1147.71 Q1660.71 1144.55 1655.97 1144.55 Q1650.17 1144.55 1646.81 1148.4 Q1643.45 1152.25 1643.45 1158.89 L1643.45 1184.54 L1635.96 1184.54 L1635.96 1157.39 Q1635.96 1150.83 1633.65 1147.71 Q1631.34 1144.55 1626.52 1144.55 Q1620.8 1144.55 1617.44 1148.44 Q1614.08 1152.29 1614.08 1158.89 L1614.08 1184.54 L1606.59 1184.54 L1606.59 1139.17 L1614.08 1139.17 L1614.08 1146.21 Q1616.63 1142.04 1620.2 1140.06 Q1623.76 1138.07 1628.66 1138.07 Q1633.61 1138.07 1637.05 1140.58 Q1640.53 1143.09 1642.19 1147.87 Z\" fill=\"#000000\" fill-rule=\"nonzero\" fill-opacity=\"1\" /><path clip-path=\"url(#clip380)\" d=\"M1726.49 1159.99 L1726.49 1163.63 L1692.22 1163.63 Q1692.71 1171.33 1696.84 1175.38 Q1701.01 1179.39 1708.43 1179.39 Q1712.72 1179.39 1716.73 1178.34 Q1720.78 1177.28 1724.75 1175.18 L1724.75 1182.23 Q1720.74 1183.93 1716.53 1184.82 Q1712.31 1185.71 1707.98 1185.71 Q1697.12 1185.71 1690.76 1179.39 Q1684.44 1173.07 1684.44 1162.3 Q1684.44 1151.16 1690.44 1144.63 Q1696.48 1138.07 1706.68 1138.07 Q1715.84 1138.07 1721.15 1143.99 Q1726.49 1149.86 1726.49 1159.99 M1719.04 1157.8 Q1718.96 1151.68 1715.6 1148.04 Q1712.27 1144.39 1706.77 1144.39 Q1700.53 1144.39 1696.76 1147.92 Q1693.03 1151.44 1692.47 1157.84 L1719.04 1157.8 Z\" fill=\"#000000\" fill-rule=\"nonzero\" fill-opacity=\"1\" /><path clip-path=\"url(#clip380)\" d=\"M1738.04 1121.5 L1755.21 1121.5 L1755.21 1127.3 L1745.49 1127.3 L1745.49 1189.68 L1755.21 1189.68 L1755.21 1195.47 L1738.04 1195.47 L1738.04 1121.5 Z\" fill=\"#000000\" fill-rule=\"nonzero\" fill-opacity=\"1\" /><path clip-path=\"url(#clip380)\" d=\"M1770.32 1201.79 L1770.32 1139.17 L1777.78 1139.17 L1777.78 1167.36 Q1777.78 1173.23 1780.57 1176.23 Q1783.37 1179.23 1788.84 1179.23 Q1794.83 1179.23 1797.83 1175.83 Q1800.87 1172.42 1800.87 1165.62 L1800.87 1139.17 L1808.32 1139.17 L1808.32 1174.08 Q1808.32 1176.51 1809.01 1177.69 Q1809.74 1178.82 1811.24 1178.82 Q1811.6 1178.82 1812.25 1178.62 Q1812.9 1178.38 1814.03 1177.89 L1814.03 1183.89 Q1812.37 1184.82 1810.87 1185.26 Q1809.41 1185.71 1808 1185.71 Q1805.2 1185.71 1803.54 1184.13 Q1801.88 1182.55 1801.27 1179.31 Q1799.25 1182.51 1796.29 1184.13 Q1793.37 1185.71 1789.4 1185.71 Q1785.27 1185.71 1782.35 1184.13 Q1779.48 1182.55 1777.78 1179.39 L1777.78 1201.79 L1770.32 1201.79 Z\" fill=\"#000000\" fill-rule=\"nonzero\" fill-opacity=\"1\" /><path clip-path=\"url(#clip380)\" d=\"M1852.8 1140.5 L1852.8 1147.55 Q1849.64 1145.93 1846.24 1145.12 Q1842.83 1144.31 1839.19 1144.31 Q1833.64 1144.31 1830.84 1146.01 Q1828.09 1147.71 1828.09 1151.12 Q1828.09 1153.71 1830.07 1155.21 Q1832.06 1156.67 1838.05 1158 L1840.61 1158.57 Q1848.55 1160.27 1851.87 1163.39 Q1855.23 1166.47 1855.23 1172.02 Q1855.23 1178.34 1850.21 1182.02 Q1845.22 1185.71 1836.47 1185.71 Q1832.83 1185.71 1828.86 1184.98 Q1824.93 1184.29 1820.55 1182.87 L1820.55 1175.18 Q1824.69 1177.32 1828.7 1178.42 Q1832.71 1179.47 1836.64 1179.47 Q1841.9 1179.47 1844.74 1177.69 Q1847.57 1175.87 1847.57 1172.59 Q1847.57 1169.55 1845.51 1167.93 Q1843.48 1166.31 1836.56 1164.81 L1833.96 1164.2 Q1827.04 1162.74 1823.96 1159.74 Q1820.88 1156.71 1820.88 1151.44 Q1820.88 1145.04 1825.42 1141.56 Q1829.95 1138.07 1838.3 1138.07 Q1842.43 1138.07 1846.08 1138.68 Q1849.72 1139.29 1852.8 1140.5 Z\" fill=\"#000000\" fill-rule=\"nonzero\" fill-opacity=\"1\" /><path clip-path=\"url(#clip380)\" d=\"M1884.52 1121.5 L1884.52 1195.47 L1867.34 1195.47 L1867.34 1189.68 L1877.02 1189.68 L1877.02 1127.3 L1867.34 1127.3 L1867.34 1121.5 L1884.52 1121.5 Z\" fill=\"#000000\" fill-rule=\"nonzero\" fill-opacity=\"1\" /><polyline clip-path=\"url(#clip382)\" style=\"stroke:#000000; stroke-linecap:round; stroke-linejoin:round; stroke-width:2; stroke-opacity:0.1; fill:none\" points=\"459.397,825.505 2952.76,825.505 \"/>\n<polyline clip-path=\"url(#clip382)\" style=\"stroke:#000000; stroke-linecap:round; stroke-linejoin:round; stroke-width:2; stroke-opacity:0.1; fill:none\" points=\"459.397,697.197 2952.76,697.197 \"/>\n<polyline clip-path=\"url(#clip382)\" style=\"stroke:#000000; stroke-linecap:round; stroke-linejoin:round; stroke-width:2; stroke-opacity:0.1; fill:none\" points=\"459.397,568.888 2952.76,568.888 \"/>\n<polyline clip-path=\"url(#clip382)\" style=\"stroke:#000000; stroke-linecap:round; stroke-linejoin:round; stroke-width:2; stroke-opacity:0.1; fill:none\" points=\"459.397,440.58 2952.76,440.58 \"/>\n<polyline clip-path=\"url(#clip382)\" style=\"stroke:#000000; stroke-linecap:round; stroke-linejoin:round; stroke-width:2; stroke-opacity:0.1; fill:none\" points=\"459.397,312.272 2952.76,312.272 \"/>\n<polyline clip-path=\"url(#clip380)\" style=\"stroke:#000000; stroke-linecap:round; stroke-linejoin:round; stroke-width:4; stroke-opacity:1; fill:none\" points=\"459.397,931.24 459.397,188.976 \"/>\n<polyline clip-path=\"url(#clip380)\" style=\"stroke:#000000; stroke-linecap:round; stroke-linejoin:round; stroke-width:4; stroke-opacity:1; fill:none\" points=\"459.397,825.505 478.294,825.505 \"/>\n<polyline clip-path=\"url(#clip380)\" style=\"stroke:#000000; stroke-linecap:round; stroke-linejoin:round; stroke-width:4; stroke-opacity:1; fill:none\" points=\"459.397,697.197 478.294,697.197 \"/>\n<polyline clip-path=\"url(#clip380)\" style=\"stroke:#000000; stroke-linecap:round; stroke-linejoin:round; stroke-width:4; stroke-opacity:1; fill:none\" points=\"459.397,568.888 478.294,568.888 \"/>\n<polyline clip-path=\"url(#clip380)\" style=\"stroke:#000000; stroke-linecap:round; stroke-linejoin:round; stroke-width:4; stroke-opacity:1; fill:none\" points=\"459.397,440.58 478.294,440.58 \"/>\n<polyline clip-path=\"url(#clip380)\" style=\"stroke:#000000; stroke-linecap:round; stroke-linejoin:round; stroke-width:4; stroke-opacity:1; fill:none\" points=\"459.397,312.272 478.294,312.272 \"/>\n<path clip-path=\"url(#clip380)\" d=\"M208.616 826.295 L260.549 826.295 L260.549 833.182 L208.616 833.182 L208.616 826.295 Z\" fill=\"#000000\" fill-rule=\"nonzero\" fill-opacity=\"1\" /><path clip-path=\"url(#clip380)\" d=\"M278.292 795.265 L310.416 795.265 L310.416 802.152 L285.786 802.152 L285.786 816.978 Q287.569 816.371 289.351 816.087 Q291.133 815.763 292.916 815.763 Q303.043 815.763 308.957 821.313 Q314.872 826.862 314.872 836.341 Q314.872 846.104 308.795 851.532 Q302.719 856.92 291.66 856.92 Q287.852 856.92 283.882 856.272 Q279.953 855.624 275.74 854.327 L275.74 846.104 Q279.386 848.089 283.275 849.061 Q287.163 850.034 291.498 850.034 Q298.506 850.034 302.597 846.347 Q306.689 842.661 306.689 836.341 Q306.689 830.022 302.597 826.336 Q298.506 822.649 291.498 822.649 Q288.217 822.649 284.935 823.379 Q281.695 824.108 278.292 825.647 L278.292 795.265 Z\" fill=\"#000000\" fill-rule=\"nonzero\" fill-opacity=\"1\" /><path clip-path=\"url(#clip380)\" d=\"M348.494 800.653 Q342.175 800.653 338.975 806.891 Q335.815 813.089 335.815 825.566 Q335.815 838.002 338.975 844.241 Q342.175 850.439 348.494 850.439 Q354.854 850.439 358.014 844.241 Q361.214 838.002 361.214 825.566 Q361.214 813.089 358.014 806.891 Q354.854 800.653 348.494 800.653 M348.494 794.172 Q358.662 794.172 364.009 802.233 Q369.397 810.254 369.397 825.566 Q369.397 840.838 364.009 848.899 Q358.662 856.92 348.494 856.92 Q338.326 856.92 332.939 848.899 Q327.591 840.838 327.591 825.566 Q327.591 810.254 332.939 802.233 Q338.326 794.172 348.494 794.172 Z\" fill=\"#000000\" fill-rule=\"nonzero\" fill-opacity=\"1\" /><path clip-path=\"url(#clip380)\" d=\"M210.358 697.987 L262.291 697.987 L262.291 704.873 L210.358 704.873 L210.358 697.987 Z\" fill=\"#000000\" fill-rule=\"nonzero\" fill-opacity=\"1\" /><path clip-path=\"url(#clip380)\" d=\"M287.001 720.55 L315.56 720.55 L315.56 727.437 L277.158 727.437 L277.158 720.55 Q281.816 715.73 289.837 707.628 Q297.898 699.486 299.964 697.136 Q303.894 692.721 305.433 689.682 Q307.013 686.604 307.013 683.647 Q307.013 678.826 303.61 675.788 Q300.248 672.75 294.82 672.75 Q290.971 672.75 286.677 674.086 Q282.424 675.423 277.563 678.137 L277.563 669.874 Q282.505 667.889 286.799 666.876 Q291.093 665.863 294.658 665.863 Q304.056 665.863 309.646 670.562 Q315.236 675.261 315.236 683.12 Q315.236 686.847 313.818 690.209 Q312.441 693.531 308.755 698.068 Q307.742 699.243 302.314 704.873 Q296.886 710.464 287.001 720.55 Z\" fill=\"#000000\" fill-rule=\"nonzero\" fill-opacity=\"1\" /><path clip-path=\"url(#clip380)\" d=\"M332.817 666.957 L364.941 666.957 L364.941 673.843 L340.311 673.843 L340.311 688.67 Q342.094 688.062 343.876 687.779 Q345.659 687.454 347.441 687.454 Q357.568 687.454 363.483 693.004 Q369.397 698.554 369.397 708.033 Q369.397 717.796 363.32 723.224 Q357.244 728.612 346.185 728.612 Q342.377 728.612 338.407 727.963 Q334.478 727.315 330.265 726.019 L330.265 717.796 Q333.911 719.781 337.8 720.753 Q341.689 721.725 346.023 721.725 Q353.031 721.725 357.123 718.039 Q361.214 714.352 361.214 708.033 Q361.214 701.714 357.123 698.027 Q353.031 694.341 346.023 694.341 Q342.742 694.341 339.461 695.07 Q336.22 695.799 332.817 697.339 L332.817 666.957 Z\" fill=\"#000000\" fill-rule=\"nonzero\" fill-opacity=\"1\" /><path clip-path=\"url(#clip380)\" d=\"M348.494 544.036 Q342.175 544.036 338.975 550.275 Q335.815 556.472 335.815 568.949 Q335.815 581.385 338.975 587.624 Q342.175 593.822 348.494 593.822 Q354.854 593.822 358.014 587.624 Q361.214 581.385 361.214 568.949 Q361.214 556.472 358.014 550.275 Q354.854 544.036 348.494 544.036 M348.494 537.555 Q358.662 537.555 364.009 545.616 Q369.397 553.637 369.397 568.949 Q369.397 584.221 364.009 592.282 Q358.662 600.303 348.494 600.303 Q338.326 600.303 332.939 592.282 Q327.591 584.221 327.591 568.949 Q327.591 553.637 332.939 545.616 Q338.326 537.555 348.494 537.555 Z\" fill=\"#000000\" fill-rule=\"nonzero\" fill-opacity=\"1\" /><path clip-path=\"url(#clip380)\" d=\"M287.001 463.933 L315.56 463.933 L315.56 470.82 L277.158 470.82 L277.158 463.933 Q281.816 459.113 289.837 451.011 Q297.898 442.869 299.964 440.519 Q303.894 436.104 305.433 433.066 Q307.013 429.987 307.013 427.03 Q307.013 422.209 303.61 419.171 Q300.248 416.133 294.82 416.133 Q290.971 416.133 286.677 417.47 Q282.424 418.806 277.563 421.52 L277.563 413.257 Q282.505 411.272 286.799 410.259 Q291.093 409.246 294.658 409.246 Q304.056 409.246 309.646 413.945 Q315.236 418.644 315.236 426.503 Q315.236 430.23 313.818 433.592 Q312.441 436.914 308.755 441.451 Q307.742 442.626 302.314 448.256 Q296.886 453.847 287.001 463.933 Z\" fill=\"#000000\" fill-rule=\"nonzero\" fill-opacity=\"1\" /><path clip-path=\"url(#clip380)\" d=\"M332.817 410.34 L364.941 410.34 L364.941 417.226 L340.311 417.226 L340.311 432.053 Q342.094 431.445 343.876 431.162 Q345.659 430.838 347.441 430.838 Q357.568 430.838 363.483 436.387 Q369.397 441.937 369.397 451.416 Q369.397 461.179 363.32 466.607 Q357.244 471.995 346.185 471.995 Q342.377 471.995 338.407 471.347 Q334.478 470.698 330.265 469.402 L330.265 461.179 Q333.911 463.164 337.8 464.136 Q341.689 465.108 346.023 465.108 Q353.031 465.108 357.123 461.422 Q361.214 457.736 361.214 451.416 Q361.214 445.097 357.123 441.41 Q353.031 437.724 346.023 437.724 Q342.742 437.724 339.461 438.453 Q336.22 439.182 332.817 440.722 L332.817 410.34 Z\" fill=\"#000000\" fill-rule=\"nonzero\" fill-opacity=\"1\" /><path clip-path=\"url(#clip380)\" d=\"M278.292 282.032 L310.416 282.032 L310.416 288.918 L285.786 288.918 L285.786 303.744 Q287.569 303.137 289.351 302.853 Q291.133 302.529 292.916 302.529 Q303.043 302.529 308.957 308.079 Q314.872 313.629 314.872 323.108 Q314.872 332.87 308.795 338.299 Q302.719 343.686 291.66 343.686 Q287.852 343.686 283.882 343.038 Q279.953 342.39 275.74 341.094 L275.74 332.87 Q279.386 334.855 283.275 335.828 Q287.163 336.8 291.498 336.8 Q298.506 336.8 302.597 333.113 Q306.689 329.427 306.689 323.108 Q306.689 316.788 302.597 313.102 Q298.506 309.416 291.498 309.416 Q288.217 309.416 284.935 310.145 Q281.695 310.874 278.292 312.413 L278.292 282.032 Z\" fill=\"#000000\" fill-rule=\"nonzero\" fill-opacity=\"1\" /><path clip-path=\"url(#clip380)\" d=\"M348.494 287.419 Q342.175 287.419 338.975 293.658 Q335.815 299.855 335.815 312.332 Q335.815 324.769 338.975 331.007 Q342.175 337.205 348.494 337.205 Q354.854 337.205 358.014 331.007 Q361.214 324.769 361.214 312.332 Q361.214 299.855 358.014 293.658 Q354.854 287.419 348.494 287.419 M348.494 280.938 Q358.662 280.938 364.009 288.999 Q369.397 297.02 369.397 312.332 Q369.397 327.604 364.009 335.665 Q358.662 343.686 348.494 343.686 Q338.326 343.686 332.939 335.665 Q327.591 327.604 327.591 312.332 Q327.591 297.02 332.939 288.999 Q338.326 280.938 348.494 280.938 Z\" fill=\"#000000\" fill-rule=\"nonzero\" fill-opacity=\"1\" /><path clip-path=\"url(#clip380)\" d=\"M46.7169 787.83 L69.4425 787.83 L69.4425 777.54 Q69.4425 771.828 66.4854 768.709 Q63.5282 765.59 58.0595 765.59 Q52.6313 765.59 49.6741 768.709 Q46.7169 771.828 46.7169 777.54 L46.7169 787.83 M39.9924 796.012 L39.9924 777.54 Q39.9924 767.372 44.6105 762.187 Q49.188 756.962 58.0595 756.962 Q67.012 756.962 71.5895 762.187 Q76.167 767.372 76.167 777.54 L76.167 787.83 L100.472 787.83 L100.472 796.012 L39.9924 796.012 Z\" fill=\"#000000\" fill-rule=\"nonzero\" fill-opacity=\"1\" /><path clip-path=\"url(#clip380)\" d=\"M82.5674 748.536 L55.1023 748.536 L55.1023 741.082 L82.2839 741.082 Q88.7248 741.082 91.9655 738.571 Q95.1658 736.059 95.1658 731.036 Q95.1658 725 91.3174 721.516 Q87.469 717.992 80.8256 717.992 L55.1023 717.992 L55.1023 710.538 L100.472 710.538 L100.472 717.992 L93.5049 717.992 Q97.6368 720.706 99.6623 724.311 Q101.647 727.876 101.647 732.616 Q101.647 740.434 96.7861 744.485 Q91.925 748.536 82.5674 748.536 M54.0086 729.78 L54.0086 729.78 Z\" fill=\"#000000\" fill-rule=\"nonzero\" fill-opacity=\"1\" /><path clip-path=\"url(#clip380)\" d=\"M37.4404 695.185 L37.4404 687.732 L100.472 687.732 L100.472 695.185 L37.4404 695.185 Z\" fill=\"#000000\" fill-rule=\"nonzero\" fill-opacity=\"1\" /><path clip-path=\"url(#clip380)\" d=\"M56.4391 643.212 L63.4877 643.212 Q61.8673 646.372 61.0571 649.775 Q60.247 653.177 60.247 656.823 Q60.247 662.373 61.9483 665.168 Q63.6497 667.923 67.0525 667.923 Q69.6451 667.923 71.1439 665.938 Q72.6022 663.953 73.939 657.958 L74.5061 655.405 Q76.2075 647.466 79.3267 644.144 Q82.4054 640.782 87.9551 640.782 Q94.2746 640.782 97.9609 645.805 Q101.647 650.787 101.647 659.537 Q101.647 663.183 100.918 667.153 Q100.229 671.082 98.8116 675.457 L91.1149 675.457 Q93.2618 671.326 94.3556 667.315 Q95.4088 663.305 95.4088 659.375 Q95.4088 654.109 93.6264 651.274 Q91.8035 648.438 88.5223 648.438 Q85.4841 648.438 83.8637 650.504 Q82.2434 652.529 80.7445 659.456 L80.1369 662.049 Q78.6786 668.976 75.6809 672.055 Q72.6427 675.133 67.3766 675.133 Q60.9761 675.133 57.4923 670.596 Q54.0086 666.059 54.0086 657.715 Q54.0086 653.583 54.6162 649.937 Q55.2238 646.291 56.4391 643.212 Z\" fill=\"#000000\" fill-rule=\"nonzero\" fill-opacity=\"1\" /><path clip-path=\"url(#clip380)\" d=\"M75.924 590.105 L79.5698 590.105 L79.5698 624.376 Q87.2665 623.889 91.3174 619.758 Q95.3278 615.585 95.3278 608.172 Q95.3278 603.878 94.2746 599.868 Q93.2213 595.817 91.1149 591.847 L98.1634 591.847 Q99.8648 595.857 100.756 600.07 Q101.647 604.283 101.647 608.618 Q101.647 619.474 95.3278 625.834 Q89.0084 632.153 78.233 632.153 Q67.093 632.153 60.571 626.158 Q54.0086 620.122 54.0086 609.914 Q54.0086 600.759 59.9229 595.452 Q65.7967 590.105 75.924 590.105 M73.7365 597.559 Q67.6196 597.64 63.9738 601.002 Q60.328 604.324 60.328 609.833 Q60.328 616.071 63.8523 619.839 Q67.3766 623.565 73.777 624.133 L73.7365 597.559 Z\" fill=\"#000000\" fill-rule=\"nonzero\" fill-opacity=\"1\" /><path clip-path=\"url(#clip380)\" d=\"M37.4404 552.188 L37.4404 535.013 L43.2332 535.013 L43.2332 544.735 L105.617 544.735 L105.617 535.013 L111.41 535.013 L111.41 552.188 L37.4404 552.188 Z\" fill=\"#000000\" fill-rule=\"nonzero\" fill-opacity=\"1\" /><path clip-path=\"url(#clip380)\" d=\"M39.9924 518.809 L39.9924 506.616 L81.1496 491.182 L39.9924 475.667 L39.9924 463.474 L100.472 463.474 L100.472 471.454 L47.3651 471.454 L88.8463 487.05 L88.8463 495.273 L47.3651 510.869 L100.472 510.869 L100.472 518.809 L39.9924 518.809 Z\" fill=\"#000000\" fill-rule=\"nonzero\" fill-opacity=\"1\" /><path clip-path=\"url(#clip380)\" d=\"M39.9924 447.23 L39.9924 439.047 L64.784 439.047 L64.784 409.313 L39.9924 409.313 L39.9924 401.13 L100.472 401.13 L100.472 409.313 L71.6705 409.313 L71.6705 439.047 L100.472 439.047 L100.472 447.23 L39.9924 447.23 Z\" fill=\"#000000\" fill-rule=\"nonzero\" fill-opacity=\"1\" /><path clip-path=\"url(#clip380)\" d=\"M55.1023 388.41 L55.1023 353.005 L61.9078 353.005 L94.5176 381.038 L94.5176 353.005 L100.472 353.005 L100.472 389.423 L93.6669 389.423 L61.0571 361.391 L61.0571 388.41 L55.1023 388.41 Z\" fill=\"#000000\" fill-rule=\"nonzero\" fill-opacity=\"1\" /><path clip-path=\"url(#clip380)\" d=\"M37.4404 324.204 L111.41 324.204 L111.41 341.379 L105.617 341.379 L105.617 331.698 L43.2332 331.698 L43.2332 341.379 L37.4404 341.379 L37.4404 324.204 Z\" fill=\"#000000\" fill-rule=\"nonzero\" fill-opacity=\"1\" /><polyline clip-path=\"url(#clip382)\" style=\"stroke:#009af9; stroke-linecap:round; stroke-linejoin:round; stroke-width:4; stroke-opacity:1; fill:none\" stroke-dasharray=\"16, 10\" points=\"529.964,468.336 577.008,408.033 624.053,655.358 671.097,761.01 718.142,589.006 765.186,505.661 812.231,305.557 859.275,533.738 906.32,649.684 953.364,801.544 1000.41,836.192 1047.45,563.627 1094.5,480.523 1141.54,628.115 1188.59,648.198 1235.63,525.241 1282.68,512.655 1329.72,565.428 1376.76,494.775 1423.81,513.103 1470.85,746.685 1517.9,822.011 1564.94,648.578 1611.99,532.206 1659.03,414.93 1706.08,251.682 1753.12,421.422 1800.17,755.776 1847.21,636.176 1894.25,386.554 1941.3,576.695 1988.34,655.743 2035.39,346.866 2082.43,442.387 2129.48,775.368 2176.52,500.404 2223.57,300.684 2270.61,774.427 2317.66,910.232 2364.7,557.406 2411.74,468.832 2458.79,476.77 2505.83,461.688 2552.88,419.225 2599.92,455.934 2646.97,573.445 2694.01,622.153 2741.06,416.473 2788.1,600.313 2835.14,300.539 2882.19,664.451 \"/>\n<circle clip-path=\"url(#clip382)\" cx=\"529.964\" cy=\"468.336\" r=\"10.8\" fill=\"#009af9\" fill-rule=\"evenodd\" fill-opacity=\"1\" stroke=\"#000000\" stroke-opacity=\"1\" stroke-width=\"2.4\"/>\n<circle clip-path=\"url(#clip382)\" cx=\"577.008\" cy=\"408.033\" r=\"10.8\" fill=\"#009af9\" fill-rule=\"evenodd\" fill-opacity=\"1\" stroke=\"#000000\" stroke-opacity=\"1\" stroke-width=\"2.4\"/>\n<circle clip-path=\"url(#clip382)\" cx=\"624.053\" cy=\"655.358\" r=\"10.8\" fill=\"#009af9\" fill-rule=\"evenodd\" fill-opacity=\"1\" stroke=\"#000000\" stroke-opacity=\"1\" stroke-width=\"2.4\"/>\n<circle clip-path=\"url(#clip382)\" cx=\"671.097\" cy=\"761.01\" r=\"10.8\" fill=\"#009af9\" fill-rule=\"evenodd\" fill-opacity=\"1\" stroke=\"#000000\" stroke-opacity=\"1\" stroke-width=\"2.4\"/>\n<circle clip-path=\"url(#clip382)\" cx=\"718.142\" cy=\"589.006\" r=\"10.8\" fill=\"#009af9\" fill-rule=\"evenodd\" fill-opacity=\"1\" stroke=\"#000000\" stroke-opacity=\"1\" stroke-width=\"2.4\"/>\n<circle clip-path=\"url(#clip382)\" cx=\"765.186\" cy=\"505.661\" r=\"10.8\" fill=\"#009af9\" fill-rule=\"evenodd\" fill-opacity=\"1\" stroke=\"#000000\" stroke-opacity=\"1\" stroke-width=\"2.4\"/>\n<circle clip-path=\"url(#clip382)\" cx=\"812.231\" cy=\"305.557\" r=\"10.8\" fill=\"#009af9\" fill-rule=\"evenodd\" fill-opacity=\"1\" stroke=\"#000000\" stroke-opacity=\"1\" stroke-width=\"2.4\"/>\n<circle clip-path=\"url(#clip382)\" cx=\"859.275\" cy=\"533.738\" r=\"10.8\" fill=\"#009af9\" fill-rule=\"evenodd\" fill-opacity=\"1\" stroke=\"#000000\" stroke-opacity=\"1\" stroke-width=\"2.4\"/>\n<circle clip-path=\"url(#clip382)\" cx=\"906.32\" cy=\"649.684\" r=\"10.8\" fill=\"#009af9\" fill-rule=\"evenodd\" fill-opacity=\"1\" stroke=\"#000000\" stroke-opacity=\"1\" stroke-width=\"2.4\"/>\n<circle clip-path=\"url(#clip382)\" cx=\"953.364\" cy=\"801.544\" r=\"10.8\" fill=\"#009af9\" fill-rule=\"evenodd\" fill-opacity=\"1\" stroke=\"#000000\" stroke-opacity=\"1\" stroke-width=\"2.4\"/>\n<circle clip-path=\"url(#clip382)\" cx=\"1000.41\" cy=\"836.192\" r=\"10.8\" fill=\"#009af9\" fill-rule=\"evenodd\" fill-opacity=\"1\" stroke=\"#000000\" stroke-opacity=\"1\" stroke-width=\"2.4\"/>\n<circle clip-path=\"url(#clip382)\" cx=\"1047.45\" cy=\"563.627\" r=\"10.8\" fill=\"#009af9\" fill-rule=\"evenodd\" fill-opacity=\"1\" stroke=\"#000000\" stroke-opacity=\"1\" stroke-width=\"2.4\"/>\n<circle clip-path=\"url(#clip382)\" cx=\"1094.5\" cy=\"480.523\" r=\"10.8\" fill=\"#009af9\" fill-rule=\"evenodd\" fill-opacity=\"1\" stroke=\"#000000\" stroke-opacity=\"1\" stroke-width=\"2.4\"/>\n<circle clip-path=\"url(#clip382)\" cx=\"1141.54\" cy=\"628.115\" r=\"10.8\" fill=\"#009af9\" fill-rule=\"evenodd\" fill-opacity=\"1\" stroke=\"#000000\" stroke-opacity=\"1\" stroke-width=\"2.4\"/>\n<circle clip-path=\"url(#clip382)\" cx=\"1188.59\" cy=\"648.198\" r=\"10.8\" fill=\"#009af9\" fill-rule=\"evenodd\" fill-opacity=\"1\" stroke=\"#000000\" stroke-opacity=\"1\" stroke-width=\"2.4\"/>\n<circle clip-path=\"url(#clip382)\" cx=\"1235.63\" cy=\"525.241\" r=\"10.8\" fill=\"#009af9\" fill-rule=\"evenodd\" fill-opacity=\"1\" stroke=\"#000000\" stroke-opacity=\"1\" stroke-width=\"2.4\"/>\n<circle clip-path=\"url(#clip382)\" cx=\"1282.68\" cy=\"512.655\" r=\"10.8\" fill=\"#009af9\" fill-rule=\"evenodd\" fill-opacity=\"1\" stroke=\"#000000\" stroke-opacity=\"1\" stroke-width=\"2.4\"/>\n<circle clip-path=\"url(#clip382)\" cx=\"1329.72\" cy=\"565.428\" r=\"10.8\" fill=\"#009af9\" fill-rule=\"evenodd\" fill-opacity=\"1\" stroke=\"#000000\" stroke-opacity=\"1\" stroke-width=\"2.4\"/>\n<circle clip-path=\"url(#clip382)\" cx=\"1376.76\" cy=\"494.775\" r=\"10.8\" fill=\"#009af9\" fill-rule=\"evenodd\" fill-opacity=\"1\" stroke=\"#000000\" stroke-opacity=\"1\" stroke-width=\"2.4\"/>\n<circle clip-path=\"url(#clip382)\" cx=\"1423.81\" cy=\"513.103\" r=\"10.8\" fill=\"#009af9\" fill-rule=\"evenodd\" fill-opacity=\"1\" stroke=\"#000000\" stroke-opacity=\"1\" stroke-width=\"2.4\"/>\n<circle clip-path=\"url(#clip382)\" cx=\"1470.85\" cy=\"746.685\" r=\"10.8\" fill=\"#009af9\" fill-rule=\"evenodd\" fill-opacity=\"1\" stroke=\"#000000\" stroke-opacity=\"1\" stroke-width=\"2.4\"/>\n<circle clip-path=\"url(#clip382)\" cx=\"1517.9\" cy=\"822.011\" r=\"10.8\" fill=\"#009af9\" fill-rule=\"evenodd\" fill-opacity=\"1\" stroke=\"#000000\" stroke-opacity=\"1\" stroke-width=\"2.4\"/>\n<circle clip-path=\"url(#clip382)\" cx=\"1564.94\" cy=\"648.578\" r=\"10.8\" fill=\"#009af9\" fill-rule=\"evenodd\" fill-opacity=\"1\" stroke=\"#000000\" stroke-opacity=\"1\" stroke-width=\"2.4\"/>\n<circle clip-path=\"url(#clip382)\" cx=\"1611.99\" cy=\"532.206\" r=\"10.8\" fill=\"#009af9\" fill-rule=\"evenodd\" fill-opacity=\"1\" stroke=\"#000000\" stroke-opacity=\"1\" stroke-width=\"2.4\"/>\n<circle clip-path=\"url(#clip382)\" cx=\"1659.03\" cy=\"414.93\" r=\"10.8\" fill=\"#009af9\" fill-rule=\"evenodd\" fill-opacity=\"1\" stroke=\"#000000\" stroke-opacity=\"1\" stroke-width=\"2.4\"/>\n<circle clip-path=\"url(#clip382)\" cx=\"1706.08\" cy=\"251.682\" r=\"10.8\" fill=\"#009af9\" fill-rule=\"evenodd\" fill-opacity=\"1\" stroke=\"#000000\" stroke-opacity=\"1\" stroke-width=\"2.4\"/>\n<circle clip-path=\"url(#clip382)\" cx=\"1753.12\" cy=\"421.422\" r=\"10.8\" fill=\"#009af9\" fill-rule=\"evenodd\" fill-opacity=\"1\" stroke=\"#000000\" stroke-opacity=\"1\" stroke-width=\"2.4\"/>\n<circle clip-path=\"url(#clip382)\" cx=\"1800.17\" cy=\"755.776\" r=\"10.8\" fill=\"#009af9\" fill-rule=\"evenodd\" fill-opacity=\"1\" stroke=\"#000000\" stroke-opacity=\"1\" stroke-width=\"2.4\"/>\n<circle clip-path=\"url(#clip382)\" cx=\"1847.21\" cy=\"636.176\" r=\"10.8\" fill=\"#009af9\" fill-rule=\"evenodd\" fill-opacity=\"1\" stroke=\"#000000\" stroke-opacity=\"1\" stroke-width=\"2.4\"/>\n<circle clip-path=\"url(#clip382)\" cx=\"1894.25\" cy=\"386.554\" r=\"10.8\" fill=\"#009af9\" fill-rule=\"evenodd\" fill-opacity=\"1\" stroke=\"#000000\" stroke-opacity=\"1\" stroke-width=\"2.4\"/>\n<circle clip-path=\"url(#clip382)\" cx=\"1941.3\" cy=\"576.695\" r=\"10.8\" fill=\"#009af9\" fill-rule=\"evenodd\" fill-opacity=\"1\" stroke=\"#000000\" stroke-opacity=\"1\" stroke-width=\"2.4\"/>\n<circle clip-path=\"url(#clip382)\" cx=\"1988.34\" cy=\"655.743\" r=\"10.8\" fill=\"#009af9\" fill-rule=\"evenodd\" fill-opacity=\"1\" stroke=\"#000000\" stroke-opacity=\"1\" stroke-width=\"2.4\"/>\n<circle clip-path=\"url(#clip382)\" cx=\"2035.39\" cy=\"346.866\" r=\"10.8\" fill=\"#009af9\" fill-rule=\"evenodd\" fill-opacity=\"1\" stroke=\"#000000\" stroke-opacity=\"1\" stroke-width=\"2.4\"/>\n<circle clip-path=\"url(#clip382)\" cx=\"2082.43\" cy=\"442.387\" r=\"10.8\" fill=\"#009af9\" fill-rule=\"evenodd\" fill-opacity=\"1\" stroke=\"#000000\" stroke-opacity=\"1\" stroke-width=\"2.4\"/>\n<circle clip-path=\"url(#clip382)\" cx=\"2129.48\" cy=\"775.368\" r=\"10.8\" fill=\"#009af9\" fill-rule=\"evenodd\" fill-opacity=\"1\" stroke=\"#000000\" stroke-opacity=\"1\" stroke-width=\"2.4\"/>\n<circle clip-path=\"url(#clip382)\" cx=\"2176.52\" cy=\"500.404\" r=\"10.8\" fill=\"#009af9\" fill-rule=\"evenodd\" fill-opacity=\"1\" stroke=\"#000000\" stroke-opacity=\"1\" stroke-width=\"2.4\"/>\n<circle clip-path=\"url(#clip382)\" cx=\"2223.57\" cy=\"300.684\" r=\"10.8\" fill=\"#009af9\" fill-rule=\"evenodd\" fill-opacity=\"1\" stroke=\"#000000\" stroke-opacity=\"1\" stroke-width=\"2.4\"/>\n<circle clip-path=\"url(#clip382)\" cx=\"2270.61\" cy=\"774.427\" r=\"10.8\" fill=\"#009af9\" fill-rule=\"evenodd\" fill-opacity=\"1\" stroke=\"#000000\" stroke-opacity=\"1\" stroke-width=\"2.4\"/>\n<circle clip-path=\"url(#clip382)\" cx=\"2317.66\" cy=\"910.232\" r=\"10.8\" fill=\"#009af9\" fill-rule=\"evenodd\" fill-opacity=\"1\" stroke=\"#000000\" stroke-opacity=\"1\" stroke-width=\"2.4\"/>\n<circle clip-path=\"url(#clip382)\" cx=\"2364.7\" cy=\"557.406\" r=\"10.8\" fill=\"#009af9\" fill-rule=\"evenodd\" fill-opacity=\"1\" stroke=\"#000000\" stroke-opacity=\"1\" stroke-width=\"2.4\"/>\n<circle clip-path=\"url(#clip382)\" cx=\"2411.74\" cy=\"468.832\" r=\"10.8\" fill=\"#009af9\" fill-rule=\"evenodd\" fill-opacity=\"1\" stroke=\"#000000\" stroke-opacity=\"1\" stroke-width=\"2.4\"/>\n<circle clip-path=\"url(#clip382)\" cx=\"2458.79\" cy=\"476.77\" r=\"10.8\" fill=\"#009af9\" fill-rule=\"evenodd\" fill-opacity=\"1\" stroke=\"#000000\" stroke-opacity=\"1\" stroke-width=\"2.4\"/>\n<circle clip-path=\"url(#clip382)\" cx=\"2505.83\" cy=\"461.688\" r=\"10.8\" fill=\"#009af9\" fill-rule=\"evenodd\" fill-opacity=\"1\" stroke=\"#000000\" stroke-opacity=\"1\" stroke-width=\"2.4\"/>\n<circle clip-path=\"url(#clip382)\" cx=\"2552.88\" cy=\"419.225\" r=\"10.8\" fill=\"#009af9\" fill-rule=\"evenodd\" fill-opacity=\"1\" stroke=\"#000000\" stroke-opacity=\"1\" stroke-width=\"2.4\"/>\n<circle clip-path=\"url(#clip382)\" cx=\"2599.92\" cy=\"455.934\" r=\"10.8\" fill=\"#009af9\" fill-rule=\"evenodd\" fill-opacity=\"1\" stroke=\"#000000\" stroke-opacity=\"1\" stroke-width=\"2.4\"/>\n<circle clip-path=\"url(#clip382)\" cx=\"2646.97\" cy=\"573.445\" r=\"10.8\" fill=\"#009af9\" fill-rule=\"evenodd\" fill-opacity=\"1\" stroke=\"#000000\" stroke-opacity=\"1\" stroke-width=\"2.4\"/>\n<circle clip-path=\"url(#clip382)\" cx=\"2694.01\" cy=\"622.153\" r=\"10.8\" fill=\"#009af9\" fill-rule=\"evenodd\" fill-opacity=\"1\" stroke=\"#000000\" stroke-opacity=\"1\" stroke-width=\"2.4\"/>\n<circle clip-path=\"url(#clip382)\" cx=\"2741.06\" cy=\"416.473\" r=\"10.8\" fill=\"#009af9\" fill-rule=\"evenodd\" fill-opacity=\"1\" stroke=\"#000000\" stroke-opacity=\"1\" stroke-width=\"2.4\"/>\n<circle clip-path=\"url(#clip382)\" cx=\"2788.1\" cy=\"600.313\" r=\"10.8\" fill=\"#009af9\" fill-rule=\"evenodd\" fill-opacity=\"1\" stroke=\"#000000\" stroke-opacity=\"1\" stroke-width=\"2.4\"/>\n<circle clip-path=\"url(#clip382)\" cx=\"2835.14\" cy=\"300.539\" r=\"10.8\" fill=\"#009af9\" fill-rule=\"evenodd\" fill-opacity=\"1\" stroke=\"#000000\" stroke-opacity=\"1\" stroke-width=\"2.4\"/>\n<circle clip-path=\"url(#clip382)\" cx=\"2882.19\" cy=\"664.451\" r=\"10.8\" fill=\"#009af9\" fill-rule=\"evenodd\" fill-opacity=\"1\" stroke=\"#000000\" stroke-opacity=\"1\" stroke-width=\"2.4\"/>\n<polyline clip-path=\"url(#clip382)\" style=\"stroke:#e26f46; stroke-linecap:round; stroke-linejoin:round; stroke-width:4; stroke-opacity:1; fill:none\" stroke-dasharray=\"16, 10\" points=\"529.964,303.977 577.008,483.833 624.053,408.511 671.097,721.207 718.142,681.969 765.186,879.243 812.231,669.541 859.275,609.994 906.32,625.608 953.364,420.799 1000.41,542.17 1047.45,494.592 1094.5,483.955 1141.54,614.475 1188.59,412.598 1235.63,353.396 1282.68,683.921 1329.72,851.994 1376.76,831.101 1423.81,743.956 1470.85,436.608 1517.9,246.691 1564.94,454.601 1611.99,625.892 1659.03,607.237 1706.08,651.742 1753.12,536.525 1800.17,222.907 1847.21,317.427 1894.25,719.606 1941.3,697.123 1988.34,457.249 2035.39,496.792 2082.43,505.675 2129.48,482.066 2176.52,687.903 2223.57,562.883 2270.61,209.984 2317.66,492.493 2364.7,718.056 2411.74,398.844 2458.79,569.528 2505.83,894.24 2552.88,751.561 2599.92,593.809 2646.97,726.659 2694.01,681.542 2741.06,283.896 2788.1,584.995 2835.14,514.695 2882.19,504.377 \"/>\n<circle clip-path=\"url(#clip382)\" cx=\"529.964\" cy=\"303.977\" r=\"10.8\" fill=\"#e26f46\" fill-rule=\"evenodd\" fill-opacity=\"1\" stroke=\"#000000\" stroke-opacity=\"1\" stroke-width=\"2.4\"/>\n<circle clip-path=\"url(#clip382)\" cx=\"577.008\" cy=\"483.833\" r=\"10.8\" fill=\"#e26f46\" fill-rule=\"evenodd\" fill-opacity=\"1\" stroke=\"#000000\" stroke-opacity=\"1\" stroke-width=\"2.4\"/>\n<circle clip-path=\"url(#clip382)\" cx=\"624.053\" cy=\"408.511\" r=\"10.8\" fill=\"#e26f46\" fill-rule=\"evenodd\" fill-opacity=\"1\" stroke=\"#000000\" stroke-opacity=\"1\" stroke-width=\"2.4\"/>\n<circle clip-path=\"url(#clip382)\" cx=\"671.097\" cy=\"721.207\" r=\"10.8\" fill=\"#e26f46\" fill-rule=\"evenodd\" fill-opacity=\"1\" stroke=\"#000000\" stroke-opacity=\"1\" stroke-width=\"2.4\"/>\n<circle clip-path=\"url(#clip382)\" cx=\"718.142\" cy=\"681.969\" r=\"10.8\" fill=\"#e26f46\" fill-rule=\"evenodd\" fill-opacity=\"1\" stroke=\"#000000\" stroke-opacity=\"1\" stroke-width=\"2.4\"/>\n<circle clip-path=\"url(#clip382)\" cx=\"765.186\" cy=\"879.243\" r=\"10.8\" fill=\"#e26f46\" fill-rule=\"evenodd\" fill-opacity=\"1\" stroke=\"#000000\" stroke-opacity=\"1\" stroke-width=\"2.4\"/>\n<circle clip-path=\"url(#clip382)\" cx=\"812.231\" cy=\"669.541\" r=\"10.8\" fill=\"#e26f46\" fill-rule=\"evenodd\" fill-opacity=\"1\" stroke=\"#000000\" stroke-opacity=\"1\" stroke-width=\"2.4\"/>\n<circle clip-path=\"url(#clip382)\" cx=\"859.275\" cy=\"609.994\" r=\"10.8\" fill=\"#e26f46\" fill-rule=\"evenodd\" fill-opacity=\"1\" stroke=\"#000000\" stroke-opacity=\"1\" stroke-width=\"2.4\"/>\n<circle clip-path=\"url(#clip382)\" cx=\"906.32\" cy=\"625.608\" r=\"10.8\" fill=\"#e26f46\" fill-rule=\"evenodd\" fill-opacity=\"1\" stroke=\"#000000\" stroke-opacity=\"1\" stroke-width=\"2.4\"/>\n<circle clip-path=\"url(#clip382)\" cx=\"953.364\" cy=\"420.799\" r=\"10.8\" fill=\"#e26f46\" fill-rule=\"evenodd\" fill-opacity=\"1\" stroke=\"#000000\" stroke-opacity=\"1\" stroke-width=\"2.4\"/>\n<circle clip-path=\"url(#clip382)\" cx=\"1000.41\" cy=\"542.17\" r=\"10.8\" fill=\"#e26f46\" fill-rule=\"evenodd\" fill-opacity=\"1\" stroke=\"#000000\" stroke-opacity=\"1\" stroke-width=\"2.4\"/>\n<circle clip-path=\"url(#clip382)\" cx=\"1047.45\" cy=\"494.592\" r=\"10.8\" fill=\"#e26f46\" fill-rule=\"evenodd\" fill-opacity=\"1\" stroke=\"#000000\" stroke-opacity=\"1\" stroke-width=\"2.4\"/>\n<circle clip-path=\"url(#clip382)\" cx=\"1094.5\" cy=\"483.955\" r=\"10.8\" fill=\"#e26f46\" fill-rule=\"evenodd\" fill-opacity=\"1\" stroke=\"#000000\" stroke-opacity=\"1\" stroke-width=\"2.4\"/>\n<circle clip-path=\"url(#clip382)\" cx=\"1141.54\" cy=\"614.475\" r=\"10.8\" fill=\"#e26f46\" fill-rule=\"evenodd\" fill-opacity=\"1\" stroke=\"#000000\" stroke-opacity=\"1\" stroke-width=\"2.4\"/>\n<circle clip-path=\"url(#clip382)\" cx=\"1188.59\" cy=\"412.598\" r=\"10.8\" fill=\"#e26f46\" fill-rule=\"evenodd\" fill-opacity=\"1\" stroke=\"#000000\" stroke-opacity=\"1\" stroke-width=\"2.4\"/>\n<circle clip-path=\"url(#clip382)\" cx=\"1235.63\" cy=\"353.396\" r=\"10.8\" fill=\"#e26f46\" fill-rule=\"evenodd\" fill-opacity=\"1\" stroke=\"#000000\" stroke-opacity=\"1\" stroke-width=\"2.4\"/>\n<circle clip-path=\"url(#clip382)\" cx=\"1282.68\" cy=\"683.921\" r=\"10.8\" fill=\"#e26f46\" fill-rule=\"evenodd\" fill-opacity=\"1\" stroke=\"#000000\" stroke-opacity=\"1\" stroke-width=\"2.4\"/>\n<circle clip-path=\"url(#clip382)\" cx=\"1329.72\" cy=\"851.994\" r=\"10.8\" fill=\"#e26f46\" fill-rule=\"evenodd\" fill-opacity=\"1\" stroke=\"#000000\" stroke-opacity=\"1\" stroke-width=\"2.4\"/>\n<circle clip-path=\"url(#clip382)\" cx=\"1376.76\" cy=\"831.101\" r=\"10.8\" fill=\"#e26f46\" fill-rule=\"evenodd\" fill-opacity=\"1\" stroke=\"#000000\" stroke-opacity=\"1\" stroke-width=\"2.4\"/>\n<circle clip-path=\"url(#clip382)\" cx=\"1423.81\" cy=\"743.956\" r=\"10.8\" fill=\"#e26f46\" fill-rule=\"evenodd\" fill-opacity=\"1\" stroke=\"#000000\" stroke-opacity=\"1\" stroke-width=\"2.4\"/>\n<circle clip-path=\"url(#clip382)\" cx=\"1470.85\" cy=\"436.608\" r=\"10.8\" fill=\"#e26f46\" fill-rule=\"evenodd\" fill-opacity=\"1\" stroke=\"#000000\" stroke-opacity=\"1\" stroke-width=\"2.4\"/>\n<circle clip-path=\"url(#clip382)\" cx=\"1517.9\" cy=\"246.691\" r=\"10.8\" fill=\"#e26f46\" fill-rule=\"evenodd\" fill-opacity=\"1\" stroke=\"#000000\" stroke-opacity=\"1\" stroke-width=\"2.4\"/>\n<circle clip-path=\"url(#clip382)\" cx=\"1564.94\" cy=\"454.601\" r=\"10.8\" fill=\"#e26f46\" fill-rule=\"evenodd\" fill-opacity=\"1\" stroke=\"#000000\" stroke-opacity=\"1\" stroke-width=\"2.4\"/>\n<circle clip-path=\"url(#clip382)\" cx=\"1611.99\" cy=\"625.892\" r=\"10.8\" fill=\"#e26f46\" fill-rule=\"evenodd\" fill-opacity=\"1\" stroke=\"#000000\" stroke-opacity=\"1\" stroke-width=\"2.4\"/>\n<circle clip-path=\"url(#clip382)\" cx=\"1659.03\" cy=\"607.237\" r=\"10.8\" fill=\"#e26f46\" fill-rule=\"evenodd\" fill-opacity=\"1\" stroke=\"#000000\" stroke-opacity=\"1\" stroke-width=\"2.4\"/>\n<circle clip-path=\"url(#clip382)\" cx=\"1706.08\" cy=\"651.742\" r=\"10.8\" fill=\"#e26f46\" fill-rule=\"evenodd\" fill-opacity=\"1\" stroke=\"#000000\" stroke-opacity=\"1\" stroke-width=\"2.4\"/>\n<circle clip-path=\"url(#clip382)\" cx=\"1753.12\" cy=\"536.525\" r=\"10.8\" fill=\"#e26f46\" fill-rule=\"evenodd\" fill-opacity=\"1\" stroke=\"#000000\" stroke-opacity=\"1\" stroke-width=\"2.4\"/>\n<circle clip-path=\"url(#clip382)\" cx=\"1800.17\" cy=\"222.907\" r=\"10.8\" fill=\"#e26f46\" fill-rule=\"evenodd\" fill-opacity=\"1\" stroke=\"#000000\" stroke-opacity=\"1\" stroke-width=\"2.4\"/>\n<circle clip-path=\"url(#clip382)\" cx=\"1847.21\" cy=\"317.427\" r=\"10.8\" fill=\"#e26f46\" fill-rule=\"evenodd\" fill-opacity=\"1\" stroke=\"#000000\" stroke-opacity=\"1\" stroke-width=\"2.4\"/>\n<circle clip-path=\"url(#clip382)\" cx=\"1894.25\" cy=\"719.606\" r=\"10.8\" fill=\"#e26f46\" fill-rule=\"evenodd\" fill-opacity=\"1\" stroke=\"#000000\" stroke-opacity=\"1\" stroke-width=\"2.4\"/>\n<circle clip-path=\"url(#clip382)\" cx=\"1941.3\" cy=\"697.123\" r=\"10.8\" fill=\"#e26f46\" fill-rule=\"evenodd\" fill-opacity=\"1\" stroke=\"#000000\" stroke-opacity=\"1\" stroke-width=\"2.4\"/>\n<circle clip-path=\"url(#clip382)\" cx=\"1988.34\" cy=\"457.249\" r=\"10.8\" fill=\"#e26f46\" fill-rule=\"evenodd\" fill-opacity=\"1\" stroke=\"#000000\" stroke-opacity=\"1\" stroke-width=\"2.4\"/>\n<circle clip-path=\"url(#clip382)\" cx=\"2035.39\" cy=\"496.792\" r=\"10.8\" fill=\"#e26f46\" fill-rule=\"evenodd\" fill-opacity=\"1\" stroke=\"#000000\" stroke-opacity=\"1\" stroke-width=\"2.4\"/>\n<circle clip-path=\"url(#clip382)\" cx=\"2082.43\" cy=\"505.675\" r=\"10.8\" fill=\"#e26f46\" fill-rule=\"evenodd\" fill-opacity=\"1\" stroke=\"#000000\" stroke-opacity=\"1\" stroke-width=\"2.4\"/>\n<circle clip-path=\"url(#clip382)\" cx=\"2129.48\" cy=\"482.066\" r=\"10.8\" fill=\"#e26f46\" fill-rule=\"evenodd\" fill-opacity=\"1\" stroke=\"#000000\" stroke-opacity=\"1\" stroke-width=\"2.4\"/>\n<circle clip-path=\"url(#clip382)\" cx=\"2176.52\" cy=\"687.903\" r=\"10.8\" fill=\"#e26f46\" fill-rule=\"evenodd\" fill-opacity=\"1\" stroke=\"#000000\" stroke-opacity=\"1\" stroke-width=\"2.4\"/>\n<circle clip-path=\"url(#clip382)\" cx=\"2223.57\" cy=\"562.883\" r=\"10.8\" fill=\"#e26f46\" fill-rule=\"evenodd\" fill-opacity=\"1\" stroke=\"#000000\" stroke-opacity=\"1\" stroke-width=\"2.4\"/>\n<circle clip-path=\"url(#clip382)\" cx=\"2270.61\" cy=\"209.984\" r=\"10.8\" fill=\"#e26f46\" fill-rule=\"evenodd\" fill-opacity=\"1\" stroke=\"#000000\" stroke-opacity=\"1\" stroke-width=\"2.4\"/>\n<circle clip-path=\"url(#clip382)\" cx=\"2317.66\" cy=\"492.493\" r=\"10.8\" fill=\"#e26f46\" fill-rule=\"evenodd\" fill-opacity=\"1\" stroke=\"#000000\" stroke-opacity=\"1\" stroke-width=\"2.4\"/>\n<circle clip-path=\"url(#clip382)\" cx=\"2364.7\" cy=\"718.056\" r=\"10.8\" fill=\"#e26f46\" fill-rule=\"evenodd\" fill-opacity=\"1\" stroke=\"#000000\" stroke-opacity=\"1\" stroke-width=\"2.4\"/>\n<circle clip-path=\"url(#clip382)\" cx=\"2411.74\" cy=\"398.844\" r=\"10.8\" fill=\"#e26f46\" fill-rule=\"evenodd\" fill-opacity=\"1\" stroke=\"#000000\" stroke-opacity=\"1\" stroke-width=\"2.4\"/>\n<circle clip-path=\"url(#clip382)\" cx=\"2458.79\" cy=\"569.528\" r=\"10.8\" fill=\"#e26f46\" fill-rule=\"evenodd\" fill-opacity=\"1\" stroke=\"#000000\" stroke-opacity=\"1\" stroke-width=\"2.4\"/>\n<circle clip-path=\"url(#clip382)\" cx=\"2505.83\" cy=\"894.24\" r=\"10.8\" fill=\"#e26f46\" fill-rule=\"evenodd\" fill-opacity=\"1\" stroke=\"#000000\" stroke-opacity=\"1\" stroke-width=\"2.4\"/>\n<circle clip-path=\"url(#clip382)\" cx=\"2552.88\" cy=\"751.561\" r=\"10.8\" fill=\"#e26f46\" fill-rule=\"evenodd\" fill-opacity=\"1\" stroke=\"#000000\" stroke-opacity=\"1\" stroke-width=\"2.4\"/>\n<circle clip-path=\"url(#clip382)\" cx=\"2599.92\" cy=\"593.809\" r=\"10.8\" fill=\"#e26f46\" fill-rule=\"evenodd\" fill-opacity=\"1\" stroke=\"#000000\" stroke-opacity=\"1\" stroke-width=\"2.4\"/>\n<circle clip-path=\"url(#clip382)\" cx=\"2646.97\" cy=\"726.659\" r=\"10.8\" fill=\"#e26f46\" fill-rule=\"evenodd\" fill-opacity=\"1\" stroke=\"#000000\" stroke-opacity=\"1\" stroke-width=\"2.4\"/>\n<circle clip-path=\"url(#clip382)\" cx=\"2694.01\" cy=\"681.542\" r=\"10.8\" fill=\"#e26f46\" fill-rule=\"evenodd\" fill-opacity=\"1\" stroke=\"#000000\" stroke-opacity=\"1\" stroke-width=\"2.4\"/>\n<circle clip-path=\"url(#clip382)\" cx=\"2741.06\" cy=\"283.896\" r=\"10.8\" fill=\"#e26f46\" fill-rule=\"evenodd\" fill-opacity=\"1\" stroke=\"#000000\" stroke-opacity=\"1\" stroke-width=\"2.4\"/>\n<circle clip-path=\"url(#clip382)\" cx=\"2788.1\" cy=\"584.995\" r=\"10.8\" fill=\"#e26f46\" fill-rule=\"evenodd\" fill-opacity=\"1\" stroke=\"#000000\" stroke-opacity=\"1\" stroke-width=\"2.4\"/>\n<circle clip-path=\"url(#clip382)\" cx=\"2835.14\" cy=\"514.695\" r=\"10.8\" fill=\"#e26f46\" fill-rule=\"evenodd\" fill-opacity=\"1\" stroke=\"#000000\" stroke-opacity=\"1\" stroke-width=\"2.4\"/>\n<circle clip-path=\"url(#clip382)\" cx=\"2882.19\" cy=\"504.377\" r=\"10.8\" fill=\"#e26f46\" fill-rule=\"evenodd\" fill-opacity=\"1\" stroke=\"#000000\" stroke-opacity=\"1\" stroke-width=\"2.4\"/>\n<path clip-path=\"url(#clip380)\" d=\"M2317.26 906.497 L2869.64 906.497 L2869.64 634.337 L2317.26 634.337  Z\" fill=\"#ffffff\" fill-rule=\"evenodd\" fill-opacity=\"1\"/>\n<polyline clip-path=\"url(#clip380)\" style=\"stroke:#000000; stroke-linecap:round; stroke-linejoin:round; stroke-width:4; stroke-opacity:1; fill:none\" points=\"2317.26,906.497 2869.64,906.497 2869.64,634.337 2317.26,634.337 2317.26,906.497 \"/>\n<polyline clip-path=\"url(#clip380)\" style=\"stroke:#009af9; stroke-linecap:round; stroke-linejoin:round; stroke-width:7; stroke-opacity:1; fill:none\" stroke-dasharray=\"28, 18\" points=\"2344.96,725.057 2511.19,725.057 \"/>\n<circle clip-path=\"url(#clip380)\" cx=\"2428.08\" cy=\"725.057\" r=\"13.1924\" fill=\"#009af9\" fill-rule=\"evenodd\" fill-opacity=\"1\" stroke=\"#000000\" stroke-opacity=\"1\" stroke-width=\"7.68\"/>\n<path clip-path=\"url(#clip380)\" d=\"M2538.89 694.817 L2547.07 694.817 L2547.07 755.297 L2538.89 755.297 L2538.89 694.817 Z\" fill=\"#000000\" fill-rule=\"nonzero\" fill-opacity=\"1\" /><path clip-path=\"url(#clip380)\" d=\"M2598.36 718.637 Q2601.15 713.614 2605.04 711.224 Q2608.93 708.834 2614.2 708.834 Q2621.29 708.834 2625.14 713.816 Q2628.98 718.758 2628.98 727.913 L2628.98 755.297 L2621.49 755.297 L2621.49 728.156 Q2621.49 721.634 2619.18 718.475 Q2616.87 715.315 2612.13 715.315 Q2606.34 715.315 2602.98 719.163 Q2599.61 723.012 2599.61 729.655 L2599.61 755.297 L2592.12 755.297 L2592.12 728.156 Q2592.12 721.594 2589.81 718.475 Q2587.5 715.315 2582.68 715.315 Q2576.97 715.315 2573.61 719.204 Q2570.25 723.052 2570.25 729.655 L2570.25 755.297 L2562.75 755.297 L2562.75 709.927 L2570.25 709.927 L2570.25 716.976 Q2572.8 712.803 2576.36 710.819 Q2579.93 708.834 2584.83 708.834 Q2589.77 708.834 2593.21 711.345 Q2596.7 713.857 2598.36 718.637 Z\" fill=\"#000000\" fill-rule=\"nonzero\" fill-opacity=\"1\" /><path clip-path=\"url(#clip380)\" d=\"M2643.16 692.265 L2660.34 692.265 L2660.34 698.058 L2650.62 698.058 L2650.62 760.442 L2660.34 760.442 L2660.34 766.235 L2643.16 766.235 L2643.16 692.265 Z\" fill=\"#000000\" fill-rule=\"nonzero\" fill-opacity=\"1\" /><path clip-path=\"url(#clip380)\" d=\"M2708.26 717.138 Q2706.76 716.611 2705.26 716.206 Q2701.25 715.153 2696.96 715.153 Q2689.54 715.153 2685.41 719.163 Q2681.56 722.89 2680.84 729.736 L2708.26 729.736 L2708.26 735.57 L2680.84 735.57 Q2681.56 742.416 2685.41 746.142 Q2689.54 750.153 2696.96 750.153 Q2702.14 750.153 2705.26 749.1 L2708.26 748.087 L2708.26 754.852 L2705.06 755.581 Q2700.85 756.472 2696.51 756.472 Q2685.66 756.472 2679.34 750.153 Q2672.98 743.833 2672.98 732.653 Q2672.98 721.472 2679.34 715.153 Q2685.66 708.834 2696.51 708.834 Q2700.6 708.834 2705.06 709.725 Q2706.68 710.049 2708.26 710.535 L2708.26 717.138 Z\" fill=\"#000000\" fill-rule=\"nonzero\" fill-opacity=\"1\" /><path clip-path=\"url(#clip380)\" d=\"M2745.16 692.346 Q2739.74 701.663 2737.1 710.778 Q2734.47 719.893 2734.47 729.25 Q2734.47 738.608 2737.1 747.803 Q2739.78 756.958 2745.16 766.235 L2738.68 766.235 Q2732.61 756.715 2729.57 747.52 Q2726.57 738.324 2726.57 729.25 Q2726.57 720.217 2729.57 711.062 Q2732.57 701.907 2738.68 692.346 L2745.16 692.346 Z\" fill=\"#000000\" fill-rule=\"nonzero\" fill-opacity=\"1\" /><path clip-path=\"url(#clip380)\" d=\"M2767 697.045 L2767 709.927 L2782.35 709.927 L2782.35 715.72 L2767 715.72 L2767 740.35 Q2767 745.899 2768.5 747.479 Q2770.04 749.059 2774.69 749.059 L2782.35 749.059 L2782.35 755.297 L2774.69 755.297 Q2766.07 755.297 2762.79 752.097 Q2759.5 748.857 2759.5 740.35 L2759.5 715.72 L2754.04 715.72 L2754.04 709.927 L2759.5 709.927 L2759.5 697.045 L2767 697.045 Z\" fill=\"#000000\" fill-rule=\"nonzero\" fill-opacity=\"1\" /><path clip-path=\"url(#clip380)\" d=\"M2790.98 692.346 L2797.46 692.346 Q2803.54 701.907 2806.54 711.062 Q2809.57 720.217 2809.57 729.25 Q2809.57 738.324 2806.54 747.52 Q2803.54 756.715 2797.46 766.235 L2790.98 766.235 Q2796.37 756.958 2799 747.803 Q2801.67 738.608 2801.67 729.25 Q2801.67 719.893 2799 710.778 Q2796.37 701.663 2790.98 692.346 Z\" fill=\"#000000\" fill-rule=\"nonzero\" fill-opacity=\"1\" /><path clip-path=\"url(#clip380)\" d=\"M2841.94 692.265 L2841.94 766.235 L2824.76 766.235 L2824.76 760.442 L2834.45 760.442 L2834.45 698.058 L2824.76 698.058 L2824.76 692.265 L2841.94 692.265 Z\" fill=\"#000000\" fill-rule=\"nonzero\" fill-opacity=\"1\" /><polyline clip-path=\"url(#clip380)\" style=\"stroke:#e26f46; stroke-linecap:round; stroke-linejoin:round; stroke-width:7; stroke-opacity:1; fill:none\" stroke-dasharray=\"28, 18\" points=\"2344.96,815.777 2511.19,815.777 \"/>\n<circle clip-path=\"url(#clip380)\" cx=\"2428.08\" cy=\"815.777\" r=\"13.1924\" fill=\"#e26f46\" fill-rule=\"evenodd\" fill-opacity=\"1\" stroke=\"#000000\" stroke-opacity=\"1\" stroke-width=\"7.68\"/>\n<path clip-path=\"url(#clip380)\" d=\"M2567.57 817.661 Q2570.21 818.552 2572.68 821.469 Q2575.19 824.386 2577.7 829.49 L2586 846.017 L2577.21 846.017 L2569.48 830.502 Q2566.48 824.426 2563.64 822.441 Q2560.85 820.456 2555.99 820.456 L2547.07 820.456 L2547.07 846.017 L2538.89 846.017 L2538.89 785.537 L2557.36 785.537 Q2567.73 785.537 2572.84 789.872 Q2577.94 794.206 2577.94 802.956 Q2577.94 808.668 2575.27 812.435 Q2572.64 816.203 2567.57 817.661 M2547.07 792.262 L2547.07 813.732 L2557.36 813.732 Q2563.28 813.732 2566.28 811.018 Q2569.31 808.263 2569.31 802.956 Q2569.31 797.65 2566.28 794.976 Q2563.28 792.262 2557.36 792.262 L2547.07 792.262 Z\" fill=\"#000000\" fill-rule=\"nonzero\" fill-opacity=\"1\" /><path clip-path=\"url(#clip380)\" d=\"M2631.29 821.469 L2631.29 825.115 L2597.02 825.115 Q2597.51 832.812 2601.64 836.862 Q2605.81 840.873 2613.23 840.873 Q2617.52 840.873 2621.53 839.82 Q2625.58 838.766 2629.55 836.66 L2629.55 843.708 Q2625.54 845.41 2621.33 846.301 Q2617.11 847.192 2612.78 847.192 Q2601.92 847.192 2595.56 840.873 Q2589.24 834.553 2589.24 823.778 Q2589.24 812.638 2595.24 806.116 Q2601.28 799.554 2611.48 799.554 Q2620.64 799.554 2625.95 805.468 Q2631.29 811.342 2631.29 821.469 M2623.84 819.281 Q2623.76 813.165 2620.4 809.519 Q2617.07 805.873 2611.57 805.873 Q2605.33 805.873 2601.56 809.397 Q2597.83 812.922 2597.27 819.322 L2623.84 819.281 Z\" fill=\"#000000\" fill-rule=\"nonzero\" fill-opacity=\"1\" /><path clip-path=\"url(#clip380)\" d=\"M2642.84 782.985 L2660.01 782.985 L2660.01 788.778 L2650.29 788.778 L2650.29 851.162 L2660.01 851.162 L2660.01 856.955 L2642.84 856.955 L2642.84 782.985 Z\" fill=\"#000000\" fill-rule=\"nonzero\" fill-opacity=\"1\" /><path clip-path=\"url(#clip380)\" d=\"M2707.94 807.858 Q2706.44 807.331 2704.94 806.926 Q2700.93 805.873 2696.63 805.873 Q2689.22 805.873 2685.09 809.883 Q2681.24 813.61 2680.51 820.456 L2707.94 820.456 L2707.94 826.29 L2680.51 826.29 Q2681.24 833.136 2685.09 836.862 Q2689.22 840.873 2696.63 840.873 Q2701.82 840.873 2704.94 839.82 L2707.94 838.807 L2707.94 845.572 L2704.74 846.301 Q2700.52 847.192 2696.19 847.192 Q2685.33 847.192 2679.01 840.873 Q2672.65 834.553 2672.65 823.373 Q2672.65 812.192 2679.01 805.873 Q2685.33 799.554 2696.19 799.554 Q2700.28 799.554 2704.74 800.445 Q2706.36 800.769 2707.94 801.255 L2707.94 807.858 Z\" fill=\"#000000\" fill-rule=\"nonzero\" fill-opacity=\"1\" /><path clip-path=\"url(#clip380)\" d=\"M2744.84 783.066 Q2739.41 792.383 2736.78 801.498 Q2734.15 810.613 2734.15 819.97 Q2734.15 829.328 2736.78 838.523 Q2739.45 847.678 2744.84 856.955 L2738.36 856.955 Q2732.28 847.435 2729.24 838.24 Q2726.25 829.044 2726.25 819.97 Q2726.25 810.937 2729.24 801.782 Q2732.24 792.627 2738.36 783.066 L2744.84 783.066 Z\" fill=\"#000000\" fill-rule=\"nonzero\" fill-opacity=\"1\" /><path clip-path=\"url(#clip380)\" d=\"M2766.67 787.765 L2766.67 800.647 L2782.03 800.647 L2782.03 806.44 L2766.67 806.44 L2766.67 831.07 Q2766.67 836.619 2768.17 838.199 Q2769.71 839.779 2774.37 839.779 L2782.03 839.779 L2782.03 846.017 L2774.37 846.017 Q2765.74 846.017 2762.46 842.817 Q2759.18 839.577 2759.18 831.07 L2759.18 806.44 L2753.71 806.44 L2753.71 800.647 L2759.18 800.647 L2759.18 787.765 L2766.67 787.765 Z\" fill=\"#000000\" fill-rule=\"nonzero\" fill-opacity=\"1\" /><path clip-path=\"url(#clip380)\" d=\"M2790.66 783.066 L2797.14 783.066 Q2803.21 792.627 2806.21 801.782 Q2809.25 810.937 2809.25 819.97 Q2809.25 829.044 2806.21 838.24 Q2803.21 847.435 2797.14 856.955 L2790.66 856.955 Q2796.04 847.678 2798.68 838.523 Q2801.35 829.328 2801.35 819.97 Q2801.35 810.613 2798.68 801.498 Q2796.04 792.383 2790.66 783.066 Z\" fill=\"#000000\" fill-rule=\"nonzero\" fill-opacity=\"1\" /><path clip-path=\"url(#clip380)\" d=\"M2841.62 782.985 L2841.62 856.955 L2824.44 856.955 L2824.44 851.162 L2834.12 851.162 L2834.12 788.778 L2824.44 788.778 L2824.44 782.985 L2841.62 782.985 Z\" fill=\"#000000\" fill-rule=\"nonzero\" fill-opacity=\"1\" /><path clip-path=\"url(#clip380)\" d=\"M3459.4 931.24 L5952.76 931.24 L5952.76 188.976 L3459.4 188.976  Z\" fill=\"#ffffff\" fill-rule=\"evenodd\" fill-opacity=\"1\"/>\n<defs>\n  <clipPath id=\"clip383\">\n    <rect x=\"3459\" y=\"188\" width=\"2494\" height=\"743\"/>\n  </clipPath>\n</defs>\n<polyline clip-path=\"url(#clip383)\" style=\"stroke:#000000; stroke-linecap:round; stroke-linejoin:round; stroke-width:2; stroke-opacity:0.1; fill:none\" points=\"3529.96,931.24 3529.96,188.976 \"/>\n<polyline clip-path=\"url(#clip383)\" style=\"stroke:#000000; stroke-linecap:round; stroke-linejoin:round; stroke-width:2; stroke-opacity:0.1; fill:none\" points=\"4118.02,931.24 4118.02,188.976 \"/>\n<polyline clip-path=\"url(#clip383)\" style=\"stroke:#000000; stroke-linecap:round; stroke-linejoin:round; stroke-width:2; stroke-opacity:0.1; fill:none\" points=\"4706.08,931.24 4706.08,188.976 \"/>\n<polyline clip-path=\"url(#clip383)\" style=\"stroke:#000000; stroke-linecap:round; stroke-linejoin:round; stroke-width:2; stroke-opacity:0.1; fill:none\" points=\"5294.13,931.24 5294.13,188.976 \"/>\n<polyline clip-path=\"url(#clip383)\" style=\"stroke:#000000; stroke-linecap:round; stroke-linejoin:round; stroke-width:2; stroke-opacity:0.1; fill:none\" points=\"5882.19,931.24 5882.19,188.976 \"/>\n<polyline clip-path=\"url(#clip380)\" style=\"stroke:#000000; stroke-linecap:round; stroke-linejoin:round; stroke-width:4; stroke-opacity:1; fill:none\" points=\"3459.4,931.24 5952.76,931.24 \"/>\n<polyline clip-path=\"url(#clip380)\" style=\"stroke:#000000; stroke-linecap:round; stroke-linejoin:round; stroke-width:4; stroke-opacity:1; fill:none\" points=\"3529.96,931.24 3529.96,912.342 \"/>\n<polyline clip-path=\"url(#clip380)\" style=\"stroke:#000000; stroke-linecap:round; stroke-linejoin:round; stroke-width:4; stroke-opacity:1; fill:none\" points=\"4118.02,931.24 4118.02,912.342 \"/>\n<polyline clip-path=\"url(#clip380)\" style=\"stroke:#000000; stroke-linecap:round; stroke-linejoin:round; stroke-width:4; stroke-opacity:1; fill:none\" points=\"4706.08,931.24 4706.08,912.342 \"/>\n<polyline clip-path=\"url(#clip380)\" style=\"stroke:#000000; stroke-linecap:round; stroke-linejoin:round; stroke-width:4; stroke-opacity:1; fill:none\" points=\"5294.13,931.24 5294.13,912.342 \"/>\n<polyline clip-path=\"url(#clip380)\" style=\"stroke:#000000; stroke-linecap:round; stroke-linejoin:round; stroke-width:4; stroke-opacity:1; fill:none\" points=\"5882.19,931.24 5882.19,912.342 \"/>\n<path clip-path=\"url(#clip380)\" d=\"M3490.39 999.747 Q3484.07 999.747 3480.87 1005.99 Q3477.71 1012.18 3477.71 1024.66 Q3477.71 1037.1 3480.87 1043.33 Q3484.07 1049.53 3490.39 1049.53 Q3496.75 1049.53 3499.91 1043.33 Q3503.11 1037.1 3503.11 1024.66 Q3503.11 1012.18 3499.91 1005.99 Q3496.75 999.747 3490.39 999.747 M3490.39 993.266 Q3500.55 993.266 3505.9 1001.33 Q3511.29 1009.35 3511.29 1024.66 Q3511.29 1039.93 3505.9 1047.99 Q3500.55 1056.01 3490.39 1056.01 Q3480.22 1056.01 3474.83 1047.99 Q3469.48 1039.93 3469.48 1024.66 Q3469.48 1009.35 3474.83 1001.33 Q3480.22 993.266 3490.39 993.266 Z\" fill=\"#000000\" fill-rule=\"nonzero\" fill-opacity=\"1\" /><path clip-path=\"url(#clip380)\" d=\"M3525.67 1044.55 L3534.22 1044.55 L3534.22 1054.84 L3525.67 1054.84 L3525.67 1044.55 Z\" fill=\"#000000\" fill-rule=\"nonzero\" fill-opacity=\"1\" /><path clip-path=\"url(#clip380)\" d=\"M3569.54 999.747 Q3563.22 999.747 3560.02 1005.99 Q3556.86 1012.18 3556.86 1024.66 Q3556.86 1037.1 3560.02 1043.33 Q3563.22 1049.53 3569.54 1049.53 Q3575.9 1049.53 3579.06 1043.33 Q3582.26 1037.1 3582.26 1024.66 Q3582.26 1012.18 3579.06 1005.99 Q3575.9 999.747 3569.54 999.747 M3569.54 993.266 Q3579.71 993.266 3585.06 1001.33 Q3590.44 1009.35 3590.44 1024.66 Q3590.44 1039.93 3585.06 1047.99 Q3579.71 1056.01 3569.54 1056.01 Q3559.37 1056.01 3553.99 1047.99 Q3548.64 1039.93 3548.64 1024.66 Q3548.64 1009.35 3553.99 1001.33 Q3559.37 993.266 3569.54 993.266 Z\" fill=\"#000000\" fill-rule=\"nonzero\" fill-opacity=\"1\" /><path clip-path=\"url(#clip380)\" d=\"M4079.31 999.747 Q4072.99 999.747 4069.79 1005.99 Q4066.63 1012.18 4066.63 1024.66 Q4066.63 1037.1 4069.79 1043.33 Q4072.99 1049.53 4079.31 1049.53 Q4085.67 1049.53 4088.83 1043.33 Q4092.03 1037.1 4092.03 1024.66 Q4092.03 1012.18 4088.83 1005.99 Q4085.67 999.747 4079.31 999.747 M4079.31 993.266 Q4089.48 993.266 4094.83 1001.33 Q4100.22 1009.35 4100.22 1024.66 Q4100.22 1039.93 4094.83 1047.99 Q4089.48 1056.01 4079.31 1056.01 Q4069.15 1056.01 4063.76 1047.99 Q4058.41 1039.93 4058.41 1024.66 Q4058.41 1009.35 4063.76 1001.33 Q4069.15 993.266 4079.31 993.266 Z\" fill=\"#000000\" fill-rule=\"nonzero\" fill-opacity=\"1\" /><path clip-path=\"url(#clip380)\" d=\"M4114.6 1044.55 L4123.14 1044.55 L4123.14 1054.84 L4114.6 1054.84 L4114.6 1044.55 Z\" fill=\"#000000\" fill-rule=\"nonzero\" fill-opacity=\"1\" /><path clip-path=\"url(#clip380)\" d=\"M4141.05 994.36 L4173.17 994.36 L4173.17 1001.25 L4148.54 1001.25 L4148.54 1016.07 Q4150.33 1015.46 4152.11 1015.18 Q4153.89 1014.86 4155.67 1014.86 Q4165.8 1014.86 4171.71 1020.41 Q4177.63 1025.96 4177.63 1035.44 Q4177.63 1045.2 4171.55 1050.63 Q4165.48 1056.01 4154.42 1056.01 Q4150.61 1056.01 4146.64 1055.37 Q4142.71 1054.72 4138.5 1053.42 L4138.5 1045.2 Q4142.14 1047.18 4146.03 1048.16 Q4149.92 1049.13 4154.26 1049.13 Q4161.26 1049.13 4165.35 1045.44 Q4169.45 1041.76 4169.45 1035.44 Q4169.45 1029.12 4165.35 1025.43 Q4161.26 1021.74 4154.26 1021.74 Q4150.97 1021.74 4147.69 1022.47 Q4144.45 1023.2 4141.05 1024.74 L4141.05 994.36 Z\" fill=\"#000000\" fill-rule=\"nonzero\" fill-opacity=\"1\" /><path clip-path=\"url(#clip380)\" d=\"M4648.59 1047.95 L4661.96 1047.95 L4661.96 1001.81 L4647.42 1004.73 L4647.42 997.276 L4661.88 994.36 L4670.06 994.36 L4670.06 1047.95 L4683.43 1047.95 L4683.43 1054.84 L4648.59 1054.84 L4648.59 1047.95 Z\" fill=\"#000000\" fill-rule=\"nonzero\" fill-opacity=\"1\" /><path clip-path=\"url(#clip380)\" d=\"M4699.96 1044.55 L4708.51 1044.55 L4708.51 1054.84 L4699.96 1054.84 L4699.96 1044.55 Z\" fill=\"#000000\" fill-rule=\"nonzero\" fill-opacity=\"1\" /><path clip-path=\"url(#clip380)\" d=\"M4743.83 999.747 Q4737.51 999.747 4734.31 1005.99 Q4731.15 1012.18 4731.15 1024.66 Q4731.15 1037.1 4734.31 1043.33 Q4737.51 1049.53 4743.83 1049.53 Q4750.19 1049.53 4753.35 1043.33 Q4756.55 1037.1 4756.55 1024.66 Q4756.55 1012.18 4753.35 1005.99 Q4750.19 999.747 4743.83 999.747 M4743.83 993.266 Q4754 993.266 4759.35 1001.33 Q4764.73 1009.35 4764.73 1024.66 Q4764.73 1039.93 4759.35 1047.99 Q4754 1056.01 4743.83 1056.01 Q4733.66 1056.01 4728.28 1047.99 Q4722.93 1039.93 4722.93 1024.66 Q4722.93 1009.35 4728.28 1001.33 Q4733.66 993.266 4743.83 993.266 Z\" fill=\"#000000\" fill-rule=\"nonzero\" fill-opacity=\"1\" /><path clip-path=\"url(#clip380)\" d=\"M5237.52 1047.95 L5250.89 1047.95 L5250.89 1001.81 L5236.35 1004.73 L5236.35 997.276 L5250.81 994.36 L5258.99 994.36 L5258.99 1047.95 L5272.36 1047.95 L5272.36 1054.84 L5237.52 1054.84 L5237.52 1047.95 Z\" fill=\"#000000\" fill-rule=\"nonzero\" fill-opacity=\"1\" /><path clip-path=\"url(#clip380)\" d=\"M5288.89 1044.55 L5297.43 1044.55 L5297.43 1054.84 L5288.89 1054.84 L5288.89 1044.55 Z\" fill=\"#000000\" fill-rule=\"nonzero\" fill-opacity=\"1\" /><path clip-path=\"url(#clip380)\" d=\"M5315.34 994.36 L5347.46 994.36 L5347.46 1001.25 L5322.83 1001.25 L5322.83 1016.07 Q5324.62 1015.46 5326.4 1015.18 Q5328.18 1014.86 5329.96 1014.86 Q5340.09 1014.86 5346 1020.41 Q5351.92 1025.96 5351.92 1035.44 Q5351.92 1045.2 5345.84 1050.63 Q5339.77 1056.01 5328.71 1056.01 Q5324.9 1056.01 5320.93 1055.37 Q5317 1054.72 5312.79 1053.42 L5312.79 1045.2 Q5316.43 1047.18 5320.32 1048.16 Q5324.21 1049.13 5328.55 1049.13 Q5335.55 1049.13 5339.64 1045.44 Q5343.74 1041.76 5343.74 1035.44 Q5343.74 1029.12 5339.64 1025.43 Q5335.55 1021.74 5328.55 1021.74 Q5325.26 1021.74 5321.98 1022.47 Q5318.74 1023.2 5315.34 1024.74 L5315.34 994.36 Z\" fill=\"#000000\" fill-rule=\"nonzero\" fill-opacity=\"1\" /><path clip-path=\"url(#clip380)\" d=\"M5831.86 1047.95 L5860.42 1047.95 L5860.42 1054.84 L5822.01 1054.84 L5822.01 1047.95 Q5826.67 1043.13 5834.69 1035.03 Q5842.75 1026.89 5844.82 1024.54 Q5848.75 1020.12 5850.29 1017.09 Q5851.87 1014.01 5851.87 1011.05 Q5851.87 1006.23 5848.47 1003.19 Q5845.1 1000.15 5839.67 1000.15 Q5835.83 1000.15 5831.53 1001.49 Q5827.28 1002.83 5822.42 1005.54 L5822.42 997.276 Q5827.36 995.291 5831.65 994.279 Q5835.95 993.266 5839.51 993.266 Q5848.91 993.266 5854.5 997.965 Q5860.09 1002.66 5860.09 1010.52 Q5860.09 1014.25 5858.67 1017.61 Q5857.3 1020.93 5853.61 1025.47 Q5852.6 1026.65 5847.17 1032.28 Q5841.74 1037.87 5831.86 1047.95 Z\" fill=\"#000000\" fill-rule=\"nonzero\" fill-opacity=\"1\" /><path clip-path=\"url(#clip380)\" d=\"M5877.59 1044.55 L5886.14 1044.55 L5886.14 1054.84 L5877.59 1054.84 L5877.59 1044.55 Z\" fill=\"#000000\" fill-rule=\"nonzero\" fill-opacity=\"1\" /><path clip-path=\"url(#clip380)\" d=\"M5921.46 999.747 Q5915.14 999.747 5911.94 1005.99 Q5908.78 1012.18 5908.78 1024.66 Q5908.78 1037.1 5911.94 1043.33 Q5915.14 1049.53 5921.46 1049.53 Q5927.82 1049.53 5930.98 1043.33 Q5934.18 1037.1 5934.18 1024.66 Q5934.18 1012.18 5930.98 1005.99 Q5927.82 999.747 5921.46 999.747 M5921.46 993.266 Q5931.63 993.266 5936.98 1001.33 Q5942.37 1009.35 5942.37 1024.66 Q5942.37 1039.93 5936.98 1047.99 Q5931.63 1056.01 5921.46 1056.01 Q5911.29 1056.01 5905.91 1047.99 Q5900.56 1039.93 5900.56 1024.66 Q5900.56 1009.35 5905.91 1001.33 Q5911.29 993.266 5921.46 993.266 Z\" fill=\"#000000\" fill-rule=\"nonzero\" fill-opacity=\"1\" /><path clip-path=\"url(#clip380)\" d=\"M4527.63 1124.06 L4578.8 1124.06 L4578.8 1130.94 L4557.33 1130.94 L4557.33 1184.54 L4549.1 1184.54 L4549.1 1130.94 L4527.63 1130.94 L4527.63 1124.06 Z\" fill=\"#000000\" fill-rule=\"nonzero\" fill-opacity=\"1\" /><path clip-path=\"url(#clip380)\" d=\"M4583.82 1139.17 L4591.27 1139.17 L4591.27 1184.54 L4583.82 1184.54 L4583.82 1139.17 M4583.82 1121.5 L4591.27 1121.5 L4591.27 1130.94 L4583.82 1130.94 L4583.82 1121.5 Z\" fill=\"#000000\" fill-rule=\"nonzero\" fill-opacity=\"1\" /><path clip-path=\"url(#clip380)\" d=\"M4642.19 1147.87 Q4644.99 1142.85 4648.88 1140.46 Q4652.77 1138.07 4658.03 1138.07 Q4665.12 1138.07 4668.97 1143.05 Q4672.82 1148 4672.82 1157.15 L4672.82 1184.54 L4665.32 1184.54 L4665.32 1157.39 Q4665.32 1150.87 4663.02 1147.71 Q4660.71 1144.55 4655.97 1144.55 Q4650.17 1144.55 4646.81 1148.4 Q4643.45 1152.25 4643.45 1158.89 L4643.45 1184.54 L4635.96 1184.54 L4635.96 1157.39 Q4635.96 1150.83 4633.65 1147.71 Q4631.34 1144.55 4626.52 1144.55 Q4620.8 1144.55 4617.44 1148.44 Q4614.08 1152.29 4614.08 1158.89 L4614.08 1184.54 L4606.59 1184.54 L4606.59 1139.17 L4614.08 1139.17 L4614.08 1146.21 Q4616.63 1142.04 4620.2 1140.06 Q4623.76 1138.07 4628.66 1138.07 Q4633.61 1138.07 4637.05 1140.58 Q4640.53 1143.09 4642.19 1147.87 Z\" fill=\"#000000\" fill-rule=\"nonzero\" fill-opacity=\"1\" /><path clip-path=\"url(#clip380)\" d=\"M4726.49 1159.99 L4726.49 1163.63 L4692.22 1163.63 Q4692.71 1171.33 4696.84 1175.38 Q4701.01 1179.39 4708.43 1179.39 Q4712.72 1179.39 4716.73 1178.34 Q4720.78 1177.28 4724.75 1175.18 L4724.75 1182.23 Q4720.74 1183.93 4716.53 1184.82 Q4712.31 1185.71 4707.98 1185.71 Q4697.12 1185.71 4690.76 1179.39 Q4684.44 1173.07 4684.44 1162.3 Q4684.44 1151.16 4690.44 1144.63 Q4696.48 1138.07 4706.68 1138.07 Q4715.84 1138.07 4721.15 1143.99 Q4726.49 1149.86 4726.49 1159.99 M4719.04 1157.8 Q4718.96 1151.68 4715.6 1148.04 Q4712.27 1144.39 4706.77 1144.39 Q4700.53 1144.39 4696.76 1147.92 Q4693.03 1151.44 4692.47 1157.84 L4719.04 1157.8 Z\" fill=\"#000000\" fill-rule=\"nonzero\" fill-opacity=\"1\" /><path clip-path=\"url(#clip380)\" d=\"M4738.04 1121.5 L4755.21 1121.5 L4755.21 1127.3 L4745.49 1127.3 L4745.49 1189.68 L4755.21 1189.68 L4755.21 1195.47 L4738.04 1195.47 L4738.04 1121.5 Z\" fill=\"#000000\" fill-rule=\"nonzero\" fill-opacity=\"1\" /><path clip-path=\"url(#clip380)\" d=\"M4770.32 1201.79 L4770.32 1139.17 L4777.78 1139.17 L4777.78 1167.36 Q4777.78 1173.23 4780.57 1176.23 Q4783.37 1179.23 4788.84 1179.23 Q4794.83 1179.23 4797.83 1175.83 Q4800.87 1172.42 4800.87 1165.62 L4800.87 1139.17 L4808.32 1139.17 L4808.32 1174.08 Q4808.32 1176.51 4809.01 1177.69 Q4809.74 1178.82 4811.24 1178.82 Q4811.6 1178.82 4812.25 1178.62 Q4812.9 1178.38 4814.03 1177.89 L4814.03 1183.89 Q4812.37 1184.82 4810.87 1185.26 Q4809.41 1185.71 4808 1185.71 Q4805.2 1185.71 4803.54 1184.13 Q4801.88 1182.55 4801.27 1179.31 Q4799.25 1182.51 4796.29 1184.13 Q4793.37 1185.71 4789.4 1185.71 Q4785.27 1185.71 4782.35 1184.13 Q4779.48 1182.55 4777.78 1179.39 L4777.78 1201.79 L4770.32 1201.79 Z\" fill=\"#000000\" fill-rule=\"nonzero\" fill-opacity=\"1\" /><path clip-path=\"url(#clip380)\" d=\"M4852.8 1140.5 L4852.8 1147.55 Q4849.64 1145.93 4846.24 1145.12 Q4842.83 1144.31 4839.19 1144.31 Q4833.64 1144.31 4830.84 1146.01 Q4828.09 1147.71 4828.09 1151.12 Q4828.09 1153.71 4830.07 1155.21 Q4832.06 1156.67 4838.05 1158 L4840.61 1158.57 Q4848.55 1160.27 4851.87 1163.39 Q4855.23 1166.47 4855.23 1172.02 Q4855.23 1178.34 4850.21 1182.02 Q4845.22 1185.71 4836.47 1185.71 Q4832.83 1185.71 4828.86 1184.98 Q4824.93 1184.29 4820.55 1182.87 L4820.55 1175.18 Q4824.69 1177.32 4828.7 1178.42 Q4832.71 1179.47 4836.64 1179.47 Q4841.9 1179.47 4844.74 1177.69 Q4847.57 1175.87 4847.57 1172.59 Q4847.57 1169.55 4845.51 1167.93 Q4843.48 1166.31 4836.56 1164.81 L4833.96 1164.2 Q4827.04 1162.74 4823.96 1159.74 Q4820.88 1156.71 4820.88 1151.44 Q4820.88 1145.04 4825.42 1141.56 Q4829.95 1138.07 4838.3 1138.07 Q4842.43 1138.07 4846.08 1138.68 Q4849.72 1139.29 4852.8 1140.5 Z\" fill=\"#000000\" fill-rule=\"nonzero\" fill-opacity=\"1\" /><path clip-path=\"url(#clip380)\" d=\"M4884.52 1121.5 L4884.52 1195.47 L4867.34 1195.47 L4867.34 1189.68 L4877.02 1189.68 L4877.02 1127.3 L4867.34 1127.3 L4867.34 1121.5 L4884.52 1121.5 Z\" fill=\"#000000\" fill-rule=\"nonzero\" fill-opacity=\"1\" /><polyline clip-path=\"url(#clip383)\" style=\"stroke:#000000; stroke-linecap:round; stroke-linejoin:round; stroke-width:2; stroke-opacity:0.1; fill:none\" points=\"3459.4,855.685 5952.76,855.685 \"/>\n<polyline clip-path=\"url(#clip383)\" style=\"stroke:#000000; stroke-linecap:round; stroke-linejoin:round; stroke-width:2; stroke-opacity:0.1; fill:none\" points=\"3459.4,722.255 5952.76,722.255 \"/>\n<polyline clip-path=\"url(#clip383)\" style=\"stroke:#000000; stroke-linecap:round; stroke-linejoin:round; stroke-width:2; stroke-opacity:0.1; fill:none\" points=\"3459.4,588.825 5952.76,588.825 \"/>\n<polyline clip-path=\"url(#clip383)\" style=\"stroke:#000000; stroke-linecap:round; stroke-linejoin:round; stroke-width:2; stroke-opacity:0.1; fill:none\" points=\"3459.4,455.395 5952.76,455.395 \"/>\n<polyline clip-path=\"url(#clip383)\" style=\"stroke:#000000; stroke-linecap:round; stroke-linejoin:round; stroke-width:2; stroke-opacity:0.1; fill:none\" points=\"3459.4,321.965 5952.76,321.965 \"/>\n<polyline clip-path=\"url(#clip380)\" style=\"stroke:#000000; stroke-linecap:round; stroke-linejoin:round; stroke-width:4; stroke-opacity:1; fill:none\" points=\"3459.4,931.24 3459.4,188.976 \"/>\n<polyline clip-path=\"url(#clip380)\" style=\"stroke:#000000; stroke-linecap:round; stroke-linejoin:round; stroke-width:4; stroke-opacity:1; fill:none\" points=\"3459.4,855.685 3478.29,855.685 \"/>\n<polyline clip-path=\"url(#clip380)\" style=\"stroke:#000000; stroke-linecap:round; stroke-linejoin:round; stroke-width:4; stroke-opacity:1; fill:none\" points=\"3459.4,722.255 3478.29,722.255 \"/>\n<polyline clip-path=\"url(#clip380)\" style=\"stroke:#000000; stroke-linecap:round; stroke-linejoin:round; stroke-width:4; stroke-opacity:1; fill:none\" points=\"3459.4,588.825 3478.29,588.825 \"/>\n<polyline clip-path=\"url(#clip380)\" style=\"stroke:#000000; stroke-linecap:round; stroke-linejoin:round; stroke-width:4; stroke-opacity:1; fill:none\" points=\"3459.4,455.395 3478.29,455.395 \"/>\n<polyline clip-path=\"url(#clip380)\" style=\"stroke:#000000; stroke-linecap:round; stroke-linejoin:round; stroke-width:4; stroke-opacity:1; fill:none\" points=\"3459.4,321.965 3478.29,321.965 \"/>\n<path clip-path=\"url(#clip380)\" d=\"M3210.36 856.475 L3262.29 856.475 L3262.29 863.362 L3210.36 863.362 L3210.36 856.475 Z\" fill=\"#000000\" fill-rule=\"nonzero\" fill-opacity=\"1\" /><path clip-path=\"url(#clip380)\" d=\"M3277.89 825.445 L3316.78 825.445 L3316.78 828.929 L3294.82 885.925 L3286.27 885.925 L3306.93 832.332 L3277.89 832.332 L3277.89 825.445 Z\" fill=\"#000000\" fill-rule=\"nonzero\" fill-opacity=\"1\" /><path clip-path=\"url(#clip380)\" d=\"M3332.82 825.445 L3364.94 825.445 L3364.94 832.332 L3340.31 832.332 L3340.31 847.158 Q3342.09 846.55 3343.88 846.267 Q3345.66 845.943 3347.44 845.943 Q3357.57 845.943 3363.48 851.492 Q3369.4 857.042 3369.4 866.521 Q3369.4 876.284 3363.32 881.712 Q3357.24 887.1 3346.19 887.1 Q3342.38 887.1 3338.41 886.452 Q3334.48 885.804 3330.27 884.507 L3330.27 876.284 Q3333.91 878.269 3337.8 879.241 Q3341.69 880.213 3346.02 880.213 Q3353.03 880.213 3357.12 876.527 Q3361.21 872.841 3361.21 866.521 Q3361.21 860.202 3357.12 856.516 Q3353.03 852.829 3346.02 852.829 Q3342.74 852.829 3339.46 853.558 Q3336.22 854.288 3332.82 855.827 L3332.82 825.445 Z\" fill=\"#000000\" fill-rule=\"nonzero\" fill-opacity=\"1\" /><path clip-path=\"url(#clip380)\" d=\"M3208.62 723.045 L3260.55 723.045 L3260.55 729.932 L3208.62 729.932 L3208.62 723.045 Z\" fill=\"#000000\" fill-rule=\"nonzero\" fill-opacity=\"1\" /><path clip-path=\"url(#clip380)\" d=\"M3278.29 692.015 L3310.42 692.015 L3310.42 698.902 L3285.79 698.902 L3285.79 713.728 Q3287.57 713.12 3289.35 712.837 Q3291.13 712.513 3292.92 712.513 Q3303.04 712.513 3308.96 718.062 Q3314.87 723.612 3314.87 733.091 Q3314.87 742.854 3308.8 748.282 Q3302.72 753.67 3291.66 753.67 Q3287.85 753.67 3283.88 753.022 Q3279.95 752.374 3275.74 751.077 L3275.74 742.854 Q3279.39 744.839 3283.27 745.811 Q3287.16 746.783 3291.5 746.783 Q3298.51 746.783 3302.6 743.097 Q3306.69 739.411 3306.69 733.091 Q3306.69 726.772 3302.6 723.085 Q3298.51 719.399 3291.5 719.399 Q3288.22 719.399 3284.94 720.128 Q3281.69 720.857 3278.29 722.397 L3278.29 692.015 Z\" fill=\"#000000\" fill-rule=\"nonzero\" fill-opacity=\"1\" /><path clip-path=\"url(#clip380)\" d=\"M3348.49 697.403 Q3342.17 697.403 3338.97 703.641 Q3335.81 709.839 3335.81 722.316 Q3335.81 734.752 3338.97 740.99 Q3342.17 747.188 3348.49 747.188 Q3354.85 747.188 3358.01 740.99 Q3361.21 734.752 3361.21 722.316 Q3361.21 709.839 3358.01 703.641 Q3354.85 697.403 3348.49 697.403 M3348.49 690.921 Q3358.66 690.921 3364.01 698.983 Q3369.4 707.003 3369.4 722.316 Q3369.4 737.588 3364.01 745.649 Q3358.66 753.67 3348.49 753.67 Q3338.33 753.67 3332.94 745.649 Q3327.59 737.588 3327.59 722.316 Q3327.59 707.003 3332.94 698.983 Q3338.33 690.921 3348.49 690.921 Z\" fill=\"#000000\" fill-rule=\"nonzero\" fill-opacity=\"1\" /><path clip-path=\"url(#clip380)\" d=\"M3210.36 589.615 L3262.29 589.615 L3262.29 596.501 L3210.36 596.501 L3210.36 589.615 Z\" fill=\"#000000\" fill-rule=\"nonzero\" fill-opacity=\"1\" /><path clip-path=\"url(#clip380)\" d=\"M3287 612.178 L3315.56 612.178 L3315.56 619.065 L3277.16 619.065 L3277.16 612.178 Q3281.82 607.358 3289.84 599.256 Q3297.9 591.114 3299.96 588.764 Q3303.89 584.349 3305.43 581.311 Q3307.01 578.232 3307.01 575.275 Q3307.01 570.454 3303.61 567.416 Q3300.25 564.378 3294.82 564.378 Q3290.97 564.378 3286.68 565.715 Q3282.42 567.051 3277.56 569.766 L3277.56 561.502 Q3282.5 559.517 3286.8 558.504 Q3291.09 557.491 3294.66 557.491 Q3304.06 557.491 3309.65 562.19 Q3315.24 566.889 3315.24 574.748 Q3315.24 578.475 3313.82 581.837 Q3312.44 585.159 3308.75 589.696 Q3307.74 590.871 3302.31 596.501 Q3296.89 602.092 3287 612.178 Z\" fill=\"#000000\" fill-rule=\"nonzero\" fill-opacity=\"1\" /><path clip-path=\"url(#clip380)\" d=\"M3332.82 558.585 L3364.94 558.585 L3364.94 565.472 L3340.31 565.472 L3340.31 580.298 Q3342.09 579.69 3343.88 579.407 Q3345.66 579.083 3347.44 579.083 Q3357.57 579.083 3363.48 584.632 Q3369.4 590.182 3369.4 599.661 Q3369.4 609.424 3363.32 614.852 Q3357.24 620.24 3346.19 620.24 Q3342.38 620.24 3338.41 619.592 Q3334.48 618.944 3330.27 617.647 L3330.27 609.424 Q3333.91 611.409 3337.8 612.381 Q3341.69 613.353 3346.02 613.353 Q3353.03 613.353 3357.12 609.667 Q3361.21 605.981 3361.21 599.661 Q3361.21 593.342 3357.12 589.655 Q3353.03 585.969 3346.02 585.969 Q3342.74 585.969 3339.46 586.698 Q3336.22 587.427 3332.82 588.967 L3332.82 558.585 Z\" fill=\"#000000\" fill-rule=\"nonzero\" fill-opacity=\"1\" /><path clip-path=\"url(#clip380)\" d=\"M3348.49 430.543 Q3342.17 430.543 3338.97 436.781 Q3335.81 442.979 3335.81 455.456 Q3335.81 467.892 3338.97 474.13 Q3342.17 480.328 3348.49 480.328 Q3354.85 480.328 3358.01 474.13 Q3361.21 467.892 3361.21 455.456 Q3361.21 442.979 3358.01 436.781 Q3354.85 430.543 3348.49 430.543 M3348.49 424.061 Q3358.66 424.061 3364.01 432.123 Q3369.4 440.143 3369.4 455.456 Q3369.4 470.728 3364.01 478.789 Q3358.66 486.81 3348.49 486.81 Q3338.33 486.81 3332.94 478.789 Q3327.59 470.728 3327.59 455.456 Q3327.59 440.143 3332.94 432.123 Q3338.33 424.061 3348.49 424.061 Z\" fill=\"#000000\" fill-rule=\"nonzero\" fill-opacity=\"1\" /><path clip-path=\"url(#clip380)\" d=\"M3287 345.318 L3315.56 345.318 L3315.56 352.205 L3277.16 352.205 L3277.16 345.318 Q3281.82 340.498 3289.84 332.396 Q3297.9 324.254 3299.96 321.904 Q3303.89 317.489 3305.43 314.451 Q3307.01 311.372 3307.01 308.415 Q3307.01 303.594 3303.61 300.556 Q3300.25 297.518 3294.82 297.518 Q3290.97 297.518 3286.68 298.855 Q3282.42 300.191 3277.56 302.905 L3277.56 294.642 Q3282.5 292.657 3286.8 291.644 Q3291.09 290.631 3294.66 290.631 Q3304.06 290.631 3309.65 295.33 Q3315.24 300.029 3315.24 307.888 Q3315.24 311.615 3313.82 314.977 Q3312.44 318.299 3308.75 322.836 Q3307.74 324.011 3302.31 329.641 Q3296.89 335.232 3287 345.318 Z\" fill=\"#000000\" fill-rule=\"nonzero\" fill-opacity=\"1\" /><path clip-path=\"url(#clip380)\" d=\"M3332.82 291.725 L3364.94 291.725 L3364.94 298.612 L3340.31 298.612 L3340.31 313.438 Q3342.09 312.83 3343.88 312.547 Q3345.66 312.223 3347.44 312.223 Q3357.57 312.223 3363.48 317.772 Q3369.4 323.322 3369.4 332.801 Q3369.4 342.564 3363.32 347.992 Q3357.24 353.38 3346.19 353.38 Q3342.38 353.38 3338.41 352.732 Q3334.48 352.083 3330.27 350.787 L3330.27 342.564 Q3333.91 344.549 3337.8 345.521 Q3341.69 346.493 3346.02 346.493 Q3353.03 346.493 3357.12 342.807 Q3361.21 339.121 3361.21 332.801 Q3361.21 326.482 3357.12 322.795 Q3353.03 319.109 3346.02 319.109 Q3342.74 319.109 3339.46 319.838 Q3336.22 320.567 3332.82 322.107 L3332.82 291.725 Z\" fill=\"#000000\" fill-rule=\"nonzero\" fill-opacity=\"1\" /><path clip-path=\"url(#clip380)\" d=\"M3046.72 787.83 L3069.44 787.83 L3069.44 777.54 Q3069.44 771.828 3066.49 768.709 Q3063.53 765.59 3058.06 765.59 Q3052.63 765.59 3049.67 768.709 Q3046.72 771.828 3046.72 777.54 L3046.72 787.83 M3039.99 796.012 L3039.99 777.54 Q3039.99 767.372 3044.61 762.187 Q3049.19 756.962 3058.06 756.962 Q3067.01 756.962 3071.59 762.187 Q3076.17 767.372 3076.17 777.54 L3076.17 787.83 L3100.47 787.83 L3100.47 796.012 L3039.99 796.012 Z\" fill=\"#000000\" fill-rule=\"nonzero\" fill-opacity=\"1\" /><path clip-path=\"url(#clip380)\" d=\"M3082.57 748.536 L3055.1 748.536 L3055.1 741.082 L3082.28 741.082 Q3088.72 741.082 3091.97 738.571 Q3095.17 736.059 3095.17 731.036 Q3095.17 725 3091.32 721.516 Q3087.47 717.992 3080.83 717.992 L3055.1 717.992 L3055.1 710.538 L3100.47 710.538 L3100.47 717.992 L3093.5 717.992 Q3097.64 720.706 3099.66 724.311 Q3101.65 727.876 3101.65 732.616 Q3101.65 740.434 3096.79 744.485 Q3091.93 748.536 3082.57 748.536 M3054.01 729.78 L3054.01 729.78 Z\" fill=\"#000000\" fill-rule=\"nonzero\" fill-opacity=\"1\" /><path clip-path=\"url(#clip380)\" d=\"M3037.44 695.185 L3037.44 687.732 L3100.47 687.732 L3100.47 695.185 L3037.44 695.185 Z\" fill=\"#000000\" fill-rule=\"nonzero\" fill-opacity=\"1\" /><path clip-path=\"url(#clip380)\" d=\"M3056.44 643.212 L3063.49 643.212 Q3061.87 646.372 3061.06 649.775 Q3060.25 653.177 3060.25 656.823 Q3060.25 662.373 3061.95 665.168 Q3063.65 667.923 3067.05 667.923 Q3069.65 667.923 3071.14 665.938 Q3072.6 663.953 3073.94 657.958 L3074.51 655.405 Q3076.21 647.466 3079.33 644.144 Q3082.41 640.782 3087.96 640.782 Q3094.27 640.782 3097.96 645.805 Q3101.65 650.787 3101.65 659.537 Q3101.65 663.183 3100.92 667.153 Q3100.23 671.082 3098.81 675.457 L3091.11 675.457 Q3093.26 671.326 3094.36 667.315 Q3095.41 663.305 3095.41 659.375 Q3095.41 654.109 3093.63 651.274 Q3091.8 648.438 3088.52 648.438 Q3085.48 648.438 3083.86 650.504 Q3082.24 652.529 3080.74 659.456 L3080.14 662.049 Q3078.68 668.976 3075.68 672.055 Q3072.64 675.133 3067.38 675.133 Q3060.98 675.133 3057.49 670.596 Q3054.01 666.059 3054.01 657.715 Q3054.01 653.583 3054.62 649.937 Q3055.22 646.291 3056.44 643.212 Z\" fill=\"#000000\" fill-rule=\"nonzero\" fill-opacity=\"1\" /><path clip-path=\"url(#clip380)\" d=\"M3075.92 590.105 L3079.57 590.105 L3079.57 624.376 Q3087.27 623.889 3091.32 619.758 Q3095.33 615.585 3095.33 608.172 Q3095.33 603.878 3094.27 599.868 Q3093.22 595.817 3091.11 591.847 L3098.16 591.847 Q3099.86 595.857 3100.76 600.07 Q3101.65 604.283 3101.65 608.618 Q3101.65 619.474 3095.33 625.834 Q3089.01 632.153 3078.23 632.153 Q3067.09 632.153 3060.57 626.158 Q3054.01 620.122 3054.01 609.914 Q3054.01 600.759 3059.92 595.452 Q3065.8 590.105 3075.92 590.105 M3073.74 597.559 Q3067.62 597.64 3063.97 601.002 Q3060.33 604.324 3060.33 609.833 Q3060.33 616.071 3063.85 619.839 Q3067.38 623.565 3073.78 624.133 L3073.74 597.559 Z\" fill=\"#000000\" fill-rule=\"nonzero\" fill-opacity=\"1\" /><path clip-path=\"url(#clip380)\" d=\"M3037.44 552.188 L3037.44 535.013 L3043.23 535.013 L3043.23 544.735 L3105.62 544.735 L3105.62 535.013 L3111.41 535.013 L3111.41 552.188 L3037.44 552.188 Z\" fill=\"#000000\" fill-rule=\"nonzero\" fill-opacity=\"1\" /><path clip-path=\"url(#clip380)\" d=\"M3039.99 518.809 L3039.99 506.616 L3081.15 491.182 L3039.99 475.667 L3039.99 463.474 L3100.47 463.474 L3100.47 471.454 L3047.37 471.454 L3088.85 487.05 L3088.85 495.273 L3047.37 510.869 L3100.47 510.869 L3100.47 518.809 L3039.99 518.809 Z\" fill=\"#000000\" fill-rule=\"nonzero\" fill-opacity=\"1\" /><path clip-path=\"url(#clip380)\" d=\"M3039.99 447.23 L3039.99 439.047 L3064.78 439.047 L3064.78 409.313 L3039.99 409.313 L3039.99 401.13 L3100.47 401.13 L3100.47 409.313 L3071.67 409.313 L3071.67 439.047 L3100.47 439.047 L3100.47 447.23 L3039.99 447.23 Z\" fill=\"#000000\" fill-rule=\"nonzero\" fill-opacity=\"1\" /><path clip-path=\"url(#clip380)\" d=\"M3055.1 388.41 L3055.1 353.005 L3061.91 353.005 L3094.52 381.038 L3094.52 353.005 L3100.47 353.005 L3100.47 389.423 L3093.67 389.423 L3061.06 361.391 L3061.06 388.41 L3055.1 388.41 Z\" fill=\"#000000\" fill-rule=\"nonzero\" fill-opacity=\"1\" /><path clip-path=\"url(#clip380)\" d=\"M3037.44 324.204 L3111.41 324.204 L3111.41 341.379 L3105.62 341.379 L3105.62 331.698 L3043.23 331.698 L3043.23 341.379 L3037.44 341.379 L3037.44 324.204 Z\" fill=\"#000000\" fill-rule=\"nonzero\" fill-opacity=\"1\" /><polyline clip-path=\"url(#clip383)\" style=\"stroke:#009af9; stroke-linecap:round; stroke-linejoin:round; stroke-width:4; stroke-opacity:1; fill:none\" stroke-dasharray=\"16, 10\" points=\"3529.96,268.52 3577.01,479.409 3624.05,546.731 3671.1,377.345 3718.14,793.031 3765.19,539.852 3812.23,314.808 3859.28,498.792 3906.32,249.499 3953.36,348.939 4000.41,367.965 4047.45,318.632 4094.5,395.102 4141.54,361.572 4188.59,460.924 4235.63,638.238 4282.68,481.669 4329.72,289.584 4376.76,365.47 4423.81,426.142 4470.85,484.434 4517.9,678.959 4564.94,645.468 4611.99,345.677 4659.03,297.646 4706.08,483.518 4753.12,521.766 4800.17,537.537 4847.21,628.07 4894.25,551.418 4941.3,454.778 4988.34,563.225 5035.39,645.072 5082.43,684.227 5129.48,712.064 5176.52,415.069 5223.57,209.984 5270.61,444.436 5317.66,337.043 5364.7,366.974 5411.74,910.232 5458.79,453.633 5505.83,335.807 5552.88,795.717 5599.92,241.3 5646.97,695.431 5694.01,495.154 5741.06,428.828 5788.1,420.147 5835.14,528.763 5882.19,768.692 \"/>\n<circle clip-path=\"url(#clip383)\" cx=\"3529.96\" cy=\"268.52\" r=\"10.8\" fill=\"#009af9\" fill-rule=\"evenodd\" fill-opacity=\"1\" stroke=\"#000000\" stroke-opacity=\"1\" stroke-width=\"2.4\"/>\n<circle clip-path=\"url(#clip383)\" cx=\"3577.01\" cy=\"479.409\" r=\"10.8\" fill=\"#009af9\" fill-rule=\"evenodd\" fill-opacity=\"1\" stroke=\"#000000\" stroke-opacity=\"1\" stroke-width=\"2.4\"/>\n<circle clip-path=\"url(#clip383)\" cx=\"3624.05\" cy=\"546.731\" r=\"10.8\" fill=\"#009af9\" fill-rule=\"evenodd\" fill-opacity=\"1\" stroke=\"#000000\" stroke-opacity=\"1\" stroke-width=\"2.4\"/>\n<circle clip-path=\"url(#clip383)\" cx=\"3671.1\" cy=\"377.345\" r=\"10.8\" fill=\"#009af9\" fill-rule=\"evenodd\" fill-opacity=\"1\" stroke=\"#000000\" stroke-opacity=\"1\" stroke-width=\"2.4\"/>\n<circle clip-path=\"url(#clip383)\" cx=\"3718.14\" cy=\"793.031\" r=\"10.8\" fill=\"#009af9\" fill-rule=\"evenodd\" fill-opacity=\"1\" stroke=\"#000000\" stroke-opacity=\"1\" stroke-width=\"2.4\"/>\n<circle clip-path=\"url(#clip383)\" cx=\"3765.19\" cy=\"539.852\" r=\"10.8\" fill=\"#009af9\" fill-rule=\"evenodd\" fill-opacity=\"1\" stroke=\"#000000\" stroke-opacity=\"1\" stroke-width=\"2.4\"/>\n<circle clip-path=\"url(#clip383)\" cx=\"3812.23\" cy=\"314.808\" r=\"10.8\" fill=\"#009af9\" fill-rule=\"evenodd\" fill-opacity=\"1\" stroke=\"#000000\" stroke-opacity=\"1\" stroke-width=\"2.4\"/>\n<circle clip-path=\"url(#clip383)\" cx=\"3859.28\" cy=\"498.792\" r=\"10.8\" fill=\"#009af9\" fill-rule=\"evenodd\" fill-opacity=\"1\" stroke=\"#000000\" stroke-opacity=\"1\" stroke-width=\"2.4\"/>\n<circle clip-path=\"url(#clip383)\" cx=\"3906.32\" cy=\"249.499\" r=\"10.8\" fill=\"#009af9\" fill-rule=\"evenodd\" fill-opacity=\"1\" stroke=\"#000000\" stroke-opacity=\"1\" stroke-width=\"2.4\"/>\n<circle clip-path=\"url(#clip383)\" cx=\"3953.36\" cy=\"348.939\" r=\"10.8\" fill=\"#009af9\" fill-rule=\"evenodd\" fill-opacity=\"1\" stroke=\"#000000\" stroke-opacity=\"1\" stroke-width=\"2.4\"/>\n<circle clip-path=\"url(#clip383)\" cx=\"4000.41\" cy=\"367.965\" r=\"10.8\" fill=\"#009af9\" fill-rule=\"evenodd\" fill-opacity=\"1\" stroke=\"#000000\" stroke-opacity=\"1\" stroke-width=\"2.4\"/>\n<circle clip-path=\"url(#clip383)\" cx=\"4047.45\" cy=\"318.632\" r=\"10.8\" fill=\"#009af9\" fill-rule=\"evenodd\" fill-opacity=\"1\" stroke=\"#000000\" stroke-opacity=\"1\" stroke-width=\"2.4\"/>\n<circle clip-path=\"url(#clip383)\" cx=\"4094.5\" cy=\"395.102\" r=\"10.8\" fill=\"#009af9\" fill-rule=\"evenodd\" fill-opacity=\"1\" stroke=\"#000000\" stroke-opacity=\"1\" stroke-width=\"2.4\"/>\n<circle clip-path=\"url(#clip383)\" cx=\"4141.54\" cy=\"361.572\" r=\"10.8\" fill=\"#009af9\" fill-rule=\"evenodd\" fill-opacity=\"1\" stroke=\"#000000\" stroke-opacity=\"1\" stroke-width=\"2.4\"/>\n<circle clip-path=\"url(#clip383)\" cx=\"4188.59\" cy=\"460.924\" r=\"10.8\" fill=\"#009af9\" fill-rule=\"evenodd\" fill-opacity=\"1\" stroke=\"#000000\" stroke-opacity=\"1\" stroke-width=\"2.4\"/>\n<circle clip-path=\"url(#clip383)\" cx=\"4235.63\" cy=\"638.238\" r=\"10.8\" fill=\"#009af9\" fill-rule=\"evenodd\" fill-opacity=\"1\" stroke=\"#000000\" stroke-opacity=\"1\" stroke-width=\"2.4\"/>\n<circle clip-path=\"url(#clip383)\" cx=\"4282.68\" cy=\"481.669\" r=\"10.8\" fill=\"#009af9\" fill-rule=\"evenodd\" fill-opacity=\"1\" stroke=\"#000000\" stroke-opacity=\"1\" stroke-width=\"2.4\"/>\n<circle clip-path=\"url(#clip383)\" cx=\"4329.72\" cy=\"289.584\" r=\"10.8\" fill=\"#009af9\" fill-rule=\"evenodd\" fill-opacity=\"1\" stroke=\"#000000\" stroke-opacity=\"1\" stroke-width=\"2.4\"/>\n<circle clip-path=\"url(#clip383)\" cx=\"4376.76\" cy=\"365.47\" r=\"10.8\" fill=\"#009af9\" fill-rule=\"evenodd\" fill-opacity=\"1\" stroke=\"#000000\" stroke-opacity=\"1\" stroke-width=\"2.4\"/>\n<circle clip-path=\"url(#clip383)\" cx=\"4423.81\" cy=\"426.142\" r=\"10.8\" fill=\"#009af9\" fill-rule=\"evenodd\" fill-opacity=\"1\" stroke=\"#000000\" stroke-opacity=\"1\" stroke-width=\"2.4\"/>\n<circle clip-path=\"url(#clip383)\" cx=\"4470.85\" cy=\"484.434\" r=\"10.8\" fill=\"#009af9\" fill-rule=\"evenodd\" fill-opacity=\"1\" stroke=\"#000000\" stroke-opacity=\"1\" stroke-width=\"2.4\"/>\n<circle clip-path=\"url(#clip383)\" cx=\"4517.9\" cy=\"678.959\" r=\"10.8\" fill=\"#009af9\" fill-rule=\"evenodd\" fill-opacity=\"1\" stroke=\"#000000\" stroke-opacity=\"1\" stroke-width=\"2.4\"/>\n<circle clip-path=\"url(#clip383)\" cx=\"4564.94\" cy=\"645.468\" r=\"10.8\" fill=\"#009af9\" fill-rule=\"evenodd\" fill-opacity=\"1\" stroke=\"#000000\" stroke-opacity=\"1\" stroke-width=\"2.4\"/>\n<circle clip-path=\"url(#clip383)\" cx=\"4611.99\" cy=\"345.677\" r=\"10.8\" fill=\"#009af9\" fill-rule=\"evenodd\" fill-opacity=\"1\" stroke=\"#000000\" stroke-opacity=\"1\" stroke-width=\"2.4\"/>\n<circle clip-path=\"url(#clip383)\" cx=\"4659.03\" cy=\"297.646\" r=\"10.8\" fill=\"#009af9\" fill-rule=\"evenodd\" fill-opacity=\"1\" stroke=\"#000000\" stroke-opacity=\"1\" stroke-width=\"2.4\"/>\n<circle clip-path=\"url(#clip383)\" cx=\"4706.08\" cy=\"483.518\" r=\"10.8\" fill=\"#009af9\" fill-rule=\"evenodd\" fill-opacity=\"1\" stroke=\"#000000\" stroke-opacity=\"1\" stroke-width=\"2.4\"/>\n<circle clip-path=\"url(#clip383)\" cx=\"4753.12\" cy=\"521.766\" r=\"10.8\" fill=\"#009af9\" fill-rule=\"evenodd\" fill-opacity=\"1\" stroke=\"#000000\" stroke-opacity=\"1\" stroke-width=\"2.4\"/>\n<circle clip-path=\"url(#clip383)\" cx=\"4800.17\" cy=\"537.537\" r=\"10.8\" fill=\"#009af9\" fill-rule=\"evenodd\" fill-opacity=\"1\" stroke=\"#000000\" stroke-opacity=\"1\" stroke-width=\"2.4\"/>\n<circle clip-path=\"url(#clip383)\" cx=\"4847.21\" cy=\"628.07\" r=\"10.8\" fill=\"#009af9\" fill-rule=\"evenodd\" fill-opacity=\"1\" stroke=\"#000000\" stroke-opacity=\"1\" stroke-width=\"2.4\"/>\n<circle clip-path=\"url(#clip383)\" cx=\"4894.25\" cy=\"551.418\" r=\"10.8\" fill=\"#009af9\" fill-rule=\"evenodd\" fill-opacity=\"1\" stroke=\"#000000\" stroke-opacity=\"1\" stroke-width=\"2.4\"/>\n<circle clip-path=\"url(#clip383)\" cx=\"4941.3\" cy=\"454.778\" r=\"10.8\" fill=\"#009af9\" fill-rule=\"evenodd\" fill-opacity=\"1\" stroke=\"#000000\" stroke-opacity=\"1\" stroke-width=\"2.4\"/>\n<circle clip-path=\"url(#clip383)\" cx=\"4988.34\" cy=\"563.225\" r=\"10.8\" fill=\"#009af9\" fill-rule=\"evenodd\" fill-opacity=\"1\" stroke=\"#000000\" stroke-opacity=\"1\" stroke-width=\"2.4\"/>\n<circle clip-path=\"url(#clip383)\" cx=\"5035.39\" cy=\"645.072\" r=\"10.8\" fill=\"#009af9\" fill-rule=\"evenodd\" fill-opacity=\"1\" stroke=\"#000000\" stroke-opacity=\"1\" stroke-width=\"2.4\"/>\n<circle clip-path=\"url(#clip383)\" cx=\"5082.43\" cy=\"684.227\" r=\"10.8\" fill=\"#009af9\" fill-rule=\"evenodd\" fill-opacity=\"1\" stroke=\"#000000\" stroke-opacity=\"1\" stroke-width=\"2.4\"/>\n<circle clip-path=\"url(#clip383)\" cx=\"5129.48\" cy=\"712.064\" r=\"10.8\" fill=\"#009af9\" fill-rule=\"evenodd\" fill-opacity=\"1\" stroke=\"#000000\" stroke-opacity=\"1\" stroke-width=\"2.4\"/>\n<circle clip-path=\"url(#clip383)\" cx=\"5176.52\" cy=\"415.069\" r=\"10.8\" fill=\"#009af9\" fill-rule=\"evenodd\" fill-opacity=\"1\" stroke=\"#000000\" stroke-opacity=\"1\" stroke-width=\"2.4\"/>\n<circle clip-path=\"url(#clip383)\" cx=\"5223.57\" cy=\"209.984\" r=\"10.8\" fill=\"#009af9\" fill-rule=\"evenodd\" fill-opacity=\"1\" stroke=\"#000000\" stroke-opacity=\"1\" stroke-width=\"2.4\"/>\n<circle clip-path=\"url(#clip383)\" cx=\"5270.61\" cy=\"444.436\" r=\"10.8\" fill=\"#009af9\" fill-rule=\"evenodd\" fill-opacity=\"1\" stroke=\"#000000\" stroke-opacity=\"1\" stroke-width=\"2.4\"/>\n<circle clip-path=\"url(#clip383)\" cx=\"5317.66\" cy=\"337.043\" r=\"10.8\" fill=\"#009af9\" fill-rule=\"evenodd\" fill-opacity=\"1\" stroke=\"#000000\" stroke-opacity=\"1\" stroke-width=\"2.4\"/>\n<circle clip-path=\"url(#clip383)\" cx=\"5364.7\" cy=\"366.974\" r=\"10.8\" fill=\"#009af9\" fill-rule=\"evenodd\" fill-opacity=\"1\" stroke=\"#000000\" stroke-opacity=\"1\" stroke-width=\"2.4\"/>\n<circle clip-path=\"url(#clip383)\" cx=\"5411.74\" cy=\"910.232\" r=\"10.8\" fill=\"#009af9\" fill-rule=\"evenodd\" fill-opacity=\"1\" stroke=\"#000000\" stroke-opacity=\"1\" stroke-width=\"2.4\"/>\n<circle clip-path=\"url(#clip383)\" cx=\"5458.79\" cy=\"453.633\" r=\"10.8\" fill=\"#009af9\" fill-rule=\"evenodd\" fill-opacity=\"1\" stroke=\"#000000\" stroke-opacity=\"1\" stroke-width=\"2.4\"/>\n<circle clip-path=\"url(#clip383)\" cx=\"5505.83\" cy=\"335.807\" r=\"10.8\" fill=\"#009af9\" fill-rule=\"evenodd\" fill-opacity=\"1\" stroke=\"#000000\" stroke-opacity=\"1\" stroke-width=\"2.4\"/>\n<circle clip-path=\"url(#clip383)\" cx=\"5552.88\" cy=\"795.717\" r=\"10.8\" fill=\"#009af9\" fill-rule=\"evenodd\" fill-opacity=\"1\" stroke=\"#000000\" stroke-opacity=\"1\" stroke-width=\"2.4\"/>\n<circle clip-path=\"url(#clip383)\" cx=\"5599.92\" cy=\"241.3\" r=\"10.8\" fill=\"#009af9\" fill-rule=\"evenodd\" fill-opacity=\"1\" stroke=\"#000000\" stroke-opacity=\"1\" stroke-width=\"2.4\"/>\n<circle clip-path=\"url(#clip383)\" cx=\"5646.97\" cy=\"695.431\" r=\"10.8\" fill=\"#009af9\" fill-rule=\"evenodd\" fill-opacity=\"1\" stroke=\"#000000\" stroke-opacity=\"1\" stroke-width=\"2.4\"/>\n<circle clip-path=\"url(#clip383)\" cx=\"5694.01\" cy=\"495.154\" r=\"10.8\" fill=\"#009af9\" fill-rule=\"evenodd\" fill-opacity=\"1\" stroke=\"#000000\" stroke-opacity=\"1\" stroke-width=\"2.4\"/>\n<circle clip-path=\"url(#clip383)\" cx=\"5741.06\" cy=\"428.828\" r=\"10.8\" fill=\"#009af9\" fill-rule=\"evenodd\" fill-opacity=\"1\" stroke=\"#000000\" stroke-opacity=\"1\" stroke-width=\"2.4\"/>\n<circle clip-path=\"url(#clip383)\" cx=\"5788.1\" cy=\"420.147\" r=\"10.8\" fill=\"#009af9\" fill-rule=\"evenodd\" fill-opacity=\"1\" stroke=\"#000000\" stroke-opacity=\"1\" stroke-width=\"2.4\"/>\n<circle clip-path=\"url(#clip383)\" cx=\"5835.14\" cy=\"528.763\" r=\"10.8\" fill=\"#009af9\" fill-rule=\"evenodd\" fill-opacity=\"1\" stroke=\"#000000\" stroke-opacity=\"1\" stroke-width=\"2.4\"/>\n<circle clip-path=\"url(#clip383)\" cx=\"5882.19\" cy=\"768.692\" r=\"10.8\" fill=\"#009af9\" fill-rule=\"evenodd\" fill-opacity=\"1\" stroke=\"#000000\" stroke-opacity=\"1\" stroke-width=\"2.4\"/>\n<polyline clip-path=\"url(#clip383)\" style=\"stroke:#e26f46; stroke-linecap:round; stroke-linejoin:round; stroke-width:4; stroke-opacity:1; fill:none\" stroke-dasharray=\"16, 10\" points=\"3529.96,567.936 3577.01,633.424 3624.05,551.735 3671.1,573.923 3718.14,676.825 3765.19,539.742 3812.23,409.264 3859.28,525.695 3906.32,544.706 3953.36,647.366 4000.41,600.355 4047.45,432.296 4094.5,587.969 4141.54,683.125 4188.59,605.723 4235.63,574.876 4282.68,462.284 4329.72,467.689 4376.76,687.416 4423.81,627.485 4470.85,419.319 4517.9,640.706 4564.94,878.706 4611.99,583.676 4659.03,308.907 4706.08,464.267 4753.12,535.044 4800.17,348.601 4847.21,269.144 4894.25,254.785 4941.3,227.998 4988.34,416.399 5035.39,591.739 5082.43,444.371 5129.48,349.489 5176.52,460.839 5223.57,515.257 5270.61,665.243 5317.66,722.909 5364.7,424.396 5411.74,471.426 5458.79,603.093 5505.83,423.778 5552.88,693.903 5599.92,411.841 5646.97,301.955 5694.01,437.369 5741.06,311.703 5788.1,641.078 5835.14,484.288 5882.19,642.201 \"/>\n<circle clip-path=\"url(#clip383)\" cx=\"3529.96\" cy=\"567.936\" r=\"10.8\" fill=\"#e26f46\" fill-rule=\"evenodd\" fill-opacity=\"1\" stroke=\"#000000\" stroke-opacity=\"1\" stroke-width=\"2.4\"/>\n<circle clip-path=\"url(#clip383)\" cx=\"3577.01\" cy=\"633.424\" r=\"10.8\" fill=\"#e26f46\" fill-rule=\"evenodd\" fill-opacity=\"1\" stroke=\"#000000\" stroke-opacity=\"1\" stroke-width=\"2.4\"/>\n<circle clip-path=\"url(#clip383)\" cx=\"3624.05\" cy=\"551.735\" r=\"10.8\" fill=\"#e26f46\" fill-rule=\"evenodd\" fill-opacity=\"1\" stroke=\"#000000\" stroke-opacity=\"1\" stroke-width=\"2.4\"/>\n<circle clip-path=\"url(#clip383)\" cx=\"3671.1\" cy=\"573.923\" r=\"10.8\" fill=\"#e26f46\" fill-rule=\"evenodd\" fill-opacity=\"1\" stroke=\"#000000\" stroke-opacity=\"1\" stroke-width=\"2.4\"/>\n<circle clip-path=\"url(#clip383)\" cx=\"3718.14\" cy=\"676.825\" r=\"10.8\" fill=\"#e26f46\" fill-rule=\"evenodd\" fill-opacity=\"1\" stroke=\"#000000\" stroke-opacity=\"1\" stroke-width=\"2.4\"/>\n<circle clip-path=\"url(#clip383)\" cx=\"3765.19\" cy=\"539.742\" r=\"10.8\" fill=\"#e26f46\" fill-rule=\"evenodd\" fill-opacity=\"1\" stroke=\"#000000\" stroke-opacity=\"1\" stroke-width=\"2.4\"/>\n<circle clip-path=\"url(#clip383)\" cx=\"3812.23\" cy=\"409.264\" r=\"10.8\" fill=\"#e26f46\" fill-rule=\"evenodd\" fill-opacity=\"1\" stroke=\"#000000\" stroke-opacity=\"1\" stroke-width=\"2.4\"/>\n<circle clip-path=\"url(#clip383)\" cx=\"3859.28\" cy=\"525.695\" r=\"10.8\" fill=\"#e26f46\" fill-rule=\"evenodd\" fill-opacity=\"1\" stroke=\"#000000\" stroke-opacity=\"1\" stroke-width=\"2.4\"/>\n<circle clip-path=\"url(#clip383)\" cx=\"3906.32\" cy=\"544.706\" r=\"10.8\" fill=\"#e26f46\" fill-rule=\"evenodd\" fill-opacity=\"1\" stroke=\"#000000\" stroke-opacity=\"1\" stroke-width=\"2.4\"/>\n<circle clip-path=\"url(#clip383)\" cx=\"3953.36\" cy=\"647.366\" r=\"10.8\" fill=\"#e26f46\" fill-rule=\"evenodd\" fill-opacity=\"1\" stroke=\"#000000\" stroke-opacity=\"1\" stroke-width=\"2.4\"/>\n<circle clip-path=\"url(#clip383)\" cx=\"4000.41\" cy=\"600.355\" r=\"10.8\" fill=\"#e26f46\" fill-rule=\"evenodd\" fill-opacity=\"1\" stroke=\"#000000\" stroke-opacity=\"1\" stroke-width=\"2.4\"/>\n<circle clip-path=\"url(#clip383)\" cx=\"4047.45\" cy=\"432.296\" r=\"10.8\" fill=\"#e26f46\" fill-rule=\"evenodd\" fill-opacity=\"1\" stroke=\"#000000\" stroke-opacity=\"1\" stroke-width=\"2.4\"/>\n<circle clip-path=\"url(#clip383)\" cx=\"4094.5\" cy=\"587.969\" r=\"10.8\" fill=\"#e26f46\" fill-rule=\"evenodd\" fill-opacity=\"1\" stroke=\"#000000\" stroke-opacity=\"1\" stroke-width=\"2.4\"/>\n<circle clip-path=\"url(#clip383)\" cx=\"4141.54\" cy=\"683.125\" r=\"10.8\" fill=\"#e26f46\" fill-rule=\"evenodd\" fill-opacity=\"1\" stroke=\"#000000\" stroke-opacity=\"1\" stroke-width=\"2.4\"/>\n<circle clip-path=\"url(#clip383)\" cx=\"4188.59\" cy=\"605.723\" r=\"10.8\" fill=\"#e26f46\" fill-rule=\"evenodd\" fill-opacity=\"1\" stroke=\"#000000\" stroke-opacity=\"1\" stroke-width=\"2.4\"/>\n<circle clip-path=\"url(#clip383)\" cx=\"4235.63\" cy=\"574.876\" r=\"10.8\" fill=\"#e26f46\" fill-rule=\"evenodd\" fill-opacity=\"1\" stroke=\"#000000\" stroke-opacity=\"1\" stroke-width=\"2.4\"/>\n<circle clip-path=\"url(#clip383)\" cx=\"4282.68\" cy=\"462.284\" r=\"10.8\" fill=\"#e26f46\" fill-rule=\"evenodd\" fill-opacity=\"1\" stroke=\"#000000\" stroke-opacity=\"1\" stroke-width=\"2.4\"/>\n<circle clip-path=\"url(#clip383)\" cx=\"4329.72\" cy=\"467.689\" r=\"10.8\" fill=\"#e26f46\" fill-rule=\"evenodd\" fill-opacity=\"1\" stroke=\"#000000\" stroke-opacity=\"1\" stroke-width=\"2.4\"/>\n<circle clip-path=\"url(#clip383)\" cx=\"4376.76\" cy=\"687.416\" r=\"10.8\" fill=\"#e26f46\" fill-rule=\"evenodd\" fill-opacity=\"1\" stroke=\"#000000\" stroke-opacity=\"1\" stroke-width=\"2.4\"/>\n<circle clip-path=\"url(#clip383)\" cx=\"4423.81\" cy=\"627.485\" r=\"10.8\" fill=\"#e26f46\" fill-rule=\"evenodd\" fill-opacity=\"1\" stroke=\"#000000\" stroke-opacity=\"1\" stroke-width=\"2.4\"/>\n<circle clip-path=\"url(#clip383)\" cx=\"4470.85\" cy=\"419.319\" r=\"10.8\" fill=\"#e26f46\" fill-rule=\"evenodd\" fill-opacity=\"1\" stroke=\"#000000\" stroke-opacity=\"1\" stroke-width=\"2.4\"/>\n<circle clip-path=\"url(#clip383)\" cx=\"4517.9\" cy=\"640.706\" r=\"10.8\" fill=\"#e26f46\" fill-rule=\"evenodd\" fill-opacity=\"1\" stroke=\"#000000\" stroke-opacity=\"1\" stroke-width=\"2.4\"/>\n<circle clip-path=\"url(#clip383)\" cx=\"4564.94\" cy=\"878.706\" r=\"10.8\" fill=\"#e26f46\" fill-rule=\"evenodd\" fill-opacity=\"1\" stroke=\"#000000\" stroke-opacity=\"1\" stroke-width=\"2.4\"/>\n<circle clip-path=\"url(#clip383)\" cx=\"4611.99\" cy=\"583.676\" r=\"10.8\" fill=\"#e26f46\" fill-rule=\"evenodd\" fill-opacity=\"1\" stroke=\"#000000\" stroke-opacity=\"1\" stroke-width=\"2.4\"/>\n<circle clip-path=\"url(#clip383)\" cx=\"4659.03\" cy=\"308.907\" r=\"10.8\" fill=\"#e26f46\" fill-rule=\"evenodd\" fill-opacity=\"1\" stroke=\"#000000\" stroke-opacity=\"1\" stroke-width=\"2.4\"/>\n<circle clip-path=\"url(#clip383)\" cx=\"4706.08\" cy=\"464.267\" r=\"10.8\" fill=\"#e26f46\" fill-rule=\"evenodd\" fill-opacity=\"1\" stroke=\"#000000\" stroke-opacity=\"1\" stroke-width=\"2.4\"/>\n<circle clip-path=\"url(#clip383)\" cx=\"4753.12\" cy=\"535.044\" r=\"10.8\" fill=\"#e26f46\" fill-rule=\"evenodd\" fill-opacity=\"1\" stroke=\"#000000\" stroke-opacity=\"1\" stroke-width=\"2.4\"/>\n<circle clip-path=\"url(#clip383)\" cx=\"4800.17\" cy=\"348.601\" r=\"10.8\" fill=\"#e26f46\" fill-rule=\"evenodd\" fill-opacity=\"1\" stroke=\"#000000\" stroke-opacity=\"1\" stroke-width=\"2.4\"/>\n<circle clip-path=\"url(#clip383)\" cx=\"4847.21\" cy=\"269.144\" r=\"10.8\" fill=\"#e26f46\" fill-rule=\"evenodd\" fill-opacity=\"1\" stroke=\"#000000\" stroke-opacity=\"1\" stroke-width=\"2.4\"/>\n<circle clip-path=\"url(#clip383)\" cx=\"4894.25\" cy=\"254.785\" r=\"10.8\" fill=\"#e26f46\" fill-rule=\"evenodd\" fill-opacity=\"1\" stroke=\"#000000\" stroke-opacity=\"1\" stroke-width=\"2.4\"/>\n<circle clip-path=\"url(#clip383)\" cx=\"4941.3\" cy=\"227.998\" r=\"10.8\" fill=\"#e26f46\" fill-rule=\"evenodd\" fill-opacity=\"1\" stroke=\"#000000\" stroke-opacity=\"1\" stroke-width=\"2.4\"/>\n<circle clip-path=\"url(#clip383)\" cx=\"4988.34\" cy=\"416.399\" r=\"10.8\" fill=\"#e26f46\" fill-rule=\"evenodd\" fill-opacity=\"1\" stroke=\"#000000\" stroke-opacity=\"1\" stroke-width=\"2.4\"/>\n<circle clip-path=\"url(#clip383)\" cx=\"5035.39\" cy=\"591.739\" r=\"10.8\" fill=\"#e26f46\" fill-rule=\"evenodd\" fill-opacity=\"1\" stroke=\"#000000\" stroke-opacity=\"1\" stroke-width=\"2.4\"/>\n<circle clip-path=\"url(#clip383)\" cx=\"5082.43\" cy=\"444.371\" r=\"10.8\" fill=\"#e26f46\" fill-rule=\"evenodd\" fill-opacity=\"1\" stroke=\"#000000\" stroke-opacity=\"1\" stroke-width=\"2.4\"/>\n<circle clip-path=\"url(#clip383)\" cx=\"5129.48\" cy=\"349.489\" r=\"10.8\" fill=\"#e26f46\" fill-rule=\"evenodd\" fill-opacity=\"1\" stroke=\"#000000\" stroke-opacity=\"1\" stroke-width=\"2.4\"/>\n<circle clip-path=\"url(#clip383)\" cx=\"5176.52\" cy=\"460.839\" r=\"10.8\" fill=\"#e26f46\" fill-rule=\"evenodd\" fill-opacity=\"1\" stroke=\"#000000\" stroke-opacity=\"1\" stroke-width=\"2.4\"/>\n<circle clip-path=\"url(#clip383)\" cx=\"5223.57\" cy=\"515.257\" r=\"10.8\" fill=\"#e26f46\" fill-rule=\"evenodd\" fill-opacity=\"1\" stroke=\"#000000\" stroke-opacity=\"1\" stroke-width=\"2.4\"/>\n<circle clip-path=\"url(#clip383)\" cx=\"5270.61\" cy=\"665.243\" r=\"10.8\" fill=\"#e26f46\" fill-rule=\"evenodd\" fill-opacity=\"1\" stroke=\"#000000\" stroke-opacity=\"1\" stroke-width=\"2.4\"/>\n<circle clip-path=\"url(#clip383)\" cx=\"5317.66\" cy=\"722.909\" r=\"10.8\" fill=\"#e26f46\" fill-rule=\"evenodd\" fill-opacity=\"1\" stroke=\"#000000\" stroke-opacity=\"1\" stroke-width=\"2.4\"/>\n<circle clip-path=\"url(#clip383)\" cx=\"5364.7\" cy=\"424.396\" r=\"10.8\" fill=\"#e26f46\" fill-rule=\"evenodd\" fill-opacity=\"1\" stroke=\"#000000\" stroke-opacity=\"1\" stroke-width=\"2.4\"/>\n<circle clip-path=\"url(#clip383)\" cx=\"5411.74\" cy=\"471.426\" r=\"10.8\" fill=\"#e26f46\" fill-rule=\"evenodd\" fill-opacity=\"1\" stroke=\"#000000\" stroke-opacity=\"1\" stroke-width=\"2.4\"/>\n<circle clip-path=\"url(#clip383)\" cx=\"5458.79\" cy=\"603.093\" r=\"10.8\" fill=\"#e26f46\" fill-rule=\"evenodd\" fill-opacity=\"1\" stroke=\"#000000\" stroke-opacity=\"1\" stroke-width=\"2.4\"/>\n<circle clip-path=\"url(#clip383)\" cx=\"5505.83\" cy=\"423.778\" r=\"10.8\" fill=\"#e26f46\" fill-rule=\"evenodd\" fill-opacity=\"1\" stroke=\"#000000\" stroke-opacity=\"1\" stroke-width=\"2.4\"/>\n<circle clip-path=\"url(#clip383)\" cx=\"5552.88\" cy=\"693.903\" r=\"10.8\" fill=\"#e26f46\" fill-rule=\"evenodd\" fill-opacity=\"1\" stroke=\"#000000\" stroke-opacity=\"1\" stroke-width=\"2.4\"/>\n<circle clip-path=\"url(#clip383)\" cx=\"5599.92\" cy=\"411.841\" r=\"10.8\" fill=\"#e26f46\" fill-rule=\"evenodd\" fill-opacity=\"1\" stroke=\"#000000\" stroke-opacity=\"1\" stroke-width=\"2.4\"/>\n<circle clip-path=\"url(#clip383)\" cx=\"5646.97\" cy=\"301.955\" r=\"10.8\" fill=\"#e26f46\" fill-rule=\"evenodd\" fill-opacity=\"1\" stroke=\"#000000\" stroke-opacity=\"1\" stroke-width=\"2.4\"/>\n<circle clip-path=\"url(#clip383)\" cx=\"5694.01\" cy=\"437.369\" r=\"10.8\" fill=\"#e26f46\" fill-rule=\"evenodd\" fill-opacity=\"1\" stroke=\"#000000\" stroke-opacity=\"1\" stroke-width=\"2.4\"/>\n<circle clip-path=\"url(#clip383)\" cx=\"5741.06\" cy=\"311.703\" r=\"10.8\" fill=\"#e26f46\" fill-rule=\"evenodd\" fill-opacity=\"1\" stroke=\"#000000\" stroke-opacity=\"1\" stroke-width=\"2.4\"/>\n<circle clip-path=\"url(#clip383)\" cx=\"5788.1\" cy=\"641.078\" r=\"10.8\" fill=\"#e26f46\" fill-rule=\"evenodd\" fill-opacity=\"1\" stroke=\"#000000\" stroke-opacity=\"1\" stroke-width=\"2.4\"/>\n<circle clip-path=\"url(#clip383)\" cx=\"5835.14\" cy=\"484.288\" r=\"10.8\" fill=\"#e26f46\" fill-rule=\"evenodd\" fill-opacity=\"1\" stroke=\"#000000\" stroke-opacity=\"1\" stroke-width=\"2.4\"/>\n<circle clip-path=\"url(#clip383)\" cx=\"5882.19\" cy=\"642.201\" r=\"10.8\" fill=\"#e26f46\" fill-rule=\"evenodd\" fill-opacity=\"1\" stroke=\"#000000\" stroke-opacity=\"1\" stroke-width=\"2.4\"/>\n<path clip-path=\"url(#clip380)\" d=\"M3542.51 906.497 L4107.25 906.497 L4107.25 634.337 L3542.51 634.337  Z\" fill=\"#ffffff\" fill-rule=\"evenodd\" fill-opacity=\"1\"/>\n<polyline clip-path=\"url(#clip380)\" style=\"stroke:#000000; stroke-linecap:round; stroke-linejoin:round; stroke-width:4; stroke-opacity:1; fill:none\" points=\"3542.51,906.497 4107.25,906.497 4107.25,634.337 3542.51,634.337 3542.51,906.497 \"/>\n<polyline clip-path=\"url(#clip380)\" style=\"stroke:#009af9; stroke-linecap:round; stroke-linejoin:round; stroke-width:7; stroke-opacity:1; fill:none\" stroke-dasharray=\"28, 18\" points=\"3570.21,725.057 3736.44,725.057 \"/>\n<circle clip-path=\"url(#clip380)\" cx=\"3653.32\" cy=\"725.057\" r=\"13.1924\" fill=\"#009af9\" fill-rule=\"evenodd\" fill-opacity=\"1\" stroke=\"#000000\" stroke-opacity=\"1\" stroke-width=\"7.68\"/>\n<path clip-path=\"url(#clip380)\" d=\"M3764.14 694.817 L3772.32 694.817 L3772.32 755.297 L3764.14 755.297 L3764.14 694.817 Z\" fill=\"#000000\" fill-rule=\"nonzero\" fill-opacity=\"1\" /><path clip-path=\"url(#clip380)\" d=\"M3823.61 718.637 Q3826.4 713.614 3830.29 711.224 Q3834.18 708.834 3839.45 708.834 Q3846.54 708.834 3850.38 713.816 Q3854.23 718.758 3854.23 727.913 L3854.23 755.297 L3846.74 755.297 L3846.74 728.156 Q3846.74 721.634 3844.43 718.475 Q3842.12 715.315 3837.38 715.315 Q3831.59 715.315 3828.23 719.163 Q3824.86 723.012 3824.86 729.655 L3824.86 755.297 L3817.37 755.297 L3817.37 728.156 Q3817.37 721.594 3815.06 718.475 Q3812.75 715.315 3807.93 715.315 Q3802.22 715.315 3798.86 719.204 Q3795.49 723.052 3795.49 729.655 L3795.49 755.297 L3788 755.297 L3788 709.927 L3795.49 709.927 L3795.49 716.976 Q3798.05 712.803 3801.61 710.819 Q3805.18 708.834 3810.08 708.834 Q3815.02 708.834 3818.46 711.345 Q3821.95 713.857 3823.61 718.637 Z\" fill=\"#000000\" fill-rule=\"nonzero\" fill-opacity=\"1\" /><path clip-path=\"url(#clip380)\" d=\"M3868.41 692.265 L3885.59 692.265 L3885.59 698.058 L3875.86 698.058 L3875.86 760.442 L3885.59 760.442 L3885.59 766.235 L3868.41 766.235 L3868.41 692.265 Z\" fill=\"#000000\" fill-rule=\"nonzero\" fill-opacity=\"1\" /><path clip-path=\"url(#clip380)\" d=\"M3953.89 748.087 L3953.89 755.297 L3929.58 755.297 L3929.58 748.087 Q3936.75 744.157 3940.76 737.433 Q3944.77 730.708 3944.77 722.526 Q3944.77 712.803 3939.42 706.93 Q3934.08 701.056 3925.33 701.056 Q3916.58 701.056 3911.19 706.97 Q3905.84 712.844 3905.84 722.526 Q3905.84 730.708 3909.85 737.433 Q3913.9 744.157 3921.11 748.087 L3921.11 755.297 L3896.81 755.297 L3896.81 748.087 L3909.73 748.087 Q3903.33 742.456 3900.37 736.42 Q3897.46 730.384 3897.46 722.931 Q3897.46 710.049 3905.23 702.069 Q3912.97 694.088 3925.33 694.088 Q3937.6 694.088 3945.42 702.069 Q3953.2 710.008 3953.2 722.526 Q3953.2 730.384 3950.32 736.38 Q3947.44 742.375 3940.92 748.087 L3953.89 748.087 Z\" fill=\"#000000\" fill-rule=\"nonzero\" fill-opacity=\"1\" /><path clip-path=\"url(#clip380)\" d=\"M3982.77 692.346 Q3977.34 701.663 3974.71 710.778 Q3972.07 719.893 3972.07 729.25 Q3972.07 738.608 3974.71 747.803 Q3977.38 756.958 3982.77 766.235 L3976.29 766.235 Q3970.21 756.715 3967.17 747.52 Q3964.17 738.324 3964.17 729.25 Q3964.17 720.217 3967.17 711.062 Q3970.17 701.907 3976.29 692.346 L3982.77 692.346 Z\" fill=\"#000000\" fill-rule=\"nonzero\" fill-opacity=\"1\" /><path clip-path=\"url(#clip380)\" d=\"M4004.6 697.045 L4004.6 709.927 L4019.96 709.927 L4019.96 715.72 L4004.6 715.72 L4004.6 740.35 Q4004.6 745.899 4006.1 747.479 Q4007.64 749.059 4012.3 749.059 L4019.96 749.059 L4019.96 755.297 L4012.3 755.297 Q4003.67 755.297 4000.39 752.097 Q3997.11 748.857 3997.11 740.35 L3997.11 715.72 L3991.64 715.72 L3991.64 709.927 L3997.11 709.927 L3997.11 697.045 L4004.6 697.045 Z\" fill=\"#000000\" fill-rule=\"nonzero\" fill-opacity=\"1\" /><path clip-path=\"url(#clip380)\" d=\"M4028.58 692.346 L4035.07 692.346 Q4041.14 701.907 4044.14 711.062 Q4047.18 720.217 4047.18 729.25 Q4047.18 738.324 4044.14 747.52 Q4041.14 756.715 4035.07 766.235 L4028.58 766.235 Q4033.97 756.958 4036.6 747.803 Q4039.28 738.608 4039.28 729.25 Q4039.28 719.893 4036.6 710.778 Q4033.97 701.663 4028.58 692.346 Z\" fill=\"#000000\" fill-rule=\"nonzero\" fill-opacity=\"1\" /><path clip-path=\"url(#clip380)\" d=\"M4079.54 692.265 L4079.54 766.235 L4062.37 766.235 L4062.37 760.442 L4072.05 760.442 L4072.05 698.058 L4062.37 698.058 L4062.37 692.265 L4079.54 692.265 Z\" fill=\"#000000\" fill-rule=\"nonzero\" fill-opacity=\"1\" /><polyline clip-path=\"url(#clip380)\" style=\"stroke:#e26f46; stroke-linecap:round; stroke-linejoin:round; stroke-width:7; stroke-opacity:1; fill:none\" stroke-dasharray=\"28, 18\" points=\"3570.21,815.777 3736.44,815.777 \"/>\n<circle clip-path=\"url(#clip380)\" cx=\"3653.32\" cy=\"815.777\" r=\"13.1924\" fill=\"#e26f46\" fill-rule=\"evenodd\" fill-opacity=\"1\" stroke=\"#000000\" stroke-opacity=\"1\" stroke-width=\"7.68\"/>\n<path clip-path=\"url(#clip380)\" d=\"M3792.82 817.661 Q3795.45 818.552 3797.93 821.469 Q3800.44 824.386 3802.95 829.49 L3811.25 846.017 L3802.46 846.017 L3794.73 830.502 Q3791.73 824.426 3788.89 822.441 Q3786.1 820.456 3781.24 820.456 L3772.32 820.456 L3772.32 846.017 L3764.14 846.017 L3764.14 785.537 L3782.61 785.537 Q3792.98 785.537 3798.09 789.872 Q3803.19 794.206 3803.19 802.956 Q3803.19 808.668 3800.52 812.435 Q3797.88 816.203 3792.82 817.661 M3772.32 792.262 L3772.32 813.732 L3782.61 813.732 Q3788.53 813.732 3791.52 811.018 Q3794.56 808.263 3794.56 802.956 Q3794.56 797.65 3791.52 794.976 Q3788.53 792.262 3782.61 792.262 L3772.32 792.262 Z\" fill=\"#000000\" fill-rule=\"nonzero\" fill-opacity=\"1\" /><path clip-path=\"url(#clip380)\" d=\"M3856.54 821.469 L3856.54 825.115 L3822.27 825.115 Q3822.76 832.812 3826.89 836.862 Q3831.06 840.873 3838.47 840.873 Q3842.77 840.873 3846.78 839.82 Q3850.83 838.766 3854.8 836.66 L3854.8 843.708 Q3850.79 845.41 3846.58 846.301 Q3842.36 847.192 3838.03 847.192 Q3827.17 847.192 3820.81 840.873 Q3814.49 834.553 3814.49 823.778 Q3814.49 812.638 3820.49 806.116 Q3826.52 799.554 3836.73 799.554 Q3845.89 799.554 3851.19 805.468 Q3856.54 811.342 3856.54 821.469 M3849.09 819.281 Q3849.01 813.165 3845.64 809.519 Q3842.32 805.873 3836.81 805.873 Q3830.58 805.873 3826.81 809.397 Q3823.08 812.922 3822.51 819.322 L3849.09 819.281 Z\" fill=\"#000000\" fill-rule=\"nonzero\" fill-opacity=\"1\" /><path clip-path=\"url(#clip380)\" d=\"M3868.09 782.985 L3885.26 782.985 L3885.26 788.778 L3875.54 788.778 L3875.54 851.162 L3885.26 851.162 L3885.26 856.955 L3868.09 856.955 L3868.09 782.985 Z\" fill=\"#000000\" fill-rule=\"nonzero\" fill-opacity=\"1\" /><path clip-path=\"url(#clip380)\" d=\"M3953.56 838.807 L3953.56 846.017 L3929.26 846.017 L3929.26 838.807 Q3936.43 834.877 3940.44 828.153 Q3944.45 821.428 3944.45 813.246 Q3944.45 803.523 3939.1 797.65 Q3933.75 791.776 3925 791.776 Q3916.25 791.776 3910.86 797.69 Q3905.52 803.564 3905.52 813.246 Q3905.52 821.428 3909.53 828.153 Q3913.58 834.877 3920.79 838.807 L3920.79 846.017 L3896.48 846.017 L3896.48 838.807 L3909.41 838.807 Q3903.01 833.176 3900.05 827.14 Q3897.13 821.104 3897.13 813.651 Q3897.13 800.769 3904.91 792.789 Q3912.65 784.808 3925 784.808 Q3937.28 784.808 3945.09 792.789 Q3952.87 800.728 3952.87 813.246 Q3952.87 821.104 3950 827.1 Q3947.12 833.095 3940.6 838.807 L3953.56 838.807 Z\" fill=\"#000000\" fill-rule=\"nonzero\" fill-opacity=\"1\" /><path clip-path=\"url(#clip380)\" d=\"M3982.44 783.066 Q3977.02 792.383 3974.38 801.498 Q3971.75 810.613 3971.75 819.97 Q3971.75 829.328 3974.38 838.523 Q3977.06 847.678 3982.44 856.955 L3975.96 856.955 Q3969.89 847.435 3966.85 838.24 Q3963.85 829.044 3963.85 819.97 Q3963.85 810.937 3966.85 801.782 Q3969.85 792.627 3975.96 783.066 L3982.44 783.066 Z\" fill=\"#000000\" fill-rule=\"nonzero\" fill-opacity=\"1\" /><path clip-path=\"url(#clip380)\" d=\"M4004.28 787.765 L4004.28 800.647 L4019.63 800.647 L4019.63 806.44 L4004.28 806.44 L4004.28 831.07 Q4004.28 836.619 4005.78 838.199 Q4007.32 839.779 4011.98 839.779 L4019.63 839.779 L4019.63 846.017 L4011.98 846.017 Q4003.35 846.017 4000.07 842.817 Q3996.78 839.577 3996.78 831.07 L3996.78 806.44 L3991.32 806.44 L3991.32 800.647 L3996.78 800.647 L3996.78 787.765 L4004.28 787.765 Z\" fill=\"#000000\" fill-rule=\"nonzero\" fill-opacity=\"1\" /><path clip-path=\"url(#clip380)\" d=\"M4028.26 783.066 L4034.74 783.066 Q4040.82 792.627 4043.82 801.782 Q4046.85 810.937 4046.85 819.97 Q4046.85 829.044 4043.82 838.24 Q4040.82 847.435 4034.74 856.955 L4028.26 856.955 Q4033.65 847.678 4036.28 838.523 Q4038.95 829.328 4038.95 819.97 Q4038.95 810.613 4036.28 801.498 Q4033.65 792.383 4028.26 783.066 Z\" fill=\"#000000\" fill-rule=\"nonzero\" fill-opacity=\"1\" /><path clip-path=\"url(#clip380)\" d=\"M4079.22 782.985 L4079.22 856.955 L4062.04 856.955 L4062.04 851.162 L4071.73 851.162 L4071.73 788.778 L4062.04 788.778 L4062.04 782.985 L4079.22 782.985 Z\" fill=\"#000000\" fill-rule=\"nonzero\" fill-opacity=\"1\" /></svg>\n"
     },
     "metadata": {},
     "output_type": "display_data"
    }
   ],
   "source": [
    "imaginary_part = plot([l for l in 0:T*d /50:T*d], imag(amps_c), label = \"Im[ϵ(t)]\", linestyle=:dash, marker = :circle, markersize=3, xlabel=\"Time[μs]\", ylabel=\"Pulse [MHz]\", fmt = :PDF, layout=2, subplot=1, size=(1500,300), margin=10mm,xtickfontsize=14,ytickfontsize=14,xguidefontsize=14,yguidefontsize=14,legendfontsize=14)\n",
    "real_part = plot!([l for l in 0:T*d /50:T*d], real(amps_c), label= \"Re[ϵ(t)]\", linestyle=:dash, marker = :circle, markersize=3, xlabel=\"Time[μs]\", ylabel=\"Pulse [MHz]\", fmt = :PDF, subplot=1)\n",
    "imaginary_part = plot!([l for l in 0:T*d /50:T*d], imag(amps_q), label = \"Im[Ω(t)]\", linestyle=:dash, marker = :circle, markersize=3, xlabel=\"Time[μs]\", ylabel=\"Pulse [MHz]\", fmt = :PDF, subplot=2, xtickfontsize=14,ytickfontsize=14,xguidefontsize=14,yguidefontsize=14,legendfontsize=14)\n",
    "real_part = plot!([l for l in 0:T*d /50:T*d], real(amps_q), label= \"Re[Ω(t)]\", linestyle=:dash, marker = :circle, markersize=3, xlabel=\"Time[μs]\", ylabel=\"Pulse [MHz]\", fmt = :PDF, subplot=2)\n",
    "#savefig(\"../../plots/pulse_optimisation/x7photons_100timesteps_100ns_1dote-2Infidelity.pdf\")"
   ]
  },
  {
   "cell_type": "code",
   "execution_count": null,
   "metadata": {},
   "outputs": [],
   "source": [
    "g(x) = cost_from_0_dispersive_gate(H_drift, sp, sm, a, adag, T, T / (50), x, RZ, ω_c, ω_q, 1, 1)"
   ]
  },
  {
   "cell_type": "code",
   "execution_count": null,
   "metadata": {},
   "outputs": [],
   "source": [
    "res_reseding = Optim.optimize(g,optimised_coeffs[1:18] , LBFGS(), Optim.Options(show_trace=true, show_every=50))"
   ]
  },
  {
   "cell_type": "code",
   "execution_count": null,
   "metadata": {},
   "outputs": [],
   "source": [
    "optimised_coeffs_2 = Optim.minimizer(res_reseding)"
   ]
  },
  {
   "cell_type": "code",
   "execution_count": null,
   "metadata": {},
   "outputs": [],
   "source": [
    "coeffs_cavity = optimised_coeffs_2[1:9]\n",
    "coeffs_qubit = optimised_coeffs_2[10:end]"
   ]
  },
  {
   "cell_type": "code",
   "execution_count": null,
   "metadata": {},
   "outputs": [],
   "source": [
    "amplitude_c(t) = chebyshev_amplitude(coeffs_cavity, T, t)\n",
    "amplitude_q(t) = chebyshev_amplitude(coeffs_qubit, T, t)\n",
    "\n",
    "amps_c = [amplitude_c(l) for l in 0:T/50:T]\n",
    "amps_q = [amplitude_q(l)  for l in 0:T/50:T]"
   ]
  },
  {
   "cell_type": "code",
   "execution_count": null,
   "metadata": {},
   "outputs": [],
   "source": [
    "imaginary_part = plot([l for l in 0:T /50:T], imag(amps_c), label = \"Im[ϵ(t)]\", linestyle=:dash, marker = :circle, markersize=3, xlabel=\"Time[ns]\", ylabel=\"Pulse [GHz]\", fmt = :PDF, layout=2, subplot=1, size=(800,300), margin=5mm)\n",
    "real_part = plot!([l for l in 0:T /50:T], real(amps_c), label= \"Re[ϵ(t)]\", linestyle=:dash, marker = :circle, markersize=3, xlabel=\"Time[ns]\", ylabel=\"Pulse [GHz]\", fmt = :PDF, subplot=1)\n",
    "imaginary_part = plot!([l for l in 0:T /50:T], imag(amps_q), label = \"Im[Ω(t)]\", linestyle=:dash, marker = :circle, markersize=3, xlabel=\"Time[ns]\", ylabel=\"Pulse [GHz]\", fmt = :PDF, subplot=2)\n",
    "real_part = plot!([l for l in 0:T /50:T], real(amps_q), label= \"Re[Ω(t)]\", linestyle=:dash, marker = :circle, markersize=3, xlabel=\"Time[ns]\", ylabel=\"Pulse [GHz]\", fmt = :PDF, subplot=2)\n"
   ]
  },
  {
   "cell_type": "code",
   "execution_count": null,
   "metadata": {},
   "outputs": [],
   "source": [
    "g(x) = cost_from_0_dispersive_gate(H_drift, sp, sm, a, adag, T*2, T*2 / (200), x, RZ, ω_c, ω_q, 1, 1)"
   ]
  },
  {
   "cell_type": "code",
   "execution_count": null,
   "metadata": {},
   "outputs": [],
   "source": [
    "res_reseding_2 = Optim.optimize(g,optimised_coeffs_2 , LBFGS(), Optim.Options(show_trace=true, show_every=10))"
   ]
  },
  {
   "cell_type": "code",
   "execution_count": null,
   "metadata": {},
   "outputs": [],
   "source": [
    "optimised_coeffs_3 = Optim.minimizer(res_reseding_2)\n",
    "res_reseding_2_bis = Optim.optimize(g,optimised_coeffs_3 , LBFGS(), Optim.Options(show_trace=true, show_every=10))"
   ]
  },
  {
   "cell_type": "code",
   "execution_count": null,
   "metadata": {},
   "outputs": [],
   "source": [
    "coeffs_cavity = optimised_coeffs_3[1:7]\n",
    "coeffs_qubit = optimised_coeffs_3[8:end]\n",
    "amplitude_c(t) = chebyshev_amplitude(coeffs_cavity, T*2, t)\n",
    "amplitude_q(t) = chebyshev_amplitude(coeffs_qubit, T*2, t)\n",
    "\n",
    "amps_c = [amplitude_c(l) for l in 0:T*2/(200):T*2]\n",
    "amps_q = [amplitude_q(l)  for l in 0:T*2/(200):T*2]"
   ]
  },
  {
   "cell_type": "code",
   "execution_count": null,
   "metadata": {},
   "outputs": [],
   "source": [
    "imaginary_part = plot([l for l in 0:T*2 / (200):T*2], imag(amps_c), label = \"Im[ϵ(t)]\", linestyle=:dash, marker = :circle, markersize=3, xlabel=\"Time[ns]\", ylabel=\"Pulse [GHz]\", fmt = :PDF, layout=2, subplot=1, size=(800,300), margin=5mm)\n",
    "real_part = plot!([l for l in 0:T*2 / (200):T*2], real(amps_c), label= \"Re[ϵ(t)]\", linestyle=:dash, marker = :circle, markersize=3, xlabel=\"Time[ns]\", ylabel=\"Pulse [GHz]\", fmt = :PDF, subplot=1)\n",
    "imaginary_part = plot!([l for l in 0:T*2 / (200):T*2], imag(amps_q), label = \"Im[Ω(t)]\", linestyle=:dash, marker = :circle, markersize=3, xlabel=\"Time[ns]\", ylabel=\"Pulse [GHz]\", fmt = :PDF, subplot=2)\n",
    "real_part = plot!([l for l in 0:T*2 / (200):T*2], real(amps_q), label= \"Re[Ω(t)]\", linestyle=:dash, marker = :circle, markersize=3, xlabel=\"Time[ns]\", ylabel=\"Pulse [GHz]\", fmt = :PDF, subplot=2)"
   ]
  },
  {
   "cell_type": "code",
   "execution_count": null,
   "metadata": {},
   "outputs": [],
   "source": [
    "optimised_coeffs_3_bis = Optim.minimizer(res_reseding_2_bis)\n",
    "coeffs_cavity = optimised_coeffs_3_bis[1:7]\n",
    "coeffs_qubit = optimised_coeffs_3_bis[8:end]\n",
    "amplitude_c(t) = chebyshev_amplitude(coeffs_cavity, T*2, t)\n",
    "amplitude_q(t) = chebyshev_amplitude(coeffs_qubit, T*2, t)\n",
    "\n",
    "amps_c = [amplitude_c(l) for l in 0:T*2/(200):T*2]\n",
    "amps_q = [amplitude_q(l)  for l in 0:T*2/(200):T*2]\n",
    "\n",
    "imaginary_part = plot([l for l in 0:T*2 / (200):T*2], imag(amps_c), label = \"Im[ϵ(t)]\", linestyle=:dash, marker = :circle, markersize=3, xlabel=\"Time[ns]\", ylabel=\"Pulse [GHz]\", fmt = :PDF, layout=2, subplot=1, size=(800,300), margin=5mm)\n",
    "real_part = plot!([l for l in 0:T*2 / (200):T*2], real(amps_c), label= \"Re[ϵ(t)]\", linestyle=:dash, marker = :circle, markersize=3, xlabel=\"Time[ns]\", ylabel=\"Pulse [GHz]\", fmt = :PDF, subplot=1)\n",
    "imaginary_part = plot!([l for l in 0:T*2 / (200):T*2], imag(amps_q), label = \"Im[Ω(t)]\", linestyle=:dash, marker = :circle, markersize=3, xlabel=\"Time[ns]\", ylabel=\"Pulse [GHz]\", fmt = :PDF, subplot=2)\n",
    "real_part = plot!([l for l in 0:T*2 / (200):T*2], real(amps_q), label= \"Re[Ω(t)]\", linestyle=:dash, marker = :circle, markersize=3, xlabel=\"Time[ns]\", ylabel=\"Pulse [GHz]\", fmt = :PDF, subplot=2)"
   ]
  },
  {
   "cell_type": "code",
   "execution_count": null,
   "metadata": {},
   "outputs": [],
   "source": [
    "optimised_coeffs_3_bis = Optim.minimizer(res_reseding_2_bis)"
   ]
  },
  {
   "cell_type": "code",
   "execution_count": null,
   "metadata": {},
   "outputs": [],
   "source": []
  }
 ],
 "metadata": {
  "kernelspec": {
   "display_name": "Julia 1.9.1",
   "language": "julia",
   "name": "julia-1.9"
  },
  "language_info": {
   "file_extension": ".jl",
   "mimetype": "application/julia",
   "name": "julia",
   "version": "1.9.1"
  },
  "orig_nbformat": 4
 },
 "nbformat": 4,
 "nbformat_minor": 2
}
