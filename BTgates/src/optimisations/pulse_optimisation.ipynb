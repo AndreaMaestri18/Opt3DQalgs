{
 "cells": [
  {
   "cell_type": "code",
   "execution_count": null,
   "metadata": {},
   "outputs": [],
   "source": [
    "include(\"../Algebra/Gradients.jl\")\n",
    "include(\"../Algebra/Hamiltonians.jl\")\n",
    "include(\"../Algebra/Matrices.jl\")\n",
    "include(\"../Algebra/Propagators.jl\")\n",
    "include(\"../Amplitudes/Chebyshev.jl\")\n",
    "include(\"../Costs/Costs.jl\")\n",
    "include(\"../Gates/Xgate.jl\")"
   ]
  },
  {
   "cell_type": "code",
   "execution_count": null,
   "metadata": {},
   "outputs": [],
   "source": [
    "using LinearAlgebra, Optim, Measures, CSV, DataFrames,Plots"
   ]
  },
  {
   "cell_type": "code",
   "execution_count": null,
   "metadata": {},
   "outputs": [],
   "source": [
    "ω_c = 5000\n",
    "ω_q = 3000\n",
    "χ = 3e-1\n",
    "N = 6\n",
    "amp_c = 1\n",
    "amp_q = 1\n",
    "T = 0.5"
   ]
  },
  {
   "attachments": {},
   "cell_type": "markdown",
   "metadata": {},
   "source": [
    "### Target gate"
   ]
  },
  {
   "cell_type": "code",
   "execution_count": null,
   "metadata": {},
   "outputs": [],
   "source": [
    "I_qubit = Matrix(I,2,2)\n",
    "I_cavity = Matrix(I,N,N)\n",
    "#X_gate = kron(x_gate(N, Array[[3,4], [5,6], [7,8]]), I_qubit)\n",
    "#X_gate = kron(x_gate(N, Array[[1,2]]), I_qubit)\n",
    "X_gate = kron(x_gate(N, Array[[3,4]]), I_qubit)\n",
    "\n",
    "θ = π/2.5\n",
    "RZ = kron(Rz(N, Array[[1,3]], θ), I_qubit)\n",
    "RX = kron(Rx(N, Array[[3,4]], θ/2), I_qubit)\n",
    "\n",
    "sx = kron(I_cavity, [0 1; 1 0])\n",
    "sy = kron(I_cavity, [0 -1im; 1im 0])\n",
    "# generating matrices\n",
    "a,adag,sp,sm,sz = generate_matrices(N)\n",
    "\n",
    "ψ_initial = zeros(N)\n",
    "ψ_initial[1] = 1\n",
    "ψ_initial = kron(ψ_initial/norm(ψ_initial), [0,1])\n",
    "\n",
    "interaction_transformation(t) = cis(- (ω_c * a' * a + ω_q / 2 * sz) * t)\n",
    "int_transformation = interaction_transformation(T)"
   ]
  },
  {
   "cell_type": "code",
   "execution_count": null,
   "metadata": {},
   "outputs": [],
   "source": [
    "H_drift = χ * adag * a * sz / 2 #+ ω_c * adag * a + ω_q * sz / 2"
   ]
  },
  {
   "cell_type": "code",
   "execution_count": null,
   "metadata": {},
   "outputs": [],
   "source": [
    "function cost_from_0_dispersive(H_drift, sp, sm, a, adag, T, δt, coefficients, unitary, ω_c, ω_q, initial_state, final_state, amp_q=1e-1, amp_c=1e-1)\n",
    "\n",
    "    # initialising the propagator\n",
    "    dim = size(H_drift,1)\n",
    "    propagator = Matrix{ComplexF64}(I,dim,dim)\n",
    "    amplitude_c(t) = chebyshev_amplitude(coefficients[1:Int(length(coefficients)/2)], T, t)\n",
    "    amplitude_q(t) = chebyshev_amplitude(coefficients[Int(length(coefficients)/2) + 1:end], T, t)\n",
    "\n",
    "    # time ordered product of the single exponential matrices\n",
    "    # is this true at all? or we need more time steps aniway?\n",
    "    for l in 0:δt:T\n",
    "        H = H_drift + amp_q * (amplitude_q(l) * sp + amplitude_q(l)' * sm) + amp_c * (amplitude_c(l) * a +  amplitude_c(l)' * adag)\n",
    "        infinitesimal_propagator  = cis(- H * δt)\n",
    "        propagator = infinitesimal_propagator * propagator\n",
    "    end\n",
    "\n",
    "    c = final_state' * propagator * initial_state\n",
    "   \n",
    "    return 1 - norm(c)^2\n",
    "end\n",
    "\n",
    "function cost_from_0_dispersive_gate(H_drift, sp, sm, a, adag, T, δt, coefficients, unitary, ω_c, ω_q, amp_q, amp_c)\n",
    "\n",
    "    # initialising the propagator\n",
    "    dim = size(H_drift,1)\n",
    "    propagator = Matrix{ComplexF64}(I,dim,dim)\n",
    "    amplitude_c(t) = chebyshev_amplitude(coefficients[1:Int(length(coefficients)/2)], T, t)\n",
    "    amplitude_q(t) = chebyshev_amplitude(coefficients[Int(length(coefficients)/2) + 1:end], T, t)\n",
    "\n",
    "    # time ordered product of the single exponential matrices\n",
    "    # is this true at all? or we need more time steps aniway?\n",
    "    for l in 0:δt:T\n",
    "        H = H_drift + amp_q * (amplitude_q(l) * sp + amplitude_q(l)' * sm) + amp_c * (amplitude_c(l) * a +  amplitude_c(l)' * adag)\n",
    "        infinitesimal_propagator  = cis(- H * δt)\n",
    "        propagator = infinitesimal_propagator * propagator\n",
    "    end\n",
    "\n",
    "    c = tr(unitary' * int_transformation * propagator)/dim\n",
    "   \n",
    "    return 1 - norm(c)^2\n",
    "end\n",
    "\n",
    "function cost_from_0_dispersive_gate_non_interaction(H_drift, sp, sm, a, adag, T, δt, coefficients, unitary, ω_c, ω_q, amp_q, amp_c)\n",
    "\n",
    "    # initialising the propagator\n",
    "    dim = size(H_drift,1)\n",
    "    propagator = Matrix{ComplexF64}(I,dim,dim)\n",
    "    amplitude_c(t) = chebyshev_amplitude(coefficients[1:Int(length(coefficients)/2)], T, t)\n",
    "    amplitude_q(t) = chebyshev_amplitude(coefficients[Int(length(coefficients)/2) + 1:end], T, t)\n",
    "\n",
    "    # time ordered product of the single exponential matrices\n",
    "    # is this true at all? or we need more time steps aniway?\n",
    "    for l in 0:δt:T\n",
    "        H = H_drift + amp_q * (amplitude_q(l) * sp + amplitude_q(l)' * sm) + amp_c * (amplitude_c(l) * a +  amplitude_c(l)' * adag)\n",
    "        infinitesimal_propagator  = cis(- H * δt)\n",
    "        propagator = infinitesimal_propagator * propagator\n",
    "    end\n",
    "\n",
    "    c = tr(unitary' * propagator)/dim\n",
    "   \n",
    "    return 1 - norm(c)^2\n",
    "end\n",
    "\n",
    "function propagator(H_drift, sp, sm, a, adag, T, δt, coefficients)\n",
    "\n",
    "    # initialising the propagator\n",
    "    dim = size(H_drift,1)\n",
    "    propagator = Matrix{ComplexF64}(I,dim,dim)\n",
    "\n",
    "    amplitude_c = [ChebyshevT(coefficients[1:Int(length(coefficients)/2)])((2t - T)/T) for t in 0:δt:T]\n",
    "    amplitude_q = [ChebyshevT(coefficients[Int(length(coefficients)/2) + 1:end])((2t - T)/T) for t in 0:δt:T]\n",
    "\n",
    "\n",
    "    # time ordered product of the single exponential matrices\n",
    "    # is this true at all? or we need more time steps aniway?\n",
    "    for n in 1:1:Int(T/δt)+1\n",
    "        H = H_drift + (amplitude_q(n) * sp + amplitude_q(n)' * sm) + (amplitude_c(n) * a + amplitude_c(n)' * adag)\n",
    "        infinitesimal_propagator  = cis(- H * δt)\n",
    "        propagator = infinitesimal_propagator * propagator\n",
    "    end\n",
    "\n",
    "    return propagator * exp(-1im*angle(propagator[8, 8]))\n",
    "    \n",
    "end\n",
    "\n",
    "function gradient(coefficients, unitary, N, h, cost_before_increment,cost)\n",
    "\n",
    "    L = length(coefficients)\n",
    "    gradient = zeros(L)\n",
    "\n",
    "    for i in 1:L\n",
    "        coeffs_copy = copy(coefficients)\n",
    "        coeffs_copy[i] = coefficients[i] + h\n",
    "        gradient[i] = (cost(coeffs_copy) - cost_before_increment) / h\n",
    "    end\n",
    "\n",
    "    return gradient\n",
    "\n",
    "end"
   ]
  },
  {
   "cell_type": "code",
   "execution_count": null,
   "metadata": {},
   "outputs": [],
   "source": [
    "snap(x) = kron(Diagonal(exp.(-1im.*x)),I_qubit)\n",
    "snap_params = rand(N) * 2 * pi .- pi\n",
    "SNAP_GATE = snap(snap_params)"
   ]
  },
  {
   "cell_type": "code",
   "execution_count": null,
   "metadata": {},
   "outputs": [],
   "source": [
    "f(x) = cost_from_0_dispersive(H_drift, sp, sm, a, adag, T, T / (10 * 3) , x, X_gate, ω_c, ω_q, ψ_initial, ψ_final_x)\n",
    "g(x) = cost_from_0_dispersive_gate_non_interaction(H_drift, sp, sm, a, adag, T, T/50, x, X_gate, ω_c, ω_q, 1, 1)\n",
    "r(x) = cost_from_0_dispersive_gate(H_drift, sp, sm, a, adag, T, T/50, x, RX, ω_c, ω_q, 1, 1)\n",
    "s(x) = cost_from_0_dispersive_gate(H_drift, sp, sm, a, adag, T, T/50, x, SNAP_GATE, ω_c, ω_q, 1, 1)"
   ]
  },
  {
   "cell_type": "code",
   "execution_count": null,
   "metadata": {},
   "outputs": [],
   "source": [
    "for i in 1:1\n",
    "    println(\"iteration number: \", i )\n",
    "    rand_coeffs_20 = rand(16)*2 .-1 + (rand(16)*2im .-1im)\n",
    "    res_LBFGS = Optim.optimize(g, rand_coeffs_20 , LBFGS(), Optim.Options(show_trace=true, show_every=5, iterations=100))\n",
    "    println(Optim.minimizer(res_LBFGS))\n",
    "    println(Optim.minimum(res_LBFGS))\n",
    "    rand_coeffs_20 = zeros(4) + (zeros(4)*im)\n",
    "    res_LBFGS = Optim.optimize(g, [Optim.minimizer(res_LBFGS)[1:8]...,rand_coeffs_20...,Optim.minimizer(res_LBFGS)[9:end]...,rand_coeffs_20...] , LBFGS(), Optim.Options(show_trace=true, show_every=5,iterations=200))\n",
    "    println(Optim.minimizer(res_LBFGS))\n",
    "    println(Optim.minimum(res_LBFGS))\n",
    "    res_LBFGS = Optim.optimize(g, [Optim.minimizer(res_LBFGS)[1:12]...,rand_coeffs_20...,Optim.minimizer(res_LBFGS)[13:end]...,rand_coeffs_20...] , LBFGS(), Optim.Options(show_trace=true, show_every=5,iterations=200))\n",
    "    println(Optim.minimizer(res_LBFGS))\n",
    "    println(Optim.minimum(res_LBFGS))\n",
    "    res_LBFGS = Optim.optimize(g, [Optim.minimizer(res_LBFGS)[1:16]...,rand_coeffs_20...,Optim.minimizer(res_LBFGS)[17:end]...,rand_coeffs_20...] , LBFGS(), Optim.Options(show_trace=true, show_every=5,iterations=200))\n",
    "    println(Optim.minimizer(res_LBFGS))\n",
    "    println(Optim.minimum(res_LBFGS))\n",
    "    res_LBFGS = Optim.optimize(g, [Optim.minimizer(res_LBFGS)[1:20]...,rand_coeffs_20...,Optim.minimizer(res_LBFGS)[21:end]...,rand_coeffs_20...] , LBFGS(), Optim.Options(show_trace=true, show_every=5,iterations=300))\n",
    "    println(Optim.minimizer(res_LBFGS))\n",
    "    println(Optim.minimum(res_LBFGS))\n",
    "end"
   ]
  },
  {
   "cell_type": "code",
   "execution_count": null,
   "metadata": {},
   "outputs": [],
   "source": [
    "snap_params = rand(N) * 2 * pi .- pi\n",
    "SNAP_GATE = snap(snap_params)\n",
    "x(x) = cost_from_0_dispersive_gate(H_drift, sp, sm, a, adag, T, T/50, x, SNAP_GATE, ω_c, ω_q, 10, 10)\n",
    "println(rand(N) * 2 * pi .- pi)\n",
    "\n",
    "it_costs_x = []\n",
    "coefficients_x = []\n",
    "it_costs_snap = []\n",
    "coefficients_snap = []\n",
    "it_costs_rx = []\n",
    "coefficients_rx = []\n",
    "for iteration in 1:15\n",
    "    coefficients = rand(48)*2 .-1 + (rand(48)*2im .-1im)\n",
    "    println(\" iterations :\", iteration)\n",
    "    res_x = Optim.optimize(x, coefficients , LBFGS())\n",
    "    # res_rx = Optim.optimize(r, coefficients , LBFGS(), Optim.Options(iterations=1000))\n",
    "    # res_snap = Optim.optimize(s, coefficients , LBFGS(), Optim.Options(iterations=1000))\n",
    "    push!(it_costs_x,Optim.minimum(res_x))\n",
    "    # push!(it_costs_rx,Optim.minimum(res_rx))\n",
    "    # push!(it_costs_snap,Optim.minimum(res_snap))\n",
    "    push!(coefficients_x,Optim.minimizer(res_x))\n",
    "    # push!(coefficients_rx,Optim.minimizer(res_rx))\n",
    "    # push!(coefficients_snap,Optim.minimizer(res_snap))\n",
    "end"
   ]
  },
  {
   "cell_type": "code",
   "execution_count": null,
   "metadata": {},
   "outputs": [],
   "source": [
    "df_x = DataFrame(fidelity=it_costs_x, coefficients=coefficients_x)\n",
    "# df_rx = DataFrame(fidelity=it_costs_rx, coefficients=coefficients_rx)\n",
    "# df_snap = DataFrame(fidelity=it_costs_snap, coefficients=coefficients_snap)\n",
    "CSV.write(\"../../data/snap_gate_100ns_50steps_1.txt\", df_x)\n",
    "# CSV.write(\"../../data/rx_gate_100ns_50steps.txt\", df_rx)\n",
    "# CSV.write(\"../../data/snap_gate_100ns_50steps.txt\", df_snap)"
   ]
  },
  {
   "cell_type": "code",
   "execution_count": null,
   "metadata": {},
   "outputs": [],
   "source": [
    "snap_params = rand(N) * 2 * pi .- pi\n",
    "SNAP_GATE = snap(snap_params)\n",
    "x(x) = cost_from_0_dispersive_gate(H_drift, sp, sm, a, adag, T, T/50, x, SNAP_GATE, ω_c, ω_q, 10, 10)\n",
    "println(rand(N) * 2 * pi .- pi)\n",
    "\n",
    "it_costs_x = []\n",
    "coefficients_x = []\n",
    "it_costs_snap = []\n",
    "coefficients_snap = []\n",
    "it_costs_rx = []\n",
    "coefficients_rx = []\n",
    "for iteration in 1:15\n",
    "    coefficients = rand(48)*2 .-1 + (rand(48)*2im .-1im)\n",
    "    println(\" iterations :\", iteration)\n",
    "    res_x = Optim.optimize(x, coefficients , LBFGS())\n",
    "    # res_rx = Optim.optimize(r, coefficients , LBFGS(), Optim.Options(iterations=1000))\n",
    "    # res_snap = Optim.optimize(s, coefficients , LBFGS(), Optim.Options(iterations=1000))\n",
    "    push!(it_costs_x,Optim.minimum(res_x))\n",
    "    # push!(it_costs_rx,Optim.minimum(res_rx))\n",
    "    # push!(it_costs_snap,Optim.minimum(res_snap))\n",
    "    push!(coefficients_x,Optim.minimizer(res_x))\n",
    "    # push!(coefficients_rx,Optim.minimizer(res_rx))\n",
    "    # push!(coefficients_snap,Optim.minimizer(res_snap))\n",
    "end\n",
    "\n",
    "df_x = DataFrame(fidelity=it_costs_x, coefficients=coefficients_x)\n",
    "# df_rx = DataFrame(fidelity=it_costs_rx, coefficients=coefficients_rx)\n",
    "# df_snap = DataFrame(fidelity=it_costs_snap, coefficients=coefficients_snap)\n",
    "CSV.write(\"../../data/snap_gate_100ns_50steps_2.txt\", df_x)\n",
    "# CSV.write(\"../../data/rx_gate_100ns_50steps.txt\", df_rx)\n",
    "# CSV.write(\"../../data/snap_gate_100ns_50steps.txt\", df_snap)"
   ]
  },
  {
   "cell_type": "code",
   "execution_count": null,
   "metadata": {},
   "outputs": [],
   "source": [
    "optimised_coeffs = coefficients_x[1]\n",
    "println(optimised_coeffs)"
   ]
  },
  {
   "cell_type": "code",
   "execution_count": null,
   "metadata": {},
   "outputs": [],
   "source": [
    "coeffs_cavity = optimised_coeffs[1:25]\n",
    "coeffs_qubit = optimised_coeffs[26:end]"
   ]
  },
  {
   "cell_type": "code",
   "execution_count": null,
   "metadata": {},
   "outputs": [],
   "source": [
    "d=1\n",
    "amplitude_c(t) = chebyshev_amplitude(coeffs_cavity, T*d, t)\n",
    "amplitude_q(t) = chebyshev_amplitude(coeffs_qubit, T*d, t)\n",
    "\n",
    "amps_c = [amplitude_c(l)*10/d for l in 0:T*d/(50):T*d]\n",
    "amps_q = [amplitude_q(l)*10/d for l in 0:T*d/(50):T*d]"
   ]
  },
  {
   "cell_type": "code",
   "execution_count": null,
   "metadata": {},
   "outputs": [],
   "source": [
    "# plt2to6 = plot(1:1:8, costs_2to6, label=\"2 -> 6\", linestyle=:dash, marker = :circle, yaxis=:log, legend=:bottomleft, xlim=(0.5,8.5), xlabel=\"Circuit depth\", ylabel=\"Pulse [GHz]\", yticks=exp10.(range(-16, stop=0, length=17)))\n",
    "# plt0to4 = plot!(1:1:8, costs_0to4, label=\"0 -> 4\", linestyle=:dash, marker = :circle, )\n",
    "# pltSuperposition = plot!(1:1:8, costs_superposition, label=\"0 -> superposition\", linestyle=:dash, marker = :circle )\n",
    "# plt0to7 = plot!(1:1:8, costs, label=\"0 -> 7\", linestyle=:dash, marker = :circle, fmt = :jpeg)\n"
   ]
  },
  {
   "cell_type": "code",
   "execution_count": null,
   "metadata": {},
   "outputs": [],
   "source": [
    "imaginary_part = plot([l for l in 0:T*d /50:T*d], imag(amps_c), label = \"Im[ϵ(t)]\", linestyle=:dash, marker = :circle, markersize=3, xlabel=\"Time[μs]\", ylabel=\"Pulse [MHz]\", fmt = :PDF, layout=2, subplot=1, size=(1500,300), margin=10mm,xtickfontsize=14,ytickfontsize=14,xguidefontsize=14,yguidefontsize=14,legendfontsize=14)\n",
    "real_part = plot!([l for l in 0:T*d /50:T*d], real(amps_c), label= \"Re[ϵ(t)]\", linestyle=:dash, marker = :circle, markersize=3, xlabel=\"Time[μs]\", ylabel=\"Pulse [MHz]\", fmt = :PDF, subplot=1)\n",
    "imaginary_part = plot!([l for l in 0:T*d /50:T*d], imag(amps_q), label = \"Im[Ω(t)]\", linestyle=:dash, marker = :circle, markersize=3, xlabel=\"Time[μs]\", ylabel=\"Pulse [MHz]\", fmt = :PDF, subplot=2, xtickfontsize=14,ytickfontsize=14,xguidefontsize=14,yguidefontsize=14,legendfontsize=14)\n",
    "real_part = plot!([l for l in 0:T*d /50:T*d], real(amps_q), label= \"Re[Ω(t)]\", linestyle=:dash, marker = :circle, markersize=3, xlabel=\"Time[μs]\", ylabel=\"Pulse [MHz]\", fmt = :PDF, subplot=2)\n",
    "#savefig(\"../../plots/pulse_optimisation/x7photons_100timesteps_100ns_1dote-2Infidelity.pdf\")"
   ]
  },
  {
   "cell_type": "code",
   "execution_count": null,
   "metadata": {},
   "outputs": [],
   "source": [
    "g(x) = cost_from_0_dispersive_gate(H_drift, sp, sm, a, adag, T, T / (50), x, RZ, ω_c, ω_q, 1, 1)"
   ]
  },
  {
   "cell_type": "code",
   "execution_count": null,
   "metadata": {},
   "outputs": [],
   "source": [
    "res_reseding = Optim.optimize(g,optimised_coeffs[1:18] , LBFGS(), Optim.Options(show_trace=true, show_every=50))"
   ]
  },
  {
   "cell_type": "code",
   "execution_count": null,
   "metadata": {},
   "outputs": [],
   "source": [
    "optimised_coeffs_2 = Optim.minimizer(res_reseding)"
   ]
  },
  {
   "cell_type": "code",
   "execution_count": null,
   "metadata": {},
   "outputs": [],
   "source": [
    "coeffs_cavity = optimised_coeffs_2[1:9]\n",
    "coeffs_qubit = optimised_coeffs_2[10:end]"
   ]
  },
  {
   "cell_type": "code",
   "execution_count": null,
   "metadata": {},
   "outputs": [],
   "source": [
    "amplitude_c(t) = chebyshev_amplitude(coeffs_cavity, T, t)\n",
    "amplitude_q(t) = chebyshev_amplitude(coeffs_qubit, T, t)\n",
    "\n",
    "amps_c = [amplitude_c(l) for l in 0:T/50:T]\n",
    "amps_q = [amplitude_q(l)  for l in 0:T/50:T]"
   ]
  },
  {
   "cell_type": "code",
   "execution_count": null,
   "metadata": {},
   "outputs": [],
   "source": [
    "imaginary_part = plot([l for l in 0:T /50:T], imag(amps_c), label = \"Im[ϵ(t)]\", linestyle=:dash, marker = :circle, markersize=3, xlabel=\"Time[ns]\", ylabel=\"Pulse [GHz]\", fmt = :PDF, layout=2, subplot=1, size=(800,300), margin=5mm)\n",
    "real_part = plot!([l for l in 0:T /50:T], real(amps_c), label= \"Re[ϵ(t)]\", linestyle=:dash, marker = :circle, markersize=3, xlabel=\"Time[ns]\", ylabel=\"Pulse [GHz]\", fmt = :PDF, subplot=1)\n",
    "imaginary_part = plot!([l for l in 0:T /50:T], imag(amps_q), label = \"Im[Ω(t)]\", linestyle=:dash, marker = :circle, markersize=3, xlabel=\"Time[ns]\", ylabel=\"Pulse [GHz]\", fmt = :PDF, subplot=2)\n",
    "real_part = plot!([l for l in 0:T /50:T], real(amps_q), label= \"Re[Ω(t)]\", linestyle=:dash, marker = :circle, markersize=3, xlabel=\"Time[ns]\", ylabel=\"Pulse [GHz]\", fmt = :PDF, subplot=2)\n"
   ]
  },
  {
   "cell_type": "code",
   "execution_count": null,
   "metadata": {},
   "outputs": [],
   "source": [
    "g(x) = cost_from_0_dispersive_gate(H_drift, sp, sm, a, adag, T*2, T*2 / (200), x, RZ, ω_c, ω_q, 1, 1)"
   ]
  },
  {
   "cell_type": "code",
   "execution_count": null,
   "metadata": {},
   "outputs": [],
   "source": [
    "res_reseding_2 = Optim.optimize(g,optimised_coeffs_2 , LBFGS(), Optim.Options(show_trace=true, show_every=10))"
   ]
  },
  {
   "cell_type": "code",
   "execution_count": null,
   "metadata": {},
   "outputs": [],
   "source": [
    "optimised_coeffs_3 = Optim.minimizer(res_reseding_2)\n",
    "res_reseding_2_bis = Optim.optimize(g,optimised_coeffs_3 , LBFGS(), Optim.Options(show_trace=true, show_every=10))"
   ]
  },
  {
   "cell_type": "code",
   "execution_count": null,
   "metadata": {},
   "outputs": [],
   "source": [
    "coeffs_cavity = optimised_coeffs_3[1:7]\n",
    "coeffs_qubit = optimised_coeffs_3[8:end]\n",
    "amplitude_c(t) = chebyshev_amplitude(coeffs_cavity, T*2, t)\n",
    "amplitude_q(t) = chebyshev_amplitude(coeffs_qubit, T*2, t)\n",
    "\n",
    "amps_c = [amplitude_c(l) for l in 0:T*2/(200):T*2]\n",
    "amps_q = [amplitude_q(l)  for l in 0:T*2/(200):T*2]"
   ]
  },
  {
   "cell_type": "code",
   "execution_count": null,
   "metadata": {},
   "outputs": [],
   "source": [
    "imaginary_part = plot([l for l in 0:T*2 / (200):T*2], imag(amps_c), label = \"Im[ϵ(t)]\", linestyle=:dash, marker = :circle, markersize=3, xlabel=\"Time[ns]\", ylabel=\"Pulse [GHz]\", fmt = :PDF, layout=2, subplot=1, size=(800,300), margin=5mm)\n",
    "real_part = plot!([l for l in 0:T*2 / (200):T*2], real(amps_c), label= \"Re[ϵ(t)]\", linestyle=:dash, marker = :circle, markersize=3, xlabel=\"Time[ns]\", ylabel=\"Pulse [GHz]\", fmt = :PDF, subplot=1)\n",
    "imaginary_part = plot!([l for l in 0:T*2 / (200):T*2], imag(amps_q), label = \"Im[Ω(t)]\", linestyle=:dash, marker = :circle, markersize=3, xlabel=\"Time[ns]\", ylabel=\"Pulse [GHz]\", fmt = :PDF, subplot=2)\n",
    "real_part = plot!([l for l in 0:T*2 / (200):T*2], real(amps_q), label= \"Re[Ω(t)]\", linestyle=:dash, marker = :circle, markersize=3, xlabel=\"Time[ns]\", ylabel=\"Pulse [GHz]\", fmt = :PDF, subplot=2)"
   ]
  },
  {
   "cell_type": "code",
   "execution_count": null,
   "metadata": {},
   "outputs": [],
   "source": [
    "optimised_coeffs_3_bis = Optim.minimizer(res_reseding_2_bis)\n",
    "coeffs_cavity = optimised_coeffs_3_bis[1:7]\n",
    "coeffs_qubit = optimised_coeffs_3_bis[8:end]\n",
    "amplitude_c(t) = chebyshev_amplitude(coeffs_cavity, T*2, t)\n",
    "amplitude_q(t) = chebyshev_amplitude(coeffs_qubit, T*2, t)\n",
    "\n",
    "amps_c = [amplitude_c(l) for l in 0:T*2/(200):T*2]\n",
    "amps_q = [amplitude_q(l)  for l in 0:T*2/(200):T*2]\n",
    "\n",
    "imaginary_part = plot([l for l in 0:T*2 / (200):T*2], imag(amps_c), label = \"Im[ϵ(t)]\", linestyle=:dash, marker = :circle, markersize=3, xlabel=\"Time[ns]\", ylabel=\"Pulse [GHz]\", fmt = :PDF, layout=2, subplot=1, size=(800,300), margin=5mm)\n",
    "real_part = plot!([l for l in 0:T*2 / (200):T*2], real(amps_c), label= \"Re[ϵ(t)]\", linestyle=:dash, marker = :circle, markersize=3, xlabel=\"Time[ns]\", ylabel=\"Pulse [GHz]\", fmt = :PDF, subplot=1)\n",
    "imaginary_part = plot!([l for l in 0:T*2 / (200):T*2], imag(amps_q), label = \"Im[Ω(t)]\", linestyle=:dash, marker = :circle, markersize=3, xlabel=\"Time[ns]\", ylabel=\"Pulse [GHz]\", fmt = :PDF, subplot=2)\n",
    "real_part = plot!([l for l in 0:T*2 / (200):T*2], real(amps_q), label= \"Re[Ω(t)]\", linestyle=:dash, marker = :circle, markersize=3, xlabel=\"Time[ns]\", ylabel=\"Pulse [GHz]\", fmt = :PDF, subplot=2)"
   ]
  },
  {
   "cell_type": "code",
   "execution_count": null,
   "metadata": {},
   "outputs": [],
   "source": [
    "optimised_coeffs_3_bis = Optim.minimizer(res_reseding_2_bis)"
   ]
  },
  {
   "cell_type": "code",
   "execution_count": null,
   "metadata": {},
   "outputs": [],
   "source": []
  }
 ],
 "metadata": {
  "kernelspec": {
   "display_name": "Julia 1.8.4",
   "language": "julia",
   "name": "julia-1.8"
  },
  "language_info": {
   "file_extension": ".jl",
   "mimetype": "application/julia",
   "name": "julia",
   "version": "1.8.4"
  },
  "orig_nbformat": 4
 },
 "nbformat": 4,
 "nbformat_minor": 2
}
