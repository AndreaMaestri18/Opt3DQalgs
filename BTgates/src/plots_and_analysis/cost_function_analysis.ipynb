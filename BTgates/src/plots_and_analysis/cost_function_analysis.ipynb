{
 "cells": [
  {
   "cell_type": "code",
   "execution_count": 56,
   "metadata": {},
   "outputs": [],
   "source": [
    "using Plots\n",
    "using Measures\n",
    "using StatsPlots\n",
    "using HypothesisTests"
   ]
  },
  {
   "attachments": {},
   "cell_type": "markdown",
   "metadata": {},
   "source": [
    "# 7 photons"
   ]
  },
  {
   "attachments": {},
   "cell_type": "markdown",
   "metadata": {},
   "source": [
    "## X gate 3 switches"
   ]
  },
  {
   "attachments": {},
   "cell_type": "markdown",
   "metadata": {},
   "source": [
    "#### 3 blocks"
   ]
  },
  {
   "cell_type": "code",
   "execution_count": 57,
   "metadata": {},
   "outputs": [
    {
     "data": {
      "text/plain": [
       "20-element Vector{Float64}:\n",
       " 0.04751990062546152\n",
       " 0.24390614550943968\n",
       " 0.21486635733729964\n",
       " 0.31102120147376744\n",
       " 0.2773360400077306\n",
       " 0.23751201459169768\n",
       " 0.2660607741389187\n",
       " 0.16298691784623742\n",
       " 0.19974358292837668\n",
       " 0.1726956565696225\n",
       " 0.04866346828046364\n",
       " 0.35098057546335204\n",
       " 0.1726956565696245\n",
       " 0.2561259567859163\n",
       " 0.12794703528316276\n",
       " 0.17459497836205984\n",
       " 0.2912474378992421\n",
       " 0.10188151823735836\n",
       " 0.04785183022426498\n",
       " 0.3099815446496941"
      ]
     },
     "metadata": {},
     "output_type": "display_data"
    }
   ],
   "source": [
    "op_norm_equivalent = [0.20640696444255535, 0.24627738209154482, 0.6807389174885908, 0.8584378293109993, 0.4285729355588844, 0.4171568534569223, 0.6389511541256271, 0.42446616030641593, 0.42922241465235367, 0.0959603462145937, 0.6424548603075502, 0.6407811259281022, 0.0882932194288032, 0.3806079055291355, 0.8268432077443374, 0.5402322467763562, 0.506736323328148, 0.5835997989860771, 0.15123402659184126, 0.17608625091692254]\n",
    "vec_norm_equivalent = [0.10930845135516276, 0.40101313608951583, 0.38599855226959356, 0.1567342922192062, 0.23452932206006138, 0.03622177526224735, 0.35731096962680187, 0.335939270332978, 0.27701733855474153, 0.01564820349133267, 0.2561259567859153, 0.1343445538577439, 0.988571450917717, 0.17459497836205784, 0.3047129994425005, 0.22927338106663153, 0.13178782160030056, 0.14824826075313258, 0.27372709349311575, 0.17269565656962294]\n",
    "tr_norm = [0.04751990062546152, 0.24390614550943968, 0.21486635733729964, 0.31102120147376744, 0.2773360400077306, 0.23751201459169768, 0.2660607741389187, 0.16298691784623742, 0.19974358292837668, 0.1726956565696225, 0.04866346828046364, 0.35098057546335204, 0.1726956565696245, 0.2561259567859163, 0.12794703528316276, 0.17459497836205984, 0.2912474378992421, 0.10188151823735836, 0.04785183022426498, 0.3099815446496941]"
   ]
  },
  {
   "cell_type": "code",
   "execution_count": 58,
   "metadata": {},
   "outputs": [
    {
     "data": {
      "text/plain": [
       "20×3 Matrix{Float64}:\n",
       " 0.0475199  0.206407   0.109308\n",
       " 0.243906   0.246277   0.401013\n",
       " 0.214866   0.680739   0.385999\n",
       " 0.311021   0.858438   0.156734\n",
       " 0.277336   0.428573   0.234529\n",
       " 0.237512   0.417157   0.0362218\n",
       " 0.266061   0.638951   0.357311\n",
       " 0.162987   0.424466   0.335939\n",
       " 0.199744   0.429222   0.277017\n",
       " 0.172696   0.0959603  0.0156482\n",
       " 0.0486635  0.642455   0.256126\n",
       " 0.350981   0.640781   0.134345\n",
       " 0.172696   0.0882932  0.988571\n",
       " 0.256126   0.380608   0.174595\n",
       " 0.127947   0.826843   0.304713\n",
       " 0.174595   0.540232   0.229273\n",
       " 0.291247   0.506736   0.131788\n",
       " 0.101882   0.5836     0.148248\n",
       " 0.0478518  0.151234   0.273727\n",
       " 0.309982   0.176086   0.172696"
      ]
     },
     "metadata": {},
     "output_type": "display_data"
    }
   ],
   "source": [
    "y = hcat([tr_norm, op_norm_equivalent, vec_norm_equivalent]...)"
   ]
  },
  {
   "cell_type": "code",
   "execution_count": 59,
   "metadata": {},
   "outputs": [
    {
     "data": {
      "text/plain": [
       "Two sample t-test (unequal variance)\n",
       "------------------------------------\n",
       "Population details:\n",
       "    parameter of interest:   Mean difference\n",
       "    value under h_0:         0\n",
       "    point estimate:          -0.0554092\n",
       "    95% confidence interval: (-0.158, 0.04721)\n",
       "\n",
       "Test summary:\n",
       "    outcome with 95% confidence: fail to reject h_0\n",
       "    two-sided p-value:           0.2774\n",
       "\n",
       "Details:\n",
       "    number of observations:   [20,20]\n",
       "    t-statistic:              -1.1089993264379965\n",
       "    degrees of freedom:       26.415708010361048\n",
       "    empirical standard error: 0.049963279729216555\n"
      ]
     },
     "metadata": {},
     "output_type": "display_data"
    }
   ],
   "source": [
    "UnequalVarianceTTest(tr_norm, vec_norm_equivalent)"
   ]
  },
  {
   "cell_type": "code",
   "execution_count": 60,
   "metadata": {},
   "outputs": [
    {
     "data": {
      "text/plain": [
       "\"/Users/andreamaestri/Desktop/Thesis_julia/BTgates/plots/cost_functions_plots/X_3blocks.pdf\""
      ]
     },
     "metadata": {},
     "output_type": "display_data"
    }
   ],
   "source": [
    "boxplot([\"Trace\" \"|Op|->Trace\" \"|V|->Trace\"], y, legend = false,fmt = :PDF,xtickfontsize=18,ytickfontsize=18)\n",
    "savefig(\"../../plots/cost_functions_plots/X_3blocks.pdf\")"
   ]
  },
  {
   "attachments": {},
   "cell_type": "markdown",
   "metadata": {},
   "source": [
    "## RX 2 blocks"
   ]
  },
  {
   "cell_type": "code",
   "execution_count": 61,
   "metadata": {},
   "outputs": [
    {
     "data": {
      "text/plain": [
       "20-element Vector{Float64}:\n",
       " 0.011643175234516079\n",
       " 0.011298758034020806\n",
       " 0.007754067380949303\n",
       " 0.011666132053635314\n",
       " 0.0006743357006093742\n",
       " 0.0065629863329758065\n",
       " 0.010645753731079566\n",
       " 0.0006743357006100403\n",
       " 0.013338800281949892\n",
       " 0.0006743357006098183\n",
       " 0.0006743357006093742\n",
       " 0.010674048255761792\n",
       " 0.0006743357006089301\n",
       " 0.000674335700608486\n",
       " 0.0060673625468110615\n",
       " 0.010899145744486138\n",
       " 0.0006743357006093742\n",
       " 0.0006743357006100403\n",
       " 0.0006743357006095962\n",
       " 0.0006743357006089301"
      ]
     },
     "metadata": {},
     "output_type": "display_data"
    }
   ],
   "source": [
    "op_norm_equivalent = [0.07776537765491087, 0.07347255626903981, 0.08538408521052976, 0.06754646386849417, 0.07133887960328267, 0.09040462396753479, 0.07161646209258343, 0.08864155572354249, 0.075505160939637, 0.07316212170191294, 0.08322675196888796, 0.08105959316806777, 0.08249032808126566, 0.06965625054148228, 0.08856841581459096, 0.08009475077947259, 0.09192015964542288, 0.08358184452827677, 0.07221739804729399, 0.07359721872051173]\n",
    "vec_norm_equivalent = [0.07659148612805722, 0.06403283543134752, 0.06403283550258632, 0.07465472724141264, 0.08998746051904971, 0.07516274288244629, 0.055132754435018305, 0.07659148626229284, 0.07516274285128377, 0.07516274281948365, 0.06114342187630206, 0.07659148617927691, 0.07498266468840575, 0.07569136646529961, 0.06403283534265136, 0.06328761249732129, 0.08998746047106876, 0.0700521253694073, 0.06746081822273464, 0.07598198715471238]\n",
    "tr_norm = [0.011643175234516079, 0.011298758034020806, 0.007754067380949303, 0.011666132053635314, 0.0006743357006093742, 0.0065629863329758065, 0.010645753731079566, 0.0006743357006100403, 0.013338800281949892, 0.0006743357006098183, 0.0006743357006093742, 0.010674048255761792, 0.0006743357006089301, 0.000674335700608486, 0.0060673625468110615, 0.010899145744486138, 0.0006743357006093742, 0.0006743357006100403, 0.0006743357006095962, 0.0006743357006089301]"
   ]
  },
  {
   "cell_type": "code",
   "execution_count": 62,
   "metadata": {},
   "outputs": [
    {
     "data": {
      "text/plain": [
       "20×3 Matrix{Float64}:\n",
       " 0.0116432    0.0777654  0.0765915\n",
       " 0.0112988    0.0734726  0.0640328\n",
       " 0.00775407   0.0853841  0.0640328\n",
       " 0.0116661    0.0675465  0.0746547\n",
       " 0.000674336  0.0713389  0.0899875\n",
       " 0.00656299   0.0904046  0.0751627\n",
       " 0.0106458    0.0716165  0.0551328\n",
       " 0.000674336  0.0886416  0.0765915\n",
       " 0.0133388    0.0755052  0.0751627\n",
       " 0.000674336  0.0731621  0.0751627\n",
       " 0.000674336  0.0832268  0.0611434\n",
       " 0.010674     0.0810596  0.0765915\n",
       " 0.000674336  0.0824903  0.0749827\n",
       " 0.000674336  0.0696563  0.0756914\n",
       " 0.00606736   0.0885684  0.0640328\n",
       " 0.0108991    0.0800948  0.0632876\n",
       " 0.000674336  0.0919202  0.0899875\n",
       " 0.000674336  0.0835818  0.0700521\n",
       " 0.000674336  0.0722174  0.0674608\n",
       " 0.000674336  0.0735972  0.075982"
      ]
     },
     "metadata": {},
     "output_type": "display_data"
    }
   ],
   "source": [
    "y = hcat([tr_norm, op_norm_equivalent, vec_norm_equivalent]...)"
   ]
  },
  {
   "cell_type": "code",
   "execution_count": 63,
   "metadata": {},
   "outputs": [
    {
     "data": {
      "text/plain": [
       "Two sample t-test (unequal variance)\n",
       "------------------------------------\n",
       "Population details:\n",
       "    parameter of interest:   Mean difference\n",
       "    value under h_0:         0\n",
       "    point estimate:          -0.0669215\n",
       "    95% confidence interval: (-0.07157, -0.06227)\n",
       "\n",
       "Test summary:\n",
       "    outcome with 95% confidence: reject h_0\n",
       "    two-sided p-value:           <1e-23\n",
       "\n",
       "Details:\n",
       "    number of observations:   [20,20]\n",
       "    t-statistic:              -29.395335152503424\n",
       "    degrees of freedom:       30.397329971126236\n",
       "    empirical standard error: 0.0022766027310015084\n"
      ]
     },
     "metadata": {},
     "output_type": "display_data"
    }
   ],
   "source": [
    "UnequalVarianceTTest(tr_norm, vec_norm_equivalent)"
   ]
  },
  {
   "cell_type": "code",
   "execution_count": 64,
   "metadata": {},
   "outputs": [
    {
     "data": {
      "text/plain": [
       "\"/Users/andreamaestri/Desktop/Thesis_julia/BTgates/plots/cost_functions_plots/RX_2blocks.pdf\""
      ]
     },
     "metadata": {},
     "output_type": "display_data"
    }
   ],
   "source": [
    "boxplot([\"Trace\" \"|Op|->Trace\" \"|V|->Trace\"], y, legend = false ,fmt = :PDF,xtickfontsize=18,ytickfontsize=18)\n",
    "savefig(\"../../plots/cost_functions_plots/RX_2blocks.pdf\")"
   ]
  },
  {
   "attachments": {},
   "cell_type": "markdown",
   "metadata": {},
   "source": [
    "# 3 photons"
   ]
  },
  {
   "attachments": {},
   "cell_type": "markdown",
   "metadata": {},
   "source": [
    "## Pulse optimisation 100 ns 50 steps"
   ]
  },
  {
   "cell_type": "code",
   "execution_count": 65,
   "metadata": {},
   "outputs": [
    {
     "data": {
      "text/plain": [
       "\"/Users/andreamaestri/Desktop/Thesis_julia/BTgates/plots/cost_functions_plots/PulseOptimisationRX.pdf\""
      ]
     },
     "metadata": {},
     "output_type": "display_data"
    }
   ],
   "source": [
    "vec_norm_equivalent = [0.9987617668561951, 0.11838335259391664, 0.3686293662251542, 0.9994096296017161, 0.04174621943340728, 0.04174621943340728, 0.5008616616743952, 0.0009306147132249754, 0.013993106851183934, 0.1784400483307278, 0.05516897821012101, 0.9971524367350693, 0.9983529619572019, 0.014647336396673705, 0.06374007627885292, 0.73350977498103, 0.160631596030972, 0.06996320085147445, 0.9967369994224394, 0.42600903274731683]\n",
    "tr_norm = [1.076721e-01, 4.864848e-02, 4.943350e-03, 7.986395e-04, 5.934535e-04,  3.150513e-04, 9.752138e-01, 1.040888e-03, 3.389522e-04, 4.061898e-01,  1.880302e-01, 3.453106e-01, 5.807472e-01, 2.289745e-04, 1.221310e-02, 1.444250e-01, 7.784199e-03, 3.626695e-04, 6.725200e-01, 4.246463e-01]\n",
    "y = hcat([vec_norm_equivalent, tr_norm]...)\n",
    "boxplot([\"|V|->Trace\" \"Trace\"], y, legend = false ,fmt = :PDF,xtickfontsize=18,ytickfontsize=18)\n",
    "savefig(\"../../plots/cost_functions_plots/PulseOptimisationRX.pdf\")"
   ]
  },
  {
   "cell_type": "code",
   "execution_count": 66,
   "metadata": {},
   "outputs": [
    {
     "data": {
      "text/plain": [
       "Two sample t-test (unequal variance)\n",
       "------------------------------------\n",
       "Population details:\n",
       "    parameter of interest:   Mean difference\n",
       "    value under h_0:         0\n",
       "    point estimate:          -0.19284\n",
       "    95% confidence interval: (-0.4178, 0.03215)\n",
       "\n",
       "Test summary:\n",
       "    outcome with 95% confidence: fail to reject h_0\n",
       "    two-sided p-value:           0.0906\n",
       "\n",
       "Details:\n",
       "    number of observations:   [20,20]\n",
       "    t-statistic:              -1.742204196057024\n",
       "    degrees of freedom:       33.79270788269459\n",
       "    empirical standard error: 0.11068712928579821\n"
      ]
     },
     "metadata": {},
     "output_type": "display_data"
    }
   ],
   "source": [
    "UnequalVarianceTTest(tr_norm, vec_norm_equivalent)"
   ]
  },
  {
   "cell_type": "code",
   "execution_count": 67,
   "metadata": {},
   "outputs": [],
   "source": []
  }
 ],
 "metadata": {
  "kernelspec": {
   "display_name": "Julia 1.8.4",
   "language": "julia",
   "name": "julia-1.8"
  },
  "language_info": {
   "file_extension": ".jl",
   "mimetype": "application/julia",
   "name": "julia",
   "version": "1.8.4"
  },
  "orig_nbformat": 4
 },
 "nbformat": 4,
 "nbformat_minor": 2
}
