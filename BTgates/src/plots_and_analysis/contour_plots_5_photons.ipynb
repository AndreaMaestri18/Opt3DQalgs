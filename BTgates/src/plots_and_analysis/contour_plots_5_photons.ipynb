{
 "cells": [
  {
   "cell_type": "code",
   "execution_count": 4,
   "metadata": {},
   "outputs": [],
   "source": [
    "using Plots; pythonplot()\n",
    "using CSV, DataFrames, LinearAlgebra"
   ]
  },
  {
   "attachments": {},
   "cell_type": "markdown",
   "metadata": {},
   "source": [
    "# X gate 5 photons"
   ]
  },
  {
   "cell_type": "code",
   "execution_count": 5,
   "metadata": {},
   "outputs": [
    {
     "data": {
      "text/plain": [
       "5-element Vector{Int64}:\n",
       " 1\n",
       " 2\n",
       " 3\n",
       " 4\n",
       " 5"
      ]
     },
     "metadata": {},
     "output_type": "display_data"
    }
   ],
   "source": [
    "X_gate_ecd = DataFrame(CSV.File(\"../../data/X_gate/5_photons/ECD/(3,4).txt\"))\n",
    "X_gate_snap = DataFrame(CSV.File(\"../../data/X_gate/5_photons/SNAP_Disp/(3,4).txt\"))\n",
    "\n",
    "infidelities_ecd = [norm(minimum(eachrow(val).fidelity)) for val in groupby(X_gate_ecd, \"blocks\")]\n",
    "blocks_ecd = [minimum(eachrow(val).blocks) for val in groupby(X_gate_ecd, \"blocks\")]\n",
    "\n",
    "infidelities_snap_disp = [norm(minimum(eachrow(val).fidelity)) for val in groupby(X_gate_snap, \"blocks\")]\n",
    "blocks_snap_disp = [minimum(eachrow(val).blocks) for val in groupby(X_gate_snap, \"blocks\")]"
   ]
  },
  {
   "attachments": {},
   "cell_type": "markdown",
   "metadata": {},
   "source": [
    "## SNAP & DISP"
   ]
  },
  {
   "cell_type": "code",
   "execution_count": 8,
   "metadata": {},
   "outputs": [
    {
     "data": {
      "text/plain": [
       "\"/Users/andreamaestri/Desktop/Thesis_julia/Opt3DQalgs/BTgates/plots/contour_plots/5_photons_X_contourplot_snapdisp.pdf\""
      ]
     },
     "metadata": {},
     "output_type": "display_data"
    }
   ],
   "source": [
    "n_gates = [1:10000]\n",
    "\n",
    "z = []\n",
    "for idx in 1:length(blocks_snap_disp)\n",
    "    z_column = []\n",
    "    for col in 1:1:10000\n",
    "        z_i_col = ((1-infidelities_snap_disp[idx])^(col))\n",
    "        push!(z_column,z_i_col)\n",
    "    end\n",
    "    push!(z,z_column)\n",
    "end\n",
    "\n",
    "z_matrix = (hcat(z...))\n",
    "contour(blocks_snap_disp, n_gates, z_matrix, levels=50, fill=true, color=:turbo, cbar=true, clabels=false,xlabel=\"Number of Blocks\", ylabel=\"Number of Gates\", zlabel=\"Infidelity\",lw=2, fmt = :PDF,formatter = :plain, xtickfontsize=14,ztickfontsize=14,ytickfontsize=14,xguidefontsize=16,yguidefontsize=16,legendfontsize=14, colorbar_tickfontsize=14, colorbar_titlefontsize=16, colorbar_title=\"Fidelity\")\n",
    "n_gates = [10/(i*1e-3) for i in blocks_snap_disp]\n",
    "Labels = \"T1 = 10 ms\"\n",
    "plot!(blocks_snap_disp, n_gates, label=Labels, marker = :diamond,  linestyle=:dash,)\n",
    "savefig(\"../../plots/contour_plots/5_photons_X_contourplot_snapdisp.pdf\")"
   ]
  },
  {
   "attachments": {},
   "cell_type": "markdown",
   "metadata": {},
   "source": [
    "## ECD"
   ]
  },
  {
   "cell_type": "code",
   "execution_count": 9,
   "metadata": {},
   "outputs": [
    {
     "name": "stderr",
     "output_type": "stream",
     "text": [
      "sys:1: UserWarning: The following kwargs were not used by contour: 'label'\n",
      "sys:1: UserWarning: No data for colormapping provided via 'c'. Parameters 'vmin', 'vmax' will be ignored\n"
     ]
    },
    {
     "data": {
      "text/plain": [
       "\"/Users/andreamaestri/Desktop/Thesis_julia/Opt3DQalgs/BTgates/plots/contour_plots/5_photons_X_contourplot_ECD.pdf\""
      ]
     },
     "metadata": {},
     "output_type": "display_data"
    }
   ],
   "source": [
    "n_gates = [1:3250]\n",
    "\n",
    "z = []\n",
    "for idx in 1:length(blocks_ecd)\n",
    "    z_column = []\n",
    "    for col in 1:3250\n",
    "        z_i_col = (1-infidelities_ecd[idx])^col\n",
    "        push!(z_column,z_i_col)\n",
    "    end\n",
    "    push!(z,z_column)\n",
    "end\n",
    "\n",
    "z_matrix = hcat(z...)\n",
    "contour(blocks_ecd, n_gates, z_matrix, levels=50, fill=true, cbar=true,  color=:turbo, clabels=false,xlabel=\"Number of Blocks\", ylabel=\"Number of Gates\", zlabel=\"Infidelity\",lw=2, fmt = :PDF,formatter = :plain,xtickfontsize=14,ztickfontsize=14,ytickfontsize=14,xguidefontsize=16,yguidefontsize=16,legendfontsize=14, colorbar_tickfontsize=14, colorbar_titlefontsize=16, colorbar_title=\"Fidelity\")\n",
    "n_gates = [10/(i*2e-4) for i in blocks_ecd]\n",
    "Labels = \"T1 = 10 ms\"\n",
    "plot!(blocks_ecd, n_gates, label=Labels, marker = :diamond,  linestyle=:dash,)\n",
    "savefig(\"../../plots/contour_plots/5_photons_X_contourplot_ECD.pdf\")"
   ]
  },
  {
   "attachments": {},
   "cell_type": "markdown",
   "metadata": {},
   "source": [
    "# Rx gate"
   ]
  },
  {
   "cell_type": "code",
   "execution_count": 10,
   "metadata": {},
   "outputs": [
    {
     "data": {
      "text/plain": [
       "4-element Vector{Float64}:\n",
       " 0.0030404279508758902\n",
       " 0.0009781804678474781\n",
       " 0.00040572631488222655\n",
       " 7.749784743638077e-5"
      ]
     },
     "metadata": {},
     "output_type": "display_data"
    }
   ],
   "source": [
    "X_gate_ecd = DataFrame(CSV.File(\"../../data/R_X/5_photons/ECD/pi_over_10.txt\"))\n",
    "X_gate_snap = DataFrame(CSV.File(\"../../data/R_X/5_photons/SNAP_Disp/pi_over_10.txt\"))\n",
    "\n",
    "infidelities_ecd = [norm(minimum(eachrow(val).fidelity)) for val in groupby(X_gate_ecd, \"blocks\")]\n",
    "blocks_ecd = [minimum(eachrow(val).blocks) for val in groupby(X_gate_ecd, \"blocks\")]\n",
    "\n",
    "infidelities_snap_disp = [norm(minimum(eachrow(val).fidelity)) for val in groupby(X_gate_snap, \"blocks\")]\n",
    "blocks_snap_disp = [minimum(eachrow(val).blocks) for val in groupby(X_gate_snap, \"blocks\")]\n",
    "\n",
    "infidelities_ecd"
   ]
  },
  {
   "attachments": {},
   "cell_type": "markdown",
   "metadata": {},
   "source": [
    "## SNAP & DISP"
   ]
  },
  {
   "cell_type": "code",
   "execution_count": 12,
   "metadata": {},
   "outputs": [
    {
     "data": {
      "text/plain": [
       "\"/Users/andreamaestri/Desktop/Thesis_julia/Opt3DQalgs/BTgates/plots/contour_plots/5_photons_RX_contourplot_snapdisp.pdf\""
      ]
     },
     "metadata": {},
     "output_type": "display_data"
    }
   ],
   "source": [
    "n_gates = [1:10000]\n",
    "\n",
    "z = []\n",
    "for idx in 1:1:length(blocks_snap_disp)\n",
    "    z_column = []\n",
    "    for col in 1:1:10000\n",
    "        z_i_col = (1-infidelities_snap_disp[idx])^col\n",
    "        push!(z_column,z_i_col)\n",
    "    end\n",
    "    push!(z,z_column)\n",
    "end\n",
    "\n",
    "z_matrix = hcat(z...)\n",
    "contour(blocks_snap_disp, n_gates, z_matrix, levels=50, fill=true, cbar=true, colour=:turbo, clabels=false,xlabel=\"Number of Blocks\", ylabel=\"Number of Gates\", zlabel=\"Infidelity\",lw=4,  fmt = :PDF,formatter = :plain, xtickfontsize=14,ztickfontsize=14,ytickfontsize=14,xguidefontsize=16,yguidefontsize=16,legendfontsize=14, colorbar_tickfontsize=14, colorbar_titlefontsize=16, colorbar_title=\"Fidelity\")\n",
    "n_gates = [10/(i*1e-3) for i in blocks_snap_disp]\n",
    "Labels = \"T1 = 10 ms\"\n",
    "plot!(blocks_snap_disp, n_gates, label=Labels, marker = :diamond, linestyle=:dash)\n",
    "savefig(\"../../plots/contour_plots/5_photons_RX_contourplot_snapdisp.pdf\")"
   ]
  },
  {
   "cell_type": "code",
   "execution_count": 14,
   "metadata": {},
   "outputs": [
    {
     "data": {
      "text/plain": [
       "\"/Users/andreamaestri/Desktop/Thesis_julia/Opt3DQalgs/BTgates/plots/contour_plots/5_photons_RX_contourplot_ECD.pdf\""
      ]
     },
     "metadata": {},
     "output_type": "display_data"
    }
   ],
   "source": [
    "n_gates = [1:2800]\n",
    "\n",
    "z = []\n",
    "for idx in 1:1:length(blocks_ecd)\n",
    "    z_column = []\n",
    "    for col in 1:1:2800\n",
    "        z_i_col = (1-infidelities_ecd[idx])^col\n",
    "        push!(z_column,z_i_col)\n",
    "    end\n",
    "    push!(z,z_column)\n",
    "end\n",
    "\n",
    "z_matrix = hcat(z...)\n",
    "contour(blocks_ecd, n_gates, z_matrix, levels=50, colour=:turbo, fill=true, cbar=true, clabels=false,xlabel=\"Number of Blocks\", ylabel=\"Number of Gates\", zlabel=\"Infidelity\",lw=2 , fmt = :PDF,formatter = :plain, xtickfontsize=14,ztickfontsize=14,ytickfontsize=14,xguidefontsize=16,yguidefontsize=16,legendfontsize=14, colorbar_tickfontsize=14, colorbar_titlefontsize=16, colorbar_title=\"Fidelity\")\n",
    "n_gates = [10/(i*2e-4) for i in blocks_ecd]\n",
    "Labels = \"T1 = 10 ms\"\n",
    "plot!(blocks_ecd, n_gates, label=Labels, marker = :diamond,  linestyle=:dash)\n",
    "savefig(\"../../plots/contour_plots/5_photons_RX_contourplot_ECD.pdf\")"
   ]
  },
  {
   "cell_type": "code",
   "execution_count": null,
   "metadata": {},
   "outputs": [],
   "source": []
  }
 ],
 "metadata": {
  "kernelspec": {
   "display_name": "Julia 1.8.4",
   "language": "julia",
   "name": "julia-1.8"
  },
  "language_info": {
   "file_extension": ".jl",
   "mimetype": "application/julia",
   "name": "julia",
   "version": "1.8.4"
  },
  "orig_nbformat": 4
 },
 "nbformat": 4,
 "nbformat_minor": 2
}
