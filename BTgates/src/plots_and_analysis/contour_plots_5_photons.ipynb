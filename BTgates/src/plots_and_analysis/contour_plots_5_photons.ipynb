{
 "cells": [
  {
   "cell_type": "code",
   "execution_count": 2,
   "metadata": {},
   "outputs": [
    {
     "data": {
      "text/plain": [
       "Plots.PythonPlotBackend()"
      ]
     },
     "metadata": {},
     "output_type": "display_data"
    }
   ],
   "source": [
    "using Plots; pythonplot()"
   ]
  },
  {
   "attachments": {},
   "cell_type": "markdown",
   "metadata": {},
   "source": [
    "# X gate 5 photons"
   ]
  },
  {
   "attachments": {},
   "cell_type": "markdown",
   "metadata": {},
   "source": [
    "## SNAP & DISP"
   ]
  },
  {
   "cell_type": "code",
   "execution_count": 5,
   "metadata": {},
   "outputs": [
    {
     "data": {
      "text/plain": [
       "\"/Users/andreamaestri/Desktop/Thesis_julia/Opt3DQalgs/BTgates/plots/contour_plots/5_photons_X_contourplot_snapdisp.pdf\""
      ]
     },
     "metadata": {},
     "output_type": "display_data"
    }
   ],
   "source": [
    "infidelities_function_of_blocks = [0.10664835561662211 0.11766837704629518 0.007830284981915958 0.00024271372181228212 4.505113181285658e-6]\n",
    "n_blocks = [1:1:5]\n",
    "n_gates = [1:10000]\n",
    "\n",
    "z = []\n",
    "for idx in 1:1:5\n",
    "    z_column = []\n",
    "    for col in 1:1:10000\n",
    "        z_i_col = (1-infidelities_function_of_blocks[idx])^col\n",
    "        push!(z_column,z_i_col)\n",
    "    end\n",
    "    push!(z,z_column)\n",
    "end\n",
    "\n",
    "z_matrix = hcat(z...)\n",
    "contour(n_blocks, n_gates, z_matrix, levels=20, fill=true, cbar=true, clabels=false,xlabel=\"Number of Blocks\", ylabel=\"Number of Gates\", zlabel=\"Infidelity\",lw=2, fmt = :PDF,formatter = :plain, xtickfontsize=14,ztickfontsize=14,ytickfontsize=14,xguidefontsize=14,yguidefontsize=14,legendfontsize=14 )\n",
    "n_blocks = [1:1:5]\n",
    "n_gates = [10/(i*1e-3) for i in 1:5]\n",
    "Labels = \"T1 = 10 ms\"\n",
    "plot!(n_blocks, n_gates, label=Labels, marker = :diamond,  linestyle=:dash)\n",
    "savefig(\"../../plots/contour_plots/5_photons_X_contourplot_snapdisp.pdf\")"
   ]
  },
  {
   "attachments": {},
   "cell_type": "markdown",
   "metadata": {},
   "source": [
    "## ECD"
   ]
  },
  {
   "cell_type": "code",
   "execution_count": 6,
   "metadata": {},
   "outputs": [
    {
     "name": "stderr",
     "output_type": "stream",
     "text": [
      "sys:1: UserWarning: The following kwargs were not used by contour: 'label'\n",
      "sys:1: UserWarning: No data for colormapping provided via 'c'. Parameters 'vmin', 'vmax' will be ignored\n"
     ]
    },
    {
     "data": {
      "text/plain": [
       "\"/Users/andreamaestri/Desktop/Thesis_julia/Opt3DQalgs/BTgates/plots/contour_plots/5_photons_X_contourplot_ECD.pdf\""
      ]
     },
     "metadata": {},
     "output_type": "display_data"
    }
   ],
   "source": [
    "infidelities_function_of_blocks = [0.15410517503024002\n",
    "0.040570967146873915\n",
    "0.005469982875036861\n",
    "0.0003947768259915385\n",
    "5.164704440008272e-6]\n",
    "n_blocks = [18:6:42]\n",
    "n_gates = [1:5600]\n",
    "\n",
    "z = []\n",
    "for idx in 1:1:5\n",
    "    z_column = []\n",
    "    for col in 1:1:5600\n",
    "        z_i_col = (1-infidelities_function_of_blocks[idx])^col\n",
    "        push!(z_column,z_i_col)\n",
    "    end\n",
    "    push!(z,z_column)\n",
    "end\n",
    "\n",
    "z_matrix = hcat(z...)\n",
    "contour(n_blocks, n_gates, z_matrix, levels=20, fill=true, cbar=true, clabels=false,xlabel=\"Number of Blocks\", ylabel=\"Number of Gates\", zlabel=\"Infidelity\",lw=2, fmt = :PDF, formatter = :plain, xtickfontsize=14,ztickfontsize=14,ytickfontsize=14,xguidefontsize=14,yguidefontsize=14,legendfontsize=14)\n",
    "n_blocks = [18:6:42]\n",
    "n_gates = [10/(i*1e-4) for i in 18:6:42]\n",
    "Labels = \"T1 = 10 ms\"\n",
    "plot!(n_blocks, n_gates, label=Labels, marker = :diamond,  linestyle=:dash)\n",
    "savefig(\"../../plots/contour_plots/5_photons_X_contourplot_ECD.pdf\")"
   ]
  },
  {
   "attachments": {},
   "cell_type": "markdown",
   "metadata": {},
   "source": [
    "# Rx gate"
   ]
  },
  {
   "attachments": {},
   "cell_type": "markdown",
   "metadata": {},
   "source": [
    "## SNAP & DISP"
   ]
  },
  {
   "cell_type": "code",
   "execution_count": 7,
   "metadata": {},
   "outputs": [
    {
     "name": "stderr",
     "output_type": "stream",
     "text": [
      "sys:1: UserWarning: The following kwargs were not used by contour: 'label'\n",
      "sys:1: UserWarning: No data for colormapping provided via 'c'. Parameters 'vmin', 'vmax' will be ignored\n"
     ]
    },
    {
     "data": {
      "text/plain": [
       "\"/Users/andreamaestri/Desktop/Thesis_julia/Opt3DQalgs/BTgates/plots/contour_plots/5_photons_RX_contourplot_snapdisp.pdf\""
      ]
     },
     "metadata": {},
     "output_type": "display_data"
    }
   ],
   "source": [
    "infidelities_function_of_blocks = [0.016342210154941084 0.0009045296386439583 2.0793535127072715e-7]\n",
    "n_blocks = [1:1:3]\n",
    "n_gates = [1:10000]\n",
    "\n",
    "z = []\n",
    "for idx in 1:1:3\n",
    "    z_column = []\n",
    "    for col in 1:1:10000\n",
    "        z_i_col = (1-infidelities_function_of_blocks[idx])^col\n",
    "        push!(z_column,z_i_col)\n",
    "    end\n",
    "    push!(z,z_column)\n",
    "end\n",
    "\n",
    "z_matrix = hcat(z...)\n",
    "contour(n_blocks, n_gates, z_matrix, levels=20, fill=true, cbar=true, clabels=false,xlabel=\"Number of Blocks\", ylabel=\"Number of Gates\", zlabel=\"Infidelity\",lw=4,  fmt = :PDF,formatter = :plain, xtickfontsize=14,ztickfontsize=14,ytickfontsize=14,xguidefontsize=14,yguidefontsize=14,legendfontsize=14)\n",
    "n_blocks = [1:1:3]\n",
    "n_gates = [10/(i*1e-3) for i in 1:1:3]\n",
    "Labels = \"T1 = 10 ms\"\n",
    "plot!(n_blocks, n_gates, label=Labels, marker = :diamond, linestyle=:dash)\n",
    "savefig(\"../../plots/contour_plots/5_photons_RX_contourplot_snapdisp.pdf\")"
   ]
  },
  {
   "cell_type": "code",
   "execution_count": 8,
   "metadata": {},
   "outputs": [
    {
     "name": "stderr",
     "output_type": "stream",
     "text": [
      "sys:1: UserWarning: The following kwargs were not used by contour: 'label'\n",
      "sys:1: UserWarning: No data for colormapping provided via 'c'. Parameters 'vmin', 'vmax' will be ignored\n"
     ]
    },
    {
     "data": {
      "text/plain": [
       "\"/Users/andreamaestri/Desktop/Thesis_julia/Opt3DQalgs/BTgates/plots/contour_plots/5_photons_RX_contourplot_ECD.pdf\""
      ]
     },
     "metadata": {},
     "output_type": "display_data"
    }
   ],
   "source": [
    "infidelities_function_of_blocks = [0.010934774551768944\n",
    "0.006869776625714974\n",
    "0.0027873211803089992\n",
    "0.00029439594817570747\n",
    "4.004200739538e-6]\n",
    "n_blocks = [18:6:42]\n",
    "n_gates = [1:5600]\n",
    "\n",
    "z = []\n",
    "for idx in 1:1:5\n",
    "    z_column = []\n",
    "    for col in 1:1:5600\n",
    "        z_i_col = (1-infidelities_function_of_blocks[idx])^col\n",
    "        push!(z_column,z_i_col)\n",
    "    end\n",
    "    push!(z,z_column)\n",
    "end\n",
    "\n",
    "z_matrix = hcat(z...)\n",
    "contour(n_blocks, n_gates, z_matrix, levels=20, fill=true, cbar=true, clabels=false,xlabel=\"Number of Blocks\", ylabel=\"Number of Gates\", zlabel=\"Infidelity\",lw=2, fmt = :PDF,formatter = :plain, xtickfontsize=14,ztickfontsize=14,ytickfontsize=14,xguidefontsize=14,yguidefontsize=14,legendfontsize=14 )\n",
    "n_blocks = [18:6:42]\n",
    "n_gates = [10/(i*1e-4) for i in 18:6:42]\n",
    "Labels = \"T1 = 10 ms\"\n",
    "plot!(n_blocks, n_gates, label=Labels, marker = :diamond,  linestyle=:dash)\n",
    "savefig(\"../../plots/contour_plots/5_photons_RX_contourplot_ECD.pdf\")"
   ]
  },
  {
   "cell_type": "code",
   "execution_count": null,
   "metadata": {},
   "outputs": [],
   "source": []
  }
 ],
 "metadata": {
  "kernelspec": {
   "display_name": "Julia 1.8.4",
   "language": "julia",
   "name": "julia-1.8"
  },
  "language_info": {
   "file_extension": ".jl",
   "mimetype": "application/julia",
   "name": "julia",
   "version": "1.8.4"
  },
  "orig_nbformat": 4
 },
 "nbformat": 4,
 "nbformat_minor": 2
}
