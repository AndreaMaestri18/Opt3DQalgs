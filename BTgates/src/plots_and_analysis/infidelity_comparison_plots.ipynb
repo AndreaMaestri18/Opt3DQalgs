{
 "cells": [
  {
   "cell_type": "code",
   "execution_count": 1,
   "metadata": {},
   "outputs": [],
   "source": [
    "using Plots\n",
    "using Measures"
   ]
  },
  {
   "attachments": {},
   "cell_type": "markdown",
   "metadata": {},
   "source": [
    "# X_GATE 3 switches 7 photons"
   ]
  },
  {
   "cell_type": "code",
   "execution_count": 2,
   "metadata": {},
   "outputs": [
    {
     "data": {
      "text/plain": [
       "6-element Vector{Float64}:\n",
       " 0.05402521573127872\n",
       " 0.018382916741753852\n",
       " 0.006410312232681736\n",
       " 6.363257943697853e-6\n",
       " 7.40373094110236e-6\n",
       " 1.5857429203069984e-7"
      ]
     },
     "metadata": {},
     "output_type": "display_data"
    }
   ],
   "source": [
    "# 1 to 6\n",
    "infidelities_snap_disp = [\n",
    "    0.46651443231897505\t\n",
    "    0.17269565656962327\t\n",
    "    0.04751990062546152\t\n",
    "    0.0012056685687320545 \n",
    "    7.481634554706851e-5 \n",
    "    0.0001335802072114367]\n",
    "\n",
    "# 16 to 40\n",
    "infidelities_ecd = [\n",
    "    0.3391703408144481\n",
    "    0.23903992964534537\n",
    "    0.08994959727658447\n",
    "    0.06433382006020827\n",
    "    0.022273102536182976\n",
    "0.004010219481816346\n",
    "0.0004694727918465036\n",
    "]\n",
    "\n",
    "#0 to 1\n",
    "infidelities_state_snap_disp = [\n",
    "    0.036666303892263\n",
    "    1.5857429203069984e-9\n",
    "]\n",
    "\n",
    "# 4 to 9\n",
    "infidelities_state_ecd = [\n",
    "    0.05402521573127872\n",
    "    0.018382916741753852\n",
    "    0.006410312232681736\n",
    "    6.363257943697853e-6\n",
    "    7.40373094110236e-6\n",
    "    1.5857429203069984e-7\n",
    "]"
   ]
  },
  {
   "cell_type": "code",
   "execution_count": 5,
   "metadata": {},
   "outputs": [
    {
     "data": {
      "text/plain": [
       "\"/Users/andreamaestri/Desktop/Thesis_julia/BTgates/plots/blocksandtime_ecd_vs_snap_vs_PO/gateprep3X_7photons.pdf\""
      ]
     },
     "metadata": {},
     "output_type": "display_data"
    }
   ],
   "source": [
    "plot([i for i in 1:6],infidelities_snap_disp, label= \"SNAP & Disp\", linestyle=:dash, marker = :circle, xlabel=\"Blocks\", ylabel=\"Infidelity\", yaxis=:log, fmt = :PDF, yticks=exp10.(range(-16, stop=0, length=17)), legend=:bottomright, layout=2, subplot=1, size=(800,300), margin=5mm)\n",
    "plot!([i for i in 16:8:64],infidelities_ecd, label= \"ECD\", linestyle=:dash, marker = :circle, xlabel=\"Blocks\", ylabel=\"Infidelity\", yaxis=:log, fmt = :PDF, yticks=exp10.(range(-16, stop=0, length=17)), subplot=1)\n",
    "plot!([i for i in 1:6],infidelities_snap_disp, label= \"SNAP & Disp\", linestyle=:dash, marker = :circle, xlabel=\"Time [μs]\", ylabel=\"Infidelity\", yaxis=:log, fmt = :PDF, yticks=exp10.(range(-16, stop=0, length=17)), legend=:bottomright, layout=2, subplot=2)\n",
    "plot!([i*0.2 for i in 16:8:64],infidelities_ecd, label= \"ECD 200ns\", linestyle=:dash, marker = :circle, xlabel=\"Time [μs]\", ylabel=\"Infidelity\", yaxis=:log, fmt = :PDF, yticks=exp10.(range(-16, stop=0, length=17)), subplot=2)\n",
    "plot!([i*0.5 for i in 16:8:64],infidelities_ecd, label= \"ECD 500ns\", linestyle=:dash, marker = :circle, xlabel=\"Time [μs]\", ylabel=\"Infidelity\", yaxis=:log, fmt = :PDF, yticks=exp10.(range(-16, stop=0, length=17)), subplot=2)\n",
    "plot!([i*0.1 for i in 16:8:64],infidelities_ecd, label= \"ECD 100ns\", linestyle=:dash, marker = :circle, markeralpha= 0.4, xlabel=\"Time [μs]\", ylabel=\"Infidelity\", yaxis=:log, fmt = :PDF, yticks=exp10.(range(-16, stop=0, length=17)), subplot=2)\n",
    "plot!([0.5], [1e-2],label= \"Pulse Optimisation\", linestyle=:dash, marker = :star, xlabel=\"Time [μs]\", ylabel=\"Infidelity\", yaxis=:log, fmt = :PDF, yticks=exp10.(range(-16, stop=0, length=17)), subplot=2)\n",
    "savefig(\"../../plots/blocksandtime_ecd_vs_snap_vs_PO/gateprep3X_7photons.pdf\")"
   ]
  },
  {
   "cell_type": "code",
   "execution_count": 6,
   "metadata": {},
   "outputs": [
    {
     "data": {
      "text/plain": [
       "\"/Users/andreamaestri/Desktop/Thesis_julia/BTgates/plots/blocksandtime_ecd_vs_snap_vs_PO/stateprep3X_7photons.pdf\""
      ]
     },
     "metadata": {},
     "output_type": "display_data"
    }
   ],
   "source": [
    "plot([i for i in 1:2],infidelities_state_snap_disp, label= \"SNAP & Disp\", linestyle=:dash, marker = :circle, xlabel=\"Blocks\", ylabel=\"Infidelity\", yaxis=:log, fmt = :PDF, yticks=exp10.(range(-16, stop=0, length=17)), legend=:bottomright, layout=2, subplot=1, size=(800,300), margin=5mm)\n",
    "plot!([i for i in 4:1:9],infidelities_state_ecd, label= \"ECD\", linestyle=:dash, marker = :circle, xlabel=\"Blocks\", ylabel=\"Infidelity\", yaxis=:log, fmt = :PDF, yticks=exp10.(range(-16, stop=0, length=17)), subplot=1)\n",
    "plot!([i for i in 1:2],infidelities_state_snap_disp, label= \"SNAP & Disp\", linestyle=:dash, marker = :circle, xlabel=\"Time [μs]\", ylabel=\"Infidelity\", yaxis=:log, fmt = :PDF, yticks=exp10.(range(-16, stop=0, length=17)), legend=:bottomright, layout=2, subplot=2)\n",
    "plot!([i*0.2 for i in 4:1:9],infidelities_state_ecd, label= \"ECD 200ns\", linestyle=:dash, marker = :circle, xlabel=\"Time [μs]\", ylabel=\"Infidelity\", yaxis=:log, fmt = :PDF, yticks=exp10.(range(-16, stop=0, length=17)), subplot=2)\n",
    "plot!([i*0.5 for i in 4:1:9],infidelities_state_ecd, label= \"ECD 500ns\", linestyle=:dash, marker = :circle, xlabel=\"Time [μs]\", ylabel=\"Infidelity\", yaxis=:log, fmt = :PDF, yticks=exp10.(range(-16, stop=0, length=17)), subplot=2)\n",
    "plot!([i*0.150 for i in 4:1:9],infidelities_state_ecd, label= \"ECD 150ns\", linestyle=:dash, marker = :circle, markeralpha= 0.4, xlabel=\"Time [μs]\", ylabel=\"Infidelity\", yaxis=:log, fmt = :PDF, yticks=exp10.(range(-16, stop=0, length=17)), subplot=2)\n",
    "plot!([0.03], [1.271882e-8], label= \"Pulse optimisation\", linestyle=:dash, marker = :star, subplot=2)\n",
    "savefig(\"../../plots/blocksandtime_ecd_vs_snap_vs_PO/stateprep3X_7photons.pdf\")"
   ]
  },
  {
   "attachments": {},
   "cell_type": "markdown",
   "metadata": {},
   "source": [
    "# X_GATE 3,4 5 photons"
   ]
  },
  {
   "cell_type": "code",
   "execution_count": 7,
   "metadata": {},
   "outputs": [
    {
     "data": {
      "text/plain": [
       "5-element Vector{Float64}:\n",
       " 0.15410517503024002\n",
       " 0.040570967146873915\n",
       " 0.005469982875036861\n",
       " 0.0003947768259915385\n",
       " 5.164704440008272e-6"
      ]
     },
     "metadata": {},
     "output_type": "display_data"
    }
   ],
   "source": [
    "# 1 to 4\n",
    "infidelities_snap_disp = [\n",
    "    0.10664835561662211\t\n",
    "    0.11766837704629518\t\n",
    "    0.007830284981915958\t\n",
    "    0.00024271372181228212\n",
    "]\n",
    "\n",
    "# 18 to 42\n",
    "infidelities_ecd = [\n",
    "    0.15410517503024002\n",
    " 0.040570967146873915\n",
    " 0.005469982875036861\n",
    " 0.0003947768259915385\n",
    " 5.164704440008272e-6\n",
    "]"
   ]
  },
  {
   "cell_type": "code",
   "execution_count": 8,
   "metadata": {},
   "outputs": [
    {
     "data": {
      "text/plain": [
       "\"/Users/andreamaestri/Desktop/Thesis_julia/BTgates/plots/blocksandtime_ecd_vs_snap_vs_PO/gateprepX_5photons.pdf\""
      ]
     },
     "metadata": {},
     "output_type": "display_data"
    }
   ],
   "source": [
    "plot([i for i in 1:4],infidelities_snap_disp, label= \"SNAP & Disp\", linestyle=:dash, marker = :circle, xlabel=\"Blocks\", ylabel=\"Infidelity\", yaxis=:log, fmt = :PDF, yticks=exp10.(range(-16, stop=0, length=17)), legend=:bottomright, layout=2, subplot=1, size=(800,300), margin=5mm)\n",
    "plot!([i for i in 18:6:42],infidelities_ecd, label= \"ECD\", linestyle=:dash, marker = :circle, xlabel=\"Blocks\", ylabel=\"Infidelity\", yaxis=:log, fmt = :PDF, yticks=exp10.(range(-16, stop=0, length=17)), subplot=1)\n",
    "plot!([i for i in 1:4],infidelities_snap_disp, label= \"SNAP & Disp\", linestyle=:dash, marker = :circle, xlabel=\"Time [μs]\", ylabel=\"Infidelity\", yaxis=:log, fmt = :PDF, yticks=exp10.(range(-16, stop=0, length=17)), legend=:bottomright, layout=2, subplot=2)\n",
    "plot!([i*0.2 for i in 18:6:42],infidelities_ecd, label= \"ECD 200ns\", linestyle=:dash, marker = :circle, xlabel=\"Time [μs]\", ylabel=\"Infidelity\", yaxis=:log, fmt = :PDF, yticks=exp10.(range(-16, stop=0, length=17)), subplot=2)\n",
    "plot!([i*0.5 for i in 18:6:42],infidelities_ecd, label= \"ECD 500ns\", linestyle=:dash, marker = :circle, xlabel=\"Time [μs]\", ylabel=\"Infidelity\", yaxis=:log, fmt = :PDF, yticks=exp10.(range(-16, stop=0, length=17)), subplot=2)\n",
    "plot!([i*0.1 for i in 18:6:42],infidelities_ecd, label= \"ECD 100ns\", linestyle=:dash,  markeralpha= 0.4, marker = :circle, xlabel=\"Time [μs]\", ylabel=\"Infidelity\", yaxis=:log, fmt = :PDF, yticks=exp10.(range(-16, stop=0, length=17)), subplot=2)\n",
    "plot!([0.5], [9e-5],label= \"Pulse Optimisation\", linestyle=:dash, marker = :star, xlabel=\"Time [μs]\", ylabel=\"Infidelity\", yaxis=:log, fmt = :PDF, yticks=exp10.(range(-16, stop=0, length=17)), subplot=2)\n",
    "savefig(\"../../plots/blocksandtime_ecd_vs_snap_vs_PO/gateprepX_5photons.pdf\")"
   ]
  },
  {
   "attachments": {},
   "cell_type": "markdown",
   "metadata": {},
   "source": [
    "# X_GATE 3,4 3 photons"
   ]
  },
  {
   "cell_type": "code",
   "execution_count": 10,
   "metadata": {},
   "outputs": [
    {
     "data": {
      "text/plain": [
       "7-element Vector{Float64}:\n",
       " 0.1347087609920553\n",
       " 0.022520618747259746\n",
       " 0.0064911740961108855\n",
       " 0.0008381760255905535\n",
       " 1.4056789297889338e-5\n",
       " 6.405678929788934e-6\n",
       " 8.109915582421579e-7"
      ]
     },
     "metadata": {},
     "output_type": "display_data"
    }
   ],
   "source": [
    "# 1 to 4\n",
    "infidelities_snap_disp = [\n",
    "    0.0931276946116053\t\n",
    "    0.061449783925865975\t\n",
    "    7.665159184044867e-6\n",
    "]\n",
    "\n",
    "# 8 to 16\n",
    "infidelities_ecd = [\n",
    "    0.1347087609920553\n",
    "    0.022520618747259746\n",
    "    0.0064911740961108855\n",
    "    0.0008381760255905535\n",
    "    1.4056789297889338e-5\n",
    "    6.4056789297889338e-6\n",
    "    8.109915582421579e-7\n",
    "    ]"
   ]
  },
  {
   "cell_type": "code",
   "execution_count": 11,
   "metadata": {},
   "outputs": [
    {
     "data": {
      "text/plain": [
       "\"/Users/andreamaestri/Desktop/Thesis_julia/BTgates/plots/blocksandtime_ecd_vs_snap_vs_PO/gateprepX_3photons.pdf\""
      ]
     },
     "metadata": {},
     "output_type": "display_data"
    }
   ],
   "source": [
    "plot([i for i in 1:3],infidelities_snap_disp, label= \"SNAP & Disp\", linestyle=:dash, marker = :circle, xlabel=\"Blocks\", ylabel=\"Infidelity\", yaxis=:log, fmt = :PDF, yticks=exp10.(range(-16, stop=0, length=17)), legend=:bottomright, layout=2, subplot=1, size=(800,300), margin=5mm)\n",
    "plot!([i for i in 8:2:20],infidelities_ecd, label= \"ECD\", linestyle=:dash, marker = :circle, xlabel=\"Blocks\", ylabel=\"Infidelity\", yaxis=:log, fmt = :PDF, yticks=exp10.(range(-16, stop=0, length=17)), subplot=1)\n",
    "plot!([i for i in 1:3],infidelities_snap_disp, label= \"SNAP & Disp\", linestyle=:dash, marker = :circle, xlabel=\"Time [μs]\", ylabel=\"Infidelity\", yaxis=:log, fmt = :PDF, yticks=exp10.(range(-16, stop=0, length=17)), legend=:bottomright, layout=2, subplot=2)\n",
    "plot!([i*0.2 for i in 8:2:20],infidelities_ecd, label= \"ECD 200ns\", linestyle=:dash, marker = :circle, xlabel=\"Time [μs]\", ylabel=\"Infidelity\", yaxis=:log, fmt = :PDF, yticks=exp10.(range(-16, stop=0, length=17)), subplot=2)\n",
    "plot!([i*0.5 for i in 8:2:20],infidelities_ecd, label= \"ECD 500ns\", linestyle=:dash, marker = :circle, xlabel=\"Time [μs]\", ylabel=\"Infidelity\", yaxis=:log, fmt = :PDF, yticks=exp10.(range(-16, stop=0, length=17)), subplot=2)\n",
    "plot!([i*0.1 for i in 8:2:20],infidelities_ecd, label= \"ECD 100ns\", linestyle=:dash,  markeralpha= 0.4, marker = :circle, xlabel=\"Time [μs]\", ylabel=\"Infidelity\", yaxis=:log, fmt = :PDF, yticks=exp10.(range(-16, stop=0, length=17)), subplot=2)\n",
    "plot!([0.1], [9.4e-5], label=\"P.O. no interaction\", marker = :star, subplot=2)\n",
    "savefig(\"../../plots/blocksandtime_ecd_vs_snap_vs_PO/gateprepX_3photons.pdf\")"
   ]
  },
  {
   "attachments": {},
   "cell_type": "markdown",
   "metadata": {},
   "source": [
    "# RX_GATE 3,4 7 photons"
   ]
  },
  {
   "cell_type": "code",
   "execution_count": 12,
   "metadata": {},
   "outputs": [
    {
     "data": {
      "text/plain": [
       "5-element Vector{Float64}:\n",
       " 0.0031018245514535803\n",
       " 0.0027797102301017063\n",
       " 0.001057521153026042\n",
       " 0.000177890532804037\n",
       " 1.5117636023020964e-6"
      ]
     },
     "metadata": {},
     "output_type": "display_data"
    }
   ],
   "source": [
    "# 1 to 4\n",
    "infidelities_snap_disp = [\n",
    "    0.011924396937186055 \n",
    "    0.0006743357006098183 \n",
    "    2.7579957750933914e-7\n",
    "]\n",
    "\n",
    "# 8 to 24\n",
    "infidelities_ecd = [\n",
    "    0.024311411499684965\n",
    "    0.019327832113640864\n",
    "    0.01550474423346715\n",
    "    0.007249857488059286\n",
    "    0.013289395961939787\n",
    "    0.006528730476273337\n",
    "]\n",
    "\n",
    "#1 to 2\n",
    "infidelities_state_snap_disp = [\n",
    "    0.0778\n",
    "    1.5857429203069984e-9\n",
    "]\n",
    "\n",
    "# 4 to 8\n",
    "infidelities_state_ecd = [\n",
    "    0.0031018245514535803\n",
    "    0.0027797102301017063\n",
    "    0.001057521153026042\n",
    "    0.000177890532804037\n",
    "    1.5117636023020964e-6\n",
    "]"
   ]
  },
  {
   "cell_type": "code",
   "execution_count": 13,
   "metadata": {},
   "outputs": [
    {
     "data": {
      "text/plain": [
       "\"/Users/andreamaestri/Desktop/Thesis_julia/BTgates/src/plots_and_analysis/gateprepRX_7photons.pdf\""
      ]
     },
     "metadata": {},
     "output_type": "display_data"
    }
   ],
   "source": [
    "plot([i for i in 1:3],infidelities_snap_disp, label= \"SNAP & Disp\", linestyle=:dash, marker = :circle, xlabel=\"Blocks\", ylabel=\"Infidelity\", yaxis=:log, fmt = :PDF, yticks=exp10.(range(-16, stop=0, length=17)), legend=:bottomright, layout=2, subplot=1, size=(800,300), margin=5mm)\n",
    "plot!([i for i in 8:8:48],infidelities_ecd, label= \"ECD\", linestyle=:dash, marker = :circle, xlabel=\"Blocks\", ylabel=\"Infidelity\", yaxis=:log, fmt = :PDF, yticks=exp10.(range(-16, stop=0, length=17)), subplot=1)\n",
    "plot!([i for i in 1:3],infidelities_snap_disp, label= \"SNAP & Disp\", linestyle=:dash, marker = :circle, xlabel=\"Time [μs]\", ylabel=\"Infidelity\", yaxis=:log, fmt = :PDF, yticks=exp10.(range(-16, stop=0, length=17)), legend=:bottomright, layout=2, subplot=2)\n",
    "plot!([i*0.2 for i in 8:8:48],infidelities_ecd, label= \"ECD 200ns\", linestyle=:dash, marker = :circle, xlabel=\"Time [μs]\", ylabel=\"Infidelity\", yaxis=:log, fmt = :PDF, yticks=exp10.(range(-16, stop=0, length=17)), subplot=2)\n",
    "plot!([i*0.5 for i in 8:8:48],infidelities_ecd, label= \"ECD 500ns\", linestyle=:dash, marker = :circle, xlabel=\"Time [μs]\", ylabel=\"Infidelity\", yaxis=:log, fmt = :PDF, yticks=exp10.(range(-16, stop=0, length=17)), subplot=2)\n",
    "savefig(\"../../plots/blocksandtime_ecd_vs_snap_vs_PO/gateprepRX_7photons.pdf\")"
   ]
  },
  {
   "cell_type": "code",
   "execution_count": 14,
   "metadata": {},
   "outputs": [
    {
     "data": {
      "text/plain": [
       "\"/Users/andreamaestri/Desktop/Thesis_julia/BTgates/plots/blocksandtime_ecd_vs_snap_vs_PO/stateeprepRX_7.pdf\""
      ]
     },
     "metadata": {},
     "output_type": "display_data"
    }
   ],
   "source": [
    "plot([i for i in 1:2],infidelities_state_snap_disp, label= \"SNAP & Disp\", linestyle=:dash, marker = :circle, xlabel=\"Blocks\", ylabel=\"Infidelity\", yaxis=:log, fmt = :PDF, yticks=exp10.(range(-16, stop=0, length=17)), legend=:bottomright, layout=2, subplot=1, size=(800,300), margin=5mm)\n",
    "plot!([i for i in 4:1:8],infidelities_state_ecd, label= \"ECD\", linestyle=:dash, marker = :circle, xlabel=\"Blocks\", ylabel=\"Infidelity\", yaxis=:log, fmt = :PDF, yticks=exp10.(range(-16, stop=0, length=17)), subplot=1)\n",
    "plot!([i for i in 1:2],infidelities_state_snap_disp, label= \"SNAP & Disp\", linestyle=:dash, marker = :circle, xlabel=\"Time [μs]\", ylabel=\"Infidelity\", yaxis=:log, fmt = :PDF, yticks=exp10.(range(-16, stop=0, length=17)), legend=:bottomright, layout=2, subplot=2)\n",
    "plot!([i*0.2 for i in 4:1:8],infidelities_state_ecd, label= \"ECD 200ns\", linestyle=:dash, marker = :circle, xlabel=\"Time [μs]\", ylabel=\"Infidelity\", yaxis=:log, fmt = :PDF, yticks=exp10.(range(-16, stop=0, length=17)), subplot=2)\n",
    "plot!([i*0.5 for i in 4:1:8],infidelities_state_ecd, label= \"ECD 500ns\", linestyle=:dash, marker = :circle, xlabel=\"Time [μs]\", ylabel=\"Infidelity\", yaxis=:log, fmt = :PDF, yticks=exp10.(range(-16, stop=0, length=17)), subplot=2)\n",
    "plot!([i*0.15 for i in 4:1:8],infidelities_state_ecd, label= \"ECD 150ns\", linestyle=:dash, marker = :circle, markeralpha= 0.4, xlabel=\"Time [μs]\", ylabel=\"Infidelity\", yaxis=:log, fmt = :PDF, yticks=exp10.(range(-16, stop=0, length=17)), subplot=2)\n",
    "plot!([0.03], [7.271882e-9], label= \"Pulse optimisation\", linestyle=:dash, marker = :diamond, subplot=2)\n",
    "savefig(\"../../plots/blocksandtime_ecd_vs_snap_vs_PO/stateeprepRX_7.pdf\")"
   ]
  },
  {
   "attachments": {},
   "cell_type": "markdown",
   "metadata": {},
   "source": [
    "# RX_GATE 3,4 5 photons"
   ]
  },
  {
   "cell_type": "code",
   "execution_count": 20,
   "metadata": {},
   "outputs": [
    {
     "data": {
      "text/plain": [
       "5-element Vector{Float64}:\n",
       " 0.010934774551768944\n",
       " 0.006869776625714974\n",
       " 0.0027873211803089992\n",
       " 0.00029439594817570747\n",
       " 4.004200739538e-6"
      ]
     },
     "metadata": {},
     "output_type": "display_data"
    }
   ],
   "source": [
    "# 1 to 4\n",
    "infidelities_snap_disp = [\n",
    "    0.016342210154941084\t\n",
    "    0.0009045296386439583\t\n",
    "    2.0793535127072715e-7\n",
    "]\n",
    "\n",
    "# 18 to 43\n",
    "infidelities_ecd = [\n",
    "    0.010934774551768944\n",
    " 0.006869776625714974\n",
    " 0.0027873211803089992\n",
    " 0.00029439594817570747\n",
    " 4.004200739538e-6\n",
    "]"
   ]
  },
  {
   "cell_type": "code",
   "execution_count": 21,
   "metadata": {},
   "outputs": [
    {
     "data": {
      "text/plain": [
       "\"/Users/andreamaestri/Desktop/Thesis_julia/BTgates/plots/blocksandtime_ecd_vs_snap_vs_PO/gateprepRX_5photons.pdf\""
      ]
     },
     "metadata": {},
     "output_type": "display_data"
    }
   ],
   "source": [
    "plot([i for i in 1:3],infidelities_snap_disp, label= \"SNAP & Disp\", linestyle=:dash, marker = :circle, xlabel=\"Blocks\", ylabel=\"Infidelity\", yaxis=:log, fmt = :PDF, yticks=exp10.(range(-16, stop=0, length=17)), legend=:bottomright, layout=2, subplot=1, size=(800,300), margin=5mm)\n",
    "plot!([i for i in 18:6:42],infidelities_ecd, label= \"ECD\", linestyle=:dash, marker = :circle, xlabel=\"Blocks\", ylabel=\"Infidelity\", yaxis=:log, fmt = :PDF, yticks=exp10.(range(-16, stop=0, length=17)), subplot=1)\n",
    "plot!([i for i in 1:3],infidelities_snap_disp, label= \"SNAP & Disp\", linestyle=:dash, marker = :circle, xlabel=\"Time [μs]\", ylabel=\"Infidelity\", yaxis=:log, fmt = :PDF, yticks=exp10.(range(-16, stop=0, length=17)), legend=:bottomright, layout=2, subplot=2)\n",
    "plot!([i*0.2 for i in 18:6:42],infidelities_ecd, label= \"ECD 200ns\", linestyle=:dash, marker = :circle, xlabel=\"Time [μs]\", ylabel=\"Infidelity\", yaxis=:log, fmt = :PDF, yticks=exp10.(range(-16, stop=0, length=17)), subplot=2)\n",
    "plot!([i*0.5 for i in 18:6:42],infidelities_ecd, label= \"ECD 500ns\", linestyle=:dash, marker = :circle, xlabel=\"Time [μs]\", ylabel=\"Infidelity\", yaxis=:log, fmt = :PDF, yticks=exp10.(range(-16, stop=0, length=17)), subplot=2)\n",
    "plot!([i*0.1 for i in 18:6:42],infidelities_ecd, label= \"ECD 100ns\", linestyle=:dash, marker = :circle, markeralpha= 0.4, xlabel=\"Time [μs]\", ylabel=\"Infidelity\", yaxis=:log, fmt = :PDF, yticks=exp10.(range(-16, stop=0, length=17)), subplot=2)\n",
    "savefig(\"../../plots/blocksandtime_ecd_vs_snap_vs_PO/gateprepRX_5photons.pdf\")"
   ]
  },
  {
   "attachments": {},
   "cell_type": "markdown",
   "metadata": {},
   "source": [
    "# RX_GATE 3,4 3 photons"
   ]
  },
  {
   "cell_type": "code",
   "execution_count": 22,
   "metadata": {},
   "outputs": [
    {
     "data": {
      "text/plain": [
       "4-element Vector{Float64}:\n",
       " 0.02508131264553981\n",
       " 0.004343051274179999\n",
       " 0.00017054996465593053\n",
       " 6.358242512494172e-7"
      ]
     },
     "metadata": {},
     "output_type": "display_data"
    }
   ],
   "source": [
    "# 1 to 4\n",
    "infidelities_snap_disp = [\n",
    "    0.010122243379585227\t\n",
    "    0.00030233095300891133\t\n",
    "    1.2203375643338177e-8\n",
    "]\n",
    "\n",
    "# 8 to 20\n",
    "infidelities_ecd = [\n",
    "    0.02508131264553981\n",
    "0.004343051274179999\n",
    "0.00017054996465593053\n",
    "6.358242512494172e-7\n",
    "]"
   ]
  },
  {
   "cell_type": "code",
   "execution_count": 23,
   "metadata": {},
   "outputs": [
    {
     "data": {
      "text/plain": [
       "\"/Users/andreamaestri/Desktop/Thesis_julia/BTgates/plots/blocksandtime_ecd_vs_snap_vs_PO/gateprepRX_3photons.pdf\""
      ]
     },
     "metadata": {},
     "output_type": "display_data"
    }
   ],
   "source": [
    "plot([i for i in 1:3],infidelities_snap_disp, label= \"SNAP & Disp\", linestyle=:dash, marker = :circle, xlabel=\"Blocks\", ylabel=\"Infidelity\", yaxis=:log, fmt = :PDF, yticks=exp10.(range(-16, stop=0, length=17)), legend=:bottomright, layout=2, subplot=1, size=(800,300), margin=5mm)\n",
    "plot!([i for i in 8:4:20],infidelities_ecd, label= \"ECD\", linestyle=:dash, marker = :circle, xlabel=\"Blocks\", ylabel=\"Infidelity\", yaxis=:log, fmt = :PDF, yticks=exp10.(range(-16, stop=0, length=17)), subplot=1)\n",
    "plot!([i for i in 1:3],infidelities_snap_disp, label= \"SNAP & Disp\", linestyle=:dash, marker = :circle, xlabel=\"Time [μs]\", ylabel=\"Infidelity\", yaxis=:log, fmt = :PDF, yticks=exp10.(range(-16, stop=0, length=17)), legend=:bottomright, layout=2, subplot=2)\n",
    "plot!([i*0.2 for i in 8:4:20],infidelities_ecd, label= \"ECD 200ns\", linestyle=:dash, marker = :circle, xlabel=\"Time [μs]\", ylabel=\"Infidelity\", yaxis=:log, fmt = :PDF, yticks=exp10.(range(-16, stop=0, length=17)), subplot=2)\n",
    "plot!([i*0.5 for i in 8:4:20],infidelities_ecd, label= \"ECD 500ns\", linestyle=:dash, marker = :circle, xlabel=\"Time [μs]\", ylabel=\"Infidelity\", yaxis=:log, fmt = :PDF, yticks=exp10.(range(-16, stop=0, length=17)), subplot=2)\n",
    "plot!([i*0.1 for i in 8:4:20],infidelities_ecd, label= \"ECD 100ns\", linestyle=:dash, marker = :circle, markeralpha= 0.4, xlabel=\"Time [μs]\", ylabel=\"Infidelity\", yaxis=:log, fmt = :PDF, yticks=exp10.(range(-16, stop=0, length=17)), subplot=2)\n",
    "#plot!([0.1], [1.271882e-3], label= \"Pulse optimisation\", linestyle=:dash, marker = :diamond, subplot=2)\n",
    "savefig(\"../../plots/blocksandtime_ecd_vs_snap_vs_PO/gateprepRX_3photons.pdf\")"
   ]
  },
  {
   "cell_type": "code",
   "execution_count": null,
   "metadata": {},
   "outputs": [],
   "source": []
  }
 ],
 "metadata": {
  "kernelspec": {
   "display_name": "Julia 1.8.4",
   "language": "julia",
   "name": "julia-1.8"
  },
  "language_info": {
   "file_extension": ".jl",
   "mimetype": "application/julia",
   "name": "julia",
   "version": "1.8.4"
  },
  "orig_nbformat": 4
 },
 "nbformat": 4,
 "nbformat_minor": 2
}
