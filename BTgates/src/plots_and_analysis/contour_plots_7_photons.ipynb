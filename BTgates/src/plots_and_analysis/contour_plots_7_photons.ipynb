{
 "cells": [
  {
   "cell_type": "code",
   "execution_count": 1,
   "metadata": {},
   "outputs": [],
   "source": [
    "using Plots; pythonplot()\n",
    "using CSV, DataFrames, LinearAlgebra"
   ]
  },
  {
   "attachments": {},
   "cell_type": "markdown",
   "metadata": {},
   "source": [
    "# X gate 7 photons"
   ]
  },
  {
   "cell_type": "code",
   "execution_count": 3,
   "metadata": {},
   "outputs": [
    {
     "data": {
      "text/plain": [
       "7-element Vector{Int64}:\n",
       " 16\n",
       " 24\n",
       " 32\n",
       " 40\n",
       " 48\n",
       " 56\n",
       " 64"
      ]
     },
     "metadata": {},
     "output_type": "display_data"
    }
   ],
   "source": [
    "X_gate_ecd = DataFrame(CSV.File(\"../../data/X_gate/7_photons/ECD/(3,4).txt\"))\n",
    "X_gate_snap = DataFrame(CSV.File(\"../../data/X_gate/7_photons/SNAP_Disp/(3,4).txt\"))\n",
    "\n",
    "infidelities_ecd = [norm(minimum(eachrow(val).fidelity)) for val in groupby(X_gate_ecd, \"blocks\")]\n",
    "blocks_ecd = [minimum(eachrow(val).blocks) for val in groupby(X_gate_ecd, \"blocks\")]\n",
    "\n",
    "infidelities_snap_disp = [norm(minimum(eachrow(val).fidelity)) for val in groupby(X_gate_snap, \"blocks\")]\n",
    "blocks_snap_disp = [minimum(eachrow(val).blocks) for val in groupby(X_gate_snap, \"blocks\")]\n",
    "blocks_ecd"
   ]
  },
  {
   "attachments": {},
   "cell_type": "markdown",
   "metadata": {},
   "source": [
    "## SNAP & DISP"
   ]
  },
  {
   "cell_type": "code",
   "execution_count": 6,
   "metadata": {},
   "outputs": [
    {
     "name": "stdout",
     "output_type": "stream",
     "text": [
      "[10000.0, 5000.0, 3333.3333333333335, 2500.0, 2000.0]\n"
     ]
    },
    {
     "data": {
      "text/plain": [
       "\"/Users/andreamaestri/Desktop/Thesis_julia/Opt3DQalgs/BTgates/plots/contour_plots/7_photons_3X_contourplot.pdf\""
      ]
     },
     "metadata": {},
     "output_type": "display_data"
    }
   ],
   "source": [
    "n_gates = [1:10000]\n",
    "\n",
    "z = []\n",
    "for idx in 1:length(blocks_snap_disp)\n",
    "    z_column = []\n",
    "    for col in 1:1:10000\n",
    "        z_i_col = ((1-infidelities_snap_disp[idx])^(col))\n",
    "        push!(z_column,z_i_col)\n",
    "    end\n",
    "    push!(z,z_column)\n",
    "end\n",
    "\n",
    "z_matrix = (hcat(z...))\n",
    "contour(blocks_snap_disp, n_gates, z_matrix, levels=50, fill=true, color=:turbo, xticks = blocks_snap_disp, cbar=true, clabels=false,xlabel=\"Number of Blocks\", ylabel=\"Number of Gates\",lw=2, size=(1200,400), fmt = :PDF,formatter = :plain,xtickfontsize=20,ztickfontsize=20,ytickfontsize=20,xguidefontsize=22,yguidefontsize=22,legendfontsize=20, colorbar_tickfontsize=20, colorbar_titlefontsize=22, layout=2, subplot=1)\n",
    "n_gates = [10/(i*1e-3) for i in blocks_snap_disp]\n",
    "println(n_gates)\n",
    "Labels = \"T1 = 10 ms\"\n",
    "plot!(blocks_snap_disp, n_gates, label=Labels, marker = :diamond,  linestyle=:dash,subplot=1)\n",
    "\n",
    "n_gates = [1:3250]\n",
    "\n",
    "z = []\n",
    "for idx in 1:length(blocks_ecd)\n",
    "    z_column = []\n",
    "    for col in 1:3250\n",
    "        z_i_col = (1-infidelities_ecd[idx])^col\n",
    "        push!(z_column,z_i_col)\n",
    "    end\n",
    "    push!(z,z_column)\n",
    "end\n",
    "\n",
    "z_matrix = hcat(z...)\n",
    "contour!(blocks_ecd, n_gates, z_matrix, levels=50, fill=true, cbar=true,  xticks=blocks_ecd ,color=:turbo, clabels=false,xlabel=\"Number of Blocks\",lw=2, fmt = :PDF,formatter = :plain,xtickfontsize=20,ztickfontsize=20,ytickfontsize=20,xguidefontsize=22,yguidefontsize=22,legendfontsize=20, colorbar_tickfontsize=20, colorbar_titlefontsize=22, colorbar_title=\"Fidelity\",subplot=2)\n",
    "n_gates = [10/(i*2e-4) for i in blocks_ecd]\n",
    "Labels = \"T1 = 10 ms\"\n",
    "plot!(blocks_ecd, n_gates, label=Labels, marker = :diamond,  linestyle=:dash, subplot=2)\n",
    "savefig(\"../../plots/contour_plots/7_photons_3X_contourplot.pdf\")"
   ]
  },
  {
   "attachments": {},
   "cell_type": "markdown",
   "metadata": {},
   "source": [
    "# Rx gate"
   ]
  },
  {
   "cell_type": "code",
   "execution_count": 7,
   "metadata": {},
   "outputs": [
    {
     "data": {
      "text/plain": [
       "7-element Vector{Float64}:\n",
       " 0.019476397847247195\n",
       " 0.01550474423346715\n",
       " 0.013289395961939787\n",
       " 0.007249857488059286\n",
       " 0.006528730476273337\n",
       " 0.005145250313593364\n",
       " 0.00028672455171330213"
      ]
     },
     "metadata": {},
     "output_type": "display_data"
    }
   ],
   "source": [
    "X_gate_ecd = DataFrame(CSV.File(\"../../data/R_X/7_photons/ECD/pi_over_10.txt\"))\n",
    "X_gate_snap = DataFrame(CSV.File(\"../../data/R_X/7_photons/SNAP_Disp/pi_over_10.txt\"))\n",
    "\n",
    "infidelities_ecd = [norm(minimum(eachrow(val).fidelity)) for val in groupby(X_gate_ecd, \"blocks\")][2:end]\n",
    "blocks_ecd = [minimum(eachrow(val).blocks) for val in groupby(X_gate_ecd, \"blocks\")][2:end]\n",
    "\n",
    "infidelities_snap_disp = [norm(minimum(eachrow(val).fidelity)) for val in groupby(X_gate_snap, \"blocks\")]\n",
    "blocks_snap_disp = [minimum(eachrow(val).blocks) for val in groupby(X_gate_snap, \"blocks\")]\n",
    "\n",
    "infidelities_ecd"
   ]
  },
  {
   "attachments": {},
   "cell_type": "markdown",
   "metadata": {},
   "source": [
    "## SNAP & DISP"
   ]
  },
  {
   "cell_type": "code",
   "execution_count": 9,
   "metadata": {},
   "outputs": [
    {
     "data": {
      "text/plain": [
       "\"/Users/andreamaestri/Desktop/Thesis_julia/Opt3DQalgs/BTgates/plots/contour_plots/7_photons_RX_contourplot.pdf\""
      ]
     },
     "metadata": {},
     "output_type": "display_data"
    }
   ],
   "source": [
    "n_gates = [1:10000]\n",
    "\n",
    "z = []\n",
    "for idx in 1:1:length(blocks_snap_disp)\n",
    "    z_column = []\n",
    "    for col in 1:1:10000\n",
    "        z_i_col = (1-infidelities_snap_disp[idx])^col\n",
    "        push!(z_column,z_i_col)\n",
    "    end\n",
    "    push!(z,z_column)\n",
    "end\n",
    "\n",
    "z_matrix = hcat(z...)\n",
    "contour(blocks_snap_disp, n_gates, z_matrix, levels=50, fill=true, color=:turbo, xticks = blocks_snap_disp, cbar=true, clabels=false,xlabel=\"Number of Blocks\", ylabel=\"Number of Gates\",lw=2, size=(1200,400), fmt = :PDF,formatter = :plain,xtickfontsize=20,ztickfontsize=20,ytickfontsize=20,xguidefontsize=22,yguidefontsize=22,legendfontsize=20, colorbar_tickfontsize=20, colorbar_titlefontsize=22, layout=2, subplot=1)\n",
    "n_gates = [10/(i*1e-3) for i in blocks_snap_disp]\n",
    "Labels = \"T1 = 10 ms\"\n",
    "plot!(blocks_snap_disp, n_gates, label=Labels, marker = :diamond, linestyle=:dash, subplot=1)\n",
    "\n",
    "n_gates = [1:3500]\n",
    "\n",
    "z = []\n",
    "for idx in 1:1:length(blocks_ecd)\n",
    "    z_column = []\n",
    "    for col in 1:1:3500\n",
    "        z_i_col = (1-infidelities_ecd[idx])^col\n",
    "        push!(z_column,z_i_col)\n",
    "    end\n",
    "    push!(z,z_column)\n",
    "end\n",
    "\n",
    "z_matrix = hcat(z...)\n",
    "contour!(blocks_ecd, n_gates, z_matrix, levels=50, fill=true, cbar=true,  xticks=blocks_ecd ,color=:turbo, clabels=false,xlabel=\"Number of Blocks\",lw=2, fmt = :PDF,formatter = :plain,xtickfontsize=20,ztickfontsize=20,ytickfontsize=20,xguidefontsize=22,yguidefontsize=22,legendfontsize=20, colorbar_tickfontsize=20, colorbar_titlefontsize=22, colorbar_title=\"Fidelity\",subplot=2)\n",
    "n_gates = [10/(i*2e-4) for i in blocks_ecd]\n",
    "Labels = \"T1 = 10 ms\"\n",
    "plot!(blocks_ecd, n_gates, label=Labels, marker = :diamond,  linestyle=:dash, subplot=2)\n",
    "savefig(\"../../plots/contour_plots/7_photons_RX_contourplot.pdf\")"
   ]
  },
  {
   "cell_type": "code",
   "execution_count": 41,
   "metadata": {},
   "outputs": [
    {
     "data": {
      "text/plain": [
       "\"/Users/andreamaestri/Desktop/Thesis_julia/Opt3DQalgs/BTgates/plots/contour_plots/7_photons_RX_contourplot_ECD.pdf\""
      ]
     },
     "metadata": {},
     "output_type": "display_data"
    }
   ],
   "source": []
  },
  {
   "cell_type": "code",
   "execution_count": null,
   "metadata": {},
   "outputs": [],
   "source": []
  }
 ],
 "metadata": {
  "kernelspec": {
   "display_name": "Julia 1.8.4",
   "language": "julia",
   "name": "julia-1.8"
  },
  "language_info": {
   "file_extension": ".jl",
   "mimetype": "application/julia",
   "name": "julia",
   "version": "1.8.4"
  },
  "orig_nbformat": 4
 },
 "nbformat": 4,
 "nbformat_minor": 2
}
