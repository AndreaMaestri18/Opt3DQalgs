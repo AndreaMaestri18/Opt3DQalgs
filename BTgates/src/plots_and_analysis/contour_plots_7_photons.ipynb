{
 "cells": [
  {
   "cell_type": "code",
   "execution_count": 1,
   "metadata": {},
   "outputs": [
    {
     "data": {
      "text/plain": [
       "Plots.PythonPlotBackend()"
      ]
     },
     "metadata": {},
     "output_type": "display_data"
    }
   ],
   "source": [
    "using Plots; pythonplot()"
   ]
  },
  {
   "attachments": {},
   "cell_type": "markdown",
   "metadata": {},
   "source": [
    "# X gate 7 photons"
   ]
  },
  {
   "attachments": {},
   "cell_type": "markdown",
   "metadata": {},
   "source": [
    "## SNAP & DISP"
   ]
  },
  {
   "cell_type": "code",
   "execution_count": 8,
   "metadata": {},
   "outputs": [
    {
     "name": "stderr",
     "output_type": "stream",
     "text": [
      "sys:1: UserWarning: The following kwargs were not used by contour: 'label'\n",
      "sys:1: UserWarning: No data for colormapping provided via 'c'. Parameters 'vmin', 'vmax' will be ignored\n"
     ]
    },
    {
     "data": {
      "text/plain": [
       "\"/Users/andreamaestri/Desktop/Thesis_julia/Opt3DQalgs/BTgates/plots/contour_plots/7_photons_3X_contourplot_snapdisp.pdf\""
      ]
     },
     "metadata": {},
     "output_type": "display_data"
    }
   ],
   "source": [
    "infidelities_function_of_blocks = [0.46651443231897505 0.17269565656962327 0.04751990062546152 0.0012056685687320545 7.481634554706851e-5]\n",
    "n_blocks = [1:1:5]\n",
    "n_gates = [1:10000]\n",
    "\n",
    "z = []\n",
    "for idx in 1:1:5\n",
    "    z_column = []\n",
    "    for col in 1:1:10000\n",
    "        z_i_col = (1-infidelities_function_of_blocks[idx])^col\n",
    "        push!(z_column,z_i_col)\n",
    "    end\n",
    "    push!(z,z_column)\n",
    "end\n",
    "\n",
    "z_matrix = hcat(z...)\n",
    "contour(n_blocks, n_gates, z_matrix, levels=20, fill=true, cbar=true, clabels=false,xlabel=\"Number of Blocks\", ylabel=\"Number of Gates\", zlabel=\"Infidelity\",lw=2, fmt = :PDF,formatter = :plain, xtickfontsize=14,ztickfontsize=14,ytickfontsize=14,xguidefontsize=14,yguidefontsize=14,legendfontsize=14 )\n",
    "n_blocks = [1:1:5]\n",
    "n_gates = [10/(i*1e-3) for i in 1:5]\n",
    "Labels = \"T1 = 10 ms\"\n",
    "plot!(n_blocks, n_gates, label=Labels, marker = :diamond,  linestyle=:dash)\n",
    "savefig(\"../../plots/contour_plots/7_photons_3X_contourplot_snapdisp.pdf\")"
   ]
  },
  {
   "attachments": {},
   "cell_type": "markdown",
   "metadata": {},
   "source": [
    "## ECD"
   ]
  },
  {
   "cell_type": "code",
   "execution_count": 9,
   "metadata": {},
   "outputs": [
    {
     "name": "stderr",
     "output_type": "stream",
     "text": [
      "sys:1: UserWarning: The following kwargs were not used by contour: 'label'\n",
      "sys:1: UserWarning: No data for colormapping provided via 'c'. Parameters 'vmin', 'vmax' will be ignored\n"
     ]
    },
    {
     "data": {
      "text/plain": [
       "\"/Users/andreamaestri/Desktop/Thesis_julia/Opt3DQalgs/BTgates/plots/contour_plots/7_photons_3X_contourplot_ECD.pdf\""
      ]
     },
     "metadata": {},
     "output_type": "display_data"
    }
   ],
   "source": [
    "infidelities_function_of_blocks = [0.3391703408144481 0.2591006006269245 0.08994959727658447 0.06433382006020827 0.022273102536182976 0.004010219481816346 0.0004694727918465036]\n",
    "n_blocks = [16:8:64]\n",
    "n_gates = [1:6500]\n",
    "\n",
    "z = []\n",
    "for idx in 1:1:7\n",
    "    z_column = []\n",
    "    for col in 1:1:6500\n",
    "        z_i_col = (1-infidelities_function_of_blocks[idx])^col\n",
    "        push!(z_column,z_i_col)\n",
    "    end\n",
    "    push!(z,z_column)\n",
    "end\n",
    "\n",
    "z_matrix = hcat(z...)\n",
    "contour(n_blocks, n_gates, z_matrix, levels=20, fill=true, cbar=true, clabels=false,xlabel=\"Number of Blocks\", ylabel=\"Number of Gates\", zlabel=\"Infidelity\",lw=2, fmt = :PDF,formatter = :plain, xtickfontsize=14,ztickfontsize=14,ytickfontsize=14,xguidefontsize=14,yguidefontsize=14,legendfontsize=14 )\n",
    "n_blocks = [16:8:64]\n",
    "n_gates = [10/(i*1e-4) for i in 16:8:64]\n",
    "Labels = \"T1 = 10 ms\"\n",
    "plot!(n_blocks, n_gates, label=Labels, marker = :diamond,  linestyle=:dash)\n",
    "savefig(\"../../plots/contour_plots/7_photons_3X_contourplot_ECD.pdf\")"
   ]
  },
  {
   "cell_type": "code",
   "execution_count": 10,
   "metadata": {},
   "outputs": [
    {
     "name": "stderr",
     "output_type": "stream",
     "text": [
      "sys:1: UserWarning: The following kwargs were not used by contour: 'label'\n"
     ]
    },
    {
     "data": {
      "text/plain": [
       "\"/Users/andreamaestri/Desktop/Thesis_julia/Opt3DQalgs/BTgates/plots/contour_plots/7_photons_3X_contourplot_ECD_zoommed.pdf\""
      ]
     },
     "metadata": {},
     "output_type": "display_data"
    }
   ],
   "source": [
    "infidelities_function_of_blocks = [0.3391703408144481 0.2591006006269245 0.08994959727658447 0.06433382006020827 0.022273102536182976 0.004010219481816346 0.0004694727918465036]\n",
    "n_blocks = [16:8:64]\n",
    "n_gates = [1:1000]\n",
    "\n",
    "z = []\n",
    "for idx in 1:1:7\n",
    "    z_column = []\n",
    "    for col in 1:1:1000\n",
    "        z_i_col = (1-infidelities_function_of_blocks[idx])^col\n",
    "        push!(z_column,z_i_col)\n",
    "    end\n",
    "    push!(z,z_column)\n",
    "end\n",
    "\n",
    "z_matrix = hcat(z...)\n",
    "contour(n_blocks, n_gates, z_matrix, levels=20, fill=true, cbar=true, clabels=false,xlabel=\"Number of Blocks\", ylabel=\"Number of Gates\", zlabel=\"Infidelity\",lw=2, fmt = :PDF,formatter = :plain, xtickfontsize=14,ztickfontsize=14,ytickfontsize=14,xguidefontsize=14,yguidefontsize=14,legendfontsize=14 )\n",
    "savefig(\"../../plots/contour_plots/7_photons_3X_contourplot_ECD_zoommed.pdf\")"
   ]
  },
  {
   "attachments": {},
   "cell_type": "markdown",
   "metadata": {},
   "source": [
    "# Rx gate"
   ]
  },
  {
   "attachments": {},
   "cell_type": "markdown",
   "metadata": {},
   "source": [
    "## SNAP & DISP"
   ]
  },
  {
   "cell_type": "code",
   "execution_count": 11,
   "metadata": {},
   "outputs": [
    {
     "name": "stderr",
     "output_type": "stream",
     "text": [
      "sys:1: UserWarning: The following kwargs were not used by contour: 'label'\n",
      "sys:1: UserWarning: No data for colormapping provided via 'c'. Parameters 'vmin', 'vmax' will be ignored\n"
     ]
    },
    {
     "data": {
      "text/plain": [
       "\"/Users/andreamaestri/Desktop/Thesis_julia/Opt3DQalgs/BTgates/plots/contour_plots/7_photons_RX_contourplot_snapdisp.pdf\""
      ]
     },
     "metadata": {},
     "output_type": "display_data"
    }
   ],
   "source": [
    "infidelities_function_of_blocks = [0.01266411851628968 0.000674335700608486 1.6353383580636205e-7]\n",
    "n_blocks = [1:1:3]\n",
    "n_gates = [1:10000]\n",
    "\n",
    "z = []\n",
    "for idx in 1:1:3\n",
    "    z_column = []\n",
    "    for col in 1:1:10000\n",
    "        z_i_col = (1-infidelities_function_of_blocks[idx])^col\n",
    "        push!(z_column,z_i_col)\n",
    "    end\n",
    "    push!(z,z_column)\n",
    "end\n",
    "\n",
    "z_matrix = hcat(z...)\n",
    "contour(n_blocks, n_gates, z_matrix, levels=20, fill=true, cbar=true, clabels=false,xlabel=\"Number of Blocks\", ylabel=\"Number of Gates\", zlabel=\"Infidelity\",lw=4,  fmt = :PDF,formatter = :plain, xtickfontsize=14,ztickfontsize=14,ytickfontsize=14,xguidefontsize=14,yguidefontsize=14,legendfontsize=14 )\n",
    "n_blocks = [1:1:3]\n",
    "n_gates = [10/(i*1e-3) for i in 1:1:3]\n",
    "Labels = \"T1 = 10 ms\"\n",
    "plot!(n_blocks, n_gates, label=Labels, marker = :diamond, linestyle=:dash)\n",
    "savefig(\"../../plots/contour_plots/7_photons_RX_contourplot_snapdisp.pdf\")"
   ]
  },
  {
   "cell_type": "code",
   "execution_count": 12,
   "metadata": {},
   "outputs": [
    {
     "name": "stderr",
     "output_type": "stream",
     "text": [
      "sys:1: UserWarning: The following kwargs were not used by contour: 'label'\n",
      "sys:1: UserWarning: No data for colormapping provided via 'c'. Parameters 'vmin', 'vmax' will be ignored\n"
     ]
    },
    {
     "data": {
      "text/plain": [
       "\"/Users/andreamaestri/Desktop/Thesis_julia/Opt3DQalgs/BTgates/plots/contour_plots/7_photons_RX_contourplot_ECD.pdf\""
      ]
     },
     "metadata": {},
     "output_type": "display_data"
    }
   ],
   "source": [
    "infidelities_function_of_blocks = [0.23649875526287378\n",
    "0.019476397847247195\n",
    "0.01550474423346715\n",
    "0.007249857488059286\n",
    "0.0068289395961939787\n",
    "0.006528730476273337]\n",
    "n_blocks = [8:8:48]\n",
    "n_gates = [1:12500]\n",
    "\n",
    "z = []\n",
    "for idx in 1:1:6\n",
    "    z_column = []\n",
    "    for col in 1:1:12500\n",
    "        z_i_col = (1-infidelities_function_of_blocks[idx])^col\n",
    "        push!(z_column,z_i_col)\n",
    "    end\n",
    "    push!(z,z_column)\n",
    "end\n",
    "\n",
    "z_matrix = hcat(z...)\n",
    "contour(n_blocks, n_gates, z_matrix, levels=20, fill=true, cbar=true, clabels=false,xlabel=\"Number of Blocks\", ylabel=\"Number of Gates\", zlabel=\"Infidelity\",lw=2 , fmt = :PDF,formatter = :plain, xtickfontsize=14,ztickfontsize=14,ytickfontsize=14,xguidefontsize=14,yguidefontsize=14,legendfontsize=14)\n",
    "n_blocks = [8:8:48]\n",
    "n_gates = [10/(i*1e-4) for i in 8:8:48]\n",
    "Labels = \"T1 = 30 ms\"\n",
    "plot!(n_blocks, n_gates, label=Labels, marker = :diamond,  linestyle=:dash)\n",
    "savefig(\"../../plots/contour_plots/7_photons_RX_contourplot_ECD.pdf\")"
   ]
  },
  {
   "cell_type": "code",
   "execution_count": 13,
   "metadata": {},
   "outputs": [
    {
     "name": "stderr",
     "output_type": "stream",
     "text": [
      "sys:1: UserWarning: The following kwargs were not used by contour: 'label'\n"
     ]
    },
    {
     "data": {
      "text/plain": [
       "\"/Users/andreamaestri/Desktop/Thesis_julia/Opt3DQalgs/BTgates/plots/contour_plots/7_photons_RX_contourplot_ECD_zoommed.pdf\""
      ]
     },
     "metadata": {},
     "output_type": "display_data"
    }
   ],
   "source": [
    "infidelities_function_of_blocks = [0.23649875526287378\n",
    "0.019476397847247195\n",
    "0.01550474423346715\n",
    "0.007249857488059286\n",
    "0.0068289395961939787\n",
    "0.006528730476273337]\n",
    "n_blocks = [8:8:48]\n",
    "n_gates = [1:500]\n",
    "\n",
    "z = []\n",
    "for idx in 1:1:6\n",
    "    z_column = []\n",
    "    for col in 1:1:500\n",
    "        z_i_col = (1-infidelities_function_of_blocks[idx])^col\n",
    "        push!(z_column,z_i_col)\n",
    "    end\n",
    "    push!(z,z_column)\n",
    "end\n",
    "\n",
    "z_matrix = hcat(z...)\n",
    "contour(n_blocks, n_gates, z_matrix, levels=10, fill=true, cbar=true, clabels=false,xlabel=\"Number of Blocks\", ylabel=\"Number of Gates\", zlabel=\"Infidelity\",lw=2, fmt = :PDF,formatter = :plain, xtickfontsize=14,ztickfontsize=14,ytickfontsize=14,xguidefontsize=14,yguidefontsize=14,legendfontsize=14 )\n",
    "savefig(\"../../plots/contour_plots/7_photons_RX_contourplot_ECD_zoommed.pdf\")"
   ]
  },
  {
   "cell_type": "code",
   "execution_count": null,
   "metadata": {},
   "outputs": [],
   "source": []
  }
 ],
 "metadata": {
  "kernelspec": {
   "display_name": "Julia 1.8.4",
   "language": "julia",
   "name": "julia-1.8"
  },
  "language_info": {
   "file_extension": ".jl",
   "mimetype": "application/julia",
   "name": "julia",
   "version": "1.8.4"
  },
  "orig_nbformat": 4
 },
 "nbformat": 4,
 "nbformat_minor": 2
}
