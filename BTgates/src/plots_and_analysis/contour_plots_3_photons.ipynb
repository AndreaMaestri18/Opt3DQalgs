{
 "cells": [
  {
   "cell_type": "code",
   "execution_count": 2,
   "metadata": {},
   "outputs": [
    {
     "name": "stderr",
     "output_type": "stream",
     "text": [
      "\u001b[32m\u001b[1m    CondaPkg \u001b[22m\u001b[39m\u001b[0mFound dependencies: /Users/andreamaestri/.julia/packages/PythonCall/1f5yE/CondaPkg.toml\n"
     ]
    },
    {
     "name": "stderr",
     "output_type": "stream",
     "text": [
      "\u001b[32m\u001b[1m    CondaPkg \u001b[22m\u001b[39m\u001b[0mFound dependencies: /Users/andreamaestri/.julia/packages/PythonPlot/f591M/CondaPkg.toml\n"
     ]
    },
    {
     "name": "stderr",
     "output_type": "stream",
     "text": [
      "\u001b[32m\u001b[1m    CondaPkg \u001b[22m\u001b[39m\u001b[0mDependencies already up to date\n"
     ]
    },
    {
     "data": {
      "text/plain": [
       "Plots.PythonPlotBackend()"
      ]
     },
     "metadata": {},
     "output_type": "display_data"
    }
   ],
   "source": [
    "using Plots; pythonplot()"
   ]
  },
  {
   "attachments": {},
   "cell_type": "markdown",
   "metadata": {},
   "source": [
    "# X gate 3 photons"
   ]
  },
  {
   "attachments": {},
   "cell_type": "markdown",
   "metadata": {},
   "source": [
    "## SNAP & DISP"
   ]
  },
  {
   "cell_type": "code",
   "execution_count": 18,
   "metadata": {},
   "outputs": [
    {
     "name": "stderr",
     "output_type": "stream",
     "text": [
      "sys:1: UserWarning: The following kwargs were not used by contour: 'label'\n",
      "sys:1: UserWarning: No data for colormapping provided via 'c'. Parameters 'vmin', 'vmax' will be ignored\n"
     ]
    },
    {
     "data": {
      "text/plain": [
       "\"/Users/andreamaestri/Desktop/Thesis_julia/BTgates/plots/contour_plots/3_photons_X_contourplot_snapdisp.pdf\""
      ]
     },
     "metadata": {},
     "output_type": "display_data"
    }
   ],
   "source": [
    "infidelities_function_of_blocks = [0.0931276946116053\t\n",
    "0.061449783925865975\t\n",
    "7.665159184044867e-6]\n",
    "n_blocks = [1:1:3]\n",
    "n_gates = [1:10000]\n",
    "\n",
    "z = []\n",
    "for idx in 1:1:3\n",
    "    z_column = []\n",
    "    for col in 1:1:10000\n",
    "        z_i_col = (1-infidelities_function_of_blocks[idx])^col\n",
    "        push!(z_column,z_i_col)\n",
    "    end\n",
    "    push!(z,z_column)\n",
    "end\n",
    "\n",
    "z_matrix = hcat(z...)\n",
    "contour(n_blocks, n_gates, z_matrix, levels=20, fill=true, cbar=true, clabels=false,xlabel=\"Number of Blocks\", ylabel=\"Number of Gates\", zlabel=\"Infidelity\",lw=2 )\n",
    "n_blocks = [1:1:3]\n",
    "n_gates = [10/(i*1e-3) for i in 1:3]\n",
    "Labels = \"T1 = 10 ms\"\n",
    "plot!(n_blocks, n_gates, label=Labels, marker = :diamond,  linestyle=:dash, fmt = :PDF)\n",
    "savefig(\"../../plots/contour_plots/3_photons_X_contourplot_snapdisp.pdf\")"
   ]
  },
  {
   "attachments": {},
   "cell_type": "markdown",
   "metadata": {},
   "source": [
    "## ECD"
   ]
  },
  {
   "cell_type": "code",
   "execution_count": 17,
   "metadata": {},
   "outputs": [
    {
     "name": "stderr",
     "output_type": "stream",
     "text": [
      "sys:1: UserWarning: The following kwargs were not used by contour: 'label'\n",
      "sys:1: UserWarning: No data for colormapping provided via 'c'. Parameters 'vmin', 'vmax' will be ignored\n"
     ]
    },
    {
     "data": {
      "text/plain": [
       "\"/Users/andreamaestri/Desktop/Thesis_julia/BTgates/plots/contour_plots/3_photons_X_contourplot_ECD.pdf\""
      ]
     },
     "metadata": {},
     "output_type": "display_data"
    }
   ],
   "source": [
    "infidelities_function_of_blocks = [0.1347087609920553\n",
    "0.022520618747259746\n",
    "0.0064911740961108855\n",
    "0.0008381760255905535\n",
    "1.4056789297889338e-5\n",
    "8.109915582421579e-7]\n",
    "n_blocks = [8:2:18]\n",
    "n_gates = [1:12500]\n",
    "\n",
    "z = []\n",
    "for idx in 1:1:6\n",
    "    z_column = []\n",
    "    for col in 1:1:12500\n",
    "        z_i_col = (1-infidelities_function_of_blocks[idx])^col\n",
    "        push!(z_column,z_i_col)\n",
    "    end\n",
    "    push!(z,z_column)\n",
    "end\n",
    "\n",
    "z_matrix = hcat(z...)\n",
    "contour(n_blocks, n_gates, z_matrix, levels=20, fill=true, cbar=true, clabels=false,xlabel=\"Number of Blocks\", ylabel=\"Number of Gates\", zlabel=\"Infidelity\",lw=2, fmt = :PDF)\n",
    "n_blocks = [8:2:18]\n",
    "n_gates = [10/(i*1e-4) for i in 8:2:18]\n",
    "Labels = \"T1 = 10 ms\"\n",
    "plot!(n_blocks, n_gates, label=Labels, marker = :diamond,  linestyle=:dash)\n",
    "savefig(\"../../plots/contour_plots/3_photons_X_contourplot_ECD.pdf\")"
   ]
  },
  {
   "attachments": {},
   "cell_type": "markdown",
   "metadata": {},
   "source": [
    "# Rx gate"
   ]
  },
  {
   "attachments": {},
   "cell_type": "markdown",
   "metadata": {},
   "source": [
    "## SNAP & DISP"
   ]
  },
  {
   "cell_type": "code",
   "execution_count": 14,
   "metadata": {},
   "outputs": [
    {
     "data": {
      "text/plain": [
       "\"/Users/andreamaestri/Desktop/Thesis_julia/BTgates/plots/contour_plots/3_photons_RX_contourplot_snapdisp.pdf\""
      ]
     },
     "metadata": {},
     "output_type": "display_data"
    }
   ],
   "source": [
    "infidelities_function_of_blocks = [0.010122243379585227\t\n",
    "0.00030233095300891133\t\n",
    "1.2203375643338177e-8]\n",
    "n_blocks = [1:1:3]\n",
    "n_gates = [1:10000]\n",
    "\n",
    "z = []\n",
    "for idx in 1:1:3\n",
    "    z_column = []\n",
    "    for col in 1:1:10000\n",
    "        z_i_col = (1-infidelities_function_of_blocks[idx])^col\n",
    "        push!(z_column,z_i_col)\n",
    "    end\n",
    "    push!(z,z_column)\n",
    "end\n",
    "\n",
    "z_matrix = hcat(z...)\n",
    "contour(n_blocks, n_gates, z_matrix, levels=20, fill=true, cbar=true, clabels=false,xlabel=\"Number of Blocks\", ylabel=\"Number of Gates\", zlabel=\"Infidelity\",lw=4, fmt = :PDF )\n",
    "n_blocks = [1:1:3]\n",
    "n_gates = [10/(i*1e-3) for i in 1:1:3]\n",
    "Labels = \"T1 = 10 ms\"\n",
    "plot!(n_blocks, n_gates, label=Labels, marker = :diamond, linestyle=:dash)\n",
    "savefig(\"../../plots/contour_plots/3_photons_RX_contourplot_snapdisp.pdf\")"
   ]
  },
  {
   "cell_type": "code",
   "execution_count": 16,
   "metadata": {},
   "outputs": [
    {
     "data": {
      "text/plain": [
       "\"/Users/andreamaestri/Desktop/Thesis_julia/BTgates/plots/contour_plots/3_photons_RX_contourplot_ECD.pdf\""
      ]
     },
     "metadata": {},
     "output_type": "display_data"
    }
   ],
   "source": [
    "infidelities_function_of_blocks = [0.02508131264553981\n",
    "0.004343051274179999\n",
    "0.00017054996465593053\n",
    "6.358242512494172e-7]\n",
    "n_blocks = [8:4:20]\n",
    "n_gates = [1:12500]\n",
    "\n",
    "z = []\n",
    "for idx in 1:1:4\n",
    "    z_column = []\n",
    "    for col in 1:1:12500\n",
    "        z_i_col = (1-infidelities_function_of_blocks[idx])^col\n",
    "        push!(z_column,z_i_col)\n",
    "    end\n",
    "    push!(z,z_column)\n",
    "end\n",
    "\n",
    "z_matrix = hcat(z...)\n",
    "contour(n_blocks, n_gates, z_matrix, levels=20, fill=true, cbar=true, clabels=false,xlabel=\"Number of Blocks\", ylabel=\"Number of Gates\", zlabel=\"Infidelity\",lw=2 , fmt = :PDF)\n",
    "n_blocks = [8:4:20]\n",
    "n_gates = [10/(i*1e-4) for i in 8:4:20]\n",
    "Labels = \"T1 = 10 ms\"\n",
    "plot!(n_blocks, n_gates, label=Labels, marker = :diamond,  linestyle=:dash)\n",
    "savefig(\"../../plots/contour_plots/3_photons_RX_contourplot_ECD.pdf\")"
   ]
  },
  {
   "cell_type": "code",
   "execution_count": null,
   "metadata": {},
   "outputs": [],
   "source": []
  }
 ],
 "metadata": {
  "kernelspec": {
   "display_name": "Julia 1.8.4",
   "language": "julia",
   "name": "julia-1.8"
  },
  "language_info": {
   "file_extension": ".jl",
   "mimetype": "application/julia",
   "name": "julia",
   "version": "1.8.4"
  },
  "orig_nbformat": 4
 },
 "nbformat": 4,
 "nbformat_minor": 2
}
