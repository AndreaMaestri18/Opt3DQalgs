{
 "cells": [
  {
   "cell_type": "code",
   "execution_count": 1,
   "metadata": {},
   "outputs": [
    {
     "name": "stderr",
     "output_type": "stream",
     "text": [
      "\u001b[32m\u001b[1m    CondaPkg \u001b[22m\u001b[39m\u001b[0mFound dependencies: /Users/andreamaestri/.julia/packages/PythonCall/1f5yE/CondaPkg.toml\n"
     ]
    },
    {
     "name": "stderr",
     "output_type": "stream",
     "text": [
      "\u001b[32m\u001b[1m    CondaPkg \u001b[22m\u001b[39m\u001b[0mFound dependencies: /Users/andreamaestri/.julia/packages/PythonPlot/f591M/CondaPkg.toml\n"
     ]
    },
    {
     "name": "stderr",
     "output_type": "stream",
     "text": [
      "\u001b[32m\u001b[1m    CondaPkg \u001b[22m\u001b[39m\u001b[0mRemoving environment\n"
     ]
    },
    {
     "name": "stderr",
     "output_type": "stream",
     "text": [
      "\u001b[32m\u001b[1m             \u001b[22m\u001b[39m│ \u001b[90m/Users/andreamaestri/.julia/artifacts/7cfea9db5b54ceb7d9109c8728914c9459303a75/bin/micromamba\u001b[39m\n"
     ]
    },
    {
     "name": "stderr",
     "output_type": "stream",
     "text": [
      "\u001b[32m\u001b[1m             \u001b[22m\u001b[39m│ \u001b[90m-r /Users/andreamaestri/.julia/scratchspaces/0b3b1443-0f03-428d-bdfb-f27f9c1191ea/root\u001b[39m\n"
     ]
    },
    {
     "name": "stderr",
     "output_type": "stream",
     "text": [
      "\u001b[32m\u001b[1m             \u001b[22m\u001b[39m│ \u001b[90mremove\u001b[39m\n"
     ]
    },
    {
     "name": "stderr",
     "output_type": "stream",
     "text": [
      "\u001b[32m\u001b[1m             \u001b[22m\u001b[39m│ \u001b[90m-y\u001b[39m\n"
     ]
    },
    {
     "name": "stderr",
     "output_type": "stream",
     "text": [
      "\u001b[32m\u001b[1m             \u001b[22m\u001b[39m│ \u001b[90m-p /Users/andreamaestri/Desktop/Thesis_julia/Opt3DQalgs/BTgates/.CondaPkg/env\u001b[39m\n"
     ]
    },
    {
     "name": "stderr",
     "output_type": "stream",
     "text": [
      "\u001b[32m\u001b[1m             \u001b[22m\u001b[39m└ \u001b[90m--all\u001b[39m\n"
     ]
    },
    {
     "name": "stdout",
     "output_type": "stream",
     "text": [
      "\n",
      "                                           __\n",
      "          __  ______ ___  ____ _____ ___  / /_  ____ _\n",
      "         / / / / __ `__ \\/ __ `/ __ `__ \\/ __ \\/ __ `/\n",
      "        / /_/ / / / / / / /_/ / / / / / / /_/ / /_/ /\n",
      "       / .___/_/ /_/ /_/\\__,_/_/ /_/ /_/_.___/\\__,_/\n",
      "      /_/\n",
      "\n"
     ]
    },
    {
     "name": "stdout",
     "output_type": "stream",
     "text": [
      "Transaction\n",
      "\n",
      "  Prefix: /Users/andreamaestri/Desktop/Thesis_julia/Opt3DQalgs/BTgates/.CondaPkg/env\n",
      "\n",
      "  Removing specs:\n",
      "\n",
      "   - brotli\n",
      "   - brotli-bin\n",
      "   - bzip2\n",
      "   - ca-certificates\n",
      "   - certifi\n",
      "   - contourpy\n",
      "   - cycler\n",
      "   - fonttools\n",
      "   - freetype\n",
      "   - kiwisolver\n",
      "   - lcms2\n",
      "   - lerc\n",
      "   - libblas\n",
      "   - libbrotlicommon\n",
      "   - libbrotlidec\n",
      "   - libbrotlienc\n",
      "   - libcblas\n",
      "   - libcxx\n",
      "   - libdeflate\n",
      "   - libexpat\n",
      "   - libffi\n",
      "   - libgfortran\n",
      "   - libgfortran5\n",
      "   - libjpeg-turbo\n",
      "   - liblapack\n",
      "   - libopenblas\n",
      "   - libpng\n",
      "   - libsqlite\n",
      "   - libtiff\n",
      "   - libwebp-base\n",
      "   - libxcb\n",
      "   - libzlib\n",
      "   - llvm-openmp\n",
      "   - matplotlib\n",
      "   - matplotlib-base\n",
      "   - munkres\n",
      "   - ncurses\n",
      "   - numpy\n",
      "   - openjpeg\n",
      "   - openssl\n",
      "   - packaging\n",
      "   - pillow\n",
      "   - pip\n",
      "   - pthread-stubs\n",
      "   - pyparsing\n",
      "   - python\n",
      "   - python-dateutil\n",
      "   - python_abi\n",
      "   - readline\n",
      "   - setuptools\n",
      "   - six\n",
      "   - tk\n",
      "   - tornado\n",
      "   - tzdata\n",
      "   - wheel\n",
      "   - xorg-libxau\n",
      "   - xorg-libxdmcp\n",
      "   - xz\n",
      "   - zstd\n",
      "\n",
      "\n"
     ]
    },
    {
     "name": "stdout",
     "output_type": "stream",
     "text": [
      "  Package             Version  Build                 Channel           Size\n",
      "─────────────────────────────────────────────────────────────────────────────\n",
      "  Remove:\n",
      "─────────────────────────────────────────────────────────────────────────────\n",
      "\n",
      "  - brotli              1.0.9  h1a8c8d9_8            conda-forge     Cached\n",
      "  - brotli-bin          1.0.9  h1a8c8d9_8            conda-forge     Cached\n",
      "  - bzip2               1.0.8  h3422bc3_4            conda-forge     Cached\n",
      "  - ca-certificates  2023.5.7  hf0a4a13_0            conda-forge     Cached\n",
      "  - certifi          2023.5.7  pyhd8ed1ab_0          conda-forge     Cached\n",
      "  - contourpy           1.0.7  py311hd6ee22a_0       conda-forge     Cached\n",
      "  - cycler             0.11.0  pyhd8ed1ab_0          conda-forge     Cached\n",
      "  - fonttools          4.39.4  py311heffc1b2_0       conda-forge     Cached\n",
      "  - freetype           2.12.1  hd633e50_1            conda-forge     Cached\n",
      "  - kiwisolver          1.4.4  py311hd6ee22a_1       conda-forge     Cached\n",
      "  - lcms2                2.15  hd835a16_1            conda-forge     Cached\n",
      "  - lerc                4.0.0  h9a09cb3_0            conda-forge     Cached\n",
      "  - libblas             3.9.0  17_osxarm64_openblas  conda-forge     Cached\n",
      "  - libbrotlicommon     1.0.9  h1a8c8d9_8            conda-forge     Cached\n",
      "  - libbrotlidec        1.0.9  h1a8c8d9_8            conda-forge     Cached\n",
      "  - libbrotlienc        1.0.9  h1a8c8d9_8            conda-forge     Cached\n",
      "  - libcblas            3.9.0  17_osxarm64_openblas  conda-forge     Cached\n",
      "  - libcxx             16.0.5  h4653b0c_0            conda-forge     Cached\n",
      "  - libdeflate           1.18  h1a8c8d9_0            conda-forge     Cached\n",
      "  - libexpat            2.5.0  hb7217d7_1            conda-forge     Cached\n",
      "  - libffi              3.4.2  h3422bc3_5            conda-forge     Cached\n",
      "  - libgfortran         5.0.0  12_2_0_hd922786_31    conda-forge     Cached\n",
      "  - libgfortran5       12.2.0  h0eea778_31           conda-forge     Cached\n",
      "  - libjpeg-turbo     2.1.5.1  h1a8c8d9_0            conda-forge     Cached\n",
      "  - liblapack           3.9.0  17_osxarm64_openblas  conda-forge     Cached\n",
      "  - libopenblas        0.3.23  openmp_hc731615_0     conda-forge     Cached\n",
      "  - libpng             1.6.39  h76d750c_0            conda-forge     Cached\n",
      "  - libsqlite          3.42.0  hb31c410_0            conda-forge     Cached\n",
      "  - libtiff             4.5.0  h4f7d55c_6            conda-forge     Cached\n",
      "  - libwebp-base        1.3.0  h1a8c8d9_0            conda-forge     Cached\n",
      "  - libxcb               1.15  hf346824_0            conda-forge     Cached\n",
      "  - libzlib            1.2.13  h03a7124_4            conda-forge     Cached\n",
      "  - llvm-openmp        16.0.5  h1c12783_0            conda-forge     Cached\n",
      "  - matplotlib          3.7.1  py311ha1ab1f8_0       conda-forge     Cached\n",
      "  - matplotlib-base     3.7.1  py311h99a5f44_0       conda-forge     Cached\n",
      "  - munkres             1.1.4  pyh9f0ad1d_0          conda-forge     Cached\n",
      "  - ncurses               6.4  h7ea286d_0            conda-forge     Cached\n",
      "  - numpy              1.24.3  py311hb8f3215_0       conda-forge     Cached\n",
      "  - openjpeg            2.5.0  hbc2ba62_2            conda-forge     Cached\n",
      "  - openssl             3.1.1  h53f4e23_1            conda-forge     Cached\n",
      "  - packaging            23.1  pyhd8ed1ab_0          conda-forge     Cached\n",
      "  - pillow              9.5.0  py311h095fde6_1       conda-forge     Cached\n",
      "  - pip                23.1.2  pyhd8ed1ab_0          conda-forge     Cached\n",
      "  - pthread-stubs         0.4  h27ca646_1001         conda-forge     Cached\n",
      "  - pyparsing           3.0.9  pyhd8ed1ab_0          conda-forge     Cached\n",
      "  - python             3.11.3  h1456518_0_cpython    conda-forge     Cached\n",
      "  - python-dateutil     2.8.2  pyhd8ed1ab_0          conda-forge     Cached\n",
      "  - python_abi           3.11  3_cp311               conda-forge     Cached\n",
      "  - readline              8.2  h92ec313_1            conda-forge     Cached\n",
      "  - setuptools         67.7.2  pyhd8ed1ab_0          conda-forge     Cached\n",
      "  - six                1.16.0  pyh6c4a22f_0          conda-forge     Cached\n",
      "  - tk                 8.6.12  he1e0b03_0            conda-forge     Cached\n",
      "  - tornado             6.3.2  py311heffc1b2_0       conda-forge     Cached\n",
      "  - tzdata              2023c  h71feb2d_0            conda-forge     Cached\n",
      "  - wheel              0.40.0  pyhd8ed1ab_0          conda-forge     Cached\n",
      "  - xorg-libxau        1.0.11  hb547adb_0            conda-forge     Cached\n",
      "  - xorg-libxdmcp       1.1.3  h27ca646_0            conda-forge     Cached\n",
      "  - xz                  5.2.6  h57fd34a_0            conda-forge     Cached\n",
      "  - zstd                1.5.2  hf913c23_6            conda-forge     Cached\n",
      "\n",
      "  Summary:\n",
      "\n",
      "  Remove: 59 packages\n",
      "\n",
      "  Total download: 0 B\n",
      "\n",
      "─────────────────────────────────────────────────────────────────────────────\n",
      "\n",
      "\n",
      "\n",
      "Transaction starting\n",
      "Unlinking matplotlib-3.7.1-py311ha1ab1f8_0\n"
     ]
    },
    {
     "name": "stdout",
     "output_type": "stream",
     "text": [
      "Unlinking tornado-6.3.2-py311heffc1b2_0\n",
      "Unlinking matplotlib-base-3.7.1-py311h99a5f44_0\n"
     ]
    },
    {
     "name": "stdout",
     "output_type": "stream",
     "text": [
      "Unlinking python-dateutil-2.8.2-pyhd8ed1ab_0\n",
      "Unlinking pyparsing-3.0.9-pyhd8ed1ab_0\n",
      "Unlinking pillow-9.5.0-py311h095fde6_1\n",
      "Unlinking packaging-23.1-pyhd8ed1ab_0\n",
      "Unlinking kiwisolver-1.4.4-py311hd6ee22a_1\n",
      "Unlinking fonttools-4.39.4-py311heffc1b2_0\n"
     ]
    },
    {
     "name": "stdout",
     "output_type": "stream",
     "text": [
      "Unlinking cycler-0.11.0-pyhd8ed1ab_0\n",
      "Unlinking contourpy-1.0.7-py311hd6ee22a_0\n",
      "Unlinking certifi-2023.5.7-pyhd8ed1ab_0\n",
      "Unlinking six-1.16.0-pyh6c4a22f_0\n",
      "Unlinking openjpeg-2.5.0-hbc2ba62_2\n",
      "Unlinking libxcb-1.15-hf346824_0\n",
      "Unlinking lcms2-2.15-hd835a16_1\n",
      "Unlinking freetype-2.12.1-hd633e50_1\n",
      "Unlinking munkres-1.1.4-pyh9f0ad1d_0\n",
      "Unlinking brotli-1.0.9-h1a8c8d9_8\n",
      "Unlinking numpy-1.24.3-py311hb8f3215_0\n"
     ]
    },
    {
     "name": "stdout",
     "output_type": "stream",
     "text": [
      "Unlinking xorg-libxdmcp-1.1.3-h27ca646_0\n",
      "Unlinking xorg-libxau-1.0.11-hb547adb_0\n",
      "Unlinking pthread-stubs-0.4-h27ca646_1001\n",
      "Unlinking libtiff-4.5.0-h4f7d55c_6\n",
      "Unlinking libpng-1.6.39-h76d750c_0\n",
      "Unlinking brotli-bin-1.0.9-h1a8c8d9_8\n",
      "Unlinking python_abi-3.11-3_cp311\n",
      "Unlinking pip-23.1.2-pyhd8ed1ab_0\n"
     ]
    },
    {
     "name": "stdout",
     "output_type": "stream",
     "text": [
      "Unlinking liblapack-3.9.0-17_osxarm64_openblas\n",
      "Unlinking libcblas-3.9.0-17_osxarm64_openblas\n",
      "Unlinking zstd-1.5.2-hf913c23_6\n",
      "Unlinking libwebp-base-1.3.0-h1a8c8d9_0\n",
      "Unlinking libjpeg-turbo-2.1.5.1-h1a8c8d9_0\n",
      "Unlinking libdeflate-1.18-h1a8c8d9_0\n",
      "Unlinking lerc-4.0.0-h9a09cb3_0\n",
      "Unlinking libbrotlienc-1.0.9-h1a8c8d9_8\n",
      "Unlinking libbrotlidec-1.0.9-h1a8c8d9_8\n",
      "Unlinking python-3.11.3-h1456518_0_cpython\n"
     ]
    },
    {
     "name": "stdout",
     "output_type": "stream",
     "text": [
      "Unlinking libblas-3.9.0-17_osxarm64_openblas\n",
      "Unlinking libcxx-16.0.5-h4653b0c_0\n"
     ]
    },
    {
     "name": "stdout",
     "output_type": "stream",
     "text": [
      "Unlinking libbrotlicommon-1.0.9-h1a8c8d9_8\n",
      "Unlinking setuptools-67.7.2-pyhd8ed1ab_0\n"
     ]
    },
    {
     "name": "stdout",
     "output_type": "stream",
     "text": [
      "Unlinking libopenblas-0.3.23-openmp_hc731615_0\n",
      "Unlinking wheel-0.40.0-pyhd8ed1ab_0\n",
      "Unlinking libgfortran-5.0.0-12_2_0_hd922786_31\n",
      "Unlinking xz-5.2.6-h57fd34a_0\n",
      "Unlinking tzdata-2023c-h71feb2d_0\n"
     ]
    },
    {
     "name": "stdout",
     "output_type": "stream",
     "text": [
      "Unlinking tk-8.6.12-he1e0b03_0\n"
     ]
    },
    {
     "name": "stdout",
     "output_type": "stream",
     "text": [
      "Unlinking readline-8.2-h92ec313_1\n",
      "Unlinking openssl-3.1.1-h53f4e23_1\n",
      "Unlinking libsqlite-3.42.0-hb31c410_0\n",
      "Unlinking libffi-3.4.2-h3422bc3_5\n",
      "Unlinking libexpat-2.5.0-hb7217d7_1\n",
      "Unlinking bzip2-1.0.8-h3422bc3_4\n"
     ]
    },
    {
     "name": "stdout",
     "output_type": "stream",
     "text": [
      "Unlinking libgfortran5-12.2.0-h0eea778_31\n",
      "Unlinking ncurses-6.4-h7ea286d_0\n"
     ]
    },
    {
     "name": "stderr",
     "output_type": "stream",
     "text": [
      "\u001b[32m\u001b[1m    CondaPkg \u001b[22m\u001b[39m\u001b[0mCreating environment\n"
     ]
    },
    {
     "name": "stderr",
     "output_type": "stream",
     "text": [
      "\u001b[32m\u001b[1m             \u001b[22m\u001b[39m│ \u001b[90m/Users/andreamaestri/.julia/artifacts/7cfea9db5b54ceb7d9109c8728914c9459303a75/bin/micromamba\u001b[39m\n"
     ]
    },
    {
     "name": "stderr",
     "output_type": "stream",
     "text": [
      "\u001b[32m\u001b[1m             \u001b[22m\u001b[39m│ \u001b[90m-r /Users/andreamaestri/.julia/scratchspaces/0b3b1443-0f03-428d-bdfb-f27f9c1191ea/root\u001b[39m\n"
     ]
    },
    {
     "name": "stderr",
     "output_type": "stream",
     "text": [
      "\u001b[32m\u001b[1m             \u001b[22m\u001b[39m│ \u001b[90mcreate\u001b[39m\n"
     ]
    },
    {
     "name": "stderr",
     "output_type": "stream",
     "text": [
      "\u001b[32m\u001b[1m             \u001b[22m\u001b[39m│ \u001b[90m-y\u001b[39m\n"
     ]
    },
    {
     "name": "stderr",
     "output_type": "stream",
     "text": [
      "\u001b[32m\u001b[1m             \u001b[22m\u001b[39m│ \u001b[90m-p /Users/andreamaestri/Desktop/Thesis_julia/Opt3DQalgs/BTgates/.CondaPkg/env\u001b[39m\n"
     ]
    },
    {
     "name": "stderr",
     "output_type": "stream",
     "text": [
      "\u001b[32m\u001b[1m             \u001b[22m\u001b[39m│ \u001b[90m--override-channels\u001b[39m\n"
     ]
    },
    {
     "name": "stderr",
     "output_type": "stream",
     "text": [
      "\u001b[32m\u001b[1m             \u001b[22m\u001b[39m│ \u001b[90m--no-channel-priority\u001b[39m\n"
     ]
    },
    {
     "name": "stderr",
     "output_type": "stream",
     "text": [
      "\u001b[32m\u001b[1m             \u001b[22m\u001b[39m│ \u001b[90mmatplotlib[version='>=1']\u001b[39m\n"
     ]
    },
    {
     "name": "stderr",
     "output_type": "stream",
     "text": [
      "\u001b[32m\u001b[1m             \u001b[22m\u001b[39m│ \u001b[90mpython[version='>=3.7,<4',channel='conda-forge',build='*cpython*']\u001b[39m\n"
     ]
    },
    {
     "name": "stderr",
     "output_type": "stream",
     "text": [
      "\u001b[32m\u001b[1m             \u001b[22m\u001b[39m└ \u001b[90m-c conda-forge\u001b[39m\n"
     ]
    },
    {
     "name": "stdout",
     "output_type": "stream",
     "text": [
      "Unlinking ca-certificates-2023.5.7-hf0a4a13_0\n",
      "Unlinking libzlib-1.2.13-h03a7124_4\n",
      "Unlinking llvm-openmp-16.0.5-h1c12783_0\n",
      "Transaction finished\n",
      "\n",
      "                                           __\n",
      "          __  ______ ___  ____ _____ ___  / /_  ____ _\n",
      "         / / / / __ `__ \\/ __ `/ __ `__ \\/ __ \\/ __ `/\n",
      "        / /_/ / / / / / / /_/ / / / / / / /_/ / /_/ /\n",
      "       / .___/_/ /_/ /_/\\__,_/_/ /_/ /_/_.___/\\__,_/\n",
      "      /_/\n",
      "\n"
     ]
    },
    {
     "name": "stdout",
     "output_type": "stream",
     "text": [
      "\n",
      "Transaction\n",
      "\n",
      "  Prefix: /Users/andreamaestri/Desktop/Thesis_julia/Opt3DQalgs/BTgates/.CondaPkg/env\n",
      "\n",
      "  Updating specs:\n",
      "\n",
      "   - matplotlib[version='>=1']\n",
      "   - conda-forge::python[version='>=3.7,<4',build=*cpython*]\n",
      "\n",
      "\n"
     ]
    },
    {
     "name": "stdout",
     "output_type": "stream",
     "text": [
      "  Package             Version  Build                 Channel                     Size\n",
      "───────────────────────────────────────────────────────────────────────────────────────\n",
      "  Install:\n",
      "───────────────────────────────────────────────────────────────────────────────────────\n",
      "\n",
      "  + brotli              1.0.9  h1a8c8d9_8            conda-forge/osx-arm64     Cached\n",
      "  + brotli-bin          1.0.9  h1a8c8d9_8            conda-forge/osx-arm64     Cached\n",
      "  + bzip2               1.0.8  h3422bc3_4            conda-forge/osx-arm64     Cached\n",
      "  + ca-certificates  2023.5.7  hf0a4a13_0            conda-forge/osx-arm64     Cached\n",
      "  + certifi          2023.5.7  pyhd8ed1ab_0          conda-forge/noarch        Cached\n",
      "  + contourpy           1.1.0  py311he4fd1f5_0       conda-forge/osx-arm64      225kB\n",
      "  + cycler             0.11.0  pyhd8ed1ab_0          conda-forge/noarch        Cached\n",
      "  + fonttools          4.40.0  py311heffc1b2_0       conda-forge/osx-arm64        3MB\n",
      "  + freetype           2.12.1  hd633e50_1            conda-forge/osx-arm64     Cached\n",
      "  + kiwisolver          1.4.4  py311hd6ee22a_1       conda-forge/osx-arm64     Cached\n",
      "  + lcms2                2.15  hd835a16_1            conda-forge/osx-arm64     Cached\n",
      "  + lerc                4.0.0  h9a09cb3_0            conda-forge/osx-arm64     Cached\n",
      "  + libblas             3.9.0  17_osxarm64_openblas  conda-forge/osx-arm64     Cached\n",
      "  + libbrotlicommon     1.0.9  h1a8c8d9_8            conda-forge/osx-arm64     Cached\n",
      "  + libbrotlidec        1.0.9  h1a8c8d9_8            conda-forge/osx-arm64     Cached\n",
      "  + libbrotlienc        1.0.9  h1a8c8d9_8            conda-forge/osx-arm64     Cached\n",
      "  + libcblas            3.9.0  17_osxarm64_openblas  conda-forge/osx-arm64     Cached\n",
      "  + libcxx             16.0.5  h4653b0c_0            conda-forge/osx-arm64     Cached\n",
      "  + libdeflate           1.18  h1a8c8d9_0            conda-forge/osx-arm64     Cached\n",
      "  + libexpat            2.5.0  hb7217d7_1            conda-forge/osx-arm64     Cached\n",
      "  + libffi              3.4.2  h3422bc3_5            conda-forge/osx-arm64     Cached\n",
      "  + libgfortran         5.0.0  12_2_0_hd922786_31    conda-forge/osx-arm64     Cached\n",
      "  + libgfortran5       12.2.0  h0eea778_31           conda-forge/osx-arm64     Cached\n",
      "  + libjpeg-turbo     2.1.5.1  h1a8c8d9_0            conda-forge/osx-arm64     Cached\n",
      "  + liblapack           3.9.0  17_osxarm64_openblas  conda-forge/osx-arm64     Cached\n",
      "  + libopenblas        0.3.23  openmp_hc731615_0     conda-forge/osx-arm64     Cached\n",
      "  + libpng             1.6.39  h76d750c_0            conda-forge/osx-arm64     Cached\n",
      "  + libsqlite          3.42.0  hb31c410_0            conda-forge/osx-arm64     Cached\n",
      "  + libtiff             4.5.1  h23a1a89_0            conda-forge/osx-arm64      365kB\n",
      "  + libwebp-base        1.3.0  h1a8c8d9_0            conda-forge/osx-arm64     Cached\n",
      "  + libxcb               1.15  hf346824_0            conda-forge/osx-arm64     Cached\n",
      "  + libzlib            1.2.13  h53f4e23_5            conda-forge/osx-arm64       48kB\n",
      "  + llvm-openmp        16.0.5  h1c12783_0            conda-forge/osx-arm64     Cached\n",
      "  + matplotlib          3.7.1  py311ha1ab1f8_0       conda-forge/osx-arm64     Cached\n",
      "  + matplotlib-base     3.7.1  py311h99a5f44_0       conda-forge/osx-arm64     Cached\n",
      "  + munkres             1.1.4  pyh9f0ad1d_0          conda-forge/noarch        Cached\n",
      "  + ncurses               6.4  h7ea286d_0            conda-forge/osx-arm64     Cached\n",
      "  + numpy              1.24.3  py311hb8f3215_0       conda-forge/osx-arm64     Cached\n",
      "  + openjpeg            2.5.0  hbc2ba62_2            conda-forge/osx-arm64     Cached\n",
      "  + openssl             3.1.1  h53f4e23_1            conda-forge/osx-arm64     Cached\n",
      "  + packaging            23.1  pyhd8ed1ab_0          conda-forge/noarch        Cached\n",
      "  + pillow              9.5.0  py311h095fde6_1       conda-forge/osx-arm64     Cached\n",
      "  + pip                23.1.2  pyhd8ed1ab_0          conda-forge/noarch        Cached\n",
      "  + pthread-stubs         0.4  h27ca646_1001         conda-forge/osx-arm64     Cached\n",
      "  + pyparsing           3.0.9  pyhd8ed1ab_0          conda-forge/noarch        Cached\n",
      "  + python             3.11.4  h47c9636_0_cpython    conda-forge/osx-arm64       15MB\n",
      "  + python-dateutil     2.8.2  pyhd8ed1ab_0          conda-forge/noarch        Cached\n",
      "  + python_abi           3.11  3_cp311               conda-forge/osx-arm64     Cached\n",
      "  + readline              8.2  h92ec313_1            conda-forge/osx-arm64     Cached\n",
      "  + setuptools         67.7.2  pyhd8ed1ab_0          conda-forge/noarch        Cached\n",
      "  + six                1.16.0  pyh6c4a22f_0          conda-forge/noarch        Cached\n",
      "  + tk                 8.6.12  he1e0b03_0            conda-forge/osx-arm64     Cached\n",
      "  + tornado             6.3.2  py311heffc1b2_0       conda-forge/osx-arm64     Cached\n",
      "  + tzdata              2023c  h71feb2d_0            conda-forge/noarch        Cached\n",
      "  + wheel              0.40.0  pyhd8ed1ab_0          conda-forge/noarch        Cached\n",
      "  + xorg-libxau        1.0.11  hb547adb_0            conda-forge/osx-arm64     Cached\n",
      "  + xorg-libxdmcp       1.1.3  h27ca646_0            conda-forge/osx-arm64     Cached\n",
      "  + xz                  5.2.6  h57fd34a_0            conda-forge/osx-arm64     Cached\n",
      "  + zstd                1.5.2  hf913c23_6            conda-forge/osx-arm64     Cached\n",
      "\n",
      "  Summary:\n",
      "\n",
      "  Install: 59 packages\n",
      "\n",
      "  Total download: 18MB\n",
      "\n",
      "───────────────────────────────────────────────────────────────────────────────────────\n",
      "\n",
      "\n",
      "\n",
      "Transaction starting\n"
     ]
    },
    {
     "name": "stdout",
     "output_type": "stream",
     "text": [
      "Linking xz-5.2.6-h57fd34a_0\n",
      "Linking libexpat-2.5.0-hb7217d7_1\n",
      "Linking ncurses-6.4-h7ea286d_0\n"
     ]
    },
    {
     "name": "stdout",
     "output_type": "stream",
     "text": [
      "Linking libffi-3.4.2-h3422bc3_5\n",
      "Linking libzlib-1.2.13-h53f4e23_5\n",
      "Linking ca-certificates-2023.5.7-hf0a4a13_0\n",
      "Linking libcxx-16.0.5-h4653b0c_0\n"
     ]
    },
    {
     "name": "stdout",
     "output_type": "stream",
     "text": [
      "Linking libjpeg-turbo-2.1.5.1-h1a8c8d9_0\n",
      "Linking libwebp-base-1.3.0-h1a8c8d9_0\n",
      "Linking pthread-stubs-0.4-h27ca646_1001\n",
      "Linking xorg-libxdmcp-1.1.3-h27ca646_0\n",
      "Linking python_abi-3.11-3_cp311\n",
      "Linking xorg-libxau-1.0.11-hb547adb_0\n",
      "Linking libdeflate-1.18-h1a8c8d9_0\n",
      "Linking libbrotlicommon-1.0.9-h1a8c8d9_8\n",
      "Linking llvm-openmp-16.0.5-h1c12783_0\n",
      "Linking bzip2-1.0.8-h3422bc3_4\n",
      "Linking readline-8.2-h92ec313_1\n",
      "Linking libpng-1.6.39-h76d750c_0\n",
      "Linking libsqlite-3.42.0-hb31c410_0\n",
      "Linking tk-8.6.12-he1e0b03_0\n"
     ]
    },
    {
     "name": "stdout",
     "output_type": "stream",
     "text": [
      "Linking openssl-3.1.1-h53f4e23_1\n",
      "Linking zstd-1.5.2-hf913c23_6\n",
      "Linking lerc-4.0.0-h9a09cb3_0\n",
      "Linking libxcb-1.15-hf346824_0\n"
     ]
    },
    {
     "name": "stdout",
     "output_type": "stream",
     "text": [
      "Linking libbrotlienc-1.0.9-h1a8c8d9_8\n",
      "Linking libbrotlidec-1.0.9-h1a8c8d9_8\n",
      "Linking libgfortran5-12.2.0-h0eea778_31\n",
      "Linking freetype-2.12.1-hd633e50_1\n",
      "Linking libtiff-4.5.1-h23a1a89_0\n",
      "Linking brotli-bin-1.0.9-h1a8c8d9_8\n",
      "Linking libgfortran-5.0.0-12_2_0_hd922786_31\n",
      "Linking openjpeg-2.5.0-hbc2ba62_2\n"
     ]
    },
    {
     "name": "stdout",
     "output_type": "stream",
     "text": [
      "Linking lcms2-2.15-hd835a16_1\n",
      "Linking brotli-1.0.9-h1a8c8d9_8\n",
      "Linking libopenblas-0.3.23-openmp_hc731615_0\n",
      "Linking libblas-3.9.0-17_osxarm64_openblas\n",
      "Linking libcblas-3.9.0-17_osxarm64_openblas\n",
      "Linking liblapack-3.9.0-17_osxarm64_openblas\n",
      "Linking tzdata-2023c-h71feb2d_0\n"
     ]
    },
    {
     "name": "stdout",
     "output_type": "stream",
     "text": [
      "Linking python-3.11.4-h47c9636_0_cpython\n"
     ]
    },
    {
     "name": "stdout",
     "output_type": "stream",
     "text": [
      "Linking wheel-0.40.0-pyhd8ed1ab_0\n",
      "Linking setuptools-67.7.2-pyhd8ed1ab_0\n"
     ]
    },
    {
     "name": "stdout",
     "output_type": "stream",
     "text": [
      "Linking pip-23.1.2-pyhd8ed1ab_0\n"
     ]
    },
    {
     "name": "stdout",
     "output_type": "stream",
     "text": [
      "Linking six-1.16.0-pyh6c4a22f_0\n",
      "Linking munkres-1.1.4-pyh9f0ad1d_0\n",
      "Linking pyparsing-3.0.9-pyhd8ed1ab_0\n",
      "Linking packaging-23.1-pyhd8ed1ab_0\n",
      "Linking cycler-0.11.0-pyhd8ed1ab_0\n",
      "Linking certifi-2023.5.7-pyhd8ed1ab_0\n"
     ]
    },
    {
     "name": "stdout",
     "output_type": "stream",
     "text": [
      "Linking python-dateutil-2.8.2-pyhd8ed1ab_0\n",
      "Linking tornado-6.3.2-py311heffc1b2_0\n"
     ]
    },
    {
     "name": "stdout",
     "output_type": "stream",
     "text": [
      "Linking pillow-9.5.0-py311h095fde6_1\n"
     ]
    },
    {
     "name": "stdout",
     "output_type": "stream",
     "text": [
      "Linking numpy-1.24.3-py311hb8f3215_0\n"
     ]
    },
    {
     "name": "stdout",
     "output_type": "stream",
     "text": [
      "Linking kiwisolver-1.4.4-py311hd6ee22a_1\n",
      "Linking fonttools-4.40.0-py311heffc1b2_0\n"
     ]
    },
    {
     "name": "stdout",
     "output_type": "stream",
     "text": [
      "Linking contourpy-1.1.0-py311he4fd1f5_0\n",
      "Linking matplotlib-base-3.7.1-py311h99a5f44_0\n"
     ]
    },
    {
     "name": "stdout",
     "output_type": "stream",
     "text": [
      "Linking matplotlib-3.7.1-py311ha1ab1f8_0\n"
     ]
    },
    {
     "name": "stdout",
     "output_type": "stream",
     "text": [
      "Transaction finished\n"
     ]
    },
    {
     "data": {
      "text/plain": [
       "Plots.PythonPlotBackend()"
      ]
     },
     "metadata": {},
     "output_type": "display_data"
    }
   ],
   "source": [
    "using Plots; pythonplot()"
   ]
  },
  {
   "attachments": {},
   "cell_type": "markdown",
   "metadata": {},
   "source": [
    "# X gate 3 photons"
   ]
  },
  {
   "attachments": {},
   "cell_type": "markdown",
   "metadata": {},
   "source": [
    "## SNAP & DISP"
   ]
  },
  {
   "cell_type": "code",
   "execution_count": 16,
   "metadata": {},
   "outputs": [
    {
     "data": {
      "text/plain": [
       "\"/Users/andreamaestri/Desktop/Thesis_julia/Opt3DQalgs/BTgates/plots/contour_plots/3_photons_X_contourplot_snapdisp.pdf\""
      ]
     },
     "metadata": {},
     "output_type": "display_data"
    }
   ],
   "source": [
    "infidelities_function_of_blocks = [0.0931276946116053\t\n",
    "0.061449783925865975\t\n",
    "7.665159184044867e-6]\n",
    "n_blocks = [1:1:3]\n",
    "n_gates = [1:10000]\n",
    "\n",
    "z = []\n",
    "for idx in 1:1:3\n",
    "    z_column = []\n",
    "    for col in 1:1:10000\n",
    "        z_i_col = (1-infidelities_function_of_blocks[idx])^col\n",
    "        push!(z_column,z_i_col)\n",
    "    end\n",
    "    push!(z,z_column)\n",
    "end\n",
    "\n",
    "z_matrix = hcat(z...)\n",
    "contour(n_blocks, n_gates, z_matrix, levels=20, fill=true, cbar=true,xlabel=\"Number of Blocks\", ylabel=\"Number of Gates\", zlabel=\"Fidelity\",lw=2,xtickfontsize=14, formatter = :plain,ztickfontsize=14,ytickfontsize=14,xguidefontsize=14,yguidefontsize=14,legendfontsize=14)\n",
    "n_blocks = [1:1:3]\n",
    "n_gates = [10/(i*1e-3) for i in 1:3]\n",
    "Labels = \"T1 = 10 ms\"\n",
    "plot!(n_blocks, n_gates, label=Labels, marker = :diamond,  linestyle=:dash, fmt = :PDF,xtickfontsize=14,ytickfontsize=14,xguidefontsize=14,yguidefontsize=14,legendfontsize=14)\n",
    "savefig(\"../../plots/contour_plots/3_photons_X_contourplot_snapdisp.pdf\")"
   ]
  },
  {
   "attachments": {},
   "cell_type": "markdown",
   "metadata": {},
   "source": [
    "## ECD"
   ]
  },
  {
   "cell_type": "code",
   "execution_count": 17,
   "metadata": {},
   "outputs": [
    {
     "name": "stderr",
     "output_type": "stream",
     "text": [
      "sys:1: UserWarning: The following kwargs were not used by contour: 'label'\n",
      "sys:1: UserWarning: No data for colormapping provided via 'c'. Parameters 'vmin', 'vmax' will be ignored\n"
     ]
    },
    {
     "data": {
      "text/plain": [
       "\"/Users/andreamaestri/Desktop/Thesis_julia/Opt3DQalgs/BTgates/plots/contour_plots/3_photons_X_contourplot_ECD.pdf\""
      ]
     },
     "metadata": {},
     "output_type": "display_data"
    }
   ],
   "source": [
    "infidelities_function_of_blocks = [0.1347087609920553\n",
    "0.022520618747259746\n",
    "0.0064911740961108855\n",
    "0.0008381760255905535\n",
    "1.4056789297889338e-5\n",
    "8.109915582421579e-7]\n",
    "n_blocks = [8:2:18]\n",
    "n_gates = [1:12500]\n",
    "\n",
    "z = []\n",
    "for idx in 1:1:6\n",
    "    z_column = []\n",
    "    for col in 1:1:12500\n",
    "        z_i_col = (1-infidelities_function_of_blocks[idx])^col\n",
    "        push!(z_column,z_i_col)\n",
    "    end\n",
    "    push!(z,z_column)\n",
    "end\n",
    "\n",
    "z_matrix = hcat(z...)\n",
    "contour(n_blocks, n_gates, z_matrix, levels=20, fill=true, cbar=true, clabels=false,xlabel=\"Number of Blocks\", ylabel=\"Number of Gates\", zlabel=\"Infidelity\",lw=2, fmt = :PDF, formatter = :plain, xtickfontsize=14,ztickfontsize=14,ytickfontsize=14,xguidefontsize=14,yguidefontsize=14,legendfontsize=14)\n",
    "n_blocks = [8:2:18]\n",
    "n_gates = [10/(i*1e-4) for i in 8:2:18]\n",
    "Labels = \"T1 = 10 ms\"\n",
    "plot!(n_blocks, n_gates, label=Labels, marker = :diamond,  linestyle=:dash)\n",
    "savefig(\"../../plots/contour_plots/3_photons_X_contourplot_ECD.pdf\")"
   ]
  },
  {
   "attachments": {},
   "cell_type": "markdown",
   "metadata": {},
   "source": [
    "# Rx gate"
   ]
  },
  {
   "attachments": {},
   "cell_type": "markdown",
   "metadata": {},
   "source": [
    "## SNAP & DISP"
   ]
  },
  {
   "cell_type": "code",
   "execution_count": 18,
   "metadata": {},
   "outputs": [
    {
     "name": "stderr",
     "output_type": "stream",
     "text": [
      "sys:1: UserWarning: The following kwargs were not used by contour: 'label'\n",
      "sys:1: UserWarning: No data for colormapping provided via 'c'. Parameters 'vmin', 'vmax' will be ignored\n"
     ]
    },
    {
     "data": {
      "text/plain": [
       "\"/Users/andreamaestri/Desktop/Thesis_julia/Opt3DQalgs/BTgates/plots/contour_plots/3_photons_RX_contourplot_snapdisp.pdf\""
      ]
     },
     "metadata": {},
     "output_type": "display_data"
    }
   ],
   "source": [
    "infidelities_function_of_blocks = [0.010122243379585227\t\n",
    "0.00030233095300891133\t\n",
    "1.2203375643338177e-8]\n",
    "n_blocks = [1:1:3]\n",
    "n_gates = [1:10000]\n",
    "\n",
    "z = []\n",
    "for idx in 1:1:3\n",
    "    z_column = []\n",
    "    for col in 1:1:10000\n",
    "        z_i_col = (1-infidelities_function_of_blocks[idx])^col\n",
    "        push!(z_column,z_i_col)\n",
    "    end\n",
    "    push!(z,z_column)\n",
    "end\n",
    "\n",
    "z_matrix = hcat(z...)\n",
    "contour(n_blocks, n_gates, z_matrix, levels=20, fill=true, cbar=true, clabels=false,xlabel=\"Number of Blocks\", ylabel=\"Number of Gates\", zlabel=\"Infidelity\",lw=4, fmt = :PDF, formatter = :plain, xtickfontsize=14,ztickfontsize=14,ytickfontsize=14,xguidefontsize=14,yguidefontsize=14,legendfontsize=14)\n",
    "n_blocks = [1:1:3]\n",
    "n_gates = [10/(i*1e-3) for i in 1:1:3]\n",
    "Labels = \"T1 = 10 ms\"\n",
    "plot!(n_blocks, n_gates, label=Labels, marker = :diamond, linestyle=:dash)\n",
    "savefig(\"../../plots/contour_plots/3_photons_RX_contourplot_snapdisp.pdf\")"
   ]
  },
  {
   "cell_type": "code",
   "execution_count": 19,
   "metadata": {},
   "outputs": [
    {
     "name": "stderr",
     "output_type": "stream",
     "text": [
      "sys:1: UserWarning: The following kwargs were not used by contour: 'label'\n",
      "sys:1: UserWarning: No data for colormapping provided via 'c'. Parameters 'vmin', 'vmax' will be ignored\n"
     ]
    },
    {
     "data": {
      "text/plain": [
       "\"/Users/andreamaestri/Desktop/Thesis_julia/Opt3DQalgs/BTgates/plots/contour_plots/3_photons_RX_contourplot_ECD.pdf\""
      ]
     },
     "metadata": {},
     "output_type": "display_data"
    }
   ],
   "source": [
    "infidelities_function_of_blocks = [0.02508131264553981\n",
    "0.004343051274179999\n",
    "0.00017054996465593053\n",
    "6.358242512494172e-7]\n",
    "n_blocks = [8:4:20]\n",
    "n_gates = [1:12500]\n",
    "\n",
    "z = []\n",
    "for idx in 1:1:4\n",
    "    z_column = []\n",
    "    for col in 1:1:12500\n",
    "        z_i_col = (1-infidelities_function_of_blocks[idx])^col\n",
    "        push!(z_column,z_i_col)\n",
    "    end\n",
    "    push!(z,z_column)\n",
    "end\n",
    "\n",
    "z_matrix = hcat(z...)\n",
    "contour(n_blocks, n_gates, z_matrix, levels=20, fill=true, cbar=true, clabels=false,xlabel=\"Number of Blocks\", ylabel=\"Number of Gates\", zlabel=\"Infidelity\",lw=2 , fmt = :PDF,formatter = :plain, xtickfontsize=14,ztickfontsize=14,ytickfontsize=14,xguidefontsize=14,yguidefontsize=14,legendfontsize=14)\n",
    "n_blocks = [8:4:20]\n",
    "n_gates = [10/(i*1e-4) for i in 8:4:20]\n",
    "Labels = \"T1 = 10 ms\"\n",
    "plot!(n_blocks, n_gates, label=Labels, marker = :diamond,  linestyle=:dash)\n",
    "savefig(\"../../plots/contour_plots/3_photons_RX_contourplot_ECD.pdf\")"
   ]
  },
  {
   "cell_type": "code",
   "execution_count": null,
   "metadata": {},
   "outputs": [],
   "source": []
  }
 ],
 "metadata": {
  "kernelspec": {
   "display_name": "Julia 1.8.4",
   "language": "julia",
   "name": "julia-1.8"
  },
  "language_info": {
   "file_extension": ".jl",
   "mimetype": "application/julia",
   "name": "julia",
   "version": "1.8.4"
  },
  "orig_nbformat": 4
 },
 "nbformat": 4,
 "nbformat_minor": 2
}
