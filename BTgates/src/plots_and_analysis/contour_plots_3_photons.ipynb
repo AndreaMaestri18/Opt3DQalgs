{
 "cells": [
  {
   "cell_type": "code",
   "execution_count": 1,
   "metadata": {},
   "outputs": [],
   "source": [
    "using Plots; pythonplot()\n",
    "using CSV, DataFrames, LinearAlgebra"
   ]
  },
  {
   "attachments": {},
   "cell_type": "markdown",
   "metadata": {},
   "source": [
    "# X gate 3 photons"
   ]
  },
  {
   "cell_type": "code",
   "execution_count": 18,
   "metadata": {},
   "outputs": [
    {
     "data": {
      "text/plain": [
       "6-element Vector{Int64}:\n",
       "  8\n",
       " 10\n",
       " 12\n",
       " 14\n",
       " 16\n",
       " 20"
      ]
     },
     "metadata": {},
     "output_type": "display_data"
    }
   ],
   "source": [
    "X_gate_ecd = DataFrame(CSV.File(\"../../data/X_gate/3_photons/ECD/(3,4).txt\"))\n",
    "X_gate_snap = DataFrame(CSV.File(\"../../data/X_gate/3_photons/SNAP_Disp/(3,4).txt\"))\n",
    "\n",
    "infidelities_ecd = [norm(minimum(eachrow(val).fidelity)) for val in groupby(X_gate_ecd, \"blocks\")]\n",
    "blocks_ecd = [minimum(eachrow(val).blocks) for val in groupby(X_gate_ecd, \"blocks\")]\n",
    "\n",
    "infidelities_snap_disp = [norm(minimum(eachrow(val).fidelity)) for val in groupby(X_gate_snap, \"blocks\")][1:end-2]\n",
    "blocks_snap_disp = [minimum(eachrow(val).blocks) for val in groupby(X_gate_snap, \"blocks\")][1:end-2]\n",
    "blocks_ecd"
   ]
  },
  {
   "attachments": {},
   "cell_type": "markdown",
   "metadata": {},
   "source": [
    "## SNAP & DISP"
   ]
  },
  {
   "cell_type": "code",
   "execution_count": 19,
   "metadata": {},
   "outputs": [
    {
     "data": {
      "text/plain": [
       "\"/Users/andreamaestri/Desktop/Thesis_julia/Opt3DQalgs/BTgates/plots/contour_plots/3_photons_X_contourplot.pdf\""
      ]
     },
     "metadata": {},
     "output_type": "display_data"
    }
   ],
   "source": [
    "n_gates = [1:10000]\n",
    "\n",
    "z = []\n",
    "for idx in 1:length(blocks_snap_disp)\n",
    "    z_column = []\n",
    "    for col in 1:1:10000\n",
    "        z_i_col = ((1-infidelities_snap_disp[idx])^(col))\n",
    "        push!(z_column,z_i_col)\n",
    "    end\n",
    "    push!(z,z_column)\n",
    "end\n",
    "\n",
    "z_matrix = (hcat(z...))\n",
    "contour(blocks_snap_disp, n_gates, z_matrix, levels=50, fill=true, color=:turbo, xticks = blocks_snap_disp, cbar=true, clabels=false,xlabel=\"Number of Blocks\", ylabel=\"Number of Gates\",lw=2, size=(1200,400), fmt = :PDF,formatter = :plain,xtickfontsize=20,ztickfontsize=20,ytickfontsize=20,xguidefontsize=22,yguidefontsize=22,legendfontsize=20, colorbar_tickfontsize=20, colorbar_titlefontsize=22, layout=2, subplot=1)\n",
    "n_gates = [10/(i*1e-3) for i in blocks_snap_disp]\n",
    "Labels = \"T1 = 10 ms\"\n",
    "plot!(blocks_snap_disp, n_gates, label=Labels, marker = :diamond,  linestyle=:dash, subplot=1)\n",
    "#savefig(\"../../plots/contour_plots/3_photons_X_contourplot_snapdisp.pdf\")\n",
    "\n",
    "## ECD\n",
    "\n",
    "n_gates = [1:6500]\n",
    "\n",
    "z = []\n",
    "for idx in 1:length(blocks_ecd)\n",
    "    z_column = []\n",
    "    for col in 1:6500\n",
    "        z_i_col = (1-infidelities_ecd[idx])^col\n",
    "        push!(z_column,z_i_col)\n",
    "    end\n",
    "    push!(z,z_column)\n",
    "end\n",
    "\n",
    "z_matrix = hcat(z...)\n",
    "contour!(blocks_ecd, n_gates, z_matrix, levels=50, fill=true, cbar=true,  xticks=blocks_ecd ,color=:turbo, clabels=false,xlabel=\"Number of Blocks\",lw=2, fmt = :PDF,formatter = :plain,xtickfontsize=20,ztickfontsize=20,ytickfontsize=20,xguidefontsize=22,yguidefontsize=22,legendfontsize=20, colorbar_tickfontsize=20, colorbar_titlefontsize=22, colorbar_title=\"Fidelity\",subplot=2)\n",
    "n_gates = [10/(i*2e-4) for i in blocks_ecd]\n",
    "Labels = \"T1 = 10 ms\"\n",
    "plot!(blocks_ecd, n_gates, label=Labels, marker = :diamond,  linestyle=:dash, subplot=2)\n",
    "savefig(\"../../plots/contour_plots/3_photons_X_contourplot.pdf\")"
   ]
  },
  {
   "attachments": {},
   "cell_type": "markdown",
   "metadata": {},
   "source": [
    "## ECD"
   ]
  },
  {
   "attachments": {},
   "cell_type": "markdown",
   "metadata": {},
   "source": [
    "# Rx gate"
   ]
  },
  {
   "cell_type": "code",
   "execution_count": 20,
   "metadata": {},
   "outputs": [
    {
     "data": {
      "text/plain": [
       "3-element Vector{Float64}:\n",
       " 0.003168088343223241\n",
       " 3.724224717782665e-5\n",
       " 2.0964097124931413e-10"
      ]
     },
     "metadata": {},
     "output_type": "display_data"
    }
   ],
   "source": [
    "X_gate_ecd = DataFrame(CSV.File(\"../../data/R_X/3_photons/ECD/pi_over_10.txt\"))\n",
    "X_gate_snap = DataFrame(CSV.File(\"../../data/R_X/3_photons/SNAP_Disp/pi_over_10.txt\"))\n",
    "\n",
    "infidelities_ecd = [norm(minimum(eachrow(val).fidelity)) for val in groupby(X_gate_ecd, \"blocks\")]\n",
    "blocks_ecd = [minimum(eachrow(val).blocks) for val in groupby(X_gate_ecd, \"blocks\")]\n",
    "\n",
    "infidelities_snap_disp = [norm(minimum(eachrow(val).fidelity)) for val in groupby(X_gate_snap, \"blocks\")][1:end-2]\n",
    "blocks_snap_disp = [minimum(eachrow(val).blocks) for val in groupby(X_gate_snap, \"blocks\")][1:end-2]\n",
    "infidelities_snap_disp"
   ]
  },
  {
   "attachments": {},
   "cell_type": "markdown",
   "metadata": {},
   "source": [
    "## SNAP & DISP"
   ]
  },
  {
   "cell_type": "code",
   "execution_count": 23,
   "metadata": {},
   "outputs": [
    {
     "data": {
      "text/plain": [
       "\"/Users/andreamaestri/Desktop/Thesis_julia/Opt3DQalgs/BTgates/plots/contour_plots/3_photons_RX_contourplot.pdf\""
      ]
     },
     "metadata": {},
     "output_type": "display_data"
    }
   ],
   "source": [
    "n_gates = [1:10000]\n",
    "\n",
    "z = []\n",
    "for idx in 1:1:length(blocks_snap_disp)\n",
    "    z_column = []\n",
    "    for col in 1:1:10000\n",
    "        z_i_col = (1-infidelities_snap_disp[idx])^col\n",
    "        push!(z_column,z_i_col)\n",
    "    end\n",
    "    push!(z,z_column)\n",
    "end\n",
    "\n",
    "z_matrix = hcat(z...)\n",
    "contour(blocks_snap_disp, n_gates, z_matrix, levels=50, fill=true, colour=:turbo, xticks = blocks_snap_disp, cbar=true, clabels=false,xlabel=\"Number of Blocks\", ylabel=\"Number of Gates\",lw=2, size=(1200,400), fmt = :PDF,formatter = :plain,xtickfontsize=20,ztickfontsize=20,ytickfontsize=20,xguidefontsize=22,yguidefontsize=22,legendfontsize=20, colorbar_tickfontsize=20, colorbar_titlefontsize=22, layout=2, subplot=1)\n",
    "n_gates = [10/(i*1e-3) for i in blocks_snap_disp]\n",
    "Labels = \"T1 = 10 ms\"\n",
    "plot!(blocks_snap_disp, n_gates, label=Labels, marker = :diamond, linestyle=:dash, subplot=1)\n",
    "#savefig(\"../../plots/contour_plots/3_photons_RX_contourplot_snapdisp.pdf\")\n",
    "\n",
    "n_gates = [1:6500]\n",
    "\n",
    "z = []\n",
    "for idx in 1:1:length(blocks_ecd)\n",
    "    z_column = []\n",
    "    for col in 1:1:6500\n",
    "        z_i_col = (1-infidelities_ecd[idx])^col\n",
    "        push!(z_column,z_i_col)\n",
    "    end\n",
    "    push!(z,z_column)\n",
    "end\n",
    "\n",
    "z_matrix = hcat(z...)\n",
    "contour!(blocks_ecd, n_gates, z_matrix, levels=50, color=:turbo, fill=true, xticks=blocks_ecd, clabels=false,xlabel=\"Number of Blocks\",lw=2, fmt = :PDF,formatter = :plain,xtickfontsize=20,ztickfontsize=20,ytickfontsize=20,xguidefontsize=22,yguidefontsize=22,legendfontsize=20, colorbar_tickfontsize=20, colorbar_titlefontsize=22, colorbar_title=\"Fidelity\",subplot=2)\n",
    "n_gates = [10/(i*2e-4) for i in blocks_ecd]\n",
    "Labels = \"T1 = 10 ms\"\n",
    "plot!(blocks_ecd, n_gates, label=Labels, marker = :diamond,  linestyle=:dash, subplot=2)\n",
    "savefig(\"../../plots/contour_plots/3_photons_RX_contourplot.pdf\")"
   ]
  },
  {
   "cell_type": "code",
   "execution_count": 24,
   "metadata": {},
   "outputs": [],
   "source": []
  },
  {
   "cell_type": "code",
   "execution_count": null,
   "metadata": {},
   "outputs": [],
   "source": []
  }
 ],
 "metadata": {
  "kernelspec": {
   "display_name": "Julia 1.8.4",
   "language": "julia",
   "name": "julia-1.8"
  },
  "language_info": {
   "file_extension": ".jl",
   "mimetype": "application/julia",
   "name": "julia",
   "version": "1.8.4"
  },
  "orig_nbformat": 4
 },
 "nbformat": 4,
 "nbformat_minor": 2
}
