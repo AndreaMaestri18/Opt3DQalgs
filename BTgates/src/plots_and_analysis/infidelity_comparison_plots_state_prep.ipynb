{
 "cells": [
  {
   "cell_type": "code",
   "execution_count": 2,
   "metadata": {},
   "outputs": [],
   "source": [
    "using Plots\n",
    "using Measures, CSV, DataFrames, LinearAlgebra"
   ]
  },
  {
   "attachments": {},
   "cell_type": "markdown",
   "metadata": {},
   "source": [
    "# X_GATE 3 switches 7 photons"
   ]
  },
  {
   "cell_type": "code",
   "execution_count": 67,
   "metadata": {},
   "outputs": [
    {
     "data": {
      "text/plain": [
       "10-element Vector{Float64}:\n",
       " 0.05556781798190935\n",
       " 0.04260707412118281\n",
       " 0.034141861812280294\n",
       " 0.020353007095726627\n",
       " 0.008319987257791706\n",
       " 0.002669146386115928\n",
       " 0.0007606809388375213\n",
       " 7.616129948928574e-14\n",
       " 6.417089082333405e-14\n",
       " 3.9968028886505635e-14"
      ]
     },
     "metadata": {},
     "output_type": "display_data"
    }
   ],
   "source": [
    "X_gate_ecd = DataFrame(CSV.File(\"../../data/state_prep/7_photons/ECD/x_gate.txt\"))\n",
    "X_gate_snap = DataFrame(CSV.File(\"../../data/state_prep/7_photons/snap_disp/x_gate.txt\"))\n",
    "k_gate_ecd = DataFrame(CSV.File(\"../../data/state_prep/7_photons/ECD/k_gate.txt\"))\n",
    "k_gate_snap = DataFrame(CSV.File(\"../../data/state_prep/7_photons/snap_disp/k_gate.txt\"))\n",
    "superposition_gate_ecd = DataFrame(CSV.File(\"../../data/state_prep/7_photons/ECD/superposition_gate.txt\"))\n",
    "superposition_gate_snap = DataFrame(CSV.File(\"../../data/state_prep/7_photons/snap_disp/superposition_gate.txt\"))\n",
    "rx_gate_ecd = DataFrame(CSV.File(\"../../data/state_prep/7_photons/ECD/rx_gate.txt\"))\n",
    "rx_gate_snap = DataFrame(CSV.File(\"../../data/state_prep/7_photons/snap_disp/rx_gate.txt\"))\n",
    "u2_gate_ecd = DataFrame(CSV.File(\"../../data/state_prep/7_photons/ECD/u_gate.txt\"))\n",
    "u2_gate_snap = DataFrame(CSV.File(\"../../data/state_prep/7_photons/snap_disp/u_gate.txt\"))\n",
    "\n",
    "infidelities_ecd_x = [if norm(minimum(eachrow(val).fidelity))!= 0 norm(minimum(eachrow(val).fidelity)) else 1e-16 end for val in groupby(X_gate_ecd, \"blocks\")]\n",
    "blocks_ecd_x = [minimum(eachrow(val).blocks) for val in groupby(X_gate_ecd, \"blocks\")]\n",
    "infidelities_snap_disp_x = [if norm(minimum(eachrow(val).fidelity))!= 0 norm(minimum(eachrow(val).fidelity)) else 1e-16 end for val in groupby(X_gate_snap, \"blocks\")]\n",
    "blocks_snap_disp_x = [minimum(eachrow(val).blocks) for val in groupby(X_gate_snap, \"blocks\")]\n",
    "\n",
    "infidelities_ecd_rx = [if norm(minimum(eachrow(val).fidelity))!= 0 norm(minimum(eachrow(val).fidelity)) else 1e-16 end for val in groupby(rx_gate_ecd, \"blocks\")]\n",
    "blocks_ecd_rx = [minimum(eachrow(val).blocks) for val in groupby(rx_gate_ecd, \"blocks\")]\n",
    "infidelities_snap_disp_rx = [if norm(minimum(eachrow(val).fidelity))!= 0 norm(minimum(eachrow(val).fidelity)) else 1e-16 end for val in groupby(rx_gate_snap, \"blocks\")]\n",
    "blocks_snap_disp_rx = [minimum(eachrow(val).blocks) for val in groupby(rx_gate_snap, \"blocks\")]\n",
    "\n",
    "infidelities_ecd_k = [if norm(minimum(eachrow(val).fidelity))!= 0 norm(minimum(eachrow(val).fidelity)) else 1e-16 end for val in groupby(k_gate_ecd, \"blocks\")]\n",
    "blocks_ecd_k = [minimum(eachrow(val).blocks) for val in groupby(k_gate_ecd, \"blocks\")]\n",
    "infidelities_snap_disp_k = [if norm(minimum(eachrow(val).fidelity))!= 0 norm(minimum(eachrow(val).fidelity)) else 1e-16 end for val in groupby(k_gate_snap, \"blocks\")]\n",
    "blocks_snap_disp_k = [minimum(eachrow(val).blocks) for val in groupby(k_gate_snap, \"blocks\")]\n",
    "\n",
    "infidelities_ecd_u = [if norm(minimum(eachrow(val).fidelity))!= 0 norm(minimum(eachrow(val).fidelity)) else 1e-16 end for val in groupby(u2_gate_ecd, \"blocks\")]\n",
    "blocks_ecd_u = [minimum(eachrow(val).blocks) for val in groupby(u2_gate_ecd, \"blocks\")]\n",
    "infidelities_snap_disp_u = [if norm(minimum(eachrow(val).fidelity))!= 0 norm(minimum(eachrow(val).fidelity)) else 1e-16 end for val in groupby(u2_gate_snap, \"blocks\")]\n",
    "blocks_snap_disp_u = [minimum(eachrow(val).blocks) for val in groupby(u2_gate_snap, \"blocks\")]\n",
    "\n",
    "infidelities_ecd_superposition = [if norm(minimum(eachrow(val).fidelity))!= 0 norm(minimum(eachrow(val).fidelity)) else 1e-16 end for val in groupby(superposition_gate_ecd, \"blocks\")]\n",
    "blocks_ecd_superposition = [minimum(eachrow(val).blocks) for val in groupby(superposition_gate_ecd, \"blocks\")]\n",
    "infidelities_snap_disp_superposition = [if norm(minimum(eachrow(val).fidelity))!= 0 norm(minimum(eachrow(val).fidelity)) else 1e-16 end for val in groupby(superposition_gate_snap, \"blocks\")]\n",
    "blocks_snap_disp_superposition = [minimum(eachrow(val).blocks) for val in groupby(superposition_gate_snap, \"blocks\")]\n",
    "\n",
    "infidelities_ecd_x"
   ]
  },
  {
   "cell_type": "code",
   "execution_count": 70,
   "metadata": {},
   "outputs": [
    {
     "data": {
      "text/plain": [
       "\"/Users/andreamaestri/Desktop/Thesis_julia/Opt3DQalgs/BTgates/src/plots_and_analysis/state_prep_7_photons.pdf\""
      ]
     },
     "metadata": {},
     "output_type": "display_data"
    }
   ],
   "source": [
    "plot(blocks_ecd_x,infidelities_ecd_x, label= \"X gate\", linestyle=:dash, marker = :circle, xlabel=\"Blocks\", ylabel=\"Infidelity\", xtickfontsize=12, xguidefontsize=14, ytickfontsize=12, yguidefontsize=14, legendfontsize=11, fmt = :PDF, yaxis=:log, legend=:bottomleft, size=(1000,300), margin=6mm, layout=2, subplot=1)\n",
    "plot!(blocks_ecd_rx[1:end-1],infidelities_ecd_rx[1:end-1], label= \"Rx gate\", linestyle=:dash, marker = :circle, xlabel=\"Blocks\", ylabel=\"Infidelity\", xtickfontsize=12, xguidefontsize=14, ytickfontsize=12, yguidefontsize=14, legendfontsize=11, fmt = :PDF, yaxis=:log, legend=:bottomleft, size=(1000,300), margin=6mm, subplot=1)\n",
    "plot!(blocks_ecd_superposition,infidelities_ecd_superposition, label= \"0 -> sup\", linestyle=:dash, marker = :circle, xlabel=\"Blocks\", ylabel=\"Infidelity\", xtickfontsize=12, xguidefontsize=14, ytickfontsize=12, yguidefontsize=14, legendfontsize=11, fmt = :PDF, yaxis=:log, legend=:bottomleft, size=(1000,300), margin=6mm, subplot=1)\n",
    "plot!(blocks_ecd_k,infidelities_ecd_k, label= \"0 -> k\", linestyle=:dash, marker = :circle, xlabel=\"Blocks\", ylabel=\"Infidelity\", xtickfontsize=12, xguidefontsize=14, ytickfontsize=12, yguidefontsize=14, legendfontsize=11, fmt = :PDF, yaxis=:log, legend=:bottomleft, size=(1000,300), margin=6mm, subplot=1)\n",
    "plot!(blocks_ecd_u,infidelities_ecd_u, label= \"U2 gate\", linestyle=:dash, marker = :circle, xlabel=\"Blocks\", ylabel=\"Infidelity\", xtickfontsize=12, xguidefontsize=14, ytickfontsize=12, yguidefontsize=14, legendfontsize=11, fmt = :PDF, yaxis=:log, legend=:bottomleft, size=(1000,300), margin=6mm, subplot=1)\n",
    "plot!(blocks_snap_disp_x,infidelities_snap_disp_x, label= \"X gate\", linestyle=:dash, marker = :circle, xlabel=\"Blocks\", ylabel=\"Infidelity\", xtickfontsize=12, xguidefontsize=14, ytickfontsize=12, yguidefontsize=14, legendfontsize=11, fmt = :PDF, yaxis=:log, subplot=2)\n",
    "plot!(blocks_snap_disp_rx,infidelities_snap_disp_rx, label= \"Rx gate\", linestyle=:dash, marker = :circle, xlabel=\"Blocks\", ylabel=\"Infidelity\", xtickfontsize=12, xguidefontsize=14, ytickfontsize=12, yguidefontsize=14, legendfontsize=11, fmt = :PDF, yaxis=:log, subplot=2)\n",
    "plot!(blocks_snap_disp_superposition,infidelities_snap_disp_superposition, label= \"0 -> sup\", linestyle=:dash, marker = :circle, xlabel=\"Blocks\", ylabel=\"Infidelity\", xtickfontsize=12, xguidefontsize=14, ytickfontsize=12, yguidefontsize=14, legendfontsize=11, fmt = :PDF, yaxis=:log, subplot=2)\n",
    "plot!(blocks_snap_disp_k,infidelities_snap_disp_k, label= \"0 -> k\", linestyle=:dash, marker = :circle, xlabel=\"Blocks\", ylabel=\"Infidelity\", xtickfontsize=12, xguidefontsize=14, ytickfontsize=12, yguidefontsize=14, legendfontsize=11, fmt = :PDF, yaxis=:log, subplot=2)\n",
    "plot!(blocks_snap_disp_u,infidelities_snap_disp_u, label= \"U2 gate\", linestyle=:dash, marker = :circle, xlabel=\"Blocks\", ylabel=\"Infidelity\", xtickfontsize=12, xguidefontsize=14, ytickfontsize=12, yguidefontsize=14, legendfontsize=11, fmt = :PDF, yaxis=:log, subplot=2)\n",
    "savefig(\"state_prep_7_photons.pdf\")"
   ]
  },
  {
   "cell_type": "code",
   "execution_count": null,
   "metadata": {},
   "outputs": [],
   "source": []
  }
 ],
 "metadata": {
  "kernelspec": {
   "display_name": "Julia 1.8.4",
   "language": "julia",
   "name": "julia-1.8"
  },
  "language_info": {
   "file_extension": ".jl",
   "mimetype": "application/julia",
   "name": "julia",
   "version": "1.8.4"
  },
  "orig_nbformat": 4,
  "vscode": {
   "interpreter": {
    "hash": "40d3a090f54c6569ab1632332b64b2c03c39dcf918b08424e98f38b5ae0af88f"
   }
  }
 },
 "nbformat": 4,
 "nbformat_minor": 2
}
