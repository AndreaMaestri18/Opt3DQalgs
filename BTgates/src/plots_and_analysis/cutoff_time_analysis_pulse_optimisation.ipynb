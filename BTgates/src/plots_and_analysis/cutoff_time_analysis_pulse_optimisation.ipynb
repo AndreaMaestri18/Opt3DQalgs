{
 "cells": [
  {
   "cell_type": "code",
   "execution_count": 2,
   "metadata": {},
   "outputs": [],
   "source": [
    "using Plots\n",
    "using Measures"
   ]
  },
  {
   "cell_type": "code",
   "execution_count": 45,
   "metadata": {},
   "outputs": [
    {
     "data": {
      "text/plain": [
       "infidelity_vs_number_of_gates (generic function with 3 methods)"
      ]
     },
     "metadata": {},
     "output_type": "display_data"
    }
   ],
   "source": [
    "function infidelity_vs_number_of_gates(infidelity, cutofftime, duration, save = false, savename=\"\")\n",
    "    N = Int(cutofftime / duration)\n",
    "    infidelities = []\n",
    "    for i in 1:1:N + N/5\n",
    "        push!(infidelities, (1-infidelity)^i)\n",
    "    end\n",
    "    if save\n",
    "        plot(1:1:N + N/5, infidelities,label= \"Fidelity vs N gates\", xlabel=\"Number of gates\", ylabel=\"Fidelity\", fmt = :PDF,xticks = 0:N/8:N+ N/5, size=(600,300), margin=1mm, formatter = :plain)\n",
    "        plot!([N], seriestype=\"vline\", label = \"Cut-off time, 10ms\")\n",
    "        savefig(savename)\n",
    "    else \n",
    "        plot(1:1:N + N/5, infidelities,label= \"Fidelity vs N gates\", xlabel=\"Number of gates\", ylabel=\"Fidelity\", fmt = :PDF,xticks = 0:N/8:N+ N/5, size=(600,300), margin=1mm, formatter = :plain,)\n",
    "        plot!([N], seriestype=\"vline\", label = \"Cut-off time, 10ms\")\n",
    "    end\n",
    "end"
   ]
  },
  {
   "attachments": {},
   "cell_type": "markdown",
   "metadata": {},
   "source": [
    "## 7 photons 3X pulse optimisation"
   ]
  },
  {
   "cell_type": "code",
   "execution_count": 44,
   "metadata": {},
   "outputs": [
    {
     "data": {
      "text/plain": [
       "\"/Users/andreamaestri/Desktop/Thesis_julia/BTgates/src/plots_and_analysis/fidelityanalysis_3x_7photons_pulseoptimisation_zoommed.pdf\""
      ]
     },
     "metadata": {},
     "output_type": "display_data"
    }
   ],
   "source": [
    "infidelity_vs_number_of_gates(1e-2, 100, 0.5, true, \"fidelityanalysis_3x_7photons_pulseoptimisation_zoommed.pdf\")"
   ]
  },
  {
   "cell_type": "code",
   "execution_count": null,
   "metadata": {},
   "outputs": [],
   "source": []
  }
 ],
 "metadata": {
  "kernelspec": {
   "display_name": "Julia 1.8.4",
   "language": "julia",
   "name": "julia-1.8"
  },
  "language_info": {
   "file_extension": ".jl",
   "mimetype": "application/julia",
   "name": "julia",
   "version": "1.8.4"
  },
  "orig_nbformat": 4
 },
 "nbformat": 4,
 "nbformat_minor": 2
}
